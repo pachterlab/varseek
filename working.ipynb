{
 "cells": [
  {
   "cell_type": "code",
   "execution_count": 1,
   "metadata": {},
   "outputs": [],
   "source": [
    "import inspect\n",
    "import re\n",
    "import varseek as vk"
   ]
  },
  {
   "cell_type": "code",
   "execution_count": 10,
   "metadata": {},
   "outputs": [
    {
     "name": "stderr",
     "output_type": "stream",
     "text": [
      "[W::vcf_parse] Contig '19' is not defined in the header. (Quick workaround: index the file with tabix.)\n",
      "[W::vcf_parse] Contig '20' is not defined in the header. (Quick workaround: index the file with tabix.)\n",
      "[W::vcf_parse] Contig 'X' is not defined in the header. (Quick workaround: index the file with tabix.)\n"
     ]
    }
   ],
   "source": [
    "from varseek.utils import vcf_to_dataframe\n",
    "vcf_file_path = \"/Users/joeyrich/Downloads/sample.vcf\"\n",
    "vcf_df = vcf_to_dataframe(vcf_file_path, additional_columns = True, explode_alt = True)"
   ]
  },
  {
   "cell_type": "code",
   "execution_count": 11,
   "metadata": {},
   "outputs": [],
   "source": [
    "import pandas as pd\n",
    "\n"
   ]
  },
  {
   "cell_type": "code",
   "execution_count": 12,
   "metadata": {},
   "outputs": [
    {
     "data": {
      "text/html": [
       "<div>\n",
       "<style scoped>\n",
       "    .dataframe tbody tr th:only-of-type {\n",
       "        vertical-align: middle;\n",
       "    }\n",
       "\n",
       "    .dataframe tbody tr th {\n",
       "        vertical-align: top;\n",
       "    }\n",
       "\n",
       "    .dataframe thead th {\n",
       "        text-align: right;\n",
       "    }\n",
       "</style>\n",
       "<table border=\"1\" class=\"dataframe\">\n",
       "  <thead>\n",
       "    <tr style=\"text-align: right;\">\n",
       "      <th></th>\n",
       "      <th>POS</th>\n",
       "      <th>REF</th>\n",
       "      <th>ALT</th>\n",
       "      <th>mut_column</th>\n",
       "    </tr>\n",
       "  </thead>\n",
       "  <tbody>\n",
       "    <tr>\n",
       "      <th>0</th>\n",
       "      <td>111</td>\n",
       "      <td>A</td>\n",
       "      <td>C</td>\n",
       "      <td>g.111A&gt;C</td>\n",
       "    </tr>\n",
       "    <tr>\n",
       "      <th>1</th>\n",
       "      <td>112</td>\n",
       "      <td>A</td>\n",
       "      <td>G</td>\n",
       "      <td>g.112A&gt;G</td>\n",
       "    </tr>\n",
       "    <tr>\n",
       "      <th>2</th>\n",
       "      <td>14370</td>\n",
       "      <td>G</td>\n",
       "      <td>A</td>\n",
       "      <td>g.14370G&gt;A</td>\n",
       "    </tr>\n",
       "    <tr>\n",
       "      <th>3</th>\n",
       "      <td>17330</td>\n",
       "      <td>T</td>\n",
       "      <td>A</td>\n",
       "      <td>g.17330T&gt;A</td>\n",
       "    </tr>\n",
       "    <tr>\n",
       "      <th>4</th>\n",
       "      <td>1110696</td>\n",
       "      <td>A</td>\n",
       "      <td>G</td>\n",
       "      <td>g.1110696A&gt;G</td>\n",
       "    </tr>\n",
       "    <tr>\n",
       "      <th>5</th>\n",
       "      <td>1110696</td>\n",
       "      <td>A</td>\n",
       "      <td>T</td>\n",
       "      <td>g.1110696A&gt;T</td>\n",
       "    </tr>\n",
       "    <tr>\n",
       "      <th>6</th>\n",
       "      <td>1230237</td>\n",
       "      <td>T</td>\n",
       "      <td>None</td>\n",
       "      <td>g.UNKNOWN</td>\n",
       "    </tr>\n",
       "    <tr>\n",
       "      <th>7</th>\n",
       "      <td>1234567</td>\n",
       "      <td>G</td>\n",
       "      <td>GA</td>\n",
       "      <td>g.1234567_1234568insA</td>\n",
       "    </tr>\n",
       "    <tr>\n",
       "      <th>8</th>\n",
       "      <td>1234567</td>\n",
       "      <td>G</td>\n",
       "      <td>GAC</td>\n",
       "      <td>g.1234567_1234568insAC</td>\n",
       "    </tr>\n",
       "    <tr>\n",
       "      <th>9</th>\n",
       "      <td>1235237</td>\n",
       "      <td>T</td>\n",
       "      <td>None</td>\n",
       "      <td>g.UNKNOWN</td>\n",
       "    </tr>\n",
       "    <tr>\n",
       "      <th>10</th>\n",
       "      <td>10</td>\n",
       "      <td>AC</td>\n",
       "      <td>A</td>\n",
       "      <td>g.11del</td>\n",
       "    </tr>\n",
       "    <tr>\n",
       "      <th>11</th>\n",
       "      <td>10</td>\n",
       "      <td>AC</td>\n",
       "      <td>ATG</td>\n",
       "      <td>g.10_11delinsATG</td>\n",
       "    </tr>\n",
       "  </tbody>\n",
       "</table>\n",
       "</div>"
      ],
      "text/plain": [
       "        POS REF   ALT              mut_column\n",
       "0       111   A     C                g.111A>C\n",
       "1       112   A     G                g.112A>G\n",
       "2     14370   G     A              g.14370G>A\n",
       "3     17330   T     A              g.17330T>A\n",
       "4   1110696   A     G            g.1110696A>G\n",
       "5   1110696   A     T            g.1110696A>T\n",
       "6   1230237   T  None               g.UNKNOWN\n",
       "7   1234567   G    GA   g.1234567_1234568insA\n",
       "8   1234567   G   GAC  g.1234567_1234568insAC\n",
       "9   1235237   T  None               g.UNKNOWN\n",
       "10       10  AC     A                 g.11del\n",
       "11       10  AC   ATG        g.10_11delinsATG"
      ]
     },
     "execution_count": 12,
     "metadata": {},
     "output_type": "execute_result"
    }
   ],
   "source": [
    "vcf_df[[\"POS\", \"REF\", \"ALT\", mut_column]]"
   ]
  },
  {
   "cell_type": "code",
   "execution_count": 7,
   "metadata": {},
   "outputs": [
    {
     "name": "stdout",
     "output_type": "stream",
     "text": [
      "Default value of k: 54\n"
     ]
    }
   ],
   "source": [
    "import inspect\n",
    "from varseek.varseek_build import build  # Import the function\n",
    "\n",
    "# Get function signature\n",
    "signature = inspect.signature(build)\n",
    "\n",
    "# Retrieve the default value for 'k'\n",
    "k_default = signature.parameters[\"w\"].default\n",
    "\n",
    "print(f\"Default value of k: {k_default}\")\n"
   ]
  },
  {
   "cell_type": "code",
   "execution_count": 19,
   "metadata": {},
   "outputs": [
    {
     "name": "stdout",
     "output_type": "stream",
     "text": [
      "Toy DataFrame:\n",
      "   semicolon_count\n",
      "0                0\n",
      "1                0\n",
      "2                1\n",
      "3                2\n",
      "4                3\n",
      "\n",
      "Total Sum: 9\n"
     ]
    }
   ],
   "source": [
    "import pandas as pd\n",
    "\n",
    "# Create a toy DataFrame\n",
    "data = {\"semicolon_count\": [0, 0, 1, 2, 3]}\n",
    "mutation_metadata_df = pd.DataFrame(data)\n",
    "\n",
    "# Compute the sum as per your requirement\n",
    "total_sum = (mutation_metadata_df.loc[mutation_metadata_df[\"semicolon_count\"] > 0, \"semicolon_count\"] + 1).sum()\n",
    "\n",
    "print(\"Toy DataFrame:\")\n",
    "print(mutation_metadata_df)\n",
    "print(\"\\nTotal Sum:\", total_sum)\n"
   ]
  },
  {
   "cell_type": "code",
   "execution_count": 9,
   "metadata": {},
   "outputs": [
    {
     "ename": "TypeError",
     "evalue": "'Signature' object is not iterable",
     "output_type": "error",
     "traceback": [
      "\u001b[0;31m---------------------------------------------------------------------------\u001b[0m",
      "\u001b[0;31mTypeError\u001b[0m                                 Traceback (most recent call last)",
      "Cell \u001b[0;32mIn[9], line 1\u001b[0m\n\u001b[0;32m----> 1\u001b[0m \u001b[38;5;28;01mfor\u001b[39;00m key \u001b[38;5;129;01min\u001b[39;00m signature:\n\u001b[1;32m      2\u001b[0m     \u001b[38;5;28mprint\u001b[39m(\u001b[38;5;124mf\u001b[39m\u001b[38;5;124m\"\u001b[39m\u001b[38;5;124mParameter: \u001b[39m\u001b[38;5;132;01m{\u001b[39;00mkey\u001b[38;5;132;01m}\u001b[39;00m\u001b[38;5;124m\"\u001b[39m)\n\u001b[1;32m      3\u001b[0m     \u001b[38;5;28mprint\u001b[39m(\u001b[38;5;124mf\u001b[39m\u001b[38;5;124m\"\u001b[39m\u001b[38;5;124mDefault: \u001b[39m\u001b[38;5;132;01m{\u001b[39;00msignature\u001b[38;5;241m.\u001b[39mparameters[key]\u001b[38;5;241m.\u001b[39mdefault\u001b[38;5;132;01m}\u001b[39;00m\u001b[38;5;124m\"\u001b[39m)\n",
      "\u001b[0;31mTypeError\u001b[0m: 'Signature' object is not iterable"
     ]
    }
   ],
   "source": [
    "for key in signature:\n",
    "    print(f\"Parameter: {key}\")\n",
    "    print(f\"Default: {signature.parameters[key].default}\")\n",
    "    print(f\"Type: {signature.parameters[key].annotation}\")\n",
    "    print(f\"Description: {signature.parameters[key].annotation.__doc__}\")\n",
    "    print()\n",
    "    print()"
   ]
  },
  {
   "cell_type": "code",
   "execution_count": null,
   "metadata": {},
   "outputs": [],
   "source": [
    "explicit_parameters_vk_build = vk.utils.get_set_of_parameters_from_function_signature(vk.varseek_build.build)\n",
    "allowable_kwargs_vk_build = vk.utils.get_set_of_allowable_kwargs(vk.varseek_build.build)\n",
    "explicit_parameters_vk_build = explicit_parameters_vk_build.union(allowable_kwargs_vk_build)"
   ]
  },
  {
   "cell_type": "code",
   "execution_count": 5,
   "metadata": {},
   "outputs": [
    {
     "data": {
      "text/plain": [
       "{1, 2, 3, 4, 5}"
      ]
     },
     "execution_count": 5,
     "metadata": {},
     "output_type": "execute_result"
    }
   ],
   "source": [
    "if not isinstance(value, int) and not (isinstance(value, str) and value.isdigit()):\n",
    "    print(\"Value is not an integer or a string that can be converted to an integer\")"
   ]
  },
  {
   "cell_type": "code",
   "execution_count": 4,
   "metadata": {},
   "outputs": [
    {
     "data": {
      "text/plain": [
       "{'cosmic_email',\n",
       " 'cosmic_grch',\n",
       " 'cosmic_password',\n",
       " 'cosmic_release',\n",
       " 'insertion_size_limit',\n",
       " 'merge_identical',\n",
       " 'min_seq_len',\n",
       " 'optimize_flanking_regions',\n",
       " 'remove_seqs_with_wt_kmers',\n",
       " 'replace_original_headers',\n",
       " 'required_insertion_overlap_length',\n",
       " 'save_files',\n",
       " 'vcrs_strandedness'}"
      ]
     },
     "execution_count": 4,
     "metadata": {},
     "output_type": "execute_result"
    }
   ],
   "source": [
    "allowable_kwargs_vk_build"
   ]
  },
  {
   "cell_type": "code",
   "execution_count": 3,
   "metadata": {},
   "outputs": [
    {
     "data": {
      "text/plain": [
       "{'dry_run',\n",
       " 'filtering_report_text_out',\n",
       " 'gtf',\n",
       " 'gtf_transcript_id_column',\n",
       " 'id_to_header_csv_out',\n",
       " 'k',\n",
       " 'max_ambiguous',\n",
       " 'mcrs_fasta_out',\n",
       " 'mcrs_t2g_out',\n",
       " 'mut_column',\n",
       " 'mut_id_column',\n",
       " 'mutations',\n",
       " 'mutations_updated_csv_out',\n",
       " 'out',\n",
       " 'overwrite',\n",
       " 'reference_out_dir',\n",
       " 'removed_variants_text_out',\n",
       " 'return_mutation_output',\n",
       " 'save_filtering_report_text',\n",
       " 'save_mutations_updated_csv',\n",
       " 'save_removed_variants_text',\n",
       " 'save_wt_mcrs_fasta_and_t2g',\n",
       " 'seq_id_column',\n",
       " 'sequences',\n",
       " 'store_full_sequences',\n",
       " 'translate',\n",
       " 'translate_end',\n",
       " 'translate_start',\n",
       " 'verbose',\n",
       " 'w',\n",
       " 'wt_mcrs_fasta_out',\n",
       " 'wt_mcrs_t2g_out'}"
      ]
     },
     "execution_count": 3,
     "metadata": {},
     "output_type": "execute_result"
    }
   ],
   "source": [
    "explicit_parameters_vk_build"
   ]
  }
 ],
 "metadata": {
  "kernelspec": {
   "display_name": "varseek",
   "language": "python",
   "name": "python3"
  },
  "language_info": {
   "codemirror_mode": {
    "name": "ipython",
    "version": 3
   },
   "file_extension": ".py",
   "mimetype": "text/x-python",
   "name": "python",
   "nbconvert_exporter": "python",
   "pygments_lexer": "ipython3",
   "version": "3.10.16"
  }
 },
 "nbformat": 4,
 "nbformat_minor": 2
}
