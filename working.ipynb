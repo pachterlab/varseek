{
 "cells": [
  {
   "cell_type": "code",
   "execution_count": 35,
   "metadata": {},
   "outputs": [
    {
     "name": "stdout",
     "output_type": "stream",
     "text": [
      "     mutation   gene mutation_cdna\n",
      "0     p.R175H   TP53      c.524G>A\n",
      "1  c.5266dupC  BRCA1    c.5266dupC\n",
      "2     p.L858R   EGFR     c.2573T>G\n",
      "3     p.V600E   BRAF              \n"
     ]
    }
   ],
   "source": [
    "import pandas as pd\n",
    "\n",
    "# Example original DataFrame\n",
    "df_original = pd.DataFrame({\n",
    "    'mutation': ['p.R175H', 'c.5266dupC', 'p.L858R', 'p.V600E'],\n",
    "    'gene': ['TP53', 'BRCA1', 'EGFR', 'BRAF']\n",
    "})\n",
    "\n",
    "# Example df with mutation_cdna mapping\n",
    "df = pd.DataFrame({\n",
    "    'mutation': ['p.R175H', 'c.5266dupC', 'p.L858R'],\n",
    "    'mutation_cdna': ['c.524G>A', 'c.5266dupC', 'c.2573T>G']\n",
    "})\n",
    "\n",
    "# Merge on 'mutation' column, keeping all rows from df_original\n",
    "df_merged = df_original.merge(df[['mutation', 'mutation_cdna']], on='mutation', how='left')\n",
    "\n",
    "# Fill missing mutation_cdna values with an empty string if needed\n",
    "df_merged['mutation_cdna'] = df_merged['mutation_cdna'].fillna('')\n",
    "\n",
    "print(df_merged)\n"
   ]
  },
  {
   "cell_type": "code",
   "execution_count": 17,
   "metadata": {},
   "outputs": [
    {
     "name": "stdout",
     "output_type": "stream",
     "text": [
      "Time taken: 1.6109421253204346 seconds\n"
     ]
    }
   ],
   "source": [
    "import time\n",
    "start_time = time.time()\n",
    "variants = [\"1\"] * 1_000_000_000\n",
    "end_time = time.time()\n",
    "print(f\"Time taken: {end_time - start_time} seconds\")"
   ]
  },
  {
   "cell_type": "code",
   "execution_count": 27,
   "metadata": {},
   "outputs": [
    {
     "name": "stdout",
     "output_type": "stream",
     "text": [
      "    Gene    Mutation  Frequency\n",
      "0   TP53     p.R175H       0.30\n",
      "1  BRCA1  c.5266dupC       0.15\n",
      "2   EGFR     p.L858R       0.40\n"
     ]
    }
   ],
   "source": [
    "import pandas as pd\n",
    "\n",
    "# Create a toy DataFrame\n",
    "variants = pd.DataFrame({\n",
    "    'Gene': ['TP53', 'BRCA1', 'EGFR'],\n",
    "    'Mutation': ['p.R175H', 'c.5266dupC', 'p.L858R'],\n",
    "    'Frequency': [0.3, 0.15, 0.4]\n",
    "})\n",
    "\n",
    "# Rename the variable\n",
    "mutations = variants\n",
    "del variants  # Optional\n"
   ]
  }
 ],
 "metadata": {
  "kernelspec": {
   "display_name": "varseek",
   "language": "python",
   "name": "python3"
  },
  "language_info": {
   "codemirror_mode": {
    "name": "ipython",
    "version": 3
   },
   "file_extension": ".py",
   "mimetype": "text/x-python",
   "name": "python",
   "nbconvert_exporter": "python",
   "pygments_lexer": "ipython3",
   "version": "3.10.16"
  }
 },
 "nbformat": 4,
 "nbformat_minor": 2
}
