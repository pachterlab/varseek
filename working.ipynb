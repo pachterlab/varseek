{
 "cells": [
  {
   "cell_type": "code",
   "execution_count": 1,
   "metadata": {},
   "outputs": [],
   "source": [
    "import sys\n",
    "import importlib\n",
    "\n",
    "# Remove the module from sys.modules\n",
    "if 'varseek.build' in sys.modules:\n",
    "    del sys.modules['varseek.build']\n",
    "\n",
    "# Import the module and reload it\n",
    "import varseek.varseek_build\n",
    "importlib.reload(varseek.varseek_build)\n",
    "import varseek as vk\n",
    "\n",
    "# instead of using vk.build() as before, I must explicitely use vk.varseek_build.build()"
   ]
  },
  {
   "cell_type": "code",
   "execution_count": null,
   "metadata": {},
   "outputs": [],
   "source": [
    "vk.varseek_build.build(\n",
    "    variants=\"cosmic_cmc\",\n",
    "    sequences=\"cdna\",\n",
    "    out=\"trash/vk_build_test\",\n",
    "    gtf=True,\n",
    "    required_insertion_overlap_length=None,  #!!! erase this line eventually\n",
    ")"
   ]
  }
 ],
 "metadata": {
  "kernelspec": {
   "display_name": "varseek",
   "language": "python",
   "name": "python3"
  },
  "language_info": {
   "codemirror_mode": {
    "name": "ipython",
    "version": 3
   },
   "file_extension": ".py",
   "mimetype": "text/x-python",
   "name": "python",
   "nbconvert_exporter": "python",
   "pygments_lexer": "ipython3",
   "version": "3.10.16"
  }
 },
 "nbformat": 4,
 "nbformat_minor": 2
}
