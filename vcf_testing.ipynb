{
 "cells": [
  {
   "cell_type": "code",
   "execution_count": 1,
   "metadata": {},
   "outputs": [],
   "source": [
    "from varseek.utils import vcf_to_dataframe, generate_mutation_notation_from_vcf_columns\n",
    "import pandas as pd"
   ]
  },
  {
   "cell_type": "code",
   "execution_count": 3,
   "metadata": {},
   "outputs": [
    {
     "name": "stderr",
     "output_type": "stream",
     "text": [
      "[W::vcf_parse] Contig '19' is not defined in the header. (Quick workaround: index the file with tabix.)\n",
      "[W::vcf_parse_filter] FILTER 'FAIL' is not defined in the header\n",
      "[W::vcf_parse] Contig '' is not defined in the header. (Quick workaround: index the file with tabix.)\n",
      "[W::bcf_hrec_check] Invalid contig name: \"\"\n"
     ]
    },
    {
     "ename": "ValueError",
     "evalue": "Error extracting ID",
     "output_type": "error",
     "traceback": [
      "\u001b[0;31m---------------------------------------------------------------------------\u001b[0m",
      "\u001b[0;31mValueError\u001b[0m                                Traceback (most recent call last)",
      "Cell \u001b[0;32mIn[3], line 6\u001b[0m\n\u001b[1;32m      3\u001b[0m var_id_column \u001b[38;5;241m=\u001b[39m \u001b[38;5;124m\"\u001b[39m\u001b[38;5;124mvariant_id\u001b[39m\u001b[38;5;124m\"\u001b[39m\n\u001b[1;32m      4\u001b[0m var_column \u001b[38;5;241m=\u001b[39m \u001b[38;5;124m\"\u001b[39m\u001b[38;5;124mmutation_genome\u001b[39m\u001b[38;5;124m\"\u001b[39m\n\u001b[0;32m----> 6\u001b[0m mutations \u001b[38;5;241m=\u001b[39m \u001b[43mvcf_to_dataframe\u001b[49m\u001b[43m(\u001b[49m\u001b[43msample_vcf\u001b[49m\u001b[43m,\u001b[49m\u001b[43m \u001b[49m\u001b[43madditional_columns\u001b[49m\u001b[38;5;241;43m=\u001b[39;49m\u001b[38;5;28;43;01mTrue\u001b[39;49;00m\u001b[43m,\u001b[49m\u001b[43m \u001b[49m\u001b[43mexplode_alt\u001b[49m\u001b[38;5;241;43m=\u001b[39;49m\u001b[38;5;28;43;01mTrue\u001b[39;49;00m\u001b[43m,\u001b[49m\u001b[43m \u001b[49m\u001b[43mfilter_empty_alt\u001b[49m\u001b[38;5;241;43m=\u001b[39;49m\u001b[38;5;28;43;01mTrue\u001b[39;49;00m\u001b[43m)\u001b[49m\n\u001b[1;32m      7\u001b[0m \u001b[38;5;66;03m# sample_vcf_df['CHROM'] = sample_vcf_df['CHROM'].astype(str)\u001b[39;00m\n\u001b[1;32m      8\u001b[0m mutations\u001b[38;5;241m.\u001b[39mrename(columns\u001b[38;5;241m=\u001b[39m{\u001b[38;5;124m\"\u001b[39m\u001b[38;5;124mCHROM\u001b[39m\u001b[38;5;124m\"\u001b[39m: seq_id_column}, inplace\u001b[38;5;241m=\u001b[39m\u001b[38;5;28;01mTrue\u001b[39;00m)\n",
      "File \u001b[0;32m~/Desktop/local/varseek/varseek/utils/seq_utils.py:945\u001b[0m, in \u001b[0;36mvcf_to_dataframe\u001b[0;34m(vcf_file, additional_columns, explode_alt, filter_empty_alt)\u001b[0m\n\u001b[1;32m    938\u001b[0m \u001b[38;5;28;01mfor\u001b[39;00m record \u001b[38;5;129;01min\u001b[39;00m vcf\u001b[38;5;241m.\u001b[39mfetch():\n\u001b[1;32m    939\u001b[0m     \u001b[38;5;66;03m# For each record, extract the desired fields\u001b[39;00m\n\u001b[1;32m    940\u001b[0m     alts \u001b[38;5;241m=\u001b[39m \u001b[38;5;124m\"\u001b[39m\u001b[38;5;124m,\u001b[39m\u001b[38;5;124m\"\u001b[39m\u001b[38;5;241m.\u001b[39mjoin(record\u001b[38;5;241m.\u001b[39malts) \u001b[38;5;28;01mif\u001b[39;00m \u001b[38;5;28misinstance\u001b[39m(record\u001b[38;5;241m.\u001b[39malts, \u001b[38;5;28mtuple\u001b[39m) \u001b[38;5;28;01melse\u001b[39;00m record\u001b[38;5;241m.\u001b[39malts  \u001b[38;5;66;03m# alternate case includes None (when it is simply \".\")\u001b[39;00m\n\u001b[1;32m    942\u001b[0m     vcf_row \u001b[38;5;241m=\u001b[39m {\n\u001b[1;32m    943\u001b[0m         \u001b[38;5;124m\"\u001b[39m\u001b[38;5;124mCHROM\u001b[39m\u001b[38;5;124m\"\u001b[39m: record\u001b[38;5;241m.\u001b[39mchrom,\n\u001b[1;32m    944\u001b[0m         \u001b[38;5;124m\"\u001b[39m\u001b[38;5;124mPOS\u001b[39m\u001b[38;5;124m\"\u001b[39m: record\u001b[38;5;241m.\u001b[39mpos,\n\u001b[0;32m--> 945\u001b[0m         \u001b[38;5;124m\"\u001b[39m\u001b[38;5;124mID\u001b[39m\u001b[38;5;124m\"\u001b[39m: \u001b[43mrecord\u001b[49m\u001b[38;5;241;43m.\u001b[39;49m\u001b[43mid\u001b[49m,\n\u001b[1;32m    946\u001b[0m         \u001b[38;5;124m\"\u001b[39m\u001b[38;5;124mREF\u001b[39m\u001b[38;5;124m\"\u001b[39m: record\u001b[38;5;241m.\u001b[39mref,\n\u001b[1;32m    947\u001b[0m         \u001b[38;5;124m\"\u001b[39m\u001b[38;5;124mALT\u001b[39m\u001b[38;5;124m\"\u001b[39m: alts,  \u001b[38;5;66;03m# ALT can be multiple\u001b[39;00m\n\u001b[1;32m    948\u001b[0m     }\n\u001b[1;32m    950\u001b[0m     \u001b[38;5;28;01mif\u001b[39;00m additional_columns:\n\u001b[1;32m    951\u001b[0m         vcf_row[\u001b[38;5;124m\"\u001b[39m\u001b[38;5;124mQUAL\u001b[39m\u001b[38;5;124m\"\u001b[39m] \u001b[38;5;241m=\u001b[39m record\u001b[38;5;241m.\u001b[39mqual\n",
      "File \u001b[0;32m~/miniconda3/envs/varseek/lib/python3.10/site-packages/pysam/libcbcf.pyx:3179\u001b[0m, in \u001b[0;36mpysam.libcbcf.VariantRecord.id.__get__\u001b[0;34m()\u001b[0m\n",
      "\u001b[0;31mValueError\u001b[0m: Error extracting ID"
     ]
    }
   ],
   "source": [
    "sample_vcf = \"vcf_testing.vcf\"  # \"/Users/joeyrich/Downloads/sample.vcf\"\n",
    "seq_id_column = \"chromosome\"\n",
    "var_id_column = \"variant_id\"\n",
    "var_column = \"mutation_genome\"\n",
    "\n",
    "mutations = vcf_to_dataframe(sample_vcf, additional_columns=True, explode_alt=True, filter_empty_alt=True)\n",
    "# sample_vcf_df['CHROM'] = sample_vcf_df['CHROM'].astype(str)\n",
    "mutations.rename(columns={\"CHROM\": seq_id_column}, inplace=True)\n",
    "if var_id_column:\n",
    "    mutations.rename(columns={\"ID\": var_id_column}, inplace=True)\n",
    "mutations[var_column] = mutations.apply(generate_mutation_notation_from_vcf_columns, axis=1)  #!! untested"
   ]
  },
  {
   "cell_type": "code",
   "execution_count": null,
   "metadata": {},
   "outputs": [],
   "source": [
    "mutations"
   ]
  },
  {
   "cell_type": "code",
   "execution_count": null,
   "metadata": {},
   "outputs": [],
   "source": [
    "# !vk build -v vcf_testing.vcf -s sequences_testing.fa -o vcf_testing_out_dir --seq_id_column chromosome --var_column mutation_from_vcf"
   ]
  }
 ],
 "metadata": {
  "kernelspec": {
   "display_name": "varseek",
   "language": "python",
   "name": "python3"
  },
  "language_info": {
   "codemirror_mode": {
    "name": "ipython",
    "version": 3
   },
   "file_extension": ".py",
   "mimetype": "text/x-python",
   "name": "python",
   "nbconvert_exporter": "python",
   "pygments_lexer": "ipython3",
   "version": "3.10.16"
  }
 },
 "nbformat": 4,
 "nbformat_minor": 2
}
