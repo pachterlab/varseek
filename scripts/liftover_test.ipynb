{
 "cells": [
  {
   "cell_type": "code",
   "execution_count": null,
   "metadata": {},
   "outputs": [],
   "source": [
    "# !pip install pyliftover"
   ]
  },
  {
   "cell_type": "code",
   "execution_count": null,
   "metadata": {},
   "outputs": [],
   "source": [
    "import pandas as pd\n",
    "import re\n",
    "from tqdm import tqdm\n",
    "tqdm.pandas()\n",
    "from pyliftover import LiftOver\n",
    "\n",
    "lo = LiftOver('hg38', 'hg19')\n",
    "# old_chrom = 'chr12'\n",
    "# old_position = 25245350\n",
    "# new_chrom, new_pos, strand, _ = lo.convert_coordinate(old_chrom, old_position)[0]  # expect 25398284\n",
    "# print(f'Converted position: {old_chrom}:{old_position} -> {new_chrom}:{new_pos} (strand: {strand})')"
   ]
  },
  {
   "cell_type": "code",
   "execution_count": null,
   "metadata": {},
   "outputs": [],
   "source": [
    "def gdc_preprocessing(gdc_df):\n",
    "    # Function to extract chromosome number\n",
    "    def extract_chromosome(dna_change):\n",
    "        return re.search(r'^chr(\\w+):', dna_change).group(1)\n",
    "\n",
    "    # Function to extract start position\n",
    "    def extract_start_position(dna_change):\n",
    "        return int(re.search(r'g\\.(\\d+)', dna_change).group(1))\n",
    "\n",
    "    # Function to extract end position\n",
    "    def extract_end_position(row):\n",
    "        dna_change = row['dna_change']\n",
    "        start_position = row['GRCh38_GENOME_START']\n",
    "        if '>' in dna_change:  # Substitution\n",
    "            return start_position\n",
    "        elif 'ins' in dna_change:  # Insertion or complex mutation\n",
    "            return int(re.search(r'_(\\d+)', dna_change).group(1))\n",
    "        elif 'del' in dna_change:  # Deletion\n",
    "            del_match = re.search(r'del([A-Z]+)', dna_change)\n",
    "            if del_match:\n",
    "                length = len(del_match.group(1))\n",
    "                return start_position + length - 1\n",
    "            else:  # Complex deletion-insertion\n",
    "                return int(re.search(r'_(\\d+)', dna_change).group(1))\n",
    "        return start_position\n",
    "\n",
    "    # Apply the functions to create new columns\n",
    "    gdc_df['GRCh38_CHROMOSOME'] = gdc_df['dna_change'].progress_apply(extract_chromosome)\n",
    "    gdc_df['GRCh38_GENOME_START'] = gdc_df['dna_change'].progress_apply(extract_start_position)\n",
    "    gdc_df['GRCh38_GENOME_END'] = gdc_df.progress_apply(extract_end_position, axis=1)\n",
    "\n",
    "    return gdc_df"
   ]
  },
  {
   "cell_type": "code",
   "execution_count": null,
   "metadata": {},
   "outputs": [],
   "source": [
    "# Read the TSV file into a DataFrame\n",
    "file_path = '/home/jrich/Desktop/CART_prostate_sc/data/reference/GDC/frequent-mutations.2024-05-15-3.tsv'\n",
    "df = pd.read_csv(file_path, sep='\\t')\n",
    "\n",
    "df = gdc_preprocessing(df)\n",
    "\n",
    "# df.rename(columns={'dna_change': 'GRCh38_dna_change'}, inplace=True)"
   ]
  },
  {
   "cell_type": "code",
   "execution_count": null,
   "metadata": {},
   "outputs": [],
   "source": [
    "df['liftover_format'] = 'chr' + df['GRCh38_CHROMOSOME'] + ':' + df['GRCh38_GENOME_START'].astype(str) + '-' + df['GRCh38_GENOME_END'].astype(str)"
   ]
  },
  {
   "cell_type": "code",
   "execution_count": null,
   "metadata": {},
   "outputs": [],
   "source": [
    "mutation_list = df['liftover_format'].tolist()\n",
    "pattern = r'chr(\\d+|X|Y|M|MT):(\\d+)-(\\d+)'\n",
    "\n",
    "good_output_list = []\n",
    "bad_output_list = []\n",
    "\n",
    "for line in mutation_list:\n",
    "    if line.startswith('#'):\n",
    "        continue\n",
    "    match = re.match(pattern, line)\n",
    "    if match:\n",
    "        chrom = match.group(1)\n",
    "        start = int(match.group(2))\n",
    "        end = int(match.group(3))\n",
    "    try:\n",
    "        new_chrom_start, new_start, _, _ = lo.convert_coordinate(f\"chr{chrom}\", start)[0]\n",
    "        new_chrom_end, new_end, _, _ = lo.convert_coordinate(f\"chr{chrom}\", end)[0]\n",
    "        assert new_chrom_start == new_chrom_end\n",
    "        good_output_list.append(f\"{new_chrom_start}:{new_start}-{new_end}\")\n",
    "    except Exception as e:\n",
    "        bad_output_list.append(line)\n",
    "    "
   ]
  },
  {
   "cell_type": "code",
   "execution_count": null,
   "metadata": {},
   "outputs": [],
   "source": [
    "df_no_failures = df[~df['liftover_format'].isin(bad_output_list)].reset_index(drop=True)\n",
    "df_no_failures['GRCH37_liftover'] = good_output_list"
   ]
  },
  {
   "cell_type": "code",
   "execution_count": null,
   "metadata": {},
   "outputs": [],
   "source": [
    "def parse_grch37_liftover(entry):\n",
    "    match = re.match(r'chr(\\w+):(\\d+)-(\\d+)', entry)\n",
    "    if match:\n",
    "        return match.groups()\n",
    "    return None, None, None"
   ]
  },
  {
   "cell_type": "code",
   "execution_count": null,
   "metadata": {},
   "outputs": [],
   "source": [
    "df_no_failures[['GRCh37_chromosome', 'GRCh37_GENOME_START', 'GRCh37_GENOME_END']] = df_no_failures['GRCH37_liftover'].progress_apply(\n",
    "    lambda x: pd.Series(parse_grch37_liftover(x))\n",
    ")"
   ]
  },
  {
   "cell_type": "code",
   "execution_count": null,
   "metadata": {},
   "outputs": [],
   "source": [
    "output_file_path = '/home/jrich/Desktop/CART_prostate_sc/data/reference/GDC/frequent-mutations_with_GRCh37.2024-05-15-3.tsv'\n",
    "df_no_failures.to_csv(output_file_path, sep='\\t', index=False)\n",
    "\n",
    "print(f\"Updated DataFrame saved to {output_file_path}\")"
   ]
  }
 ],
 "metadata": {
  "kernelspec": {
   "display_name": "seurat_vs_scanpy",
   "language": "python",
   "name": "python3"
  },
  "language_info": {
   "codemirror_mode": {
    "name": "ipython",
    "version": 3
   },
   "file_extension": ".py",
   "mimetype": "text/x-python",
   "name": "python",
   "nbconvert_exporter": "python",
   "pygments_lexer": "ipython3",
   "version": "3.9.18"
  }
 },
 "nbformat": 4,
 "nbformat_minor": 2
}
