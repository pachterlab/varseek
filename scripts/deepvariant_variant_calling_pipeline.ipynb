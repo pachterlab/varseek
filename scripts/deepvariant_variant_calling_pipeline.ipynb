{
 "cells": [
  {
   "cell_type": "code",
   "execution_count": 2,
   "metadata": {},
   "outputs": [],
   "source": [
    "import os\n",
    "deepvariant_output_path = \"/Users/joeyrich/Desktop/local/varseek/scripts/deepvariant_output\"\n",
    "os.makedirs(deepvariant_output_path, exist_ok=True)\n",
    "os.chdir(deepvariant_output_path)\n",
    "\n",
    "reference_genome = \"/Users/joeyrich/Documents/Caltech/Pachter/reference/Homo_sapiens.GRCh37.dna.primary_assembly.fa\""
   ]
  },
  {
   "cell_type": "code",
   "execution_count": null,
   "metadata": {},
   "outputs": [],
   "source": [
    "if not os.path.exists(reference_genome):\n",
    "    !gget ref -w dna -r 93 --out_dir {os.path.dirname(reference_genome)} -d human_grch37 && gunzip {reference_genome}"
   ]
  },
  {
   "cell_type": "code",
   "execution_count": null,
   "metadata": {},
   "outputs": [],
   "source": [
    "!mkdir -p data benchmark reference model output happy"
   ]
  },
  {
   "cell_type": "code",
   "execution_count": null,
   "metadata": {},
   "outputs": [],
   "source": [
    "HTTPDIR=https://storage.googleapis.com/brain-genomics-public/research/sequencing/grch38/bam/rna/illumina/mrna\n",
    "\n",
    "curl -L ${HTTPDIR}/hg005_gm26107.mrna.grch38.bam > data/hg005_gm26107.mrna.grch38.bam\n",
    "curl -L ${HTTPDIR}/hg005_gm26107.mrna.grch38.bam.bai > data/hg005_gm26107.mrna.grch38.bam.bai"
   ]
  },
  {
   "cell_type": "code",
   "execution_count": null,
   "metadata": {},
   "outputs": [],
   "source": [
    "# Generate a coverage file, and filter for 3x.\n",
    "!sudo docker run \\\n",
    "  -v \"$(pwd):$(pwd)\" \\\n",
    "  -w $(pwd) \\\n",
    "  -it quay.io/biocontainers/mosdepth:0.3.1--h4dc83fb_1 \\\n",
    "  mosdepth \\\n",
    "    --threads $(nproc) \\\n",
    "    data/hg005_coverage \\\n",
    "    data/hg005_gm26107.mrna.grch38.bam"
   ]
  },
  {
   "cell_type": "code",
   "execution_count": null,
   "metadata": {},
   "outputs": [],
   "source": [
    "!sudo docker run \\\n",
    "  -v \"$(pwd):$(pwd)\" \\\n",
    "  -w $(pwd) \\\n",
    "  -it quay.io/biocontainers/bedtools:2.23.0--h5b5514e_6 \\\n",
    "  /bin/bash"
   ]
  },
  {
   "cell_type": "code",
   "execution_count": null,
   "metadata": {},
   "outputs": [],
   "source": [
    "# (Run within the bedtools container)\n",
    "bedtools intersect \\\n",
    "-a data/hg005_3x.bed \\\n",
    "-b data/chr20_CDS.bed > data/chr20_CDS_3x.bed\n",
    "\n",
    "# We will also intersect this file with confident GIAB regions\n",
    "bedtools intersect \\\n",
    "-a benchmark/HG005_GRCh38_1_22_v4.2.1_benchmark.bed \\\n",
    "-b data/chr20_CDS_3x.bed > benchmark/chr20_CDS_3x.benchmark_regions.bed"
   ]
  },
  {
   "cell_type": "code",
   "execution_count": null,
   "metadata": {},
   "outputs": [],
   "source": [
    "curl https://storage.googleapis.com/deepvariant/models/DeepVariant/1.4.0/DeepVariant-inception_v3-1.4.0+data-rnaseq_standard/model.ckpt.data-00000-of-00001 > model/model.ckpt.data-00000-of-00001\n",
    "curl https://storage.googleapis.com/deepvariant/models/DeepVariant/1.4.0/DeepVariant-inception_v3-1.4.0+data-rnaseq_standard/model.ckpt.example_info.json > model/model.ckpt.example_info.json\n",
    "curl https://storage.googleapis.com/deepvariant/models/DeepVariant/1.4.0/DeepVariant-inception_v3-1.4.0+data-rnaseq_standard/model.ckpt.index > model/model.ckpt.index\n",
    "curl https://storage.googleapis.com/deepvariant/models/DeepVariant/1.4.0/DeepVariant-inception_v3-1.4.0+data-rnaseq_standard/model.ckpt.meta > model/model.ckpt.meta"
   ]
  },
  {
   "cell_type": "code",
   "execution_count": null,
   "metadata": {},
   "outputs": [],
   "source": [
    "BIN_VERSION=\"1.4.0\"\n",
    "\n",
    "sudo docker run \\\n",
    "  -v \"$(pwd):$(pwd)\" \\\n",
    "  -w $(pwd) \\\n",
    "  google/deepvariant:\"${BIN_VERSION}\" \\\n",
    "  run_deepvariant \\\n",
    "    --model_type=WES \\\n",
    "    --customized_model=model/model.ckpt \\\n",
    "    --ref=reference/GRCh38_no_alt_analysis_set.fasta \\\n",
    "    --reads=data/hg005_gm26107.mrna.grch38.bam \\\n",
    "    --output_vcf=output/HG005.output.vcf.gz \\\n",
    "    --num_shards=$(nproc) \\\n",
    "    --regions=data/chr20_CDS_3x.bed \\\n",
    "    --make_examples_extra_args=\"split_skip_reads=true,channel_list='BASE_CHANNELS'\" \\\n",
    "    --intermediate_results_dir output/intermediate_results_dir"
   ]
  }
 ],
 "metadata": {
  "kernelspec": {
   "display_name": "varseek",
   "language": "python",
   "name": "python3"
  },
  "language_info": {
   "codemirror_mode": {
    "name": "ipython",
    "version": 3
   },
   "file_extension": ".py",
   "mimetype": "text/x-python",
   "name": "python",
   "nbconvert_exporter": "python",
   "pygments_lexer": "ipython3",
   "version": "3.10.16"
  }
 },
 "nbformat": 4,
 "nbformat_minor": 2
}
