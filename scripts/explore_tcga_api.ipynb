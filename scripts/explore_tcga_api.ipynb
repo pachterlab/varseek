{
 "cells": [
  {
   "cell_type": "code",
   "execution_count": null,
   "metadata": {},
   "outputs": [
    {
     "name": "stdout",
     "output_type": "stream",
     "text": [
      "['_missing', 'abdomen, nos', 'adrenal gland, nos', 'ampulla of vater', 'anal canal', 'anterior floor of mouth', 'anterior mediastinum', 'anterior wall of bladder', 'anus, nos', 'aortic body and other paraganglia', 'appendix', 'ascending colon', 'autonomic nervous system, nos', 'base of tongue, nos', 'biliary tract, nos', 'bladder neck', 'bladder, nos', 'blood', 'body of pancreas', 'body of stomach', 'bone marrow', 'bone, nos', 'bones of skull and face and associated joints', 'border of tongue', 'brain stem', 'brain, nos', 'breast, nos', 'cardia, nos', 'cecum', 'cerebellum, nos', 'cerebrum', 'cervix uteri', 'cheek mucosa', 'choroid', 'ciliary body', 'colon, nos', 'connective, subcutaneous and other soft tissues of abdomen', 'connective, subcutaneous and other soft tissues of head, face, and neck', 'connective, subcutaneous and other soft tissues of lower limb and hip', 'connective, subcutaneous and other soft tissues of pelvis', 'connective, subcutaneous and other soft tissues of thorax', 'connective, subcutaneous and other soft tissues of trunk, nos', 'connective, subcutaneous and other soft tissues of upper limb and shoulder', 'connective, subcutaneous and other soft tissues, nos', 'corpus uteri', 'cortex of adrenal gland', 'descending colon', 'dome of bladder', 'duodenum', 'endometrium', 'esophagus, nos', 'external upper lip', 'extrahepatic bile duct', 'eye, nos', 'fallopian tube', 'female genital tract, nos', 'floor of mouth, nos', 'frontal lobe', 'fundus of stomach', 'fundus uteri', 'gallbladder', 'gastric antrum', 'gastrointestinal tract, nos', 'gum, nos', 'hard palate', 'head of pancreas', 'head, face or neck, nos', 'heart', 'hematopoietic system, nos', 'hepatic flexure of colon', 'hypopharynx, nos', 'intestinal tract, nos', 'intra-abdominal lymph nodes', 'intrahepatic bile duct', 'intrathoracic lymph nodes', 'isthmus uteri', 'jejunum', 'kidney, nos', 'larynx, nos', 'lateral wall of bladder', 'lesser curvature of stomach, nos', 'lip, nos', 'liver', 'long bones of lower limb and associated joints', 'long bones of upper limb, scapula and associated joints', 'lower gum', 'lower lobe, lung', 'lower third of esophagus', 'lower-inner quadrant of breast', 'lower-outer quadrant of breast', 'lung, nos', 'lymph node, nos', 'lymph nodes of axilla or arm', 'lymph nodes of head, face and neck', 'lymph nodes of inguinal region or leg', 'main bronchus', 'major salivary gland, nos', 'mandible', 'mediastinum, nos', 'medulla of adrenal gland', 'middle lobe, lung', 'middle third of esophagus', 'mouth, nos', 'myometrium', 'nasal cavity', 'nervous system, nos', 'not reported', 'occipital lobe', 'orbit, nos', 'oropharynx, nos', 'other ill-defined sites', 'ovary', 'overlapping lesion of brain', 'overlapping lesion of breast', 'overlapping lesion of colon', 'overlapping lesion of connective, subcutaneous and other soft tissues', 'overlapping lesion of eye and adnexa', 'overlapping lesion of ill-defined sites', 'overlapping lesion of lip, oral cavity and pharynx', 'overlapping lesion of lung', 'overlapping lesion of nasopharynx', 'overlapping lesion of pancreas', 'overlapping lesion of retroperitoneum and peritoneum', 'palate, nos', 'pancreas, nos', 'parietal lobe', 'pelvic bones, sacrum, coccyx and associated joints', 'pelvic lymph nodes', 'pelvis, nos', 'penis, nos', 'peripheral nerves and autonomic nervous system of abdomen', 'peripheral nerves and autonomic nervous system of head, face, and neck', 'peripheral nerves and autonomic nervous system of pelvis', 'peripheral nerves and autonomic nervous system of thorax', 'peripheral nerves and autonomic nervous system of trunk, nos', 'peripheral nerves and autonomic nervous system of upper limb and shoulder', 'peritoneum, nos', 'pharynx, nos', 'pituitary gland', 'pleura, nos', 'posterior mediastinum', 'posterior wall of bladder', 'posterior wall of oropharynx', 'prostate gland', 'pylorus', 'rectosigmoid junction', 'rectum, nos', 'renal pelvis', 'retromolar area', 'retroperitoneum', 'rib, sternum, clavicle and associated joints', 'short bones of lower limb and associated joints', 'sigmoid colon', 'skin of lower limb and hip', 'skin of scalp and neck', 'skin of trunk', 'skin of upper limb and shoulder', 'skin, nos', 'small intestine, nos', 'specified parts of peritoneum', 'spermatic cord', 'spinal cord', 'spinal meninges', 'spleen', 'splenic flexure of colon', 'stomach, nos', 'submandibular gland', 'supraglottis', 'tail of pancreas', 'temporal lobe', 'testis, nos', 'thoracic esophagus', 'thorax, nos', 'thymus', 'thyroid gland', 'tongue, nos', 'tonsil, nos', 'trachea', 'transverse colon', 'trigone of bladder', 'unknown', 'unknown primary site', 'upper gum', 'upper lobe, lung', 'upper third of esophagus', 'upper-inner quadrant of breast', 'upper-outer quadrant of breast', 'ureter', 'ureteric orifice', 'urethra', 'urinary system, nos', 'uterus, nos', 'vagina, nos', 'ventral surface of tongue, nos', 'vertebral column', 'vulva, nos']\n"
     ]
    }
   ],
   "source": [
    "import json\n",
    "import requests\n",
    "\n",
    "# I will use the mappings from \"files\" when filtering in my download command, but for any mappings of \"files\" that begin with \"case\", I might want to explore the full set of options with the \"cases\" endpoint (or go on the TCGA website in cohort builder)\n",
    "def return_all_mappings_for_endpoint(endpoint = \"files\"):  # can replace 'files' with 'cases' or any of the other endpoints here: https://docs.gdc.cancer.gov/API/Users_Guide/Getting_Started/\n",
    "    # Define the endpoint\n",
    "    endpoint_full = f\"https://api.gdc.cancer.gov/{endpoint}/_mapping\"  # can replace 'files' with 'cases' or any of the other endpoints here: https://docs.gdc.cancer.gov/API/Users_Guide/Getting_Started/\n",
    "\n",
    "    # Make the GET request\n",
    "    response = requests.get(endpoint_full)\n",
    "\n",
    "    # Check the response\n",
    "    if response.status_code == 200:\n",
    "        fields = response.json()[\"fields\"]\n",
    "        return fields\n",
    "    else:\n",
    "        print(f\"Error: {response.status_code}, {response.text}\")\n",
    "        return None\n",
    "\n",
    "\n",
    "def return_all_options_for_a_mapping(mapping, endpoint = \"files\"):  # can replace 'files' with 'cases' or any of the other endpoints here: https://docs.gdc.cancer.gov/API/Users_Guide/Getting_Started/\n",
    "    # Define the endpoint\n",
    "    endpoint_full = f\"https://api.gdc.cancer.gov/{endpoint}\"  # can replace 'files' with 'cases' or any of the other endpoints here: https://docs.gdc.cancer.gov/API/Users_Guide/Getting_Started/\n",
    "\n",
    "    # Define the parameters\n",
    "    params = {\n",
    "        \"facets\": mapping,\n",
    "        \"size\": 0  # No actual data retrieval, just the facet counts\n",
    "    }\n",
    "\n",
    "    # Make the request\n",
    "    response = requests.get(endpoint_full, params=params)\n",
    "\n",
    "    # Check the response\n",
    "    if response.status_code == 200:\n",
    "        # Extract and display unique values\n",
    "        buckets = response.json()[\"data\"][\"aggregations\"][mapping][\"buckets\"]\n",
    "        mapping_values = sorted([bucket[\"key\"] for bucket in buckets])\n",
    "        return mapping_values\n",
    "    else:\n",
    "        print(f\"Error: {response.status_code}, {response.text}\")\n",
    "        return None\n",
    "\n",
    "all_cases_mappings = return_all_mappings_for_endpoint(endpoint = \"cases\")  # one of these values is diagnoses.tissue_or_organ_of_origin \n",
    "tissue_or_organ_of_origin_all_values = return_all_options_for_a_mapping(mapping = \"diagnoses.tissue_or_organ_of_origin\", endpoint = \"cases\")\n",
    "print(tissue_or_organ_of_origin_all_values)"
   ]
  }
 ],
 "metadata": {
  "kernelspec": {
   "display_name": "varseek2",
   "language": "python",
   "name": "python3"
  },
  "language_info": {
   "codemirror_mode": {
    "name": "ipython",
    "version": 3
   },
   "file_extension": ".py",
   "mimetype": "text/x-python",
   "name": "python",
   "nbconvert_exporter": "python",
   "pygments_lexer": "ipython3",
   "version": "3.10.15"
  }
 },
 "nbformat": 4,
 "nbformat_minor": 2
}
