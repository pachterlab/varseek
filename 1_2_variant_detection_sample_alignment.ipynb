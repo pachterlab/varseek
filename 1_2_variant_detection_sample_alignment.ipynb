{
 "cells": [
  {
   "cell_type": "code",
   "execution_count": 23,
   "metadata": {},
   "outputs": [],
   "source": [
    "import pandas as pd\n",
    "\n",
    "df_out_path = \"/Users/joeyrich/Desktop/local/varseek/tests/pytest_output/test_varseek_ref/date_2025_03_07_time_1607_57/test_vk_ref/variants_updated_exploded_vk_info.csv\"\n",
    "df_ground_truth_path = \"/Users/joeyrich/Desktop/local/varseek/tests/pytest_ground_truth/variants_updated_exploded_vk_info.csv\""
   ]
  },
  {
   "cell_type": "code",
   "execution_count": 24,
   "metadata": {},
   "outputs": [
    {
     "name": "stderr",
     "output_type": "stream",
     "text": [
      "/var/folders/wr/wdr46lxn7fbc_kty6kwbfhxc0000gn/T/ipykernel_8278/2847970535.py:1: DtypeWarning: Columns (13) have mixed types. Specify dtype option on import or set low_memory=False.\n",
      "  df_out = pd.read_csv(df_out_path).fillna('NULL_FOR_TESTING')\n",
      "/var/folders/wr/wdr46lxn7fbc_kty6kwbfhxc0000gn/T/ipykernel_8278/2847970535.py:2: DtypeWarning: Columns (13) have mixed types. Specify dtype option on import or set low_memory=False.\n",
      "  df_ground_truth = pd.read_csv(df_ground_truth_path).fillna('NULL_FOR_TESTING')\n"
     ]
    }
   ],
   "source": [
    "df_out = pd.read_csv(df_out_path).fillna('NULL_FOR_TESTING')\n",
    "df_ground_truth = pd.read_csv(df_ground_truth_path).fillna('NULL_FOR_TESTING')"
   ]
  },
  {
   "cell_type": "code",
   "execution_count": null,
   "metadata": {},
   "outputs": [],
   "source": [
    "df_out.columns"
   ]
  },
  {
   "cell_type": "code",
   "execution_count": 25,
   "metadata": {},
   "outputs": [
    {
     "data": {
      "text/plain": [
       "True"
      ]
     },
     "execution_count": 25,
     "metadata": {},
     "output_type": "execute_result"
    }
   ],
   "source": [
    "pd.Series.equals(df_out['vcrs_header'], df_ground_truth['vcrs_header'])"
   ]
  },
  {
   "cell_type": "code",
   "execution_count": 26,
   "metadata": {},
   "outputs": [
    {
     "data": {
      "text/plain": [
       "False"
      ]
     },
     "execution_count": 26,
     "metadata": {},
     "output_type": "execute_result"
    }
   ],
   "source": [
    "pd.Series.equals(df_out['VCRSs_with_overlapping_kmers'], df_ground_truth['VCRSs_with_overlapping_kmers'])"
   ]
  },
  {
   "cell_type": "code",
   "execution_count": 27,
   "metadata": {},
   "outputs": [
    {
     "data": {
      "application/vnd.microsoft.datawrangler.viewer.v0+json": {
       "columns": [
        {
         "name": "index",
         "rawType": "int64",
         "type": "integer"
        },
        {
         "name": "vcrs_header",
         "rawType": "object",
         "type": "string"
        },
        {
         "name": "VCRSs_with_overlapping_kmers",
         "rawType": "object",
         "type": "string"
        }
       ],
       "conversionMethod": "pd.DataFrame",
       "ref": "37c35a17-a8fe-4ff6-89d5-6e95d3a4a8af",
       "rows": [
        [
         "4076",
         "ENST00000241453:c.1897_1898insGGAAAGCGGGTGACCGGCTCCTCAGATAATGAGTACTTCTACGTTGATTTCAGAGAATATGAATATGATCTCAAATGGGAGTTT",
         "{'vcrs_05621', 'vcrs_05126', 'vcrs_05705', 'vcrs_04650', 'vcrs_05842', 'vcrs_05386', 'vcrs_05324'}"
        ],
        [
         "4651",
         "ENST00000241453:c.1883_1884insCTACCAGCCAGGTGACCGGCTCCTCAGATAATGAGTACTTCTACGTTGATTTCAGAGAATATGAATATGATC",
         "{'vcrs_05621', 'vcrs_05126', 'vcrs_05705', 'vcrs_04076', 'vcrs_05386', 'vcrs_05324'}"
        ],
        [
         "5127",
         "ENST00000241453:c.1881_1882insGTCCTCCTCAGATAATGAGTACTTCTACGTTGATTTCAGAGAATATGAATATGA",
         "{'vcrs_05621', 'vcrs_05705', 'vcrs_04650', 'vcrs_04076'}"
        ],
        [
         "5325",
         "ENST00000241453:c.1877_1878insGGGTGACCGGCTCCTCAGATAATGAGTACTTCTACGTTGATTTCAGAGAATATGAAT",
         "{'vcrs_05621', 'vcrs_05705', 'vcrs_04650', 'vcrs_04076', 'vcrs_05386'}"
        ],
        [
         "5388",
         "ENST00000241453:c.1877_1878insCCGTGACCGGCTCCTCAGATAATGAGTACTTCTACGTTGATTTCAGAGAATATGAAT",
         "{'vcrs_05621', 'vcrs_05705', 'vcrs_04650', 'vcrs_04076', 'vcrs_05324'}"
        ],
        [
         "5623",
         "ENST00000241453:c.1815_1816insCCGGCTCCTCAGATAATGAGTACTTCTACGTTGATTTCAGAGAATATGAATATGATCGCCC",
         "{'vcrs_05126', 'vcrs_05705', 'vcrs_04650', 'vcrs_04076', 'vcrs_05386', 'vcrs_05324'}"
        ],
        [
         "5707",
         "ENST00000241453:c.1903_1904insAGTCCACAGGTGACCGGCTCCTCAGATAATGAGTACTTCTACGTTGATTTCAGAGAATATGAATATGATCTCAAATGGGAGTTTCCAAGA",
         "{'vcrs_05621', 'vcrs_05126', 'vcrs_04552', 'vcrs_04650', 'vcrs_04076', 'vcrs_05842', 'vcrs_05386', 'vcrs_05324'}"
        ]
       ],
       "shape": {
        "columns": 2,
        "rows": 7
       }
      },
      "text/html": [
       "<div>\n",
       "<style scoped>\n",
       "    .dataframe tbody tr th:only-of-type {\n",
       "        vertical-align: middle;\n",
       "    }\n",
       "\n",
       "    .dataframe tbody tr th {\n",
       "        vertical-align: top;\n",
       "    }\n",
       "\n",
       "    .dataframe thead th {\n",
       "        text-align: right;\n",
       "    }\n",
       "</style>\n",
       "<table border=\"1\" class=\"dataframe\">\n",
       "  <thead>\n",
       "    <tr style=\"text-align: right;\">\n",
       "      <th></th>\n",
       "      <th>vcrs_header</th>\n",
       "      <th>VCRSs_with_overlapping_kmers</th>\n",
       "    </tr>\n",
       "  </thead>\n",
       "  <tbody>\n",
       "    <tr>\n",
       "      <th>4076</th>\n",
       "      <td>ENST00000241453:c.1897_1898insGGAAAGCGGGTGACCG...</td>\n",
       "      <td>{'vcrs_05621', 'vcrs_05126', 'vcrs_05705', 'vc...</td>\n",
       "    </tr>\n",
       "    <tr>\n",
       "      <th>4651</th>\n",
       "      <td>ENST00000241453:c.1883_1884insCTACCAGCCAGGTGAC...</td>\n",
       "      <td>{'vcrs_05621', 'vcrs_05126', 'vcrs_05705', 'vc...</td>\n",
       "    </tr>\n",
       "    <tr>\n",
       "      <th>5127</th>\n",
       "      <td>ENST00000241453:c.1881_1882insGTCCTCCTCAGATAAT...</td>\n",
       "      <td>{'vcrs_05621', 'vcrs_05705', 'vcrs_04650', 'vc...</td>\n",
       "    </tr>\n",
       "    <tr>\n",
       "      <th>5325</th>\n",
       "      <td>ENST00000241453:c.1877_1878insGGGTGACCGGCTCCTC...</td>\n",
       "      <td>{'vcrs_05621', 'vcrs_05705', 'vcrs_04650', 'vc...</td>\n",
       "    </tr>\n",
       "    <tr>\n",
       "      <th>5388</th>\n",
       "      <td>ENST00000241453:c.1877_1878insCCGTGACCGGCTCCTC...</td>\n",
       "      <td>{'vcrs_05621', 'vcrs_05705', 'vcrs_04650', 'vc...</td>\n",
       "    </tr>\n",
       "    <tr>\n",
       "      <th>5623</th>\n",
       "      <td>ENST00000241453:c.1815_1816insCCGGCTCCTCAGATAA...</td>\n",
       "      <td>{'vcrs_05126', 'vcrs_05705', 'vcrs_04650', 'vc...</td>\n",
       "    </tr>\n",
       "    <tr>\n",
       "      <th>5707</th>\n",
       "      <td>ENST00000241453:c.1903_1904insAGTCCACAGGTGACCG...</td>\n",
       "      <td>{'vcrs_05621', 'vcrs_05126', 'vcrs_04552', 'vc...</td>\n",
       "    </tr>\n",
       "  </tbody>\n",
       "</table>\n",
       "</div>"
      ],
      "text/plain": [
       "                                            vcrs_header  \\\n",
       "4076  ENST00000241453:c.1897_1898insGGAAAGCGGGTGACCG...   \n",
       "4651  ENST00000241453:c.1883_1884insCTACCAGCCAGGTGAC...   \n",
       "5127  ENST00000241453:c.1881_1882insGTCCTCCTCAGATAAT...   \n",
       "5325  ENST00000241453:c.1877_1878insGGGTGACCGGCTCCTC...   \n",
       "5388  ENST00000241453:c.1877_1878insCCGTGACCGGCTCCTC...   \n",
       "5623  ENST00000241453:c.1815_1816insCCGGCTCCTCAGATAA...   \n",
       "5707  ENST00000241453:c.1903_1904insAGTCCACAGGTGACCG...   \n",
       "\n",
       "                           VCRSs_with_overlapping_kmers  \n",
       "4076  {'vcrs_05621', 'vcrs_05126', 'vcrs_05705', 'vc...  \n",
       "4651  {'vcrs_05621', 'vcrs_05126', 'vcrs_05705', 'vc...  \n",
       "5127  {'vcrs_05621', 'vcrs_05705', 'vcrs_04650', 'vc...  \n",
       "5325  {'vcrs_05621', 'vcrs_05705', 'vcrs_04650', 'vc...  \n",
       "5388  {'vcrs_05621', 'vcrs_05705', 'vcrs_04650', 'vc...  \n",
       "5623  {'vcrs_05126', 'vcrs_05705', 'vcrs_04650', 'vc...  \n",
       "5707  {'vcrs_05621', 'vcrs_05126', 'vcrs_04552', 'vc...  "
      ]
     },
     "execution_count": 27,
     "metadata": {},
     "output_type": "execute_result"
    }
   ],
   "source": [
    "df_out.loc[df_out['VCRSs_with_overlapping_kmers'].ne(df_ground_truth['VCRSs_with_overlapping_kmers']), ['vcrs_header', 'VCRSs_with_overlapping_kmers']]"
   ]
  },
  {
   "cell_type": "code",
   "execution_count": 28,
   "metadata": {},
   "outputs": [
    {
     "data": {
      "application/vnd.microsoft.datawrangler.viewer.v0+json": {
       "columns": [
        {
         "name": "index",
         "rawType": "int64",
         "type": "integer"
        },
        {
         "name": "vcrs_header",
         "rawType": "object",
         "type": "string"
        },
        {
         "name": "VCRSs_with_overlapping_kmers",
         "rawType": "object",
         "type": "string"
        }
       ],
       "conversionMethod": "pd.DataFrame",
       "ref": "27b5a908-c502-4d9d-a66b-b64b4f411597",
       "rows": [
        [
         "4076",
         "ENST00000241453:c.1897_1898insGGAAAGCGGGTGACCGGCTCCTCAGATAATGAGTACTTCTACGTTGATTTCAGAGAATATGAATATGATCTCAAATGGGAGTTT",
         "{'vcrs_04650', 'vcrs_05126', 'vcrs_05705', 'vcrs_05621', 'vcrs_05842', 'vcrs_05324', 'vcrs_05386'}"
        ],
        [
         "4651",
         "ENST00000241453:c.1883_1884insCTACCAGCCAGGTGACCGGCTCCTCAGATAATGAGTACTTCTACGTTGATTTCAGAGAATATGAATATGATC",
         "{'vcrs_05126', 'vcrs_04076', 'vcrs_05705', 'vcrs_05621', 'vcrs_05324', 'vcrs_05386'}"
        ],
        [
         "5127",
         "ENST00000241453:c.1881_1882insGTCCTCCTCAGATAATGAGTACTTCTACGTTGATTTCAGAGAATATGAATATGA",
         "{'vcrs_04650', 'vcrs_04076', 'vcrs_05621', 'vcrs_05705'}"
        ],
        [
         "5325",
         "ENST00000241453:c.1877_1878insGGGTGACCGGCTCCTCAGATAATGAGTACTTCTACGTTGATTTCAGAGAATATGAAT",
         "{'vcrs_04650', 'vcrs_04076', 'vcrs_05705', 'vcrs_05621', 'vcrs_05386'}"
        ],
        [
         "5388",
         "ENST00000241453:c.1877_1878insCCGTGACCGGCTCCTCAGATAATGAGTACTTCTACGTTGATTTCAGAGAATATGAAT",
         "{'vcrs_04650', 'vcrs_04076', 'vcrs_05705', 'vcrs_05621', 'vcrs_05324'}"
        ],
        [
         "5623",
         "ENST00000241453:c.1815_1816insCCGGCTCCTCAGATAATGAGTACTTCTACGTTGATTTCAGAGAATATGAATATGATCGCCC",
         "{'vcrs_04650', 'vcrs_05126', 'vcrs_04076', 'vcrs_05705', 'vcrs_05324', 'vcrs_05386'}"
        ],
        [
         "5707",
         "ENST00000241453:c.1903_1904insAGTCCACAGGTGACCGGCTCCTCAGATAATGAGTACTTCTACGTTGATTTCAGAGAATATGAATATGATCTCAAATGGGAGTTTCCAAGA",
         "{'vcrs_04650', 'vcrs_05126', 'vcrs_04552', 'vcrs_04076', 'vcrs_05621', 'vcrs_05842', 'vcrs_05324', 'vcrs_05386'}"
        ]
       ],
       "shape": {
        "columns": 2,
        "rows": 7
       }
      },
      "text/html": [
       "<div>\n",
       "<style scoped>\n",
       "    .dataframe tbody tr th:only-of-type {\n",
       "        vertical-align: middle;\n",
       "    }\n",
       "\n",
       "    .dataframe tbody tr th {\n",
       "        vertical-align: top;\n",
       "    }\n",
       "\n",
       "    .dataframe thead th {\n",
       "        text-align: right;\n",
       "    }\n",
       "</style>\n",
       "<table border=\"1\" class=\"dataframe\">\n",
       "  <thead>\n",
       "    <tr style=\"text-align: right;\">\n",
       "      <th></th>\n",
       "      <th>vcrs_header</th>\n",
       "      <th>VCRSs_with_overlapping_kmers</th>\n",
       "    </tr>\n",
       "  </thead>\n",
       "  <tbody>\n",
       "    <tr>\n",
       "      <th>4076</th>\n",
       "      <td>ENST00000241453:c.1897_1898insGGAAAGCGGGTGACCG...</td>\n",
       "      <td>{'vcrs_04650', 'vcrs_05126', 'vcrs_05705', 'vc...</td>\n",
       "    </tr>\n",
       "    <tr>\n",
       "      <th>4651</th>\n",
       "      <td>ENST00000241453:c.1883_1884insCTACCAGCCAGGTGAC...</td>\n",
       "      <td>{'vcrs_05126', 'vcrs_04076', 'vcrs_05705', 'vc...</td>\n",
       "    </tr>\n",
       "    <tr>\n",
       "      <th>5127</th>\n",
       "      <td>ENST00000241453:c.1881_1882insGTCCTCCTCAGATAAT...</td>\n",
       "      <td>{'vcrs_04650', 'vcrs_04076', 'vcrs_05621', 'vc...</td>\n",
       "    </tr>\n",
       "    <tr>\n",
       "      <th>5325</th>\n",
       "      <td>ENST00000241453:c.1877_1878insGGGTGACCGGCTCCTC...</td>\n",
       "      <td>{'vcrs_04650', 'vcrs_04076', 'vcrs_05705', 'vc...</td>\n",
       "    </tr>\n",
       "    <tr>\n",
       "      <th>5388</th>\n",
       "      <td>ENST00000241453:c.1877_1878insCCGTGACCGGCTCCTC...</td>\n",
       "      <td>{'vcrs_04650', 'vcrs_04076', 'vcrs_05705', 'vc...</td>\n",
       "    </tr>\n",
       "    <tr>\n",
       "      <th>5623</th>\n",
       "      <td>ENST00000241453:c.1815_1816insCCGGCTCCTCAGATAA...</td>\n",
       "      <td>{'vcrs_04650', 'vcrs_05126', 'vcrs_04076', 'vc...</td>\n",
       "    </tr>\n",
       "    <tr>\n",
       "      <th>5707</th>\n",
       "      <td>ENST00000241453:c.1903_1904insAGTCCACAGGTGACCG...</td>\n",
       "      <td>{'vcrs_04650', 'vcrs_05126', 'vcrs_04552', 'vc...</td>\n",
       "    </tr>\n",
       "  </tbody>\n",
       "</table>\n",
       "</div>"
      ],
      "text/plain": [
       "                                            vcrs_header  \\\n",
       "4076  ENST00000241453:c.1897_1898insGGAAAGCGGGTGACCG...   \n",
       "4651  ENST00000241453:c.1883_1884insCTACCAGCCAGGTGAC...   \n",
       "5127  ENST00000241453:c.1881_1882insGTCCTCCTCAGATAAT...   \n",
       "5325  ENST00000241453:c.1877_1878insGGGTGACCGGCTCCTC...   \n",
       "5388  ENST00000241453:c.1877_1878insCCGTGACCGGCTCCTC...   \n",
       "5623  ENST00000241453:c.1815_1816insCCGGCTCCTCAGATAA...   \n",
       "5707  ENST00000241453:c.1903_1904insAGTCCACAGGTGACCG...   \n",
       "\n",
       "                           VCRSs_with_overlapping_kmers  \n",
       "4076  {'vcrs_04650', 'vcrs_05126', 'vcrs_05705', 'vc...  \n",
       "4651  {'vcrs_05126', 'vcrs_04076', 'vcrs_05705', 'vc...  \n",
       "5127  {'vcrs_04650', 'vcrs_04076', 'vcrs_05621', 'vc...  \n",
       "5325  {'vcrs_04650', 'vcrs_04076', 'vcrs_05705', 'vc...  \n",
       "5388  {'vcrs_04650', 'vcrs_04076', 'vcrs_05705', 'vc...  \n",
       "5623  {'vcrs_04650', 'vcrs_05126', 'vcrs_04076', 'vc...  \n",
       "5707  {'vcrs_04650', 'vcrs_05126', 'vcrs_04552', 'vc...  "
      ]
     },
     "execution_count": 28,
     "metadata": {},
     "output_type": "execute_result"
    }
   ],
   "source": [
    "df_ground_truth.loc[df_out['VCRSs_with_overlapping_kmers'].ne(df_ground_truth['VCRSs_with_overlapping_kmers']), ['vcrs_header', 'VCRSs_with_overlapping_kmers']]"
   ]
  },
  {
   "cell_type": "markdown",
   "metadata": {},
   "source": [
    "# Imports"
   ]
  },
  {
   "cell_type": "code",
   "execution_count": 3,
   "metadata": {},
   "outputs": [],
   "source": [
    "import os\n",
    "import subprocess\n",
    "\n",
    "import varseek as vk\n",
    "from varseek.utils import make_vaf_matrix, add_vcf_info_to_cosmic_tsv"
   ]
  },
  {
   "cell_type": "markdown",
   "metadata": {},
   "source": [
    "# Hyperparameters"
   ]
  },
  {
   "cell_type": "code",
   "execution_count": null,
   "metadata": {},
   "outputs": [],
   "source": [
    "w=54  # window size for varseek build (should be at least 1 less than kallisto k)\n",
    "k=55\n",
    "k_standard=31\n",
    "threads = 32\n",
    "strand = \"unstranded\"  # \"forward\", \"reverse\", or \"unstranded\"\n",
    "\n",
    "# fastq cleanup preceding kb count\n",
    "trim_edges_off_reads = False\n",
    "minimum_base_quality_trim_reads=13\n",
    "qualified_quality_phred = 15\n",
    "unqualified_percent_limit = 50  # unqualified_percent_limit% of bases in a read must have a quality score of at least qualified_quality_phred\n",
    "n_base_limit = None\n",
    "length_required = None\n",
    "\n",
    "minimum_base_quality_replace_with_N=5\n",
    "split_reads_by_Ns_and_low_quality_bases = False\n",
    "run_fastqc = False\n",
    "\n",
    "# kb count\n",
    "technology = \"bulk\"  # same options as kb count\n",
    "parity = \"single\"  # single or paired\n",
    "\n",
    "# vk clean\n",
    "minimum_count_filter = None  #!!! still need to tune this  \n",
    "use_binary_matrix = False\n",
    "drop_zero_columns = False\n",
    "filter_cells_by_min_counts = True  # True for auto-filter, numeric for set filter, None/False otherwise\n",
    "filter_cells_by_min_genes = 200\n",
    "filter_genes_by_min_cells = 3\n",
    "filter_cells_by_max_mt_content = False\n",
    "doublet_detection = True\n",
    "remove_doublets = False\n",
    "do_cpm_normalization = True\n",
    "split_reads_by_Ns_and_low_quality_bases = False\n",
    "dlist_file = None\n",
    "mutation_metadata_df_columns = None  #!!! replace\n",
    "\n",
    "# Paths\n",
    "out_dir_base = \"/home/jrich/data/varseek_data_fresh\"\n",
    "reference_out_dir = os.path.join(out_dir_base, \"reference\")\n",
    "out_dir_notebook = f\"{out_dir_base}/alignment_output\"\n",
    "index_dir = os.path.join(out_dir_base, \"vk_build_pipeline_t2t_nov16\")\n",
    "rnaseq_fastq_files = \"/home/jrich/data/varseek_data/sequencing/sc/melanoma_10x/10k_Human_DTC_Melanoma_3p_nextgem_fastqs/gex\"  # pass as a single string or as a list of strings or a directory to fastq files (if paired-end, then pass each pair sequentially with R1 preceding R2) - if using directory, then it will call order_fastqs_correctly_for_kb_count - don't include index files for single-cell\n",
    "multiplexed = False  # True if fastq files are multiplexed\n",
    "seqtk=\"seqtk\"\n",
    "mutation_index = f\"{index_dir}/mutation_reference.idx\"\n",
    "t2g_vk_filter = os.path.join(index_dir, \"t2g_filtered.txt\")\n",
    "wt_vcrs_index = mutation_index = f\"{index_dir}/wt_vcrs_reference.idx\"\n",
    "wt_vcrs_t2g = os.path.join(out_dir_notebook, \"t2g_wt_filtered.txt\")\n",
    "standard_index = \"\"\n",
    "standard_t2g = \"\"\n",
    "standard_genome = \"\"  #!!! can use gget ref\n",
    "standard_gtf = \"\"  #!!! can use gget ref"
   ]
  },
  {
   "cell_type": "code",
   "execution_count": null,
   "metadata": {},
   "outputs": [],
   "source": [
    "kb_count_out = f\"{out_dir_notebook}/kb_count_out\"\n",
    "kb_count_out_wt_vcrs = f\"{out_dir_notebook}/kb_count_out_wt_vcrs\"\n",
    "kb_count_out_standard_index = f\"{out_dir_notebook}/kb_count_out_standard\"\n",
    "vk_summarize_output_dir = f\"{out_dir_notebook}/vk_summarize\"\n",
    "fastqc_out_dir = f\"{out_dir_notebook}/fastqc_out\"\n",
    "\n",
    "\n",
    "os.makedirs(out_dir_base, exist_ok=True)\n",
    "os.makedirs(out_dir_notebook, exist_ok=True)\n",
    "os.makedirs(reference_out_dir, exist_ok=True)\n",
    "os.makedirs(kb_count_out, exist_ok=True)\n",
    "os.makedirs(kb_count_out_wt_vcrs, exist_ok=True)\n",
    "os.makedirs(kb_count_out_standard_index, exist_ok=True)\n",
    "os.makedirs(vk_summarize_output_dir, exist_ok=True)\n",
    "os.makedirs(fastqc_out_dir, exist_ok=True)\n",
    "\n",
    "assert k >= w + 1, \"k must be greater than or equal to w + 1\"\n",
    "\n",
    "if isinstance(rnaseq_fastq_files, str):\n",
    "    if os.isdir(rnaseq_fastq_files):  # is a directory\n",
    "        rnaseq_fastq_files = order_fastqs_correctly_for_kb_count(rnaseq_fastq_files, technology=technology, multiplexed=multiplexed)\n",
    "    else:  # is a space-separated string\n",
    "        rnaseq_fastq_files = [rnaseq_fastq_files]\n",
    "\n",
    "adata_path = f\"{kb_count_out}/counts_unfiltered/adata.h5ad\"\n",
    "adata_path_wt_vcrs = f\"{kb_count_out_wt_vcrs}/counts_unfiltered/adata.h5ad\"\n",
    "adata_path_normal_genome = f\"{kb_count_out_standard_index}/counts_unfiltered/adata.h5ad\"\n",
    "mutation_metadata_df_path = os.path.join(index_dir, \"variants_updated_filtered.csv\")"
   ]
  },
  {
   "cell_type": "code",
   "execution_count": null,
   "metadata": {},
   "outputs": [],
   "source": [
    "rnaseq_fastq_files_list_dict = vk.fastqpp(\n",
    "    rnaseq_fastq_files_list=rnaseq_fastq_files, \n",
    "    trim_edges_off_reads = trim_edges_off_reads, \n",
    "    run_fastqc = run_fastqc, \n",
    "    split_reads_by_Ns_and_low_quality_bases = split_reads_by_Ns_and_low_quality_bases, \n",
    "    parity = parity, \n",
    "    technology=technology,\n",
    "    fastqc_out_dir = fastqc_out_dir,\n",
    "    minimum_base_quality_trim_reads = minimum_base_quality_trim_reads,\n",
    "    qualified_quality_phred = qualified_quality_phred,\n",
    "    unqualified_percent_limit = unqualified_percent_limit,\n",
    "    n_base_limit = n_base_limit,\n",
    "    minimum_length = k,\n",
    "    minimum_base_quality_replace_with_N=minimum_base_quality_replace_with_N,\n",
    "    fastp = \"fastp\",\n",
    "    seqtk = seqtk,\n",
    "    delete_intermediate_files = False\n",
    ")\n",
    "\n",
    "rnaseq_fastq_files_quality_controlled = rnaseq_fastq_files_list_dict[\"quality_controlled\"]\n",
    "rnaseq_fastq_files_final = rnaseq_fastq_files_list_dict[\"final\"]"
   ]
  },
  {
   "cell_type": "markdown",
   "metadata": {},
   "source": [
    "# kb count"
   ]
  },
  {
   "cell_type": "code",
   "execution_count": null,
   "metadata": {},
   "outputs": [],
   "source": [
    "if not os.path.exists(kb_count_out) or len(os.listdir(kb_count_out)) == 0:\n",
    "    kb_count_command = [\"kb\", \"count\", \"-t\", str(threads), \"-k\", str(k), \"-i\", mutation_index, \"-g\", t2g_vk_filter, \"-x\", technology, \"--num\", \"--h5ad\", \"--parity\", \"single\", \"--strand\", strand, \"-o\", kb_count_out] + rnaseq_fastq_files_final\n",
    "    subprocess.run(kb_count_command, check=True)"
   ]
  },
  {
   "cell_type": "markdown",
   "metadata": {},
   "source": [
    "kb count on wt vcrs index"
   ]
  },
  {
   "cell_type": "code",
   "execution_count": null,
   "metadata": {},
   "outputs": [],
   "source": [
    "if os.path.exists(wt_vcrs_index) and (not os.path.exists(kb_count_out_wt_vcrs) or len(os.listdir(kb_count_out_wt_vcrs)) == 0):\n",
    "    kb_count_command = [\"kb\", \"count\", \"-t\", str(threads), \"-k\", str(k), \"-i\", wt_vcrs_index, \"-g\", wt_vcrs_t2g, \"-x\", technology, \"--num\", \"--h5ad\", \"--parity\", \"single\", \"--strand\", strand, \"-o\", kb_count_out_wt_vcrs] + rnaseq_fastq_files_final\n",
    "    subprocess.run(kb_count_command, check=True)"
   ]
  },
  {
   "cell_type": "markdown",
   "metadata": {},
   "source": [
    "# Optionally, kb ref and count on normal genome"
   ]
  },
  {
   "cell_type": "code",
   "execution_count": null,
   "metadata": {},
   "outputs": [],
   "source": [
    "if not os.path.exists(standard_index) or not os.path.exists(standard_t2g):\n",
    "    if k_standard == 31:\n",
    "        kb_ref_command = [\"kb\", \"ref\", \"-t\", str(threads), \"-i\", standard_index, \"-g\", standard_t2g, \"-d\", \"human\"]\n",
    "    else:  \n",
    "        kb_ref_command = [\"kb\", \"ref\", \"-t\", str(threads), \"-k\", str(k_standard), \"-i\", standard_index, \"-g\", standard_t2g, standard_genome, standard_gtf]\n",
    "    subprocess.run(kb_ref_command, check=True)\n",
    "\n",
    "# TODO: incorporate technology bulk vs sc in here\n",
    "if not os.path.exists(kb_count_out_standard_index) or len(os.listdir(kb_count_out_standard_index)) == 0:\n",
    "    kb_count_standard_index_command = [\"kb\", \"count\", \"-t\", str(threads), \"-k\", str(k_standard), \"-i\", standard_index, \"-g\", standard_t2g, \"-x\", \"bulk\", \"--h5ad\", \"--parity\", parity, \"--strand\", strand, \"-o\", kb_count_out_standard_index] + rnaseq_fastq_files_quality_controlled\n",
    "    subprocess.run(kb_count_standard_index_command, check=True)"
   ]
  },
  {
   "cell_type": "markdown",
   "metadata": {},
   "source": [
    "# vk clean"
   ]
  },
  {
   "cell_type": "code",
   "execution_count": null,
   "metadata": {},
   "outputs": [],
   "source": [
    "# TODO: wrap inside a single vk clean command\n",
    "adata_path_clean = vk.clean(adata_path, output_figures_dir = f\"{out_dir_notebook}/vk_clean_figures\", mutation_metadata_df = mutation_metadata_df_path, mutation_metadata_df_columns = mutation_metadata_df_columns, minimum_count_filter = minimum_count_filter, use_binary_matrix = use_binary_matrix, drop_zero_columns = drop_zero_columns, filter_cells_by_min_counts = filter_cells_by_min_counts, filter_cells_by_min_genes = filter_cells_by_min_genes, filter_genes_by_min_cells = filter_genes_by_min_cells, filter_cells_by_max_mt_content = filter_cells_by_max_mt_content, doublet_detection = doublet_detection, remove_doublets = remove_doublets, do_cpm_normalization = do_cpm_normalization, adata_path_normal_genome = adata_path_normal_genome, vcrs_id_column = \"vcrs_id\")\n",
    "\n",
    "if os.path.exists(adata_path_wt_vcrs):\n",
    "    adata_path_wt_vcrs_clean = vk.clean(adata_path_wt_vcrs, output_figures_dir = f\"{out_dir_notebook}/vk_clean_figures_wt_vcrs\", mutation_metadata_df = mutation_metadata_df_path, mutation_metadata_df_columns = mutation_metadata_df_columns, minimum_count_filter = minimum_count_filter, use_binary_matrix = use_binary_matrix, drop_zero_columns = drop_zero_columns, filter_cells_by_min_counts = filter_cells_by_min_counts, filter_cells_by_min_genes = filter_cells_by_min_genes, filter_genes_by_min_cells = filter_genes_by_min_cells, filter_cells_by_max_mt_content = filter_cells_by_max_mt_content, doublet_detection = doublet_detection, remove_doublets = remove_doublets, do_cpm_normalization = do_cpm_normalization, adata_path_normal_genome = adata_path_normal_genome, vcrs_id_column = \"vcrs_id\")\n",
    "    \n",
    "adata_vaf_output_path = make_vaf_matrix(adata_path_clean, adata_path_wt_vcrs_clean)"
   ]
  },
  {
   "cell_type": "code",
   "execution_count": null,
   "metadata": {},
   "outputs": [],
   "source": [
    "import os\n",
    "import subprocess\n",
    "import scanpy as sc\n",
    "import numpy as np\n",
    "import pandas as pd\n",
    "import scipy.sparse as sp\n",
    "import pysam\n",
    "\n",
    "import varseek as vk\n",
    "from varseek.utils import make_vaf_matrix, add_vcf_info_to_cosmic_tsv, match_adata_orders, write_to_vcf, write_vcfs_for_rows\n",
    "\n",
    "adata_path_clean = \"/Users/joeyrich/Desktop/local/varseek/data/varseek_count_out_alignment_visualization/kb_count_out_vcrs/counts_unfiltered/adata.h5ad\"\n",
    "cosmic_tsv = \"/Users/joeyrich/Desktop/local/varseek/data/reference/cosmic/CancerMutationCensus_AllData_Tsv_v101_GRCh37/CancerMutationCensus_AllData_v101_GRCh37.tsv\"\n",
    "reference_genome_fasta = \"/Users/joeyrich/Desktop/local/varseek/data/reference/ensembl_grch37_release93/Homo_sapiens.GRCh37.dna.primary_assembly.fa\"  # grch37, ensembl93\n",
    "cosmic_cdna_info_csv = \"/Users/joeyrich/Desktop/local/varseek/data/reference/cosmic/CancerMutationCensus_AllData_Tsv_v101_GRCh37/CancerMutationCensus_AllData_v101_GRCh37_mutation_workflow.csv\"\n",
    "\n",
    "# I need a metadata df with ID (corresponding to vcrs_header), CHROM, POS, REF, ALT\n",
    "cosmic_df = add_vcf_info_to_cosmic_tsv(cosmic_tsv=cosmic_tsv, reference_genome_fasta=reference_genome_fasta, cosmic_df_out = None, cosmic_cdna_info_csv = cosmic_cdna_info_csv, mutation_source = \"cdna\")\n",
    "\n",
    "adata = sc.read_h5ad(adata_path_clean)\n",
    "\n",
    "adata.var[\"vcrs_header\"] = adata.var.index  #!!! erase - normally done inside clean\n",
    "adata.var[\"vcrs_header_copy\"] = adata.var[\"vcrs_header\"]\n",
    "adata_var_temp = adata.var[['vcrs_header_copy', 'vcrs_header']].copy()\n",
    "\n",
    "# explode across semicolons\n",
    "adata_var_temp = adata_var_temp.assign(\n",
    "    vcrs_header=adata_var_temp[\"vcrs_header\"].str.split(\";\")\n",
    ").explode(\"vcrs_header\")\n",
    "\n",
    "adata_var_temp.reset_index(drop=True, inplace=True)\n",
    "\n",
    "adata_var_temp = adata_var_temp.merge(cosmic_df, left_on=\"vcrs_header\", right_on=\"ID\", how=\"left\")"
   ]
  },
  {
   "cell_type": "code",
   "execution_count": null,
   "metadata": {},
   "outputs": [],
   "source": []
  },
  {
   "cell_type": "code",
   "execution_count": 26,
   "metadata": {},
   "outputs": [
    {
     "data": {
      "application/vnd.microsoft.datawrangler.viewer.v0+json": {
       "columns": [
        {
         "name": "index",
         "rawType": "int64",
         "type": "integer"
        },
        {
         "name": "vcrs_header",
         "rawType": "object",
         "type": "string"
        },
        {
         "name": "CHROM",
         "rawType": "object",
         "type": "string"
        },
        {
         "name": "POS",
         "rawType": "float64",
         "type": "float"
        },
        {
         "name": "ID",
         "rawType": "object",
         "type": "string"
        },
        {
         "name": "REF",
         "rawType": "object",
         "type": "string"
        },
        {
         "name": "ALT",
         "rawType": "object",
         "type": "string"
        }
       ],
       "conversionMethod": "pd.DataFrame",
       "ref": "8d717137-f1c3-430b-a55e-a9a088201507",
       "rows": [
        [
         "0",
         "ENST00000391429:c.194C>T",
         "17",
         "1174046.0",
         "ENST00000391429:c.194C>T",
         "C",
         "T"
        ],
        [
         "1",
         "ENST00000391429:c.128C>A",
         "17",
         "1173980.0",
         "ENST00000391429:c.128C>A",
         "C",
         "A"
        ],
        [
         "2",
         "ENST00000391429:c.257C>A",
         "17",
         "1174109.0",
         "ENST00000391429:c.257C>A",
         "C",
         "A"
        ],
        [
         "3",
         "ENST00000391429:c.100G>A",
         "17",
         "1173952.0",
         "ENST00000391429:c.100G>A",
         "G",
         "A"
        ],
        [
         "4",
         "ENST00000391429:c.99G>A",
         "17",
         "1173951.0",
         "ENST00000391429:c.99G>A",
         "G",
         "A"
        ]
       ],
       "shape": {
        "columns": 6,
        "rows": 5
       }
      },
      "text/html": [
       "<div>\n",
       "<style scoped>\n",
       "    .dataframe tbody tr th:only-of-type {\n",
       "        vertical-align: middle;\n",
       "    }\n",
       "\n",
       "    .dataframe tbody tr th {\n",
       "        vertical-align: top;\n",
       "    }\n",
       "\n",
       "    .dataframe thead th {\n",
       "        text-align: right;\n",
       "    }\n",
       "</style>\n",
       "<table border=\"1\" class=\"dataframe\">\n",
       "  <thead>\n",
       "    <tr style=\"text-align: right;\">\n",
       "      <th></th>\n",
       "      <th>vcrs_header</th>\n",
       "      <th>CHROM</th>\n",
       "      <th>POS</th>\n",
       "      <th>ID</th>\n",
       "      <th>REF</th>\n",
       "      <th>ALT</th>\n",
       "    </tr>\n",
       "  </thead>\n",
       "  <tbody>\n",
       "    <tr>\n",
       "      <th>0</th>\n",
       "      <td>ENST00000391429:c.194C&gt;T</td>\n",
       "      <td>17</td>\n",
       "      <td>1174046.0</td>\n",
       "      <td>ENST00000391429:c.194C&gt;T</td>\n",
       "      <td>C</td>\n",
       "      <td>T</td>\n",
       "    </tr>\n",
       "    <tr>\n",
       "      <th>1</th>\n",
       "      <td>ENST00000391429:c.128C&gt;A</td>\n",
       "      <td>17</td>\n",
       "      <td>1173980.0</td>\n",
       "      <td>ENST00000391429:c.128C&gt;A</td>\n",
       "      <td>C</td>\n",
       "      <td>A</td>\n",
       "    </tr>\n",
       "    <tr>\n",
       "      <th>2</th>\n",
       "      <td>ENST00000391429:c.257C&gt;A</td>\n",
       "      <td>17</td>\n",
       "      <td>1174109.0</td>\n",
       "      <td>ENST00000391429:c.257C&gt;A</td>\n",
       "      <td>C</td>\n",
       "      <td>A</td>\n",
       "    </tr>\n",
       "    <tr>\n",
       "      <th>3</th>\n",
       "      <td>ENST00000391429:c.100G&gt;A</td>\n",
       "      <td>17</td>\n",
       "      <td>1173952.0</td>\n",
       "      <td>ENST00000391429:c.100G&gt;A</td>\n",
       "      <td>G</td>\n",
       "      <td>A</td>\n",
       "    </tr>\n",
       "    <tr>\n",
       "      <th>4</th>\n",
       "      <td>ENST00000391429:c.99G&gt;A</td>\n",
       "      <td>17</td>\n",
       "      <td>1173951.0</td>\n",
       "      <td>ENST00000391429:c.99G&gt;A</td>\n",
       "      <td>G</td>\n",
       "      <td>A</td>\n",
       "    </tr>\n",
       "  </tbody>\n",
       "</table>\n",
       "</div>"
      ],
      "text/plain": [
       "                vcrs_header CHROM        POS                        ID REF ALT\n",
       "0  ENST00000391429:c.194C>T    17  1174046.0  ENST00000391429:c.194C>T   C   T\n",
       "1  ENST00000391429:c.128C>A    17  1173980.0  ENST00000391429:c.128C>A   C   A\n",
       "2  ENST00000391429:c.257C>A    17  1174109.0  ENST00000391429:c.257C>A   C   A\n",
       "3  ENST00000391429:c.100G>A    17  1173952.0  ENST00000391429:c.100G>A   G   A\n",
       "4   ENST00000391429:c.99G>A    17  1173951.0   ENST00000391429:c.99G>A   G   A"
      ]
     },
     "execution_count": 26,
     "metadata": {},
     "output_type": "execute_result"
    }
   ],
   "source": [
    "adata_var_temp.head()"
   ]
  },
  {
   "cell_type": "code",
   "execution_count": 23,
   "metadata": {},
   "outputs": [
    {
     "ename": "ValueError",
     "evalue": "cannot perform both aggregation and transformation operations simultaneously",
     "output_type": "error",
     "traceback": [
      "\u001b[0;31m---------------------------------------------------------------------------\u001b[0m",
      "\u001b[0;31mValueError\u001b[0m                                Traceback (most recent call last)",
      "Cell \u001b[0;32mIn[23], line 3\u001b[0m\n\u001b[1;32m      1\u001b[0m grouped_adata_var_temp \u001b[38;5;241m=\u001b[39m (\n\u001b[1;32m      2\u001b[0m     \u001b[43madata_var_temp\u001b[49m\n\u001b[0;32m----> 3\u001b[0m \u001b[43m    \u001b[49m\u001b[38;5;241;43m.\u001b[39;49m\u001b[43magg\u001b[49m\u001b[43m(\u001b[49m\u001b[43m{\u001b[49m\n\u001b[1;32m      4\u001b[0m \u001b[43m        \u001b[49m\u001b[38;5;124;43m\"\u001b[39;49m\u001b[38;5;124;43mvcrs_header\u001b[39;49m\u001b[38;5;124;43m\"\u001b[39;49m\u001b[43m:\u001b[49m\u001b[43m \u001b[49m\u001b[38;5;28;43;01mlambda\u001b[39;49;00m\u001b[43m \u001b[49m\u001b[43mx\u001b[49m\u001b[43m:\u001b[49m\u001b[43m \u001b[49m\u001b[38;5;124;43m\"\u001b[39;49m\u001b[38;5;124;43m;\u001b[39;49m\u001b[38;5;124;43m\"\u001b[39;49m\u001b[38;5;241;43m.\u001b[39;49m\u001b[43mjoin\u001b[49m\u001b[43m(\u001b[49m\u001b[43mx\u001b[49m\u001b[43m)\u001b[49m\u001b[43m,\u001b[49m\u001b[43m  \u001b[49m\u001b[38;5;66;43;03m# Reconstruct vcrs_header as a single string\u001b[39;49;00m\n\u001b[1;32m      5\u001b[0m \u001b[43m        \u001b[49m\u001b[38;5;124;43m\"\u001b[39;49m\u001b[38;5;124;43mCHROM\u001b[39;49m\u001b[38;5;124;43m\"\u001b[39;49m\u001b[43m:\u001b[49m\u001b[43m \u001b[49m\u001b[38;5;28;43mset\u001b[39;49m\u001b[43m,\u001b[49m\u001b[43m  \u001b[49m\u001b[38;5;66;43;03m# Collect CHROM values in the same order as rows\u001b[39;49;00m\n\u001b[1;32m      6\u001b[0m \u001b[43m        \u001b[49m\u001b[38;5;124;43m\"\u001b[39;49m\u001b[38;5;124;43mPOS\u001b[39;49m\u001b[38;5;124;43m\"\u001b[39;49m\u001b[43m:\u001b[49m\u001b[43m \u001b[49m\u001b[38;5;28;43mset\u001b[39;49m\u001b[43m,\u001b[49m\u001b[43m    \u001b[49m\u001b[38;5;66;43;03m# Collect POS values\u001b[39;49;00m\n\u001b[1;32m      7\u001b[0m \u001b[43m        \u001b[49m\u001b[38;5;124;43m\"\u001b[39;49m\u001b[38;5;124;43mREF\u001b[39;49m\u001b[38;5;124;43m\"\u001b[39;49m\u001b[43m:\u001b[49m\u001b[43m \u001b[49m\u001b[38;5;28;43mset\u001b[39;49m\u001b[43m,\u001b[49m\u001b[43m    \u001b[49m\u001b[38;5;66;43;03m# Collect REF values\u001b[39;49;00m\n\u001b[1;32m      8\u001b[0m \u001b[43m        \u001b[49m\u001b[38;5;124;43m\"\u001b[39;49m\u001b[38;5;124;43mALT\u001b[39;49m\u001b[38;5;124;43m\"\u001b[39;49m\u001b[43m:\u001b[49m\u001b[43m \u001b[49m\u001b[38;5;28;43mset\u001b[39;49m\u001b[43m     \u001b[49m\u001b[38;5;66;43;03m# Collect ALT values\u001b[39;49;00m\n\u001b[1;32m      9\u001b[0m \u001b[43m    \u001b[49m\u001b[43m}\u001b[49m\u001b[43m)\u001b[49m\n\u001b[1;32m     10\u001b[0m     \u001b[38;5;241m.\u001b[39mreset_index()  \u001b[38;5;66;03m# Reset index for cleaner result\u001b[39;00m\n\u001b[1;32m     11\u001b[0m )\n\u001b[1;32m     13\u001b[0m \u001b[38;5;28;01mfor\u001b[39;00m col \u001b[38;5;129;01min\u001b[39;00m [\u001b[38;5;124m\"\u001b[39m\u001b[38;5;124mCHROM\u001b[39m\u001b[38;5;124m\"\u001b[39m, \u001b[38;5;124m\"\u001b[39m\u001b[38;5;124mPOS\u001b[39m\u001b[38;5;124m\"\u001b[39m, \u001b[38;5;124m\"\u001b[39m\u001b[38;5;124mREF\u001b[39m\u001b[38;5;124m\"\u001b[39m, \u001b[38;5;124m\"\u001b[39m\u001b[38;5;124mALT\u001b[39m\u001b[38;5;124m\"\u001b[39m]:\n\u001b[1;32m     14\u001b[0m     grouped_adata_var_temp \u001b[38;5;241m=\u001b[39m grouped_adata_var_temp[grouped_adata_var_temp[col]\u001b[38;5;241m.\u001b[39mapply(\u001b[38;5;28;01mlambda\u001b[39;00m x: \u001b[38;5;28mlen\u001b[39m(\u001b[38;5;28mset\u001b[39m(x)) \u001b[38;5;241m==\u001b[39m \u001b[38;5;241m1\u001b[39m)]\n",
      "File \u001b[0;32m~/miniconda3/envs/varseek/lib/python3.10/site-packages/pandas/core/frame.py:9342\u001b[0m, in \u001b[0;36mDataFrame.aggregate\u001b[0;34m(self, func, axis, *args, **kwargs)\u001b[0m\n\u001b[1;32m   9339\u001b[0m relabeling, func, columns, order \u001b[38;5;241m=\u001b[39m reconstruct_func(func, \u001b[38;5;241m*\u001b[39m\u001b[38;5;241m*\u001b[39mkwargs)\n\u001b[1;32m   9341\u001b[0m op \u001b[38;5;241m=\u001b[39m frame_apply(\u001b[38;5;28mself\u001b[39m, func\u001b[38;5;241m=\u001b[39mfunc, axis\u001b[38;5;241m=\u001b[39maxis, args\u001b[38;5;241m=\u001b[39margs, kwargs\u001b[38;5;241m=\u001b[39mkwargs)\n\u001b[0;32m-> 9342\u001b[0m result \u001b[38;5;241m=\u001b[39m \u001b[43mop\u001b[49m\u001b[38;5;241;43m.\u001b[39;49m\u001b[43magg\u001b[49m\u001b[43m(\u001b[49m\u001b[43m)\u001b[49m\n\u001b[1;32m   9344\u001b[0m \u001b[38;5;28;01mif\u001b[39;00m relabeling:\n\u001b[1;32m   9345\u001b[0m     \u001b[38;5;66;03m# This is to keep the order to columns occurrence unchanged, and also\u001b[39;00m\n\u001b[1;32m   9346\u001b[0m     \u001b[38;5;66;03m# keep the order of new columns occurrence unchanged\u001b[39;00m\n\u001b[1;32m   9347\u001b[0m \n\u001b[1;32m   9348\u001b[0m     \u001b[38;5;66;03m# For the return values of reconstruct_func, if relabeling is\u001b[39;00m\n\u001b[1;32m   9349\u001b[0m     \u001b[38;5;66;03m# False, columns and order will be None.\u001b[39;00m\n\u001b[1;32m   9350\u001b[0m     \u001b[38;5;28;01massert\u001b[39;00m columns \u001b[38;5;129;01mis\u001b[39;00m \u001b[38;5;129;01mnot\u001b[39;00m \u001b[38;5;28;01mNone\u001b[39;00m\n",
      "File \u001b[0;32m~/miniconda3/envs/varseek/lib/python3.10/site-packages/pandas/core/apply.py:776\u001b[0m, in \u001b[0;36mFrameApply.agg\u001b[0;34m(self)\u001b[0m\n\u001b[1;32m    774\u001b[0m result \u001b[38;5;241m=\u001b[39m \u001b[38;5;28;01mNone\u001b[39;00m\n\u001b[1;32m    775\u001b[0m \u001b[38;5;28;01mtry\u001b[39;00m:\n\u001b[0;32m--> 776\u001b[0m     result \u001b[38;5;241m=\u001b[39m \u001b[38;5;28;43msuper\u001b[39;49m\u001b[43m(\u001b[49m\u001b[43m)\u001b[49m\u001b[38;5;241;43m.\u001b[39;49m\u001b[43magg\u001b[49m\u001b[43m(\u001b[49m\u001b[43m)\u001b[49m\n\u001b[1;32m    777\u001b[0m \u001b[38;5;28;01mexcept\u001b[39;00m \u001b[38;5;167;01mTypeError\u001b[39;00m \u001b[38;5;28;01mas\u001b[39;00m err:\n\u001b[1;32m    778\u001b[0m     exc \u001b[38;5;241m=\u001b[39m \u001b[38;5;167;01mTypeError\u001b[39;00m(\n\u001b[1;32m    779\u001b[0m         \u001b[38;5;124m\"\u001b[39m\u001b[38;5;124mDataFrame constructor called with \u001b[39m\u001b[38;5;124m\"\u001b[39m\n\u001b[1;32m    780\u001b[0m         \u001b[38;5;124mf\u001b[39m\u001b[38;5;124m\"\u001b[39m\u001b[38;5;124mincompatible data and dtype: \u001b[39m\u001b[38;5;132;01m{\u001b[39;00merr\u001b[38;5;132;01m}\u001b[39;00m\u001b[38;5;124m\"\u001b[39m\n\u001b[1;32m    781\u001b[0m     )\n",
      "File \u001b[0;32m~/miniconda3/envs/varseek/lib/python3.10/site-packages/pandas/core/apply.py:172\u001b[0m, in \u001b[0;36mApply.agg\u001b[0;34m(self)\u001b[0m\n\u001b[1;32m    169\u001b[0m     \u001b[38;5;28;01mreturn\u001b[39;00m \u001b[38;5;28mself\u001b[39m\u001b[38;5;241m.\u001b[39mapply_str()\n\u001b[1;32m    171\u001b[0m \u001b[38;5;28;01mif\u001b[39;00m is_dict_like(arg):\n\u001b[0;32m--> 172\u001b[0m     \u001b[38;5;28;01mreturn\u001b[39;00m \u001b[38;5;28;43mself\u001b[39;49m\u001b[38;5;241;43m.\u001b[39;49m\u001b[43magg_dict_like\u001b[49m\u001b[43m(\u001b[49m\u001b[43m)\u001b[49m\n\u001b[1;32m    173\u001b[0m \u001b[38;5;28;01melif\u001b[39;00m is_list_like(arg):\n\u001b[1;32m    174\u001b[0m     \u001b[38;5;66;03m# we require a list, but not a 'str'\u001b[39;00m\n\u001b[1;32m    175\u001b[0m     \u001b[38;5;28;01mreturn\u001b[39;00m \u001b[38;5;28mself\u001b[39m\u001b[38;5;241m.\u001b[39magg_list_like()\n",
      "File \u001b[0;32m~/miniconda3/envs/varseek/lib/python3.10/site-packages/pandas/core/apply.py:532\u001b[0m, in \u001b[0;36mApply.agg_dict_like\u001b[0;34m(self)\u001b[0m\n\u001b[1;32m    527\u001b[0m     result \u001b[38;5;241m=\u001b[39m concat(\n\u001b[1;32m    528\u001b[0m         {k: results[k] \u001b[38;5;28;01mfor\u001b[39;00m k \u001b[38;5;129;01min\u001b[39;00m keys_to_use}, axis\u001b[38;5;241m=\u001b[39maxis, keys\u001b[38;5;241m=\u001b[39mkeys_to_use\n\u001b[1;32m    529\u001b[0m     )\n\u001b[1;32m    530\u001b[0m \u001b[38;5;28;01melif\u001b[39;00m \u001b[38;5;28many\u001b[39m(is_ndframe):\n\u001b[1;32m    531\u001b[0m     \u001b[38;5;66;03m# There is a mix of NDFrames and scalars\u001b[39;00m\n\u001b[0;32m--> 532\u001b[0m     \u001b[38;5;28;01mraise\u001b[39;00m \u001b[38;5;167;01mValueError\u001b[39;00m(\n\u001b[1;32m    533\u001b[0m         \u001b[38;5;124m\"\u001b[39m\u001b[38;5;124mcannot perform both aggregation \u001b[39m\u001b[38;5;124m\"\u001b[39m\n\u001b[1;32m    534\u001b[0m         \u001b[38;5;124m\"\u001b[39m\u001b[38;5;124mand transformation operations \u001b[39m\u001b[38;5;124m\"\u001b[39m\n\u001b[1;32m    535\u001b[0m         \u001b[38;5;124m\"\u001b[39m\u001b[38;5;124msimultaneously\u001b[39m\u001b[38;5;124m\"\u001b[39m\n\u001b[1;32m    536\u001b[0m     )\n\u001b[1;32m    537\u001b[0m \u001b[38;5;28;01melse\u001b[39;00m:\n\u001b[1;32m    538\u001b[0m     \u001b[38;5;28;01mfrom\u001b[39;00m\u001b[38;5;250m \u001b[39m\u001b[38;5;21;01mpandas\u001b[39;00m\u001b[38;5;250m \u001b[39m\u001b[38;5;28;01mimport\u001b[39;00m Series\n",
      "\u001b[0;31mValueError\u001b[0m: cannot perform both aggregation and transformation operations simultaneously"
     ]
    }
   ],
   "source": [
    "# grouped_adata_var_temp = (\n",
    "#     adata_var_temp\n",
    "#     .groupby(\"vcrs_header_copy\", sort=False)  # Group by vcrs_header_copy while preserving order\n",
    "#     .agg({\n",
    "#         \"vcrs_header\": lambda x: \";\".join(x),  # Reconstruct vcrs_header as a single string\n",
    "#         \"CHROM\": set,  # Collect CHROM values in the same order as rows\n",
    "#         \"POS\": set,    # Collect POS values\n",
    "#         \"REF\": set,    # Collect REF values\n",
    "#         \"ALT\": set     # Collect ALT values\n",
    "#     })\n",
    "#     .reset_index()  # Reset index for cleaner result\n",
    "# )\n",
    "\n",
    "for col in [\"CHROM\", \"POS\", \"REF\", \"ALT\"]:\n",
    "    grouped_adata_var_temp = grouped_adata_var_temp[grouped_adata_var_temp[col].apply(lambda x: len(set(x)) == 1)]\n",
    "    grouped_adata_var_temp[col] = grouped_adata_var_temp[col].apply(lambda x: x[0])\n",
    "\n",
    "adata.var = adata.var.merge(grouped_adata_var_temp, on=\"vcrs_header\", how=\"left\", suffixes=(\"_original\", \"\"))\n",
    "adata.var['ID'] = adata.var['ID'].fillna(adata.var['vcrs_header'])\n",
    "\n",
    "if sp.issparse(adata.X):\n",
    "    # Sparse matrix handling\n",
    "    adata.var[\"NS\"] = np.array((adata.X != 0).sum(axis=0)).flatten()\n",
    "else:\n",
    "    # Dense matrix handling\n",
    "    adata.var[\"NS\"] = (adata.X != 0).sum(axis=0)\n",
    "\n",
    "\n",
    "# adata.var['DP'] = adata.var['vcrs_count'] + adata.var['wt_count']\n",
    "# adata.var['AF'] = adata.var['vaf_across_samples']\n",
    "# adata_wt_vcrs = sc.read_h5ad(adata_path_wt_vcrs_clean)\n",
    "# adata_vaf = sc.read_h5ad(adata_vaf_output_path)\n",
    "\n",
    "write_to_vcf(adata.var, \"output.vcf\")\n",
    "\n",
    "\n",
    "# adata_wt_vcrs = match_adata_orders(adata = adata_wt_vcrs, adata_ref = adata)\n",
    "# adata_vaf = match_adata_orders(adata = adata_vaf, adata_ref = adata)\n",
    "\n",
    "# write_vcfs_for_rows(adata = adata, adata_wt_vcrs = adata_wt_vcrs, adata_vaf = adata_vaf, output_dir = \".\")"
   ]
  },
  {
   "cell_type": "markdown",
   "metadata": {},
   "source": [
    "# vk summarize"
   ]
  },
  {
   "cell_type": "code",
   "execution_count": null,
   "metadata": {},
   "outputs": [],
   "source": [
    "vk.summarize(adata_path_clean, technology = technology, output_dir = vk_summarize_output_dir, overwrite = False, top_values = 10)"
   ]
  },
  {
   "cell_type": "code",
   "execution_count": 100,
   "metadata": {},
   "outputs": [],
   "source": [
    "import pandas as pd\n",
    "\n",
    "# Define the data\n",
    "data = {\n",
    "    \"vcrs_header\": [\"header1\", \"header2;header3\", \"header4;header5;header6\", \"header7\", \"header8\"],\n",
    "    \"vcrs_count\": [1, 4, 2, 99, 0],\n",
    "    \"number_obs\": [1, 2, 1, 3, 0],\n",
    "}\n",
    "\n",
    "# Create the DataFrame\n",
    "adata_var = pd.DataFrame(data)"
   ]
  },
  {
   "cell_type": "code",
   "execution_count": 101,
   "metadata": {},
   "outputs": [],
   "source": [
    "adata_var_temp = adata_var.loc[adata_var[\"vcrs_count\"] > 0].copy()\n",
    "adata_var_temp[\"vcrs_header_copy\"] = adata_var_temp[\"vcrs_header\"]\n",
    "adata_var_temp.rename(columns={\"vcrs_count\": \"DP\", \"number_obs\": \"NS\"}, inplace=True)"
   ]
  },
  {
   "cell_type": "code",
   "execution_count": 85,
   "metadata": {},
   "outputs": [
    {
     "data": {
      "application/vnd.microsoft.datawrangler.viewer.v0+json": {
       "columns": [
        {
         "name": "index",
         "rawType": "int64",
         "type": "integer"
        },
        {
         "name": "vcrs_header",
         "rawType": "object",
         "type": "string"
        },
        {
         "name": "DP",
         "rawType": "int64",
         "type": "integer"
        },
        {
         "name": "NS",
         "rawType": "int64",
         "type": "integer"
        },
        {
         "name": "vcrs_header_copy",
         "rawType": "object",
         "type": "string"
        }
       ],
       "conversionMethod": "pd.DataFrame",
       "ref": "6bddd591-fc04-43dd-98ae-863f4629711a",
       "rows": [
        [
         "0",
         "header1",
         "1",
         "1",
         "header1"
        ],
        [
         "1",
         "header2;header3",
         "4",
         "2",
         "header2;header3"
        ],
        [
         "2",
         "header4;header5;header6",
         "2",
         "1",
         "header4;header5;header6"
        ],
        [
         "3",
         "header7",
         "99",
         "3",
         "header7"
        ]
       ],
       "shape": {
        "columns": 4,
        "rows": 4
       }
      },
      "text/html": [
       "<div>\n",
       "<style scoped>\n",
       "    .dataframe tbody tr th:only-of-type {\n",
       "        vertical-align: middle;\n",
       "    }\n",
       "\n",
       "    .dataframe tbody tr th {\n",
       "        vertical-align: top;\n",
       "    }\n",
       "\n",
       "    .dataframe thead th {\n",
       "        text-align: right;\n",
       "    }\n",
       "</style>\n",
       "<table border=\"1\" class=\"dataframe\">\n",
       "  <thead>\n",
       "    <tr style=\"text-align: right;\">\n",
       "      <th></th>\n",
       "      <th>vcrs_header</th>\n",
       "      <th>DP</th>\n",
       "      <th>NS</th>\n",
       "      <th>vcrs_header_copy</th>\n",
       "    </tr>\n",
       "  </thead>\n",
       "  <tbody>\n",
       "    <tr>\n",
       "      <th>0</th>\n",
       "      <td>header1</td>\n",
       "      <td>1</td>\n",
       "      <td>1</td>\n",
       "      <td>header1</td>\n",
       "    </tr>\n",
       "    <tr>\n",
       "      <th>1</th>\n",
       "      <td>header2;header3</td>\n",
       "      <td>4</td>\n",
       "      <td>2</td>\n",
       "      <td>header2;header3</td>\n",
       "    </tr>\n",
       "    <tr>\n",
       "      <th>2</th>\n",
       "      <td>header4;header5;header6</td>\n",
       "      <td>2</td>\n",
       "      <td>1</td>\n",
       "      <td>header4;header5;header6</td>\n",
       "    </tr>\n",
       "    <tr>\n",
       "      <th>3</th>\n",
       "      <td>header7</td>\n",
       "      <td>99</td>\n",
       "      <td>3</td>\n",
       "      <td>header7</td>\n",
       "    </tr>\n",
       "  </tbody>\n",
       "</table>\n",
       "</div>"
      ],
      "text/plain": [
       "               vcrs_header  DP  NS         vcrs_header_copy\n",
       "0                  header1   1   1                  header1\n",
       "1          header2;header3   4   2          header2;header3\n",
       "2  header4;header5;header6   2   1  header4;header5;header6\n",
       "3                  header7  99   3                  header7"
      ]
     },
     "execution_count": 85,
     "metadata": {},
     "output_type": "execute_result"
    }
   ],
   "source": [
    "adata_var_temp"
   ]
  },
  {
   "cell_type": "code",
   "execution_count": 102,
   "metadata": {},
   "outputs": [],
   "source": [
    "# explode across semicolons\n",
    "adata_var_temp = adata_var_temp.assign(\n",
    "    vcrs_header=adata_var_temp[\"vcrs_header\"].str.split(\";\")\n",
    ").explode(\"vcrs_header\").reset_index(drop=True)"
   ]
  },
  {
   "cell_type": "code",
   "execution_count": 87,
   "metadata": {},
   "outputs": [
    {
     "data": {
      "application/vnd.microsoft.datawrangler.viewer.v0+json": {
       "columns": [
        {
         "name": "index",
         "rawType": "int64",
         "type": "integer"
        },
        {
         "name": "vcrs_header",
         "rawType": "object",
         "type": "string"
        },
        {
         "name": "DP",
         "rawType": "int64",
         "type": "integer"
        },
        {
         "name": "NS",
         "rawType": "int64",
         "type": "integer"
        },
        {
         "name": "vcrs_header_copy",
         "rawType": "object",
         "type": "string"
        }
       ],
       "conversionMethod": "pd.DataFrame",
       "ref": "b8f28796-da98-47b9-a7e7-7a6084dca383",
       "rows": [
        [
         "0",
         "header1",
         "1",
         "1",
         "header1"
        ],
        [
         "1",
         "header2",
         "4",
         "2",
         "header2;header3"
        ],
        [
         "2",
         "header3",
         "4",
         "2",
         "header2;header3"
        ],
        [
         "3",
         "header4",
         "2",
         "1",
         "header4;header5;header6"
        ],
        [
         "4",
         "header5",
         "2",
         "1",
         "header4;header5;header6"
        ],
        [
         "5",
         "header6",
         "2",
         "1",
         "header4;header5;header6"
        ],
        [
         "6",
         "header7",
         "99",
         "3",
         "header7"
        ]
       ],
       "shape": {
        "columns": 4,
        "rows": 7
       }
      },
      "text/html": [
       "<div>\n",
       "<style scoped>\n",
       "    .dataframe tbody tr th:only-of-type {\n",
       "        vertical-align: middle;\n",
       "    }\n",
       "\n",
       "    .dataframe tbody tr th {\n",
       "        vertical-align: top;\n",
       "    }\n",
       "\n",
       "    .dataframe thead th {\n",
       "        text-align: right;\n",
       "    }\n",
       "</style>\n",
       "<table border=\"1\" class=\"dataframe\">\n",
       "  <thead>\n",
       "    <tr style=\"text-align: right;\">\n",
       "      <th></th>\n",
       "      <th>vcrs_header</th>\n",
       "      <th>DP</th>\n",
       "      <th>NS</th>\n",
       "      <th>vcrs_header_copy</th>\n",
       "    </tr>\n",
       "  </thead>\n",
       "  <tbody>\n",
       "    <tr>\n",
       "      <th>0</th>\n",
       "      <td>header1</td>\n",
       "      <td>1</td>\n",
       "      <td>1</td>\n",
       "      <td>header1</td>\n",
       "    </tr>\n",
       "    <tr>\n",
       "      <th>1</th>\n",
       "      <td>header2</td>\n",
       "      <td>4</td>\n",
       "      <td>2</td>\n",
       "      <td>header2;header3</td>\n",
       "    </tr>\n",
       "    <tr>\n",
       "      <th>2</th>\n",
       "      <td>header3</td>\n",
       "      <td>4</td>\n",
       "      <td>2</td>\n",
       "      <td>header2;header3</td>\n",
       "    </tr>\n",
       "    <tr>\n",
       "      <th>3</th>\n",
       "      <td>header4</td>\n",
       "      <td>2</td>\n",
       "      <td>1</td>\n",
       "      <td>header4;header5;header6</td>\n",
       "    </tr>\n",
       "    <tr>\n",
       "      <th>4</th>\n",
       "      <td>header5</td>\n",
       "      <td>2</td>\n",
       "      <td>1</td>\n",
       "      <td>header4;header5;header6</td>\n",
       "    </tr>\n",
       "    <tr>\n",
       "      <th>5</th>\n",
       "      <td>header6</td>\n",
       "      <td>2</td>\n",
       "      <td>1</td>\n",
       "      <td>header4;header5;header6</td>\n",
       "    </tr>\n",
       "    <tr>\n",
       "      <th>6</th>\n",
       "      <td>header7</td>\n",
       "      <td>99</td>\n",
       "      <td>3</td>\n",
       "      <td>header7</td>\n",
       "    </tr>\n",
       "  </tbody>\n",
       "</table>\n",
       "</div>"
      ],
      "text/plain": [
       "  vcrs_header  DP  NS         vcrs_header_copy\n",
       "0     header1   1   1                  header1\n",
       "1     header2   4   2          header2;header3\n",
       "2     header3   4   2          header2;header3\n",
       "3     header4   2   1  header4;header5;header6\n",
       "4     header5   2   1  header4;header5;header6\n",
       "5     header6   2   1  header4;header5;header6\n",
       "6     header7  99   3                  header7"
      ]
     },
     "execution_count": 87,
     "metadata": {},
     "output_type": "execute_result"
    }
   ],
   "source": [
    "adata_var_temp"
   ]
  },
  {
   "cell_type": "code",
   "execution_count": 103,
   "metadata": {},
   "outputs": [],
   "source": [
    "# adata_var_temp = adata_var_temp.merge(cosmic_df, left_on=\"vcrs_header\", right_on=\"ID\", how=\"left\")\n",
    "adata_var_temp[\"CHROM\"] = [\"chr1\", \"chr2\", \"chr2\", \"chr4\", \"chr4\", \"chr6\", \"chr7\"]  #!!! temp\n",
    "adata_var_temp[\"POS\"] = [\"1\", \"2\", \"2\", \"4\", \"4\", \"6\", \"7\"]  #!!! temp\n",
    "adata_var_temp[\"REF\"] = [\"A\", \"A\", \"A\", \"A\", \"A\", \"A\", \"A\"]  #!!! temp\n",
    "adata_var_temp[\"ALT\"] = [\"A\", \"A\", \"A\", \"A\", \"A\", \"A\", \"A\"]  #!!! temp"
   ]
  },
  {
   "cell_type": "code",
   "execution_count": 104,
   "metadata": {},
   "outputs": [
    {
     "data": {
      "application/vnd.microsoft.datawrangler.viewer.v0+json": {
       "columns": [
        {
         "name": "index",
         "rawType": "int64",
         "type": "integer"
        },
        {
         "name": "vcrs_header",
         "rawType": "object",
         "type": "string"
        },
        {
         "name": "DP",
         "rawType": "int64",
         "type": "integer"
        },
        {
         "name": "NS",
         "rawType": "int64",
         "type": "integer"
        },
        {
         "name": "vcrs_header_copy",
         "rawType": "object",
         "type": "string"
        },
        {
         "name": "CHROM",
         "rawType": "object",
         "type": "string"
        },
        {
         "name": "POS",
         "rawType": "object",
         "type": "string"
        },
        {
         "name": "REF",
         "rawType": "object",
         "type": "string"
        },
        {
         "name": "ALT",
         "rawType": "object",
         "type": "string"
        }
       ],
       "conversionMethod": "pd.DataFrame",
       "ref": "97911ff5-f9bf-49c3-bbaf-2a9183ed5912",
       "rows": [
        [
         "0",
         "header1",
         "1",
         "1",
         "header1",
         "chr1",
         "1",
         "A",
         "A"
        ],
        [
         "1",
         "header2",
         "4",
         "2",
         "header2;header3",
         "chr2",
         "2",
         "A",
         "A"
        ],
        [
         "2",
         "header3",
         "4",
         "2",
         "header2;header3",
         "chr2",
         "2",
         "A",
         "A"
        ],
        [
         "3",
         "header4",
         "2",
         "1",
         "header4;header5;header6",
         "chr4",
         "4",
         "A",
         "A"
        ],
        [
         "4",
         "header5",
         "2",
         "1",
         "header4;header5;header6",
         "chr4",
         "4",
         "A",
         "A"
        ],
        [
         "5",
         "header6",
         "2",
         "1",
         "header4;header5;header6",
         "chr6",
         "6",
         "A",
         "A"
        ],
        [
         "6",
         "header7",
         "99",
         "3",
         "header7",
         "chr7",
         "7",
         "A",
         "A"
        ]
       ],
       "shape": {
        "columns": 8,
        "rows": 7
       }
      },
      "text/html": [
       "<div>\n",
       "<style scoped>\n",
       "    .dataframe tbody tr th:only-of-type {\n",
       "        vertical-align: middle;\n",
       "    }\n",
       "\n",
       "    .dataframe tbody tr th {\n",
       "        vertical-align: top;\n",
       "    }\n",
       "\n",
       "    .dataframe thead th {\n",
       "        text-align: right;\n",
       "    }\n",
       "</style>\n",
       "<table border=\"1\" class=\"dataframe\">\n",
       "  <thead>\n",
       "    <tr style=\"text-align: right;\">\n",
       "      <th></th>\n",
       "      <th>vcrs_header</th>\n",
       "      <th>DP</th>\n",
       "      <th>NS</th>\n",
       "      <th>vcrs_header_copy</th>\n",
       "      <th>CHROM</th>\n",
       "      <th>POS</th>\n",
       "      <th>REF</th>\n",
       "      <th>ALT</th>\n",
       "    </tr>\n",
       "  </thead>\n",
       "  <tbody>\n",
       "    <tr>\n",
       "      <th>0</th>\n",
       "      <td>header1</td>\n",
       "      <td>1</td>\n",
       "      <td>1</td>\n",
       "      <td>header1</td>\n",
       "      <td>chr1</td>\n",
       "      <td>1</td>\n",
       "      <td>A</td>\n",
       "      <td>A</td>\n",
       "    </tr>\n",
       "    <tr>\n",
       "      <th>1</th>\n",
       "      <td>header2</td>\n",
       "      <td>4</td>\n",
       "      <td>2</td>\n",
       "      <td>header2;header3</td>\n",
       "      <td>chr2</td>\n",
       "      <td>2</td>\n",
       "      <td>A</td>\n",
       "      <td>A</td>\n",
       "    </tr>\n",
       "    <tr>\n",
       "      <th>2</th>\n",
       "      <td>header3</td>\n",
       "      <td>4</td>\n",
       "      <td>2</td>\n",
       "      <td>header2;header3</td>\n",
       "      <td>chr2</td>\n",
       "      <td>2</td>\n",
       "      <td>A</td>\n",
       "      <td>A</td>\n",
       "    </tr>\n",
       "    <tr>\n",
       "      <th>3</th>\n",
       "      <td>header4</td>\n",
       "      <td>2</td>\n",
       "      <td>1</td>\n",
       "      <td>header4;header5;header6</td>\n",
       "      <td>chr4</td>\n",
       "      <td>4</td>\n",
       "      <td>A</td>\n",
       "      <td>A</td>\n",
       "    </tr>\n",
       "    <tr>\n",
       "      <th>4</th>\n",
       "      <td>header5</td>\n",
       "      <td>2</td>\n",
       "      <td>1</td>\n",
       "      <td>header4;header5;header6</td>\n",
       "      <td>chr4</td>\n",
       "      <td>4</td>\n",
       "      <td>A</td>\n",
       "      <td>A</td>\n",
       "    </tr>\n",
       "    <tr>\n",
       "      <th>5</th>\n",
       "      <td>header6</td>\n",
       "      <td>2</td>\n",
       "      <td>1</td>\n",
       "      <td>header4;header5;header6</td>\n",
       "      <td>chr6</td>\n",
       "      <td>6</td>\n",
       "      <td>A</td>\n",
       "      <td>A</td>\n",
       "    </tr>\n",
       "    <tr>\n",
       "      <th>6</th>\n",
       "      <td>header7</td>\n",
       "      <td>99</td>\n",
       "      <td>3</td>\n",
       "      <td>header7</td>\n",
       "      <td>chr7</td>\n",
       "      <td>7</td>\n",
       "      <td>A</td>\n",
       "      <td>A</td>\n",
       "    </tr>\n",
       "  </tbody>\n",
       "</table>\n",
       "</div>"
      ],
      "text/plain": [
       "  vcrs_header  DP  NS         vcrs_header_copy CHROM POS REF ALT\n",
       "0     header1   1   1                  header1  chr1   1   A   A\n",
       "1     header2   4   2          header2;header3  chr2   2   A   A\n",
       "2     header3   4   2          header2;header3  chr2   2   A   A\n",
       "3     header4   2   1  header4;header5;header6  chr4   4   A   A\n",
       "4     header5   2   1  header4;header5;header6  chr4   4   A   A\n",
       "5     header6   2   1  header4;header5;header6  chr6   6   A   A\n",
       "6     header7  99   3                  header7  chr7   7   A   A"
      ]
     },
     "execution_count": 104,
     "metadata": {},
     "output_type": "execute_result"
    }
   ],
   "source": [
    "adata_var_temp"
   ]
  },
  {
   "cell_type": "code",
   "execution_count": 110,
   "metadata": {},
   "outputs": [],
   "source": [
    "grouped_adata_var_temp = (\n",
    "    adata_var_temp\n",
    "    .groupby(\"vcrs_header_copy\", sort=False)  # Group by vcrs_header_copy while preserving order\n",
    "    .agg({\n",
    "        \"vcrs_header\": lambda x: \";\".join(x),  # Reconstruct vcrs_header as a single string\n",
    "        \"CHROM\": set,  # Collect CHROM values in the same order as rows\n",
    "        \"POS\": set,    # Collect POS values\n",
    "        \"REF\": set,    # Collect REF values\n",
    "        \"ALT\": set,    # Collect ALT values\n",
    "        \"DP\": \"first\",\n",
    "        \"NS\": \"first\",\n",
    "    })\n",
    "    .reset_index()  # Reset index for cleaner result\n",
    ")\n",
    "\n",
    "grouped_adata_var_temp = grouped_adata_var_temp.rename(columns={\"vcrs_header\": \"ID\"}).drop(columns=[\"vcrs_header_copy\"])"
   ]
  },
  {
   "cell_type": "code",
   "execution_count": 111,
   "metadata": {},
   "outputs": [
    {
     "data": {
      "application/vnd.microsoft.datawrangler.viewer.v0+json": {
       "columns": [
        {
         "name": "index",
         "rawType": "int64",
         "type": "integer"
        },
        {
         "name": "ID",
         "rawType": "object",
         "type": "string"
        },
        {
         "name": "CHROM",
         "rawType": "object",
         "type": "string"
        },
        {
         "name": "POS",
         "rawType": "object",
         "type": "string"
        },
        {
         "name": "REF",
         "rawType": "object",
         "type": "string"
        },
        {
         "name": "ALT",
         "rawType": "object",
         "type": "string"
        },
        {
         "name": "DP",
         "rawType": "int64",
         "type": "integer"
        },
        {
         "name": "NS",
         "rawType": "int64",
         "type": "integer"
        }
       ],
       "conversionMethod": "pd.DataFrame",
       "ref": "072ba279-4bc4-42dc-961b-78da189e79e2",
       "rows": [
        [
         "0",
         "header1",
         "{'chr1'}",
         "{'1'}",
         "{'A'}",
         "{'A'}",
         "1",
         "1"
        ],
        [
         "1",
         "header2;header3",
         "{'chr2'}",
         "{'2'}",
         "{'A'}",
         "{'A'}",
         "4",
         "2"
        ],
        [
         "2",
         "header4;header5;header6",
         "{'chr4', 'chr6'}",
         "{'6', '4'}",
         "{'A'}",
         "{'A'}",
         "2",
         "1"
        ],
        [
         "3",
         "header7",
         "{'chr7'}",
         "{'7'}",
         "{'A'}",
         "{'A'}",
         "99",
         "3"
        ]
       ],
       "shape": {
        "columns": 7,
        "rows": 4
       }
      },
      "text/html": [
       "<div>\n",
       "<style scoped>\n",
       "    .dataframe tbody tr th:only-of-type {\n",
       "        vertical-align: middle;\n",
       "    }\n",
       "\n",
       "    .dataframe tbody tr th {\n",
       "        vertical-align: top;\n",
       "    }\n",
       "\n",
       "    .dataframe thead th {\n",
       "        text-align: right;\n",
       "    }\n",
       "</style>\n",
       "<table border=\"1\" class=\"dataframe\">\n",
       "  <thead>\n",
       "    <tr style=\"text-align: right;\">\n",
       "      <th></th>\n",
       "      <th>ID</th>\n",
       "      <th>CHROM</th>\n",
       "      <th>POS</th>\n",
       "      <th>REF</th>\n",
       "      <th>ALT</th>\n",
       "      <th>DP</th>\n",
       "      <th>NS</th>\n",
       "    </tr>\n",
       "  </thead>\n",
       "  <tbody>\n",
       "    <tr>\n",
       "      <th>0</th>\n",
       "      <td>header1</td>\n",
       "      <td>{chr1}</td>\n",
       "      <td>{1}</td>\n",
       "      <td>{A}</td>\n",
       "      <td>{A}</td>\n",
       "      <td>1</td>\n",
       "      <td>1</td>\n",
       "    </tr>\n",
       "    <tr>\n",
       "      <th>1</th>\n",
       "      <td>header2;header3</td>\n",
       "      <td>{chr2}</td>\n",
       "      <td>{2}</td>\n",
       "      <td>{A}</td>\n",
       "      <td>{A}</td>\n",
       "      <td>4</td>\n",
       "      <td>2</td>\n",
       "    </tr>\n",
       "    <tr>\n",
       "      <th>2</th>\n",
       "      <td>header4;header5;header6</td>\n",
       "      <td>{chr4, chr6}</td>\n",
       "      <td>{6, 4}</td>\n",
       "      <td>{A}</td>\n",
       "      <td>{A}</td>\n",
       "      <td>2</td>\n",
       "      <td>1</td>\n",
       "    </tr>\n",
       "    <tr>\n",
       "      <th>3</th>\n",
       "      <td>header7</td>\n",
       "      <td>{chr7}</td>\n",
       "      <td>{7}</td>\n",
       "      <td>{A}</td>\n",
       "      <td>{A}</td>\n",
       "      <td>99</td>\n",
       "      <td>3</td>\n",
       "    </tr>\n",
       "  </tbody>\n",
       "</table>\n",
       "</div>"
      ],
      "text/plain": [
       "                        ID         CHROM     POS  REF  ALT  DP  NS\n",
       "0                  header1        {chr1}     {1}  {A}  {A}   1   1\n",
       "1          header2;header3        {chr2}     {2}  {A}  {A}   4   2\n",
       "2  header4;header5;header6  {chr4, chr6}  {6, 4}  {A}  {A}   2   1\n",
       "3                  header7        {chr7}     {7}  {A}  {A}  99   3"
      ]
     },
     "execution_count": 111,
     "metadata": {},
     "output_type": "execute_result"
    }
   ],
   "source": [
    "grouped_adata_var_temp"
   ]
  },
  {
   "cell_type": "code",
   "execution_count": 112,
   "metadata": {},
   "outputs": [],
   "source": [
    "for col in [\"CHROM\", \"POS\", \"REF\", \"ALT\"]:\n",
    "    grouped_adata_var_temp = grouped_adata_var_temp[grouped_adata_var_temp[col].apply(lambda x: len(set(x)) == 1)].copy()\n",
    "    grouped_adata_var_temp[col] = grouped_adata_var_temp[col].apply(lambda x: list(x)[0])"
   ]
  },
  {
   "cell_type": "code",
   "execution_count": 113,
   "metadata": {},
   "outputs": [
    {
     "data": {
      "application/vnd.microsoft.datawrangler.viewer.v0+json": {
       "columns": [
        {
         "name": "index",
         "rawType": "int64",
         "type": "integer"
        },
        {
         "name": "ID",
         "rawType": "object",
         "type": "string"
        },
        {
         "name": "CHROM",
         "rawType": "object",
         "type": "string"
        },
        {
         "name": "POS",
         "rawType": "object",
         "type": "string"
        },
        {
         "name": "REF",
         "rawType": "object",
         "type": "string"
        },
        {
         "name": "ALT",
         "rawType": "object",
         "type": "string"
        },
        {
         "name": "DP",
         "rawType": "int64",
         "type": "integer"
        },
        {
         "name": "NS",
         "rawType": "int64",
         "type": "integer"
        }
       ],
       "conversionMethod": "pd.DataFrame",
       "ref": "bf8ae74a-9877-473f-b603-c33d05b809b9",
       "rows": [
        [
         "0",
         "header1",
         "chr1",
         "1",
         "A",
         "A",
         "1",
         "1"
        ],
        [
         "1",
         "header2;header3",
         "chr2",
         "2",
         "A",
         "A",
         "4",
         "2"
        ],
        [
         "3",
         "header7",
         "chr7",
         "7",
         "A",
         "A",
         "99",
         "3"
        ]
       ],
       "shape": {
        "columns": 7,
        "rows": 3
       }
      },
      "text/html": [
       "<div>\n",
       "<style scoped>\n",
       "    .dataframe tbody tr th:only-of-type {\n",
       "        vertical-align: middle;\n",
       "    }\n",
       "\n",
       "    .dataframe tbody tr th {\n",
       "        vertical-align: top;\n",
       "    }\n",
       "\n",
       "    .dataframe thead th {\n",
       "        text-align: right;\n",
       "    }\n",
       "</style>\n",
       "<table border=\"1\" class=\"dataframe\">\n",
       "  <thead>\n",
       "    <tr style=\"text-align: right;\">\n",
       "      <th></th>\n",
       "      <th>ID</th>\n",
       "      <th>CHROM</th>\n",
       "      <th>POS</th>\n",
       "      <th>REF</th>\n",
       "      <th>ALT</th>\n",
       "      <th>DP</th>\n",
       "      <th>NS</th>\n",
       "    </tr>\n",
       "  </thead>\n",
       "  <tbody>\n",
       "    <tr>\n",
       "      <th>0</th>\n",
       "      <td>header1</td>\n",
       "      <td>chr1</td>\n",
       "      <td>1</td>\n",
       "      <td>A</td>\n",
       "      <td>A</td>\n",
       "      <td>1</td>\n",
       "      <td>1</td>\n",
       "    </tr>\n",
       "    <tr>\n",
       "      <th>1</th>\n",
       "      <td>header2;header3</td>\n",
       "      <td>chr2</td>\n",
       "      <td>2</td>\n",
       "      <td>A</td>\n",
       "      <td>A</td>\n",
       "      <td>4</td>\n",
       "      <td>2</td>\n",
       "    </tr>\n",
       "    <tr>\n",
       "      <th>3</th>\n",
       "      <td>header7</td>\n",
       "      <td>chr7</td>\n",
       "      <td>7</td>\n",
       "      <td>A</td>\n",
       "      <td>A</td>\n",
       "      <td>99</td>\n",
       "      <td>3</td>\n",
       "    </tr>\n",
       "  </tbody>\n",
       "</table>\n",
       "</div>"
      ],
      "text/plain": [
       "                ID CHROM POS REF ALT  DP  NS\n",
       "0          header1  chr1   1   A   A   1   1\n",
       "1  header2;header3  chr2   2   A   A   4   2\n",
       "3          header7  chr7   7   A   A  99   3"
      ]
     },
     "execution_count": 113,
     "metadata": {},
     "output_type": "execute_result"
    }
   ],
   "source": [
    "grouped_adata_var_temp"
   ]
  },
  {
   "cell_type": "code",
   "execution_count": 118,
   "metadata": {},
   "outputs": [],
   "source": [
    "import importlib\n",
    "import varseek.utils.varseek_clean_utils\n",
    "importlib.reload(varseek.utils.varseek_clean_utils)\n",
    "from varseek.utils.varseek_clean_utils import write_to_vcf\n",
    "write_to_vcf(grouped_adata_var_temp, \"output.vcf\")"
   ]
  },
  {
   "cell_type": "code",
   "execution_count": null,
   "metadata": {},
   "outputs": [],
   "source": []
  },
  {
   "cell_type": "code",
   "execution_count": 123,
   "metadata": {},
   "outputs": [],
   "source": [
    "# make copy column that won't be exploded so that I know how to groupby later\n",
    "adata_var_temp[\"vcrs_header_copy\"] = adata_var_temp[\"vcrs_header\"]\n",
    "\n",
    "# rename to have VCF-like column names\n",
    "adata_var_temp.rename(columns={\"vcrs_count\": \"DP\", \"number_obs\": \"NS\", \"vcrs_header\": \"ID\"}, inplace=True)\n",
    "\n",
    "# explode across semicolons so that I can merge in vcf_data_df\n",
    "adata_var_temp = adata_var_temp.assign(\n",
    "    vcrs_header=adata_var_temp[\"ID\"].str.split(\";\")\n",
    ").explode(\"ID\").reset_index(drop=True)"
   ]
  },
  {
   "cell_type": "code",
   "execution_count": 124,
   "metadata": {},
   "outputs": [
    {
     "data": {
      "application/vnd.microsoft.datawrangler.viewer.v0+json": {
       "columns": [
        {
         "name": "index",
         "rawType": "int64",
         "type": "integer"
        },
        {
         "name": "ID",
         "rawType": "object",
         "type": "string"
        },
        {
         "name": "DP",
         "rawType": "int64",
         "type": "integer"
        },
        {
         "name": "NS",
         "rawType": "int64",
         "type": "integer"
        },
        {
         "name": "vcrs_header_copy",
         "rawType": "object",
         "type": "string"
        },
        {
         "name": "vcrs_header",
         "rawType": "object",
         "type": "string"
        }
       ],
       "conversionMethod": "pd.DataFrame",
       "ref": "d726bf00-c6a4-4451-8331-a4320d23a8af",
       "rows": [
        [
         "0",
         "header1",
         "1",
         "1",
         "header1",
         "['header1']"
        ],
        [
         "1",
         "header2;header3",
         "4",
         "2",
         "header2;header3",
         "['header2', 'header3']"
        ],
        [
         "2",
         "header4;header5;header6",
         "2",
         "1",
         "header4;header5;header6",
         "['header4', 'header5', 'header6']"
        ],
        [
         "3",
         "header7",
         "99",
         "3",
         "header7",
         "['header7']"
        ]
       ],
       "shape": {
        "columns": 5,
        "rows": 4
       }
      },
      "text/html": [
       "<div>\n",
       "<style scoped>\n",
       "    .dataframe tbody tr th:only-of-type {\n",
       "        vertical-align: middle;\n",
       "    }\n",
       "\n",
       "    .dataframe tbody tr th {\n",
       "        vertical-align: top;\n",
       "    }\n",
       "\n",
       "    .dataframe thead th {\n",
       "        text-align: right;\n",
       "    }\n",
       "</style>\n",
       "<table border=\"1\" class=\"dataframe\">\n",
       "  <thead>\n",
       "    <tr style=\"text-align: right;\">\n",
       "      <th></th>\n",
       "      <th>ID</th>\n",
       "      <th>DP</th>\n",
       "      <th>NS</th>\n",
       "      <th>vcrs_header_copy</th>\n",
       "      <th>vcrs_header</th>\n",
       "    </tr>\n",
       "  </thead>\n",
       "  <tbody>\n",
       "    <tr>\n",
       "      <th>0</th>\n",
       "      <td>header1</td>\n",
       "      <td>1</td>\n",
       "      <td>1</td>\n",
       "      <td>header1</td>\n",
       "      <td>[header1]</td>\n",
       "    </tr>\n",
       "    <tr>\n",
       "      <th>1</th>\n",
       "      <td>header2;header3</td>\n",
       "      <td>4</td>\n",
       "      <td>2</td>\n",
       "      <td>header2;header3</td>\n",
       "      <td>[header2, header3]</td>\n",
       "    </tr>\n",
       "    <tr>\n",
       "      <th>2</th>\n",
       "      <td>header4;header5;header6</td>\n",
       "      <td>2</td>\n",
       "      <td>1</td>\n",
       "      <td>header4;header5;header6</td>\n",
       "      <td>[header4, header5, header6]</td>\n",
       "    </tr>\n",
       "    <tr>\n",
       "      <th>3</th>\n",
       "      <td>header7</td>\n",
       "      <td>99</td>\n",
       "      <td>3</td>\n",
       "      <td>header7</td>\n",
       "      <td>[header7]</td>\n",
       "    </tr>\n",
       "  </tbody>\n",
       "</table>\n",
       "</div>"
      ],
      "text/plain": [
       "                        ID  DP  NS         vcrs_header_copy  \\\n",
       "0                  header1   1   1                  header1   \n",
       "1          header2;header3   4   2          header2;header3   \n",
       "2  header4;header5;header6   2   1  header4;header5;header6   \n",
       "3                  header7  99   3                  header7   \n",
       "\n",
       "                   vcrs_header  \n",
       "0                    [header1]  \n",
       "1           [header2, header3]  \n",
       "2  [header4, header5, header6]  \n",
       "3                    [header7]  "
      ]
     },
     "execution_count": 124,
     "metadata": {},
     "output_type": "execute_result"
    }
   ],
   "source": [
    "adata_var_temp"
   ]
  },
  {
   "cell_type": "code",
   "execution_count": 126,
   "metadata": {},
   "outputs": [],
   "source": [
    "adata_var_temp = adata_var.loc[adata_var[\"vcrs_count\"] > 0].copy()  #!!! temp"
   ]
  },
  {
   "cell_type": "code",
   "execution_count": null,
   "metadata": {},
   "outputs": [],
   "source": [
    "def prepare_cleaned_adata_to_become_vcf(adata_var, vcf_data_df, output_vcf = \"output.vcf\"):\n",
    "    adata_var_temp = adata_var.loc[adata_var[\"vcrs_count\"] > 0].copy()\n",
    "\n",
    "    # make copy column that won't be exploded so that I know how to groupby later\n",
    "    adata_var_temp[\"vcrs_header_copy\"] = adata_var_temp[\"vcrs_header\"]\n",
    "\n",
    "    # rename to have VCF-like column names\n",
    "    adata_var_temp.rename(columns={\"vcrs_count\": \"DP\", \"number_obs\": \"NS\", \"vcrs_header\": \"ID\"}, inplace=True)\n",
    "\n",
    "    # explode across semicolons so that I can merge in vcf_data_df\n",
    "    adata_var_temp = adata_var_temp.assign(\n",
    "        ID=adata_var_temp[\"ID\"].str.split(\";\")\n",
    "    ).explode(\"ID\").reset_index(drop=True)\n",
    "\n",
    "    # merge in vcf_data_df (eg cosmic_df)\n",
    "    if isinstance(vcf_data_df, str) and os.path.isfile(vcf_data_df) and vcf_data_df.endswith(\".csv\"):\n",
    "        vcf_data_df = pd.read_csv(vcf_data_df)\n",
    "    elif isinstance(vcf_data_df, pd.DataFrame):\n",
    "        pass\n",
    "    else:\n",
    "        raise ValueError(\"vcf_data_df must be a CSV file path or a pandas DataFrame\")\n",
    "\n",
    "    adata_var_temp = adata_var_temp.merge(vcf_data_df, on=\"ID\", how=\"left\")\n",
    "\n",
    "    # collapse across semicolons so that I get my VCRSs back\n",
    "    adata_var_temp = (\n",
    "        adata_var_temp\n",
    "        .groupby(\"vcrs_header_copy\", sort=False)  # Group by vcrs_header_copy while preserving order\n",
    "        .agg({\n",
    "            \"ID\": lambda x: \";\".join(x),  # Reconstruct ID as a single string\n",
    "            \"CHROM\": set,  # Collect CHROM values in the same order as rows\n",
    "            \"POS\": set,    # Collect POS values\n",
    "            \"REF\": set,    # Collect REF values\n",
    "            \"ALT\": set,    # Collect ALT values\n",
    "            \"DP\": \"first\",\n",
    "            \"NS\": \"first\",\n",
    "        })\n",
    "        .reset_index()  # Reset index for cleaner result\n",
    "        .drop(columns=[\"vcrs_header_copy\"])\n",
    "    )\n",
    "\n",
    "    # only keep the VCRSs that have a single value for CHROM, POS, REF, ALT - there could be some merged headers that have identical VCF information (eg same genomic mutation but for different splice variants), so I can't just drop all merged headers\n",
    "    for col in [\"CHROM\", \"POS\", \"REF\", \"ALT\"]:\n",
    "        adata_var_temp = adata_var_temp[adata_var_temp[col].apply(lambda x: len(set(x)) == 1)].copy()\n",
    "        adata_var_temp[col] = adata_var_temp[col].apply(lambda x: list(x)[0])\n",
    "\n",
    "    # write to VCF\n",
    "    write_to_vcf(adata_var_temp, output_vcf)\n",
    "\n",
    "# # create vcf_data_df - it needs columns ID (corresponding to vcrs_header from adata.var), CHROM, POS, REF, ALT\n",
    "# cosmic_df = add_vcf_info_to_cosmic_tsv(cosmic_tsv=cosmic_tsv, reference_genome_fasta=reference_genome_fasta, cosmic_df_out = None, cosmic_cdna_info_csv = cosmic_cdna_info_csv, mutation_source = \"cdna\")\n",
    "\n",
    "# prepare_cleaned_adata_to_become_vcf(adata_var=adata.var, vcf_data_df=cosmic_df, output_vcf = \"output.vcf\")"
   ]
  },
  {
   "cell_type": "code",
   "execution_count": null,
   "metadata": {},
   "outputs": [],
   "source": [
    "import pandas as pd\n",
    "\n",
    "# Define the data\n",
    "adata_var_toy = pd.DataFrame({\n",
    "    \"vcrs_header\": [\"header1\", \"header2;header3\", \"header4;header5;header6\", \"header7\", \"header8\"],\n",
    "    \"vcrs_count\": [1, 4, 2, 99, 0],\n",
    "    \"number_obs\": [1, 2, 1, 3, 0],\n",
    "})\n",
    "\n",
    "cosmic_data_toy = pd.DataFrame({\n",
    "    \"ID\": [\"header1\", \"header2\", \"header3\", \"header4\", \"header5\", \"header6\", \"header7\", \"header8\"],\n",
    "    \"CHROM\": [\"chr1\", \"chr2\", \"chr2\", \"chr4\", \"chr4\", \"chr6\", \"chr7\", \"chr8\"],\n",
    "    \"POS\": [\"1\", \"2\", \"2\", \"4\", \"4\", \"6\", \"7\", \"8\"],\n",
    "    \"REF\": [\"A\", \"A\", \"A\", \"A\", \"A\", \"A\", \"A\", \"A\"],\n",
    "    \"ALT\": [\"C\", \"G\", \"G\", \"C\", \"C\", \"C\", \"C\", \"C\"]\n",
    "})\n",
    "\n",
    "prepare_cleaned_adata_to_become_vcf(adata_var_toy, vcf_data_df=cosmic_data_toy, output_vcf = \"output.vcf\")"
   ]
  }
 ],
 "metadata": {
  "kernelspec": {
   "display_name": "varseek",
   "language": "python",
   "name": "python3"
  },
  "language_info": {
   "codemirror_mode": {
    "name": "ipython",
    "version": 3
   },
   "file_extension": ".py",
   "mimetype": "text/x-python",
   "name": "python",
   "nbconvert_exporter": "python",
   "pygments_lexer": "ipython3",
   "version": "3.10.16"
  }
 },
 "nbformat": 4,
 "nbformat_minor": 2
}
