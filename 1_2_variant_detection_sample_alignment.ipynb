{
 "cells": [
  {
   "cell_type": "code",
   "execution_count": 3,
   "metadata": {},
   "outputs": [],
   "source": [
    "import pandas as pd\n",
    "\n",
    "df_out_path = \"/Users/joeyrich/Desktop/local/varseek/tests/pytest_output/test_varseek_ref/date_2025_03_07_time_1607_57/test_vk_ref/variants_updated_exploded_filtered.csv\"\n",
    "df_ground_truth_path = \"/Users/joeyrich/Desktop/local/varseek/tests/pytest_ground_truth/variants_updated_exploded_filtered.csv\""
   ]
  },
  {
   "cell_type": "code",
   "execution_count": 4,
   "metadata": {},
   "outputs": [
    {
     "name": "stderr",
     "output_type": "stream",
     "text": [
      "/var/folders/wr/wdr46lxn7fbc_kty6kwbfhxc0000gn/T/ipykernel_8278/2847970535.py:1: DtypeWarning: Columns (13) have mixed types. Specify dtype option on import or set low_memory=False.\n",
      "  df_out = pd.read_csv(df_out_path).fillna('NULL_FOR_TESTING')\n",
      "/var/folders/wr/wdr46lxn7fbc_kty6kwbfhxc0000gn/T/ipykernel_8278/2847970535.py:2: DtypeWarning: Columns (13) have mixed types. Specify dtype option on import or set low_memory=False.\n",
      "  df_ground_truth = pd.read_csv(df_ground_truth_path).fillna('NULL_FOR_TESTING')\n"
     ]
    }
   ],
   "source": [
    "df_out = pd.read_csv(df_out_path).fillna('NULL_FOR_TESTING')\n",
    "df_ground_truth = pd.read_csv(df_ground_truth_path).fillna('NULL_FOR_TESTING')"
   ]
  },
  {
   "cell_type": "code",
   "execution_count": null,
   "metadata": {},
   "outputs": [],
   "source": [
    "df_out.columns"
   ]
  },
  {
   "cell_type": "code",
   "execution_count": 5,
   "metadata": {},
   "outputs": [
    {
     "data": {
      "text/plain": [
       "True"
      ]
     },
     "execution_count": 5,
     "metadata": {},
     "output_type": "execute_result"
    }
   ],
   "source": [
    "pd.Series.equals(df_out['vcrs_header'], df_ground_truth['vcrs_header'])"
   ]
  },
  {
   "cell_type": "code",
   "execution_count": 6,
   "metadata": {},
   "outputs": [
    {
     "data": {
      "text/plain": [
       "False"
      ]
     },
     "execution_count": 6,
     "metadata": {},
     "output_type": "execute_result"
    }
   ],
   "source": [
    "pd.Series.equals(df_out['cdna_and_genome_same'], df_ground_truth['cdna_and_genome_same'])"
   ]
  },
  {
   "cell_type": "code",
   "execution_count": 7,
   "metadata": {},
   "outputs": [
    {
     "data": {
      "application/vnd.microsoft.datawrangler.viewer.v0+json": {
       "columns": [
        {
         "name": "index",
         "rawType": "int64",
         "type": "integer"
        },
        {
         "name": "vcrs_header",
         "rawType": "object",
         "type": "string"
        },
        {
         "name": "header",
         "rawType": "object",
         "type": "string"
        },
        {
         "name": "order",
         "rawType": "int64",
         "type": "integer"
        },
        {
         "name": "seq_ID",
         "rawType": "object",
         "type": "string"
        },
        {
         "name": "mutation_cdna",
         "rawType": "object",
         "type": "string"
        },
        {
         "name": "variant_type",
         "rawType": "object",
         "type": "string"
        },
        {
         "name": "wt_sequence",
         "rawType": "object",
         "type": "string"
        },
        {
         "name": "nucleotide_positions",
         "rawType": "object",
         "type": "string"
        },
        {
         "name": "actual_variant",
         "rawType": "object",
         "type": "string"
        },
        {
         "name": "mutation",
         "rawType": "object",
         "type": "string"
        },
        {
         "name": "mutation_aa",
         "rawType": "object",
         "type": "string"
        },
        {
         "name": "GENOMIC_MUTATION_ID",
         "rawType": "object",
         "type": "string"
        },
        {
         "name": "chromosome",
         "rawType": "object",
         "type": "string"
        },
        {
         "name": "strand_original",
         "rawType": "object",
         "type": "string"
        },
        {
         "name": "mutation_genome",
         "rawType": "object",
         "type": "string"
        },
        {
         "name": "gene_name",
         "rawType": "object",
         "type": "string"
        },
        {
         "name": "mutation_id",
         "rawType": "int64",
         "type": "integer"
        },
        {
         "name": "start_transcript_position",
         "rawType": "int64",
         "type": "integer"
        },
        {
         "name": "end_transcript_position",
         "rawType": "int64",
         "type": "integer"
        },
        {
         "name": "strand",
         "rawType": "object",
         "type": "string"
        },
        {
         "name": "mutation_type",
         "rawType": "object",
         "type": "string"
        },
        {
         "name": "start_variant_position",
         "rawType": "int64",
         "type": "integer"
        },
        {
         "name": "end_variant_position",
         "rawType": "int64",
         "type": "integer"
        },
        {
         "name": "seq_ID_used_for_vcrs",
         "rawType": "object",
         "type": "string"
        },
        {
         "name": "variant_used_for_vcrs",
         "rawType": "object",
         "type": "string"
        },
        {
         "name": "variant_source",
         "rawType": "object",
         "type": "string"
        },
        {
         "name": "nucleotide_positions_cdna",
         "rawType": "object",
         "type": "string"
        },
        {
         "name": "actual_variant_cdna",
         "rawType": "object",
         "type": "string"
        },
        {
         "name": "start_variant_position_cdna",
         "rawType": "int64",
         "type": "integer"
        },
        {
         "name": "end_variant_position_cdna",
         "rawType": "int64",
         "type": "integer"
        },
        {
         "name": "nucleotide_positions_genome",
         "rawType": "object",
         "type": "string"
        },
        {
         "name": "actual_variant_genome",
         "rawType": "object",
         "type": "string"
        },
        {
         "name": "start_variant_position_genome",
         "rawType": "object",
         "type": "string"
        },
        {
         "name": "end_variant_position_genome",
         "rawType": "object",
         "type": "string"
        },
        {
         "name": "cdna_and_genome_same",
         "rawType": "object",
         "type": "string"
        },
        {
         "name": "distance_to_nearest_splice_junction",
         "rawType": "object",
         "type": "string"
        },
        {
         "name": "is_near_splice_junction_10",
         "rawType": "object",
         "type": "string"
        },
        {
         "name": "number_of_variants_in_this_gene_total",
         "rawType": "int64",
         "type": "integer"
        },
        {
         "name": "nearby_variants",
         "rawType": "object",
         "type": "string"
        },
        {
         "name": "nearby_variants_count",
         "rawType": "int64",
         "type": "integer"
        },
        {
         "name": "has_a_nearby_variant",
         "rawType": "bool",
         "type": "boolean"
        },
        {
         "name": "vcrs_sequence",
         "rawType": "object",
         "type": "string"
        },
        {
         "name": "vcrs_sequence_rc",
         "rawType": "object",
         "type": "string"
        },
        {
         "name": "vcrs_id",
         "rawType": "object",
         "type": "string"
        },
        {
         "name": "header_with_gene_name",
         "rawType": "object",
         "type": "string"
        },
        {
         "name": "vcrs_header_length",
         "rawType": "int64",
         "type": "integer"
        },
        {
         "name": "vcrs_sequence_length",
         "rawType": "int64",
         "type": "integer"
        },
        {
         "name": "alignment_to_reference_genome",
         "rawType": "bool",
         "type": "boolean"
        },
        {
         "name": "substring_alignment_to_reference_genome",
         "rawType": "bool",
         "type": "boolean"
        },
        {
         "name": "alignment_to_reference_count_genome",
         "rawType": "int64",
         "type": "integer"
        },
        {
         "name": "substring_alignment_to_reference_count_genome",
         "rawType": "int64",
         "type": "integer"
        },
        {
         "name": "alignment_to_reference_cdna",
         "rawType": "bool",
         "type": "boolean"
        },
        {
         "name": "substring_alignment_to_reference_cdna",
         "rawType": "bool",
         "type": "boolean"
        },
        {
         "name": "alignment_to_reference_count_cdna",
         "rawType": "int64",
         "type": "integer"
        },
        {
         "name": "substring_alignment_to_reference_count_cdna",
         "rawType": "int64",
         "type": "integer"
        },
        {
         "name": "alignment_to_reference",
         "rawType": "bool",
         "type": "boolean"
        },
        {
         "name": "substring_alignment_to_reference",
         "rawType": "bool",
         "type": "boolean"
        },
        {
         "name": "alignment_to_reference_count_total",
         "rawType": "int64",
         "type": "integer"
        },
        {
         "name": "substring_alignment_to_reference_count_total",
         "rawType": "int64",
         "type": "integer"
        },
        {
         "name": "pseudoaligned_to_reference",
         "rawType": "bool",
         "type": "boolean"
        },
        {
         "name": "pseudoaligned_to_reference_despite_not_truly_aligning",
         "rawType": "bool",
         "type": "boolean"
        },
        {
         "name": "number_of_kmers_with_overlap_to_other_VCRSs",
         "rawType": "int64",
         "type": "integer"
        },
        {
         "name": "number_of_other_VCRSs_with_overlapping_kmers",
         "rawType": "int64",
         "type": "integer"
        },
        {
         "name": "VCRSs_with_overlapping_kmers",
         "rawType": "object",
         "type": "string"
        },
        {
         "name": "kmer_overlap_with_other_VCRSs",
         "rawType": "bool",
         "type": "boolean"
        },
        {
         "name": "longest_homopolymer_length",
         "rawType": "int64",
         "type": "integer"
        },
        {
         "name": "longest_homopolymer",
         "rawType": "object",
         "type": "string"
        },
        {
         "name": "num_distinct_triplets",
         "rawType": "int64",
         "type": "integer"
        },
        {
         "name": "num_total_triplets",
         "rawType": "int64",
         "type": "integer"
        },
        {
         "name": "triplet_complexity",
         "rawType": "float64",
         "type": "float"
        },
        {
         "name": "vcrs_variant_type",
         "rawType": "object",
         "type": "string"
        },
        {
         "name": "merged_variants_in_VCRS_entry",
         "rawType": "bool",
         "type": "boolean"
        },
        {
         "name": "number_of_variants_in_VCRS_entry",
         "rawType": "int64",
         "type": "integer"
        },
        {
         "name": "VCRSs_for_which_this_VCRS_is_a_substring",
         "rawType": "object",
         "type": "string"
        },
        {
         "name": "VCRS_is_a_substring_of_another_VCRS",
         "rawType": "bool",
         "type": "boolean"
        },
        {
         "name": "VCRSs_for_which_this_VCRS_is_a_superstring",
         "rawType": "object",
         "type": "string"
        },
        {
         "name": "VCRS_is_a_superstring_of_another_VCRS",
         "rawType": "bool",
         "type": "boolean"
        },
        {
         "name": "header_list",
         "rawType": "object",
         "type": "string"
        },
        {
         "name": "order_list",
         "rawType": "int64",
         "type": "integer"
        }
       ],
       "conversionMethod": "pd.DataFrame",
       "ref": "f06216ef-7454-414d-957f-f0c1d4da2406",
       "rows": [
        [
         "10597",
         "ENST00000210633:c.2244_2245inv",
         "ENST00000210633:c.2244_2245inv",
         "0",
         "ENST00000210633",
         "c.2244_2245inv",
         "inversion",
         "CGGGAAGGCAGACGAGGGCGCCGACGGAAATACTCACTGGGTCGGGCCAGCCGGGCAGGAGGATCTGCGGTGCAACTGCAGACAGTCTCAGGCCAG",
         "2244_2245",
         "inv",
         "c.2166_2167inv",
         "p.S723G",
         "COSV105071504",
         "10",
         "NULL_FOR_TESTING",
         "g.102743522_102743523inv",
         "SEMA4G",
         "21060739",
         "102732592",
         "102745372",
         "+",
         "inversion",
         "2244",
         "2245",
         "ENST00000210633",
         "c.2244_2245inv",
         "cdna",
         "2244_2245",
         "inv",
         "2244",
         "2245",
         "102743522_102743523",
         "inv",
         "102743522.0",
         "102743523.0",
         "True",
         "10.0",
         "True",
         "5",
         "()",
         "0",
         "False",
         "CGGGAAGGCAGACGAGGGCGCCGACGGAAATACTCACTGGGTCGGGCTGGCCGGGCAGGAGGATCTGCGGTGCAACTGCAGACAGTCTCAGGCCAG",
         "CTGGCCTGAGACTGTCTGCAGTTGCACCGCAGATCCTCCTGCCCGGCCAGCCCGACCCAGTGAGTATTTCCGTCGGCGCCCTCGTCTGCCTTCCCG",
         "vcrs_10704",
         "ENST00000210633(SEMA4G):c.2244_2245inv",
         "30",
         "96",
         "False",
         "False",
         "0",
         "0",
         "False",
         "False",
         "0",
         "0",
         "False",
         "False",
         "0",
         "0",
         "False",
         "False",
         "9",
         "1",
         "{'vcrs_10377'}",
         "True",
         "3",
         "['AAA', 'GGG']",
         "42",
         "94",
         "0.4468085106382978",
         "inversion",
         "False",
         "1",
         "NULL_FOR_TESTING",
         "False",
         "NULL_FOR_TESTING",
         "False",
         "ENST00000210633:c.2244_2245inv",
         "0"
        ]
       ],
       "shape": {
        "columns": 79,
        "rows": 1
       }
      },
      "text/html": [
       "<div>\n",
       "<style scoped>\n",
       "    .dataframe tbody tr th:only-of-type {\n",
       "        vertical-align: middle;\n",
       "    }\n",
       "\n",
       "    .dataframe tbody tr th {\n",
       "        vertical-align: top;\n",
       "    }\n",
       "\n",
       "    .dataframe thead th {\n",
       "        text-align: right;\n",
       "    }\n",
       "</style>\n",
       "<table border=\"1\" class=\"dataframe\">\n",
       "  <thead>\n",
       "    <tr style=\"text-align: right;\">\n",
       "      <th></th>\n",
       "      <th>vcrs_header</th>\n",
       "      <th>header</th>\n",
       "      <th>order</th>\n",
       "      <th>seq_ID</th>\n",
       "      <th>mutation_cdna</th>\n",
       "      <th>variant_type</th>\n",
       "      <th>wt_sequence</th>\n",
       "      <th>nucleotide_positions</th>\n",
       "      <th>actual_variant</th>\n",
       "      <th>mutation</th>\n",
       "      <th>...</th>\n",
       "      <th>triplet_complexity</th>\n",
       "      <th>vcrs_variant_type</th>\n",
       "      <th>merged_variants_in_VCRS_entry</th>\n",
       "      <th>number_of_variants_in_VCRS_entry</th>\n",
       "      <th>VCRSs_for_which_this_VCRS_is_a_substring</th>\n",
       "      <th>VCRS_is_a_substring_of_another_VCRS</th>\n",
       "      <th>VCRSs_for_which_this_VCRS_is_a_superstring</th>\n",
       "      <th>VCRS_is_a_superstring_of_another_VCRS</th>\n",
       "      <th>header_list</th>\n",
       "      <th>order_list</th>\n",
       "    </tr>\n",
       "  </thead>\n",
       "  <tbody>\n",
       "    <tr>\n",
       "      <th>10597</th>\n",
       "      <td>ENST00000210633:c.2244_2245inv</td>\n",
       "      <td>ENST00000210633:c.2244_2245inv</td>\n",
       "      <td>0</td>\n",
       "      <td>ENST00000210633</td>\n",
       "      <td>c.2244_2245inv</td>\n",
       "      <td>inversion</td>\n",
       "      <td>CGGGAAGGCAGACGAGGGCGCCGACGGAAATACTCACTGGGTCGGG...</td>\n",
       "      <td>2244_2245</td>\n",
       "      <td>inv</td>\n",
       "      <td>c.2166_2167inv</td>\n",
       "      <td>...</td>\n",
       "      <td>0.446809</td>\n",
       "      <td>inversion</td>\n",
       "      <td>False</td>\n",
       "      <td>1</td>\n",
       "      <td>NULL_FOR_TESTING</td>\n",
       "      <td>False</td>\n",
       "      <td>NULL_FOR_TESTING</td>\n",
       "      <td>False</td>\n",
       "      <td>ENST00000210633:c.2244_2245inv</td>\n",
       "      <td>0</td>\n",
       "    </tr>\n",
       "  </tbody>\n",
       "</table>\n",
       "<p>1 rows × 79 columns</p>\n",
       "</div>"
      ],
      "text/plain": [
       "                          vcrs_header                          header  order  \\\n",
       "10597  ENST00000210633:c.2244_2245inv  ENST00000210633:c.2244_2245inv      0   \n",
       "\n",
       "                seq_ID   mutation_cdna variant_type  \\\n",
       "10597  ENST00000210633  c.2244_2245inv    inversion   \n",
       "\n",
       "                                             wt_sequence nucleotide_positions  \\\n",
       "10597  CGGGAAGGCAGACGAGGGCGCCGACGGAAATACTCACTGGGTCGGG...            2244_2245   \n",
       "\n",
       "      actual_variant        mutation  ... triplet_complexity  \\\n",
       "10597            inv  c.2166_2167inv  ...           0.446809   \n",
       "\n",
       "      vcrs_variant_type merged_variants_in_VCRS_entry  \\\n",
       "10597         inversion                         False   \n",
       "\n",
       "      number_of_variants_in_VCRS_entry  \\\n",
       "10597                                1   \n",
       "\n",
       "      VCRSs_for_which_this_VCRS_is_a_substring  \\\n",
       "10597                         NULL_FOR_TESTING   \n",
       "\n",
       "      VCRS_is_a_substring_of_another_VCRS  \\\n",
       "10597                               False   \n",
       "\n",
       "       VCRSs_for_which_this_VCRS_is_a_superstring  \\\n",
       "10597                            NULL_FOR_TESTING   \n",
       "\n",
       "       VCRS_is_a_superstring_of_another_VCRS                     header_list  \\\n",
       "10597                                  False  ENST00000210633:c.2244_2245inv   \n",
       "\n",
       "      order_list  \n",
       "10597          0  \n",
       "\n",
       "[1 rows x 79 columns]"
      ]
     },
     "execution_count": 7,
     "metadata": {},
     "output_type": "execute_result"
    }
   ],
   "source": [
    "df_out[df_out['cdna_and_genome_same'].ne(df_ground_truth['cdna_and_genome_same'])]\n"
   ]
  },
  {
   "cell_type": "code",
   "execution_count": null,
   "metadata": {},
   "outputs": [
    {
     "data": {
      "application/vnd.microsoft.datawrangler.viewer.v0+json": {
       "columns": [
        {
         "name": "index",
         "rawType": "int64",
         "type": "integer"
        },
        {
         "name": "vcrs_header",
         "rawType": "object",
         "type": "string"
        },
        {
         "name": "header",
         "rawType": "object",
         "type": "string"
        },
        {
         "name": "order",
         "rawType": "int64",
         "type": "integer"
        },
        {
         "name": "seq_ID",
         "rawType": "object",
         "type": "string"
        },
        {
         "name": "mutation_cdna",
         "rawType": "object",
         "type": "string"
        },
        {
         "name": "variant_type",
         "rawType": "object",
         "type": "string"
        },
        {
         "name": "wt_sequence",
         "rawType": "object",
         "type": "string"
        },
        {
         "name": "nucleotide_positions",
         "rawType": "object",
         "type": "string"
        },
        {
         "name": "actual_variant",
         "rawType": "object",
         "type": "string"
        },
        {
         "name": "mutation",
         "rawType": "object",
         "type": "string"
        },
        {
         "name": "mutation_aa",
         "rawType": "object",
         "type": "string"
        },
        {
         "name": "GENOMIC_MUTATION_ID",
         "rawType": "object",
         "type": "string"
        },
        {
         "name": "chromosome",
         "rawType": "object",
         "type": "string"
        },
        {
         "name": "strand_original",
         "rawType": "object",
         "type": "string"
        },
        {
         "name": "mutation_genome",
         "rawType": "object",
         "type": "string"
        },
        {
         "name": "gene_name",
         "rawType": "object",
         "type": "string"
        },
        {
         "name": "mutation_id",
         "rawType": "int64",
         "type": "integer"
        },
        {
         "name": "start_transcript_position",
         "rawType": "int64",
         "type": "integer"
        },
        {
         "name": "end_transcript_position",
         "rawType": "int64",
         "type": "integer"
        },
        {
         "name": "strand",
         "rawType": "object",
         "type": "string"
        },
        {
         "name": "mutation_type",
         "rawType": "object",
         "type": "string"
        },
        {
         "name": "start_variant_position",
         "rawType": "int64",
         "type": "integer"
        },
        {
         "name": "end_variant_position",
         "rawType": "int64",
         "type": "integer"
        },
        {
         "name": "seq_ID_used_for_vcrs",
         "rawType": "object",
         "type": "string"
        },
        {
         "name": "variant_used_for_vcrs",
         "rawType": "object",
         "type": "string"
        },
        {
         "name": "variant_source",
         "rawType": "object",
         "type": "string"
        },
        {
         "name": "nucleotide_positions_cdna",
         "rawType": "object",
         "type": "string"
        },
        {
         "name": "actual_variant_cdna",
         "rawType": "object",
         "type": "string"
        },
        {
         "name": "start_variant_position_cdna",
         "rawType": "int64",
         "type": "integer"
        },
        {
         "name": "end_variant_position_cdna",
         "rawType": "int64",
         "type": "integer"
        },
        {
         "name": "nucleotide_positions_genome",
         "rawType": "object",
         "type": "string"
        },
        {
         "name": "actual_variant_genome",
         "rawType": "object",
         "type": "string"
        },
        {
         "name": "start_variant_position_genome",
         "rawType": "object",
         "type": "string"
        },
        {
         "name": "end_variant_position_genome",
         "rawType": "object",
         "type": "string"
        },
        {
         "name": "cdna_and_genome_same",
         "rawType": "object",
         "type": "string"
        },
        {
         "name": "distance_to_nearest_splice_junction",
         "rawType": "object",
         "type": "string"
        },
        {
         "name": "is_near_splice_junction_10",
         "rawType": "object",
         "type": "string"
        },
        {
         "name": "number_of_variants_in_this_gene_total",
         "rawType": "int64",
         "type": "integer"
        },
        {
         "name": "nearby_variants",
         "rawType": "object",
         "type": "string"
        },
        {
         "name": "nearby_variants_count",
         "rawType": "int64",
         "type": "integer"
        },
        {
         "name": "has_a_nearby_variant",
         "rawType": "bool",
         "type": "boolean"
        },
        {
         "name": "vcrs_sequence",
         "rawType": "object",
         "type": "string"
        },
        {
         "name": "vcrs_sequence_rc",
         "rawType": "object",
         "type": "string"
        },
        {
         "name": "vcrs_id",
         "rawType": "object",
         "type": "string"
        },
        {
         "name": "header_with_gene_name",
         "rawType": "object",
         "type": "string"
        },
        {
         "name": "vcrs_header_length",
         "rawType": "int64",
         "type": "integer"
        },
        {
         "name": "vcrs_sequence_length",
         "rawType": "int64",
         "type": "integer"
        },
        {
         "name": "alignment_to_reference_genome",
         "rawType": "bool",
         "type": "boolean"
        },
        {
         "name": "substring_alignment_to_reference_genome",
         "rawType": "bool",
         "type": "boolean"
        },
        {
         "name": "alignment_to_reference_count_genome",
         "rawType": "int64",
         "type": "integer"
        },
        {
         "name": "substring_alignment_to_reference_count_genome",
         "rawType": "int64",
         "type": "integer"
        },
        {
         "name": "alignment_to_reference_cdna",
         "rawType": "bool",
         "type": "boolean"
        },
        {
         "name": "substring_alignment_to_reference_cdna",
         "rawType": "bool",
         "type": "boolean"
        },
        {
         "name": "alignment_to_reference_count_cdna",
         "rawType": "int64",
         "type": "integer"
        },
        {
         "name": "substring_alignment_to_reference_count_cdna",
         "rawType": "int64",
         "type": "integer"
        },
        {
         "name": "alignment_to_reference",
         "rawType": "bool",
         "type": "boolean"
        },
        {
         "name": "substring_alignment_to_reference",
         "rawType": "bool",
         "type": "boolean"
        },
        {
         "name": "alignment_to_reference_count_total",
         "rawType": "int64",
         "type": "integer"
        },
        {
         "name": "substring_alignment_to_reference_count_total",
         "rawType": "int64",
         "type": "integer"
        },
        {
         "name": "pseudoaligned_to_reference",
         "rawType": "bool",
         "type": "boolean"
        },
        {
         "name": "pseudoaligned_to_reference_despite_not_truly_aligning",
         "rawType": "bool",
         "type": "boolean"
        },
        {
         "name": "number_of_kmers_with_overlap_to_other_VCRSs",
         "rawType": "int64",
         "type": "integer"
        },
        {
         "name": "number_of_other_VCRSs_with_overlapping_kmers",
         "rawType": "int64",
         "type": "integer"
        },
        {
         "name": "VCRSs_with_overlapping_kmers",
         "rawType": "object",
         "type": "string"
        },
        {
         "name": "kmer_overlap_with_other_VCRSs",
         "rawType": "bool",
         "type": "boolean"
        },
        {
         "name": "longest_homopolymer_length",
         "rawType": "int64",
         "type": "integer"
        },
        {
         "name": "longest_homopolymer",
         "rawType": "object",
         "type": "string"
        },
        {
         "name": "num_distinct_triplets",
         "rawType": "int64",
         "type": "integer"
        },
        {
         "name": "num_total_triplets",
         "rawType": "int64",
         "type": "integer"
        },
        {
         "name": "triplet_complexity",
         "rawType": "float64",
         "type": "float"
        },
        {
         "name": "vcrs_variant_type",
         "rawType": "object",
         "type": "string"
        },
        {
         "name": "merged_variants_in_VCRS_entry",
         "rawType": "bool",
         "type": "boolean"
        },
        {
         "name": "number_of_variants_in_VCRS_entry",
         "rawType": "int64",
         "type": "integer"
        },
        {
         "name": "VCRSs_for_which_this_VCRS_is_a_substring",
         "rawType": "object",
         "type": "string"
        },
        {
         "name": "VCRS_is_a_substring_of_another_VCRS",
         "rawType": "bool",
         "type": "boolean"
        },
        {
         "name": "VCRSs_for_which_this_VCRS_is_a_superstring",
         "rawType": "object",
         "type": "string"
        },
        {
         "name": "VCRS_is_a_superstring_of_another_VCRS",
         "rawType": "bool",
         "type": "boolean"
        },
        {
         "name": "header_list",
         "rawType": "object",
         "type": "string"
        },
        {
         "name": "order_list",
         "rawType": "int64",
         "type": "integer"
        }
       ],
       "conversionMethod": "pd.DataFrame",
       "ref": "83fff920-31bb-4fd8-9dec-46bf392f5858",
       "rows": [
        [
         "10597",
         "ENST00000210633:c.2244_2245inv",
         "ENST00000210633:c.2244_2245inv",
         "0",
         "ENST00000210633",
         "c.2244_2245inv",
         "inversion",
         "CGGGAAGGCAGACGAGGGCGCCGACGGAAATACTCACTGGGTCGGGCCAGCCGGGCAGGAGGATCTGCGGTGCAACTGCAGACAGTCTCAGGCCAG",
         "2244_2245",
         "inv",
         "c.2166_2167inv",
         "p.S723G",
         "COSV105071504",
         "10",
         "NULL_FOR_TESTING",
         "g.102743522_102743523inv",
         "SEMA4G",
         "21060739",
         "102732592",
         "102745372",
         "+",
         "inversion",
         "2244",
         "2245",
         "ENST00000210633",
         "c.2244_2245inv",
         "cdna",
         "2244_2245",
         "inv",
         "2244",
         "2245",
         "102743522_102743523",
         "inv",
         "102743522.0",
         "102743523.0",
         "False",
         "10.0",
         "True",
         "5",
         "()",
         "0",
         "False",
         "CGGGAAGGCAGACGAGGGCGCCGACGGAAATACTCACTGGGTCGGGCTGGCCGGGCAGGAGGATCTGCGGTGCAACTGCAGACAGTCTCAGGCCAG",
         "CTGGCCTGAGACTGTCTGCAGTTGCACCGCAGATCCTCCTGCCCGGCCAGCCCGACCCAGTGAGTATTTCCGTCGGCGCCCTCGTCTGCCTTCCCG",
         "vcrs_10704",
         "ENST00000210633(SEMA4G):c.2244_2245inv",
         "30",
         "96",
         "False",
         "False",
         "0",
         "0",
         "False",
         "False",
         "0",
         "0",
         "False",
         "False",
         "0",
         "0",
         "False",
         "False",
         "9",
         "1",
         "{'vcrs_10377'}",
         "True",
         "3",
         "['AAA', 'GGG']",
         "42",
         "94",
         "0.4468085106382978",
         "inversion",
         "False",
         "1",
         "NULL_FOR_TESTING",
         "False",
         "NULL_FOR_TESTING",
         "False",
         "ENST00000210633:c.2244_2245inv",
         "0"
        ]
       ],
       "shape": {
        "columns": 79,
        "rows": 1
       }
      },
      "text/html": [
       "<div>\n",
       "<style scoped>\n",
       "    .dataframe tbody tr th:only-of-type {\n",
       "        vertical-align: middle;\n",
       "    }\n",
       "\n",
       "    .dataframe tbody tr th {\n",
       "        vertical-align: top;\n",
       "    }\n",
       "\n",
       "    .dataframe thead th {\n",
       "        text-align: right;\n",
       "    }\n",
       "</style>\n",
       "<table border=\"1\" class=\"dataframe\">\n",
       "  <thead>\n",
       "    <tr style=\"text-align: right;\">\n",
       "      <th></th>\n",
       "      <th>vcrs_header</th>\n",
       "      <th>header</th>\n",
       "      <th>order</th>\n",
       "      <th>seq_ID</th>\n",
       "      <th>mutation_cdna</th>\n",
       "      <th>variant_type</th>\n",
       "      <th>wt_sequence</th>\n",
       "      <th>nucleotide_positions</th>\n",
       "      <th>actual_variant</th>\n",
       "      <th>mutation</th>\n",
       "      <th>...</th>\n",
       "      <th>triplet_complexity</th>\n",
       "      <th>vcrs_variant_type</th>\n",
       "      <th>merged_variants_in_VCRS_entry</th>\n",
       "      <th>number_of_variants_in_VCRS_entry</th>\n",
       "      <th>VCRSs_for_which_this_VCRS_is_a_substring</th>\n",
       "      <th>VCRS_is_a_substring_of_another_VCRS</th>\n",
       "      <th>VCRSs_for_which_this_VCRS_is_a_superstring</th>\n",
       "      <th>VCRS_is_a_superstring_of_another_VCRS</th>\n",
       "      <th>header_list</th>\n",
       "      <th>order_list</th>\n",
       "    </tr>\n",
       "  </thead>\n",
       "  <tbody>\n",
       "    <tr>\n",
       "      <th>10597</th>\n",
       "      <td>ENST00000210633:c.2244_2245inv</td>\n",
       "      <td>ENST00000210633:c.2244_2245inv</td>\n",
       "      <td>0</td>\n",
       "      <td>ENST00000210633</td>\n",
       "      <td>c.2244_2245inv</td>\n",
       "      <td>inversion</td>\n",
       "      <td>CGGGAAGGCAGACGAGGGCGCCGACGGAAATACTCACTGGGTCGGG...</td>\n",
       "      <td>2244_2245</td>\n",
       "      <td>inv</td>\n",
       "      <td>c.2166_2167inv</td>\n",
       "      <td>...</td>\n",
       "      <td>0.446809</td>\n",
       "      <td>inversion</td>\n",
       "      <td>False</td>\n",
       "      <td>1</td>\n",
       "      <td>NULL_FOR_TESTING</td>\n",
       "      <td>False</td>\n",
       "      <td>NULL_FOR_TESTING</td>\n",
       "      <td>False</td>\n",
       "      <td>ENST00000210633:c.2244_2245inv</td>\n",
       "      <td>0</td>\n",
       "    </tr>\n",
       "  </tbody>\n",
       "</table>\n",
       "<p>1 rows × 79 columns</p>\n",
       "</div>"
      ],
      "text/plain": [
       "                          vcrs_header                          header  order  \\\n",
       "10597  ENST00000210633:c.2244_2245inv  ENST00000210633:c.2244_2245inv      0   \n",
       "\n",
       "                seq_ID   mutation_cdna variant_type  \\\n",
       "10597  ENST00000210633  c.2244_2245inv    inversion   \n",
       "\n",
       "                                             wt_sequence nucleotide_positions  \\\n",
       "10597  CGGGAAGGCAGACGAGGGCGCCGACGGAAATACTCACTGGGTCGGG...            2244_2245   \n",
       "\n",
       "      actual_variant        mutation  ... triplet_complexity  \\\n",
       "10597            inv  c.2166_2167inv  ...           0.446809   \n",
       "\n",
       "      vcrs_variant_type merged_variants_in_VCRS_entry  \\\n",
       "10597         inversion                         False   \n",
       "\n",
       "      number_of_variants_in_VCRS_entry  \\\n",
       "10597                                1   \n",
       "\n",
       "      VCRSs_for_which_this_VCRS_is_a_substring  \\\n",
       "10597                         NULL_FOR_TESTING   \n",
       "\n",
       "      VCRS_is_a_substring_of_another_VCRS  \\\n",
       "10597                               False   \n",
       "\n",
       "       VCRSs_for_which_this_VCRS_is_a_superstring  \\\n",
       "10597                            NULL_FOR_TESTING   \n",
       "\n",
       "       VCRS_is_a_superstring_of_another_VCRS                     header_list  \\\n",
       "10597                                  False  ENST00000210633:c.2244_2245inv   \n",
       "\n",
       "      order_list  \n",
       "10597          0  \n",
       "\n",
       "[1 rows x 79 columns]"
      ]
     },
     "execution_count": 8,
     "metadata": {},
     "output_type": "execute_result"
    }
   ],
   "source": [
    "df_ground_truth[df_out['cdna_and_genome_same'].ne(df_ground_truth['cdna_and_genome_same'])]"
   ]
  },
  {
   "cell_type": "markdown",
   "metadata": {},
   "source": [
    "# Imports"
   ]
  },
  {
   "cell_type": "code",
   "execution_count": 1,
   "metadata": {},
   "outputs": [],
   "source": [
    "import os\n",
    "import subprocess\n",
    "\n",
    "import varseek as vk\n",
    "from varseek.utils import make_vaf_matrix, add_vcf_info_to_cosmic_tsv, order_fastqs_correctly_for_kb_count"
   ]
  },
  {
   "cell_type": "markdown",
   "metadata": {},
   "source": [
    "# Hyperparameters"
   ]
  },
  {
   "cell_type": "code",
   "execution_count": null,
   "metadata": {},
   "outputs": [],
   "source": [
    "w=54  # window size for varseek build (should be at least 1 less than kallisto k)\n",
    "k=55\n",
    "k_standard=31\n",
    "threads = 32\n",
    "strand = \"unstranded\"  # \"forward\", \"reverse\", or \"unstranded\"\n",
    "\n",
    "# fastq cleanup preceding kb count\n",
    "trim_edges_off_reads = False\n",
    "minimum_base_quality_trim_reads=13\n",
    "qualified_quality_phred = 15\n",
    "unqualified_percent_limit = 50  # unqualified_percent_limit% of bases in a read must have a quality score of at least qualified_quality_phred\n",
    "n_base_limit = None\n",
    "length_required = None\n",
    "\n",
    "minimum_base_quality_replace_with_N=5\n",
    "split_reads_by_Ns_and_low_quality_bases = False\n",
    "run_fastqc = False\n",
    "\n",
    "# kb count\n",
    "technology = \"bulk\"  # same options as kb count\n",
    "parity = \"single\"  # single or paired\n",
    "\n",
    "# vk clean\n",
    "minimum_count_filter = None  #!!! still need to tune this  \n",
    "use_binary_matrix = False\n",
    "drop_zero_columns = False\n",
    "filter_cells_by_min_counts = True  # True for auto-filter, numeric for set filter, None/False otherwise\n",
    "filter_cells_by_min_genes = 200\n",
    "filter_genes_by_min_cells = 3\n",
    "filter_cells_by_max_mt_content = False\n",
    "doublet_detection = True\n",
    "remove_doublets = False\n",
    "do_cpm_normalization = True\n",
    "split_reads_by_Ns_and_low_quality_bases = False\n",
    "dlist_file = None\n",
    "mutation_metadata_df_columns = None  #!!! replace\n",
    "\n",
    "# Paths\n",
    "out_dir_base = \"/home/jrich/data/varseek_data_fresh\"\n",
    "reference_out_dir = os.path.join(out_dir_base, \"reference\")\n",
    "out_dir_notebook = f\"{out_dir_base}/alignment_output\"\n",
    "index_dir = os.path.join(out_dir_base, \"vk_build_pipeline_t2t_nov16\")\n",
    "rnaseq_fastq_files = \"/home/jrich/data/varseek_data/sequencing/sc/melanoma_10x/10k_Human_DTC_Melanoma_3p_nextgem_fastqs/gex\"  # pass as a single string or as a list of strings or a directory to fastq files (if paired-end, then pass each pair sequentially with R1 preceding R2) - if using directory, then it will call order_fastqs_correctly_for_kb_count - don't include index files for single-cell\n",
    "multiplexed = False  # True if fastq files are multiplexed\n",
    "seqtk=\"seqtk\"\n",
    "mutation_index = f\"{index_dir}/mutation_reference.idx\"\n",
    "t2g_vk_filter = os.path.join(index_dir, \"t2g_filtered.txt\")\n",
    "wt_vcrs_index = mutation_index = f\"{index_dir}/wt_vcrs_reference.idx\"\n",
    "wt_vcrs_t2g = os.path.join(out_dir_notebook, \"t2g_wt_filtered.txt\")\n",
    "standard_index = \"\"\n",
    "standard_t2g = \"\"\n",
    "standard_genome = \"\"  #!!! can use gget ref\n",
    "standard_gtf = \"\"  #!!! can use gget ref"
   ]
  },
  {
   "cell_type": "code",
   "execution_count": null,
   "metadata": {},
   "outputs": [],
   "source": [
    "kb_count_out = f\"{out_dir_notebook}/kb_count_out\"\n",
    "kb_count_out_wt_vcrs = f\"{out_dir_notebook}/kb_count_out_wt_vcrs\"\n",
    "kb_count_out_standard_index = f\"{out_dir_notebook}/kb_count_out_standard\"\n",
    "vk_summarize_output_dir = f\"{out_dir_notebook}/vk_summarize\"\n",
    "fastqc_out_dir = f\"{out_dir_notebook}/fastqc_out\"\n",
    "\n",
    "\n",
    "os.makedirs(out_dir_base, exist_ok=True)\n",
    "os.makedirs(out_dir_notebook, exist_ok=True)\n",
    "os.makedirs(reference_out_dir, exist_ok=True)\n",
    "os.makedirs(kb_count_out, exist_ok=True)\n",
    "os.makedirs(kb_count_out_wt_vcrs, exist_ok=True)\n",
    "os.makedirs(kb_count_out_standard_index, exist_ok=True)\n",
    "os.makedirs(vk_summarize_output_dir, exist_ok=True)\n",
    "os.makedirs(fastqc_out_dir, exist_ok=True)\n",
    "\n",
    "assert k >= w + 1, \"k must be greater than or equal to w + 1\"\n",
    "\n",
    "if isinstance(rnaseq_fastq_files, str):\n",
    "    if os.isdir(rnaseq_fastq_files):  # is a directory\n",
    "        rnaseq_fastq_files = order_fastqs_correctly_for_kb_count(rnaseq_fastq_files, technology=technology, multiplexed=multiplexed)\n",
    "    else:  # is a space-separated string\n",
    "        rnaseq_fastq_files = [rnaseq_fastq_files]\n",
    "\n",
    "adata_path = f\"{kb_count_out}/counts_unfiltered/adata.h5ad\"\n",
    "adata_path_wt_vcrs = f\"{kb_count_out_wt_vcrs}/counts_unfiltered/adata.h5ad\"\n",
    "adata_path_normal_genome = f\"{kb_count_out_standard_index}/counts_unfiltered/adata.h5ad\"\n",
    "mutation_metadata_df_path = os.path.join(index_dir, \"variants_updated_filtered.csv\")"
   ]
  },
  {
   "cell_type": "code",
   "execution_count": null,
   "metadata": {},
   "outputs": [],
   "source": [
    "rnaseq_fastq_files_list_dict = vk.fastqpp(\n",
    "    rnaseq_fastq_files_list=rnaseq_fastq_files, \n",
    "    trim_edges_off_reads = trim_edges_off_reads, \n",
    "    run_fastqc = run_fastqc, \n",
    "    split_reads_by_Ns_and_low_quality_bases = split_reads_by_Ns_and_low_quality_bases, \n",
    "    parity = parity, \n",
    "    technology=technology,\n",
    "    fastqc_out_dir = fastqc_out_dir,\n",
    "    minimum_base_quality_trim_reads = minimum_base_quality_trim_reads,\n",
    "    qualified_quality_phred = qualified_quality_phred,\n",
    "    unqualified_percent_limit = unqualified_percent_limit,\n",
    "    n_base_limit = n_base_limit,\n",
    "    minimum_length = k,\n",
    "    minimum_base_quality_replace_with_N=minimum_base_quality_replace_with_N,\n",
    "    fastp = \"fastp\",\n",
    "    seqtk = seqtk,\n",
    "    delete_intermediate_files = False\n",
    ")\n",
    "\n",
    "rnaseq_fastq_files_quality_controlled = rnaseq_fastq_files_list_dict[\"quality_controlled\"]\n",
    "rnaseq_fastq_files_final = rnaseq_fastq_files_list_dict[\"final\"]"
   ]
  },
  {
   "cell_type": "markdown",
   "metadata": {},
   "source": [
    "# kb count"
   ]
  },
  {
   "cell_type": "code",
   "execution_count": null,
   "metadata": {},
   "outputs": [],
   "source": [
    "if not os.path.exists(kb_count_out) or len(os.listdir(kb_count_out)) == 0:\n",
    "    kb_count_command = [\"kb\", \"count\", \"-t\", str(threads), \"-k\", str(k), \"-i\", mutation_index, \"-g\", t2g_vk_filter, \"-x\", technology, \"--num\", \"--h5ad\", \"--parity\", \"single\", \"--strand\", strand, \"-o\", kb_count_out] + rnaseq_fastq_files_final\n",
    "    subprocess.run(kb_count_command, check=True)"
   ]
  },
  {
   "cell_type": "markdown",
   "metadata": {},
   "source": [
    "kb count on wt vcrs index"
   ]
  },
  {
   "cell_type": "code",
   "execution_count": null,
   "metadata": {},
   "outputs": [],
   "source": [
    "if os.path.exists(wt_vcrs_index) and (not os.path.exists(kb_count_out_wt_vcrs) or len(os.listdir(kb_count_out_wt_vcrs)) == 0):\n",
    "    kb_count_command = [\"kb\", \"count\", \"-t\", str(threads), \"-k\", str(k), \"-i\", wt_vcrs_index, \"-g\", wt_vcrs_t2g, \"-x\", technology, \"--num\", \"--h5ad\", \"--parity\", \"single\", \"--strand\", strand, \"-o\", kb_count_out_wt_vcrs] + rnaseq_fastq_files_final\n",
    "    subprocess.run(kb_count_command, check=True)"
   ]
  },
  {
   "cell_type": "markdown",
   "metadata": {},
   "source": [
    "# Optionally, kb ref and count on normal genome"
   ]
  },
  {
   "cell_type": "code",
   "execution_count": null,
   "metadata": {},
   "outputs": [],
   "source": [
    "if not os.path.exists(standard_index) or not os.path.exists(standard_t2g):\n",
    "    if k_standard == 31:\n",
    "        kb_ref_command = [\"kb\", \"ref\", \"-t\", str(threads), \"-i\", standard_index, \"-g\", standard_t2g, \"-d\", \"human\"]\n",
    "    else:  \n",
    "        kb_ref_command = [\"kb\", \"ref\", \"-t\", str(threads), \"-k\", str(k_standard), \"-i\", standard_index, \"-g\", standard_t2g, standard_genome, standard_gtf]\n",
    "    subprocess.run(kb_ref_command, check=True)\n",
    "\n",
    "# TODO: incorporate technology bulk vs sc in here\n",
    "if not os.path.exists(kb_count_out_standard_index) or len(os.listdir(kb_count_out_standard_index)) == 0:\n",
    "    kb_count_standard_index_command = [\"kb\", \"count\", \"-t\", str(threads), \"-k\", str(k_standard), \"-i\", standard_index, \"-g\", standard_t2g, \"-x\", \"bulk\", \"--h5ad\", \"--parity\", parity, \"--strand\", strand, \"-o\", kb_count_out_standard_index] + rnaseq_fastq_files_quality_controlled\n",
    "    subprocess.run(kb_count_standard_index_command, check=True)"
   ]
  },
  {
   "cell_type": "markdown",
   "metadata": {},
   "source": [
    "# vk clean"
   ]
  },
  {
   "cell_type": "code",
   "execution_count": null,
   "metadata": {},
   "outputs": [],
   "source": [
    "# TODO: wrap inside a single vk clean command\n",
    "adata_path_clean = vk.clean(adata_path, output_figures_dir = f\"{out_dir_notebook}/vk_clean_figures\", mutation_metadata_df = mutation_metadata_df_path, mutation_metadata_df_columns = mutation_metadata_df_columns, minimum_count_filter = minimum_count_filter, use_binary_matrix = use_binary_matrix, drop_zero_columns = drop_zero_columns, filter_cells_by_min_counts = filter_cells_by_min_counts, filter_cells_by_min_genes = filter_cells_by_min_genes, filter_genes_by_min_cells = filter_genes_by_min_cells, filter_cells_by_max_mt_content = filter_cells_by_max_mt_content, doublet_detection = doublet_detection, remove_doublets = remove_doublets, do_cpm_normalization = do_cpm_normalization, adata_path_normal_genome = adata_path_normal_genome, vcrs_id_column = \"vcrs_id\")\n",
    "\n",
    "if os.path.exists(adata_path_wt_vcrs):\n",
    "    adata_path_wt_vcrs_clean = vk.clean(adata_path_wt_vcrs, output_figures_dir = f\"{out_dir_notebook}/vk_clean_figures_wt_vcrs\", mutation_metadata_df = mutation_metadata_df_path, mutation_metadata_df_columns = mutation_metadata_df_columns, minimum_count_filter = minimum_count_filter, use_binary_matrix = use_binary_matrix, drop_zero_columns = drop_zero_columns, filter_cells_by_min_counts = filter_cells_by_min_counts, filter_cells_by_min_genes = filter_cells_by_min_genes, filter_genes_by_min_cells = filter_genes_by_min_cells, filter_cells_by_max_mt_content = filter_cells_by_max_mt_content, doublet_detection = doublet_detection, remove_doublets = remove_doublets, do_cpm_normalization = do_cpm_normalization, adata_path_normal_genome = adata_path_normal_genome, vcrs_id_column = \"vcrs_id\")\n",
    "    \n",
    "adata_vaf_output_path = make_vaf_matrix(adata_path_clean, adata_path_wt_vcrs_clean)"
   ]
  },
  {
   "cell_type": "code",
   "execution_count": null,
   "metadata": {},
   "outputs": [],
   "source": [
    "cosmic_tsv = \"\"\n",
    "reference_genome_fasta = \"\"  # grch37, ensembl93\n",
    "cosmic_cdna_info_csv = \"\"\n",
    "id_to_header_csv = \"\"\n",
    "\n",
    "# I need a metadata df with ID (corresponding to vcrs_header), CHROM, POS, REF, ALT\n",
    "cosmic_df = add_vcf_info_to_cosmic_tsv(cosmic_tsv=cosmic_tsv, reference_genome_fasta=reference_genome_fasta, cosmic_df_out = None, cosmic_cdna_info_csv = cosmic_cdna_info_csv, mutation_source = \"cdna\")\n",
    "# cosmic_df = cosmic_df.rename(columns=lambda x: f\"{x}_vcf\")\n",
    "\n",
    "import scanpy as sc\n",
    "import numpy as np\n",
    "import pandas as pd\n",
    "import scipy as sp\n",
    "import pysam\n",
    "from varseek.utils import match_adata_orders, write_to_vcf, write_vcfs_for_rows\n",
    "\n",
    "adata = sc.read_h5ad(adata_path_clean)\n",
    "adata_wt_vcrs = sc.read_h5ad(adata_path_wt_vcrs_clean)\n",
    "adata_vaf = sc.read_h5ad(adata_vaf_output_path)\n",
    "\n",
    "\n",
    "adata_var_temp = adata.var[['vcrs_id', 'vcrs_header']].copy()\n",
    "\n",
    "# explode across semicolons\n",
    "adata_var_temp = adata_var_temp.assign(\n",
    "    vcrs_header=adata_var_temp[\"vcrs_header\"].str.split(\";\")\n",
    ").explode(\"vcrs_header\")\n",
    "\n",
    "adata_var_temp.reset_index(drop=True, inplace=True)\n",
    "\n",
    "adata_var_temp = adata_var_temp.merge(cosmic_df, left=\"vcrs_header\", right=\"ID\", how=\"left\")\n",
    "\n",
    "grouped_adata_var_temp = (\n",
    "    adata_var_temp\n",
    "    .groupby(\"vcrs_id\", sort=False)  # Group by vcrs_id while preserving order\n",
    "    .agg({\n",
    "        \"vcrs_header\": lambda x: \";\".join(x),  # Reconstruct vcrs_header as a single string\n",
    "        \"CHROM\": set,  # Collect CHROM values in the same order as rows\n",
    "        \"POS\": set,    # Collect POS values\n",
    "        \"REF\": set,    # Collect REF values\n",
    "        \"ALT\": set     # Collect ALT values\n",
    "    })\n",
    "    .reset_index()  # Reset index for cleaner result\n",
    ")\n",
    "\n",
    "for col in [\"CHROM\", \"POS\", \"REF\", \"ALT\"]:\n",
    "    grouped_adata_var_temp = grouped_adata_var_temp[grouped_adata_var_temp[col].apply(lambda x: len(set(x)) == 1)]\n",
    "    grouped_adata_var_temp[col] = grouped_adata_var_temp[col].apply(lambda x: x[0])\n",
    "\n",
    "adata.var = adata.var.merge(grouped_adata_var_temp, on=\"vcrs_id\", how=\"left\", suffixes=(\"_original\", \"\"))\n",
    "adata.var['ID'] = adata.var['ID'].fillna(adata.var['vcrs_id'])\n",
    "adata.var['DP'] = adata.var['vcrs_count'] + adata.var['wt_count']\n",
    "adata.var['AF'] = adata.var['vaf_across_samples']\n",
    "\n",
    "if sp.issparse(adata.X):\n",
    "    # Sparse matrix handling\n",
    "    adata.var[\"NS\"] = np.array((adata.X != 0).sum(axis=0)).flatten()\n",
    "else:\n",
    "    # Dense matrix handling\n",
    "    adata.var[\"NS\"] = (adata.X != 0).sum(axis=0)\n",
    "\n",
    "\n",
    "\n",
    "# Example usage\n",
    "write_to_vcf(adata.var, \"output.vcf\")\n",
    "\n",
    "adata_wt_vcrs = match_adata_orders(adata = adata_wt_vcrs, adata_ref = adata)\n",
    "adata_vaf = match_adata_orders(adata = adata_vaf, adata_ref = adata)\n",
    "\n",
    "write_vcfs_for_rows(adata = adata, adata_wt_vcrs = adata_wt_vcrs, adata_vaf = adata_vaf, output_dir = \".\")"
   ]
  },
  {
   "cell_type": "markdown",
   "metadata": {},
   "source": [
    "# vk summarize"
   ]
  },
  {
   "cell_type": "code",
   "execution_count": null,
   "metadata": {},
   "outputs": [],
   "source": [
    "vk.summarize(adata_path_clean, technology = technology, output_dir = vk_summarize_output_dir, overwrite = False, top_values = 10)"
   ]
  }
 ],
 "metadata": {
  "kernelspec": {
   "display_name": "varseek",
   "language": "python",
   "name": "python3"
  },
  "language_info": {
   "codemirror_mode": {
    "name": "ipython",
    "version": 3
   },
   "file_extension": ".py",
   "mimetype": "text/x-python",
   "name": "python",
   "nbconvert_exporter": "python",
   "pygments_lexer": "ipython3",
   "version": "3.10.16"
  }
 },
 "nbformat": 4,
 "nbformat_minor": 2
}
