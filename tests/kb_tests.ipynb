{
 "cells": [
  {
   "cell_type": "code",
   "execution_count": null,
   "metadata": {},
   "outputs": [],
   "source": [
    "import os\n",
    "import subprocess\n",
    "import shutil\n",
    "import sys\n",
    "import numpy as np\n",
    "import anndata as ad\n",
    "import pandas as pd\n",
    "from varseek.utils import create_identity_t2g\n",
    "\n",
    "varseek_directory = os.path.dirname(os.path.abspath(\"\"))\n",
    "\n",
    "conda_env_path = os.path.dirname(os.path.dirname(shutil.which(\"kb\")))  # to get kb path\n",
    "operating_system = \"linux\" if sys.platform.startswith(\"linux\") else \"darwin/m1\"\n",
    "\n",
    "kallisto = f\"{conda_env_path}/lib/python3.10/site-packages/kb_python/bins/{operating_system}/kallisto/kallisto\"  # or kallisto_k64\n",
    "bustools = f\"{conda_env_path}/lib/python3.10/site-packages/kb_python/bins/{operating_system}/bustools/bustools\""
   ]
  },
  {
   "cell_type": "code",
   "execution_count": null,
   "metadata": {},
   "outputs": [],
   "source": [
    "ref_fa = f\"{varseek_directory}/tests/kb_files/ref_test.fa\"\n",
    "read1_fq = f\"{varseek_directory}/tests/kb_files/reads1_test.fq\"\n",
    "read2_fq = f\"{varseek_directory}/tests/kb_files/reads2_test.fq\"\n",
    "test_index = f\"{varseek_directory}/tests/kb_files/index_test.idx\"\n",
    "test_t2g = f\"{varseek_directory}/tests/kb_files/t2g_test.txt\"\n",
    "kb_count_out_test = f\"{varseek_directory}/tests/kb_files/test_kb_count_out_March2025_with_num\"\n",
    "kb_count_out_test2 = f\"{varseek_directory}/tests/kb_files/test_kb_count_out_March2025_without_num\"\n",
    "\n",
    "rnaseq_fastq_files_final = [read1_fq, read2_fq]\n",
    "os.makedirs(kb_count_out_test, exist_ok=True)\n",
    "\n",
    "if not os.path.exists(test_index):\n",
    "    kb_ref_command = [\"kb\", \"ref\", \"--workflow\", \"custom\", \"-t\", str(8), \"-i\", test_index, \"--d-list\", \"None\", ref_fa]\n",
    "    subprocess.run(kb_ref_command, check=True)\n",
    "\n",
    "if not os.path.exists(test_t2g):\n",
    "    create_identity_t2g(ref_fa, test_t2g)\n",
    "\n",
    "if not os.path.exists(kb_count_out_test) or len(os.listdir(kb_count_out_test)) == 0:\n",
    "    kb_count_command = [\"kb\", \"count\", \"-t\", str(2), \"-i\", test_index, \"-g\", test_t2g, \"-x\", \"bulk\", \"--num\", \"--h5ad\", \"--parity\", \"single\", \"-o\", kb_count_out_test, \"--kallisto\", kallisto, \"--bustools\", bustools] + rnaseq_fastq_files_final\n",
    "    subprocess.run(kb_count_command, check=True)\n",
    "\n",
    "if not os.path.exists(kb_count_out_test2) or len(os.listdir(kb_count_out_test2)) == 0:\n",
    "    kb_count_command = [\"kb\", \"count\", \"-t\", str(2), \"-i\", test_index, \"-g\", test_t2g, \"-x\", \"bulk\", \"--h5ad\", \"--parity\", \"single\", \"-o\", kb_count_out_test2, \"--kallisto\", kallisto, \"--bustools\", bustools] + rnaseq_fastq_files_final\n",
    "    subprocess.run(kb_count_command, check=True)\n",
    "\n",
    "# kb_count_out_test = f\"{varseek_directory}/tests/kb_files/test_kb_count_out_paired\"\n",
    "# if not os.path.exists(kb_count_out_test) or len(os.listdir(kb_count_out_test)) == 0:\n",
    "#     kb_count_command = [\"kb\", \"count\", \"-t\", str(8), \"-i\", test_index, \"-g\", test_t2g, \"-x\", \"bulk\", \"--num\", \"--h5ad\", \"--parity\", \"paired\", \"-o\", kb_count_out_test] + rnaseq_fastq_files_final\n",
    "#     subprocess.run(kb_count_command, check=True)"
   ]
  },
  {
   "cell_type": "code",
   "execution_count": null,
   "metadata": {},
   "outputs": [],
   "source": [
    "bus_text_file = os.path.join(kb_count_out_test, \"bus_text.txt\")\n",
    "bus_file = os.path.join(kb_count_out_test, \"output.bus\")\n",
    "bustools_text_command = f\"{bustools} text -o {bus_text_file} -f {bus_file}\"\n",
    "subprocess.run(bustools_text_command, check=True, shell=True)\n",
    "\n",
    "bus_text_file = os.path.join(kb_count_out_test2, \"bus_text.txt\")\n",
    "bus_file = os.path.join(kb_count_out_test2, \"output.bus\")\n",
    "bustools_text_command = f\"{bustools} text -o {bus_text_file} -f {bus_file}\"\n",
    "subprocess.run(bustools_text_command, check=True, shell=True)"
   ]
  },
  {
   "cell_type": "code",
   "execution_count": null,
   "metadata": {},
   "outputs": [],
   "source": [
    "import importlib\n",
    "import varseek.utils.seq_utils\n",
    "importlib.reload(varseek.utils.varseek_clean_utils)\n",
    "from varseek.utils.varseek_clean_utils import make_bus_df\n",
    "bus_df = make_bus_df(kallisto_out = kb_count_out_test, fastq_file_list = rnaseq_fastq_files_final, t2g_file = test_t2g, mm = False, technology = \"bulk\", bustools = bustools)"
   ]
  },
  {
   "cell_type": "code",
   "execution_count": null,
   "metadata": {},
   "outputs": [
    {
     "name": "stdout",
     "output_type": "stream",
     "text": [
      "loading in transcripts\n",
      "loading in barcodes\n",
      "loading in fastq headers\n",
      "loading in fastq headers\n",
      "loading in fastq headers\n",
      "loading in fastq headers\n",
      "loading in ec matrix\n",
      "loading in t2g df\n",
      "running bustools text\n",
      "loading in bus df\n",
      "merging ec df into bus df\n",
      "Apply the mapping function to create gene name columns\n",
      "added counted in matrix column\n",
      "saving bus df\n"
     ]
    },
    {
     "name": "stderr",
     "output_type": "stream",
     "text": [
      "Read in 12 BUS records\n"
     ]
    }
   ],
   "source": [
    "read1_sample2_fq = f\"{varseek_directory}/tests/kb_files/reads1_sample2_test.fq\"\n",
    "read2_sample2_fq = f\"{varseek_directory}/tests/kb_files/reads2_sample2_test.fq\"\n",
    "rnaseq_fastq_files_final = [read1_fq, read2_fq, read1_sample2_fq, read2_sample2_fq]\n",
    "\n",
    "kb_count_out_test_4_total_fastqs = f\"{varseek_directory}/tests/kb_files/test_kb_count_out_March2025_with_num_4_total_fastqs\"\n",
    "\n",
    "if not os.path.exists(kb_count_out_test_4_total_fastqs) or len(os.listdir(kb_count_out_test_4_total_fastqs)) == 0:\n",
    "    kb_count_command = [\"kb\", \"count\", \"-t\", str(2), \"-i\", test_index, \"-g\", test_t2g, \"-x\", \"bulk\", \"--num\", \"--h5ad\", \"--parity\", \"single\", \"-o\", kb_count_out_test_4_total_fastqs, \"--kallisto\", kallisto, \"--bustools\", bustools] + rnaseq_fastq_files_final\n",
    "    subprocess.run(kb_count_command, check=True)\n",
    "\n",
    "bus_text_file = os.path.join(kb_count_out_test_4_total_fastqs, \"bus_text.txt\")\n",
    "bus_file = os.path.join(kb_count_out_test_4_total_fastqs, \"output.bus\")\n",
    "bustools_text_command = f\"{bustools} text -o {bus_text_file} -f {bus_file}\"\n",
    "subprocess.run(bustools_text_command, check=True, shell=True)\n",
    "\n",
    "import importlib\n",
    "import varseek.utils.seq_utils\n",
    "importlib.reload(varseek.utils.varseek_clean_utils)\n",
    "from varseek.utils.varseek_clean_utils import make_bus_df\n",
    "bus_df = make_bus_df(kallisto_out = kb_count_out_test_4_total_fastqs, fastq_file_list = rnaseq_fastq_files_final, t2g_file = test_t2g, mm = False, technology = \"bulk\", bustools = bustools)"
   ]
  },
  {
   "cell_type": "code",
   "execution_count": 3,
   "metadata": {},
   "outputs": [],
   "source": [
    "read1_sample2_fq = f\"{varseek_directory}/tests/kb_files/reads1_sample2_test.fq\"\n",
    "read2_sample2_fq = f\"{varseek_directory}/tests/kb_files/reads2_sample2_test.fq\"\n",
    "rnaseq_fastq_files_final = [read1_fq, read2_fq, read1_sample2_fq, read2_sample2_fq]\n",
    "\n",
    "kb_count_out_test_4_total_fastqs_paired = f\"{varseek_directory}/tests/kb_files/test_kb_count_out_March2025_with_num_4_total_fastqs_paired2\"\n",
    "\n",
    "# if not os.path.exists(kb_count_out_test_4_total_fastqs_paired) or len(os.listdir(kb_count_out_test_4_total_fastqs_paired)) == 0:\n",
    "#     kb_count_command = [\"kb\", \"count\", \"-t\", str(2), \"-i\", test_index, \"-g\", test_t2g, \"-x\", \"bulk\", \"--num\", \"--h5ad\", \"--parity\", \"paired\", \"-o\", kb_count_out_test_4_total_fastqs_paired, \"--kallisto\", kallisto, \"--bustools\", bustools] + rnaseq_fastq_files_final\n",
    "#     subprocess.run(kb_count_command, check=True)\n",
    "\n",
    "# bus_text_file = os.path.join(kb_count_out_test_4_total_fastqs_paired, \"bus_text.txt\")\n",
    "# bus_file = os.path.join(kb_count_out_test_4_total_fastqs_paired, \"output.bus\")\n",
    "# bustools_text_command = f\"{bustools} text -o {bus_text_file} -f {bus_file}\"\n",
    "# subprocess.run(bustools_text_command, check=True, shell=True)\n",
    "\n",
    "# import importlib\n",
    "# import varseek.utils.seq_utils\n",
    "# importlib.reload(varseek.utils.varseek_clean_utils)\n",
    "# from varseek.utils.varseek_clean_utils import make_bus_df"
   ]
  },
  {
   "cell_type": "code",
   "execution_count": null,
   "metadata": {},
   "outputs": [
    {
     "name": "stdout",
     "output_type": "stream",
     "text": [
      "File /Users/joeyrich/Desktop/local/varseek/tests/kb_files/reads1_test.fq does not match the expected bulk file naming convention of SAMPLE_PAIR.EXT where SAMPLE is sample name, PAIR is 1/2, and EXT is a fastq extension - or the Illumina file naming convention of SAMPLE_LANE_R[12]_001.fastq.gz, where SAMPLE is letters, numbers, underscores; LANE is numbers with optional leading 0s; pair is either R1 or R2; and it has .fq or .fastq extension (or .fq.gz or .fastq.gz).\n",
      "File /Users/joeyrich/Desktop/local/varseek/tests/kb_files/reads2_test.fq does not match the expected bulk file naming convention of SAMPLE_PAIR.EXT where SAMPLE is sample name, PAIR is 1/2, and EXT is a fastq extension - or the Illumina file naming convention of SAMPLE_LANE_R[12]_001.fastq.gz, where SAMPLE is letters, numbers, underscores; LANE is numbers with optional leading 0s; pair is either R1 or R2; and it has .fq or .fastq extension (or .fq.gz or .fastq.gz).\n",
      "File /Users/joeyrich/Desktop/local/varseek/tests/kb_files/reads1_sample2_test.fq does not match the expected bulk file naming convention of SAMPLE_PAIR.EXT where SAMPLE is sample name, PAIR is 1/2, and EXT is a fastq extension - or the Illumina file naming convention of SAMPLE_LANE_R[12]_001.fastq.gz, where SAMPLE is letters, numbers, underscores; LANE is numbers with optional leading 0s; pair is either R1 or R2; and it has .fq or .fastq extension (or .fq.gz or .fastq.gz).\n",
      "File /Users/joeyrich/Desktop/local/varseek/tests/kb_files/reads2_sample2_test.fq does not match the expected bulk file naming convention of SAMPLE_PAIR.EXT where SAMPLE is sample name, PAIR is 1/2, and EXT is a fastq extension - or the Illumina file naming convention of SAMPLE_LANE_R[12]_001.fastq.gz, where SAMPLE is letters, numbers, underscores; LANE is numbers with optional leading 0s; pair is either R1 or R2; and it has .fq or .fastq extension (or .fq.gz or .fastq.gz).\n",
      "Removing index files from fastq files list, as they are not utilized in kb count with technology bulk\n",
      "Error sorting fastq files: Invalid SRA-style FASTQ filename: /Users/joeyrich/Desktop/local/varseek/tests/kb_files/reads1_test.fq\n",
      "loading in transcripts\n",
      "loading in barcodes\n"
     ]
    },
    {
     "name": "stderr",
     "output_type": "stream",
     "text": [
      "Processing FASTQ headers: 3it [00:00, 2437.60it/s]\n",
      "Processing FASTQ headers: 3it [00:00, 24151.46it/s]\n",
      "Processing FASTQ headers: 3it [00:00, 7672.51it/s]\n",
      "Processing FASTQ headers: 3it [00:00, 31223.11it/s]\n"
     ]
    },
    {
     "name": "stdout",
     "output_type": "stream",
     "text": [
      "loading in ec matrix\n",
      "loading in t2g df\n",
      "loading in bus df\n",
      "Merging fastq header df and ec_df into bus df\n",
      "Apply the mapping function to create gene name columns\n"
     ]
    },
    {
     "name": "stderr",
     "output_type": "stream",
     "text": [
      "100%|██████████| 4/4 [00:00<00:00, 7906.32it/s]\n"
     ]
    },
    {
     "name": "stdout",
     "output_type": "stream",
     "text": [
      "Taking set of gene_names\n"
     ]
    },
    {
     "name": "stderr",
     "output_type": "stream",
     "text": [
      "100%|██████████| 4/4 [00:00<00:00, 8062.09it/s]\n"
     ]
    },
    {
     "name": "stdout",
     "output_type": "stream",
     "text": [
      "Determining what counts in count matrix\n"
     ]
    },
    {
     "name": "stderr",
     "output_type": "stream",
     "text": [
      "100%|██████████| 4/4 [00:00<00:00, 4450.19it/s]"
     ]
    },
    {
     "name": "stdout",
     "output_type": "stream",
     "text": [
      "Saving bus df as parquet\n"
     ]
    },
    {
     "name": "stderr",
     "output_type": "stream",
     "text": [
      "\n"
     ]
    }
   ],
   "source": [
    "import importlib\n",
    "import varseek.utils.seq_utils\n",
    "importlib.reload(varseek.utils.varseek_clean_utils)\n",
    "from varseek.utils.varseek_clean_utils import make_bus_df\n",
    "df = make_bus_df(kb_count_out=kb_count_out_test_4_total_fastqs_paired, fastq_file_list=rnaseq_fastq_files_final, t2g_file=test_t2g, mm=False, technology=\"bulk\", parity=\"paired\", bustools=bustools, fastq_sorting_check_only=True)"
   ]
  },
  {
   "cell_type": "code",
   "execution_count": 6,
   "metadata": {},
   "outputs": [],
   "source": [
    "import os\n",
    "import subprocess\n",
    "import shutil\n",
    "import sys\n",
    "import numpy as np\n",
    "import pandas as pd\n",
    "from time import sleep\n",
    "import anndata as ad\n",
    "from scipy.io import mmread\n",
    "from varseek.utils import create_identity_t2g\n",
    "\n",
    "varseek_directory = os.path.dirname(os.path.abspath(\"\"))\n",
    "\n",
    "conda_env_path = os.path.dirname(os.path.dirname(shutil.which(\"kb\")))  # to get kb path\n",
    "operating_system = \"linux\" if sys.platform.startswith(\"linux\") else \"darwin/m1\"\n",
    "\n",
    "kallisto = f\"{conda_env_path}/lib/python3.10/site-packages/kb_python/bins/{operating_system}/kallisto/kallisto\"  # or kallisto_k64\n",
    "bustools = f\"{conda_env_path}/lib/python3.10/site-packages/kb_python/bins/{operating_system}/bustools/bustools\""
   ]
  },
  {
   "cell_type": "code",
   "execution_count": null,
   "metadata": {},
   "outputs": [],
   "source": [
    "mm = True\n",
    "union = True\n",
    "\n",
    "ref_fa = f\"{varseek_directory}/tests/kb_files/single_cell_tests/ref_sc_test.fa\"\n",
    "read1_fq = f\"{varseek_directory}/tests/kb_files/single_cell_tests/reads_R1.fq\"\n",
    "read2_fq = f\"{varseek_directory}/tests/kb_files/single_cell_tests/reads_R2.fq\"\n",
    "test_index = f\"{varseek_directory}/tests/kb_files/single_cell_tests/index_test.idx\"\n",
    "test_t2g = f\"{varseek_directory}/tests/kb_files/single_cell_tests/t2g_test.txt\"\n",
    "kb_count_out_test = f\"{varseek_directory}/tests/kb_files/single_cell_tests/test_kb_count_out_hamming1_mm_and_union\"\n",
    "\n",
    "rnaseq_fastq_files_final = [read1_fq, read2_fq]\n",
    "os.makedirs(kb_count_out_test, exist_ok=True)\n",
    "\n",
    "!rm -rf $test_index\n",
    "!rm -rf $test_t2g\n",
    "!rm -rf $kb_count_out_test\n",
    "\n",
    "if not os.path.exists(test_index):\n",
    "    kb_ref_command = [\"kb\", \"ref\", \"--workflow\", \"custom\", \"-t\", str(2), \"-i\", test_index, \"--d-list\", \"None\", ref_fa]\n",
    "    subprocess.run(kb_ref_command, check=True)\n",
    "\n",
    "if not os.path.exists(test_t2g):\n",
    "    create_identity_t2g(ref_fa, test_t2g)\n",
    "\n",
    "if not os.path.exists(kb_count_out_test) or len(os.listdir(kb_count_out_test)) == 0:\n",
    "    kb_count_command = [\"kb\", \"count\", \"-t\", str(2), \"-i\", test_index, \"-g\", test_t2g, \"-x\", \"10XV3\", \"--num\", \"--h5ad\", \"-o\", kb_count_out_test, \"--kallisto\", kallisto, \"--bustools\", bustools]\n",
    "    if mm:\n",
    "        kb_count_command.append(\"--mm\")\n",
    "    if union:\n",
    "        kb_count_command.append(\"--union\")\n",
    "    kb_count_command += rnaseq_fastq_files_final\n",
    "    subprocess.run(kb_count_command, check=True)\n",
    "\n",
    "bus_text_file = os.path.join(kb_count_out_test, \"bus_text.txt\")\n",
    "bus_file = os.path.join(kb_count_out_test, \"output.bus\")\n",
    "bustools_text_command = f\"{bustools} text -o {bus_text_file} -f {bus_file}\"\n",
    "subprocess.run(bustools_text_command, check=True, shell=True)\n",
    "sleep(1)\n",
    "!cat $bus_text_file\n",
    "\n",
    "adata_path = f\"{kb_count_out_test}/counts_unfiltered/adata.h5ad\"\n",
    "adata = ad.read_h5ad(adata_path)\n",
    "print(\"Count matrix: \", adata.X.toarray())\n",
    "print(\"adata.var: \", adata.var.index)\n",
    "print(\"adata.obs: \", adata.obs.index)\n",
    "\n",
    "# mtx_path = f\"{kb_count_out_test}/counts_unfiltered/cells_x_genes.mtx\"\n",
    "# mtx = mmread(mtx_path)\n",
    "# print(mtx.toarray())  # same results as adata.X.toarray() (i.e., no differences with union)\n",
    "\n",
    "import importlib\n",
    "import varseek.utils.varseek_clean_utils\n",
    "importlib.reload(varseek.utils.varseek_clean_utils)\n",
    "from varseek.utils.varseek_clean_utils import make_bus_df\n",
    "# bus_df = make_bus_df(kb_count_out = kb_count_out_test, fastq_file_list = rnaseq_fastq_files_final, t2g_file = test_t2g, mm = False, technology = \"10XV3\", bustools = bustools)\n",
    "# read_to_ref_dict = dict(zip(bus_df['fastq_header'], bus_df['gene_names']))"
   ]
  },
  {
   "cell_type": "code",
   "execution_count": null,
   "metadata": {},
   "outputs": [],
   "source": [
    "read_to_ref_dict_gt = {\n",
    "    'read0_mapsto_vcrs1_R2': ['vcrs1'],  # count_matrix_data[\"AAACCCAAGAAACACT\"][\"vcrs1\"] = 1\n",
    "    'read1_mapsto_vcrs1_same_barcode_and_umi_R2': ['vcrs1'],  # because it has duplicate UMI as read0, it doesn't count for count matrix\n",
    "    'read2_mapsto_vcrs1_different_barcode_R2': ['vcrs1'],  # count_matrix_data[\"TATCAGGAGCTAAGTG\"][\"vcrs1\"] = 1\n",
    "    'read3_mapsto_vcrs2_same_barcode_R2': ['vcrs2'],  # count_matrix_data[\"TATCAGGAGCTAAGTG\"][\"vcrs2\"] = 1\n",
    "    'read4_mapsto_vcrs2_different_umi_R2': ['vcrs2'],  # count_matrix_data[\"TATCAGGAGCTAAGTG\"][\"vcrs2\"] = 2\n",
    "    'read5_mapsto_vcrs1_and_vcrs2_union_R2': [],  # doesn't count for count matrix OR show up in bus file unless --union is used\n",
    "    'read6_mapsto_vcrs3_and_vcrs4_and_vcrs5_multimap_R2': ['vcrs3', 'vcrs4', 'vcrs5'],  # doesn't count for count matrix unless --mm is used (but shows up in bus file regardless)\n",
    "    'read7_mapsto_vcrs3_and_vcrs4_and_vcrs5_multimap_different_umi_R2': ['vcrs3', 'vcrs4', 'vcrs5'],  # doesn't count for count matrix unless --mm is used (but shows up in bus file regardless)\n",
    "    'read8_mapsto_vcrs1_barcode1_but_hamming_distance2_R2': ['vcrs1'],  # count_matrix_data[\"AAACCCAAGAAACACT\"][\"vcrs1\"] = 2\n",
    "    'read9_mapsto_vcrs1_and_vcrs2_barcode1_same_umi_as_read10_R2': [],  # doesn't count for VCRS1 without union (won't show up in BUS file without union); VCRS2 doesn't count regardless because it has the same UMI as read10, but read10 doesn't map to VCRS2 \n",
    "    'read10_mapsto_vcrs1_and_vcrs6_barcode1_same_umi_as_read9_R2': [],  # doesn't count due to same barcode and UMI as read9\n",
    "}\n",
    "if union:\n",
    "    read_to_ref_dict_gt['read5_mapsto_vcrs1_and_vcrs2_union_R2'] = ['vcrs1', 'vcrs2']\n",
    "    read_to_ref_dict_gt['read9_mapsto_vcrs1_and_vcrs2_barcode1_same_umi_as_read10_R2'] = ['vcrs1', 'vcrs2']\n",
    "    read_to_ref_dict_gt['read10_mapsto_vcrs1_and_vcrs6_barcode1_same_umi_as_read9_R2'] = ['vcrs1', 'vcrs6']\n",
    "\n",
    "count_matrix_data = {\n",
    "    \"AAACCCAAGAAACACT\": {\"vcrs1\": 2, \"vcrs2\": 0, \"vcrs3\": 0, \"vcrs4\": 0, \"vcrs5\": 0, \"vcrs6\": 0},\n",
    "    \"TATCAGGAGCTAAGTG\": {\"vcrs1\": 1, \"vcrs2\": 2, \"vcrs3\": 0, \"vcrs4\": 0, \"vcrs5\": 0, \"vcrs6\": 0},\n",
    "}\n",
    "if union and mm:  # notably, won't show up in count matrix unless mm is also used\n",
    "    count_matrix_data[\"AAACCCAAGAAACACT\"][\"vcrs1\"] += (1/1)  # each unioned read adds (1/n), where n is the number of VCRSs to which the read maps - this comes from read9/10\n",
    "    count_matrix_data[\"TATCAGGAGCTAAGTG\"][\"vcrs1\"] += (1/2)  # each unioned read adds (1/n), where n is the number of VCRSs to which the read maps - this comes from read5\n",
    "    count_matrix_data[\"TATCAGGAGCTAAGTG\"][\"vcrs2\"] += (1/2)  # each unioned read adds (1/n), where n is the number of VCRSs to which the read maps - this comes from read5\n",
    "if mm:\n",
    "    count_matrix_data[\"TATCAGGAGCTAAGTG\"][\"vcrs3\"] += (1/3) * 2  # each multimapped read adds (1/n), where n is the number of VCRSs to which the read maps, and reads 6 and 7 are both multimappers hence the *2\n",
    "    count_matrix_data[\"TATCAGGAGCTAAGTG\"][\"vcrs4\"] += (1/3) * 2  # each multimapped read adds (1/n), where n is the number of VCRSs to which the read maps, and reads 6 and 7 are both multimappers hence the *2\n",
    "    count_matrix_data[\"TATCAGGAGCTAAGTG\"][\"vcrs5\"] += (1/3) * 2  # each multimapped read adds (1/n), where n is the number of VCRSs to which the read maps, and reads 6 and 7 are both multimappers hence the *2\n",
    "# count_matrix_data_with_multimap = {\n",
    "#     \"AAACCCAAGAAACACT\": {\"vcrs1\": 3, \"vcrs2\": 0, \"vcrs3\": 0, \"vcrs4\": 0, \"vcrs5\": 0, \"vcrs6\": 0},\n",
    "#     \"TATCAGGAGCTAAGTG\": {\"vcrs1\": 1.5, \"vcrs2\": 2.5, \"vcrs3\": 0.67, \"vcrs4\": 0.67, \"vcrs5\": 0.67, \"vcrs6\": 0},\n",
    "# }\n",
    "\n",
    "df = pd.DataFrame(count_matrix_data)\n",
    "\n",
    "# assert read_to_ref_dict == read_to_ref_dict_gt\n",
    "# assert np.array_equal(adata.X.toarray(), np.array([[1., 1., 0., 0., 0., 0.]]))"
   ]
  },
  {
   "cell_type": "code",
   "execution_count": 9,
   "metadata": {},
   "outputs": [
    {
     "data": {
      "text/plain": [
       "2815"
      ]
     },
     "execution_count": 9,
     "metadata": {},
     "output_type": "execute_result"
    }
   ],
   "source": [
    "# cdna\n",
    "len(\"ACAAAATGGCGGCGGCGGCGGCGGCGGCTGGTGCTGCAGGGTCGGCAGCTCCCGCGGCAGCGGCCGGCGCCCCGGGATCTGGGGGCGCACCCTCAGGGTCGCAGGGGGTGCTGATCGGGGACAGGCTGTACTCCGGGGTGCTCATCACCTTGGAGAACTGCCTCCTGCCTGACGACAAGCTCCGTTTCACGCCGTCCATGTCGAGCGGCCTCGACACCGACACAGAGACCGACCTCCGCGTGGTGGGCTGCGAGCTCATCCAGGCGGCCGGTATCCTGCTCCGCCTGCCGCAGGTGGCCATGGCTACCGGGCAGGTGTTGTTCCAGCGGTTCTTTTATACCAAGTCCTTCGTGAAGCACTCCATGGAGCATGTGTCAATGGCCTGTGTCCACCTGGCTTCCAAGATAGAAGAGGCCCCAAGACGCATACGGGACGTCATCAATGTGTTTCACCGCCTTCGACAGCTGAGAGACAAAAAGAAGCCCGTGCCTCTACTACTGGATCAAGATTATGTTAATTTAAAGAACCAAATTATAAAGGCGGAAAGACGAGTTCTCAAAGAGTTGGGTTTCTGCGTCCATGTGAAGCATCCTCATAAGATAATCGTTATGTACCTTCAGGTGTTAGAGTGTGAGCGTAACCAACACCTGGTCCAGACCTCATGGGTAGCCTCTGAGGACCCCTTGTTGAAATGGGACAGTTGGCAGCGGCTCTGATGAGCCCGAGAAGAGGCCTGCCCTTGGGTGCGGAGTCTCCCTCCGCACGATGCTCCCACGCGTCCAACTTGCACCCAAGGGGCTTTTCCCTCTTCCAAGTGGACTCCTTCAAGGAAGCTGCAGCTCGGTCAGCAGAGAAGGGGCCTGCCGCCAGCGCCCTGGAGGAAGAGGAAGAGGAACCCAAGAGGATGGCTTGTCTCCCAGCAGCCACACCGGCTTTGTGCTCAGCCAGTTCATTTGAGTTTGCATGTTTCTCTGCACTATGGATTTTGAGCATTTAGATTTCTTTAATCAAAAGCGTTTTAGTGACTCCAGTAGACATTTTCTTTCTGAGGCATCGTGCTTTGCATGAGAGCAGGCCAAGGTTGAGGGGAAAAGTAAAGTTAAAGTCGGTTCTCTTTCATAGCAACACGTATTGTCTGACATTCAGCCAGCTTTTTTTTTTTCTAATAATTTCTGTGCCTTTCTGTCCTGTATTTACTGTATTTAGAAAAAGCAGCTAGAATATTTCTCCATTAACTCTTGAGATTCACAGGACTGTCTAGCTCTGAGTCCTAGCAATAGACTCCTTAGAGGAGTAGTACGTTTATCTAGATTTTCTCTAGATAATGCAGGCGGAAGACCTGGGTTCCCGGGTGGGGCATTGCAGTTCTTCCTGTGTTTGGCTTCCAGGAATTACATGAACGACAGCCTTCGCACCGACGTCTTCGTGCGGTTCCAGCCAGAGAGCATCGCCTGTGCCTGCATTTATCTTGCTGCCCGGACGCTGGAGATCCCTTTGCCCAATCGTCCCCATTGGTTTCTTTTGTTTGGAGCAACTGAAGAAGAAATTCAGGAAATCTGCTTAAAGATCTTGCAGCTTTATGCTCGGAAAAAGGTTGATCTCACACACCTGGAGGGTGAAGTGGAAAAAAGAAAGCACGCTATCGAAGAGGCAAAGGCCCAAGCCCGGGGCCTGTTGCCTGGGGGCACACAGGTGCTGGATGGTACCTCGGGGTTCTCTCCTGCCCCCAAGCTGGTGGAATCCCCCAAAGAAGGTAAAGGGAGCAAGCCTTCCCCACTGTCTGTGAAGAACACCAAGAGGAGGCTGGAGGGCGCCAAGAAAGCCAAGGCGGACAGCCCCGTGAACGGCTTGCCAAAGGGGCGAGAGAGTCGGAGTCGGAGCCGGAGCCGTGAGCAGAGCTACTCGAGGTCCCCATCCCGATCAGCGTCTCCTAAGAGGAGGAAAAGTGACAGCGGCTCCACATCTGGTGGGTCCAAGTCGCAGAGCCGCTCCCGGAGCAGGAGTGACTCCCCACCGAGACAGGCCCCCCGCAGCGCTCCCTACAAAGGCTCTGAGATTCGGGGCTCCCGGAAGTCCAAGGACTGCAAGTACCCCCAGAAGCCACACAAGTCTCGGAGCCGGAGTTCTTCCCGTTCTCGAAGCAGGTCACGGGAGCGGGCGGATAATCCGGGAAAATACAAGAAGAAAAGTCATTACTACAGAGATCAGCGACGAGAGCGCTCGAGGTCGTATGAACGCACAGGCCGTCGCTATGAGCGGGACCACCCTGGGCACAGCAGGCATCGGAGGTGAGGCGGGGTTGCAGTGACTGGTGGCCGCAAGCCCTTCCCTGGGGAGTACCTGATGGCTGCCCTTTGACCCCCGGTGGCTGCCCTTTGACCCCCGGGTGTGCTCTCAGCGCAAGTGGTCCTAGAACAGGATTCTTTTTGGAAATGTCTGTCGACTGGACCTTGGTGGATTTGGAAATGGAACTGAGGGACCGGTGACACGTGCTTCAGACCGGTCTGGGGTGCGGCGCACACCTGGGCCCGTGCAGGGCTCAGCTCGGCAGCAGCTCTGAGGGCAGCTCAATGAAAAAGTGAATGCACACGCCCTTGTTGGCGTGGCCTGGCATGGCCTGGTGCTATCGGCAGCCGCTCTCCACTCCCCGACTGATACTCAATTACGTGAAGCCAAGAAAGATGATTTTTAGAACCTTTGCCTATATTAGGTTGTACTTATGTACATATTTTGCAGTGTTTCACAGGAGAAAGTGGCCTTAACTGCCCCTTATTCTCTCTCCACGTTGTAAATAAACATGTGTTTAATACAAGTT\")"
   ]
  },
  {
   "cell_type": "code",
   "execution_count": 8,
   "metadata": {},
   "outputs": [
    {
     "data": {
      "text/plain": [
       "711"
      ]
     },
     "execution_count": 8,
     "metadata": {},
     "output_type": "execute_result"
    }
   ],
   "source": [
    "# cds\n",
    "len(\"ATGGCGGCGGCGGCGGCGGCGGCTGGTGCTGCAGGGTCGGCAGCTCCCGCGGCAGCGGCCGGCGCCCCGGGATCTGGGGGCGCACCCTCAGGGTCGCAGGGGGTGCTGATCGGGGACAGGCTGTACTCCGGGGTGCTCATCACCTTGGAGAACTGCCTCCTGCCTGACGACAAGCTCCGTTTCACGCCGTCCATGTCGAGCGGCCTCGACACCGACACAGAGACCGACCTCCGCGTGGTGGGCTGCGAGCTCATCCAGGCGGCCGGTATCCTGCTCCGCCTGCCGCAGGTGGCCATGGCTACCGGGCAGGTGTTGTTCCAGCGGTTCTTTTATACCAAGTCCTTCGTGAAGCACTCCATGGAGCATGTGTCAATGGCCTGTGTCCACCTGGCTTCCAAGATAGAAGAGGCCCCAAGACGCATACGGGACGTCATCAATGTGTTTCACCGCCTTCGACAGCTGAGAGACAAAAAGAAGCCCGTGCCTCTACTACTGGATCAAGATTATGTTAATTTAAAGAACCAAATTATAAAGGCGGAAAGACGAGTTCTCAAAGAGTTGGGTTTCTGCGTCCATGTGAAGCATCCTCATAAGATAATCGTTATGTACCTTCAGGTGTTAGAGTGTGAGCGTAACCAACACCTGGTCCAGACCTCATGGGTAGCCTCTGAGGACCCCTTGTTGAAATGGGACAGTTGGCAGCGGCTCTGA\")"
   ]
  },
  {
   "cell_type": "code",
   "execution_count": null,
   "metadata": {},
   "outputs": [
    {
     "data": {
      "text/plain": [
       "2104"
      ]
     },
     "execution_count": 10,
     "metadata": {},
     "output_type": "execute_result"
    }
   ],
   "source": [
    "# cdna - cds\n",
    "2815 - 711"
   ]
  },
  {
   "cell_type": "code",
   "execution_count": 24,
   "metadata": {},
   "outputs": [
    {
     "data": {
      "text/plain": [
       "5"
      ]
     },
     "execution_count": 24,
     "metadata": {},
     "output_type": "execute_result"
    }
   ],
   "source": [
    "# 5' UTR - checks out\n",
    "1334691-1334687+1"
   ]
  },
  {
   "cell_type": "code",
   "execution_count": null,
   "metadata": {},
   "outputs": [
    {
     "data": {
      "text/plain": [
       "2099"
      ]
     },
     "execution_count": 23,
     "metadata": {},
     "output_type": "execute_result"
    }
   ],
   "source": [
    "# 3' utr - must be 2099\n",
    "(1326917-1326146+1) + (1325943-1325839+1) + (1325751-1325610+1) + (1323445-1323334+1) + (1323249-1323157+1) + (1322962-1322088+1)"
   ]
  },
  {
   "cell_type": "code",
   "execution_count": 29,
   "metadata": {},
   "outputs": [
    {
     "data": {
      "application/vnd.microsoft.datawrangler.viewer.v0+json": {
       "columns": [
        {
         "name": "index",
         "rawType": "int64",
         "type": "integer"
        },
        {
         "name": "seqname",
         "rawType": "int64",
         "type": "integer"
        },
        {
         "name": "source",
         "rawType": "object",
         "type": "string"
        },
        {
         "name": "feature",
         "rawType": "object",
         "type": "string"
        },
        {
         "name": "start",
         "rawType": "int64",
         "type": "integer"
        },
        {
         "name": "end",
         "rawType": "int64",
         "type": "integer"
        },
        {
         "name": "score",
         "rawType": "object",
         "type": "string"
        },
        {
         "name": "strand",
         "rawType": "object",
         "type": "string"
        },
        {
         "name": "frame",
         "rawType": "object",
         "type": "string"
        },
        {
         "name": "attribute",
         "rawType": "object",
         "type": "string"
        }
       ],
       "conversionMethod": "pd.DataFrame",
       "ref": "cc7e9950-87e3-45e1-9a1d-e8b7a3beb5cb",
       "rows": [
        [
         "0",
         "1",
         "havana",
         "transcript",
         "1322088",
         "1334691",
         ".",
         "-",
         ".",
         "gene_id \"ENSG00000221978\"; gene_version \"7\"; transcript_id \"ENST00000481223\"; transcript_version \"2\"; gene_name \"CCNL2\"; gene_source \"ensembl_havana\"; gene_biotype \"protein_coding\"; transcript_name \"CCNL2-004\"; transcript_source \"havana\"; transcript_biotype \"nonsense_mediated_decay\"; havana_transcript \"OTTHUMT00000008149\"; havana_transcript_version \"3\";"
        ],
        [
         "1",
         "1",
         "havana",
         "exon",
         "1334399",
         "1334691",
         ".",
         "-",
         ".",
         "gene_id \"ENSG00000221978\"; gene_version \"7\"; transcript_id \"ENST00000481223\"; transcript_version \"2\"; exon_number \"1\"; gene_name \"CCNL2\"; gene_source \"ensembl_havana\"; gene_biotype \"protein_coding\"; transcript_name \"CCNL2-004\"; transcript_source \"havana\"; transcript_biotype \"nonsense_mediated_decay\"; havana_transcript \"OTTHUMT00000008149\"; havana_transcript_version \"3\"; exon_id \"ENSE00002205462\"; exon_version \"1\";"
        ],
        [
         "2",
         "1",
         "havana",
         "CDS",
         "1334399",
         "1334686",
         ".",
         "-",
         "0",
         "gene_id \"ENSG00000221978\"; gene_version \"7\"; transcript_id \"ENST00000481223\"; transcript_version \"2\"; exon_number \"1\"; gene_name \"CCNL2\"; gene_source \"ensembl_havana\"; gene_biotype \"protein_coding\"; transcript_name \"CCNL2-004\"; transcript_source \"havana\"; transcript_biotype \"nonsense_mediated_decay\"; havana_transcript \"OTTHUMT00000008149\"; havana_transcript_version \"3\"; protein_id \"ENSP00000423734\"; protein_version \"1\";"
        ],
        [
         "3",
         "1",
         "havana",
         "start_codon",
         "1334684",
         "1334686",
         ".",
         "-",
         "0",
         "gene_id \"ENSG00000221978\"; gene_version \"7\"; transcript_id \"ENST00000481223\"; transcript_version \"2\"; exon_number \"1\"; gene_name \"CCNL2\"; gene_source \"ensembl_havana\"; gene_biotype \"protein_coding\"; transcript_name \"CCNL2-004\"; transcript_source \"havana\"; transcript_biotype \"nonsense_mediated_decay\"; havana_transcript \"OTTHUMT00000008149\"; havana_transcript_version \"3\";"
        ],
        [
         "4",
         "1",
         "havana",
         "exon",
         "1333977",
         "1334051",
         ".",
         "-",
         ".",
         "gene_id \"ENSG00000221978\"; gene_version \"7\"; transcript_id \"ENST00000481223\"; transcript_version \"2\"; exon_number \"2\"; gene_name \"CCNL2\"; gene_source \"ensembl_havana\"; gene_biotype \"protein_coding\"; transcript_name \"CCNL2-004\"; transcript_source \"havana\"; transcript_biotype \"nonsense_mediated_decay\"; havana_transcript \"OTTHUMT00000008149\"; havana_transcript_version \"3\"; exon_id \"ENSE00003497083\"; exon_version \"1\";"
        ]
       ],
       "shape": {
        "columns": 9,
        "rows": 5
       }
      },
      "text/html": [
       "<div>\n",
       "<style scoped>\n",
       "    .dataframe tbody tr th:only-of-type {\n",
       "        vertical-align: middle;\n",
       "    }\n",
       "\n",
       "    .dataframe tbody tr th {\n",
       "        vertical-align: top;\n",
       "    }\n",
       "\n",
       "    .dataframe thead th {\n",
       "        text-align: right;\n",
       "    }\n",
       "</style>\n",
       "<table border=\"1\" class=\"dataframe\">\n",
       "  <thead>\n",
       "    <tr style=\"text-align: right;\">\n",
       "      <th></th>\n",
       "      <th>seqname</th>\n",
       "      <th>source</th>\n",
       "      <th>feature</th>\n",
       "      <th>start</th>\n",
       "      <th>end</th>\n",
       "      <th>score</th>\n",
       "      <th>strand</th>\n",
       "      <th>frame</th>\n",
       "      <th>attribute</th>\n",
       "    </tr>\n",
       "  </thead>\n",
       "  <tbody>\n",
       "    <tr>\n",
       "      <th>0</th>\n",
       "      <td>1</td>\n",
       "      <td>havana</td>\n",
       "      <td>transcript</td>\n",
       "      <td>1322088</td>\n",
       "      <td>1334691</td>\n",
       "      <td>.</td>\n",
       "      <td>-</td>\n",
       "      <td>.</td>\n",
       "      <td>gene_id \"ENSG00000221978\"; gene_version \"7\"; t...</td>\n",
       "    </tr>\n",
       "    <tr>\n",
       "      <th>1</th>\n",
       "      <td>1</td>\n",
       "      <td>havana</td>\n",
       "      <td>exon</td>\n",
       "      <td>1334399</td>\n",
       "      <td>1334691</td>\n",
       "      <td>.</td>\n",
       "      <td>-</td>\n",
       "      <td>.</td>\n",
       "      <td>gene_id \"ENSG00000221978\"; gene_version \"7\"; t...</td>\n",
       "    </tr>\n",
       "    <tr>\n",
       "      <th>2</th>\n",
       "      <td>1</td>\n",
       "      <td>havana</td>\n",
       "      <td>CDS</td>\n",
       "      <td>1334399</td>\n",
       "      <td>1334686</td>\n",
       "      <td>.</td>\n",
       "      <td>-</td>\n",
       "      <td>0</td>\n",
       "      <td>gene_id \"ENSG00000221978\"; gene_version \"7\"; t...</td>\n",
       "    </tr>\n",
       "    <tr>\n",
       "      <th>3</th>\n",
       "      <td>1</td>\n",
       "      <td>havana</td>\n",
       "      <td>start_codon</td>\n",
       "      <td>1334684</td>\n",
       "      <td>1334686</td>\n",
       "      <td>.</td>\n",
       "      <td>-</td>\n",
       "      <td>0</td>\n",
       "      <td>gene_id \"ENSG00000221978\"; gene_version \"7\"; t...</td>\n",
       "    </tr>\n",
       "    <tr>\n",
       "      <th>4</th>\n",
       "      <td>1</td>\n",
       "      <td>havana</td>\n",
       "      <td>exon</td>\n",
       "      <td>1333977</td>\n",
       "      <td>1334051</td>\n",
       "      <td>.</td>\n",
       "      <td>-</td>\n",
       "      <td>.</td>\n",
       "      <td>gene_id \"ENSG00000221978\"; gene_version \"7\"; t...</td>\n",
       "    </tr>\n",
       "  </tbody>\n",
       "</table>\n",
       "</div>"
      ],
      "text/plain": [
       "   seqname  source      feature    start      end score strand frame  \\\n",
       "0        1  havana   transcript  1322088  1334691     .      -     .   \n",
       "1        1  havana         exon  1334399  1334691     .      -     .   \n",
       "2        1  havana          CDS  1334399  1334686     .      -     0   \n",
       "3        1  havana  start_codon  1334684  1334686     .      -     0   \n",
       "4        1  havana         exon  1333977  1334051     .      -     .   \n",
       "\n",
       "                                           attribute  \n",
       "0  gene_id \"ENSG00000221978\"; gene_version \"7\"; t...  \n",
       "1  gene_id \"ENSG00000221978\"; gene_version \"7\"; t...  \n",
       "2  gene_id \"ENSG00000221978\"; gene_version \"7\"; t...  \n",
       "3  gene_id \"ENSG00000221978\"; gene_version \"7\"; t...  \n",
       "4  gene_id \"ENSG00000221978\"; gene_version \"7\"; t...  "
      ]
     },
     "execution_count": 29,
     "metadata": {},
     "output_type": "execute_result"
    }
   ],
   "source": [
    "import pandas as pd\n",
    "\n",
    "gtf_path = \"/Users/joeyrich/Desktop/local/varseek/enst_line.gtf\"\n",
    "colnames = [\n",
    "    \"seqname\", \"source\", \"feature\", \"start\", \"end\",\n",
    "    \"score\", \"strand\", \"frame\", \"attribute\"\n",
    "]\n",
    "\n",
    "df = pd.read_csv(gtf_path, sep=\"\\t\", comment='#', names=colnames, header=None)\n",
    "df.head()"
   ]
  },
  {
   "cell_type": "code",
   "execution_count": 30,
   "metadata": {},
   "outputs": [
    {
     "name": "stdout",
     "output_type": "stream",
     "text": [
      "Total exon length: 2815\n"
     ]
    }
   ],
   "source": [
    "# Filter to only keep exons\n",
    "exons = df[df['feature'] == 'exon'].copy()\n",
    "\n",
    "# Calculate exon length\n",
    "exons['exon_length'] = exons['end'] - exons['start'] + 1\n",
    "\n",
    "# Sum the exon lengths\n",
    "total_exon_length = exons['exon_length'].sum()\n",
    "\n",
    "print(f\"Total exon length: {total_exon_length}\")\n"
   ]
  },
  {
   "cell_type": "code",
   "execution_count": 32,
   "metadata": {},
   "outputs": [
    {
     "name": "stdout",
     "output_type": "stream",
     "text": [
      "Help on Fastx object:\n",
      "\n",
      "class Fastx(object)\n",
      " |  Methods defined here:\n",
      " |  \n",
      " |  __iter__(self, /)\n",
      " |      Implement iter(self).\n",
      " |  \n",
      " |  __next__(self, /)\n",
      " |      Implement next(self).\n",
      " |  \n",
      " |  __repr__(self, /)\n",
      " |      Return repr(self).\n",
      " |  \n",
      " |  ----------------------------------------------------------------------\n",
      " |  Static methods defined here:\n",
      " |  \n",
      " |  __new__(*args, **kwargs) from builtins.type\n",
      " |      Create and return a new object.  See help(type) for accurate signature.\n",
      "\n"
     ]
    }
   ],
   "source": [
    "help(myfasta)"
   ]
  },
  {
   "cell_type": "code",
   "execution_count": 113,
   "metadata": {},
   "outputs": [
    {
     "data": {
      "text/plain": [
       "('ENSVPAT00000000947.1',\n",
       " 'GCAAGTCTCCTGGCTTGTGAAGGCCTAGCAGGTGTGAGTTTGGTTCCCACTGCAGCCAGCAAGAAGATGATGCTGAGCCAGATTGCCAGCAAGCAGGCCGAGAATGGAGAGCGGGCAGGTAGCCCTGATGTGCTGAGGTGCTCAAGTCAGGGCCACCGAAAGGACAGCGATAAGTCCCGGAGCCGCAAAGACGATGACAGCTTGGCTGAGGCCTCTCATTCAAAAAAGACTGTTAAAAAGGTGGTGGTAGTGGAACAAAATGGTTCCTTTCAAGTAAAGATTCCCAAAAATTTTGTTTGTGAACACTGCTTTGGAGCCTTTAGGAGCAGTTACCACCTCAAGAGGCACATCCTTATTCATACTGGTGAGAAGCCGTTTGAGTGTGATATATGTGATATGCGCTTCATCCAGAAGTATCACCTGGAGCGTCACAAGCGTGTGCACAGTGGTGAAAAGCCCTACCAGTGTGAACGGTGTCATCAG')"
      ]
     },
     "execution_count": 113,
     "metadata": {},
     "output_type": "execute_result"
    }
   ],
   "source": [
    "# myfasta = pyfastx.Fastx(myfasta_file)\n",
    "(myfasta).__next__()"
   ]
  },
  {
   "cell_type": "code",
   "execution_count": 114,
   "metadata": {},
   "outputs": [],
   "source": [
    "mylist = [1, 2, 3]"
   ]
  },
  {
   "cell_type": "code",
   "execution_count": null,
   "metadata": {},
   "outputs": [
    {
     "ename": "StopIteration",
     "evalue": "",
     "output_type": "error",
     "traceback": [
      "\u001b[0;31m---------------------------------------------------------------------------\u001b[0m",
      "\u001b[0;31mStopIteration\u001b[0m                             Traceback (most recent call last)",
      "Cell \u001b[0;32mIn[125], line 2\u001b[0m\n\u001b[1;32m      1\u001b[0m \u001b[38;5;66;03m# it = iter(mylist)      # Get an iterator\u001b[39;00m\n\u001b[0;32m----> 2\u001b[0m \u001b[38;5;28mprint\u001b[39m(\u001b[38;5;28;43mnext\u001b[39;49m\u001b[43m(\u001b[49m\u001b[43mit\u001b[49m\u001b[43m)\u001b[49m) \n",
      "\u001b[0;31mStopIteration\u001b[0m: "
     ]
    }
   ],
   "source": [
    "# it = iter(mylist)      # Get an iterator\n",
    "print(next(it))"
   ]
  },
  {
   "cell_type": "code",
   "execution_count": null,
   "metadata": {},
   "outputs": [
    {
     "name": "stdout",
     "output_type": "stream",
     "text": [
      "Maximum sequence length: 94632\n"
     ]
    }
   ],
   "source": [
    "# myfasta_file = \"/Users/joeyrich/Downloads/Vicugna_pacos.vicPac1.cdna.all.fa\"\n",
    "myfasta_file = \"/Users/joeyrich/Downloads/Vicugna_pacos.vicPac1.dna.toplevel.fa\"\n",
    "import pyfastx\n",
    "myfasta = pyfastx.Fastx(myfasta_file)\n",
    "\n",
    "max_seq_length = 0\n",
    "for name, seq in myfasta:\n",
    "    if len(seq) > max_seq_length:\n",
    "        max_seq_length = len(seq)\n",
    "print(f\"Maximum sequence length: {max_seq_length}\")"
   ]
  },
  {
   "cell_type": "code",
   "execution_count": 132,
   "metadata": {},
   "outputs": [
    {
     "name": "stdout",
     "output_type": "stream",
     "text": [
      "Maximum sequence length: 249250621\n"
     ]
    }
   ],
   "source": [
    "# myfasta_file = \"/Users/joeyrich/Desktop/local/varseek/data/reference/ensembl_grch37_release93/Homo_sapiens.GRCh37.cdna.all.fa\"\n",
    "myfasta_file = \"/Users/joeyrich/Desktop/local/varseek/data/reference/ensembl_grch37_release93/Homo_sapiens.GRCh37.dna.primary_assembly.fa\"\n",
    "import pyfastx\n",
    "myfasta = pyfastx.Fastx(myfasta_file)\n",
    "\n",
    "max_seq_length = 0\n",
    "for name, seq in myfasta:\n",
    "    if len(seq) > max_seq_length:\n",
    "        max_seq_length = len(seq)\n",
    "print(f\"Maximum sequence length: {max_seq_length}\")"
   ]
  },
  {
   "cell_type": "markdown",
   "metadata": {},
   "source": [
    "5519660 vs 94632\n",
    "249250621 vs 109224"
   ]
  },
  {
   "cell_type": "code",
   "execution_count": 187,
   "metadata": {},
   "outputs": [
    {
     "data": {
      "application/vnd.microsoft.datawrangler.viewer.v0+json": {
       "columns": [
        {
         "name": "index",
         "rawType": "int64",
         "type": "integer"
        },
        {
         "name": "gene",
         "rawType": "object",
         "type": "string"
        },
        {
         "name": "vcrs_header",
         "rawType": "object",
         "type": "string"
        },
        {
         "name": "other_info",
         "rawType": "int64",
         "type": "integer"
        }
       ],
       "conversionMethod": "pd.DataFrame",
       "ref": "0a7bae84-4720-48f0-aced-4d77f686137e",
       "rows": [
        [
         "0",
         "GeneA",
         "VAR1;VAR2",
         "42"
        ],
        [
         "1",
         "GeneB",
         "VAR3",
         "99"
        ]
       ],
       "shape": {
        "columns": 3,
        "rows": 2
       }
      },
      "text/html": [
       "<div>\n",
       "<style scoped>\n",
       "    .dataframe tbody tr th:only-of-type {\n",
       "        vertical-align: middle;\n",
       "    }\n",
       "\n",
       "    .dataframe tbody tr th {\n",
       "        vertical-align: top;\n",
       "    }\n",
       "\n",
       "    .dataframe thead th {\n",
       "        text-align: right;\n",
       "    }\n",
       "</style>\n",
       "<table border=\"1\" class=\"dataframe\">\n",
       "  <thead>\n",
       "    <tr style=\"text-align: right;\">\n",
       "      <th></th>\n",
       "      <th>gene</th>\n",
       "      <th>vcrs_header</th>\n",
       "      <th>other_info</th>\n",
       "    </tr>\n",
       "  </thead>\n",
       "  <tbody>\n",
       "    <tr>\n",
       "      <th>0</th>\n",
       "      <td>GeneA</td>\n",
       "      <td>VAR1;VAR2</td>\n",
       "      <td>42</td>\n",
       "    </tr>\n",
       "    <tr>\n",
       "      <th>1</th>\n",
       "      <td>GeneB</td>\n",
       "      <td>VAR3</td>\n",
       "      <td>99</td>\n",
       "    </tr>\n",
       "  </tbody>\n",
       "</table>\n",
       "</div>"
      ],
      "text/plain": [
       "    gene vcrs_header  other_info\n",
       "0  GeneA   VAR1;VAR2          42\n",
       "1  GeneB        VAR3          99"
      ]
     },
     "execution_count": 187,
     "metadata": {},
     "output_type": "execute_result"
    }
   ],
   "source": [
    "import pandas as pd\n",
    "\n",
    "# Simulate adata.var-like DataFrame\n",
    "df = pd.DataFrame({\n",
    "    'gene': ['GeneA', 'GeneB'],\n",
    "    'vcrs_header': ['VAR1;VAR2', 'VAR3'],\n",
    "    'other_info': [42, 99]\n",
    "})\n",
    "\n",
    "df"
   ]
  },
  {
   "cell_type": "code",
   "execution_count": 195,
   "metadata": {},
   "outputs": [
    {
     "data": {
      "application/vnd.microsoft.datawrangler.viewer.v0+json": {
       "columns": [
        {
         "name": "index",
         "rawType": "int64",
         "type": "integer"
        },
        {
         "name": "gene",
         "rawType": "object",
         "type": "string"
        },
        {
         "name": "vcrs_header",
         "rawType": "object",
         "type": "string"
        },
        {
         "name": "other_info",
         "rawType": "int64",
         "type": "integer"
        },
        {
         "name": "vcrs_header_individual",
         "rawType": "object",
         "type": "string"
        }
       ],
       "conversionMethod": "pd.DataFrame",
       "ref": "a5fecbb0-55d0-44d5-9b5a-e34ac345c51a",
       "rows": [
        [
         "0",
         "GeneA",
         "VAR1;VAR2",
         "42",
         "['VAR1', 'VAR2']"
        ],
        [
         "1",
         "GeneB",
         "VAR3",
         "99",
         "['VAR3']"
        ]
       ],
       "shape": {
        "columns": 4,
        "rows": 2
       }
      },
      "text/html": [
       "<div>\n",
       "<style scoped>\n",
       "    .dataframe tbody tr th:only-of-type {\n",
       "        vertical-align: middle;\n",
       "    }\n",
       "\n",
       "    .dataframe tbody tr th {\n",
       "        vertical-align: top;\n",
       "    }\n",
       "\n",
       "    .dataframe thead th {\n",
       "        text-align: right;\n",
       "    }\n",
       "</style>\n",
       "<table border=\"1\" class=\"dataframe\">\n",
       "  <thead>\n",
       "    <tr style=\"text-align: right;\">\n",
       "      <th></th>\n",
       "      <th>gene</th>\n",
       "      <th>vcrs_header</th>\n",
       "      <th>other_info</th>\n",
       "      <th>vcrs_header_individual</th>\n",
       "    </tr>\n",
       "  </thead>\n",
       "  <tbody>\n",
       "    <tr>\n",
       "      <th>0</th>\n",
       "      <td>GeneA</td>\n",
       "      <td>VAR1;VAR2</td>\n",
       "      <td>42</td>\n",
       "      <td>[VAR1, VAR2]</td>\n",
       "    </tr>\n",
       "    <tr>\n",
       "      <th>1</th>\n",
       "      <td>GeneB</td>\n",
       "      <td>VAR3</td>\n",
       "      <td>99</td>\n",
       "      <td>[VAR3]</td>\n",
       "    </tr>\n",
       "  </tbody>\n",
       "</table>\n",
       "</div>"
      ],
      "text/plain": [
       "    gene vcrs_header  other_info vcrs_header_individual\n",
       "0  GeneA   VAR1;VAR2          42           [VAR1, VAR2]\n",
       "1  GeneB        VAR3          99                 [VAR3]"
      ]
     },
     "execution_count": 195,
     "metadata": {},
     "output_type": "execute_result"
    }
   ],
   "source": [
    "exploded = df.copy()\n",
    "exploded['vcrs_header_individual'] = exploded['vcrs_header'].str.split(';')\n",
    "exploded"
   ]
  },
  {
   "cell_type": "code",
   "execution_count": 196,
   "metadata": {},
   "outputs": [
    {
     "data": {
      "application/vnd.microsoft.datawrangler.viewer.v0+json": {
       "columns": [
        {
         "name": "index",
         "rawType": "int64",
         "type": "integer"
        },
        {
         "name": "gene",
         "rawType": "object",
         "type": "string"
        },
        {
         "name": "vcrs_header",
         "rawType": "object",
         "type": "string"
        },
        {
         "name": "other_info",
         "rawType": "int64",
         "type": "integer"
        },
        {
         "name": "vcrs_header_individual",
         "rawType": "object",
         "type": "string"
        }
       ],
       "conversionMethod": "pd.DataFrame",
       "ref": "7943ce14-7169-4dac-a986-896cf4f764f9",
       "rows": [
        [
         "0",
         "GeneA",
         "VAR1;VAR2",
         "42",
         "VAR1"
        ],
        [
         "0",
         "GeneA",
         "VAR1;VAR2",
         "42",
         "VAR2"
        ],
        [
         "1",
         "GeneB",
         "VAR3",
         "99",
         "VAR3"
        ]
       ],
       "shape": {
        "columns": 4,
        "rows": 3
       }
      },
      "text/html": [
       "<div>\n",
       "<style scoped>\n",
       "    .dataframe tbody tr th:only-of-type {\n",
       "        vertical-align: middle;\n",
       "    }\n",
       "\n",
       "    .dataframe tbody tr th {\n",
       "        vertical-align: top;\n",
       "    }\n",
       "\n",
       "    .dataframe thead th {\n",
       "        text-align: right;\n",
       "    }\n",
       "</style>\n",
       "<table border=\"1\" class=\"dataframe\">\n",
       "  <thead>\n",
       "    <tr style=\"text-align: right;\">\n",
       "      <th></th>\n",
       "      <th>gene</th>\n",
       "      <th>vcrs_header</th>\n",
       "      <th>other_info</th>\n",
       "      <th>vcrs_header_individual</th>\n",
       "    </tr>\n",
       "  </thead>\n",
       "  <tbody>\n",
       "    <tr>\n",
       "      <th>0</th>\n",
       "      <td>GeneA</td>\n",
       "      <td>VAR1;VAR2</td>\n",
       "      <td>42</td>\n",
       "      <td>VAR1</td>\n",
       "    </tr>\n",
       "    <tr>\n",
       "      <th>0</th>\n",
       "      <td>GeneA</td>\n",
       "      <td>VAR1;VAR2</td>\n",
       "      <td>42</td>\n",
       "      <td>VAR2</td>\n",
       "    </tr>\n",
       "    <tr>\n",
       "      <th>1</th>\n",
       "      <td>GeneB</td>\n",
       "      <td>VAR3</td>\n",
       "      <td>99</td>\n",
       "      <td>VAR3</td>\n",
       "    </tr>\n",
       "  </tbody>\n",
       "</table>\n",
       "</div>"
      ],
      "text/plain": [
       "    gene vcrs_header  other_info vcrs_header_individual\n",
       "0  GeneA   VAR1;VAR2          42                   VAR1\n",
       "0  GeneA   VAR1;VAR2          42                   VAR2\n",
       "1  GeneB        VAR3          99                   VAR3"
      ]
     },
     "execution_count": 196,
     "metadata": {},
     "output_type": "execute_result"
    }
   ],
   "source": [
    "exploded = exploded.explode('vcrs_header_individual')\n",
    "exploded"
   ]
  },
  {
   "cell_type": "code",
   "execution_count": 204,
   "metadata": {},
   "outputs": [
    {
     "data": {
      "application/vnd.microsoft.datawrangler.viewer.v0+json": {
       "columns": [
        {
         "name": "index",
         "rawType": "int64",
         "type": "integer"
        },
        {
         "name": "vcrs_header",
         "rawType": "object",
         "type": "string"
        },
        {
         "name": "gene",
         "rawType": "object",
         "type": "string"
        },
        {
         "name": "other_info",
         "rawType": "int64",
         "type": "integer"
        },
        {
         "name": "vcrs_header_list",
         "rawType": "object",
         "type": "string"
        }
       ],
       "conversionMethod": "pd.DataFrame",
       "ref": "a2fea479-7ff7-407b-a153-bfd7e98e8428",
       "rows": [
        [
         "0",
         "VAR1;VAR2",
         "GeneA",
         "42",
         "['VAR1', 'VAR2']"
        ],
        [
         "1",
         "VAR3",
         "GeneB",
         "99",
         "['VAR3']"
        ]
       ],
       "shape": {
        "columns": 4,
        "rows": 2
       }
      },
      "text/html": [
       "<div>\n",
       "<style scoped>\n",
       "    .dataframe tbody tr th:only-of-type {\n",
       "        vertical-align: middle;\n",
       "    }\n",
       "\n",
       "    .dataframe tbody tr th {\n",
       "        vertical-align: top;\n",
       "    }\n",
       "\n",
       "    .dataframe thead th {\n",
       "        text-align: right;\n",
       "    }\n",
       "</style>\n",
       "<table border=\"1\" class=\"dataframe\">\n",
       "  <thead>\n",
       "    <tr style=\"text-align: right;\">\n",
       "      <th></th>\n",
       "      <th>vcrs_header</th>\n",
       "      <th>gene</th>\n",
       "      <th>other_info</th>\n",
       "      <th>vcrs_header_list</th>\n",
       "    </tr>\n",
       "  </thead>\n",
       "  <tbody>\n",
       "    <tr>\n",
       "      <th>0</th>\n",
       "      <td>VAR1;VAR2</td>\n",
       "      <td>GeneA</td>\n",
       "      <td>42</td>\n",
       "      <td>[VAR1, VAR2]</td>\n",
       "    </tr>\n",
       "    <tr>\n",
       "      <th>1</th>\n",
       "      <td>VAR3</td>\n",
       "      <td>GeneB</td>\n",
       "      <td>99</td>\n",
       "      <td>[VAR3]</td>\n",
       "    </tr>\n",
       "  </tbody>\n",
       "</table>\n",
       "</div>"
      ],
      "text/plain": [
       "  vcrs_header   gene  other_info vcrs_header_list\n",
       "0   VAR1;VAR2  GeneA          42     [VAR1, VAR2]\n",
       "1        VAR3  GeneB          99           [VAR3]"
      ]
     },
     "execution_count": 204,
     "metadata": {},
     "output_type": "execute_result"
    }
   ],
   "source": [
    "grouped = (\n",
    "    exploded.groupby(\"vcrs_header\", as_index=False)\n",
    "    .agg({**{col: \"first\" for col in exploded.columns if col not in [\"vcrs_header\"]}})\n",
    "    .reset_index(drop=True)\n",
    ")\n",
    "grouped['vcrs_header_list'] = grouped['vcrs_header'].str.split(';')\n",
    "grouped.drop(columns=[\"vcrs_header_individual\"], inplace=True)\n",
    "grouped"
   ]
  },
  {
   "cell_type": "code",
   "execution_count": null,
   "metadata": {},
   "outputs": [
    {
     "data": {
      "application/vnd.microsoft.datawrangler.viewer.v0+json": {
       "columns": [
        {
         "name": "index",
         "rawType": "int64",
         "type": "integer"
        },
        {
         "name": "cell_id",
         "rawType": "object",
         "type": "string"
        },
        {
         "name": "vcrs_names",
         "rawType": "object",
         "type": "string"
        },
        {
         "name": "umi",
         "rawType": "int64",
         "type": "integer"
        }
       ],
       "conversionMethod": "pd.DataFrame",
       "ref": "f539eb2e-51a4-4110-ae56-d3c072ce40a6",
       "rows": [
        [
         "0",
         "A",
         "['v1', 'v2']",
         "10"
        ],
        [
         "1",
         "B",
         "['v2', 'v3']",
         "20"
        ]
       ],
       "shape": {
        "columns": 3,
        "rows": 2
       }
      },
      "text/html": [
       "<div>\n",
       "<style scoped>\n",
       "    .dataframe tbody tr th:only-of-type {\n",
       "        vertical-align: middle;\n",
       "    }\n",
       "\n",
       "    .dataframe tbody tr th {\n",
       "        vertical-align: top;\n",
       "    }\n",
       "\n",
       "    .dataframe thead th {\n",
       "        text-align: right;\n",
       "    }\n",
       "</style>\n",
       "<table border=\"1\" class=\"dataframe\">\n",
       "  <thead>\n",
       "    <tr style=\"text-align: right;\">\n",
       "      <th></th>\n",
       "      <th>cell_id</th>\n",
       "      <th>vcrs_names</th>\n",
       "      <th>umi</th>\n",
       "    </tr>\n",
       "  </thead>\n",
       "  <tbody>\n",
       "    <tr>\n",
       "      <th>0</th>\n",
       "      <td>A</td>\n",
       "      <td>[v1, v2]</td>\n",
       "      <td>10</td>\n",
       "    </tr>\n",
       "    <tr>\n",
       "      <th>1</th>\n",
       "      <td>B</td>\n",
       "      <td>[v2, v3]</td>\n",
       "      <td>20</td>\n",
       "    </tr>\n",
       "  </tbody>\n",
       "</table>\n",
       "</div>"
      ],
      "text/plain": [
       "  cell_id vcrs_names  umi\n",
       "0       A   [v1, v2]   10\n",
       "1       B   [v2, v3]   20"
      ]
     },
     "execution_count": 207,
     "metadata": {},
     "output_type": "execute_result"
    }
   ],
   "source": [
    "import pandas as pd\n",
    "\n",
    "bus_df_mutation = pd.DataFrame({\n",
    "    'cell_id': ['A', 'B'],\n",
    "    'vcrs_names': [['v1', 'v2'], ['v2', 'v3']],\n",
    "    'umi': [10, 20]\n",
    "})"
   ]
  },
  {
   "cell_type": "code",
   "execution_count": 208,
   "metadata": {},
   "outputs": [
    {
     "data": {
      "application/vnd.microsoft.datawrangler.viewer.v0+json": {
       "columns": [
        {
         "name": "index",
         "rawType": "int64",
         "type": "integer"
        },
        {
         "name": "vcrs_names",
         "rawType": "object",
         "type": "string"
        },
        {
         "name": "cell_id",
         "rawType": "object",
         "type": "string"
        },
        {
         "name": "umi",
         "rawType": "object",
         "type": "string"
        }
       ],
       "conversionMethod": "pd.DataFrame",
       "ref": "eed07777-abbf-4010-9c49-a9a6abf96254",
       "rows": [
        [
         "0",
         "v1",
         "['A']",
         "[10]"
        ],
        [
         "1",
         "v2",
         "['A', 'B']",
         "[10, 20]"
        ],
        [
         "2",
         "v3",
         "['B']",
         "[20]"
        ]
       ],
       "shape": {
        "columns": 3,
        "rows": 3
       }
      },
      "text/html": [
       "<div>\n",
       "<style scoped>\n",
       "    .dataframe tbody tr th:only-of-type {\n",
       "        vertical-align: middle;\n",
       "    }\n",
       "\n",
       "    .dataframe tbody tr th {\n",
       "        vertical-align: top;\n",
       "    }\n",
       "\n",
       "    .dataframe thead th {\n",
       "        text-align: right;\n",
       "    }\n",
       "</style>\n",
       "<table border=\"1\" class=\"dataframe\">\n",
       "  <thead>\n",
       "    <tr style=\"text-align: right;\">\n",
       "      <th></th>\n",
       "      <th>vcrs_names</th>\n",
       "      <th>cell_id</th>\n",
       "      <th>umi</th>\n",
       "    </tr>\n",
       "  </thead>\n",
       "  <tbody>\n",
       "    <tr>\n",
       "      <th>0</th>\n",
       "      <td>v1</td>\n",
       "      <td>[A]</td>\n",
       "      <td>[10]</td>\n",
       "    </tr>\n",
       "    <tr>\n",
       "      <th>1</th>\n",
       "      <td>v2</td>\n",
       "      <td>[A, B]</td>\n",
       "      <td>[10, 20]</td>\n",
       "    </tr>\n",
       "    <tr>\n",
       "      <th>2</th>\n",
       "      <td>v3</td>\n",
       "      <td>[B]</td>\n",
       "      <td>[20]</td>\n",
       "    </tr>\n",
       "  </tbody>\n",
       "</table>\n",
       "</div>"
      ],
      "text/plain": [
       "  vcrs_names cell_id       umi\n",
       "0         v1     [A]      [10]\n",
       "1         v2  [A, B]  [10, 20]\n",
       "2         v3     [B]      [20]"
      ]
     },
     "execution_count": 208,
     "metadata": {},
     "output_type": "execute_result"
    }
   ],
   "source": [
    "# Step 1: Explode vcrs_names\n",
    "exploded = bus_df_mutation.explode('vcrs_names', ignore_index=True)\n",
    "\n",
    "# Step 2: Capture order of first appearance\n",
    "exploded['__order__'] = exploded.groupby('vcrs_names', sort=False).ngroup()\n",
    "\n",
    "# Step 3: Group by vcrs_names, collect other columns into lists\n",
    "grouped = (exploded\n",
    "           .groupby('vcrs_names', sort=False)\n",
    "           .agg(lambda x: list(x))\n",
    "           .reset_index())\n",
    "\n",
    "# Step 4: Sort back to original order\n",
    "grouped = grouped.sort_values('__order__').drop(columns='__order__')\n",
    "grouped"
   ]
  },
  {
   "cell_type": "code",
   "execution_count": 210,
   "metadata": {},
   "outputs": [
    {
     "data": {
      "application/vnd.microsoft.datawrangler.viewer.v0+json": {
       "columns": [
        {
         "name": "index",
         "rawType": "int64",
         "type": "integer"
        },
        {
         "name": "cell_id",
         "rawType": "object",
         "type": "string"
        },
        {
         "name": "vcrs_names",
         "rawType": "object",
         "type": "string"
        },
        {
         "name": "umi",
         "rawType": "int64",
         "type": "integer"
        },
        {
         "name": "__order__",
         "rawType": "int64",
         "type": "integer"
        }
       ],
       "conversionMethod": "pd.DataFrame",
       "ref": "a7c45f4c-5c30-493d-9206-152d134af681",
       "rows": [
        [
         "0",
         "A",
         "v1",
         "10",
         "0"
        ],
        [
         "1",
         "A",
         "v2",
         "10",
         "1"
        ],
        [
         "2",
         "B",
         "v2",
         "20",
         "1"
        ],
        [
         "3",
         "B",
         "v3",
         "20",
         "2"
        ]
       ],
       "shape": {
        "columns": 4,
        "rows": 4
       }
      },
      "text/html": [
       "<div>\n",
       "<style scoped>\n",
       "    .dataframe tbody tr th:only-of-type {\n",
       "        vertical-align: middle;\n",
       "    }\n",
       "\n",
       "    .dataframe tbody tr th {\n",
       "        vertical-align: top;\n",
       "    }\n",
       "\n",
       "    .dataframe thead th {\n",
       "        text-align: right;\n",
       "    }\n",
       "</style>\n",
       "<table border=\"1\" class=\"dataframe\">\n",
       "  <thead>\n",
       "    <tr style=\"text-align: right;\">\n",
       "      <th></th>\n",
       "      <th>cell_id</th>\n",
       "      <th>vcrs_names</th>\n",
       "      <th>umi</th>\n",
       "      <th>__order__</th>\n",
       "    </tr>\n",
       "  </thead>\n",
       "  <tbody>\n",
       "    <tr>\n",
       "      <th>0</th>\n",
       "      <td>A</td>\n",
       "      <td>v1</td>\n",
       "      <td>10</td>\n",
       "      <td>0</td>\n",
       "    </tr>\n",
       "    <tr>\n",
       "      <th>1</th>\n",
       "      <td>A</td>\n",
       "      <td>v2</td>\n",
       "      <td>10</td>\n",
       "      <td>1</td>\n",
       "    </tr>\n",
       "    <tr>\n",
       "      <th>2</th>\n",
       "      <td>B</td>\n",
       "      <td>v2</td>\n",
       "      <td>20</td>\n",
       "      <td>1</td>\n",
       "    </tr>\n",
       "    <tr>\n",
       "      <th>3</th>\n",
       "      <td>B</td>\n",
       "      <td>v3</td>\n",
       "      <td>20</td>\n",
       "      <td>2</td>\n",
       "    </tr>\n",
       "  </tbody>\n",
       "</table>\n",
       "</div>"
      ],
      "text/plain": [
       "  cell_id vcrs_names  umi  __order__\n",
       "0       A         v1   10          0\n",
       "1       A         v2   10          1\n",
       "2       B         v2   20          1\n",
       "3       B         v3   20          2"
      ]
     },
     "execution_count": 210,
     "metadata": {},
     "output_type": "execute_result"
    }
   ],
   "source": [
    "exploded"
   ]
  },
  {
   "cell_type": "code",
   "execution_count": 221,
   "metadata": {},
   "outputs": [
    {
     "data": {
      "text/plain": [
       "Int64Index([0, 1, 2, 3, 4, 5], dtype='int64')"
      ]
     },
     "execution_count": 221,
     "metadata": {},
     "output_type": "execute_result"
    }
   ],
   "source": [
    "merged.index"
   ]
  },
  {
   "cell_type": "code",
   "execution_count": 222,
   "metadata": {},
   "outputs": [
    {
     "data": {
      "application/vnd.microsoft.datawrangler.viewer.v0+json": {
       "columns": [
        {
         "name": "index",
         "rawType": "int64",
         "type": "integer"
        },
        {
         "name": "barcode",
         "rawType": "object",
         "type": "string"
        },
        {
         "name": "vcrs_names",
         "rawType": "object",
         "type": "string"
        },
        {
         "name": "gene_id",
         "rawType": "object",
         "type": "string"
        }
       ],
       "conversionMethod": "pd.DataFrame",
       "ref": "afcb709a-dfa8-4945-ac36-28362d43e99e",
       "rows": [
        [
         "0",
         "AAA",
         "['v1', 'v2', 'v4', 'v5', 'v6']",
         "['gene1', 'gene2', 'gene4', 'gene5', 'gene6']"
        ],
        [
         "1",
         "AAC",
         "['v3']",
         "['gene2']"
        ]
       ],
       "shape": {
        "columns": 3,
        "rows": 2
       }
      },
      "text/html": [
       "<div>\n",
       "<style scoped>\n",
       "    .dataframe tbody tr th:only-of-type {\n",
       "        vertical-align: middle;\n",
       "    }\n",
       "\n",
       "    .dataframe tbody tr th {\n",
       "        vertical-align: top;\n",
       "    }\n",
       "\n",
       "    .dataframe thead th {\n",
       "        text-align: right;\n",
       "    }\n",
       "</style>\n",
       "<table border=\"1\" class=\"dataframe\">\n",
       "  <thead>\n",
       "    <tr style=\"text-align: right;\">\n",
       "      <th></th>\n",
       "      <th>barcode</th>\n",
       "      <th>vcrs_names</th>\n",
       "      <th>gene_id</th>\n",
       "    </tr>\n",
       "  </thead>\n",
       "  <tbody>\n",
       "    <tr>\n",
       "      <th>0</th>\n",
       "      <td>AAA</td>\n",
       "      <td>[v1, v2, v4, v5, v6]</td>\n",
       "      <td>[gene1, gene2, gene4, gene5, gene6]</td>\n",
       "    </tr>\n",
       "    <tr>\n",
       "      <th>1</th>\n",
       "      <td>AAC</td>\n",
       "      <td>[v3]</td>\n",
       "      <td>[gene2]</td>\n",
       "    </tr>\n",
       "  </tbody>\n",
       "</table>\n",
       "</div>"
      ],
      "text/plain": [
       "  barcode            vcrs_names                              gene_id\n",
       "0     AAA  [v1, v2, v4, v5, v6]  [gene1, gene2, gene4, gene5, gene6]\n",
       "1     AAC                  [v3]                              [gene2]"
      ]
     },
     "execution_count": 222,
     "metadata": {},
     "output_type": "execute_result"
    }
   ],
   "source": [
    "import pandas as pd\n",
    "bus_df_mutation = pd.DataFrame({\n",
    "    'barcode': ['AAA', 'AAC'],\n",
    "    'vcrs_names': [['v1', 'v2', 'v4', 'v5', 'v6'], ['v3']],\n",
    "})\n",
    "\n",
    "adata_var = pd.DataFrame({\n",
    "    'vcrs_id': ['v1', 'v2', 'v3', 'v4', 'v5', 'v6'],\n",
    "    'gene_id': ['gene1', 'gene2', 'gene2', 'gene4', 'gene5', 'gene6'],\n",
    "})\n",
    "\n",
    "# Step 1: Explode the vcrs_names column in bus_df_mutation\n",
    "exploded = bus_df_mutation.explode('vcrs_names', ignore_index=True)\n",
    "\n",
    "# Step 2: Merge with adata_var on vcrs_names == vcrs_id\n",
    "merged = exploded.merge(\n",
    "    adata_var[['vcrs_id', 'gene_id']],\n",
    "    left_on='vcrs_names',\n",
    "    right_on='vcrs_id',\n",
    "    how='left'\n",
    ")\n",
    "\n",
    "# Step 3: Group back by original rows using original row index\n",
    "merged['original_index'] = merged.index.map(\n",
    "    lambda i: 0 if i < len(bus_df_mutation.loc[0, 'vcrs_names']) else 1\n",
    ")\n",
    "\n",
    "# Step 4: Aggregate back to list\n",
    "bus_df_mutation = (merged\n",
    "          .groupby('original_index')\n",
    "          .agg({\n",
    "              'barcode': 'first',\n",
    "              'vcrs_names': lambda x: list(x),\n",
    "              'gene_id': lambda x: list(x)\n",
    "          })\n",
    "          .reset_index(drop=True)\n",
    ")\n",
    "\n",
    "bus_df_mutation"
   ]
  },
  {
   "cell_type": "code",
   "execution_count": 218,
   "metadata": {},
   "outputs": [
    {
     "data": {
      "application/vnd.microsoft.datawrangler.viewer.v0+json": {
       "columns": [
        {
         "name": "index",
         "rawType": "int64",
         "type": "integer"
        },
        {
         "name": "vcrs_names",
         "rawType": "object",
         "type": "string"
        },
        {
         "name": "gene_id",
         "rawType": "object",
         "type": "string"
        }
       ],
       "conversionMethod": "pd.DataFrame",
       "ref": "a7afcde8-1e1b-4c50-974d-372d1ecde177",
       "rows": [
        [
         "0",
         "['v1', 'v2']",
         "['gene1', 'gene2']"
        ],
        [
         "1",
         "['v4', 'v5']",
         "['gene4', 'gene5']"
        ],
        [
         "2",
         "['v6', 'v3']",
         "['gene6', 'gene2']"
        ]
       ],
       "shape": {
        "columns": 2,
        "rows": 3
       }
      },
      "text/html": [
       "<div>\n",
       "<style scoped>\n",
       "    .dataframe tbody tr th:only-of-type {\n",
       "        vertical-align: middle;\n",
       "    }\n",
       "\n",
       "    .dataframe tbody tr th {\n",
       "        vertical-align: top;\n",
       "    }\n",
       "\n",
       "    .dataframe thead th {\n",
       "        text-align: right;\n",
       "    }\n",
       "</style>\n",
       "<table border=\"1\" class=\"dataframe\">\n",
       "  <thead>\n",
       "    <tr style=\"text-align: right;\">\n",
       "      <th></th>\n",
       "      <th>vcrs_names</th>\n",
       "      <th>gene_id</th>\n",
       "    </tr>\n",
       "  </thead>\n",
       "  <tbody>\n",
       "    <tr>\n",
       "      <th>0</th>\n",
       "      <td>[v1, v2]</td>\n",
       "      <td>[gene1, gene2]</td>\n",
       "    </tr>\n",
       "    <tr>\n",
       "      <th>1</th>\n",
       "      <td>[v4, v5]</td>\n",
       "      <td>[gene4, gene5]</td>\n",
       "    </tr>\n",
       "    <tr>\n",
       "      <th>2</th>\n",
       "      <td>[v6, v3]</td>\n",
       "      <td>[gene6, gene2]</td>\n",
       "    </tr>\n",
       "  </tbody>\n",
       "</table>\n",
       "</div>"
      ],
      "text/plain": [
       "  vcrs_names         gene_id\n",
       "0   [v1, v2]  [gene1, gene2]\n",
       "1   [v4, v5]  [gene4, gene5]\n",
       "2   [v6, v3]  [gene6, gene2]"
      ]
     },
     "execution_count": 218,
     "metadata": {},
     "output_type": "execute_result"
    }
   ],
   "source": [
    "grouped"
   ]
  },
  {
   "cell_type": "code",
   "execution_count": 217,
   "metadata": {},
   "outputs": [
    {
     "data": {
      "application/vnd.microsoft.datawrangler.viewer.v0+json": {
       "columns": [
        {
         "name": "index",
         "rawType": "int64",
         "type": "integer"
        },
        {
         "name": "barcode",
         "rawType": "object",
         "type": "string"
        },
        {
         "name": "vcrs_names",
         "rawType": "object",
         "type": "string"
        },
        {
         "name": "vcrs_id",
         "rawType": "object",
         "type": "string"
        },
        {
         "name": "gene_id",
         "rawType": "object",
         "type": "string"
        }
       ],
       "conversionMethod": "pd.DataFrame",
       "ref": "827947e2-d8e4-4d44-9a93-1b90c37b09ed",
       "rows": [
        [
         "0",
         "AAA",
         "v1",
         "v1",
         "gene1"
        ],
        [
         "1",
         "AAA",
         "v2",
         "v2",
         "gene2"
        ],
        [
         "2",
         "AAA",
         "v4",
         "v4",
         "gene4"
        ],
        [
         "3",
         "AAA",
         "v5",
         "v5",
         "gene5"
        ],
        [
         "4",
         "AAA",
         "v6",
         "v6",
         "gene6"
        ],
        [
         "5",
         "AAC",
         "v3",
         "v3",
         "gene2"
        ]
       ],
       "shape": {
        "columns": 4,
        "rows": 6
       }
      },
      "text/html": [
       "<div>\n",
       "<style scoped>\n",
       "    .dataframe tbody tr th:only-of-type {\n",
       "        vertical-align: middle;\n",
       "    }\n",
       "\n",
       "    .dataframe tbody tr th {\n",
       "        vertical-align: top;\n",
       "    }\n",
       "\n",
       "    .dataframe thead th {\n",
       "        text-align: right;\n",
       "    }\n",
       "</style>\n",
       "<table border=\"1\" class=\"dataframe\">\n",
       "  <thead>\n",
       "    <tr style=\"text-align: right;\">\n",
       "      <th></th>\n",
       "      <th>barcode</th>\n",
       "      <th>vcrs_names</th>\n",
       "      <th>vcrs_id</th>\n",
       "      <th>gene_id</th>\n",
       "    </tr>\n",
       "  </thead>\n",
       "  <tbody>\n",
       "    <tr>\n",
       "      <th>0</th>\n",
       "      <td>AAA</td>\n",
       "      <td>v1</td>\n",
       "      <td>v1</td>\n",
       "      <td>gene1</td>\n",
       "    </tr>\n",
       "    <tr>\n",
       "      <th>1</th>\n",
       "      <td>AAA</td>\n",
       "      <td>v2</td>\n",
       "      <td>v2</td>\n",
       "      <td>gene2</td>\n",
       "    </tr>\n",
       "    <tr>\n",
       "      <th>2</th>\n",
       "      <td>AAA</td>\n",
       "      <td>v4</td>\n",
       "      <td>v4</td>\n",
       "      <td>gene4</td>\n",
       "    </tr>\n",
       "    <tr>\n",
       "      <th>3</th>\n",
       "      <td>AAA</td>\n",
       "      <td>v5</td>\n",
       "      <td>v5</td>\n",
       "      <td>gene5</td>\n",
       "    </tr>\n",
       "    <tr>\n",
       "      <th>4</th>\n",
       "      <td>AAA</td>\n",
       "      <td>v6</td>\n",
       "      <td>v6</td>\n",
       "      <td>gene6</td>\n",
       "    </tr>\n",
       "    <tr>\n",
       "      <th>5</th>\n",
       "      <td>AAC</td>\n",
       "      <td>v3</td>\n",
       "      <td>v3</td>\n",
       "      <td>gene2</td>\n",
       "    </tr>\n",
       "  </tbody>\n",
       "</table>\n",
       "</div>"
      ],
      "text/plain": [
       "  barcode vcrs_names vcrs_id gene_id\n",
       "0     AAA         v1      v1   gene1\n",
       "1     AAA         v2      v2   gene2\n",
       "2     AAA         v4      v4   gene4\n",
       "3     AAA         v5      v5   gene5\n",
       "4     AAA         v6      v6   gene6\n",
       "5     AAC         v3      v3   gene2"
      ]
     },
     "execution_count": 217,
     "metadata": {},
     "output_type": "execute_result"
    }
   ],
   "source": [
    "merged"
   ]
  }
 ],
 "metadata": {
  "kernelspec": {
   "display_name": "varseek",
   "language": "python",
   "name": "python3"
  },
  "language_info": {
   "codemirror_mode": {
    "name": "ipython",
    "version": 3
   },
   "file_extension": ".py",
   "mimetype": "text/x-python",
   "name": "python",
   "nbconvert_exporter": "python",
   "pygments_lexer": "ipython3",
   "version": "3.10.16"
  }
 },
 "nbformat": 4,
 "nbformat_minor": 2
}
