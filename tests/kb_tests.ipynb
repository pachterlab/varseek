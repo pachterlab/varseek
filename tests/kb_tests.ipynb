{
 "cells": [
  {
   "cell_type": "code",
   "execution_count": null,
   "metadata": {},
   "outputs": [],
   "source": [
    "import os\n",
    "import subprocess\n",
    "import shutil\n",
    "import sys\n",
    "import numpy as np\n",
    "import anndata as ad\n",
    "import pandas as pd\n",
    "from varseek.utils import create_identity_t2g\n",
    "\n",
    "varseek_directory = os.path.dirname(os.path.abspath(\"\"))\n",
    "\n",
    "conda_env_path = os.path.dirname(os.path.dirname(shutil.which(\"kb\")))  # to get kb path\n",
    "operating_system = \"linux\" if sys.platform.startswith(\"linux\") else \"darwin/m1\"\n",
    "\n",
    "kallisto = f\"{conda_env_path}/lib/python3.10/site-packages/kb_python/bins/{operating_system}/kallisto/kallisto\"  # or kallisto_k64\n",
    "bustools = f\"{conda_env_path}/lib/python3.10/site-packages/kb_python/bins/{operating_system}/bustools/bustools\""
   ]
  },
  {
   "cell_type": "code",
   "execution_count": null,
   "metadata": {},
   "outputs": [],
   "source": [
    "ref_fa = f\"{varseek_directory}/tests/kb_files/ref_test.fa\"\n",
    "read1_fq = f\"{varseek_directory}/tests/kb_files/reads1_test.fq\"\n",
    "read2_fq = f\"{varseek_directory}/tests/kb_files/reads2_test.fq\"\n",
    "test_index = f\"{varseek_directory}/tests/kb_files/index_test.idx\"\n",
    "test_t2g = f\"{varseek_directory}/tests/kb_files/t2g_test.txt\"\n",
    "kb_count_out_test = f\"{varseek_directory}/tests/kb_files/test_kb_count_out_March2025_with_num\"\n",
    "kb_count_out_test2 = f\"{varseek_directory}/tests/kb_files/test_kb_count_out_March2025_without_num\"\n",
    "\n",
    "rnaseq_fastq_files_final = [read1_fq, read2_fq]\n",
    "os.makedirs(kb_count_out_test, exist_ok=True)\n",
    "\n",
    "if not os.path.exists(test_index):\n",
    "    kb_ref_command = [\"kb\", \"ref\", \"--workflow\", \"custom\", \"-t\", str(8), \"-i\", test_index, \"--d-list\", \"None\", ref_fa]\n",
    "    subprocess.run(kb_ref_command, check=True)\n",
    "\n",
    "if not os.path.exists(test_t2g):\n",
    "    create_identity_t2g(ref_fa, test_t2g)\n",
    "\n",
    "if not os.path.exists(kb_count_out_test) or len(os.listdir(kb_count_out_test)) == 0:\n",
    "    kb_count_command = [\"kb\", \"count\", \"-t\", str(2), \"-i\", test_index, \"-g\", test_t2g, \"-x\", \"bulk\", \"--num\", \"--h5ad\", \"--parity\", \"single\", \"-o\", kb_count_out_test, \"--kallisto\", kallisto, \"--bustools\", bustools] + rnaseq_fastq_files_final\n",
    "    subprocess.run(kb_count_command, check=True)\n",
    "\n",
    "if not os.path.exists(kb_count_out_test2) or len(os.listdir(kb_count_out_test2)) == 0:\n",
    "    kb_count_command = [\"kb\", \"count\", \"-t\", str(2), \"-i\", test_index, \"-g\", test_t2g, \"-x\", \"bulk\", \"--h5ad\", \"--parity\", \"single\", \"-o\", kb_count_out_test2, \"--kallisto\", kallisto, \"--bustools\", bustools] + rnaseq_fastq_files_final\n",
    "    subprocess.run(kb_count_command, check=True)\n",
    "\n",
    "# kb_count_out_test = f\"{varseek_directory}/tests/kb_files/test_kb_count_out_paired\"\n",
    "# if not os.path.exists(kb_count_out_test) or len(os.listdir(kb_count_out_test)) == 0:\n",
    "#     kb_count_command = [\"kb\", \"count\", \"-t\", str(8), \"-i\", test_index, \"-g\", test_t2g, \"-x\", \"bulk\", \"--num\", \"--h5ad\", \"--parity\", \"paired\", \"-o\", kb_count_out_test] + rnaseq_fastq_files_final\n",
    "#     subprocess.run(kb_count_command, check=True)"
   ]
  },
  {
   "cell_type": "code",
   "execution_count": null,
   "metadata": {},
   "outputs": [],
   "source": [
    "bus_text_file = os.path.join(kb_count_out_test, \"bus_text.txt\")\n",
    "bus_file = os.path.join(kb_count_out_test, \"output.bus\")\n",
    "bustools_text_command = f\"{bustools} text -o {bus_text_file} -f {bus_file}\"\n",
    "subprocess.run(bustools_text_command, check=True, shell=True)\n",
    "\n",
    "bus_text_file = os.path.join(kb_count_out_test2, \"bus_text.txt\")\n",
    "bus_file = os.path.join(kb_count_out_test2, \"output.bus\")\n",
    "bustools_text_command = f\"{bustools} text -o {bus_text_file} -f {bus_file}\"\n",
    "subprocess.run(bustools_text_command, check=True, shell=True)"
   ]
  },
  {
   "cell_type": "code",
   "execution_count": null,
   "metadata": {},
   "outputs": [],
   "source": [
    "import importlib\n",
    "import varseek.utils.seq_utils\n",
    "importlib.reload(varseek.utils.varseek_clean_utils)\n",
    "from varseek.utils.varseek_clean_utils import make_bus_df\n",
    "bus_df = make_bus_df(kallisto_out = kb_count_out_test, fastq_file_list = rnaseq_fastq_files_final, t2g_file = test_t2g, mm = False, technology = \"bulk\", bustools = bustools)"
   ]
  },
  {
   "cell_type": "code",
   "execution_count": null,
   "metadata": {},
   "outputs": [
    {
     "name": "stdout",
     "output_type": "stream",
     "text": [
      "loading in transcripts\n",
      "loading in barcodes\n",
      "loading in fastq headers\n",
      "loading in fastq headers\n",
      "loading in fastq headers\n",
      "loading in fastq headers\n",
      "loading in ec matrix\n",
      "loading in t2g df\n",
      "running bustools text\n",
      "loading in bus df\n",
      "merging ec df into bus df\n",
      "Apply the mapping function to create gene name columns\n",
      "added counted in matrix column\n",
      "saving bus df\n"
     ]
    },
    {
     "name": "stderr",
     "output_type": "stream",
     "text": [
      "Read in 12 BUS records\n"
     ]
    }
   ],
   "source": [
    "read1_sample2_fq = f\"{varseek_directory}/tests/kb_files/reads1_sample2_test.fq\"\n",
    "read2_sample2_fq = f\"{varseek_directory}/tests/kb_files/reads2_sample2_test.fq\"\n",
    "rnaseq_fastq_files_final = [read1_fq, read2_fq, read1_sample2_fq, read2_sample2_fq]\n",
    "\n",
    "kb_count_out_test_4_total_fastqs = f\"{varseek_directory}/tests/kb_files/test_kb_count_out_March2025_with_num_4_total_fastqs\"\n",
    "\n",
    "if not os.path.exists(kb_count_out_test_4_total_fastqs) or len(os.listdir(kb_count_out_test_4_total_fastqs)) == 0:\n",
    "    kb_count_command = [\"kb\", \"count\", \"-t\", str(2), \"-i\", test_index, \"-g\", test_t2g, \"-x\", \"bulk\", \"--num\", \"--h5ad\", \"--parity\", \"single\", \"-o\", kb_count_out_test_4_total_fastqs, \"--kallisto\", kallisto, \"--bustools\", bustools] + rnaseq_fastq_files_final\n",
    "    subprocess.run(kb_count_command, check=True)\n",
    "\n",
    "bus_text_file = os.path.join(kb_count_out_test_4_total_fastqs, \"bus_text.txt\")\n",
    "bus_file = os.path.join(kb_count_out_test_4_total_fastqs, \"output.bus\")\n",
    "bustools_text_command = f\"{bustools} text -o {bus_text_file} -f {bus_file}\"\n",
    "subprocess.run(bustools_text_command, check=True, shell=True)\n",
    "\n",
    "import importlib\n",
    "import varseek.utils.seq_utils\n",
    "importlib.reload(varseek.utils.varseek_clean_utils)\n",
    "from varseek.utils.varseek_clean_utils import make_bus_df\n",
    "bus_df = make_bus_df(kallisto_out = kb_count_out_test_4_total_fastqs, fastq_file_list = rnaseq_fastq_files_final, t2g_file = test_t2g, mm = False, technology = \"bulk\", bustools = bustools)"
   ]
  },
  {
   "cell_type": "code",
   "execution_count": 3,
   "metadata": {},
   "outputs": [],
   "source": [
    "read1_sample2_fq = f\"{varseek_directory}/tests/kb_files/reads1_sample2_test.fq\"\n",
    "read2_sample2_fq = f\"{varseek_directory}/tests/kb_files/reads2_sample2_test.fq\"\n",
    "rnaseq_fastq_files_final = [read1_fq, read2_fq, read1_sample2_fq, read2_sample2_fq]\n",
    "\n",
    "kb_count_out_test_4_total_fastqs_paired = f\"{varseek_directory}/tests/kb_files/test_kb_count_out_March2025_with_num_4_total_fastqs_paired2\"\n",
    "\n",
    "# if not os.path.exists(kb_count_out_test_4_total_fastqs_paired) or len(os.listdir(kb_count_out_test_4_total_fastqs_paired)) == 0:\n",
    "#     kb_count_command = [\"kb\", \"count\", \"-t\", str(2), \"-i\", test_index, \"-g\", test_t2g, \"-x\", \"bulk\", \"--num\", \"--h5ad\", \"--parity\", \"paired\", \"-o\", kb_count_out_test_4_total_fastqs_paired, \"--kallisto\", kallisto, \"--bustools\", bustools] + rnaseq_fastq_files_final\n",
    "#     subprocess.run(kb_count_command, check=True)\n",
    "\n",
    "# bus_text_file = os.path.join(kb_count_out_test_4_total_fastqs_paired, \"bus_text.txt\")\n",
    "# bus_file = os.path.join(kb_count_out_test_4_total_fastqs_paired, \"output.bus\")\n",
    "# bustools_text_command = f\"{bustools} text -o {bus_text_file} -f {bus_file}\"\n",
    "# subprocess.run(bustools_text_command, check=True, shell=True)\n",
    "\n",
    "# import importlib\n",
    "# import varseek.utils.seq_utils\n",
    "# importlib.reload(varseek.utils.varseek_clean_utils)\n",
    "# from varseek.utils.varseek_clean_utils import make_bus_df"
   ]
  },
  {
   "cell_type": "code",
   "execution_count": null,
   "metadata": {},
   "outputs": [
    {
     "name": "stdout",
     "output_type": "stream",
     "text": [
      "File /Users/joeyrich/Desktop/local/varseek/tests/kb_files/reads1_test.fq does not match the expected bulk file naming convention of SAMPLE_PAIR.EXT where SAMPLE is sample name, PAIR is 1/2, and EXT is a fastq extension - or the Illumina file naming convention of SAMPLE_LANE_R[12]_001.fastq.gz, where SAMPLE is letters, numbers, underscores; LANE is numbers with optional leading 0s; pair is either R1 or R2; and it has .fq or .fastq extension (or .fq.gz or .fastq.gz).\n",
      "File /Users/joeyrich/Desktop/local/varseek/tests/kb_files/reads2_test.fq does not match the expected bulk file naming convention of SAMPLE_PAIR.EXT where SAMPLE is sample name, PAIR is 1/2, and EXT is a fastq extension - or the Illumina file naming convention of SAMPLE_LANE_R[12]_001.fastq.gz, where SAMPLE is letters, numbers, underscores; LANE is numbers with optional leading 0s; pair is either R1 or R2; and it has .fq or .fastq extension (or .fq.gz or .fastq.gz).\n",
      "File /Users/joeyrich/Desktop/local/varseek/tests/kb_files/reads1_sample2_test.fq does not match the expected bulk file naming convention of SAMPLE_PAIR.EXT where SAMPLE is sample name, PAIR is 1/2, and EXT is a fastq extension - or the Illumina file naming convention of SAMPLE_LANE_R[12]_001.fastq.gz, where SAMPLE is letters, numbers, underscores; LANE is numbers with optional leading 0s; pair is either R1 or R2; and it has .fq or .fastq extension (or .fq.gz or .fastq.gz).\n",
      "File /Users/joeyrich/Desktop/local/varseek/tests/kb_files/reads2_sample2_test.fq does not match the expected bulk file naming convention of SAMPLE_PAIR.EXT where SAMPLE is sample name, PAIR is 1/2, and EXT is a fastq extension - or the Illumina file naming convention of SAMPLE_LANE_R[12]_001.fastq.gz, where SAMPLE is letters, numbers, underscores; LANE is numbers with optional leading 0s; pair is either R1 or R2; and it has .fq or .fastq extension (or .fq.gz or .fastq.gz).\n",
      "Removing index files from fastq files list, as they are not utilized in kb count with technology bulk\n",
      "Error sorting fastq files: Invalid SRA-style FASTQ filename: /Users/joeyrich/Desktop/local/varseek/tests/kb_files/reads1_test.fq\n",
      "loading in transcripts\n",
      "loading in barcodes\n"
     ]
    },
    {
     "name": "stderr",
     "output_type": "stream",
     "text": [
      "Processing FASTQ headers: 3it [00:00, 2437.60it/s]\n",
      "Processing FASTQ headers: 3it [00:00, 24151.46it/s]\n",
      "Processing FASTQ headers: 3it [00:00, 7672.51it/s]\n",
      "Processing FASTQ headers: 3it [00:00, 31223.11it/s]\n"
     ]
    },
    {
     "name": "stdout",
     "output_type": "stream",
     "text": [
      "loading in ec matrix\n",
      "loading in t2g df\n",
      "loading in bus df\n",
      "Merging fastq header df and ec_df into bus df\n",
      "Apply the mapping function to create gene name columns\n"
     ]
    },
    {
     "name": "stderr",
     "output_type": "stream",
     "text": [
      "100%|██████████| 4/4 [00:00<00:00, 7906.32it/s]\n"
     ]
    },
    {
     "name": "stdout",
     "output_type": "stream",
     "text": [
      "Taking set of gene_names\n"
     ]
    },
    {
     "name": "stderr",
     "output_type": "stream",
     "text": [
      "100%|██████████| 4/4 [00:00<00:00, 8062.09it/s]\n"
     ]
    },
    {
     "name": "stdout",
     "output_type": "stream",
     "text": [
      "Determining what counts in count matrix\n"
     ]
    },
    {
     "name": "stderr",
     "output_type": "stream",
     "text": [
      "100%|██████████| 4/4 [00:00<00:00, 4450.19it/s]"
     ]
    },
    {
     "name": "stdout",
     "output_type": "stream",
     "text": [
      "Saving bus df as parquet\n"
     ]
    },
    {
     "name": "stderr",
     "output_type": "stream",
     "text": [
      "\n"
     ]
    }
   ],
   "source": [
    "import importlib\n",
    "import varseek.utils.seq_utils\n",
    "importlib.reload(varseek.utils.varseek_clean_utils)\n",
    "from varseek.utils.varseek_clean_utils import make_bus_df\n",
    "df = make_bus_df(kb_count_out=kb_count_out_test_4_total_fastqs_paired, fastq_file_list=rnaseq_fastq_files_final, t2g_file=test_t2g, mm=False, technology=\"bulk\", parity=\"paired\", bustools=bustools, fastq_sorting_check_only=True)"
   ]
  },
  {
   "cell_type": "code",
   "execution_count": 6,
   "metadata": {},
   "outputs": [],
   "source": [
    "import os\n",
    "import subprocess\n",
    "import shutil\n",
    "import sys\n",
    "import numpy as np\n",
    "import pandas as pd\n",
    "from time import sleep\n",
    "import anndata as ad\n",
    "from scipy.io import mmread\n",
    "from varseek.utils import create_identity_t2g\n",
    "\n",
    "varseek_directory = os.path.dirname(os.path.abspath(\"\"))\n",
    "\n",
    "conda_env_path = os.path.dirname(os.path.dirname(shutil.which(\"kb\")))  # to get kb path\n",
    "operating_system = \"linux\" if sys.platform.startswith(\"linux\") else \"darwin/m1\"\n",
    "\n",
    "kallisto = f\"{conda_env_path}/lib/python3.10/site-packages/kb_python/bins/{operating_system}/kallisto/kallisto\"  # or kallisto_k64\n",
    "bustools = f\"{conda_env_path}/lib/python3.10/site-packages/kb_python/bins/{operating_system}/bustools/bustools\""
   ]
  },
  {
   "cell_type": "code",
   "execution_count": null,
   "metadata": {},
   "outputs": [],
   "source": [
    "mm = True\n",
    "union = True\n",
    "\n",
    "ref_fa = f\"{varseek_directory}/tests/kb_files/single_cell_tests/ref_sc_test.fa\"\n",
    "read1_fq = f\"{varseek_directory}/tests/kb_files/single_cell_tests/reads_R1.fq\"\n",
    "read2_fq = f\"{varseek_directory}/tests/kb_files/single_cell_tests/reads_R2.fq\"\n",
    "test_index = f\"{varseek_directory}/tests/kb_files/single_cell_tests/index_test.idx\"\n",
    "test_t2g = f\"{varseek_directory}/tests/kb_files/single_cell_tests/t2g_test.txt\"\n",
    "kb_count_out_test = f\"{varseek_directory}/tests/kb_files/single_cell_tests/test_kb_count_out_hamming1_mm_and_union\"\n",
    "\n",
    "rnaseq_fastq_files_final = [read1_fq, read2_fq]\n",
    "os.makedirs(kb_count_out_test, exist_ok=True)\n",
    "\n",
    "!rm -rf $test_index\n",
    "!rm -rf $test_t2g\n",
    "!rm -rf $kb_count_out_test\n",
    "\n",
    "if not os.path.exists(test_index):\n",
    "    kb_ref_command = [\"kb\", \"ref\", \"--workflow\", \"custom\", \"-t\", str(2), \"-i\", test_index, \"--d-list\", \"None\", ref_fa]\n",
    "    subprocess.run(kb_ref_command, check=True)\n",
    "\n",
    "if not os.path.exists(test_t2g):\n",
    "    create_identity_t2g(ref_fa, test_t2g)\n",
    "\n",
    "if not os.path.exists(kb_count_out_test) or len(os.listdir(kb_count_out_test)) == 0:\n",
    "    kb_count_command = [\"kb\", \"count\", \"-t\", str(2), \"-i\", test_index, \"-g\", test_t2g, \"-x\", \"10XV3\", \"--num\", \"--h5ad\", \"-o\", kb_count_out_test, \"--kallisto\", kallisto, \"--bustools\", bustools]\n",
    "    if mm:\n",
    "        kb_count_command.append(\"--mm\")\n",
    "    if union:\n",
    "        kb_count_command.append(\"--union\")\n",
    "    kb_count_command += rnaseq_fastq_files_final\n",
    "    subprocess.run(kb_count_command, check=True)\n",
    "\n",
    "bus_text_file = os.path.join(kb_count_out_test, \"bus_text.txt\")\n",
    "bus_file = os.path.join(kb_count_out_test, \"output.bus\")\n",
    "bustools_text_command = f\"{bustools} text -o {bus_text_file} -f {bus_file}\"\n",
    "subprocess.run(bustools_text_command, check=True, shell=True)\n",
    "sleep(1)\n",
    "!cat $bus_text_file\n",
    "\n",
    "adata_path = f\"{kb_count_out_test}/counts_unfiltered/adata.h5ad\"\n",
    "adata = ad.read_h5ad(adata_path)\n",
    "print(\"Count matrix: \", adata.X.toarray())\n",
    "print(\"adata.var: \", adata.var.index)\n",
    "print(\"adata.obs: \", adata.obs.index)\n",
    "\n",
    "# mtx_path = f\"{kb_count_out_test}/counts_unfiltered/cells_x_genes.mtx\"\n",
    "# mtx = mmread(mtx_path)\n",
    "# print(mtx.toarray())  # same results as adata.X.toarray() (i.e., no differences with union)\n",
    "\n",
    "import importlib\n",
    "import varseek.utils.varseek_clean_utils\n",
    "importlib.reload(varseek.utils.varseek_clean_utils)\n",
    "from varseek.utils.varseek_clean_utils import make_bus_df\n",
    "# bus_df = make_bus_df(kb_count_out = kb_count_out_test, fastq_file_list = rnaseq_fastq_files_final, t2g_file = test_t2g, mm = False, technology = \"10XV3\", bustools = bustools)\n",
    "# read_to_ref_dict = dict(zip(bus_df['fastq_header'], bus_df['gene_names']))"
   ]
  },
  {
   "cell_type": "code",
   "execution_count": null,
   "metadata": {},
   "outputs": [],
   "source": [
    "read_to_ref_dict_gt = {\n",
    "    'read0_mapsto_vcrs1_R2': ['vcrs1'],  # count_matrix_data[\"AAACCCAAGAAACACT\"][\"vcrs1\"] = 1\n",
    "    'read1_mapsto_vcrs1_same_barcode_and_umi_R2': ['vcrs1'],  # because it has duplicate UMI as read0, it doesn't count for count matrix\n",
    "    'read2_mapsto_vcrs1_different_barcode_R2': ['vcrs1'],  # count_matrix_data[\"TATCAGGAGCTAAGTG\"][\"vcrs1\"] = 1\n",
    "    'read3_mapsto_vcrs2_same_barcode_R2': ['vcrs2'],  # count_matrix_data[\"TATCAGGAGCTAAGTG\"][\"vcrs2\"] = 1\n",
    "    'read4_mapsto_vcrs2_different_umi_R2': ['vcrs2'],  # count_matrix_data[\"TATCAGGAGCTAAGTG\"][\"vcrs2\"] = 2\n",
    "    'read5_mapsto_vcrs1_and_vcrs2_union_R2': [],  # doesn't count for count matrix OR show up in bus file unless --union is used\n",
    "    'read6_mapsto_vcrs3_and_vcrs4_and_vcrs5_multimap_R2': ['vcrs3', 'vcrs4', 'vcrs5'],  # doesn't count for count matrix unless --mm is used (but shows up in bus file regardless)\n",
    "    'read7_mapsto_vcrs3_and_vcrs4_and_vcrs5_multimap_different_umi_R2': ['vcrs3', 'vcrs4', 'vcrs5'],  # doesn't count for count matrix unless --mm is used (but shows up in bus file regardless)\n",
    "    'read8_mapsto_vcrs1_barcode1_but_hamming_distance2_R2': ['vcrs1'],  # count_matrix_data[\"AAACCCAAGAAACACT\"][\"vcrs1\"] = 2\n",
    "    'read9_mapsto_vcrs1_and_vcrs2_barcode1_same_umi_as_read10_R2': [],  # doesn't count for VCRS1 without union (won't show up in BUS file without union); VCRS2 doesn't count regardless because it has the same UMI as read10, but read10 doesn't map to VCRS2 \n",
    "    'read10_mapsto_vcrs1_and_vcrs6_barcode1_same_umi_as_read9_R2': [],  # doesn't count due to same barcode and UMI as read9\n",
    "}\n",
    "if union:\n",
    "    read_to_ref_dict_gt['read5_mapsto_vcrs1_and_vcrs2_union_R2'] = ['vcrs1', 'vcrs2']\n",
    "    read_to_ref_dict_gt['read9_mapsto_vcrs1_and_vcrs2_barcode1_same_umi_as_read10_R2'] = ['vcrs1', 'vcrs2']\n",
    "    read_to_ref_dict_gt['read10_mapsto_vcrs1_and_vcrs6_barcode1_same_umi_as_read9_R2'] = ['vcrs1', 'vcrs6']\n",
    "\n",
    "count_matrix_data = {\n",
    "    \"AAACCCAAGAAACACT\": {\"vcrs1\": 2, \"vcrs2\": 0, \"vcrs3\": 0, \"vcrs4\": 0, \"vcrs5\": 0, \"vcrs6\": 0},\n",
    "    \"TATCAGGAGCTAAGTG\": {\"vcrs1\": 1, \"vcrs2\": 2, \"vcrs3\": 0, \"vcrs4\": 0, \"vcrs5\": 0, \"vcrs6\": 0},\n",
    "}\n",
    "if union and mm:  # notably, won't show up in count matrix unless mm is also used\n",
    "    count_matrix_data[\"AAACCCAAGAAACACT\"][\"vcrs1\"] += (1/1)  # each unioned read adds (1/n), where n is the number of VCRSs to which the read maps - this comes from read9/10\n",
    "    count_matrix_data[\"TATCAGGAGCTAAGTG\"][\"vcrs1\"] += (1/2)  # each unioned read adds (1/n), where n is the number of VCRSs to which the read maps - this comes from read5\n",
    "    count_matrix_data[\"TATCAGGAGCTAAGTG\"][\"vcrs2\"] += (1/2)  # each unioned read adds (1/n), where n is the number of VCRSs to which the read maps - this comes from read5\n",
    "if mm:\n",
    "    count_matrix_data[\"TATCAGGAGCTAAGTG\"][\"vcrs3\"] += (1/3) * 2  # each multimapped read adds (1/n), where n is the number of VCRSs to which the read maps, and reads 6 and 7 are both multimappers hence the *2\n",
    "    count_matrix_data[\"TATCAGGAGCTAAGTG\"][\"vcrs4\"] += (1/3) * 2  # each multimapped read adds (1/n), where n is the number of VCRSs to which the read maps, and reads 6 and 7 are both multimappers hence the *2\n",
    "    count_matrix_data[\"TATCAGGAGCTAAGTG\"][\"vcrs5\"] += (1/3) * 2  # each multimapped read adds (1/n), where n is the number of VCRSs to which the read maps, and reads 6 and 7 are both multimappers hence the *2\n",
    "# count_matrix_data_with_multimap = {\n",
    "#     \"AAACCCAAGAAACACT\": {\"vcrs1\": 3, \"vcrs2\": 0, \"vcrs3\": 0, \"vcrs4\": 0, \"vcrs5\": 0, \"vcrs6\": 0},\n",
    "#     \"TATCAGGAGCTAAGTG\": {\"vcrs1\": 1.5, \"vcrs2\": 2.5, \"vcrs3\": 0.67, \"vcrs4\": 0.67, \"vcrs5\": 0.67, \"vcrs6\": 0},\n",
    "# }\n",
    "\n",
    "df = pd.DataFrame(count_matrix_data)\n",
    "\n",
    "# assert read_to_ref_dict == read_to_ref_dict_gt\n",
    "# assert np.array_equal(adata.X.toarray(), np.array([[1., 1., 0., 0., 0., 0.]]))"
   ]
  }
 ],
 "metadata": {
  "kernelspec": {
   "display_name": "varseek",
   "language": "python",
   "name": "python3"
  },
  "language_info": {
   "codemirror_mode": {
    "name": "ipython",
    "version": 3
   },
   "file_extension": ".py",
   "mimetype": "text/x-python",
   "name": "python",
   "nbconvert_exporter": "python",
   "pygments_lexer": "ipython3",
   "version": "3.10.16"
  }
 },
 "nbformat": 4,
 "nbformat_minor": 2
}
