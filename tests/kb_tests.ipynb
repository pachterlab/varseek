{
 "cells": [
  {
   "cell_type": "code",
   "execution_count": null,
   "metadata": {},
   "outputs": [
    {
     "name": "stderr",
     "output_type": "stream",
     "text": [
      "[2024-12-02 19:02:45,850]    INFO [count] Using index /home/jrich/Desktop/varseek/tests/kb_files/index_test.idx to generate BUS file to /home/jrich/Desktop/varseek/tests/kb_files/test_kb_count_out_paired from\n",
      "[2024-12-02 19:02:45,850]    INFO [count]         /home/jrich/Desktop/varseek/tests/kb_files/reads1_test.fq\n",
      "[2024-12-02 19:02:45,850]    INFO [count]         /home/jrich/Desktop/varseek/tests/kb_files/reads2_test.fq\n",
      "[2024-12-02 19:02:46,954]    INFO [count] Sorting BUS file /home/jrich/Desktop/varseek/tests/kb_files/test_kb_count_out_paired/output.bus to /home/jrich/Desktop/varseek/tests/kb_files/test_kb_count_out_paired/tmp/output.s.bus\n",
      "[2024-12-02 19:02:49,962]    INFO [count] Inspecting BUS file /home/jrich/Desktop/varseek/tests/kb_files/test_kb_count_out_paired/tmp/output.s.bus\n",
      "[2024-12-02 19:02:51,067]    INFO [count] Generating count matrix /home/jrich/Desktop/varseek/tests/kb_files/test_kb_count_out_paired/counts_unfiltered/cells_x_genes from BUS file /home/jrich/Desktop/varseek/tests/kb_files/test_kb_count_out_paired/tmp/output.s.bus\n",
      "[2024-12-02 19:02:52,187]    INFO [count] Writing gene names to file /home/jrich/Desktop/varseek/tests/kb_files/test_kb_count_out_paired/counts_unfiltered/cells_x_genes.genes.names.txt\n",
      "[2024-12-02 19:02:52,187] WARNING [count] 3 gene IDs do not have corresponding valid gene names. These genes will use their gene IDs instead.\n",
      "[2024-12-02 19:02:52,187]    INFO [count] Reading matrix /home/jrich/Desktop/varseek/tests/kb_files/test_kb_count_out_paired/counts_unfiltered/cells_x_genes.mtx\n",
      "[2024-12-02 19:02:52,209]    INFO [count] Writing matrix to h5ad /home/jrich/Desktop/varseek/tests/kb_files/test_kb_count_out_paired/counts_unfiltered/adata.h5ad\n"
     ]
    }
   ],
   "source": [
    "import os\n",
    "import subprocess\n",
    "from varseek.utils import create_mutant_t2g\n",
    "\n",
    "ref_fa = \"/home/jrich/Desktop/varseek/tests/kb_files/ref_test.fa\"\n",
    "read1_fq = \"/home/jrich/Desktop/varseek/tests/kb_files/reads1_test.fq\"\n",
    "read2_fq = \"/home/jrich/Desktop/varseek/tests/kb_files/reads2_test.fq\"\n",
    "test_index = \"/home/jrich/Desktop/varseek/tests/kb_files/index_test.idx\"\n",
    "test_t2g = \"/home/jrich/Desktop/varseek/tests/kb_files/t2g_test.txt\"\n",
    "kb_count_out_test = \"/home/jrich/Desktop/varseek/tests/kb_files/test_kb_count_out\"\n",
    "\n",
    "rnaseq_fastq_files_final = [read1_fq, read2_fq]\n",
    "os.makedirs(kb_count_out_test, exist_ok=True)\n",
    "\n",
    "if not os.path.exists(test_index):\n",
    "    kb_ref_command = [\"kb\", \"ref\", \"--workflow\", \"custom\", \"-t\", str(8), \"-i\", test_index, \"--d-list\", \"None\", ref_fa]\n",
    "    subprocess.run(kb_ref_command, check=True)\n",
    "\n",
    "if not os.path.exists(test_t2g):\n",
    "    create_mutant_t2g(ref_fa, test_t2g)\n",
    "\n",
    "if not os.path.exists(kb_count_out_test) or len(os.listdir(kb_count_out_test)) == 0:\n",
    "    kb_count_command = [\"kb\", \"count\", \"-t\", str(8), \"-i\", test_index, \"-g\", test_t2g, \"-x\", \"bulk\", \"--num\", \"--h5ad\", \"--parity\", \"single\", \"-o\", kb_count_out_test] + rnaseq_fastq_files_final\n",
    "    subprocess.run(kb_count_command, check=True)\n",
    "\n",
    "# kb_count_out_test = \"/home/jrich/Desktop/varseek/tests/kb_files/test_kb_count_out_paired\"\n",
    "# if not os.path.exists(kb_count_out_test) or len(os.listdir(kb_count_out_test)) == 0:\n",
    "#     kb_count_command = [\"kb\", \"count\", \"-t\", str(8), \"-i\", test_index, \"-g\", test_t2g, \"-x\", \"bulk\", \"--num\", \"--h5ad\", \"--parity\", \"paired\", \"-o\", kb_count_out_test] + rnaseq_fastq_files_final\n",
    "#     subprocess.run(kb_count_command, check=True)"
   ]
  },
  {
   "cell_type": "code",
   "execution_count": 11,
   "metadata": {},
   "outputs": [
    {
     "name": "stderr",
     "output_type": "stream",
     "text": [
      "Read in 1 BUS records\n"
     ]
    },
    {
     "data": {
      "text/plain": [
       "CompletedProcess(args='/home/jrich/miniconda3/envs/varseek2/lib/python3.10/site-packages/kb_python/bins/linux/bustools/bustools text -o /home/jrich/Desktop/varseek/tests/kb_files/test_kb_count_out_paired/bus_text.txt -f /home/jrich/Desktop/varseek/tests/kb_files/test_kb_count_out_paired/output.bus', returncode=0)"
      ]
     },
     "execution_count": 11,
     "metadata": {},
     "output_type": "execute_result"
    }
   ],
   "source": [
    "bustools = \"/home/jrich/miniconda3/envs/varseek2/lib/python3.10/site-packages/kb_python/bins/linux/bustools/bustools\"\n",
    "bus_text_file = os.path.join(kb_count_out_test, \"bus_text.txt\")\n",
    "bus_file = os.path.join(kb_count_out_test, \"output.bus\")\n",
    "bustools_text_command = f\"{bustools} text -o {bus_text_file} -f {bus_file}\"\n",
    "subprocess.run(bustools_text_command, check=True, shell=True)"
   ]
  },
  {
   "cell_type": "code",
   "execution_count": null,
   "metadata": {},
   "outputs": [],
   "source": [
    "import importlib\n",
    "import varseek.utils.seq_utils\n",
    "importlib.reload(varseek.utils.seq_utils)\n",
    "from varseek.utils.seq_utils import make_bus_df\n",
    "bus_df = make_bus_df(kallisto_out = kb_count_out_test, fastq_file_list = rnaseq_fastq_files_final, t2g_file = test_t2g, mm = False, union = False, technology = \"bulk\", bustools = bustools)"
   ]
  }
 ],
 "metadata": {
  "kernelspec": {
   "display_name": "varseek2",
   "language": "python",
   "name": "python3"
  },
  "language_info": {
   "codemirror_mode": {
    "name": "ipython",
    "version": 3
   },
   "file_extension": ".py",
   "mimetype": "text/x-python",
   "name": "python",
   "nbconvert_exporter": "python",
   "pygments_lexer": "ipython3",
   "version": "3.10.15"
  }
 },
 "nbformat": 4,
 "nbformat_minor": 2
}
