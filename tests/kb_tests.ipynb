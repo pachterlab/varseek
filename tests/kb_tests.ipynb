{
 "cells": [
  {
   "cell_type": "code",
   "execution_count": null,
   "metadata": {},
   "outputs": [],
   "source": [
    "import os\n",
    "import subprocess\n",
    "import shutil\n",
    "import sys\n",
    "import numpy as np\n",
    "import pandas as pd\n",
    "from varseek.utils import create_identity_t2g\n",
    "\n",
    "varseek_directory = os.path.dirname(os.path.abspath(\"\"))\n",
    "\n",
    "conda_env_path = os.path.dirname(os.path.dirname(shutil.which(\"kb\")))  # to get kb path\n",
    "operating_system = \"linux\" if sys.platform.startswith(\"linux\") else \"darwin/m1\"\n",
    "\n",
    "kallisto = f\"{conda_env_path}/lib/python3.10/site-packages/kb_python/bins/{operating_system}/kallisto/kallisto\"  # or kallisto_k64\n",
    "bustools = f\"{conda_env_path}/lib/python3.10/site-packages/kb_python/bins/{operating_system}/bustools/bustools\""
   ]
  },
  {
   "cell_type": "code",
   "execution_count": null,
   "metadata": {},
   "outputs": [],
   "source": [
    "ref_fa = f\"{varseek_directory}/tests/kb_files/ref_test.fa\"\n",
    "read1_fq = f\"{varseek_directory}/tests/kb_files/reads1_test.fq\"\n",
    "read2_fq = f\"{varseek_directory}/tests/kb_files/reads2_test.fq\"\n",
    "test_index = f\"{varseek_directory}/tests/kb_files/index_test.idx\"\n",
    "test_t2g = f\"{varseek_directory}/tests/kb_files/t2g_test.txt\"\n",
    "kb_count_out_test = f\"{varseek_directory}/tests/kb_files/test_kb_count_out_March2025_with_num\"\n",
    "kb_count_out_test2 = f\"{varseek_directory}/tests/kb_files/test_kb_count_out_March2025_without_num\"\n",
    "\n",
    "rnaseq_fastq_files_final = [read1_fq, read2_fq]\n",
    "os.makedirs(kb_count_out_test, exist_ok=True)\n",
    "\n",
    "if not os.path.exists(test_index):\n",
    "    kb_ref_command = [\"kb\", \"ref\", \"--workflow\", \"custom\", \"-t\", str(8), \"-i\", test_index, \"--d-list\", \"None\", ref_fa]\n",
    "    subprocess.run(kb_ref_command, check=True)\n",
    "\n",
    "if not os.path.exists(test_t2g):\n",
    "    create_identity_t2g(ref_fa, test_t2g)\n",
    "\n",
    "if not os.path.exists(kb_count_out_test) or len(os.listdir(kb_count_out_test)) == 0:\n",
    "    kb_count_command = [\"kb\", \"count\", \"-t\", str(2), \"-i\", test_index, \"-g\", test_t2g, \"-x\", \"bulk\", \"--num\", \"--h5ad\", \"--parity\", \"single\", \"-o\", kb_count_out_test, \"--kallisto\", kallisto, \"--bustools\", bustools] + rnaseq_fastq_files_final\n",
    "    subprocess.run(kb_count_command, check=True)\n",
    "\n",
    "if not os.path.exists(kb_count_out_test2) or len(os.listdir(kb_count_out_test2)) == 0:\n",
    "    kb_count_command = [\"kb\", \"count\", \"-t\", str(2), \"-i\", test_index, \"-g\", test_t2g, \"-x\", \"bulk\", \"--h5ad\", \"--parity\", \"single\", \"-o\", kb_count_out_test2, \"--kallisto\", kallisto, \"--bustools\", bustools] + rnaseq_fastq_files_final\n",
    "    subprocess.run(kb_count_command, check=True)\n",
    "\n",
    "# kb_count_out_test = f\"{varseek_directory}/tests/kb_files/test_kb_count_out_paired\"\n",
    "# if not os.path.exists(kb_count_out_test) or len(os.listdir(kb_count_out_test)) == 0:\n",
    "#     kb_count_command = [\"kb\", \"count\", \"-t\", str(8), \"-i\", test_index, \"-g\", test_t2g, \"-x\", \"bulk\", \"--num\", \"--h5ad\", \"--parity\", \"paired\", \"-o\", kb_count_out_test] + rnaseq_fastq_files_final\n",
    "#     subprocess.run(kb_count_command, check=True)"
   ]
  },
  {
   "cell_type": "code",
   "execution_count": null,
   "metadata": {},
   "outputs": [],
   "source": [
    "bus_text_file = os.path.join(kb_count_out_test, \"bus_text.txt\")\n",
    "bus_file = os.path.join(kb_count_out_test, \"output.bus\")\n",
    "bustools_text_command = f\"{bustools} text -o {bus_text_file} -f {bus_file}\"\n",
    "subprocess.run(bustools_text_command, check=True, shell=True)\n",
    "\n",
    "bus_text_file = os.path.join(kb_count_out_test2, \"bus_text.txt\")\n",
    "bus_file = os.path.join(kb_count_out_test2, \"output.bus\")\n",
    "bustools_text_command = f\"{bustools} text -o {bus_text_file} -f {bus_file}\"\n",
    "subprocess.run(bustools_text_command, check=True, shell=True)"
   ]
  },
  {
   "cell_type": "code",
   "execution_count": null,
   "metadata": {},
   "outputs": [],
   "source": [
    "import importlib\n",
    "import varseek.utils.seq_utils\n",
    "importlib.reload(varseek.utils.varseek_clean_utils)\n",
    "from varseek.utils.varseek_clean_utils import make_bus_df\n",
    "bus_df = make_bus_df(kallisto_out = kb_count_out_test, fastq_file_list = rnaseq_fastq_files_final, t2g_file = test_t2g, mm = False, technology = \"bulk\", bustools = bustools)"
   ]
  },
  {
   "cell_type": "code",
   "execution_count": null,
   "metadata": {},
   "outputs": [
    {
     "name": "stdout",
     "output_type": "stream",
     "text": [
      "loading in transcripts\n",
      "loading in barcodes\n",
      "loading in fastq headers\n",
      "loading in fastq headers\n",
      "loading in fastq headers\n",
      "loading in fastq headers\n",
      "loading in ec matrix\n",
      "loading in t2g df\n",
      "running bustools text\n",
      "loading in bus df\n",
      "merging ec df into bus df\n",
      "Apply the mapping function to create gene name columns\n",
      "added counted in matrix column\n",
      "saving bus df\n"
     ]
    },
    {
     "name": "stderr",
     "output_type": "stream",
     "text": [
      "Read in 12 BUS records\n"
     ]
    }
   ],
   "source": [
    "read1_sample2_fq = f\"{varseek_directory}/tests/kb_files/reads1_sample2_test.fq\"\n",
    "read2_sample2_fq = f\"{varseek_directory}/tests/kb_files/reads2_sample2_test.fq\"\n",
    "rnaseq_fastq_files_final = [read1_fq, read2_fq, read1_sample2_fq, read2_sample2_fq]\n",
    "\n",
    "kb_count_out_test_4_total_fastqs = f\"{varseek_directory}/tests/kb_files/test_kb_count_out_March2025_with_num_4_total_fastqs\"\n",
    "\n",
    "if not os.path.exists(kb_count_out_test_4_total_fastqs) or len(os.listdir(kb_count_out_test_4_total_fastqs)) == 0:\n",
    "    kb_count_command = [\"kb\", \"count\", \"-t\", str(2), \"-i\", test_index, \"-g\", test_t2g, \"-x\", \"bulk\", \"--num\", \"--h5ad\", \"--parity\", \"single\", \"-o\", kb_count_out_test_4_total_fastqs, \"--kallisto\", kallisto, \"--bustools\", bustools] + rnaseq_fastq_files_final\n",
    "    subprocess.run(kb_count_command, check=True)\n",
    "\n",
    "bus_text_file = os.path.join(kb_count_out_test_4_total_fastqs, \"bus_text.txt\")\n",
    "bus_file = os.path.join(kb_count_out_test_4_total_fastqs, \"output.bus\")\n",
    "bustools_text_command = f\"{bustools} text -o {bus_text_file} -f {bus_file}\"\n",
    "subprocess.run(bustools_text_command, check=True, shell=True)\n",
    "\n",
    "import importlib\n",
    "import varseek.utils.seq_utils\n",
    "importlib.reload(varseek.utils.varseek_clean_utils)\n",
    "from varseek.utils.varseek_clean_utils import make_bus_df\n",
    "bus_df = make_bus_df(kallisto_out = kb_count_out_test_4_total_fastqs, fastq_file_list = rnaseq_fastq_files_final, t2g_file = test_t2g, mm = False, technology = \"bulk\", bustools = bustools)"
   ]
  },
  {
   "cell_type": "code",
   "execution_count": 3,
   "metadata": {},
   "outputs": [],
   "source": [
    "read1_sample2_fq = f\"{varseek_directory}/tests/kb_files/reads1_sample2_test.fq\"\n",
    "read2_sample2_fq = f\"{varseek_directory}/tests/kb_files/reads2_sample2_test.fq\"\n",
    "rnaseq_fastq_files_final = [read1_fq, read2_fq, read1_sample2_fq, read2_sample2_fq]\n",
    "\n",
    "kb_count_out_test_4_total_fastqs_paired = f\"{varseek_directory}/tests/kb_files/test_kb_count_out_March2025_with_num_4_total_fastqs_paired2\"\n",
    "\n",
    "# if not os.path.exists(kb_count_out_test_4_total_fastqs_paired) or len(os.listdir(kb_count_out_test_4_total_fastqs_paired)) == 0:\n",
    "#     kb_count_command = [\"kb\", \"count\", \"-t\", str(2), \"-i\", test_index, \"-g\", test_t2g, \"-x\", \"bulk\", \"--num\", \"--h5ad\", \"--parity\", \"paired\", \"-o\", kb_count_out_test_4_total_fastqs_paired, \"--kallisto\", kallisto, \"--bustools\", bustools] + rnaseq_fastq_files_final\n",
    "#     subprocess.run(kb_count_command, check=True)\n",
    "\n",
    "# bus_text_file = os.path.join(kb_count_out_test_4_total_fastqs_paired, \"bus_text.txt\")\n",
    "# bus_file = os.path.join(kb_count_out_test_4_total_fastqs_paired, \"output.bus\")\n",
    "# bustools_text_command = f\"{bustools} text -o {bus_text_file} -f {bus_file}\"\n",
    "# subprocess.run(bustools_text_command, check=True, shell=True)\n",
    "\n",
    "# import importlib\n",
    "# import varseek.utils.seq_utils\n",
    "# importlib.reload(varseek.utils.varseek_clean_utils)\n",
    "# from varseek.utils.varseek_clean_utils import make_bus_df"
   ]
  },
  {
   "cell_type": "code",
   "execution_count": null,
   "metadata": {},
   "outputs": [
    {
     "name": "stdout",
     "output_type": "stream",
     "text": [
      "File /Users/joeyrich/Desktop/local/varseek/tests/kb_files/reads1_test.fq does not match the expected bulk file naming convention of SAMPLE_PAIR.EXT where SAMPLE is sample name, PAIR is 1/2, and EXT is a fastq extension - or the Illumina file naming convention of SAMPLE_LANE_R[12]_001.fastq.gz, where SAMPLE is letters, numbers, underscores; LANE is numbers with optional leading 0s; pair is either R1 or R2; and it has .fq or .fastq extension (or .fq.gz or .fastq.gz).\n",
      "File /Users/joeyrich/Desktop/local/varseek/tests/kb_files/reads2_test.fq does not match the expected bulk file naming convention of SAMPLE_PAIR.EXT where SAMPLE is sample name, PAIR is 1/2, and EXT is a fastq extension - or the Illumina file naming convention of SAMPLE_LANE_R[12]_001.fastq.gz, where SAMPLE is letters, numbers, underscores; LANE is numbers with optional leading 0s; pair is either R1 or R2; and it has .fq or .fastq extension (or .fq.gz or .fastq.gz).\n",
      "File /Users/joeyrich/Desktop/local/varseek/tests/kb_files/reads1_sample2_test.fq does not match the expected bulk file naming convention of SAMPLE_PAIR.EXT where SAMPLE is sample name, PAIR is 1/2, and EXT is a fastq extension - or the Illumina file naming convention of SAMPLE_LANE_R[12]_001.fastq.gz, where SAMPLE is letters, numbers, underscores; LANE is numbers with optional leading 0s; pair is either R1 or R2; and it has .fq or .fastq extension (or .fq.gz or .fastq.gz).\n",
      "File /Users/joeyrich/Desktop/local/varseek/tests/kb_files/reads2_sample2_test.fq does not match the expected bulk file naming convention of SAMPLE_PAIR.EXT where SAMPLE is sample name, PAIR is 1/2, and EXT is a fastq extension - or the Illumina file naming convention of SAMPLE_LANE_R[12]_001.fastq.gz, where SAMPLE is letters, numbers, underscores; LANE is numbers with optional leading 0s; pair is either R1 or R2; and it has .fq or .fastq extension (or .fq.gz or .fastq.gz).\n",
      "Removing index files from fastq files list, as they are not utilized in kb count with technology bulk\n",
      "Error sorting fastq files: Invalid SRA-style FASTQ filename: /Users/joeyrich/Desktop/local/varseek/tests/kb_files/reads1_test.fq\n",
      "loading in transcripts\n",
      "loading in barcodes\n"
     ]
    },
    {
     "name": "stderr",
     "output_type": "stream",
     "text": [
      "Processing FASTQ headers: 3it [00:00, 2437.60it/s]\n",
      "Processing FASTQ headers: 3it [00:00, 24151.46it/s]\n",
      "Processing FASTQ headers: 3it [00:00, 7672.51it/s]\n",
      "Processing FASTQ headers: 3it [00:00, 31223.11it/s]\n"
     ]
    },
    {
     "name": "stdout",
     "output_type": "stream",
     "text": [
      "loading in ec matrix\n",
      "loading in t2g df\n",
      "loading in bus df\n",
      "Merging fastq header df and ec_df into bus df\n",
      "Apply the mapping function to create gene name columns\n"
     ]
    },
    {
     "name": "stderr",
     "output_type": "stream",
     "text": [
      "100%|██████████| 4/4 [00:00<00:00, 7906.32it/s]\n"
     ]
    },
    {
     "name": "stdout",
     "output_type": "stream",
     "text": [
      "Taking set of gene_names\n"
     ]
    },
    {
     "name": "stderr",
     "output_type": "stream",
     "text": [
      "100%|██████████| 4/4 [00:00<00:00, 8062.09it/s]\n"
     ]
    },
    {
     "name": "stdout",
     "output_type": "stream",
     "text": [
      "Determining what counts in count matrix\n"
     ]
    },
    {
     "name": "stderr",
     "output_type": "stream",
     "text": [
      "100%|██████████| 4/4 [00:00<00:00, 4450.19it/s]"
     ]
    },
    {
     "name": "stdout",
     "output_type": "stream",
     "text": [
      "Saving bus df as parquet\n"
     ]
    },
    {
     "name": "stderr",
     "output_type": "stream",
     "text": [
      "\n"
     ]
    }
   ],
   "source": [
    "import importlib\n",
    "import varseek.utils.seq_utils\n",
    "importlib.reload(varseek.utils.varseek_clean_utils)\n",
    "from varseek.utils.varseek_clean_utils import make_bus_df\n",
    "df = make_bus_df(kb_count_out=kb_count_out_test_4_total_fastqs_paired, fastq_file_list=rnaseq_fastq_files_final, t2g_file=test_t2g, mm=False, technology=\"bulk\", parity=\"paired\", bustools=bustools, check_only=True)"
   ]
  },
  {
   "cell_type": "code",
   "execution_count": 5,
   "metadata": {},
   "outputs": [],
   "source": [
    "import os\n",
    "import subprocess\n",
    "import shutil\n",
    "import sys\n",
    "import numpy as np\n",
    "import pandas as pd\n",
    "from time import sleep\n",
    "import anndata as ad\n",
    "from scipy.io import mmread\n",
    "from varseek.utils import create_identity_t2g\n",
    "\n",
    "varseek_directory = os.path.dirname(os.path.abspath(\"\"))\n",
    "\n",
    "conda_env_path = os.path.dirname(os.path.dirname(shutil.which(\"kb\")))  # to get kb path\n",
    "operating_system = \"linux\" if sys.platform.startswith(\"linux\") else \"darwin/m1\"\n",
    "\n",
    "kallisto = f\"{conda_env_path}/lib/python3.10/site-packages/kb_python/bins/{operating_system}/kallisto/kallisto\"  # or kallisto_k64\n",
    "bustools = f\"{conda_env_path}/lib/python3.10/site-packages/kb_python/bins/{operating_system}/bustools/bustools\""
   ]
  },
  {
   "cell_type": "code",
   "execution_count": 11,
   "metadata": {},
   "outputs": [
    {
     "name": "stderr",
     "output_type": "stream",
     "text": [
      "[2025-03-26 16:28:43,354]    INFO [ref_custom] Indexing /Users/joeyrich/Desktop/local/varseek/tests/kb_files/single_cell_tests/ref_sc_test.fa to /Users/joeyrich/Desktop/local/varseek/tests/kb_files/single_cell_tests/index_test.idx\n",
      "[2025-03-26 16:28:44,672]    INFO [ref_custom] Finished creating custom index\n",
      "[2025-03-26 16:28:45,514]   DEBUG [main] Printing verbose output\n",
      "[2025-03-26 16:28:47,740]   DEBUG [main] kallisto binary located at /Users/joeyrich/miniconda3/envs/varseek/lib/python3.10/site-packages/kb_python/bins/darwin/m1/kallisto/kallisto\n",
      "[2025-03-26 16:28:47,740]   DEBUG [main] bustools binary located at /Users/joeyrich/miniconda3/envs/varseek/lib/python3.10/site-packages/kb_python/bins/darwin/m1/bustools/bustools\n",
      "[2025-03-26 16:28:47,740]   DEBUG [main] Creating `/Users/joeyrich/Desktop/local/varseek/tests/kb_files/single_cell_tests/test_kb_count_out_hamming1/tmp` directory\n",
      "[2025-03-26 16:28:47,740]   DEBUG [main] Namespace(list=False, command='count', tmp=None, keep_tmp=False, verbose=True, i='/Users/joeyrich/Desktop/local/varseek/tests/kb_files/single_cell_tests/index_test.idx', g='/Users/joeyrich/Desktop/local/varseek/tests/kb_files/single_cell_tests/t2g_test.txt', x='10XV3', o='/Users/joeyrich/Desktop/local/varseek/tests/kb_files/single_cell_tests/test_kb_count_out_hamming1', num=True, w=None, r=None, t=2, m='2G', strand=None, inleaved=False, genomebam=False, aa=False, gtf=None, chromosomes=None, workflow='standard', em=False, mm=False, tcc=False, filter=None, filter_threshold=None, c1=None, c2=None, overwrite=False, dry_run=False, batch_barcodes=False, loom=False, h5ad=True, loom_names='barcode,target_name', sum='none', cellranger=False, gene_names=False, N=None, report=False, no_inspect=False, long=False, threshold=0.8, error_rate=None, platform='ONT', kallisto='/Users/joeyrich/miniconda3/envs/varseek/lib/python3.10/site-packages/kb_python/bins/darwin/m1/kallisto/kallisto', bustools='/Users/joeyrich/miniconda3/envs/varseek/lib/python3.10/site-packages/kb_python/bins/darwin/m1/bustools/bustools', opt_off=False, k=31, no_validate=False, no_fragment=False, union=False, no_jump=False, quant_umis=False, keep_flags=False, parity=None, fragment_l=None, fragment_s=None, bootstraps=None, matrix_to_files=False, matrix_to_directories=False, fastqs=['/Users/joeyrich/Desktop/local/varseek/tests/kb_files/single_cell_tests/reads_R1.fq', '/Users/joeyrich/Desktop/local/varseek/tests/kb_files/single_cell_tests/reads_R2.fq'])\n",
      "[2025-03-26 16:28:50,236]    INFO [count] Using index /Users/joeyrich/Desktop/local/varseek/tests/kb_files/single_cell_tests/index_test.idx to generate BUS file to /Users/joeyrich/Desktop/local/varseek/tests/kb_files/single_cell_tests/test_kb_count_out_hamming1 from\n",
      "[2025-03-26 16:28:50,236]    INFO [count]         /Users/joeyrich/Desktop/local/varseek/tests/kb_files/single_cell_tests/reads_R1.fq\n",
      "[2025-03-26 16:28:50,237]    INFO [count]         /Users/joeyrich/Desktop/local/varseek/tests/kb_files/single_cell_tests/reads_R2.fq\n",
      "[2025-03-26 16:28:50,237]   DEBUG [count] kallisto bus -i /Users/joeyrich/Desktop/local/varseek/tests/kb_files/single_cell_tests/index_test.idx -o /Users/joeyrich/Desktop/local/varseek/tests/kb_files/single_cell_tests/test_kb_count_out_hamming1 -x 10XV3 -t 2 --num /Users/joeyrich/Desktop/local/varseek/tests/kb_files/single_cell_tests/reads_R1.fq /Users/joeyrich/Desktop/local/varseek/tests/kb_files/single_cell_tests/reads_R2.fq\n",
      "[2025-03-26 16:28:51,348]   DEBUG [count] \n",
      "[2025-03-26 16:28:51,349]   DEBUG [count] [bus] Note: Strand option was not specified; setting it to --fr-stranded for specified technology\n",
      "[2025-03-26 16:28:51,349]   DEBUG [count] [index] k-mer length: 31\n",
      "[2025-03-26 16:28:51,349]   DEBUG [count] [index] number of targets: 5\n",
      "[2025-03-26 16:28:51,349]   DEBUG [count] [index] number of k-mers: 9\n",
      "[2025-03-26 16:28:51,349]   DEBUG [count] [quant] running in paired-end mode\n",
      "[2025-03-26 16:28:51,349]   DEBUG [count] [quant] will process sample 1: /Users/joeyrich/Desktop/local/varseek/tests/kb_files/single_cell_tests/reads_R1.fq\n",
      "[2025-03-26 16:28:51,349]   DEBUG [count] /Users/joeyrich/Desktop/local/varseek/tests/kb_files/single_cell_tests/reads_R2.fq\n",
      "[2025-03-26 16:28:51,349]   DEBUG [count] [quant] finding pseudoalignments for the reads ... done\n",
      "[2025-03-26 16:28:51,349]   DEBUG [count] [quant] processed 9 reads, 8 reads pseudoaligned\n",
      "[2025-03-26 16:28:51,349]   DEBUG [count] \n",
      "[2025-03-26 16:28:51,350]    INFO [count] Sorting BUS file /Users/joeyrich/Desktop/local/varseek/tests/kb_files/single_cell_tests/test_kb_count_out_hamming1/output.bus to /Users/joeyrich/Desktop/local/varseek/tests/kb_files/single_cell_tests/test_kb_count_out_hamming1/tmp/output.s.bus\n",
      "[2025-03-26 16:28:51,350]   DEBUG [count] bustools sort -o /Users/joeyrich/Desktop/local/varseek/tests/kb_files/single_cell_tests/test_kb_count_out_hamming1/tmp/output.s.bus -T /Users/joeyrich/Desktop/local/varseek/tests/kb_files/single_cell_tests/test_kb_count_out_hamming1/tmp -t 2 -m 2G --no-flags /Users/joeyrich/Desktop/local/varseek/tests/kb_files/single_cell_tests/test_kb_count_out_hamming1/output.bus\n",
      "[2025-03-26 16:28:52,980]   DEBUG [count] all fits in buffer\n",
      "[2025-03-26 16:28:52,980]   DEBUG [count] Read in 8 BUS records\n",
      "[2025-03-26 16:28:52,980]   DEBUG [count] reading time 8e-06s\n",
      "[2025-03-26 16:28:52,980]   DEBUG [count] sorting time 9e-06s\n",
      "[2025-03-26 16:28:52,980]   DEBUG [count] writing time 8.3e-05s\n",
      "[2025-03-26 16:28:52,981]    INFO [count] On-list not provided\n",
      "[2025-03-26 16:28:52,981]    INFO [count] Copying pre-packaged 10XV3 on-list to /Users/joeyrich/Desktop/local/varseek/tests/kb_files/single_cell_tests/test_kb_count_out_hamming1\n",
      "[2025-03-26 16:28:53,259]    INFO [count] Inspecting BUS file /Users/joeyrich/Desktop/local/varseek/tests/kb_files/single_cell_tests/test_kb_count_out_hamming1/tmp/output.s.bus\n",
      "[2025-03-26 16:28:53,259]   DEBUG [count] bustools inspect -o /Users/joeyrich/Desktop/local/varseek/tests/kb_files/single_cell_tests/test_kb_count_out_hamming1/inspect.json -w /Users/joeyrich/Desktop/local/varseek/tests/kb_files/single_cell_tests/test_kb_count_out_hamming1/10x_version3_whitelist.txt /Users/joeyrich/Desktop/local/varseek/tests/kb_files/single_cell_tests/test_kb_count_out_hamming1/tmp/output.s.bus\n",
      "[2025-03-26 16:28:57,399]    INFO [count] Correcting BUS records in /Users/joeyrich/Desktop/local/varseek/tests/kb_files/single_cell_tests/test_kb_count_out_hamming1/tmp/output.s.bus to /Users/joeyrich/Desktop/local/varseek/tests/kb_files/single_cell_tests/test_kb_count_out_hamming1/tmp/output.s.c.bus with on-list /Users/joeyrich/Desktop/local/varseek/tests/kb_files/single_cell_tests/test_kb_count_out_hamming1/10x_version3_whitelist.txt\n",
      "[2025-03-26 16:28:57,400]   DEBUG [count] bustools correct -o /Users/joeyrich/Desktop/local/varseek/tests/kb_files/single_cell_tests/test_kb_count_out_hamming1/tmp/output.s.c.bus -w /Users/joeyrich/Desktop/local/varseek/tests/kb_files/single_cell_tests/test_kb_count_out_hamming1/10x_version3_whitelist.txt /Users/joeyrich/Desktop/local/varseek/tests/kb_files/single_cell_tests/test_kb_count_out_hamming1/tmp/output.s.bus\n",
      "[2025-03-26 16:29:01,778]   DEBUG [count] Found 6794880 barcodes in the on-list\n",
      "[2025-03-26 16:29:03,129]   DEBUG [count] Processed 7 BUS records\n",
      "[2025-03-26 16:29:03,129]   DEBUG [count] In on-list = 6\n",
      "[2025-03-26 16:29:03,129]   DEBUG [count] Corrected    = 1\n",
      "[2025-03-26 16:29:03,129]   DEBUG [count] Uncorrected  = 0\n",
      "[2025-03-26 16:29:05,070]    INFO [count] Sorting BUS file /Users/joeyrich/Desktop/local/varseek/tests/kb_files/single_cell_tests/test_kb_count_out_hamming1/tmp/output.s.c.bus to /Users/joeyrich/Desktop/local/varseek/tests/kb_files/single_cell_tests/test_kb_count_out_hamming1/output.unfiltered.bus\n",
      "[2025-03-26 16:29:05,070]   DEBUG [count] bustools sort -o /Users/joeyrich/Desktop/local/varseek/tests/kb_files/single_cell_tests/test_kb_count_out_hamming1/output.unfiltered.bus -T /Users/joeyrich/Desktop/local/varseek/tests/kb_files/single_cell_tests/test_kb_count_out_hamming1/tmp -t 2 -m 2G /Users/joeyrich/Desktop/local/varseek/tests/kb_files/single_cell_tests/test_kb_count_out_hamming1/tmp/output.s.c.bus\n",
      "[2025-03-26 16:29:05,587]   DEBUG [count] all fits in buffer\n",
      "[2025-03-26 16:29:06,698]   DEBUG [count] Read in 7 BUS records\n",
      "[2025-03-26 16:29:06,698]   DEBUG [count] reading time 4e-06s\n",
      "[2025-03-26 16:29:06,698]   DEBUG [count] sorting time 5e-06s\n",
      "[2025-03-26 16:29:06,698]   DEBUG [count] writing time 5.9e-05s\n",
      "[2025-03-26 16:29:06,700]    INFO [count] Generating count matrix /Users/joeyrich/Desktop/local/varseek/tests/kb_files/single_cell_tests/test_kb_count_out_hamming1/counts_unfiltered/cells_x_genes from BUS file /Users/joeyrich/Desktop/local/varseek/tests/kb_files/single_cell_tests/test_kb_count_out_hamming1/output.unfiltered.bus\n",
      "[2025-03-26 16:29:06,700]   DEBUG [count] bustools count -o /Users/joeyrich/Desktop/local/varseek/tests/kb_files/single_cell_tests/test_kb_count_out_hamming1/counts_unfiltered/cells_x_genes -g /Users/joeyrich/Desktop/local/varseek/tests/kb_files/single_cell_tests/t2g_test.txt -e /Users/joeyrich/Desktop/local/varseek/tests/kb_files/single_cell_tests/test_kb_count_out_hamming1/matrix.ec -t /Users/joeyrich/Desktop/local/varseek/tests/kb_files/single_cell_tests/test_kb_count_out_hamming1/transcripts.txt --genecounts --umi-gene /Users/joeyrich/Desktop/local/varseek/tests/kb_files/single_cell_tests/test_kb_count_out_hamming1/output.unfiltered.bus\n",
      "[2025-03-26 16:29:07,836]   DEBUG [count] /Users/joeyrich/Desktop/local/varseek/tests/kb_files/single_cell_tests/test_kb_count_out_hamming1/counts_unfiltered/cells_x_genes.mtx passed validation\n",
      "[2025-03-26 16:29:07,836]    INFO [count] Writing gene names to file /Users/joeyrich/Desktop/local/varseek/tests/kb_files/single_cell_tests/test_kb_count_out_hamming1/counts_unfiltered/cells_x_genes.genes.names.txt\n",
      "[2025-03-26 16:29:07,837] WARNING [count] 5 gene IDs do not have corresponding valid gene names. These genes will use their gene IDs instead.\n",
      "[2025-03-26 16:29:07,837]    INFO [count] Reading matrix /Users/joeyrich/Desktop/local/varseek/tests/kb_files/single_cell_tests/test_kb_count_out_hamming1/counts_unfiltered/cells_x_genes.mtx\n",
      "[2025-03-26 16:29:07,848]    INFO [count] Writing matrix to h5ad /Users/joeyrich/Desktop/local/varseek/tests/kb_files/single_cell_tests/test_kb_count_out_hamming1/counts_unfiltered/adata.h5ad\n",
      "[2025-03-26 16:29:07,854]   DEBUG [main] Removing `/Users/joeyrich/Desktop/local/varseek/tests/kb_files/single_cell_tests/test_kb_count_out_hamming1/tmp` directory\n",
      "Read in 8 BUS records\n"
     ]
    },
    {
     "name": "stdout",
     "output_type": "stream",
     "text": [
      "AAACCCAAGAAACACT\tTTTTTTTTTTTT\t0\t1\t0\n",
      "AAACCCAAGAAACACT\tTTTTTTTTTTTT\t0\t1\t1\n",
      "TATCAGGAGCTAAGTG\tTTTTTTTTTTTT\t0\t1\t2\n",
      "TATCAGGAGCTAAGTG\tTTTTTTTTTTTT\t1\t1\t3\n",
      "TATCAGGAGCTAAGTG\tTTTTTTTTTTTA\t1\t1\t4\n",
      "TATCAGGAGCTAAGTG\tTTTTTTTTTTCC\t2\t1\t6\n",
      "TATCAGGAGCTAAGTG\tTTTTTTTTTAAA\t2\t1\t7\n",
      "GAACCCAAGAAACACT\tTTTTTTTTAACA\t0\t1\t8\n",
      "Count matrix:  [[2. 0. 0. 0. 0.]\n",
      " [1. 2. 0. 0. 0.]]\n",
      "adata.var:  Index(['vcrs1', 'vcrs2', 'vcrs3', 'vcrs4', 'vcrs5'], dtype='object', name='gene_id')\n",
      "adata.obs:  Index(['AAACCCAAGAAACACT', 'TATCAGGAGCTAAGTG'], dtype='object', name='barcode')\n"
     ]
    }
   ],
   "source": [
    "mm = False\n",
    "union = False\n",
    "\n",
    "ref_fa = f\"{varseek_directory}/tests/kb_files/single_cell_tests/ref_sc_test.fa\"\n",
    "read1_fq = f\"{varseek_directory}/tests/kb_files/single_cell_tests/reads_R1.fq\"\n",
    "read2_fq = f\"{varseek_directory}/tests/kb_files/single_cell_tests/reads_R2.fq\"\n",
    "test_index = f\"{varseek_directory}/tests/kb_files/single_cell_tests/index_test.idx\"\n",
    "test_t2g = f\"{varseek_directory}/tests/kb_files/single_cell_tests/t2g_test.txt\"\n",
    "kb_count_out_test = f\"{varseek_directory}/tests/kb_files/single_cell_tests/test_kb_count_out_hamming1\"\n",
    "\n",
    "rnaseq_fastq_files_final = [read1_fq, read2_fq]\n",
    "os.makedirs(kb_count_out_test, exist_ok=True)\n",
    "\n",
    "!rm -rf $test_index\n",
    "!rm -rf $test_t2g\n",
    "!rm -rf $kb_count_out_test\n",
    "\n",
    "if not os.path.exists(test_index):\n",
    "    kb_ref_command = [\"kb\", \"ref\", \"--workflow\", \"custom\", \"-t\", str(2), \"-i\", test_index, \"--d-list\", \"None\", ref_fa]\n",
    "    subprocess.run(kb_ref_command, check=True)\n",
    "\n",
    "if not os.path.exists(test_t2g):\n",
    "    create_identity_t2g(ref_fa, test_t2g)\n",
    "\n",
    "if not os.path.exists(kb_count_out_test) or len(os.listdir(kb_count_out_test)) == 0:\n",
    "    kb_count_command = [\"kb\", \"count\", \"-t\", str(2), \"-i\", test_index, \"-g\", test_t2g, \"-x\", \"10XV3\", \"--num\", \"--h5ad\", \"-o\", kb_count_out_test, \"--kallisto\", kallisto, \"--bustools\", bustools]\n",
    "    if mm:\n",
    "        kb_count_command.append(\"--mm\")\n",
    "    if union:\n",
    "        kb_count_command.append(\"--union\")\n",
    "    kb_count_command += rnaseq_fastq_files_final\n",
    "    subprocess.run(kb_count_command, check=True)\n",
    "\n",
    "bus_text_file = os.path.join(kb_count_out_test, \"bus_text.txt\")\n",
    "bus_file = os.path.join(kb_count_out_test, \"output.bus\")\n",
    "bustools_text_command = f\"{bustools} text -o {bus_text_file} -f {bus_file}\"\n",
    "subprocess.run(bustools_text_command, check=True, shell=True)\n",
    "sleep(1)\n",
    "!cat $bus_text_file\n",
    "\n",
    "adata_path = f\"{kb_count_out_test}/counts_unfiltered/adata.h5ad\"\n",
    "adata = ad.read_h5ad(adata_path)\n",
    "print(\"Count matrix: \", adata.X.toarray())\n",
    "print(\"adata.var: \", adata.var.index)\n",
    "print(\"adata.obs: \", adata.obs.index)\n",
    "\n",
    "# mtx_path = f\"{kb_count_out_test}/counts_unfiltered/cells_x_genes.mtx\"\n",
    "# mtx = mmread(mtx_path)\n",
    "# print(mtx.toarray())  # same results as adata.X.toarray() (i.e., no differences with union)\n",
    "\n",
    "import importlib\n",
    "import varseek.utils.varseek_clean_utils\n",
    "importlib.reload(varseek.utils.varseek_clean_utils)\n",
    "from varseek.utils.varseek_clean_utils import make_bus_df\n",
    "# bus_df = make_bus_df(kb_count_out = kb_count_out_test, fastq_file_list = rnaseq_fastq_files_final, t2g_file = test_t2g, mm = False, technology = \"10XV3\", bustools = bustools)\n",
    "# read_to_ref_dict = dict(zip(bus_df['fastq_header'], bus_df['gene_names']))"
   ]
  },
  {
   "cell_type": "code",
   "execution_count": null,
   "metadata": {},
   "outputs": [],
   "source": [
    "read_to_ref_dict_gt = {\n",
    "    'read0_mapsto_vcrs1_R2': ['vcrs1'],  # count_matrix_data[\"AAACCCAAGAAACACT\"][\"vcrs1\"] = 1\n",
    "    'read1_mapsto_vcrs1_repeat_R2': ['vcrs1'],  # because it has duplicate UMI as read0, it doesn't count for count matrix\n",
    "    'read2_mapsto_vcrs1_different_barcode_R2': ['vcrs1'],  # count_matrix_data[\"TATCAGGAGCTAAGTG\"][\"vcrs1\"] = 1\n",
    "    'read3_mapsto_vcrs2_same_barcode_R2': ['vcrs2'],  # count_matrix_data[\"TATCAGGAGCTAAGTG\"][\"vcrs2\"] = 1\n",
    "    'read4_mapsto_vcrs2_different_umi_R2': ['vcrs2'],  # count_matrix_data[\"TATCAGGAGCTAAGTG\"][\"vcrs2\"] = 2\n",
    "    'read5_mapsto_vcrs1_and_vcrs2_union_R2': [],  # doesn't count for count matrix OR show up in bus file unless --union is used\n",
    "    'read6_mapsto_vcrs3_and_vcrs4_multimap_R2': ['vcrs3', 'vcrs4', 'vcrs5'],  # doesn't count for count matrix unless --mm is used (but shows up in bus file regardless)\n",
    "    'read7_mapsto_vcrs3_and_vcrs4_multimap_different_umi_R2': ['vcrs3', 'vcrs4', 'vcrs5'],  # doesn't count for count matrix unless --mm is used (but shows up in bus file regardless)\n",
    "    'read8_mapsto_vcrs1_barcode1_but_hamming_distance2_R2': ['vcrs1'],  # count_matrix_data[\"AAACCCAAGAAACACT\"][\"vcrs1\"] = 2\n",
    "}\n",
    "if union:\n",
    "    read_to_ref_dict_gt['read5_mapsto_vcrs1_and_vcrs2_union_R2'] = ['vcrs1', 'vcrs2']\n",
    "\n",
    "count_matrix_data = {\n",
    "    \"AAACCCAAGAAACACT\": {\"vcrs1\": 2, \"vcrs2\": 0, \"vcrs3\": 0, \"vcrs4\": 0, \"vcrs5\": 0},\n",
    "    \"TATCAGGAGCTAAGTG\": {\"vcrs1\": 1, \"vcrs2\": 2, \"vcrs3\": 0, \"vcrs4\": 0, \"vcrs5\": 0},\n",
    "}\n",
    "if union and mm:  # notably, won't show up in count matrix unless mm is also used\n",
    "    count_matrix_data[\"TATCAGGAGCTAAGTG\"][\"vcrs1\"] += (1/2)  # each unioned read adds (1/n), where n is the number of VCRSs to which the read maps\n",
    "    count_matrix_data[\"TATCAGGAGCTAAGTG\"][\"vcrs2\"] += (1/2)  # each unioned read adds (1/n), where n is the number of VCRSs to which the read maps\n",
    "if mm:\n",
    "    count_matrix_data[\"TATCAGGAGCTAAGTG\"][\"vcrs3\"] += (1/3) * 2  # each multimapped read adds (1/n), where n is the number of VCRSs to which the read maps, and reads 6 and 7 are both multimappers hence the *2\n",
    "    count_matrix_data[\"TATCAGGAGCTAAGTG\"][\"vcrs4\"] += (1/3) * 2  # each multimapped read adds (1/n), where n is the number of VCRSs to which the read maps, and reads 6 and 7 are both multimappers hence the *2\n",
    "    count_matrix_data[\"TATCAGGAGCTAAGTG\"][\"vcrs5\"] += (1/3) * 2  # each multimapped read adds (1/n), where n is the number of VCRSs to which the read maps, and reads 6 and 7 are both multimappers hence the *2\n",
    "\n",
    "df = pd.DataFrame(count_matrix_data)\n",
    "\n",
    "# assert read_to_ref_dict == read_to_ref_dict_gt\n",
    "# assert np.array_equal(adata.X.toarray(), np.array([[1., 1., 0., 0., 0., 0.]]))"
   ]
  }
 ],
 "metadata": {
  "kernelspec": {
   "display_name": "varseek",
   "language": "python",
   "name": "python3"
  },
  "language_info": {
   "codemirror_mode": {
    "name": "ipython",
    "version": 3
   },
   "file_extension": ".py",
   "mimetype": "text/x-python",
   "name": "python",
   "nbconvert_exporter": "python",
   "pygments_lexer": "ipython3",
   "version": "3.10.16"
  }
 },
 "nbformat": 4,
 "nbformat_minor": 2
}
