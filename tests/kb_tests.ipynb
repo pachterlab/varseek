{
 "cells": [
  {
   "cell_type": "code",
   "execution_count": null,
   "metadata": {},
   "outputs": [],
   "source": [
    "import os\n",
    "import subprocess\n",
    "from varseek.utils import create_mutant_t2g\n",
    "\n",
    "ref_fa = \"/home/jrich/Desktop/varseek/tests/ref_test.fa\"\n",
    "read1_fq = \"/home/jrich/Desktop/varseek/tests/reads1_test.fq\"\n",
    "read2_fq = \"/home/jrich/Desktop/varseek/tests/reads2_test.fq\"\n",
    "test_index = \"/home/jrich/Desktop/varseek/tests/index_test.idx\"\n",
    "test_t2g = \"/home/jrich/Desktop/varseek/tests/t2g_test.txt\"\n",
    "kb_count_out_test = \"/home/jrich/Desktop/varseek/tests/kb_files/test_kb_count_out\"\n",
    "\n",
    "rnaseq_fastq_files_final = [read1_fq, read2_fq]\n",
    "os.makedirs(kb_count_out_test, exist_ok=True)\n",
    "\n",
    "if not os.path.exists(test_index):\n",
    "    kb_ref_command = [\"kb\", \"ref\", \"--workflow\", \"custom\", \"-t\", str(8), \"-i\", test_index, \"--d-list\", \"None\", ref_fa]\n",
    "    subprocess.run(kb_ref_command, check=True)\n",
    "\n",
    "if not os.path.exists(test_t2g):\n",
    "    create_mutant_t2g(ref_fa, test_t2g)\n",
    "\n",
    "if not os.path.exists(kb_count_out_test) or len(os.listdir(kb_count_out_test)) == 0:\n",
    "    kb_count_command = [\"kb\", \"count\", \"-t\", str(8), \"-i\", test_index, \"-g\", test_t2g, \"-x\", \"bulk\", \"--num\", \"--h5ad\", \"--parity\", \"single\", \"-o\", kb_count_out_test] + rnaseq_fastq_files_final\n",
    "    subprocess.run(kb_count_command, check=True)\n",
    "\n",
    "# kb_count_out_test = \"/home/jrich/Desktop/varseek/tests/kb_files/test_kb_count_out_paired\"\n",
    "# if not os.path.exists(kb_count_out_test) or len(os.listdir(kb_count_out_test)) == 0:\n",
    "#     kb_count_command = [\"kb\", \"count\", \"-t\", str(8), \"-i\", test_index, \"-g\", test_t2g, \"-x\", \"bulk\", \"--num\", \"--h5ad\", \"--parity\", \"paired\", \"-o\", kb_count_out_test] + rnaseq_fastq_files_final\n",
    "#     subprocess.run(kb_count_command, check=True)"
   ]
  },
  {
   "cell_type": "code",
   "execution_count": null,
   "metadata": {},
   "outputs": [],
   "source": [
    "bustools = \"/home/jrich/miniconda3/envs/varseek2/lib/python3.10/site-packages/kb_python/bins/linux/bustools/bustools\"\n",
    "bus_text_file = os.path.join(kb_count_out_test, \"bus_text.txt\")\n",
    "bus_file = os.path.join(kb_count_out_test, \"output.bus\")\n",
    "bustools_text_command = f\"{bustools} text -o {bus_text_file} -f {bus_file}\"\n",
    "subprocess.run(bustools_text_command, check=True, shell=True)"
   ]
  },
  {
   "cell_type": "code",
   "execution_count": null,
   "metadata": {},
   "outputs": [],
   "source": [
    "import importlib\n",
    "import varseek.utils.seq_utils\n",
    "importlib.reload(varseek.utils.seq_utils)\n",
    "from varseek.utils.seq_utils import make_bus_df\n",
    "bus_df = make_bus_df(kallisto_out = kb_count_out_test, fastq_file_list = rnaseq_fastq_files_final, t2g_file = test_t2g, mm = False, union = False, assay = \"bulk\", bustools = bustools)"
   ]
  }
 ],
 "metadata": {
  "language_info": {
   "name": "python"
  }
 },
 "nbformat": 4,
 "nbformat_minor": 2
}
