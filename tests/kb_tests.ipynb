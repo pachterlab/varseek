{
 "cells": [
  {
   "cell_type": "code",
   "execution_count": 8,
   "metadata": {},
   "outputs": [],
   "source": [
    "import os\n",
    "import subprocess\n",
    "import shutil\n",
    "import sys\n",
    "from varseek.utils import create_identity_t2g\n",
    "\n",
    "varseek_directory = os.path.dirname(os.path.abspath(\"\"))\n",
    "\n",
    "conda_env_path = os.path.dirname(os.path.dirname(shutil.which(\"kb\")))  # to get kb path\n",
    "operating_system = \"linux\" if sys.platform.startswith(\"linux\") else \"darwin\"\n",
    "\n",
    "kallisto = f\"{conda_env_path}/lib/python3.10/site-packages/kb_python/bins/{operating_system}/kallisto/kallisto\"\n",
    "bustools = f\"{conda_env_path}/lib/python3.10/site-packages/kb_python/bins/{operating_system}/bustools/bustools\""
   ]
  },
  {
   "cell_type": "code",
   "execution_count": 9,
   "metadata": {},
   "outputs": [
    {
     "name": "stderr",
     "output_type": "stream",
     "text": [
      "[2025-02-12 14:43:30,964]    INFO [count] Using index /Users/joeyrich/Desktop/local/varseek/tests/kb_files/index_test.idx to generate BUS file to /Users/joeyrich/Desktop/local/varseek/tests/kb_files/test_kb_count_out_2025 from\n",
      "[2025-02-12 14:43:30,965]    INFO [count]         /Users/joeyrich/Desktop/local/varseek/tests/kb_files/reads1_test.fq\n",
      "[2025-02-12 14:43:30,965]    INFO [count]         /Users/joeyrich/Desktop/local/varseek/tests/kb_files/reads2_test.fq\n",
      "[2025-02-12 14:43:32,085]   ERROR [count] \n",
      "[2025-02-12 14:43:32,085]   ERROR [main] An exception occurred\n",
      "Traceback (most recent call last):\n",
      "  File \"/Users/joeyrich/miniconda3/envs/varseek/lib/python3.10/site-packages/kb_python/main.py\", line 1926, in main\n",
      "    COMMAND_TO_FUNCTION[args.command](parser, args, temp_dir=temp_dir)\n",
      "  File \"/Users/joeyrich/miniconda3/envs/varseek/lib/python3.10/site-packages/kb_python/main.py\", line 714, in parse_count\n",
      "    count(\n",
      "  File \"/Users/joeyrich/miniconda3/envs/varseek/lib/python3.10/site-packages/ngs_tools/logging.py\", line 62, in inner\n",
      "    return func(*args, **kwargs)\n",
      "  File \"/Users/joeyrich/miniconda3/envs/varseek/lib/python3.10/site-packages/kb_python/count.py\", line 1323, in count\n",
      "    bus_result = kallisto_bus(\n",
      "  File \"/Users/joeyrich/miniconda3/envs/varseek/lib/python3.10/site-packages/kb_python/count.py\", line 223, in kallisto_bus\n",
      "    run_executable(command)\n",
      "  File \"/Users/joeyrich/miniconda3/envs/varseek/lib/python3.10/site-packages/kb_python/dry/__init__.py\", line 25, in inner\n",
      "    return func(*args, **kwargs)\n",
      "  File \"/Users/joeyrich/miniconda3/envs/varseek/lib/python3.10/site-packages/kb_python/utils.py\", line 203, in run_executable\n",
      "    raise sp.CalledProcessError(p.returncode, ' '.join(command))\n",
      "subprocess.CalledProcessError: Command '/Users/joeyrich/miniconda3/envs/varseek/lib/python3.10/site-packages/kb_python/bins/darwin/kallisto/kallisto bus -i /Users/joeyrich/Desktop/local/varseek/tests/kb_files/index_test.idx -o /Users/joeyrich/Desktop/local/varseek/tests/kb_files/test_kb_count_out_2025 -x BULK -t 8 --num /Users/joeyrich/Desktop/local/varseek/tests/kb_files/reads1_test.fq /Users/joeyrich/Desktop/local/varseek/tests/kb_files/reads2_test.fq' died with <Signals.SIGILL: 4>.\n"
     ]
    }
   ],
   "source": [
    "ref_fa = f\"{varseek_directory}/tests/kb_files/ref_test.fa\"\n",
    "read1_fq = f\"{varseek_directory}/tests/kb_files/reads1_test.fq\"\n",
    "read2_fq = f\"{varseek_directory}/tests/kb_files/reads2_test.fq\"\n",
    "test_index = f\"{varseek_directory}/tests/kb_files/index_test.idx\"\n",
    "test_t2g = f\"{varseek_directory}/tests/kb_files/t2g_test.txt\"\n",
    "kb_count_out_test = f\"{varseek_directory}/tests/kb_files/test_kb_count_out_2025\"\n",
    "\n",
    "rnaseq_fastq_files_final = [read1_fq, read2_fq]\n",
    "os.makedirs(kb_count_out_test, exist_ok=True)\n",
    "\n",
    "if not os.path.exists(test_index):\n",
    "    kb_ref_command = [\"kb\", \"ref\", \"--workflow\", \"custom\", \"-t\", str(8), \"-i\", test_index, \"--d-list\", \"None\", ref_fa]\n",
    "    subprocess.run(kb_ref_command, check=True)\n",
    "\n",
    "if not os.path.exists(test_t2g):\n",
    "    create_identity_t2g(ref_fa, test_t2g)\n",
    "\n",
    "if not os.path.exists(kb_count_out_test) or len(os.listdir(kb_count_out_test)) == 0:\n",
    "    kb_count_command = [\"kb\", \"count\", \"-t\", str(8), \"-i\", test_index, \"-g\", test_t2g, \"-x\", \"bulk\", \"--num\", \"--h5ad\", \"--parity\", \"single\", \"-o\", kb_count_out_test, \"--kallisto\", kallisto, \"--bustools\", bustools] + rnaseq_fastq_files_final\n",
    "    subprocess.run(kb_count_command, check=True)\n",
    "\n",
    "# kb_count_out_test = f\"{varseek_directory}/tests/kb_files/test_kb_count_out_paired\"\n",
    "# if not os.path.exists(kb_count_out_test) or len(os.listdir(kb_count_out_test)) == 0:\n",
    "#     kb_count_command = [\"kb\", \"count\", \"-t\", str(8), \"-i\", test_index, \"-g\", test_t2g, \"-x\", \"bulk\", \"--num\", \"--h5ad\", \"--parity\", \"paired\", \"-o\", kb_count_out_test] + rnaseq_fastq_files_final\n",
    "#     subprocess.run(kb_count_command, check=True)"
   ]
  },
  {
   "cell_type": "code",
   "execution_count": null,
   "metadata": {},
   "outputs": [],
   "source": [
    "bus_text_file = os.path.join(kb_count_out_test, \"bus_text.txt\")\n",
    "bus_file = os.path.join(kb_count_out_test, \"output.bus\")\n",
    "bustools_text_command = f\"{bustools} text -o {bus_text_file} -f {bus_file}\"\n",
    "subprocess.run(bustools_text_command, check=True, shell=True)"
   ]
  },
  {
   "cell_type": "code",
   "execution_count": null,
   "metadata": {},
   "outputs": [],
   "source": [
    "import importlib\n",
    "import varseek.utils.seq_utils\n",
    "importlib.reload(varseek.utils.seq_utils)\n",
    "from varseek.utils.seq_utils import make_bus_df\n",
    "bus_df = make_bus_df(kallisto_out = kb_count_out_test, fastq_file_list = rnaseq_fastq_files_final, t2g_file = test_t2g, mm = False, union = False, technology = \"bulk\", bustools = bustools)"
   ]
  }
 ],
 "metadata": {
  "kernelspec": {
   "display_name": "varseek",
   "language": "python",
   "name": "python3"
  },
  "language_info": {
   "codemirror_mode": {
    "name": "ipython",
    "version": 3
   },
   "file_extension": ".py",
   "mimetype": "text/x-python",
   "name": "python",
   "nbconvert_exporter": "python",
   "pygments_lexer": "ipython3",
   "version": "3.10.16"
  }
 },
 "nbformat": 4,
 "nbformat_minor": 2
}
