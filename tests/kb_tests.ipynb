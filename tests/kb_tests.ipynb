{
 "cells": [
  {
   "cell_type": "code",
   "execution_count": 26,
   "metadata": {},
   "outputs": [
    {
     "name": "stdout",
     "output_type": "stream",
     "text": [
      "                                             barcode  UMI  EC  count  \\\n",
      "0  AAAAAAAAAAAAAAAA        T       0       1     ...  NaN NaN    NaN   \n",
      "1  AAAAAAAAAAAAAAAA        T       1       1     ...  NaN NaN    NaN   \n",
      "2  AAAAAAAAAAAAAAAA        T       2       1     ...  NaN NaN    NaN   \n",
      "3  AAAAAAAAAAAAAAAA        T       2       1     ...  NaN NaN    NaN   \n",
      "4  AAAAAAAAAAAAAAAA        T       3       1     ...  NaN NaN    NaN   \n",
      "5  AAAAAAAAAAAAAAAA        T       4       1     ...  NaN NaN    NaN   \n",
      "6  AAAAAAAAAAAAAAAA        T       4       1     ...  NaN NaN    NaN   \n",
      "7  AAAAAAAAAAAAAAAA        T       4       1     ...  NaN NaN    NaN   \n",
      "\n",
      "   read_index  \n",
      "0         NaN  \n",
      "1         NaN  \n",
      "2         NaN  \n",
      "3         NaN  \n",
      "4         NaN  \n",
      "5         NaN  \n",
      "6         NaN  \n",
      "7         NaN  \n",
      "------------------\n",
      "------------------\n",
      "------------------\n"
     ]
    }
   ],
   "source": [
    "import pandas as pd\n",
    "bus_text_file = \"/Users/joeyrich/Desktop/local/varseek/output_bus_sample.txt\"\n",
    "chunksize = sys.maxsize\n",
    "\n",
    "for i, bus_df in enumerate(pd.read_csv(bus_text_file, sep=\"\\t\", header=None, names=[\"barcode\", \"UMI\", \"EC\", \"count\", \"read_index\"], chunksize=chunksize)):\n",
    "    print(bus_df)\n",
    "    print(\"------------------\")\n",
    "    print(\"------------------\")\n",
    "    print(\"------------------\")"
   ]
  },
  {
   "cell_type": "code",
   "execution_count": 16,
   "metadata": {},
   "outputs": [
    {
     "data": {
      "application/vnd.microsoft.datawrangler.viewer.v0+json": {
       "columns": [
        {
         "name": "index",
         "rawType": "int64",
         "type": "integer"
        },
        {
         "name": "barcode",
         "rawType": "object",
         "type": "string"
        },
        {
         "name": "UMI",
         "rawType": "object",
         "type": "string"
        },
        {
         "name": "EC",
         "rawType": "int64",
         "type": "integer"
        },
        {
         "name": "read_index",
         "rawType": "int64",
         "type": "integer"
        }
       ],
       "conversionMethod": "pd.DataFrame",
       "ref": "bea3136c-4d3f-4f5b-9170-9e9b57a4e3dd",
       "rows": [
        [
         "0",
         "AAAAAAAAAAAAAAAA",
         "T",
         "0",
         "588"
        ],
        [
         "1",
         "AAAAAAAAAAAAAAAA",
         "T",
         "1",
         "656"
        ],
        [
         "2",
         "AAAAAAAAAAAAAAAA",
         "T",
         "2",
         "886"
        ],
        [
         "3",
         "AAAAAAAAAAAAAAAA",
         "T",
         "2",
         "997"
        ],
        [
         "4",
         "AAAAAAAAAAAAAAAA",
         "T",
         "3",
         "4353"
        ],
        [
         "5",
         "AAAAAAAAAAAAAAAA",
         "T",
         "4",
         "4440"
        ],
        [
         "6",
         "AAAAAAAAAAAAAAAA",
         "T",
         "4",
         "4471"
        ],
        [
         "7",
         "AAAAAAAAAAAAAAAA",
         "T",
         "4",
         "4490"
        ]
       ],
       "shape": {
        "columns": 4,
        "rows": 8
       }
      },
      "text/html": [
       "<div>\n",
       "<style scoped>\n",
       "    .dataframe tbody tr th:only-of-type {\n",
       "        vertical-align: middle;\n",
       "    }\n",
       "\n",
       "    .dataframe tbody tr th {\n",
       "        vertical-align: top;\n",
       "    }\n",
       "\n",
       "    .dataframe thead th {\n",
       "        text-align: right;\n",
       "    }\n",
       "</style>\n",
       "<table border=\"1\" class=\"dataframe\">\n",
       "  <thead>\n",
       "    <tr style=\"text-align: right;\">\n",
       "      <th></th>\n",
       "      <th>barcode</th>\n",
       "      <th>UMI</th>\n",
       "      <th>EC</th>\n",
       "      <th>read_index</th>\n",
       "    </tr>\n",
       "  </thead>\n",
       "  <tbody>\n",
       "    <tr>\n",
       "      <th>0</th>\n",
       "      <td>AAAAAAAAAAAAAAAA</td>\n",
       "      <td>T</td>\n",
       "      <td>0</td>\n",
       "      <td>588</td>\n",
       "    </tr>\n",
       "    <tr>\n",
       "      <th>1</th>\n",
       "      <td>AAAAAAAAAAAAAAAA</td>\n",
       "      <td>T</td>\n",
       "      <td>1</td>\n",
       "      <td>656</td>\n",
       "    </tr>\n",
       "    <tr>\n",
       "      <th>2</th>\n",
       "      <td>AAAAAAAAAAAAAAAA</td>\n",
       "      <td>T</td>\n",
       "      <td>2</td>\n",
       "      <td>886</td>\n",
       "    </tr>\n",
       "    <tr>\n",
       "      <th>3</th>\n",
       "      <td>AAAAAAAAAAAAAAAA</td>\n",
       "      <td>T</td>\n",
       "      <td>2</td>\n",
       "      <td>997</td>\n",
       "    </tr>\n",
       "    <tr>\n",
       "      <th>4</th>\n",
       "      <td>AAAAAAAAAAAAAAAA</td>\n",
       "      <td>T</td>\n",
       "      <td>3</td>\n",
       "      <td>4353</td>\n",
       "    </tr>\n",
       "    <tr>\n",
       "      <th>5</th>\n",
       "      <td>AAAAAAAAAAAAAAAA</td>\n",
       "      <td>T</td>\n",
       "      <td>4</td>\n",
       "      <td>4440</td>\n",
       "    </tr>\n",
       "    <tr>\n",
       "      <th>6</th>\n",
       "      <td>AAAAAAAAAAAAAAAA</td>\n",
       "      <td>T</td>\n",
       "      <td>4</td>\n",
       "      <td>4471</td>\n",
       "    </tr>\n",
       "    <tr>\n",
       "      <th>7</th>\n",
       "      <td>AAAAAAAAAAAAAAAA</td>\n",
       "      <td>T</td>\n",
       "      <td>4</td>\n",
       "      <td>4490</td>\n",
       "    </tr>\n",
       "  </tbody>\n",
       "</table>\n",
       "</div>"
      ],
      "text/plain": [
       "            barcode UMI  EC  read_index\n",
       "0  AAAAAAAAAAAAAAAA   T   0         588\n",
       "1  AAAAAAAAAAAAAAAA   T   1         656\n",
       "2  AAAAAAAAAAAAAAAA   T   2         886\n",
       "3  AAAAAAAAAAAAAAAA   T   2         997\n",
       "4  AAAAAAAAAAAAAAAA   T   3        4353\n",
       "5  AAAAAAAAAAAAAAAA   T   4        4440\n",
       "6  AAAAAAAAAAAAAAAA   T   4        4471\n",
       "7  AAAAAAAAAAAAAAAA   T   4        4490"
      ]
     },
     "execution_count": 16,
     "metadata": {},
     "output_type": "execute_result"
    }
   ],
   "source": [
    "bus_df"
   ]
  },
  {
   "cell_type": "code",
   "execution_count": 3,
   "metadata": {},
   "outputs": [],
   "source": [
    "import importlib\n",
    "import varseek.utils.varseek_clean_utils\n",
    "importlib.reload(varseek.utils.varseek_clean_utils)\n",
    "from varseek.utils.varseek_clean_utils import make_bus_df"
   ]
  },
  {
   "cell_type": "code",
   "execution_count": 4,
   "metadata": {},
   "outputs": [],
   "source": [
    "kb_count_out_dir = '/Users/joeyrich/Desktop/local/RLSRWP_2025/data/varseek_count_out_alignment_visualization_full/kb_count_out_vcrs'\n",
    "fastq_file = '/Users/joeyrich/Desktop/local/RLSRWP_2025/data/ccle_data_base/RNASeq_MELHO_SKIN/SRR8615233_1.fastq.gz'\n",
    "technology = 'bulk'\n",
    "parity = 'single'\n",
    "bustools = '/Users/joeyrich/miniconda3/envs/RLSRWP_2025/lib/python3.10/site-packages/kb_python/bins/darwin/m1/bustools/bustools'"
   ]
  },
  {
   "cell_type": "code",
   "execution_count": 5,
   "metadata": {},
   "outputs": [
    {
     "name": "stdout",
     "output_type": "stream",
     "text": [
      "loading in transcripts\n",
      "loading in barcodes\n"
     ]
    },
    {
     "name": "stderr",
     "output_type": "stream",
     "text": [
      "Processing FASTQ headers: 69015721it [04:57, 231875.48it/s]\n"
     ]
    },
    {
     "name": "stdout",
     "output_type": "stream",
     "text": [
      "loading in ec matrix\n",
      "loading in bus df\n"
     ]
    },
    {
     "ename": "AttributeError",
     "evalue": "'str' object has no attribute 'drop'",
     "output_type": "error",
     "traceback": [
      "\u001b[0;31m---------------------------------------------------------------------------\u001b[0m",
      "\u001b[0;31mAttributeError\u001b[0m                            Traceback (most recent call last)",
      "Cell \u001b[0;32mIn[5], line 1\u001b[0m\n\u001b[0;32m----> 1\u001b[0m bus_df \u001b[38;5;241m=\u001b[39m \u001b[43mmake_bus_df\u001b[49m\u001b[43m(\u001b[49m\u001b[43mkb_count_out_dir\u001b[49m\u001b[43m,\u001b[49m\u001b[43m \u001b[49m\u001b[43mfastq_file\u001b[49m\u001b[43m,\u001b[49m\u001b[43m \u001b[49m\u001b[43mtechnology\u001b[49m\u001b[38;5;241;43m=\u001b[39;49m\u001b[43mtechnology\u001b[49m\u001b[43m,\u001b[49m\u001b[43m \u001b[49m\u001b[43mparity\u001b[49m\u001b[38;5;241;43m=\u001b[39;49m\u001b[43mparity\u001b[49m\u001b[43m,\u001b[49m\u001b[43m \u001b[49m\u001b[43mbustools\u001b[49m\u001b[38;5;241;43m=\u001b[39;49m\u001b[43mbustools\u001b[49m\u001b[43m)\u001b[49m\n\u001b[1;32m      2\u001b[0m \u001b[38;5;66;03m# bus_df = bus_df.drop(columns=[\"transcript_names\"]).rename(columns={\"gene_names\": \"variant_names\"})\u001b[39;00m\n\u001b[1;32m      3\u001b[0m \u001b[38;5;66;03m# filtered_bus_df = bus_df[bus_df[\"variant_names\"].apply(lambda x: len(x) == 1)]  # remove multi-mapping reads\u001b[39;00m\n\u001b[1;32m      4\u001b[0m \u001b[38;5;66;03m# filtered_bus_df[\"variant_names_str\"] = filtered_bus_df[\"variant_names\"].apply(lambda x: x[0])  # cast to string\u001b[39;00m\n\u001b[1;32m      5\u001b[0m \u001b[38;5;66;03m# filtered_bus_df = filtered_bus_df[(filtered_bus_df[\"variant_names_str\"].isin(top10)) & (filtered_bus_df[\"counted_in_count_matrix\"])]\u001b[39;00m\n\u001b[1;32m      6\u001b[0m \u001b[38;5;66;03m# print(f\"Number of reads in filtered bus file: {len(filtered_bus_df)}\")\u001b[39;00m\n\u001b[1;32m      7\u001b[0m \u001b[38;5;66;03m# filtered_bus_df.head()\u001b[39;00m\n",
      "File \u001b[0;32m~/Desktop/local/varseek/varseek/utils/varseek_clean_utils.py:391\u001b[0m, in \u001b[0;36mmake_bus_df\u001b[0;34m(kb_count_out, fastq_file_list, t2g_file, mm, union, technology, parity, bustools, check_only, chunksize, bad_to_good_barcode_dict)\u001b[0m\n\u001b[1;32m    388\u001b[0m \u001b[38;5;28;01mif\u001b[39;00m chunksize:\n\u001b[1;32m    389\u001b[0m     \u001b[38;5;28mprint\u001b[39m(\u001b[38;5;124mf\u001b[39m\u001b[38;5;124m\"\u001b[39m\u001b[38;5;124mProcessing chunk \u001b[39m\u001b[38;5;132;01m{\u001b[39;00mi\u001b[38;5;241m+\u001b[39m\u001b[38;5;241m1\u001b[39m\u001b[38;5;132;01m}\u001b[39;00m\u001b[38;5;124m/\u001b[39m\u001b[38;5;132;01m{\u001b[39;00mtotal_chunks\u001b[38;5;132;01m}\u001b[39;00m\u001b[38;5;124m\"\u001b[39m)\n\u001b[0;32m--> 391\u001b[0m \u001b[43mbus_df\u001b[49m\u001b[38;5;241;43m.\u001b[39;49m\u001b[43mdrop\u001b[49m(columns\u001b[38;5;241m=\u001b[39m[\u001b[38;5;124m\"\u001b[39m\u001b[38;5;124mcount\u001b[39m\u001b[38;5;124m\"\u001b[39m], inplace\u001b[38;5;241m=\u001b[39m\u001b[38;5;28;01mTrue\u001b[39;00m)  \u001b[38;5;66;03m# drop count (it's always 1)\u001b[39;00m\n\u001b[1;32m    393\u001b[0m \u001b[38;5;66;03m# TODO: if I have low memory mode, then break up bus_df and loop from here through end\u001b[39;00m\n\u001b[1;32m    394\u001b[0m \u001b[38;5;28mprint\u001b[39m(\u001b[38;5;124m\"\u001b[39m\u001b[38;5;124mMerging fastq header df and ec_df into bus df\u001b[39m\u001b[38;5;124m\"\u001b[39m)\n",
      "\u001b[0;31mAttributeError\u001b[0m: 'str' object has no attribute 'drop'"
     ]
    }
   ],
   "source": [
    "bus_df = make_bus_df(kb_count_out_dir, fastq_file, technology=technology, parity=parity, bustools=bustools)\n",
    "# bus_df = bus_df.drop(columns=[\"transcript_names\"]).rename(columns={\"gene_names\": \"variant_names\"})\n",
    "# filtered_bus_df = bus_df[bus_df[\"variant_names\"].apply(lambda x: len(x) == 1)]  # remove multi-mapping reads\n",
    "# filtered_bus_df[\"variant_names_str\"] = filtered_bus_df[\"variant_names\"].apply(lambda x: x[0])  # cast to string\n",
    "# filtered_bus_df = filtered_bus_df[(filtered_bus_df[\"variant_names_str\"].isin(top10)) & (filtered_bus_df[\"counted_in_count_matrix\"])]\n",
    "# print(f\"Number of reads in filtered bus file: {len(filtered_bus_df)}\")\n",
    "# filtered_bus_df.head()"
   ]
  },
  {
   "cell_type": "code",
   "execution_count": 1,
   "metadata": {},
   "outputs": [],
   "source": [
    "import os\n",
    "import subprocess\n",
    "import shutil\n",
    "import sys\n",
    "import pandas as pd\n",
    "from varseek.utils import create_identity_t2g\n",
    "\n",
    "varseek_directory = os.path.dirname(os.path.abspath(\"\"))\n",
    "\n",
    "conda_env_path = os.path.dirname(os.path.dirname(shutil.which(\"kb\")))  # to get kb path\n",
    "operating_system = \"linux\" if sys.platform.startswith(\"linux\") else \"darwin/m1\"\n",
    "\n",
    "kallisto = f\"{conda_env_path}/lib/python3.10/site-packages/kb_python/bins/{operating_system}/kallisto/kallisto\"  # or kallisto_k64\n",
    "bustools = f\"{conda_env_path}/lib/python3.10/site-packages/kb_python/bins/{operating_system}/bustools/bustools\""
   ]
  },
  {
   "cell_type": "code",
   "execution_count": 2,
   "metadata": {},
   "outputs": [],
   "source": [
    "ref_fa = f\"{varseek_directory}/tests/kb_files/ref_test.fa\"\n",
    "read1_fq = f\"{varseek_directory}/tests/kb_files/reads1_test.fq\"\n",
    "read2_fq = f\"{varseek_directory}/tests/kb_files/reads2_test.fq\"\n",
    "test_index = f\"{varseek_directory}/tests/kb_files/index_test.idx\"\n",
    "test_t2g = f\"{varseek_directory}/tests/kb_files/t2g_test.txt\"\n",
    "kb_count_out_test = f\"{varseek_directory}/tests/kb_files/test_kb_count_out_March2025_with_num\"\n",
    "kb_count_out_test2 = f\"{varseek_directory}/tests/kb_files/test_kb_count_out_March2025_without_num\"\n",
    "\n",
    "rnaseq_fastq_files_final = [read1_fq, read2_fq]\n",
    "os.makedirs(kb_count_out_test, exist_ok=True)\n",
    "\n",
    "if not os.path.exists(test_index):\n",
    "    kb_ref_command = [\"kb\", \"ref\", \"--workflow\", \"custom\", \"-t\", str(8), \"-i\", test_index, \"--d-list\", \"None\", ref_fa]\n",
    "    subprocess.run(kb_ref_command, check=True)\n",
    "\n",
    "if not os.path.exists(test_t2g):\n",
    "    create_identity_t2g(ref_fa, test_t2g)\n",
    "\n",
    "if not os.path.exists(kb_count_out_test) or len(os.listdir(kb_count_out_test)) == 0:\n",
    "    kb_count_command = [\"kb\", \"count\", \"-t\", str(2), \"-i\", test_index, \"-g\", test_t2g, \"-x\", \"bulk\", \"--num\", \"--h5ad\", \"--parity\", \"single\", \"-o\", kb_count_out_test, \"--kallisto\", kallisto, \"--bustools\", bustools] + rnaseq_fastq_files_final\n",
    "    subprocess.run(kb_count_command, check=True)\n",
    "\n",
    "if not os.path.exists(kb_count_out_test2) or len(os.listdir(kb_count_out_test2)) == 0:\n",
    "    kb_count_command = [\"kb\", \"count\", \"-t\", str(2), \"-i\", test_index, \"-g\", test_t2g, \"-x\", \"bulk\", \"--h5ad\", \"--parity\", \"single\", \"-o\", kb_count_out_test2, \"--kallisto\", kallisto, \"--bustools\", bustools] + rnaseq_fastq_files_final\n",
    "    subprocess.run(kb_count_command, check=True)\n",
    "\n",
    "# kb_count_out_test = f\"{varseek_directory}/tests/kb_files/test_kb_count_out_paired\"\n",
    "# if not os.path.exists(kb_count_out_test) or len(os.listdir(kb_count_out_test)) == 0:\n",
    "#     kb_count_command = [\"kb\", \"count\", \"-t\", str(8), \"-i\", test_index, \"-g\", test_t2g, \"-x\", \"bulk\", \"--num\", \"--h5ad\", \"--parity\", \"paired\", \"-o\", kb_count_out_test] + rnaseq_fastq_files_final\n",
    "#     subprocess.run(kb_count_command, check=True)"
   ]
  },
  {
   "cell_type": "code",
   "execution_count": null,
   "metadata": {},
   "outputs": [],
   "source": [
    "bus_text_file = os.path.join(kb_count_out_test, \"bus_text.txt\")\n",
    "bus_file = os.path.join(kb_count_out_test, \"output.bus\")\n",
    "bustools_text_command = f\"{bustools} text -o {bus_text_file} -f {bus_file}\"\n",
    "subprocess.run(bustools_text_command, check=True, shell=True)\n",
    "\n",
    "bus_text_file = os.path.join(kb_count_out_test2, \"bus_text.txt\")\n",
    "bus_file = os.path.join(kb_count_out_test2, \"output.bus\")\n",
    "bustools_text_command = f\"{bustools} text -o {bus_text_file} -f {bus_file}\"\n",
    "subprocess.run(bustools_text_command, check=True, shell=True)"
   ]
  },
  {
   "cell_type": "code",
   "execution_count": null,
   "metadata": {},
   "outputs": [],
   "source": [
    "import importlib\n",
    "import varseek.utils.seq_utils\n",
    "importlib.reload(varseek.utils.varseek_clean_utils)\n",
    "from varseek.utils.varseek_clean_utils import make_bus_df\n",
    "bus_df = make_bus_df(kallisto_out = kb_count_out_test, fastq_file_list = rnaseq_fastq_files_final, t2g_file = test_t2g, mm = False, union = False, technology = \"bulk\", bustools = bustools)"
   ]
  },
  {
   "cell_type": "code",
   "execution_count": 5,
   "metadata": {},
   "outputs": [
    {
     "name": "stdout",
     "output_type": "stream",
     "text": [
      "loading in transcripts\n",
      "loading in barcodes\n",
      "loading in fastq headers\n",
      "loading in fastq headers\n",
      "loading in fastq headers\n",
      "loading in fastq headers\n",
      "loading in ec matrix\n",
      "loading in t2g df\n",
      "running bustools text\n",
      "loading in bus df\n",
      "merging ec df into bus df\n",
      "Apply the mapping function to create gene name columns\n",
      "added counted in matrix column\n",
      "saving bus df\n"
     ]
    },
    {
     "name": "stderr",
     "output_type": "stream",
     "text": [
      "Read in 12 BUS records\n"
     ]
    }
   ],
   "source": [
    "read1_sample2_fq = f\"{varseek_directory}/tests/kb_files/reads1_sample2_test.fq\"\n",
    "read2_sample2_fq = f\"{varseek_directory}/tests/kb_files/reads2_sample2_test.fq\"\n",
    "rnaseq_fastq_files_final = [read1_fq, read2_fq, read1_sample2_fq, read2_sample2_fq]\n",
    "\n",
    "kb_count_out_test_4_total_fastqs = f\"{varseek_directory}/tests/kb_files/test_kb_count_out_March2025_with_num_4_total_fastqs\"\n",
    "\n",
    "if not os.path.exists(kb_count_out_test_4_total_fastqs) or len(os.listdir(kb_count_out_test_4_total_fastqs)) == 0:\n",
    "    kb_count_command = [\"kb\", \"count\", \"-t\", str(2), \"-i\", test_index, \"-g\", test_t2g, \"-x\", \"bulk\", \"--num\", \"--h5ad\", \"--parity\", \"single\", \"-o\", kb_count_out_test_4_total_fastqs, \"--kallisto\", kallisto, \"--bustools\", bustools] + rnaseq_fastq_files_final\n",
    "    subprocess.run(kb_count_command, check=True)\n",
    "\n",
    "bus_text_file = os.path.join(kb_count_out_test_4_total_fastqs, \"bus_text.txt\")\n",
    "bus_file = os.path.join(kb_count_out_test_4_total_fastqs, \"output.bus\")\n",
    "bustools_text_command = f\"{bustools} text -o {bus_text_file} -f {bus_file}\"\n",
    "subprocess.run(bustools_text_command, check=True, shell=True)\n",
    "\n",
    "import importlib\n",
    "import varseek.utils.seq_utils\n",
    "importlib.reload(varseek.utils.varseek_clean_utils)\n",
    "from varseek.utils.varseek_clean_utils import make_bus_df\n",
    "bus_df = make_bus_df(kallisto_out = kb_count_out_test_4_total_fastqs, fastq_file_list = rnaseq_fastq_files_final, t2g_file = test_t2g, mm = False, union = False, technology = \"bulk\", bustools = bustools)"
   ]
  },
  {
   "cell_type": "code",
   "execution_count": 3,
   "metadata": {},
   "outputs": [],
   "source": [
    "read1_sample2_fq = f\"{varseek_directory}/tests/kb_files/reads1_sample2_test.fq\"\n",
    "read2_sample2_fq = f\"{varseek_directory}/tests/kb_files/reads2_sample2_test.fq\"\n",
    "rnaseq_fastq_files_final = [read1_fq, read2_fq, read1_sample2_fq, read2_sample2_fq]\n",
    "\n",
    "kb_count_out_test_4_total_fastqs_paired = f\"{varseek_directory}/tests/kb_files/test_kb_count_out_March2025_with_num_4_total_fastqs_paired2\"\n",
    "\n",
    "# if not os.path.exists(kb_count_out_test_4_total_fastqs_paired) or len(os.listdir(kb_count_out_test_4_total_fastqs_paired)) == 0:\n",
    "#     kb_count_command = [\"kb\", \"count\", \"-t\", str(2), \"-i\", test_index, \"-g\", test_t2g, \"-x\", \"bulk\", \"--num\", \"--h5ad\", \"--parity\", \"paired\", \"-o\", kb_count_out_test_4_total_fastqs_paired, \"--kallisto\", kallisto, \"--bustools\", bustools] + rnaseq_fastq_files_final\n",
    "#     subprocess.run(kb_count_command, check=True)\n",
    "\n",
    "# bus_text_file = os.path.join(kb_count_out_test_4_total_fastqs_paired, \"bus_text.txt\")\n",
    "# bus_file = os.path.join(kb_count_out_test_4_total_fastqs_paired, \"output.bus\")\n",
    "# bustools_text_command = f\"{bustools} text -o {bus_text_file} -f {bus_file}\"\n",
    "# subprocess.run(bustools_text_command, check=True, shell=True)\n",
    "\n",
    "# import importlib\n",
    "# import varseek.utils.seq_utils\n",
    "# importlib.reload(varseek.utils.varseek_clean_utils)\n",
    "# from varseek.utils.varseek_clean_utils import make_bus_df"
   ]
  },
  {
   "cell_type": "code",
   "execution_count": 18,
   "metadata": {},
   "outputs": [
    {
     "name": "stdout",
     "output_type": "stream",
     "text": [
      "File /Users/joeyrich/Desktop/local/varseek/tests/kb_files/reads1_test.fq does not match the expected bulk file naming convention of SAMPLE_PAIR.EXT where SAMPLE is sample name, PAIR is 1/2, and EXT is a fastq extension - or the Illumina file naming convention of SAMPLE_LANE_R[12]_001.fastq.gz, where SAMPLE is letters, numbers, underscores; LANE is numbers with optional leading 0s; pair is either R1 or R2; and it has .fq or .fastq extension (or .fq.gz or .fastq.gz).\n",
      "File /Users/joeyrich/Desktop/local/varseek/tests/kb_files/reads2_test.fq does not match the expected bulk file naming convention of SAMPLE_PAIR.EXT where SAMPLE is sample name, PAIR is 1/2, and EXT is a fastq extension - or the Illumina file naming convention of SAMPLE_LANE_R[12]_001.fastq.gz, where SAMPLE is letters, numbers, underscores; LANE is numbers with optional leading 0s; pair is either R1 or R2; and it has .fq or .fastq extension (or .fq.gz or .fastq.gz).\n",
      "File /Users/joeyrich/Desktop/local/varseek/tests/kb_files/reads1_sample2_test.fq does not match the expected bulk file naming convention of SAMPLE_PAIR.EXT where SAMPLE is sample name, PAIR is 1/2, and EXT is a fastq extension - or the Illumina file naming convention of SAMPLE_LANE_R[12]_001.fastq.gz, where SAMPLE is letters, numbers, underscores; LANE is numbers with optional leading 0s; pair is either R1 or R2; and it has .fq or .fastq extension (or .fq.gz or .fastq.gz).\n",
      "File /Users/joeyrich/Desktop/local/varseek/tests/kb_files/reads2_sample2_test.fq does not match the expected bulk file naming convention of SAMPLE_PAIR.EXT where SAMPLE is sample name, PAIR is 1/2, and EXT is a fastq extension - or the Illumina file naming convention of SAMPLE_LANE_R[12]_001.fastq.gz, where SAMPLE is letters, numbers, underscores; LANE is numbers with optional leading 0s; pair is either R1 or R2; and it has .fq or .fastq extension (or .fq.gz or .fastq.gz).\n",
      "Removing index files from fastq files list, as they are not utilized in kb count with technology bulk\n",
      "Error sorting fastq files: Invalid SRA-style FASTQ filename: /Users/joeyrich/Desktop/local/varseek/tests/kb_files/reads1_test.fq\n",
      "loading in transcripts\n",
      "loading in barcodes\n"
     ]
    },
    {
     "name": "stderr",
     "output_type": "stream",
     "text": [
      "Processing FASTQ headers: 3it [00:00, 2437.60it/s]\n",
      "Processing FASTQ headers: 3it [00:00, 24151.46it/s]\n",
      "Processing FASTQ headers: 3it [00:00, 7672.51it/s]\n",
      "Processing FASTQ headers: 3it [00:00, 31223.11it/s]\n"
     ]
    },
    {
     "name": "stdout",
     "output_type": "stream",
     "text": [
      "loading in ec matrix\n",
      "loading in t2g df\n",
      "loading in bus df\n",
      "Merging fastq header df and ec_df into bus df\n",
      "Apply the mapping function to create gene name columns\n"
     ]
    },
    {
     "name": "stderr",
     "output_type": "stream",
     "text": [
      "100%|██████████| 4/4 [00:00<00:00, 7906.32it/s]\n"
     ]
    },
    {
     "name": "stdout",
     "output_type": "stream",
     "text": [
      "Taking set of gene_names\n"
     ]
    },
    {
     "name": "stderr",
     "output_type": "stream",
     "text": [
      "100%|██████████| 4/4 [00:00<00:00, 8062.09it/s]\n"
     ]
    },
    {
     "name": "stdout",
     "output_type": "stream",
     "text": [
      "Determining what counts in count matrix\n"
     ]
    },
    {
     "name": "stderr",
     "output_type": "stream",
     "text": [
      "100%|██████████| 4/4 [00:00<00:00, 4450.19it/s]"
     ]
    },
    {
     "name": "stdout",
     "output_type": "stream",
     "text": [
      "Saving bus df as parquet\n"
     ]
    },
    {
     "name": "stderr",
     "output_type": "stream",
     "text": [
      "\n"
     ]
    }
   ],
   "source": [
    "import importlib\n",
    "import varseek.utils.seq_utils\n",
    "importlib.reload(varseek.utils.varseek_clean_utils)\n",
    "from varseek.utils.varseek_clean_utils import make_bus_df\n",
    "df = make_bus_df(kb_count_out=kb_count_out_test_4_total_fastqs_paired, fastq_file_list=rnaseq_fastq_files_final, t2g_file=test_t2g, mm=False, union=False, technology=\"bulk\", parity=\"paired\", bustools=bustools, check_only=True)"
   ]
  },
  {
   "cell_type": "code",
   "execution_count": null,
   "metadata": {},
   "outputs": [],
   "source": [
    "import varseek as vk\n",
    "vk.ref(\n",
    "    variants=\"cosmic\",\n",
    "    sequences=\"cdna\",\n",
    "    w=11\n",
    ")"
   ]
  },
  {
   "cell_type": "code",
   "execution_count": 2,
   "metadata": {},
   "outputs": [
    {
     "data": {
      "text/plain": [
       "44"
      ]
     },
     "execution_count": 2,
     "metadata": {},
     "output_type": "execute_result"
    }
   ],
   "source": [
    "len(\"ENST00000397121:c.1099_1100insCTTTCAACTCGTCC\")"
   ]
  }
 ],
 "metadata": {
  "kernelspec": {
   "display_name": "varseek",
   "language": "python",
   "name": "python3"
  },
  "language_info": {
   "codemirror_mode": {
    "name": "ipython",
    "version": 3
   },
   "file_extension": ".py",
   "mimetype": "text/x-python",
   "name": "python",
   "nbconvert_exporter": "python",
   "pygments_lexer": "ipython3",
   "version": "3.10.16"
  }
 },
 "nbformat": 4,
 "nbformat_minor": 2
}
