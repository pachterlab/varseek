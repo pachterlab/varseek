{
 "cells": [
  {
   "cell_type": "code",
   "execution_count": 11,
   "metadata": {},
   "outputs": [],
   "source": [
    "import pandas as pd\n",
    "first_chunk = True  # To ensure header is only written once\n",
    "for chunk in pd.read_csv(\"/Users/joeyrich/Desktop/local/varseek/trash/testing.csv\", chunksize=1):\n",
    "    chunk.to_csv(\"/Users/joeyrich/Desktop/local/varseek/trash/testing2.csv\", mode=\"w\" if first_chunk else \"a\", index=False, header=first_chunk)\n",
    "    first_chunk = False  # Ensure header is only written once"
   ]
  },
  {
   "cell_type": "code",
   "execution_count": 1,
   "metadata": {},
   "outputs": [],
   "source": [
    "import os\n",
    "import subprocess\n",
    "import shutil\n",
    "import sys\n",
    "import pandas as pd\n",
    "from varseek.utils import create_identity_t2g\n",
    "\n",
    "varseek_directory = os.path.dirname(os.path.abspath(\"\"))\n",
    "\n",
    "conda_env_path = os.path.dirname(os.path.dirname(shutil.which(\"kb\")))  # to get kb path\n",
    "operating_system = \"linux\" if sys.platform.startswith(\"linux\") else \"darwin/m1\"\n",
    "\n",
    "kallisto = f\"{conda_env_path}/lib/python3.10/site-packages/kb_python/bins/{operating_system}/kallisto/kallisto\"  # or kallisto_k64\n",
    "bustools = f\"{conda_env_path}/lib/python3.10/site-packages/kb_python/bins/{operating_system}/bustools/bustools\""
   ]
  },
  {
   "cell_type": "code",
   "execution_count": 2,
   "metadata": {},
   "outputs": [],
   "source": [
    "ref_fa = f\"{varseek_directory}/tests/kb_files/ref_test.fa\"\n",
    "read1_fq = f\"{varseek_directory}/tests/kb_files/reads1_test.fq\"\n",
    "read2_fq = f\"{varseek_directory}/tests/kb_files/reads2_test.fq\"\n",
    "test_index = f\"{varseek_directory}/tests/kb_files/index_test.idx\"\n",
    "test_t2g = f\"{varseek_directory}/tests/kb_files/t2g_test.txt\"\n",
    "kb_count_out_test = f\"{varseek_directory}/tests/kb_files/test_kb_count_out_March2025_with_num\"\n",
    "kb_count_out_test2 = f\"{varseek_directory}/tests/kb_files/test_kb_count_out_March2025_without_num\"\n",
    "\n",
    "rnaseq_fastq_files_final = [read1_fq, read2_fq]\n",
    "os.makedirs(kb_count_out_test, exist_ok=True)\n",
    "\n",
    "if not os.path.exists(test_index):\n",
    "    kb_ref_command = [\"kb\", \"ref\", \"--workflow\", \"custom\", \"-t\", str(8), \"-i\", test_index, \"--d-list\", \"None\", ref_fa]\n",
    "    subprocess.run(kb_ref_command, check=True)\n",
    "\n",
    "if not os.path.exists(test_t2g):\n",
    "    create_identity_t2g(ref_fa, test_t2g)\n",
    "\n",
    "if not os.path.exists(kb_count_out_test) or len(os.listdir(kb_count_out_test)) == 0:\n",
    "    kb_count_command = [\"kb\", \"count\", \"-t\", str(2), \"-i\", test_index, \"-g\", test_t2g, \"-x\", \"bulk\", \"--num\", \"--h5ad\", \"--parity\", \"single\", \"-o\", kb_count_out_test, \"--kallisto\", kallisto, \"--bustools\", bustools] + rnaseq_fastq_files_final\n",
    "    subprocess.run(kb_count_command, check=True)\n",
    "\n",
    "if not os.path.exists(kb_count_out_test2) or len(os.listdir(kb_count_out_test2)) == 0:\n",
    "    kb_count_command = [\"kb\", \"count\", \"-t\", str(2), \"-i\", test_index, \"-g\", test_t2g, \"-x\", \"bulk\", \"--h5ad\", \"--parity\", \"single\", \"-o\", kb_count_out_test2, \"--kallisto\", kallisto, \"--bustools\", bustools] + rnaseq_fastq_files_final\n",
    "    subprocess.run(kb_count_command, check=True)\n",
    "\n",
    "# kb_count_out_test = f\"{varseek_directory}/tests/kb_files/test_kb_count_out_paired\"\n",
    "# if not os.path.exists(kb_count_out_test) or len(os.listdir(kb_count_out_test)) == 0:\n",
    "#     kb_count_command = [\"kb\", \"count\", \"-t\", str(8), \"-i\", test_index, \"-g\", test_t2g, \"-x\", \"bulk\", \"--num\", \"--h5ad\", \"--parity\", \"paired\", \"-o\", kb_count_out_test] + rnaseq_fastq_files_final\n",
    "#     subprocess.run(kb_count_command, check=True)"
   ]
  },
  {
   "cell_type": "code",
   "execution_count": null,
   "metadata": {},
   "outputs": [],
   "source": [
    "bus_text_file = os.path.join(kb_count_out_test, \"bus_text.txt\")\n",
    "bus_file = os.path.join(kb_count_out_test, \"output.bus\")\n",
    "bustools_text_command = f\"{bustools} text -o {bus_text_file} -f {bus_file}\"\n",
    "subprocess.run(bustools_text_command, check=True, shell=True)\n",
    "\n",
    "bus_text_file = os.path.join(kb_count_out_test2, \"bus_text.txt\")\n",
    "bus_file = os.path.join(kb_count_out_test2, \"output.bus\")\n",
    "bustools_text_command = f\"{bustools} text -o {bus_text_file} -f {bus_file}\"\n",
    "subprocess.run(bustools_text_command, check=True, shell=True)"
   ]
  },
  {
   "cell_type": "code",
   "execution_count": null,
   "metadata": {},
   "outputs": [],
   "source": [
    "import importlib\n",
    "import varseek.utils.seq_utils\n",
    "importlib.reload(varseek.utils.varseek_clean_utils)\n",
    "from varseek.utils.varseek_clean_utils import make_bus_df\n",
    "bus_df = make_bus_df(kallisto_out = kb_count_out_test, fastq_file_list = rnaseq_fastq_files_final, t2g_file = test_t2g, mm = False, union = False, technology = \"bulk\", bustools = bustools)"
   ]
  },
  {
   "cell_type": "code",
   "execution_count": 5,
   "metadata": {},
   "outputs": [
    {
     "name": "stdout",
     "output_type": "stream",
     "text": [
      "loading in transcripts\n",
      "loading in barcodes\n",
      "loading in fastq headers\n",
      "loading in fastq headers\n",
      "loading in fastq headers\n",
      "loading in fastq headers\n",
      "loading in ec matrix\n",
      "loading in t2g df\n",
      "running bustools text\n",
      "loading in bus df\n",
      "merging ec df into bus df\n",
      "Apply the mapping function to create gene name columns\n",
      "added counted in matrix column\n",
      "saving bus df\n"
     ]
    },
    {
     "name": "stderr",
     "output_type": "stream",
     "text": [
      "Read in 12 BUS records\n"
     ]
    }
   ],
   "source": [
    "read1_sample2_fq = f\"{varseek_directory}/tests/kb_files/reads1_sample2_test.fq\"\n",
    "read2_sample2_fq = f\"{varseek_directory}/tests/kb_files/reads2_sample2_test.fq\"\n",
    "rnaseq_fastq_files_final = [read1_fq, read2_fq, read1_sample2_fq, read2_sample2_fq]\n",
    "\n",
    "kb_count_out_test_4_total_fastqs = f\"{varseek_directory}/tests/kb_files/test_kb_count_out_March2025_with_num_4_total_fastqs\"\n",
    "\n",
    "if not os.path.exists(kb_count_out_test_4_total_fastqs) or len(os.listdir(kb_count_out_test_4_total_fastqs)) == 0:\n",
    "    kb_count_command = [\"kb\", \"count\", \"-t\", str(2), \"-i\", test_index, \"-g\", test_t2g, \"-x\", \"bulk\", \"--num\", \"--h5ad\", \"--parity\", \"single\", \"-o\", kb_count_out_test_4_total_fastqs, \"--kallisto\", kallisto, \"--bustools\", bustools] + rnaseq_fastq_files_final\n",
    "    subprocess.run(kb_count_command, check=True)\n",
    "\n",
    "bus_text_file = os.path.join(kb_count_out_test_4_total_fastqs, \"bus_text.txt\")\n",
    "bus_file = os.path.join(kb_count_out_test_4_total_fastqs, \"output.bus\")\n",
    "bustools_text_command = f\"{bustools} text -o {bus_text_file} -f {bus_file}\"\n",
    "subprocess.run(bustools_text_command, check=True, shell=True)\n",
    "\n",
    "import importlib\n",
    "import varseek.utils.seq_utils\n",
    "importlib.reload(varseek.utils.varseek_clean_utils)\n",
    "from varseek.utils.varseek_clean_utils import make_bus_df\n",
    "bus_df = make_bus_df(kallisto_out = kb_count_out_test_4_total_fastqs, fastq_file_list = rnaseq_fastq_files_final, t2g_file = test_t2g, mm = False, union = False, technology = \"bulk\", bustools = bustools)"
   ]
  },
  {
   "cell_type": "code",
   "execution_count": 3,
   "metadata": {},
   "outputs": [],
   "source": [
    "read1_sample2_fq = f\"{varseek_directory}/tests/kb_files/reads1_sample2_test.fq\"\n",
    "read2_sample2_fq = f\"{varseek_directory}/tests/kb_files/reads2_sample2_test.fq\"\n",
    "rnaseq_fastq_files_final = [read1_fq, read2_fq, read1_sample2_fq, read2_sample2_fq]\n",
    "\n",
    "kb_count_out_test_4_total_fastqs_paired = f\"{varseek_directory}/tests/kb_files/test_kb_count_out_March2025_with_num_4_total_fastqs_paired2\"\n",
    "\n",
    "# if not os.path.exists(kb_count_out_test_4_total_fastqs_paired) or len(os.listdir(kb_count_out_test_4_total_fastqs_paired)) == 0:\n",
    "#     kb_count_command = [\"kb\", \"count\", \"-t\", str(2), \"-i\", test_index, \"-g\", test_t2g, \"-x\", \"bulk\", \"--num\", \"--h5ad\", \"--parity\", \"paired\", \"-o\", kb_count_out_test_4_total_fastqs_paired, \"--kallisto\", kallisto, \"--bustools\", bustools] + rnaseq_fastq_files_final\n",
    "#     subprocess.run(kb_count_command, check=True)\n",
    "\n",
    "# bus_text_file = os.path.join(kb_count_out_test_4_total_fastqs_paired, \"bus_text.txt\")\n",
    "# bus_file = os.path.join(kb_count_out_test_4_total_fastqs_paired, \"output.bus\")\n",
    "# bustools_text_command = f\"{bustools} text -o {bus_text_file} -f {bus_file}\"\n",
    "# subprocess.run(bustools_text_command, check=True, shell=True)\n",
    "\n",
    "# import importlib\n",
    "# import varseek.utils.seq_utils\n",
    "# importlib.reload(varseek.utils.varseek_clean_utils)\n",
    "# from varseek.utils.varseek_clean_utils import make_bus_df"
   ]
  },
  {
   "cell_type": "code",
   "execution_count": 18,
   "metadata": {},
   "outputs": [
    {
     "name": "stdout",
     "output_type": "stream",
     "text": [
      "File /Users/joeyrich/Desktop/local/varseek/tests/kb_files/reads1_test.fq does not match the expected bulk file naming convention of SAMPLE_PAIR.EXT where SAMPLE is sample name, PAIR is 1/2, and EXT is a fastq extension - or the Illumina file naming convention of SAMPLE_LANE_R[12]_001.fastq.gz, where SAMPLE is letters, numbers, underscores; LANE is numbers with optional leading 0s; pair is either R1 or R2; and it has .fq or .fastq extension (or .fq.gz or .fastq.gz).\n",
      "File /Users/joeyrich/Desktop/local/varseek/tests/kb_files/reads2_test.fq does not match the expected bulk file naming convention of SAMPLE_PAIR.EXT where SAMPLE is sample name, PAIR is 1/2, and EXT is a fastq extension - or the Illumina file naming convention of SAMPLE_LANE_R[12]_001.fastq.gz, where SAMPLE is letters, numbers, underscores; LANE is numbers with optional leading 0s; pair is either R1 or R2; and it has .fq or .fastq extension (or .fq.gz or .fastq.gz).\n",
      "File /Users/joeyrich/Desktop/local/varseek/tests/kb_files/reads1_sample2_test.fq does not match the expected bulk file naming convention of SAMPLE_PAIR.EXT where SAMPLE is sample name, PAIR is 1/2, and EXT is a fastq extension - or the Illumina file naming convention of SAMPLE_LANE_R[12]_001.fastq.gz, where SAMPLE is letters, numbers, underscores; LANE is numbers with optional leading 0s; pair is either R1 or R2; and it has .fq or .fastq extension (or .fq.gz or .fastq.gz).\n",
      "File /Users/joeyrich/Desktop/local/varseek/tests/kb_files/reads2_sample2_test.fq does not match the expected bulk file naming convention of SAMPLE_PAIR.EXT where SAMPLE is sample name, PAIR is 1/2, and EXT is a fastq extension - or the Illumina file naming convention of SAMPLE_LANE_R[12]_001.fastq.gz, where SAMPLE is letters, numbers, underscores; LANE is numbers with optional leading 0s; pair is either R1 or R2; and it has .fq or .fastq extension (or .fq.gz or .fastq.gz).\n",
      "Removing index files from fastq files list, as they are not utilized in kb count with technology bulk\n",
      "Error sorting fastq files: Invalid SRA-style FASTQ filename: /Users/joeyrich/Desktop/local/varseek/tests/kb_files/reads1_test.fq\n",
      "loading in transcripts\n",
      "loading in barcodes\n"
     ]
    },
    {
     "name": "stderr",
     "output_type": "stream",
     "text": [
      "Processing FASTQ headers: 3it [00:00, 2437.60it/s]\n",
      "Processing FASTQ headers: 3it [00:00, 24151.46it/s]\n",
      "Processing FASTQ headers: 3it [00:00, 7672.51it/s]\n",
      "Processing FASTQ headers: 3it [00:00, 31223.11it/s]\n"
     ]
    },
    {
     "name": "stdout",
     "output_type": "stream",
     "text": [
      "loading in ec matrix\n",
      "loading in t2g df\n",
      "loading in bus df\n",
      "Merging fastq header df and ec_df into bus df\n",
      "Apply the mapping function to create gene name columns\n"
     ]
    },
    {
     "name": "stderr",
     "output_type": "stream",
     "text": [
      "100%|██████████| 4/4 [00:00<00:00, 7906.32it/s]\n"
     ]
    },
    {
     "name": "stdout",
     "output_type": "stream",
     "text": [
      "Taking set of gene_names\n"
     ]
    },
    {
     "name": "stderr",
     "output_type": "stream",
     "text": [
      "100%|██████████| 4/4 [00:00<00:00, 8062.09it/s]\n"
     ]
    },
    {
     "name": "stdout",
     "output_type": "stream",
     "text": [
      "Determining what counts in count matrix\n"
     ]
    },
    {
     "name": "stderr",
     "output_type": "stream",
     "text": [
      "100%|██████████| 4/4 [00:00<00:00, 4450.19it/s]"
     ]
    },
    {
     "name": "stdout",
     "output_type": "stream",
     "text": [
      "Saving bus df as parquet\n"
     ]
    },
    {
     "name": "stderr",
     "output_type": "stream",
     "text": [
      "\n"
     ]
    }
   ],
   "source": [
    "import importlib\n",
    "import varseek.utils.seq_utils\n",
    "importlib.reload(varseek.utils.varseek_clean_utils)\n",
    "from varseek.utils.varseek_clean_utils import make_bus_df\n",
    "df = make_bus_df(kb_count_out=kb_count_out_test_4_total_fastqs_paired, fastq_file_list=rnaseq_fastq_files_final, t2g_file=test_t2g, mm=False, union=False, technology=\"bulk\", parity=\"paired\", bustools=bustools, check_only=True)"
   ]
  },
  {
   "cell_type": "code",
   "execution_count": 1,
   "metadata": {},
   "outputs": [
    {
     "ename": "ValueError",
     "evalue": "sequences must be a nucleotide string, a list of nucleotide strings, a path to a reference genome, or a string specifying a reference genome supported by varseek. Got cdna of type <class 'str'>.\nTo see a list of supported variant databases and reference genomes, please use the 'list_supported_databases' flag/argument.",
     "output_type": "error",
     "traceback": [
      "\u001b[0;31m---------------------------------------------------------------------------\u001b[0m",
      "\u001b[0;31mValueError\u001b[0m                                Traceback (most recent call last)",
      "Cell \u001b[0;32mIn[1], line 2\u001b[0m\n\u001b[1;32m      1\u001b[0m \u001b[38;5;28;01mimport\u001b[39;00m\u001b[38;5;250m \u001b[39m\u001b[38;5;21;01mvarseek\u001b[39;00m\u001b[38;5;250m \u001b[39m\u001b[38;5;28;01mas\u001b[39;00m\u001b[38;5;250m \u001b[39m\u001b[38;5;21;01mvk\u001b[39;00m\n\u001b[0;32m----> 2\u001b[0m \u001b[43mvk\u001b[49m\u001b[38;5;241;43m.\u001b[39;49m\u001b[43mref\u001b[49m\u001b[43m(\u001b[49m\n\u001b[1;32m      3\u001b[0m \u001b[43m    \u001b[49m\u001b[43mvariants\u001b[49m\u001b[38;5;241;43m=\u001b[39;49m\u001b[38;5;124;43m\"\u001b[39;49m\u001b[38;5;124;43mcosmic\u001b[39;49m\u001b[38;5;124;43m\"\u001b[39;49m\u001b[43m,\u001b[49m\n\u001b[1;32m      4\u001b[0m \u001b[43m    \u001b[49m\u001b[43msequences\u001b[49m\u001b[38;5;241;43m=\u001b[39;49m\u001b[38;5;124;43m\"\u001b[39;49m\u001b[38;5;124;43mcdna\u001b[39;49m\u001b[38;5;124;43m\"\u001b[39;49m\u001b[43m,\u001b[49m\n\u001b[1;32m      5\u001b[0m \u001b[43m    \u001b[49m\u001b[43mw\u001b[49m\u001b[38;5;241;43m=\u001b[39;49m\u001b[38;5;241;43m11\u001b[39;49m\n\u001b[1;32m      6\u001b[0m \u001b[43m)\u001b[49m\n",
      "File \u001b[0;32m~/Desktop/local/varseek/varseek/utils/logger_utils.py:213\u001b[0m, in \u001b[0;36mreport_time_elapsed.<locals>.wrapper\u001b[0;34m(*args, **kwargs)\u001b[0m\n\u001b[1;32m    210\u001b[0m \u001b[38;5;129m@functools\u001b[39m\u001b[38;5;241m.\u001b[39mwraps(func)  \u001b[38;5;66;03m# ✅ Preserves original function metadata\u001b[39;00m\n\u001b[1;32m    211\u001b[0m \u001b[38;5;28;01mdef\u001b[39;00m\u001b[38;5;250m \u001b[39m\u001b[38;5;21mwrapper\u001b[39m(\u001b[38;5;241m*\u001b[39margs, \u001b[38;5;241m*\u001b[39m\u001b[38;5;241m*\u001b[39mkwargs):\n\u001b[1;32m    212\u001b[0m     start_time \u001b[38;5;241m=\u001b[39m time\u001b[38;5;241m.\u001b[39mperf_counter()\n\u001b[0;32m--> 213\u001b[0m     result \u001b[38;5;241m=\u001b[39m \u001b[43mfunc\u001b[49m\u001b[43m(\u001b[49m\u001b[38;5;241;43m*\u001b[39;49m\u001b[43margs\u001b[49m\u001b[43m,\u001b[49m\u001b[43m \u001b[49m\u001b[38;5;241;43m*\u001b[39;49m\u001b[38;5;241;43m*\u001b[39;49m\u001b[43mkwargs\u001b[49m\u001b[43m)\u001b[49m\n\u001b[1;32m    214\u001b[0m     elapsed_time \u001b[38;5;241m=\u001b[39m time\u001b[38;5;241m.\u001b[39mperf_counter() \u001b[38;5;241m-\u001b[39m start_time\n\u001b[1;32m    215\u001b[0m     time_elapsed_message \u001b[38;5;241m=\u001b[39m \u001b[38;5;124mf\u001b[39m\u001b[38;5;124m\"\u001b[39m\u001b[38;5;124mTotal runtime for vk \u001b[39m\u001b[38;5;132;01m{\u001b[39;00mfunc\u001b[38;5;241m.\u001b[39m\u001b[38;5;18m__name__\u001b[39m\u001b[38;5;132;01m}\u001b[39;00m\u001b[38;5;124m: \u001b[39m\u001b[38;5;132;01m{\u001b[39;00m\u001b[38;5;28mint\u001b[39m(elapsed_time\u001b[38;5;250m \u001b[39m\u001b[38;5;241m/\u001b[39m\u001b[38;5;241m/\u001b[39m\u001b[38;5;250m \u001b[39m\u001b[38;5;241m60\u001b[39m)\u001b[38;5;132;01m}\u001b[39;00m\u001b[38;5;124mm, \u001b[39m\u001b[38;5;132;01m{\u001b[39;00melapsed_time\u001b[38;5;250m \u001b[39m\u001b[38;5;241m%\u001b[39m\u001b[38;5;250m \u001b[39m\u001b[38;5;241m60\u001b[39m\u001b[38;5;132;01m:\u001b[39;00m\u001b[38;5;124m.2f\u001b[39m\u001b[38;5;132;01m}\u001b[39;00m\u001b[38;5;124ms\u001b[39m\u001b[38;5;124m\"\u001b[39m\n",
      "File \u001b[0;32m~/Desktop/local/varseek/varseek/varseek_ref.py:257\u001b[0m, in \u001b[0;36mref\u001b[0;34m(variants, sequences, w, k, filters, dlist, dlist_reference_source, dlist_reference_ensembl_release, var_column, seq_id_column, var_id_column, out, reference_out_dir, index_out, t2g_out, fasta_out, download, dry_run, list_downloadable_references, minimum_info_columns, overwrite, threads, logging_level, save_logs, log_out_dir, verbose, **kwargs)\u001b[0m\n\u001b[1;32m    254\u001b[0m             params_dict[key] \u001b[38;5;241m=\u001b[39m signature\u001b[38;5;241m.\u001b[39mparameters[key]\u001b[38;5;241m.\u001b[39mdefault\n\u001b[1;32m    256\u001b[0m \u001b[38;5;28;01mif\u001b[39;00m \u001b[38;5;129;01mnot\u001b[39;00m download:  \u001b[38;5;66;03m# skip when downloading, as I don't need all of these functions to run normally\u001b[39;00m\n\u001b[0;32m--> 257\u001b[0m     \u001b[43mvk\u001b[49m\u001b[38;5;241;43m.\u001b[39;49m\u001b[43mvarseek_build\u001b[49m\u001b[38;5;241;43m.\u001b[39;49m\u001b[43mvalidate_input_build\u001b[49m\u001b[43m(\u001b[49m\u001b[43mparams_dict\u001b[49m\u001b[43m)\u001b[49m  \u001b[38;5;66;03m# this passes all vk ref parameters to the function - I could only pass in the vk build parameters here if desired (and likewise below), but there should be no naming conflicts anyways\u001b[39;00m\n\u001b[1;32m    258\u001b[0m     vk\u001b[38;5;241m.\u001b[39mvarseek_info\u001b[38;5;241m.\u001b[39mvalidate_input_info(params_dict)\n\u001b[1;32m    259\u001b[0m     vk\u001b[38;5;241m.\u001b[39mvarseek_filter\u001b[38;5;241m.\u001b[39mvalidate_input_filter(params_dict)\n",
      "File \u001b[0;32m~/Desktop/local/varseek/varseek/varseek_build.py:202\u001b[0m, in \u001b[0;36mvalidate_input_build\u001b[0;34m(params_dict)\u001b[0m\n\u001b[1;32m    200\u001b[0m         \u001b[38;5;28;01mpass\u001b[39;00m\n\u001b[1;32m    201\u001b[0m     \u001b[38;5;28;01melse\u001b[39;00m:\n\u001b[0;32m--> 202\u001b[0m         \u001b[38;5;28;01mraise\u001b[39;00m \u001b[38;5;167;01mValueError\u001b[39;00m(\u001b[38;5;124mf\u001b[39m\u001b[38;5;124m\"\u001b[39m\u001b[38;5;124msequences must be a nucleotide string, a list of nucleotide strings, a path to a reference genome, or a string specifying a reference genome supported by varseek. Got \u001b[39m\u001b[38;5;132;01m{\u001b[39;00msequences\u001b[38;5;132;01m}\u001b[39;00m\u001b[38;5;124m of type \u001b[39m\u001b[38;5;132;01m{\u001b[39;00m\u001b[38;5;28mtype\u001b[39m(sequences)\u001b[38;5;132;01m}\u001b[39;00m\u001b[38;5;124m.\u001b[39m\u001b[38;5;130;01m\\n\u001b[39;00m\u001b[38;5;124mTo see a list of supported variant databases and reference genomes, please use the \u001b[39m\u001b[38;5;124m'\u001b[39m\u001b[38;5;124mlist_supported_databases\u001b[39m\u001b[38;5;124m'\u001b[39m\u001b[38;5;124m flag/argument.\u001b[39m\u001b[38;5;124m\"\u001b[39m)\n\u001b[1;32m    204\u001b[0m \u001b[38;5;66;03m# mutations\u001b[39;00m\n\u001b[1;32m    205\u001b[0m \u001b[38;5;28;01mif\u001b[39;00m \u001b[38;5;129;01mnot\u001b[39;00m \u001b[38;5;28misinstance\u001b[39m(mutations, (\u001b[38;5;28mlist\u001b[39m, \u001b[38;5;28mtuple\u001b[39m, \u001b[38;5;28mstr\u001b[39m, Path, pd\u001b[38;5;241m.\u001b[39mDataFrame)):\n",
      "\u001b[0;31mValueError\u001b[0m: sequences must be a nucleotide string, a list of nucleotide strings, a path to a reference genome, or a string specifying a reference genome supported by varseek. Got cdna of type <class 'str'>.\nTo see a list of supported variant databases and reference genomes, please use the 'list_supported_databases' flag/argument."
     ]
    }
   ],
   "source": [
    "import varseek as vk\n",
    "vk.ref(\n",
    "    variants=\"cosmic\",\n",
    "    sequences=\"cdna\",\n",
    "    w=11\n",
    ")"
   ]
  },
  {
   "cell_type": "code",
   "execution_count": 2,
   "metadata": {},
   "outputs": [
    {
     "data": {
      "text/plain": [
       "44"
      ]
     },
     "execution_count": 2,
     "metadata": {},
     "output_type": "execute_result"
    }
   ],
   "source": [
    "len(\"ENST00000397121:c.1099_1100insCTTTCAACTCGTCC\")"
   ]
  }
 ],
 "metadata": {
  "kernelspec": {
   "display_name": "varseek",
   "language": "python",
   "name": "python3"
  },
  "language_info": {
   "codemirror_mode": {
    "name": "ipython",
    "version": 3
   },
   "file_extension": ".py",
   "mimetype": "text/x-python",
   "name": "python",
   "nbconvert_exporter": "python",
   "pygments_lexer": "ipython3",
   "version": "3.10.16"
  }
 },
 "nbformat": 4,
 "nbformat_minor": 2
}
