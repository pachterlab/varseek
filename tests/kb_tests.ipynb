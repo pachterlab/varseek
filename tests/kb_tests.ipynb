{
 "cells": [
  {
   "cell_type": "code",
   "execution_count": 6,
   "metadata": {},
   "outputs": [],
   "source": [
    "import os\n",
    "import subprocess\n",
    "import shutil\n",
    "import sys\n",
    "from varseek.utils import create_identity_t2g\n",
    "\n",
    "varseek_directory = os.path.dirname(os.path.abspath(\"\"))\n",
    "\n",
    "conda_env_path = os.path.dirname(os.path.dirname(shutil.which(\"kb\")))  # to get kb path\n",
    "operating_system = \"linux\" if sys.platform.startswith(\"linux\") else \"darwin/m1\"\n",
    "\n",
    "kallisto = f\"{conda_env_path}/lib/python3.10/site-packages/kb_python/bins/{operating_system}/kallisto/kallisto\"  # or kallisto_k64\n",
    "bustools = f\"{conda_env_path}/lib/python3.10/site-packages/kb_python/bins/{operating_system}/bustools/bustools\""
   ]
  },
  {
   "cell_type": "code",
   "execution_count": 9,
   "metadata": {},
   "outputs": [
    {
     "name": "stderr",
     "output_type": "stream",
     "text": [
      "[2025-02-28 01:12:50,949]    INFO [count] Using index /Users/joeyrich/Desktop/local/varseek/tests/kb_files/index_test.idx to generate BUS file to /Users/joeyrich/Desktop/local/varseek/tests/kb_files/test_kb_count_out_March2025_with_num from\n",
      "[2025-02-28 01:12:50,950]    INFO [count]         /Users/joeyrich/Desktop/local/varseek/tests/kb_files/reads1_test.fq\n",
      "[2025-02-28 01:12:50,950]    INFO [count]         /Users/joeyrich/Desktop/local/varseek/tests/kb_files/reads2_test.fq\n",
      "[2025-02-28 01:12:52,065]    INFO [count] Sorting BUS file /Users/joeyrich/Desktop/local/varseek/tests/kb_files/test_kb_count_out_March2025_with_num/output.bus to /Users/joeyrich/Desktop/local/varseek/tests/kb_files/test_kb_count_out_March2025_with_num/tmp/output.s.bus\n",
      "[2025-02-28 01:12:53,693]    INFO [count] Inspecting BUS file /Users/joeyrich/Desktop/local/varseek/tests/kb_files/test_kb_count_out_March2025_with_num/tmp/output.s.bus\n",
      "[2025-02-28 01:12:54,807]    INFO [count] Generating count matrix /Users/joeyrich/Desktop/local/varseek/tests/kb_files/test_kb_count_out_March2025_with_num/counts_unfiltered/cells_x_genes from BUS file /Users/joeyrich/Desktop/local/varseek/tests/kb_files/test_kb_count_out_March2025_with_num/tmp/output.s.bus\n",
      "[2025-02-28 01:12:55,930]    INFO [count] Writing gene names to file /Users/joeyrich/Desktop/local/varseek/tests/kb_files/test_kb_count_out_March2025_with_num/counts_unfiltered/cells_x_genes.genes.names.txt\n",
      "[2025-02-28 01:12:55,930] WARNING [count] 3 gene IDs do not have corresponding valid gene names. These genes will use their gene IDs instead.\n",
      "[2025-02-28 01:12:55,931]    INFO [count] Reading matrix /Users/joeyrich/Desktop/local/varseek/tests/kb_files/test_kb_count_out_March2025_with_num/counts_unfiltered/cells_x_genes.mtx\n",
      "[2025-02-28 01:12:55,938]    INFO [count] Writing matrix to h5ad /Users/joeyrich/Desktop/local/varseek/tests/kb_files/test_kb_count_out_March2025_with_num/counts_unfiltered/adata.h5ad\n",
      "[2025-02-28 01:13:01,299]    INFO [count] Using index /Users/joeyrich/Desktop/local/varseek/tests/kb_files/index_test.idx to generate BUS file to /Users/joeyrich/Desktop/local/varseek/tests/kb_files/test_kb_count_out_March2025_without_num from\n",
      "[2025-02-28 01:13:01,299]    INFO [count]         /Users/joeyrich/Desktop/local/varseek/tests/kb_files/reads1_test.fq\n",
      "[2025-02-28 01:13:01,299]    INFO [count]         /Users/joeyrich/Desktop/local/varseek/tests/kb_files/reads2_test.fq\n",
      "[2025-02-28 01:13:02,414]    INFO [count] Sorting BUS file /Users/joeyrich/Desktop/local/varseek/tests/kb_files/test_kb_count_out_March2025_without_num/output.bus to /Users/joeyrich/Desktop/local/varseek/tests/kb_files/test_kb_count_out_March2025_without_num/tmp/output.s.bus\n",
      "[2025-02-28 01:13:04,041]    INFO [count] Inspecting BUS file /Users/joeyrich/Desktop/local/varseek/tests/kb_files/test_kb_count_out_March2025_without_num/tmp/output.s.bus\n",
      "[2025-02-28 01:13:05,157]    INFO [count] Generating count matrix /Users/joeyrich/Desktop/local/varseek/tests/kb_files/test_kb_count_out_March2025_without_num/counts_unfiltered/cells_x_genes from BUS file /Users/joeyrich/Desktop/local/varseek/tests/kb_files/test_kb_count_out_March2025_without_num/tmp/output.s.bus\n",
      "[2025-02-28 01:13:06,276]    INFO [count] Writing gene names to file /Users/joeyrich/Desktop/local/varseek/tests/kb_files/test_kb_count_out_March2025_without_num/counts_unfiltered/cells_x_genes.genes.names.txt\n",
      "[2025-02-28 01:13:06,277] WARNING [count] 3 gene IDs do not have corresponding valid gene names. These genes will use their gene IDs instead.\n",
      "[2025-02-28 01:13:06,277]    INFO [count] Reading matrix /Users/joeyrich/Desktop/local/varseek/tests/kb_files/test_kb_count_out_March2025_without_num/counts_unfiltered/cells_x_genes.mtx\n",
      "[2025-02-28 01:13:06,284]    INFO [count] Writing matrix to h5ad /Users/joeyrich/Desktop/local/varseek/tests/kb_files/test_kb_count_out_March2025_without_num/counts_unfiltered/adata.h5ad\n"
     ]
    }
   ],
   "source": [
    "ref_fa = f\"{varseek_directory}/tests/kb_files/ref_test.fa\"\n",
    "read1_fq = f\"{varseek_directory}/tests/kb_files/reads1_test.fq\"\n",
    "read2_fq = f\"{varseek_directory}/tests/kb_files/reads2_test.fq\"\n",
    "test_index = f\"{varseek_directory}/tests/kb_files/index_test.idx\"\n",
    "test_t2g = f\"{varseek_directory}/tests/kb_files/t2g_test.txt\"\n",
    "kb_count_out_test = f\"{varseek_directory}/tests/kb_files/test_kb_count_out_March2025_with_num\"\n",
    "kb_count_out_test2 = f\"{varseek_directory}/tests/kb_files/test_kb_count_out_March2025_without_num\"\n",
    "\n",
    "rnaseq_fastq_files_final = [read1_fq, read2_fq]\n",
    "os.makedirs(kb_count_out_test, exist_ok=True)\n",
    "\n",
    "if not os.path.exists(test_index):\n",
    "    kb_ref_command = [\"kb\", \"ref\", \"--workflow\", \"custom\", \"-t\", str(8), \"-i\", test_index, \"--d-list\", \"None\", ref_fa]\n",
    "    subprocess.run(kb_ref_command, check=True)\n",
    "\n",
    "if not os.path.exists(test_t2g):\n",
    "    create_identity_t2g(ref_fa, test_t2g)\n",
    "\n",
    "if not os.path.exists(kb_count_out_test) or len(os.listdir(kb_count_out_test)) == 0:\n",
    "    kb_count_command = [\"kb\", \"count\", \"-t\", str(2), \"-i\", test_index, \"-g\", test_t2g, \"-x\", \"bulk\", \"--num\", \"--h5ad\", \"--parity\", \"single\", \"-o\", kb_count_out_test, \"--kallisto\", kallisto, \"--bustools\", bustools] + rnaseq_fastq_files_final\n",
    "    subprocess.run(kb_count_command, check=True)\n",
    "\n",
    "if not os.path.exists(kb_count_out_test2) or len(os.listdir(kb_count_out_test2)) == 0:\n",
    "    kb_count_command = [\"kb\", \"count\", \"-t\", str(2), \"-i\", test_index, \"-g\", test_t2g, \"-x\", \"bulk\", \"--h5ad\", \"--parity\", \"single\", \"-o\", kb_count_out_test2, \"--kallisto\", kallisto, \"--bustools\", bustools] + rnaseq_fastq_files_final\n",
    "    subprocess.run(kb_count_command, check=True)\n",
    "\n",
    "# kb_count_out_test = f\"{varseek_directory}/tests/kb_files/test_kb_count_out_paired\"\n",
    "# if not os.path.exists(kb_count_out_test) or len(os.listdir(kb_count_out_test)) == 0:\n",
    "#     kb_count_command = [\"kb\", \"count\", \"-t\", str(8), \"-i\", test_index, \"-g\", test_t2g, \"-x\", \"bulk\", \"--num\", \"--h5ad\", \"--parity\", \"paired\", \"-o\", kb_count_out_test] + rnaseq_fastq_files_final\n",
    "#     subprocess.run(kb_count_command, check=True)"
   ]
  },
  {
   "cell_type": "code",
   "execution_count": 10,
   "metadata": {},
   "outputs": [
    {
     "name": "stderr",
     "output_type": "stream",
     "text": [
      "Read in 6 BUS records\n",
      "Read in 6 BUS records\n"
     ]
    },
    {
     "data": {
      "text/plain": [
       "CompletedProcess(args='/Users/joeyrich/miniconda3/envs/varseek/lib/python3.10/site-packages/kb_python/bins/darwin/m1/bustools/bustools text -o /Users/joeyrich/Desktop/local/varseek/tests/kb_files/test_kb_count_out_March2025_without_num/bus_text.txt -f /Users/joeyrich/Desktop/local/varseek/tests/kb_files/test_kb_count_out_March2025_without_num/output.bus', returncode=0)"
      ]
     },
     "execution_count": 10,
     "metadata": {},
     "output_type": "execute_result"
    }
   ],
   "source": [
    "bus_text_file = os.path.join(kb_count_out_test, \"bus_text.txt\")\n",
    "bus_file = os.path.join(kb_count_out_test, \"output.bus\")\n",
    "bustools_text_command = f\"{bustools} text -o {bus_text_file} -f {bus_file}\"\n",
    "subprocess.run(bustools_text_command, check=True, shell=True)\n",
    "\n",
    "bus_text_file = os.path.join(kb_count_out_test2, \"bus_text.txt\")\n",
    "bus_file = os.path.join(kb_count_out_test2, \"output.bus\")\n",
    "bustools_text_command = f\"{bustools} text -o {bus_text_file} -f {bus_file}\"\n",
    "subprocess.run(bustools_text_command, check=True, shell=True)"
   ]
  },
  {
   "cell_type": "code",
   "execution_count": null,
   "metadata": {},
   "outputs": [],
   "source": [
    "import importlib\n",
    "import varseek.utils.seq_utils\n",
    "importlib.reload(varseek.utils.seq_utils)\n",
    "from varseek.utils.seq_utils import make_bus_df\n",
    "bus_df = make_bus_df(kallisto_out = kb_count_out_test, fastq_file_list = rnaseq_fastq_files_final, t2g_file = test_t2g, mm = False, union = False, technology = \"bulk\", bustools = bustools)"
   ]
  }
 ],
 "metadata": {
  "kernelspec": {
   "display_name": "varseek",
   "language": "python",
   "name": "python3"
  },
  "language_info": {
   "codemirror_mode": {
    "name": "ipython",
    "version": 3
   },
   "file_extension": ".py",
   "mimetype": "text/x-python",
   "name": "python",
   "nbconvert_exporter": "python",
   "pygments_lexer": "ipython3",
   "version": "3.10.16"
  }
 },
 "nbformat": 4,
 "nbformat_minor": 2
}
