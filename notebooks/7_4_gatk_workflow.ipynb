{
 "cells": [
  {
   "cell_type": "markdown",
   "metadata": {},
   "source": [
    "Workflow followed according to: https://gatk.broadinstitute.org/hc/en-us/articles/360035531192-RNAseq-short-variant-discovery-SNPs-Indels\n",
    "\n",
    "Github workflow for GATK4 here: https://github.com/gatk-workflows/gatk4-rnaseq-germline-snps-indels/blob/master/gatk4-rna-best-practices.wdl"
   ]
  },
  {
   "cell_type": "code",
   "execution_count": null,
   "metadata": {},
   "outputs": [],
   "source": [
    "import os\n",
    "import pysam\n",
    "import pandas as pd\n",
    "from tqdm import tqdm\n",
    "from varseek.utils import calculate_metrics, draw_confusion_matrix, create_venn_diagram, calculate_sensitivity_specificity, create_stratified_metric_bar_plot, add_vcf_info_to_cosmic_tsv, merge_gatk_and_cosmic"
   ]
  },
  {
   "cell_type": "code",
   "execution_count": 15,
   "metadata": {},
   "outputs": [],
   "source": [
    "import random\n",
    "\n",
    "def generate_random_fastq(output_path, num_sequences=5000, seq_length=150, quality_score=\"I\"):\n",
    "    if not os.path.exists(output_path):\n",
    "        if not os.path.exists(os.path.dirname(output_path)):\n",
    "            os.makedirs(os.path.dirname(output_path))\n",
    "        bases = ['A', 'C', 'G', 'T']\n",
    "        with open(output_path, \"w\") as fastq_file:\n",
    "            for i in range(num_sequences):\n",
    "                # Generate a random sequence of the specified length\n",
    "                sequence = ''.join(random.choices(bases, k=seq_length))\n",
    "                \n",
    "                # Create a quality string of the same length, filled with the specified quality score\n",
    "                quality = quality_score * seq_length\n",
    "                \n",
    "                # Write the FASTQ entry\n",
    "                fastq_file.write(f\"@seq_{i + 1}\\n\")\n",
    "                fastq_file.write(f\"{sequence}\\n\")\n",
    "                fastq_file.write(\"+\\n\")\n",
    "                fastq_file.write(f\"{quality}\\n\")"
   ]
  },
  {
   "cell_type": "code",
   "execution_count": 16,
   "metadata": {},
   "outputs": [],
   "source": [
    "synthetic_read_fastq = \"/home/jrich/data/varseek_data_fresh/manuscript_worthy/vk_sim_2024nov24_200mcrs_k59_nov16/synthetic_reads.fq\"  #!!! update path\n",
    "unique_mcrs_df_path = \"/home/jrich/data/varseek_data_fresh/manuscript_worthy/vk_sim_2024nov24_200mcrs_k59_nov16/unique_mcrs_df.csv\"  #!!! update path\n",
    "gatk_parent = \"/home/jrich/data/varseek_data/gatk_nov17\"  #!!! update for each run\n",
    "# generate_random_fastq(synthetic_read_fastq)\n",
    "\n",
    "threads = 32\n",
    "read_length = 150\n",
    "mutation_source = \"cdna\"  # \"cdna\", \"cds\"\n",
    "\n",
    "cosmic_tsv = \"/home/jrich/data/varseek_data/reference/cosmic/CancerMutationCensus_AllData_Tsv_v100_GRCh37/CancerMutationCensus_AllData_v100_GRCh37.tsv\"\n",
    "cosmic_cdna_info_csv = \"/home/jrich/data/varseek_data/reference/cosmic/CancerMutationCensus_AllData_Tsv_v100_GRCh37/CancerMutationCensus_AllData_v100_GRCh37_mutation_workflow_with_cdna.csv\"\n",
    "\n",
    "# if these paths don't exist then they will be created\n",
    "reference_genome_fasta = \"/home/jrich/data/varseek_data/reference/ensembl_grch37_release93/Homo_sapiens.GRCh37.dna.primary_assembly.fa\"\n",
    "reference_genome_gtf = \"/home/jrich/data/varseek_data/reference/ensembl_grch37_release93/Homo_sapiens.GRCh37.87.gtf\"\n",
    "genomes1000_vcf = \"/home/jrich/data/varseek_data/reference/ensembl_grch37_release93/1000GENOMES-phase_3.vcf\"\n",
    "ensembl_germline_vcf = \"/home/jrich/data/varseek_data/reference/ensembl_grch37_release93/homo_sapiens.vcf\"\n",
    "star_genome_dir = \"/home/jrich/data/varseek_data/reference/ensembl_grch37_release93/star_reference\"\n",
    "\n",
    "STAR = \"/home/jrich/opt/STAR-2.7.11b/source/STAR\"\n",
    "java = \"/home/jrich/opt/java/jdk-17.0.12+7/bin/java\"\n",
    "picard_jar = \"/home/jrich/opt/picard/build/libs/picard.jar\"\n",
    "gatk = \"/home/jrich/opt/gatk-4.6.0.0/gatk\""
   ]
  },
  {
   "cell_type": "code",
   "execution_count": null,
   "metadata": {},
   "outputs": [],
   "source": [
    "java_home = os.path.dirname(os.path.dirname(java))\n",
    "\n",
    "os.environ['JAVA_HOME'] = java_home\n",
    "os.environ['PATH'] = f\"{os.environ['JAVA_HOME']}/bin:\" + os.environ['PATH']\n",
    "\n",
    "os.makedirs(star_genome_dir, exist_ok=True)\n",
    "\n",
    "alignment_folder = f\"{gatk_parent}/alignment\"\n",
    "os.makedirs(alignment_folder, exist_ok=True)\n",
    "\n",
    "gatk_supporting_files = f\"{gatk_parent}/supporting_files\"\n",
    "os.makedirs(gatk_supporting_files, exist_ok=True)\n",
    "\n",
    "plot_output_folder = f\"{gatk_parent}/plots\"\n",
    "os.makedirs(plot_output_folder, exist_ok=True)\n",
    "\n",
    "ensembl_germline_vcf_filtered = ensembl_germline_vcf.replace(\".vcf\", \"_filtered.vcf\")\n",
    "\n",
    "out_file_name_prefix = f\"{alignment_folder}/sample_\"\n",
    "\n",
    "vcf_folder = f\"{gatk_parent}/vcfs\"\n",
    "haplotypecaller_folder = f\"{vcf_folder}/haplotypecaller\"\n",
    "mutect2_folder = f\"{vcf_folder}/mutect2\"\n",
    "\n",
    "os.makedirs(vcf_folder, exist_ok=True)\n",
    "os.makedirs(haplotypecaller_folder, exist_ok=True)\n",
    "os.makedirs(mutect2_folder, exist_ok=True)\n",
    "\n",
    "aligned_and_unmapped_bam = f\"{out_file_name_prefix}Aligned.sortedByCoord.out.bam\"\n",
    "aligned_only_bam = f\"{alignment_folder}/aligned_only.bam\"\n",
    "unmapped_bam = f\"{alignment_folder}/unmapped.bam\"\n",
    "merged_bam = f\"{alignment_folder}/merged.bam\"\n",
    "\n",
    "marked_duplicates_bam = f\"{alignment_folder}/marked_duplicates.bam\"\n",
    "marked_dup_metrics_txt = f\"{alignment_folder}/marked_dup_metrics.txt\"\n",
    "\n",
    "split_n_cigar_reads_bam = f\"{alignment_folder}/split_n_cigar_reads.bam\"\n",
    "recal_data_table = f\"{alignment_folder}/recal_data.table\"\n",
    "recalibrated_bam = f\"{alignment_folder}/recalibrated.bam\"\n",
    "covariates_plot = f\"{alignment_folder}/AnalyzeCovariates.pdf\"\n",
    "haplotypecaller_unfiltered_vcf = f\"{haplotypecaller_folder}/haplotypecaller_output_unfiltered.g.vcf.gz\"\n",
    "\n",
    "haplotypecaller_filtered_vcf = f\"{haplotypecaller_folder}/haplotypecaller_output_filtered.vcf.gz\"\n",
    "haplotypecaller_filtered_applied_vcf = f\"{haplotypecaller_folder}/haplotypecaller_output_filtered_applied.vcf.gz\"\n",
    "\n",
    "panel_of_normals_vcf = f\"{gatk_supporting_files}/1000g_pon.hg38.vcf.gz\"\n",
    "panel_of_normals_vcf_filtered = f\"{gatk_supporting_files}/1000g_pon.hg38_filtered.vcf.gz\"\n",
    "mutect2_unfiltered_vcf = f\"{mutect2_folder}/mutect2_output_unfiltered.g.vcf.gz\"\n",
    "mutect2_filtered_vcf = f\"{mutect2_folder}/mutect2_output_filtered.vcf.gz\""
   ]
  },
  {
   "cell_type": "code",
   "execution_count": 18,
   "metadata": {},
   "outputs": [],
   "source": [
    "if not os.path.exists(reference_genome_fasta):\n",
    "    !wget -O {reference_genome_fasta}.gz https://ftp.ensembl.org/pub/grch37/release-93/fasta/homo_sapiens/dna/Homo_sapiens.GRCh37.dna.primary_assembly.fa.gz && gunzip {reference_genome_fasta}.gz\n",
    "\n",
    "if not os.path.exists(reference_genome_gtf):\n",
    "    !wget -O {reference_genome_gtf}.gz https://ftp.ensembl.org/pub/grch37/release-93/gtf/homo_sapiens/Homo_sapiens.GRCh37.87.gtf.gz && gunzip {reference_genome_gtf}.gz\n",
    "\n",
    "if not os.path.exists(genomes1000_vcf):\n",
    "    !wget -O {genomes1000_vcf}.gz https://ftp.ensembl.org/pub/grch37/release-93/variation/vcf/homo_sapiens/1000GENOMES-phase_3.vcf.gz && gunzip {genomes1000_vcf}.gz\n",
    "    \n",
    "if not os.path.exists(ensembl_germline_vcf):\n",
    "    !wget -O {ensembl_germline_vcf}.gz https://ftp.ensembl.org/pub/grch37/release-93/variation/vcf/homo_sapiens/homo_sapiens.vcf.gz && gunzip {ensembl_germline_vcf}.gz\n",
    "\n",
    "if not os.path.exists(ensembl_germline_vcf_filtered):\n",
    "    ensembl_germline_vcf_temp1 = ensembl_germline_vcf.replace(\".vcf\", \"_temp1.vcf\")\n",
    "    # ensembl_germline_vcf_temp2 = ensembl_germline_vcf.replace(\".vcf\", \"_temp2.vcf\")\n",
    "    !grep -vP '^[^\\t]*\\t[^\\t]*\\t[^\\t]*\\t[^\\t]*[WH]|^[^\\t]*\\t[^\\t]*\\t[^\\t]*\\t[^\\t]*\\t[^\\t]*[WH]' $ensembl_germline_vcf > $ensembl_germline_vcf_temp1\n",
    "    !grep -vP '^[^\\t]*\\t[^\\t]*\\t[^\\t]*\\t\\t|^[^\\t]*\\t[^\\t]*\\t[^\\t]*\\t[^\\t]*\\t\\t' $ensembl_germline_vcf_temp1 > $ensembl_germline_vcf_filtered\n",
    "    !rm $ensembl_germline_vcf_temp1\n",
    "\n",
    "# if not os.path.exists(panel_of_normals_vcf):\n",
    "#     !wget -P {gatk_supporting_files} https://storage.googleapis.com/gatk-best-practices/somatic-hg38/1000g_pon.hg38.vcf.gz\n",
    "#     !wget -P {gatk_supporting_files} https://storage.googleapis.com/gatk-best-practices/somatic-hg38/1000g_pon.hg38.vcf.gz.tbi\n",
    "\n",
    "# if not os.path.exists(panel_of_normals_vcf_filtered):\n",
    "#     decompressed_pon_vcf = panel_of_normals_vcf.replace(\".vcf.gz\", \".vcf\")\n",
    "#     !gunzip -c $panel_of_normals_vcf > $decompressed_pon_vcf\n",
    "    \n",
    "#     # Remove 'chr' prefix from data lines\n",
    "#     !sed -i 's/^chr//' $decompressed_pon_vcf\n",
    "\n",
    "#     # Remove 'chr' prefix from contig headers in the VCF\n",
    "#     !sed -i '/^##contig/s/ID=chr/ID=/' $decompressed_pon_vcf\n",
    "\n",
    "#     # gunzip again\n",
    "#     !bgzip -c $decompressed_pon_vcf > $panel_of_normals_vcf_filtered  # TODO: get bgzip installed"
   ]
  },
  {
   "cell_type": "markdown",
   "metadata": {},
   "source": [
    "1. Mapping to the Reference with STAR"
   ]
  },
  {
   "cell_type": "code",
   "execution_count": 19,
   "metadata": {},
   "outputs": [],
   "source": [
    "read_length_minus_one = read_length - 1\n",
    "\n",
    "if not os.listdir(star_genome_dir):\n",
    "    !$STAR \\\n",
    "        --runThreadN $threads \\\n",
    "        --runMode genomeGenerate \\\n",
    "        --genomeDir $star_genome_dir \\\n",
    "        --genomeFastaFiles $reference_genome_fasta \\\n",
    "        --sjdbGTFfile $reference_genome_gtf \\\n",
    "        --sjdbOverhang $read_length_minus_one"
   ]
  },
  {
   "cell_type": "code",
   "execution_count": 20,
   "metadata": {},
   "outputs": [
    {
     "name": "stdout",
     "output_type": "stream",
     "text": [
      "\t/home/jrich/opt/STAR-2.7.11b/source/STAR --runThreadN 32 --genomeDir /home/jrich/data/varseek_data/reference/ensembl_grch37_release93/star_reference --readFilesIn /home/jrich/data/varseek_data_fresh/manuscript_worthy/vk_sim_2024nov24_200mcrs_k59_nov16/synthetic_reads.fq --sjdbOverhang 149 --outFileNamePrefix /home/jrich/data/varseek_data/gatk_nov17/alignment/sample_ --outSAMtype BAM SortedByCoordinate --outSAMunmapped Within --outSAMmapqUnique 60 --twopassMode Basic\n",
      "\tSTAR version: 2.7.11b   compiled: 2024-07-22T09:22:47-0700 dator:/home/jrich/opt/STAR-2.7.11b/source\n",
      "Nov 21 10:27:07 ..... started STAR run\n",
      "Nov 21 10:27:07 ..... loading genome\n",
      "Nov 21 10:28:03 ..... started 1st pass mapping\n",
      "Nov 21 10:28:07 ..... finished 1st pass mapping\n",
      "Nov 21 10:28:08 ..... inserting junctions into the genome indices\n",
      "Nov 21 10:29:56 ..... started mapping\n",
      "Nov 21 10:30:01 ..... finished mapping\n",
      "Nov 21 10:30:05 ..... started sorting BAM\n",
      "Nov 21 10:30:06 ..... finished successfully\n"
     ]
    }
   ],
   "source": [
    "#* --outSAMmapqUnique 60 - changed from default of 255 to avoid colliding with some aligners' use of 255 as a special value\n",
    "\n",
    "!$STAR \\\n",
    "    --runThreadN $threads \\\n",
    "    --genomeDir $star_genome_dir \\\n",
    "    --readFilesIn $synthetic_read_fastq \\\n",
    "    --sjdbOverhang $read_length_minus_one \\\n",
    "    --outFileNamePrefix $out_file_name_prefix \\\n",
    "    --outSAMtype BAM SortedByCoordinate \\\n",
    "    --outSAMunmapped Within \\\n",
    "    --outSAMmapqUnique 60 \\\n",
    "    --twopassMode Basic\n",
    "\n"
   ]
  },
  {
   "cell_type": "markdown",
   "metadata": {},
   "source": [
    "Separate unmapped reads into its own BAM file"
   ]
  },
  {
   "cell_type": "code",
   "execution_count": 21,
   "metadata": {},
   "outputs": [],
   "source": [
    "# with pysam.AlignmentFile(aligned_and_unmapped_bam, \"rb\") as bam_in: \n",
    "#     # unmapped_header = bam_in.header.to_dict()\n",
    "#     # if 'PG' in unmapped_header:\n",
    "#     #     del unmapped_header['PG']\n",
    "           \n",
    "#     with pysam.AlignmentFile(aligned_only_bam, \"wb\", template=bam_in) as bam_aligned_out, pysam.AlignmentFile(unmapped_bam, \"wb\", template=bam_in) as bam_unmapped_out:\n",
    "#         for read in bam_in:\n",
    "#             if read.is_unmapped:\n",
    "#                 bam_unmapped_out.write(read)  # Write unmapped read to the unmapped BAM file\n",
    "#             else:\n",
    "#                 bam_aligned_out.write(read)  # Write aligned read to the aligned BAM file\n",
    "\n",
    "# print(f\"Unmapped reads written to {unmapped_bam}\")\n",
    "\n",
    "#"
   ]
  },
  {
   "cell_type": "code",
   "execution_count": 22,
   "metadata": {},
   "outputs": [
    {
     "name": "stdout",
     "output_type": "stream",
     "text": [
      "10:30:08.032 INFO  NativeLibraryLoader - Loading libgkl_compression.so from jar:file:/home/jrich/opt/picard/build/libs/picard.jar!/com/intel/gkl/native/libgkl_compression.so\n",
      "[Thu Nov 21 10:30:08 PST 2024] FastqToSam --FASTQ /home/jrich/data/varseek_data_fresh/manuscript_worthy/vk_sim_2024nov24_200mcrs_k59_nov16/synthetic_reads.fq --OUTPUT /home/jrich/data/varseek_data/gatk_nov17/alignment/unmapped.bam --READ_GROUP_NAME rg1 --SAMPLE_NAME sample1 --LIBRARY_NAME lib1 --PLATFORM_UNIT unit1 --PLATFORM ILLUMINA --SEQUENCING_CENTER center1 --USE_SEQUENTIAL_FASTQS false --SORT_ORDER queryname --MIN_Q 0 --MAX_Q 93 --STRIP_UNPAIRED_MATE_NUMBER false --ALLOW_AND_IGNORE_EMPTY_LINES false --ALLOW_EMPTY_FASTQ false --VERBOSITY INFO --QUIET false --VALIDATION_STRINGENCY STRICT --COMPRESSION_LEVEL 5 --MAX_RECORDS_IN_RAM 500000 --CREATE_INDEX false --CREATE_MD5_FILE false --help false --version false --showHidden false --USE_JDK_DEFLATER false --USE_JDK_INFLATER false\n",
      "[Thu Nov 21 10:30:08 PST 2024] Executing as jrich@dator on Linux 3.10.0-1127.13.1.el7.x86_64 amd64; OpenJDK 64-Bit Server VM 17.0.12+7; Deflater: Intel; Inflater: Intel; Provider GCS is available; Picard version: Version:3.2.0-4-ge0475183b-SNAPSHOT\n",
      "WARNING\t2024-11-21 10:30:08\tFastqToSam\tMaking ambiguous determination about fastq's quality encoding; more than one format possible based on observed qualities.\n",
      "INFO\t2024-11-21 10:30:08\tFastqToSam\tAuto-detected quality format as: Illumina.\n",
      "INFO\t2024-11-21 10:30:08\tFastqToSam\tProcessed 56616 fastq reads\n",
      "[Thu Nov 21 10:30:08 PST 2024] picard.sam.FastqToSam done. Elapsed time: 0.01 minutes.\n",
      "Runtime.totalMemory()=2181038080\n"
     ]
    }
   ],
   "source": [
    "!$java -jar $picard_jar FastqToSam \\\n",
    "    -FASTQ $synthetic_read_fastq \\\n",
    "    -OUTPUT $unmapped_bam \\\n",
    "    -READ_GROUP_NAME rg1 \\\n",
    "    -SAMPLE_NAME sample1 \\\n",
    "    -LIBRARY_NAME lib1 \\\n",
    "    -PLATFORM_UNIT unit1 \\\n",
    "    -PLATFORM ILLUMINA \\\n",
    "    -SEQUENCING_CENTER center1"
   ]
  },
  {
   "cell_type": "markdown",
   "metadata": {},
   "source": [
    "2. MergeBamAlignment"
   ]
  },
  {
   "cell_type": "code",
   "execution_count": 23,
   "metadata": {},
   "outputs": [
    {
     "name": "stdout",
     "output_type": "stream",
     "text": [
      "10:30:09.656 INFO  NativeLibraryLoader - Loading libgkl_compression.so from jar:file:/home/jrich/opt/picard/build/libs/picard.jar!/com/intel/gkl/native/libgkl_compression.so\n",
      "[Thu Nov 21 10:30:09 PST 2024] CreateSequenceDictionary --OUTPUT /home/jrich/data/varseek_data/reference/ensembl_grch37_release93/Homo_sapiens.GRCh37.dna.primary_assembly.dict --REFERENCE /home/jrich/data/varseek_data/reference/ensembl_grch37_release93/Homo_sapiens.GRCh37.dna.primary_assembly.fa --TRUNCATE_NAMES_AT_WHITESPACE true --NUM_SEQUENCES 2147483647 --VERBOSITY INFO --QUIET false --VALIDATION_STRINGENCY STRICT --COMPRESSION_LEVEL 5 --MAX_RECORDS_IN_RAM 500000 --CREATE_INDEX false --CREATE_MD5_FILE false --help false --version false --showHidden false --USE_JDK_DEFLATER false --USE_JDK_INFLATER false\n",
      "[Thu Nov 21 10:30:09 PST 2024] Executing as jrich@dator on Linux 3.10.0-1127.13.1.el7.x86_64 amd64; OpenJDK 64-Bit Server VM 17.0.12+7; Deflater: Intel; Inflater: Intel; Provider GCS is available; Picard version: Version:3.2.0-4-ge0475183b-SNAPSHOT\n",
      "[Thu Nov 21 10:30:09 PST 2024] picard.sam.CreateSequenceDictionary done. Elapsed time: 0.00 minutes.\n",
      "Runtime.totalMemory()=2181038080\n",
      "To get help, see http://broadinstitute.github.io/picard/index.html#GettingHelp\n",
      "Exception in thread \"main\" picard.PicardException: file:///home/jrich/data/varseek_data/reference/ensembl_grch37_release93/Homo_sapiens.GRCh37.dna.primary_assembly.dict already exists.  Delete this file and try again, or specify a different output file.\n",
      "\tat picard.sam.CreateSequenceDictionary.doWork(CreateSequenceDictionary.java:227)\n",
      "\tat picard.cmdline.CommandLineProgram.instanceMain(CommandLineProgram.java:281)\n",
      "\tat picard.cmdline.PicardCommandLine.instanceMain(PicardCommandLine.java:105)\n",
      "\tat picard.cmdline.PicardCommandLine.main(PicardCommandLine.java:115)\n"
     ]
    }
   ],
   "source": [
    "reference_genome_dict = reference_genome_fasta.replace(\".fa\", \".dict\")\n",
    "\n",
    "!$java -jar $picard_jar CreateSequenceDictionary \\\n",
    "    -R $reference_genome_fasta \\\n",
    "    -O $reference_genome_dict"
   ]
  },
  {
   "cell_type": "code",
   "execution_count": 24,
   "metadata": {},
   "outputs": [
    {
     "name": "stdout",
     "output_type": "stream",
     "text": [
      "10:30:10.652 INFO  NativeLibraryLoader - Loading libgkl_compression.so from jar:file:/home/jrich/opt/picard/build/libs/picard.jar!/com/intel/gkl/native/libgkl_compression.so\n",
      "[Thu Nov 21 10:30:10 PST 2024] MergeBamAlignment --UNMAPPED_BAM /home/jrich/data/varseek_data/gatk_nov17/alignment/unmapped.bam --ALIGNED_BAM /home/jrich/data/varseek_data/gatk_nov17/alignment/sample_Aligned.sortedByCoord.out.bam --OUTPUT /home/jrich/data/varseek_data/gatk_nov17/alignment/merged.bam --SORT_ORDER coordinate --INCLUDE_SECONDARY_ALIGNMENTS false --VALIDATION_STRINGENCY SILENT --REFERENCE_SEQUENCE /home/jrich/data/varseek_data/reference/ensembl_grch37_release93/Homo_sapiens.GRCh37.dna.primary_assembly.fa --ADD_PG_TAG_TO_READS true --PAIRED_RUN true --CLIP_ADAPTERS true --IS_BISULFITE_SEQUENCE false --ALIGNED_READS_ONLY false --MAX_INSERTIONS_OR_DELETIONS 1 --ATTRIBUTES_TO_REVERSE OQ --ATTRIBUTES_TO_REVERSE U2 --ATTRIBUTES_TO_REVERSE_COMPLEMENT E2 --ATTRIBUTES_TO_REVERSE_COMPLEMENT SQ --READ1_TRIM 0 --READ2_TRIM 0 --ALIGNER_PROPER_PAIR_FLAGS false --PRIMARY_ALIGNMENT_STRATEGY BestMapq --CLIP_OVERLAPPING_READS true --HARD_CLIP_OVERLAPPING_READS false --ADD_MATE_CIGAR true --UNMAP_CONTAMINANT_READS false --MIN_UNCLIPPED_BASES 32 --MATCHING_DICTIONARY_TAGS M5 --MATCHING_DICTIONARY_TAGS LN --UNMAPPED_READ_STRATEGY DO_NOT_CHANGE --VERBOSITY INFO --QUIET false --COMPRESSION_LEVEL 5 --MAX_RECORDS_IN_RAM 500000 --CREATE_INDEX false --CREATE_MD5_FILE false --help false --version false --showHidden false --USE_JDK_DEFLATER false --USE_JDK_INFLATER false\n",
      "[Thu Nov 21 10:30:10 PST 2024] Executing as jrich@dator on Linux 3.10.0-1127.13.1.el7.x86_64 amd64; OpenJDK 64-Bit Server VM 17.0.12+7; Deflater: Intel; Inflater: Intel; Provider GCS is available; Picard version: Version:3.2.0-4-ge0475183b-SNAPSHOT\n",
      "INFO\t2024-11-21 10:30:10\tSamAlignmentMerger\tProcessing SAM file(s): [/home/jrich/data/varseek_data/gatk_nov17/alignment/sample_Aligned.sortedByCoord.out.bam]\n",
      "WARNING\t2024-11-21 10:30:10\tSamAlignmentMerger\tException merging bam alignment - attempting to sort aligned reads and try again: Underlying iterator is not queryname sorted: vcrs_4003213_141fW 150b aligned to 1:11317055-11317204. > vcrs_4003213_140fM 150b aligned to 1:11317056-11317205.\n",
      "INFO\t2024-11-21 10:30:11\tSamAlignmentMerger\tFinished reading 57409 total records from alignment SAM/BAM.\n",
      "INFO\t2024-11-21 10:30:21\tAbstractAlignmentMerger\tWrote 57409 alignment records and 0 unmapped reads.\n",
      "[Thu Nov 21 10:30:21 PST 2024] picard.sam.MergeBamAlignment done. Elapsed time: 0.17 minutes.\n",
      "Runtime.totalMemory()=2181038080\n"
     ]
    }
   ],
   "source": [
    "!$java -jar $picard_jar MergeBamAlignment \\\n",
    "    --ALIGNED_BAM $aligned_and_unmapped_bam \\\n",
    "    --UNMAPPED_BAM $unmapped_bam \\\n",
    "    --OUTPUT $merged_bam \\\n",
    "    --REFERENCE_SEQUENCE $reference_genome_fasta \\\n",
    "    --SORT_ORDER coordinate \\\n",
    "    --INCLUDE_SECONDARY_ALIGNMENTS false \\\n",
    "    --VALIDATION_STRINGENCY SILENT\n",
    "\n"
   ]
  },
  {
   "cell_type": "markdown",
   "metadata": {},
   "source": [
    "3. MarkDuplicates"
   ]
  },
  {
   "cell_type": "code",
   "execution_count": 25,
   "metadata": {},
   "outputs": [
    {
     "name": "stdout",
     "output_type": "stream",
     "text": [
      "10:30:22.226 INFO  NativeLibraryLoader - Loading libgkl_compression.so from jar:file:/home/jrich/opt/picard/build/libs/picard.jar!/com/intel/gkl/native/libgkl_compression.so\n",
      "[Thu Nov 21 10:30:22 PST 2024] MarkDuplicates --INPUT /home/jrich/data/varseek_data/gatk_nov17/alignment/merged.bam --OUTPUT /home/jrich/data/varseek_data/gatk_nov17/alignment/marked_duplicates.bam --METRICS_FILE /home/jrich/data/varseek_data/gatk_nov17/alignment/marked_dup_metrics.txt --VALIDATION_STRINGENCY SILENT --CREATE_INDEX true --MAX_SEQUENCES_FOR_DISK_READ_ENDS_MAP 50000 --MAX_FILE_HANDLES_FOR_READ_ENDS_MAP 8000 --SORTING_COLLECTION_SIZE_RATIO 0.25 --TAG_DUPLICATE_SET_MEMBERS false --REMOVE_SEQUENCING_DUPLICATES false --TAGGING_POLICY DontTag --CLEAR_DT true --DUPLEX_UMI false --FLOW_MODE false --FLOW_DUP_STRATEGY FLOW_QUALITY_SUM_STRATEGY --USE_END_IN_UNPAIRED_READS false --USE_UNPAIRED_CLIPPED_END false --UNPAIRED_END_UNCERTAINTY 0 --UNPAIRED_START_UNCERTAINTY 0 --FLOW_SKIP_FIRST_N_FLOWS 0 --FLOW_Q_IS_KNOWN_END false --FLOW_EFFECTIVE_QUALITY_THRESHOLD 15 --ADD_PG_TAG_TO_READS true --REMOVE_DUPLICATES false --ASSUME_SORTED false --DUPLICATE_SCORING_STRATEGY SUM_OF_BASE_QUALITIES --PROGRAM_RECORD_ID MarkDuplicates --PROGRAM_GROUP_NAME MarkDuplicates --READ_NAME_REGEX <optimized capture of last three ':' separated fields as numeric values> --OPTICAL_DUPLICATE_PIXEL_DISTANCE 100 --MAX_OPTICAL_DUPLICATE_SET_SIZE 300000 --VERBOSITY INFO --QUIET false --COMPRESSION_LEVEL 5 --MAX_RECORDS_IN_RAM 500000 --CREATE_MD5_FILE false --help false --version false --showHidden false --USE_JDK_DEFLATER false --USE_JDK_INFLATER false\n",
      "[Thu Nov 21 10:30:22 PST 2024] Executing as jrich@dator on Linux 3.10.0-1127.13.1.el7.x86_64 amd64; OpenJDK 64-Bit Server VM 17.0.12+7; Deflater: Intel; Inflater: Intel; Provider GCS is available; Picard version: Version:3.2.0-4-ge0475183b-SNAPSHOT\n",
      "INFO\t2024-11-21 10:30:22\tMarkDuplicates\tStart of doWork freeMemory: 377795152; totalMemory: 402653184; maxMemory: 32178700288\n",
      "INFO\t2024-11-21 10:30:22\tMarkDuplicates\tReading input file and constructing read end information.\n",
      "INFO\t2024-11-21 10:30:22\tMarkDuplicates\tWill retain up to 116589493 data points before spilling to disk.\n",
      "WARNING\t2024-11-21 10:30:23\tAbstractOpticalDuplicateFinderCommandLineProgram\tA field field parsed out of a read name was expected to contain an integer and did not. Read name: vcrs_4003213_141fM. Cause: String 'vcrs_4003213_141fM' did not start with a parsable number.\n",
      "INFO\t2024-11-21 10:30:23\tMarkDuplicates\tRead 56616 records. 0 pairs never matched.\n",
      "INFO\t2024-11-21 10:30:23\tMarkDuplicates\tAfter buildSortedReadEndLists freeMemory: 937887056; totalMemory: 1912602624; maxMemory: 32178700288\n",
      "INFO\t2024-11-21 10:30:23\tMarkDuplicates\tWill retain up to 1005584384 duplicate indices before spilling to disk.\n",
      "INFO\t2024-11-21 10:30:28\tMarkDuplicates\tTraversing read pair information and detecting duplicates.\n",
      "INFO\t2024-11-21 10:30:28\tMarkDuplicates\tTraversing fragment information and detecting duplicates.\n",
      "INFO\t2024-11-21 10:30:28\tMarkDuplicates\tSorting list of duplicate records.\n",
      "INFO\t2024-11-21 10:30:28\tMarkDuplicates\tAfter generateDuplicateIndexes freeMemory: 7264610112; totalMemory: 15351152640; maxMemory: 32178700288\n",
      "INFO\t2024-11-21 10:30:28\tMarkDuplicates\tMarking 14535 records as duplicates.\n",
      "INFO\t2024-11-21 10:30:28\tMarkDuplicates\tFound 0 optical duplicate clusters.\n",
      "INFO\t2024-11-21 10:30:28\tMarkDuplicates\tReads are assumed to be ordered by: coordinate\n",
      "INFO\t2024-11-21 10:30:28\tMarkDuplicates\tWriting complete. Closing input iterator.\n",
      "INFO\t2024-11-21 10:30:28\tMarkDuplicates\tDuplicate Index cleanup.\n",
      "INFO\t2024-11-21 10:30:28\tMarkDuplicates\tGetting Memory Stats.\n",
      "INFO\t2024-11-21 10:30:28\tMarkDuplicates\tBefore output close freeMemory: 1089654560; totalMemory: 1124073472; maxMemory: 32178700288\n",
      "INFO\t2024-11-21 10:30:28\tMarkDuplicates\tClosed outputs. Getting more Memory Stats.\n",
      "INFO\t2024-11-21 10:30:28\tMarkDuplicates\tAfter output close freeMemory: 423136448; totalMemory: 452984832; maxMemory: 32178700288\n",
      "[Thu Nov 21 10:30:28 PST 2024] picard.sam.markduplicates.MarkDuplicates done. Elapsed time: 0.11 minutes.\n",
      "Runtime.totalMemory()=452984832\n"
     ]
    }
   ],
   "source": [
    "!$java -jar $picard_jar MarkDuplicates \\\n",
    "      --INPUT $merged_bam \\\n",
    "      --OUTPUT $marked_duplicates_bam \\\n",
    "      --METRICS_FILE $marked_dup_metrics_txt \\\n",
    "      --CREATE_INDEX true \\\n",
    "      --VALIDATION_STRINGENCY SILENT"
   ]
  },
  {
   "cell_type": "markdown",
   "metadata": {},
   "source": [
    "4. SplitNCigarReads"
   ]
  },
  {
   "cell_type": "code",
   "execution_count": 26,
   "metadata": {},
   "outputs": [
    {
     "name": "stdout",
     "output_type": "stream",
     "text": [
      "Using GATK jar /home/jrich/opt/gatk-4.6.0.0/gatk-package-4.6.0.0-local.jar\n",
      "Running:\n",
      "    java -Dsamjdk.use_async_io_read_samtools=false -Dsamjdk.use_async_io_write_samtools=true -Dsamjdk.use_async_io_write_tribble=false -Dsamjdk.compression_level=2 -jar /home/jrich/opt/gatk-4.6.0.0/gatk-package-4.6.0.0-local.jar SplitNCigarReads -R /home/jrich/data/varseek_data/reference/ensembl_grch37_release93/Homo_sapiens.GRCh37.dna.primary_assembly.fa -I /home/jrich/data/varseek_data/gatk_nov17/alignment/marked_duplicates.bam -O /home/jrich/data/varseek_data/gatk_nov17/alignment/split_n_cigar_reads.bam\n",
      "10:30:44.496 INFO  NativeLibraryLoader - Loading libgkl_compression.so from jar:file:/home/jrich/opt/gatk-4.6.0.0/gatk-package-4.6.0.0-local.jar!/com/intel/gkl/native/libgkl_compression.so\n",
      "10:30:44.702 INFO  SplitNCigarReads - ------------------------------------------------------------\n",
      "10:30:44.707 INFO  SplitNCigarReads - The Genome Analysis Toolkit (GATK) v4.6.0.0\n",
      "10:30:44.707 INFO  SplitNCigarReads - For support and documentation go to https://software.broadinstitute.org/gatk/\n",
      "10:30:44.707 INFO  SplitNCigarReads - Executing as jrich@dator on Linux v3.10.0-1127.13.1.el7.x86_64 amd64\n",
      "10:30:44.707 INFO  SplitNCigarReads - Java runtime: OpenJDK 64-Bit Server VM v17.0.12+7\n",
      "10:30:44.708 INFO  SplitNCigarReads - Start Date/Time: November 21, 2024 at 10:30:44 AM PST\n",
      "10:30:44.708 INFO  SplitNCigarReads - ------------------------------------------------------------\n",
      "10:30:44.708 INFO  SplitNCigarReads - ------------------------------------------------------------\n",
      "10:30:44.709 INFO  SplitNCigarReads - HTSJDK Version: 4.1.1\n",
      "10:30:44.709 INFO  SplitNCigarReads - Picard Version: 3.2.0\n",
      "10:30:44.710 INFO  SplitNCigarReads - Built for Spark Version: 3.5.0\n",
      "10:30:44.710 INFO  SplitNCigarReads - HTSJDK Defaults.COMPRESSION_LEVEL : 2\n",
      "10:30:44.710 INFO  SplitNCigarReads - HTSJDK Defaults.USE_ASYNC_IO_READ_FOR_SAMTOOLS : false\n",
      "10:30:44.710 INFO  SplitNCigarReads - HTSJDK Defaults.USE_ASYNC_IO_WRITE_FOR_SAMTOOLS : true\n",
      "10:30:44.711 INFO  SplitNCigarReads - HTSJDK Defaults.USE_ASYNC_IO_WRITE_FOR_TRIBBLE : false\n",
      "10:30:44.711 INFO  SplitNCigarReads - Deflater: IntelDeflater\n",
      "10:30:44.711 INFO  SplitNCigarReads - Inflater: IntelInflater\n",
      "10:30:44.711 INFO  SplitNCigarReads - GCS max retries/reopens: 20\n",
      "10:30:44.711 INFO  SplitNCigarReads - Requester pays: disabled\n",
      "10:30:44.712 INFO  SplitNCigarReads - Initializing engine\n",
      "10:30:44.905 INFO  SplitNCigarReads - Done initializing engine\n",
      "10:30:44.940 INFO  ProgressMeter - Starting traversal\n",
      "10:30:44.940 INFO  ProgressMeter -        Current Locus  Elapsed Minutes       Reads Processed     Reads/Minute\n",
      "10:30:46.305 INFO  SplitNCigarReads - 0 read(s) filtered by: AllowAllReadsReadFilter \n",
      "\n",
      "10:30:46.314 INFO  OverhangFixingManager - Overhang Fixing Manager saved 0 reads in the first pass\n",
      "10:30:46.319 INFO  SplitNCigarReads - Starting traversal pass 2\n",
      "10:30:47.362 INFO  SplitNCigarReads - 0 read(s) filtered by: AllowAllReadsReadFilter \n",
      "\n",
      "10:30:47.363 INFO  ProgressMeter -          X:154448493              0.0                113232        2805086.7\n",
      "10:30:47.364 INFO  ProgressMeter - Traversal complete. Processed 113232 total reads in 0.0 minutes.\n",
      "10:30:47.841 INFO  SplitNCigarReads - Shutting down engine\n",
      "[November 21, 2024 at 10:30:47 AM PST] org.broadinstitute.hellbender.tools.walkers.rnaseq.SplitNCigarReads done. Elapsed time: 0.06 minutes.\n",
      "Runtime.totalMemory()=1224736768\n"
     ]
    }
   ],
   "source": [
    "_ = pysam.faidx(reference_genome_fasta)\n",
    "\n",
    "!$gatk SplitNCigarReads \\\n",
    "    -R $reference_genome_fasta \\\n",
    "    -I $marked_duplicates_bam \\\n",
    "    -O $split_n_cigar_reads_bam"
   ]
  },
  {
   "cell_type": "markdown",
   "metadata": {},
   "source": [
    "5. BaseRecalibrator"
   ]
  },
  {
   "cell_type": "code",
   "execution_count": 27,
   "metadata": {},
   "outputs": [],
   "source": [
    "##  -I in old version, -F in new version\n",
    "# if not os.path.exists(f\"{ensembl_germline_vcf_filtered}.idx\"):\n",
    "#     !$gatk IndexFeatureFile -I $ensembl_germline_vcf_filtered  # TODO: ~81092000/324780532 processed before error - current error being a duplicate G in REF/ALT column\n",
    "\n",
    "if not os.path.exists(f\"{genomes1000_vcf}.idx\"):\n",
    "    !$gatk IndexFeatureFile -I $genomes1000_vcf\n",
    "\n",
    "# TODO: uncomment once I install bgzip\n",
    "# if not os.path.exists(f\"{panel_of_normals_vcf_filtered}.idx\"):\n",
    "#     !gatk IndexFeatureFile -I $panel_of_normals_vcf_filtered"
   ]
  },
  {
   "cell_type": "code",
   "execution_count": 28,
   "metadata": {},
   "outputs": [
    {
     "name": "stdout",
     "output_type": "stream",
     "text": [
      "Using GATK jar /home/jrich/opt/gatk-4.6.0.0/gatk-package-4.6.0.0-local.jar\n",
      "Running:\n",
      "    java -Dsamjdk.use_async_io_read_samtools=false -Dsamjdk.use_async_io_write_samtools=true -Dsamjdk.use_async_io_write_tribble=false -Dsamjdk.compression_level=2 -jar /home/jrich/opt/gatk-4.6.0.0/gatk-package-4.6.0.0-local.jar BaseRecalibrator -I /home/jrich/data/varseek_data/gatk_nov17/alignment/split_n_cigar_reads.bam -R /home/jrich/data/varseek_data/reference/ensembl_grch37_release93/Homo_sapiens.GRCh37.dna.primary_assembly.fa --use-original-qualities --known-sites /home/jrich/data/varseek_data/reference/ensembl_grch37_release93/1000GENOMES-phase_3.vcf -O /home/jrich/data/varseek_data/gatk_nov17/alignment/recal_data.table\n",
      "10:30:50.015 INFO  NativeLibraryLoader - Loading libgkl_compression.so from jar:file:/home/jrich/opt/gatk-4.6.0.0/gatk-package-4.6.0.0-local.jar!/com/intel/gkl/native/libgkl_compression.so\n",
      "10:30:50.160 INFO  BaseRecalibrator - ------------------------------------------------------------\n",
      "10:30:50.165 INFO  BaseRecalibrator - The Genome Analysis Toolkit (GATK) v4.6.0.0\n",
      "10:30:50.165 INFO  BaseRecalibrator - For support and documentation go to https://software.broadinstitute.org/gatk/\n",
      "10:30:50.165 INFO  BaseRecalibrator - Executing as jrich@dator on Linux v3.10.0-1127.13.1.el7.x86_64 amd64\n",
      "10:30:50.165 INFO  BaseRecalibrator - Java runtime: OpenJDK 64-Bit Server VM v17.0.12+7\n",
      "10:30:50.166 INFO  BaseRecalibrator - Start Date/Time: November 21, 2024 at 10:30:49 AM PST\n",
      "10:30:50.166 INFO  BaseRecalibrator - ------------------------------------------------------------\n",
      "10:30:50.166 INFO  BaseRecalibrator - ------------------------------------------------------------\n",
      "10:30:50.167 INFO  BaseRecalibrator - HTSJDK Version: 4.1.1\n",
      "10:30:50.167 INFO  BaseRecalibrator - Picard Version: 3.2.0\n",
      "10:30:50.167 INFO  BaseRecalibrator - Built for Spark Version: 3.5.0\n",
      "10:30:50.168 INFO  BaseRecalibrator - HTSJDK Defaults.COMPRESSION_LEVEL : 2\n",
      "10:30:50.168 INFO  BaseRecalibrator - HTSJDK Defaults.USE_ASYNC_IO_READ_FOR_SAMTOOLS : false\n",
      "10:30:50.168 INFO  BaseRecalibrator - HTSJDK Defaults.USE_ASYNC_IO_WRITE_FOR_SAMTOOLS : true\n",
      "10:30:50.168 INFO  BaseRecalibrator - HTSJDK Defaults.USE_ASYNC_IO_WRITE_FOR_TRIBBLE : false\n",
      "10:30:50.168 INFO  BaseRecalibrator - Deflater: IntelDeflater\n",
      "10:30:50.169 INFO  BaseRecalibrator - Inflater: IntelInflater\n",
      "10:30:50.169 INFO  BaseRecalibrator - GCS max retries/reopens: 20\n",
      "10:30:50.169 INFO  BaseRecalibrator - Requester pays: disabled\n",
      "10:30:50.170 INFO  BaseRecalibrator - Initializing engine\n",
      "10:30:50.392 INFO  FeatureManager - Using codec VCFCodec to read file file:///home/jrich/data/varseek_data/reference/ensembl_grch37_release93/1000GENOMES-phase_3.vcf\n",
      "10:30:50.645 WARN  IndexUtils - Feature file \"file:///home/jrich/data/varseek_data/reference/ensembl_grch37_release93/1000GENOMES-phase_3.vcf\" appears to contain no sequence dictionary. Attempting to retrieve a sequence dictionary from the associated index file\n",
      "10:30:50.730 INFO  BaseRecalibrator - Done initializing engine\n",
      "10:30:50.737 INFO  BaseRecalibrationEngine - The covariates being used here: \n",
      "10:30:50.737 INFO  BaseRecalibrationEngine - \tReadGroupCovariate\n",
      "10:30:50.737 INFO  BaseRecalibrationEngine - \tQualityScoreCovariate\n",
      "10:30:50.737 INFO  BaseRecalibrationEngine - \tContextCovariate\n",
      "10:30:50.738 INFO  BaseRecalibrationEngine - \tCycleCovariate\n",
      "10:30:50.743 INFO  ProgressMeter - Starting traversal\n",
      "10:30:50.743 INFO  ProgressMeter -        Current Locus  Elapsed Minutes       Reads Processed     Reads/Minute\n",
      "10:30:56.459 INFO  BaseRecalibrator - 70 read(s) filtered by: MappingQualityNotZeroReadFilter \n",
      "0 read(s) filtered by: MappingQualityAvailableReadFilter \n",
      "0 read(s) filtered by: MappedReadFilter \n",
      "0 read(s) filtered by: NotSecondaryAlignmentReadFilter \n",
      "25279 read(s) filtered by: NotDuplicateReadFilter \n",
      "0 read(s) filtered by: PassesVendorQualityCheckReadFilter \n",
      "0 read(s) filtered by: WellformedReadFilter \n",
      "25349 total reads filtered out of 97720 reads processed\n",
      "10:30:56.464 INFO  ProgressMeter -          X:153633775              0.1                 72371         759800.5\n",
      "10:30:56.465 INFO  ProgressMeter - Traversal complete. Processed 72371 total reads in 0.1 minutes.\n",
      "10:30:56.488 INFO  BaseRecalibrator - Calculating quantized quality scores...\n",
      "10:30:56.502 INFO  BaseRecalibrator - Writing recalibration report...\n",
      "10:30:56.626 INFO  BaseRecalibrator - ...done!\n",
      "10:30:56.628 INFO  BaseRecalibrator - BaseRecalibrator was able to recalibrate 72371 reads\n",
      "10:30:56.628 INFO  BaseRecalibrator - Shutting down engine\n",
      "[November 21, 2024 at 10:30:56 AM PST] org.broadinstitute.hellbender.tools.walkers.bqsr.BaseRecalibrator done. Elapsed time: 0.11 minutes.\n",
      "Runtime.totalMemory()=570425344\n",
      "Tool returned:\n",
      "SUCCESS\n"
     ]
    }
   ],
   "source": [
    "# TODO: when I fix !$gatk IndexFeatureFile -I $ensembl_germline_vcf_filtered, add back --known-sites $ensembl_germline_vcf_filtered\n",
    "!$gatk BaseRecalibrator \\\n",
    "    -I $split_n_cigar_reads_bam \\\n",
    "    -R $reference_genome_fasta \\\n",
    "    --use-original-qualities \\\n",
    "    --known-sites $genomes1000_vcf \\\n",
    "    -O $recal_data_table\n",
    "\n",
    "# -known-sites ${dbSNP_vcf} \\\n",
    "# -known-sites ${sep=\" --known-sites \" known_indels_sites_VCFs}"
   ]
  },
  {
   "cell_type": "markdown",
   "metadata": {},
   "source": [
    "6. Apply Recalibration"
   ]
  },
  {
   "cell_type": "code",
   "execution_count": 29,
   "metadata": {},
   "outputs": [
    {
     "name": "stdout",
     "output_type": "stream",
     "text": [
      "Using GATK jar /home/jrich/opt/gatk-4.6.0.0/gatk-package-4.6.0.0-local.jar\n",
      "Running:\n",
      "    java -Dsamjdk.use_async_io_read_samtools=false -Dsamjdk.use_async_io_write_samtools=true -Dsamjdk.use_async_io_write_tribble=false -Dsamjdk.compression_level=2 -jar /home/jrich/opt/gatk-4.6.0.0/gatk-package-4.6.0.0-local.jar ApplyBQSR --add-output-sam-program-record -R /home/jrich/data/varseek_data/reference/ensembl_grch37_release93/Homo_sapiens.GRCh37.dna.primary_assembly.fa -I /home/jrich/data/varseek_data/gatk_nov17/alignment/split_n_cigar_reads.bam --use-original-qualities --bqsr-recal-file /home/jrich/data/varseek_data/gatk_nov17/alignment/recal_data.table -O /home/jrich/data/varseek_data/gatk_nov17/alignment/recalibrated.bam\n",
      "10:30:58.781 INFO  NativeLibraryLoader - Loading libgkl_compression.so from jar:file:/home/jrich/opt/gatk-4.6.0.0/gatk-package-4.6.0.0-local.jar!/com/intel/gkl/native/libgkl_compression.so\n",
      "10:30:58.920 INFO  ApplyBQSR - ------------------------------------------------------------\n",
      "10:30:58.924 INFO  ApplyBQSR - The Genome Analysis Toolkit (GATK) v4.6.0.0\n",
      "10:30:58.924 INFO  ApplyBQSR - For support and documentation go to https://software.broadinstitute.org/gatk/\n",
      "10:30:58.924 INFO  ApplyBQSR - Executing as jrich@dator on Linux v3.10.0-1127.13.1.el7.x86_64 amd64\n",
      "10:30:58.924 INFO  ApplyBQSR - Java runtime: OpenJDK 64-Bit Server VM v17.0.12+7\n",
      "10:30:58.925 INFO  ApplyBQSR - Start Date/Time: November 21, 2024 at 10:30:58 AM PST\n",
      "10:30:58.925 INFO  ApplyBQSR - ------------------------------------------------------------\n",
      "10:30:58.925 INFO  ApplyBQSR - ------------------------------------------------------------\n",
      "10:30:58.926 INFO  ApplyBQSR - HTSJDK Version: 4.1.1\n",
      "10:30:58.926 INFO  ApplyBQSR - Picard Version: 3.2.0\n",
      "10:30:58.926 INFO  ApplyBQSR - Built for Spark Version: 3.5.0\n",
      "10:30:58.927 INFO  ApplyBQSR - HTSJDK Defaults.COMPRESSION_LEVEL : 2\n",
      "10:30:58.927 INFO  ApplyBQSR - HTSJDK Defaults.USE_ASYNC_IO_READ_FOR_SAMTOOLS : false\n",
      "10:30:58.927 INFO  ApplyBQSR - HTSJDK Defaults.USE_ASYNC_IO_WRITE_FOR_SAMTOOLS : true\n",
      "10:30:58.927 INFO  ApplyBQSR - HTSJDK Defaults.USE_ASYNC_IO_WRITE_FOR_TRIBBLE : false\n",
      "10:30:58.927 INFO  ApplyBQSR - Deflater: IntelDeflater\n",
      "10:30:58.927 INFO  ApplyBQSR - Inflater: IntelInflater\n",
      "10:30:58.928 INFO  ApplyBQSR - GCS max retries/reopens: 20\n",
      "10:30:58.928 INFO  ApplyBQSR - Requester pays: disabled\n",
      "10:30:58.928 INFO  ApplyBQSR - Initializing engine\n",
      "10:30:59.113 INFO  ApplyBQSR - Done initializing engine\n",
      "10:30:59.141 INFO  ProgressMeter - Starting traversal\n",
      "10:30:59.142 INFO  ProgressMeter -        Current Locus  Elapsed Minutes       Reads Processed     Reads/Minute\n",
      "10:31:00.828 INFO  ApplyBQSR - 0 read(s) filtered by: WellformedReadFilter \n",
      "\n",
      "10:31:00.829 INFO  ProgressMeter -          X:154448475              0.0                 97720        3475518.7\n",
      "10:31:00.829 INFO  ProgressMeter - Traversal complete. Processed 97720 total reads in 0.0 minutes.\n",
      "10:31:00.879 INFO  ApplyBQSR - Shutting down engine\n",
      "[November 21, 2024 at 10:31:00 AM PST] org.broadinstitute.hellbender.tools.walkers.bqsr.ApplyBQSR done. Elapsed time: 0.04 minutes.\n",
      "Runtime.totalMemory()=285212672\n"
     ]
    }
   ],
   "source": [
    "!$gatk ApplyBQSR \\\n",
    "    --add-output-sam-program-record \\\n",
    "    -R $reference_genome_fasta \\\n",
    "    -I $split_n_cigar_reads_bam \\\n",
    "    --use-original-qualities \\\n",
    "    --bqsr-recal-file $recal_data_table \\\n",
    "    -O $recalibrated_bam\n",
    "\n"
   ]
  },
  {
   "cell_type": "markdown",
   "metadata": {},
   "source": [
    "7. AnalyzeCovariates"
   ]
  },
  {
   "cell_type": "code",
   "execution_count": 30,
   "metadata": {},
   "outputs": [
    {
     "name": "stdout",
     "output_type": "stream",
     "text": [
      "Using GATK jar /home/jrich/opt/gatk-4.6.0.0/gatk-package-4.6.0.0-local.jar\n",
      "Running:\n",
      "    java -Dsamjdk.use_async_io_read_samtools=false -Dsamjdk.use_async_io_write_samtools=true -Dsamjdk.use_async_io_write_tribble=false -Dsamjdk.compression_level=2 -jar /home/jrich/opt/gatk-4.6.0.0/gatk-package-4.6.0.0-local.jar AnalyzeCovariates -bqsr /home/jrich/data/varseek_data/gatk_nov17/alignment/recal_data.table -plots /home/jrich/data/varseek_data/gatk_nov17/alignment/AnalyzeCovariates.pdf\n",
      "10:31:02.974 INFO  NativeLibraryLoader - Loading libgkl_compression.so from jar:file:/home/jrich/opt/gatk-4.6.0.0/gatk-package-4.6.0.0-local.jar!/com/intel/gkl/native/libgkl_compression.so\n",
      "10:31:03.102 INFO  AnalyzeCovariates - ------------------------------------------------------------\n",
      "10:31:03.107 INFO  AnalyzeCovariates - The Genome Analysis Toolkit (GATK) v4.6.0.0\n",
      "10:31:03.107 INFO  AnalyzeCovariates - For support and documentation go to https://software.broadinstitute.org/gatk/\n",
      "10:31:03.107 INFO  AnalyzeCovariates - Executing as jrich@dator on Linux v3.10.0-1127.13.1.el7.x86_64 amd64\n",
      "10:31:03.107 INFO  AnalyzeCovariates - Java runtime: OpenJDK 64-Bit Server VM v17.0.12+7\n",
      "10:31:03.108 INFO  AnalyzeCovariates - Start Date/Time: November 21, 2024 at 10:31:02 AM PST\n",
      "10:31:03.108 INFO  AnalyzeCovariates - ------------------------------------------------------------\n",
      "10:31:03.108 INFO  AnalyzeCovariates - ------------------------------------------------------------\n",
      "10:31:03.109 INFO  AnalyzeCovariates - HTSJDK Version: 4.1.1\n",
      "10:31:03.109 INFO  AnalyzeCovariates - Picard Version: 3.2.0\n",
      "10:31:03.109 INFO  AnalyzeCovariates - Built for Spark Version: 3.5.0\n",
      "10:31:03.109 INFO  AnalyzeCovariates - HTSJDK Defaults.COMPRESSION_LEVEL : 2\n",
      "10:31:03.110 INFO  AnalyzeCovariates - HTSJDK Defaults.USE_ASYNC_IO_READ_FOR_SAMTOOLS : false\n",
      "10:31:03.110 INFO  AnalyzeCovariates - HTSJDK Defaults.USE_ASYNC_IO_WRITE_FOR_SAMTOOLS : true\n",
      "10:31:03.110 INFO  AnalyzeCovariates - HTSJDK Defaults.USE_ASYNC_IO_WRITE_FOR_TRIBBLE : false\n",
      "10:31:03.110 INFO  AnalyzeCovariates - Deflater: IntelDeflater\n",
      "10:31:03.110 INFO  AnalyzeCovariates - Inflater: IntelInflater\n",
      "10:31:03.111 INFO  AnalyzeCovariates - GCS max retries/reopens: 20\n",
      "10:31:03.111 INFO  AnalyzeCovariates - Requester pays: disabled\n",
      "10:31:03.112 INFO  AnalyzeCovariates - Initializing engine\n",
      "10:31:03.112 INFO  AnalyzeCovariates - Done initializing engine\n",
      "10:31:03.183 INFO  AnalyzeCovariates - Generating csv file '/tmp/AnalyzeCovariates955942933826488547.csv'\n",
      "10:31:03.220 INFO  AnalyzeCovariates - Generating plots file '/home/jrich/data/varseek_data/gatk_nov17/alignment/AnalyzeCovariates.pdf'\n",
      "10:31:03.654 INFO  AnalyzeCovariates - Shutting down engine\n",
      "[November 21, 2024 at 10:31:03 AM PST] org.broadinstitute.hellbender.tools.walkers.bqsr.AnalyzeCovariates done. Elapsed time: 0.01 minutes.\n",
      "Runtime.totalMemory()=285212672\n",
      "org.broadinstitute.hellbender.utils.R.RScriptExecutorException: \n",
      "Rscript exited with 1\n",
      "Command Line: Rscript -e tempLibDir = '/tmp/Rlib.15313502851960768385';source('/tmp/BQSR.9588227678603911621.R'); /tmp/AnalyzeCovariates955942933826488547.csv /home/jrich/data/varseek_data/gatk_nov17/alignment/recal_data.table /home/jrich/data/varseek_data/gatk_nov17/alignment/AnalyzeCovariates.pdf\n",
      "Stdout: \n",
      "Stderr: Error in library(\"ggplot2\") : there is no package called ‘ggplot2’\n",
      "Calls: source -> withVisible -> eval -> eval -> library\n",
      "Execution halted\n",
      "\n",
      "\tat org.broadinstitute.hellbender.utils.R.RScriptExecutor.getScriptException(RScriptExecutor.java:79)\n",
      "\tat org.broadinstitute.hellbender.utils.R.RScriptExecutor.getScriptException(RScriptExecutor.java:18)\n",
      "\tat org.broadinstitute.hellbender.utils.runtime.ScriptExecutor.executeCuratedArgs(ScriptExecutor.java:112)\n",
      "\tat org.broadinstitute.hellbender.utils.R.RScriptExecutor.exec(RScriptExecutor.java:125)\n",
      "\tat org.broadinstitute.hellbender.utils.recalibration.RecalUtils.generatePlots(RecalUtils.java:360)\n",
      "\tat org.broadinstitute.hellbender.tools.walkers.bqsr.AnalyzeCovariates.generatePlots(AnalyzeCovariates.java:329)\n",
      "\tat org.broadinstitute.hellbender.tools.walkers.bqsr.AnalyzeCovariates.doWork(AnalyzeCovariates.java:341)\n",
      "\tat org.broadinstitute.hellbender.cmdline.CommandLineProgram.runTool(CommandLineProgram.java:149)\n",
      "\tat org.broadinstitute.hellbender.cmdline.CommandLineProgram.instanceMainPostParseArgs(CommandLineProgram.java:198)\n",
      "\tat org.broadinstitute.hellbender.cmdline.CommandLineProgram.instanceMain(CommandLineProgram.java:217)\n",
      "\tat org.broadinstitute.hellbender.Main.runCommandLineProgram(Main.java:166)\n",
      "\tat org.broadinstitute.hellbender.Main.mainEntry(Main.java:209)\n",
      "\tat org.broadinstitute.hellbender.Main.main(Main.java:306)\n"
     ]
    }
   ],
   "source": [
    "!$gatk AnalyzeCovariates \\\n",
    "    -bqsr $recal_data_table \\\n",
    "    -plots $covariates_plot\n",
    "\n"
   ]
  },
  {
   "cell_type": "markdown",
   "metadata": {},
   "source": [
    "8a. HaplotypeCaller"
   ]
  },
  {
   "cell_type": "code",
   "execution_count": 31,
   "metadata": {},
   "outputs": [
    {
     "name": "stdout",
     "output_type": "stream",
     "text": [
      "Using GATK jar /home/jrich/opt/gatk-4.6.0.0/gatk-package-4.6.0.0-local.jar\n",
      "Running:\n",
      "    java -Dsamjdk.use_async_io_read_samtools=false -Dsamjdk.use_async_io_write_samtools=true -Dsamjdk.use_async_io_write_tribble=false -Dsamjdk.compression_level=2 -Xmx4g -jar /home/jrich/opt/gatk-4.6.0.0/gatk-package-4.6.0.0-local.jar HaplotypeCaller -R /home/jrich/data/varseek_data/reference/ensembl_grch37_release93/Homo_sapiens.GRCh37.dna.primary_assembly.fa -I /home/jrich/data/varseek_data/gatk_nov17/alignment/recalibrated.bam -O /home/jrich/data/varseek_data/gatk_nov17/vcfs/haplotypecaller/haplotypecaller_output_unfiltered.g.vcf.gz --standard-min-confidence-threshold-for-calling 20 -dont-use-soft-clipped-bases\n",
      "10:31:05.652 INFO  NativeLibraryLoader - Loading libgkl_compression.so from jar:file:/home/jrich/opt/gatk-4.6.0.0/gatk-package-4.6.0.0-local.jar!/com/intel/gkl/native/libgkl_compression.so\n",
      "10:31:05.794 INFO  HaplotypeCaller - ------------------------------------------------------------\n",
      "10:31:05.799 INFO  HaplotypeCaller - The Genome Analysis Toolkit (GATK) v4.6.0.0\n",
      "10:31:05.799 INFO  HaplotypeCaller - For support and documentation go to https://software.broadinstitute.org/gatk/\n",
      "10:31:05.799 INFO  HaplotypeCaller - Executing as jrich@dator on Linux v3.10.0-1127.13.1.el7.x86_64 amd64\n",
      "10:31:05.799 INFO  HaplotypeCaller - Java runtime: OpenJDK 64-Bit Server VM v17.0.12+7\n",
      "10:31:05.799 INFO  HaplotypeCaller - Start Date/Time: November 21, 2024 at 10:31:05 AM PST\n",
      "10:31:05.799 INFO  HaplotypeCaller - ------------------------------------------------------------\n",
      "10:31:05.800 INFO  HaplotypeCaller - ------------------------------------------------------------\n",
      "10:31:05.801 INFO  HaplotypeCaller - HTSJDK Version: 4.1.1\n",
      "10:31:05.801 INFO  HaplotypeCaller - Picard Version: 3.2.0\n",
      "10:31:05.801 INFO  HaplotypeCaller - Built for Spark Version: 3.5.0\n",
      "10:31:05.801 INFO  HaplotypeCaller - HTSJDK Defaults.COMPRESSION_LEVEL : 2\n",
      "10:31:05.802 INFO  HaplotypeCaller - HTSJDK Defaults.USE_ASYNC_IO_READ_FOR_SAMTOOLS : false\n",
      "10:31:05.802 INFO  HaplotypeCaller - HTSJDK Defaults.USE_ASYNC_IO_WRITE_FOR_SAMTOOLS : true\n",
      "10:31:05.802 INFO  HaplotypeCaller - HTSJDK Defaults.USE_ASYNC_IO_WRITE_FOR_TRIBBLE : false\n",
      "10:31:05.802 INFO  HaplotypeCaller - Deflater: IntelDeflater\n",
      "10:31:05.802 INFO  HaplotypeCaller - Inflater: IntelInflater\n",
      "10:31:05.803 INFO  HaplotypeCaller - GCS max retries/reopens: 20\n",
      "10:31:05.803 INFO  HaplotypeCaller - Requester pays: disabled\n",
      "10:31:05.803 INFO  HaplotypeCaller - Initializing engine\n",
      "10:31:06.034 INFO  HaplotypeCaller - Done initializing engine\n",
      "10:31:06.048 INFO  NativeLibraryLoader - Loading libgkl_utils.so from jar:file:/home/jrich/opt/gatk-4.6.0.0/gatk-package-4.6.0.0-local.jar!/com/intel/gkl/native/libgkl_utils.so\n",
      "10:31:06.049 INFO  NativeLibraryLoader - Loading libgkl_smithwaterman.so from jar:file:/home/jrich/opt/gatk-4.6.0.0/gatk-package-4.6.0.0-local.jar!/com/intel/gkl/native/libgkl_smithwaterman.so\n",
      "10:31:06.050 INFO  IntelSmithWaterman - Using CPU-supported AVX-512 instructions\n",
      "10:31:06.050 INFO  SmithWatermanAligner - Using AVX accelerated SmithWaterman implementation\n",
      "10:31:06.054 INFO  HaplotypeCallerEngine - Disabling physical phasing, which is supported only for reference-model confidence output\n",
      "10:31:06.065 INFO  NativeLibraryLoader - Loading libgkl_pairhmm_omp.so from jar:file:/home/jrich/opt/gatk-4.6.0.0/gatk-package-4.6.0.0-local.jar!/com/intel/gkl/native/libgkl_pairhmm_omp.so\n",
      "10:31:06.104 INFO  IntelPairHmm - Using CPU-supported AVX-512 instructions\n",
      "10:31:06.104 INFO  IntelPairHmm - Flush-to-zero (FTZ) is enabled when running PairHMM\n",
      "10:31:06.105 INFO  IntelPairHmm - Available threads: 88\n",
      "10:31:06.105 INFO  IntelPairHmm - Requested threads: 4\n",
      "10:31:06.105 INFO  PairHMM - Using the OpenMP multi-threaded AVX-accelerated native PairHMM implementation\n",
      "10:31:06.143 INFO  ProgressMeter - Starting traversal\n",
      "10:31:06.143 INFO  ProgressMeter -        Current Locus  Elapsed Minutes     Regions Processed   Regions/Minute\n",
      "10:31:08.210 WARN  InbreedingCoeff - InbreedingCoeff will not be calculated at position 1:11317200 and possibly subsequent; at least 10 samples must have called genotypes\n",
      "10:31:16.143 INFO  ProgressMeter -           1:62708615              0.2                209070        1254420.0\n",
      "10:31:26.143 INFO  ProgressMeter -          1:135540136              0.3                451850        1355550.0\n",
      "10:31:36.160 INFO  ProgressMeter -          1:206651443              0.5                688910        1377039.7\n",
      "10:31:46.160 INFO  ProgressMeter -          10:23376001              0.7                908840        1362680.9\n",
      "10:31:56.160 INFO  ProgressMeter -          10:83786604              0.8               1110220        1331811.2\n",
      "10:32:06.160 INFO  ProgressMeter -           11:7379684              1.0               1307320        1306949.7\n",
      "10:32:16.160 INFO  ProgressMeter -          11:71750673              1.2               1521910        1304177.6\n",
      "10:32:26.160 INFO  ProgressMeter -         11:132971938              1.3               1726000        1294225.0\n",
      "10:32:36.160 INFO  ProgressMeter -          12:62946479              1.5               1942610        1294828.8\n",
      "10:32:46.160 INFO  ProgressMeter -         12:125625404              1.7               2151560        1290716.6\n",
      "10:32:56.160 INFO  ProgressMeter -          13:56685958              1.8               2367940        1291404.1\n",
      "10:33:06.161 INFO  ProgressMeter -         13:107589958              2.0               2537620        1268630.3\n",
      "10:33:16.160 INFO  ProgressMeter -          14:41778198              2.2               2702170        1246992.3\n",
      "10:33:26.160 INFO  ProgressMeter -          14:92429403              2.3               2871020        1230287.8\n",
      "10:33:36.162 INFO  ProgressMeter -          15:40387801              2.5               3055380        1222013.5\n",
      "10:33:46.160 INFO  ProgressMeter -          15:93401149              2.7               3232120        1211916.2\n",
      "10:33:56.160 INFO  ProgressMeter -          16:53523233              2.8               3440980        1214342.1\n",
      "10:34:06.160 INFO  ProgressMeter -          17:26648935              3.0               3652610        1217421.7\n",
      "10:34:16.162 INFO  ProgressMeter -           18:2564101              3.2               3842990        1213460.8\n",
      "10:34:26.162 INFO  ProgressMeter -          18:52658101              3.3               4009970        1202882.7\n",
      "10:34:36.161 INFO  ProgressMeter -          19:30129284              3.5               4195150        1198511.6\n",
      "10:34:46.161 INFO  ProgressMeter -           2:27087601              3.7               4382120        1195025.9\n",
      "10:34:56.161 INFO  ProgressMeter -           2:86454618              3.8               4580020        1194694.3\n",
      "10:35:06.161 INFO  ProgressMeter -          2:141065862              4.0               4762060        1190425.7\n",
      "10:35:16.161 INFO  ProgressMeter -          2:196580611              4.2               4947120        1187223.3\n",
      "10:35:26.163 INFO  ProgressMeter -          2:243029808              4.3               5101960        1177293.9\n",
      "10:35:36.161 INFO  ProgressMeter -          20:54360972              4.5               5283730        1174083.9\n",
      "10:35:46.162 INFO  ProgressMeter -           22:4148401              4.7               5486890        1175686.6\n",
      "10:35:56.161 INFO  ProgressMeter -            3:5475481              4.8               5662340        1171445.9\n",
      "10:36:06.162 INFO  ProgressMeter -           3:67613575              5.0               5869480        1173825.6\n",
      "10:36:16.164 INFO  ProgressMeter -          3:132099503              5.2               6084440        1177557.6\n",
      "10:36:26.163 INFO  ProgressMeter -          3:188606573              5.3               6272800        1176076.5\n",
      "10:36:36.163 INFO  ProgressMeter -           4:54896025              5.5               6487180        1179415.8\n",
      "10:36:46.163 INFO  ProgressMeter -          4:118535476              5.7               6699320        1182163.4\n",
      "10:36:56.163 INFO  ProgressMeter -          4:180440339              5.8               6905680        1183763.2\n",
      "10:37:06.163 INFO  ProgressMeter -           5:54258497              6.0               7122270        1186979.1\n",
      "10:37:16.163 INFO  ProgressMeter -          5:118523923              6.2               7336490        1189636.8\n",
      "10:37:26.163 INFO  ProgressMeter -          5:178017630              6.3               7534820        1189645.8\n",
      "10:37:36.163 INFO  ProgressMeter -           6:61153345              6.5               7748340        1191991.2\n",
      "10:37:46.163 INFO  ProgressMeter -          6:125967330              6.7               7964390        1194598.8\n",
      "10:37:56.163 INFO  ProgressMeter -           7:18394364              6.8               8176210        1196460.2\n",
      "10:38:06.163 INFO  ProgressMeter -           7:84662885              7.0               8397110        1199530.0\n",
      "10:38:16.163 INFO  ProgressMeter -          7:146646365              7.2               8603740        1200466.0\n",
      "10:38:26.163 INFO  ProgressMeter -           8:52266525              7.3               8819610        1202619.4\n",
      "10:38:36.163 INFO  ProgressMeter -          8:117414520              7.5               9036780        1204850.5\n",
      "10:38:46.163 INFO  ProgressMeter -           9:37478898              7.7               9258220        1207541.4\n",
      "10:38:56.163 INFO  ProgressMeter -          9:104240898              7.8               9480760        1210258.3\n",
      "10:39:06.163 INFO  ProgressMeter -           X:29003522              8.0               9700760        1212544.5\n",
      "10:39:16.163 INFO  ProgressMeter -           X:93538641              8.2               9915900        1214142.3\n",
      "10:39:26.163 INFO  ProgressMeter -            Y:3089701              8.3              10131990        1215790.2\n",
      "10:39:36.163 INFO  ProgressMeter -     GL000194.1:20401              8.5              10322200        1214328.8\n",
      "10:39:37.066 INFO  HaplotypeCaller - 1103 read(s) filtered by: MappingQualityReadFilter \n",
      "0 read(s) filtered by: MappingQualityAvailableReadFilter \n",
      "0 read(s) filtered by: MappedReadFilter \n",
      "0 read(s) filtered by: NotSecondaryAlignmentReadFilter \n",
      "25223 read(s) filtered by: NotDuplicateReadFilter \n",
      "0 read(s) filtered by: PassesVendorQualityCheckReadFilter \n",
      "0 read(s) filtered by: NonZeroReferenceLengthAlignmentReadFilter \n",
      "0 read(s) filtered by: GoodCigarReadFilter \n",
      "0 read(s) filtered by: WellformedReadFilter \n",
      "26326 total reads filtered out of 97720 reads processed\n",
      "10:39:37.067 INFO  ProgressMeter -      GL000207.1:4201              8.5              10340000        1214270.6\n",
      "10:39:37.067 INFO  ProgressMeter - Traversal complete. Processed 10340000 total regions in 8.5 minutes.\n",
      "10:39:37.090 INFO  VectorLoglessPairHMM - Time spent in setup for JNI call : 0.016564250000000003\n",
      "10:39:37.091 INFO  PairHMM - Total compute time in PairHMM computeLogLikelihoods() : 0.18077892\n",
      "10:39:37.091 INFO  SmithWatermanAligner - Total compute time in native Smith-Waterman : 0.07 sec\n",
      "10:39:37.092 INFO  HaplotypeCaller - Shutting down engine\n",
      "[November 21, 2024 at 10:39:37 AM PST] org.broadinstitute.hellbender.tools.walkers.haplotypecaller.HaplotypeCaller done. Elapsed time: 8.52 minutes.\n",
      "Runtime.totalMemory()=1126170624\n"
     ]
    }
   ],
   "source": [
    "\n",
    "!$gatk --java-options \"-Xmx4g\" HaplotypeCaller  \\\n",
    "    -R $reference_genome_fasta \\\n",
    "    -I $recalibrated_bam \\\n",
    "    -O $haplotypecaller_unfiltered_vcf \\\n",
    "    --standard-min-confidence-threshold-for-calling 20 \\\n",
    "    -dont-use-soft-clipped-bases \\\n",
    "\n"
   ]
  },
  {
   "cell_type": "markdown",
   "metadata": {},
   "source": [
    "8.5a. MergeVcfs"
   ]
  },
  {
   "cell_type": "code",
   "execution_count": 32,
   "metadata": {},
   "outputs": [],
   "source": [
    "# merged_vcf = haplotypecaller_merged.vcf\n",
    "# \n",
    "# !$java -jar $picard_jar MergeVcfs \\\n",
    "#     --INPUT $vcf1 \\\n",
    "#     --INPUT $vcf2 \\\n",
    "#     --OUTPUT $merged_vcf"
   ]
  },
  {
   "cell_type": "markdown",
   "metadata": {},
   "source": [
    "9a. VariantFiltration"
   ]
  },
  {
   "cell_type": "code",
   "execution_count": 33,
   "metadata": {},
   "outputs": [
    {
     "name": "stdout",
     "output_type": "stream",
     "text": [
      "Using GATK jar /home/jrich/opt/gatk-4.6.0.0/gatk-package-4.6.0.0-local.jar\n",
      "Running:\n",
      "    java -Dsamjdk.use_async_io_read_samtools=false -Dsamjdk.use_async_io_write_samtools=true -Dsamjdk.use_async_io_write_tribble=false -Dsamjdk.compression_level=2 -jar /home/jrich/opt/gatk-4.6.0.0/gatk-package-4.6.0.0-local.jar VariantFiltration -R /home/jrich/data/varseek_data/reference/ensembl_grch37_release93/Homo_sapiens.GRCh37.dna.primary_assembly.fa -V /home/jrich/data/varseek_data/gatk_nov17/vcfs/haplotypecaller/haplotypecaller_output_unfiltered.g.vcf.gz -O /home/jrich/data/varseek_data/gatk_nov17/vcfs/haplotypecaller/haplotypecaller_output_filtered.vcf.gz --window 35 --cluster 3 --filter-name FS --filter FS > 30.0 --filter-name QD --filter QD < 2.0\n",
      "10:39:39.991 INFO  NativeLibraryLoader - Loading libgkl_compression.so from jar:file:/home/jrich/opt/gatk-4.6.0.0/gatk-package-4.6.0.0-local.jar!/com/intel/gkl/native/libgkl_compression.so\n",
      "10:39:40.151 INFO  VariantFiltration - ------------------------------------------------------------\n",
      "10:39:40.156 INFO  VariantFiltration - The Genome Analysis Toolkit (GATK) v4.6.0.0\n",
      "10:39:40.156 INFO  VariantFiltration - For support and documentation go to https://software.broadinstitute.org/gatk/\n",
      "10:39:40.156 INFO  VariantFiltration - Executing as jrich@dator on Linux v3.10.0-1127.13.1.el7.x86_64 amd64\n",
      "10:39:40.156 INFO  VariantFiltration - Java runtime: OpenJDK 64-Bit Server VM v17.0.12+7\n",
      "10:39:40.157 INFO  VariantFiltration - Start Date/Time: November 21, 2024 at 10:39:39 AM PST\n",
      "10:39:40.157 INFO  VariantFiltration - ------------------------------------------------------------\n",
      "10:39:40.157 INFO  VariantFiltration - ------------------------------------------------------------\n",
      "10:39:40.158 INFO  VariantFiltration - HTSJDK Version: 4.1.1\n",
      "10:39:40.158 INFO  VariantFiltration - Picard Version: 3.2.0\n",
      "10:39:40.158 INFO  VariantFiltration - Built for Spark Version: 3.5.0\n",
      "10:39:40.158 INFO  VariantFiltration - HTSJDK Defaults.COMPRESSION_LEVEL : 2\n",
      "10:39:40.158 INFO  VariantFiltration - HTSJDK Defaults.USE_ASYNC_IO_READ_FOR_SAMTOOLS : false\n",
      "10:39:40.159 INFO  VariantFiltration - HTSJDK Defaults.USE_ASYNC_IO_WRITE_FOR_SAMTOOLS : true\n",
      "10:39:40.159 INFO  VariantFiltration - HTSJDK Defaults.USE_ASYNC_IO_WRITE_FOR_TRIBBLE : false\n",
      "10:39:40.159 INFO  VariantFiltration - Deflater: IntelDeflater\n",
      "10:39:40.159 INFO  VariantFiltration - Inflater: IntelInflater\n",
      "10:39:40.159 INFO  VariantFiltration - GCS max retries/reopens: 20\n",
      "10:39:40.159 INFO  VariantFiltration - Requester pays: disabled\n",
      "10:39:40.160 INFO  VariantFiltration - Initializing engine\n",
      "10:39:40.383 INFO  FeatureManager - Using codec VCFCodec to read file file:///home/jrich/data/varseek_data/gatk_nov17/vcfs/haplotypecaller/haplotypecaller_output_unfiltered.g.vcf.gz\n",
      "10:39:40.450 INFO  VariantFiltration - Done initializing engine\n",
      "10:39:40.539 INFO  ProgressMeter - Starting traversal\n",
      "10:39:40.539 INFO  ProgressMeter -        Current Locus  Elapsed Minutes    Variants Processed  Variants/Minute\n",
      "10:39:40.656 INFO  ProgressMeter -             unmapped              0.0                   198         102413.8\n",
      "10:39:40.657 INFO  ProgressMeter - Traversal complete. Processed 198 total variants in 0.0 minutes.\n",
      "10:39:40.683 INFO  VariantFiltration - Shutting down engine\n",
      "[November 21, 2024 at 10:39:40 AM PST] org.broadinstitute.hellbender.tools.walkers.filters.VariantFiltration done. Elapsed time: 0.01 minutes.\n",
      "Runtime.totalMemory()=285212672\n"
     ]
    }
   ],
   "source": [
    "# cosmic_vcf = \"\"\n",
    "\n",
    "!$gatk VariantFiltration \\\n",
    "    -R $reference_genome_fasta \\\n",
    "    -V $haplotypecaller_unfiltered_vcf \\\n",
    "    -O $haplotypecaller_filtered_vcf \\\n",
    "    --window 35 \\\n",
    "    --cluster 3 \\\n",
    "    --filter-name \"FS\" \\\n",
    "    --filter \"FS > 30.0\" \\\n",
    "    --filter-name \"QD\" \\\n",
    "    --filter \"QD < 2.0\"\n",
    "\n",
    "    # --mask $cosmic_vcf \\\n",
    "    # --mask-name \"COSMIC\" \\\n",
    "    # --filter-not-in-mask \\\n",
    "\n"
   ]
  },
  {
   "cell_type": "markdown",
   "metadata": {},
   "source": [
    "10a. Do the filtering"
   ]
  },
  {
   "cell_type": "code",
   "execution_count": 34,
   "metadata": {},
   "outputs": [
    {
     "name": "stdout",
     "output_type": "stream",
     "text": [
      "Using GATK jar /home/jrich/opt/gatk-4.6.0.0/gatk-package-4.6.0.0-local.jar\n",
      "Running:\n",
      "    java -Dsamjdk.use_async_io_read_samtools=false -Dsamjdk.use_async_io_write_samtools=true -Dsamjdk.use_async_io_write_tribble=false -Dsamjdk.compression_level=2 -jar /home/jrich/opt/gatk-4.6.0.0/gatk-package-4.6.0.0-local.jar SelectVariants -V /home/jrich/data/varseek_data/gatk_nov17/vcfs/haplotypecaller/haplotypecaller_output_filtered.vcf.gz --exclude-filtered true -O /home/jrich/data/varseek_data/gatk_nov17/vcfs/haplotypecaller/haplotypecaller_output_filtered_applied.vcf.gz\n",
      "10:39:42.680 INFO  NativeLibraryLoader - Loading libgkl_compression.so from jar:file:/home/jrich/opt/gatk-4.6.0.0/gatk-package-4.6.0.0-local.jar!/com/intel/gkl/native/libgkl_compression.so\n",
      "10:39:42.825 INFO  SelectVariants - ------------------------------------------------------------\n",
      "10:39:42.829 INFO  SelectVariants - The Genome Analysis Toolkit (GATK) v4.6.0.0\n",
      "10:39:42.829 INFO  SelectVariants - For support and documentation go to https://software.broadinstitute.org/gatk/\n",
      "10:39:42.829 INFO  SelectVariants - Executing as jrich@dator on Linux v3.10.0-1127.13.1.el7.x86_64 amd64\n",
      "10:39:42.829 INFO  SelectVariants - Java runtime: OpenJDK 64-Bit Server VM v17.0.12+7\n",
      "10:39:42.830 INFO  SelectVariants - Start Date/Time: November 21, 2024 at 10:39:42 AM PST\n",
      "10:39:42.830 INFO  SelectVariants - ------------------------------------------------------------\n",
      "10:39:42.830 INFO  SelectVariants - ------------------------------------------------------------\n",
      "10:39:42.831 INFO  SelectVariants - HTSJDK Version: 4.1.1\n",
      "10:39:42.831 INFO  SelectVariants - Picard Version: 3.2.0\n",
      "10:39:42.831 INFO  SelectVariants - Built for Spark Version: 3.5.0\n",
      "10:39:42.832 INFO  SelectVariants - HTSJDK Defaults.COMPRESSION_LEVEL : 2\n",
      "10:39:42.832 INFO  SelectVariants - HTSJDK Defaults.USE_ASYNC_IO_READ_FOR_SAMTOOLS : false\n",
      "10:39:42.832 INFO  SelectVariants - HTSJDK Defaults.USE_ASYNC_IO_WRITE_FOR_SAMTOOLS : true\n",
      "10:39:42.832 INFO  SelectVariants - HTSJDK Defaults.USE_ASYNC_IO_WRITE_FOR_TRIBBLE : false\n",
      "10:39:42.832 INFO  SelectVariants - Deflater: IntelDeflater\n",
      "10:39:42.832 INFO  SelectVariants - Inflater: IntelInflater\n",
      "10:39:42.833 INFO  SelectVariants - GCS max retries/reopens: 20\n",
      "10:39:42.833 INFO  SelectVariants - Requester pays: disabled\n",
      "10:39:42.833 INFO  SelectVariants - Initializing engine\n",
      "10:39:42.978 INFO  FeatureManager - Using codec VCFCodec to read file file:///home/jrich/data/varseek_data/gatk_nov17/vcfs/haplotypecaller/haplotypecaller_output_filtered.vcf.gz\n",
      "10:39:43.072 INFO  SelectVariants - Done initializing engine\n",
      "10:39:43.107 INFO  ProgressMeter - Starting traversal\n",
      "10:39:43.108 INFO  ProgressMeter -        Current Locus  Elapsed Minutes    Variants Processed  Variants/Minute\n",
      "10:39:43.193 INFO  ProgressMeter -             unmapped              0.0                   198         141428.6\n",
      "10:39:43.194 INFO  ProgressMeter - Traversal complete. Processed 198 total variants in 0.0 minutes.\n",
      "10:39:43.231 INFO  SelectVariants - Shutting down engine\n",
      "[November 21, 2024 at 10:39:43 AM PST] org.broadinstitute.hellbender.tools.walkers.variantutils.SelectVariants done. Elapsed time: 0.01 minutes.\n",
      "Runtime.totalMemory()=285212672\n"
     ]
    }
   ],
   "source": [
    "!$gatk SelectVariants \\\n",
    "     -V $haplotypecaller_filtered_vcf \\\n",
    "     --exclude-filtered true \\\n",
    "     -O $haplotypecaller_filtered_applied_vcf"
   ]
  },
  {
   "cell_type": "markdown",
   "metadata": {},
   "source": [
    "8b. Mutect2"
   ]
  },
  {
   "cell_type": "code",
   "execution_count": 35,
   "metadata": {},
   "outputs": [
    {
     "name": "stdout",
     "output_type": "stream",
     "text": [
      "Using GATK jar /home/jrich/opt/gatk-4.6.0.0/gatk-package-4.6.0.0-local.jar\n",
      "Running:\n",
      "    java -Dsamjdk.use_async_io_read_samtools=false -Dsamjdk.use_async_io_write_samtools=true -Dsamjdk.use_async_io_write_tribble=false -Dsamjdk.compression_level=2 -jar /home/jrich/opt/gatk-4.6.0.0/gatk-package-4.6.0.0-local.jar Mutect2 -R /home/jrich/data/varseek_data/reference/ensembl_grch37_release93/Homo_sapiens.GRCh37.dna.primary_assembly.fa -I /home/jrich/data/varseek_data/gatk_nov17/alignment/recalibrated.bam -O /home/jrich/data/varseek_data/gatk_nov17/vcfs/mutect2/mutect2_output_unfiltered.g.vcf.gz --min-base-quality-score 20\n",
      "10:39:45.406 INFO  NativeLibraryLoader - Loading libgkl_compression.so from jar:file:/home/jrich/opt/gatk-4.6.0.0/gatk-package-4.6.0.0-local.jar!/com/intel/gkl/native/libgkl_compression.so\n",
      "10:39:45.533 INFO  Mutect2 - ------------------------------------------------------------\n",
      "10:39:45.537 INFO  Mutect2 - The Genome Analysis Toolkit (GATK) v4.6.0.0\n",
      "10:39:45.537 INFO  Mutect2 - For support and documentation go to https://software.broadinstitute.org/gatk/\n",
      "10:39:45.537 INFO  Mutect2 - Executing as jrich@dator on Linux v3.10.0-1127.13.1.el7.x86_64 amd64\n",
      "10:39:45.537 INFO  Mutect2 - Java runtime: OpenJDK 64-Bit Server VM v17.0.12+7\n",
      "10:39:45.538 INFO  Mutect2 - Start Date/Time: November 21, 2024 at 10:39:45 AM PST\n",
      "10:39:45.538 INFO  Mutect2 - ------------------------------------------------------------\n",
      "10:39:45.538 INFO  Mutect2 - ------------------------------------------------------------\n",
      "10:39:45.539 INFO  Mutect2 - HTSJDK Version: 4.1.1\n",
      "10:39:45.539 INFO  Mutect2 - Picard Version: 3.2.0\n",
      "10:39:45.539 INFO  Mutect2 - Built for Spark Version: 3.5.0\n",
      "10:39:45.539 INFO  Mutect2 - HTSJDK Defaults.COMPRESSION_LEVEL : 2\n",
      "10:39:45.539 INFO  Mutect2 - HTSJDK Defaults.USE_ASYNC_IO_READ_FOR_SAMTOOLS : false\n",
      "10:39:45.540 INFO  Mutect2 - HTSJDK Defaults.USE_ASYNC_IO_WRITE_FOR_SAMTOOLS : true\n",
      "10:39:45.540 INFO  Mutect2 - HTSJDK Defaults.USE_ASYNC_IO_WRITE_FOR_TRIBBLE : false\n",
      "10:39:45.540 INFO  Mutect2 - Deflater: IntelDeflater\n",
      "10:39:45.540 INFO  Mutect2 - Inflater: IntelInflater\n",
      "10:39:45.540 INFO  Mutect2 - GCS max retries/reopens: 20\n",
      "10:39:45.540 INFO  Mutect2 - Requester pays: disabled\n",
      "10:39:45.541 INFO  Mutect2 - Initializing engine\n",
      "10:39:45.782 INFO  Mutect2 - Done initializing engine\n",
      "10:39:45.794 INFO  NativeLibraryLoader - Loading libgkl_utils.so from jar:file:/home/jrich/opt/gatk-4.6.0.0/gatk-package-4.6.0.0-local.jar!/com/intel/gkl/native/libgkl_utils.so\n",
      "10:39:45.796 INFO  NativeLibraryLoader - Loading libgkl_smithwaterman.so from jar:file:/home/jrich/opt/gatk-4.6.0.0/gatk-package-4.6.0.0-local.jar!/com/intel/gkl/native/libgkl_smithwaterman.so\n",
      "10:39:45.797 INFO  IntelSmithWaterman - Using CPU-supported AVX-512 instructions\n",
      "10:39:45.798 INFO  SmithWatermanAligner - Using AVX accelerated SmithWaterman implementation\n",
      "10:39:45.812 INFO  NativeLibraryLoader - Loading libgkl_pairhmm_omp.so from jar:file:/home/jrich/opt/gatk-4.6.0.0/gatk-package-4.6.0.0-local.jar!/com/intel/gkl/native/libgkl_pairhmm_omp.so\n",
      "10:39:45.852 INFO  IntelPairHmm - Using CPU-supported AVX-512 instructions\n",
      "10:39:45.852 INFO  IntelPairHmm - Flush-to-zero (FTZ) is enabled when running PairHMM\n",
      "10:39:45.852 INFO  IntelPairHmm - Available threads: 88\n",
      "10:39:45.853 INFO  IntelPairHmm - Requested threads: 4\n",
      "10:39:45.853 INFO  PairHMM - Using the OpenMP multi-threaded AVX-accelerated native PairHMM implementation\n",
      "10:39:45.894 INFO  ProgressMeter - Starting traversal\n",
      "10:39:45.894 INFO  ProgressMeter -        Current Locus  Elapsed Minutes     Regions Processed   Regions/Minute\n",
      "10:39:55.895 INFO  ProgressMeter -           1:44641071              0.2                148840         893040.0\n",
      "10:40:05.895 INFO  ProgressMeter -           1:99068223              0.3                330280         990840.0\n",
      "10:40:15.895 INFO  ProgressMeter -          1:155671346              0.5                518960        1037920.0\n",
      "10:40:25.895 INFO  ProgressMeter -          1:213157530              0.7                710600        1065900.0\n",
      "10:40:35.895 INFO  ProgressMeter -          10:18239101              0.8                891720        1070064.0\n",
      "10:40:45.895 INFO  ProgressMeter -          10:74531101              1.0               1079360        1079360.0\n",
      "10:40:55.895 INFO  ProgressMeter -         10:124821805              1.2               1247010        1068865.7\n",
      "10:41:05.895 INFO  ProgressMeter -          11:42885463              1.3               1425690        1069267.5\n",
      "10:41:15.895 INFO  ProgressMeter -          11:97309194              1.5               1607110        1071406.7\n",
      "10:41:25.895 INFO  ProgressMeter -          12:14077868              1.7               1779720        1067832.0\n",
      "10:41:35.895 INFO  ProgressMeter -          12:71784166              1.8               1972080        1075680.0\n",
      "10:41:45.895 INFO  ProgressMeter -         12:124022791              2.0               2146230        1073115.0\n",
      "10:41:55.895 INFO  ProgressMeter -          13:28644358              2.2               2274480        1049760.0\n",
      "10:42:05.897 INFO  ProgressMeter -          13:81789358              2.3               2451630        1050698.6\n",
      "10:42:15.896 INFO  ProgressMeter -           14:8861401              2.5               2592440        1036976.0\n",
      "10:42:25.896 INFO  ProgressMeter -          14:54816381              2.7               2745650        1029618.8\n",
      "10:42:35.896 INFO  ProgressMeter -         14:100316703              2.8               2897330        1022587.1\n",
      "10:42:45.895 INFO  ProgressMeter -          15:43431089              3.0               3065550        1021850.0\n",
      "10:42:55.896 INFO  ProgressMeter -          15:81860180              3.2               3193670        1008527.4\n",
      "10:43:05.895 INFO  ProgressMeter -          16:29884420              3.3               3362210        1008663.0\n",
      "10:43:15.895 INFO  ProgressMeter -          16:80237667              3.5               3530060        1008588.6\n",
      "10:43:25.895 INFO  ProgressMeter -          17:41982627              3.7               3703770        1010119.1\n",
      "10:43:35.895 INFO  ProgressMeter -          18:15454501              3.8               3886000        1013739.1\n",
      "10:43:45.895 INFO  ProgressMeter -          18:70840018              4.0               4070620        1017655.0\n",
      "10:43:55.895 INFO  ProgressMeter -          19:45452463              4.2               4246290        1019109.6\n",
      "10:44:05.895 INFO  ProgressMeter -           2:45254701              4.3               4442730        1025245.4\n",
      "10:44:15.895 INFO  ProgressMeter -           2:88727418              4.5               4587650        1019477.8\n",
      "10:44:25.895 INFO  ProgressMeter -          2:140938649              4.7               4761690        1020362.1\n",
      "10:44:35.895 INFO  ProgressMeter -          2:195430411              4.8               4943340        1022760.0\n",
      "10:44:45.896 INFO  ProgressMeter -           20:4050001              5.0               5116080        1023216.0\n",
      "10:44:55.895 INFO  ProgressMeter -          20:61520977              5.2               5307660        1027289.0\n",
      "10:45:05.895 INFO  ProgressMeter -           22:7024201              5.3               5496530        1030599.4\n",
      "10:45:15.906 INFO  ProgressMeter -           3:13522709              5.5               5689220        1034369.2\n",
      "10:45:25.906 INFO  ProgressMeter -           3:72559074              5.7               5886020        1038675.8\n",
      "10:45:35.906 INFO  ProgressMeter -          3:126688074              5.8               6066450        1039930.2\n",
      "10:45:45.906 INFO  ProgressMeter -          3:176055773              6.0               6231020        1038471.6\n",
      "10:45:55.906 INFO  ProgressMeter -           4:28679625              6.2               6399850        1037782.7\n",
      "10:46:05.906 INFO  ProgressMeter -           4:86228343              6.3               6591680        1040761.5\n",
      "10:46:15.906 INFO  ProgressMeter -          4:142412463              6.5               6778970        1042889.0\n",
      "10:46:25.906 INFO  ProgressMeter -            5:6506448              6.7               6963150        1044443.8\n",
      "10:46:35.906 INFO  ProgressMeter -           5:64751584              6.8               7157310        1047383.1\n",
      "10:46:45.906 INFO  ProgressMeter -          5:119375023              7.0               7339390        1048456.8\n",
      "10:46:55.906 INFO  ProgressMeter -          5:173798904              7.2               7520820        1049389.9\n",
      "10:47:05.906 INFO  ProgressMeter -           6:50803632              7.3               7713910        1051870.5\n",
      "10:47:15.906 INFO  ProgressMeter -          6:107412617              7.5               7902610        1053655.6\n",
      "10:47:25.906 INFO  ProgressMeter -          6:162261878              7.7               8085450        1054598.7\n",
      "10:47:35.906 INFO  ProgressMeter -           7:47407664              7.8               8272990        1056101.7\n",
      "10:47:45.908 INFO  ProgressMeter -          7:100824182              8.0               8451060        1056353.9\n",
      "10:47:55.909 INFO  ProgressMeter -          7:154155352              8.2               8628840        1056562.5\n",
      "10:48:05.909 INFO  ProgressMeter -           8:53985212              8.3               8825410        1059019.5\n",
      "10:48:15.909 INFO  ProgressMeter -          8:111473607              8.5               9017050        1060800.3\n",
      "10:48:25.909 INFO  ProgressMeter -           9:23029985              8.7               9210130        1062678.7\n",
      "10:48:35.909 INFO  ProgressMeter -           9:81928985              8.8               9406460        1064854.1\n",
      "10:48:45.909 INFO  ProgressMeter -          9:137812259              9.0               9592740        1065832.4\n",
      "10:48:55.909 INFO  ProgressMeter -           X:55173141              9.2               9788090        1067764.5\n",
      "10:49:05.909 INFO  ProgressMeter -          X:112142478              9.3               9977990        1069043.6\n",
      "10:49:15.909 INFO  ProgressMeter -           Y:10860001              9.5              10157970        1069233.7\n",
      "10:49:25.910 INFO  ProgressMeter -           Y:59349001              9.7              10319600        1067519.1\n",
      "10:49:27.797 INFO  Mutect2 - 1103 read(s) filtered by: MappingQualityReadFilter \n",
      "0 read(s) filtered by: MappingQualityAvailableReadFilter \n",
      "0 read(s) filtered by: MappingQualityNotZeroReadFilter \n",
      "0 read(s) filtered by: MappedReadFilter \n",
      "0 read(s) filtered by: NotSecondaryAlignmentReadFilter \n",
      "25223 read(s) filtered by: NotDuplicateReadFilter \n",
      "0 read(s) filtered by: PassesVendorQualityCheckReadFilter \n",
      "0 read(s) filtered by: NonChimericOriginalAlignmentReadFilter \n",
      "0 read(s) filtered by: NonZeroReferenceLengthAlignmentReadFilter \n",
      "0 read(s) filtered by: ReadLengthReadFilter \n",
      "0 read(s) filtered by: GoodCigarReadFilter \n",
      "0 read(s) filtered by: WellformedReadFilter \n",
      "26326 total reads filtered out of 97720 reads processed\n",
      "10:49:27.797 INFO  ProgressMeter -      GL000207.1:1501              9.7              10340079        1066167.1\n",
      "10:49:27.797 INFO  ProgressMeter - Traversal complete. Processed 10340079 total regions in 9.7 minutes.\n",
      "10:49:27.836 INFO  VectorLoglessPairHMM - Time spent in setup for JNI call : 0.014883088000000001\n",
      "10:49:27.837 INFO  PairHMM - Total compute time in PairHMM computeLogLikelihoods() : 0.17725357800000002\n",
      "10:49:27.837 INFO  SmithWatermanAligner - Total compute time in native Smith-Waterman : 0.05 sec\n",
      "10:49:27.839 INFO  Mutect2 - Shutting down engine\n",
      "[November 21, 2024 at 10:49:27 AM PST] org.broadinstitute.hellbender.tools.walkers.mutect.Mutect2 done. Elapsed time: 9.71 minutes.\n",
      "Runtime.totalMemory()=3355443200\n",
      "Tool returned:\n",
      "SUCCESS\n"
     ]
    }
   ],
   "source": [
    "# consider adding --disable-read-filter\n",
    "# TODO: add --panel-of-normals $panel_of_normals_vcf_filtered once I install bgzip\n",
    "!$gatk Mutect2 \\\n",
    "    -R $reference_genome_fasta \\\n",
    "    -I $recalibrated_bam \\\n",
    "    -O $mutect2_unfiltered_vcf \\\n",
    "    --min-base-quality-score 20\n",
    "\n"
   ]
  },
  {
   "cell_type": "markdown",
   "metadata": {},
   "source": [
    "9b. FilterMutectCalls"
   ]
  },
  {
   "cell_type": "code",
   "execution_count": 36,
   "metadata": {},
   "outputs": [
    {
     "name": "stdout",
     "output_type": "stream",
     "text": [
      "Using GATK jar /home/jrich/opt/gatk-4.6.0.0/gatk-package-4.6.0.0-local.jar\n",
      "Running:\n",
      "    java -Dsamjdk.use_async_io_read_samtools=false -Dsamjdk.use_async_io_write_samtools=true -Dsamjdk.use_async_io_write_tribble=false -Dsamjdk.compression_level=2 -jar /home/jrich/opt/gatk-4.6.0.0/gatk-package-4.6.0.0-local.jar FilterMutectCalls -R /home/jrich/data/varseek_data/reference/ensembl_grch37_release93/Homo_sapiens.GRCh37.dna.primary_assembly.fa -V /home/jrich/data/varseek_data/gatk_nov17/vcfs/mutect2/mutect2_output_unfiltered.g.vcf.gz -O /home/jrich/data/varseek_data/gatk_nov17/vcfs/mutect2/mutect2_output_filtered.vcf.gz\n",
      "10:49:30.162 INFO  NativeLibraryLoader - Loading libgkl_compression.so from jar:file:/home/jrich/opt/gatk-4.6.0.0/gatk-package-4.6.0.0-local.jar!/com/intel/gkl/native/libgkl_compression.so\n",
      "10:49:30.305 INFO  FilterMutectCalls - ------------------------------------------------------------\n",
      "10:49:30.309 INFO  FilterMutectCalls - The Genome Analysis Toolkit (GATK) v4.6.0.0\n",
      "10:49:30.309 INFO  FilterMutectCalls - For support and documentation go to https://software.broadinstitute.org/gatk/\n",
      "10:49:30.310 INFO  FilterMutectCalls - Executing as jrich@dator on Linux v3.10.0-1127.13.1.el7.x86_64 amd64\n",
      "10:49:30.310 INFO  FilterMutectCalls - Java runtime: OpenJDK 64-Bit Server VM v17.0.12+7\n",
      "10:49:30.310 INFO  FilterMutectCalls - Start Date/Time: November 21, 2024 at 10:49:30 AM PST\n",
      "10:49:30.310 INFO  FilterMutectCalls - ------------------------------------------------------------\n",
      "10:49:30.310 INFO  FilterMutectCalls - ------------------------------------------------------------\n",
      "10:49:30.311 INFO  FilterMutectCalls - HTSJDK Version: 4.1.1\n",
      "10:49:30.312 INFO  FilterMutectCalls - Picard Version: 3.2.0\n",
      "10:49:30.312 INFO  FilterMutectCalls - Built for Spark Version: 3.5.0\n",
      "10:49:30.312 INFO  FilterMutectCalls - HTSJDK Defaults.COMPRESSION_LEVEL : 2\n",
      "10:49:30.312 INFO  FilterMutectCalls - HTSJDK Defaults.USE_ASYNC_IO_READ_FOR_SAMTOOLS : false\n",
      "10:49:30.312 INFO  FilterMutectCalls - HTSJDK Defaults.USE_ASYNC_IO_WRITE_FOR_SAMTOOLS : true\n",
      "10:49:30.313 INFO  FilterMutectCalls - HTSJDK Defaults.USE_ASYNC_IO_WRITE_FOR_TRIBBLE : false\n",
      "10:49:30.313 INFO  FilterMutectCalls - Deflater: IntelDeflater\n",
      "10:49:30.313 INFO  FilterMutectCalls - Inflater: IntelInflater\n",
      "10:49:30.313 INFO  FilterMutectCalls - GCS max retries/reopens: 20\n",
      "10:49:30.313 INFO  FilterMutectCalls - Requester pays: disabled\n",
      "10:49:30.314 INFO  FilterMutectCalls - Initializing engine\n",
      "10:49:30.478 INFO  FeatureManager - Using codec VCFCodec to read file file:///home/jrich/data/varseek_data/gatk_nov17/vcfs/mutect2/mutect2_output_unfiltered.g.vcf.gz\n",
      "10:49:30.557 INFO  FilterMutectCalls - Done initializing engine\n",
      "10:49:30.627 INFO  ProgressMeter - Starting traversal\n",
      "10:49:30.628 INFO  ProgressMeter -        Current Locus  Elapsed Minutes    Variants Processed  Variants/Minute\n",
      "10:49:30.629 INFO  FilterMutectCalls - Starting pass 0 through the variants\n",
      "10:49:30.957 INFO  FilterMutectCalls - Finished pass 0 through the variants\n",
      "10:49:31.011 INFO  FilterMutectCalls - Starting pass 1 through the variants\n",
      "10:49:31.089 INFO  FilterMutectCalls - Finished pass 1 through the variants\n",
      "10:49:31.105 INFO  FilterMutectCalls - Starting pass 2 through the variants\n",
      "10:49:31.162 INFO  FilterMutectCalls - Finished pass 2 through the variants\n",
      "10:49:31.162 INFO  FilterMutectCalls - Starting pass 3 through the variants\n",
      "10:49:31.272 INFO  FilterMutectCalls - Finished pass 3 through the variants\n",
      "10:49:31.279 INFO  FilterMutectCalls - No variants filtered by: AllowAllVariantsVariantFilter\n",
      "10:49:31.280 INFO  FilterMutectCalls - 0 read(s) filtered by: AllowAllReadsReadFilter \n",
      "\n",
      "10:49:31.280 INFO  ProgressMeter -             unmapped              0.0                   776          71411.0\n",
      "10:49:31.280 INFO  ProgressMeter - Traversal complete. Processed 776 total variants in 0.0 minutes.\n",
      "10:49:31.297 INFO  FilterMutectCalls - Shutting down engine\n",
      "[November 21, 2024 at 10:49:31 AM PST] org.broadinstitute.hellbender.tools.walkers.mutect.filtering.FilterMutectCalls done. Elapsed time: 0.02 minutes.\n",
      "Runtime.totalMemory()=285212672\n"
     ]
    }
   ],
   "source": [
    "# # if multiple stats files:\n",
    "# !$gatk MergeMutectStats -stats unfiltered1.vcf.stats -stats unfiltered2.vcf.stats -O unfiltered.vcf.stats\n",
    "\n",
    "# stats_file = f\"{mutect2_unfiltered_vcf}.stats\"\n",
    "# --stats $stats_file\n",
    "!$gatk FilterMutectCalls \\\n",
    "    -R $reference_genome_fasta \\\n",
    "    -V $mutect2_unfiltered_vcf \\\n",
    "    -O $mutect2_filtered_vcf\n",
    "\n"
   ]
  },
  {
   "cell_type": "code",
   "execution_count": 37,
   "metadata": {},
   "outputs": [],
   "source": [
    "# def create_sample_vcf(output_path):\n",
    "#     with open(output_path, \"w\") as vcf_file:\n",
    "#         # Write VCF headers\n",
    "#         vcf_file.write(\"##fileformat=VCFv4.2\\n\")\n",
    "#         vcf_file.write(\"##source=SampleVCFGenerator\\n\")\n",
    "#         vcf_file.write(\"##reference=GRCh37\\n\")\n",
    "#         vcf_file.write(\"##INFO=<ID=DP,Number=1,Type=Integer,Description=\\\"Total Depth\\\">\\n\")\n",
    "#         vcf_file.write(\"##INFO=<ID=AF,Number=A,Type=Float,Description=\\\"Allele Frequency\\\">\\n\")\n",
    "#         vcf_file.write(\"##FILTER=<ID=PASS,Description=\\\"All filters passed\\\">\\n\")\n",
    "#         vcf_file.write(\"##FORMAT=<ID=GT,Number=1,Type=String,Description=\\\"Genotype\\\">\\n\")\n",
    "#         vcf_file.write(\"#CHROM\\tPOS\\tID\\tREF\\tALT\\tQUAL\\tFILTER\\tINFO\\tFORMAT\\tsample1\\n\")\n",
    "        \n",
    "#         # Write sample variant entries\n",
    "#         variants = [\n",
    "#             (\"1\", 123456, \".\", \"G\", \"A\", 50, \"PASS\", \"DP=100;AF=0.5\", \"GT\", \"0/1\"),\n",
    "#             (\"1\", 234567, \".\", \"C\", \"T\", 60, \"PASS\", \"DP=200;AF=0.3\", \"GT\", \"1/1\"),\n",
    "#             (\"2\", 345678, \".\", \"T\", \"G\", 70, \"PASS\", \"DP=150;AF=0.1\", \"GT\", \"0/1\"),\n",
    "#             (\"X\", 456789, \".\", \"A\", \"C\", 80, \"PASS\", \"DP=120;AF=0.05\", \"GT\", \"0/0\")\n",
    "#         ]\n",
    "        \n",
    "#         for chrom, pos, var_id, ref, alt, qual, fltr, info, fmt, sample in variants:\n",
    "#             vcf_file.write(f\"{chrom}\\t{pos}\\t{var_id}\\t{ref}\\t{alt}\\t{qual}\\t{fltr}\\t{info}\\t{fmt}\\t{sample}\\n\")\n",
    "\n",
    "# # Usage\n",
    "# create_sample_vcf(\"/home/jrich/data/varseek_data/gatk/sample.vcf\")\n",
    "\n",
    "# df_sample = vcf_to_dataframe(\"/home/jrich/data/varseek_data/gatk/sample.vcf\")"
   ]
  },
  {
   "cell_type": "markdown",
   "metadata": {},
   "source": [
    "# JUMP TO HERE"
   ]
  },
  {
   "cell_type": "code",
   "execution_count": 38,
   "metadata": {},
   "outputs": [],
   "source": [
    "from varseek.utils import vcf_to_dataframe\n",
    "\n",
    "# Convert VCF to DataFrame\n",
    "df_hap = vcf_to_dataframe(haplotypecaller_filtered_applied_vcf, additional_columns = False)\n",
    "df_mut = vcf_to_dataframe(mutect2_filtered_vcf, additional_columns = False)\n",
    "\n"
   ]
  },
  {
   "cell_type": "code",
   "execution_count": 39,
   "metadata": {},
   "outputs": [
    {
     "name": "stderr",
     "output_type": "stream",
     "text": [
      "100%|██████████| 15776/15776 [00:00<00:00, 59846.23it/s]\n",
      "100%|██████████| 120017/120017 [00:01<00:00, 74214.87it/s]\n",
      "1it [00:00, 634.25it/s]\n",
      "1it [00:00, 3118.44it/s]\n",
      "100%|██████████| 120017/120017 [00:00<00:00, 824801.30it/s] \n"
     ]
    }
   ],
   "source": [
    "cosmic_df = add_vcf_info_to_cosmic_tsv(cosmic_tsv=cosmic_tsv, reference_genome_fasta=reference_genome_fasta, cosmic_df_out = None, cosmic_cdna_info_csv = cosmic_cdna_info_csv, mutation_source = \"cdna\")"
   ]
  },
  {
   "cell_type": "code",
   "execution_count": 47,
   "metadata": {},
   "outputs": [
    {
     "data": {
      "text/html": [
       "<div>\n",
       "<style scoped>\n",
       "    .dataframe tbody tr th:only-of-type {\n",
       "        vertical-align: middle;\n",
       "    }\n",
       "\n",
       "    .dataframe tbody tr th {\n",
       "        vertical-align: top;\n",
       "    }\n",
       "\n",
       "    .dataframe thead th {\n",
       "        text-align: right;\n",
       "    }\n",
       "</style>\n",
       "<table border=\"1\" class=\"dataframe\">\n",
       "  <thead>\n",
       "    <tr style=\"text-align: right;\">\n",
       "      <th></th>\n",
       "      <th>CHROM</th>\n",
       "      <th>POS</th>\n",
       "      <th>ID</th>\n",
       "      <th>REF</th>\n",
       "      <th>ALT</th>\n",
       "    </tr>\n",
       "  </thead>\n",
       "  <tbody>\n",
       "    <tr>\n",
       "      <th>0</th>\n",
       "      <td>1</td>\n",
       "      <td>11317200</td>\n",
       "      <td>None</td>\n",
       "      <td>A</td>\n",
       "      <td>C</td>\n",
       "    </tr>\n",
       "    <tr>\n",
       "      <th>1</th>\n",
       "      <td>1</td>\n",
       "      <td>18809599</td>\n",
       "      <td>None</td>\n",
       "      <td>C</td>\n",
       "      <td>T</td>\n",
       "    </tr>\n",
       "    <tr>\n",
       "      <th>2</th>\n",
       "      <td>1</td>\n",
       "      <td>21097513</td>\n",
       "      <td>None</td>\n",
       "      <td>G</td>\n",
       "      <td>A</td>\n",
       "    </tr>\n",
       "    <tr>\n",
       "      <th>3</th>\n",
       "      <td>1</td>\n",
       "      <td>22175267</td>\n",
       "      <td>None</td>\n",
       "      <td>CG</td>\n",
       "      <td>C</td>\n",
       "    </tr>\n",
       "    <tr>\n",
       "      <th>4</th>\n",
       "      <td>1</td>\n",
       "      <td>22191504</td>\n",
       "      <td>None</td>\n",
       "      <td>G</td>\n",
       "      <td>A</td>\n",
       "    </tr>\n",
       "    <tr>\n",
       "      <th>...</th>\n",
       "      <td>...</td>\n",
       "      <td>...</td>\n",
       "      <td>...</td>\n",
       "      <td>...</td>\n",
       "      <td>...</td>\n",
       "    </tr>\n",
       "    <tr>\n",
       "      <th>189</th>\n",
       "      <td>X</td>\n",
       "      <td>144909240</td>\n",
       "      <td>None</td>\n",
       "      <td>C</td>\n",
       "      <td>G</td>\n",
       "    </tr>\n",
       "    <tr>\n",
       "      <th>190</th>\n",
       "      <td>X</td>\n",
       "      <td>149639713</td>\n",
       "      <td>None</td>\n",
       "      <td>G</td>\n",
       "      <td>A</td>\n",
       "    </tr>\n",
       "    <tr>\n",
       "      <th>191</th>\n",
       "      <td>X</td>\n",
       "      <td>151424286</td>\n",
       "      <td>None</td>\n",
       "      <td>C</td>\n",
       "      <td>A</td>\n",
       "    </tr>\n",
       "    <tr>\n",
       "      <th>192</th>\n",
       "      <td>X</td>\n",
       "      <td>153633210</td>\n",
       "      <td>None</td>\n",
       "      <td>C</td>\n",
       "      <td>T</td>\n",
       "    </tr>\n",
       "    <tr>\n",
       "      <th>193</th>\n",
       "      <td>X</td>\n",
       "      <td>154455544</td>\n",
       "      <td>None</td>\n",
       "      <td>C</td>\n",
       "      <td>T</td>\n",
       "    </tr>\n",
       "  </tbody>\n",
       "</table>\n",
       "<p>194 rows × 5 columns</p>\n",
       "</div>"
      ],
      "text/plain": [
       "    CHROM        POS    ID REF ALT\n",
       "0       1   11317200  None   A   C\n",
       "1       1   18809599  None   C   T\n",
       "2       1   21097513  None   G   A\n",
       "3       1   22175267  None  CG   C\n",
       "4       1   22191504  None   G   A\n",
       "..    ...        ...   ...  ..  ..\n",
       "189     X  144909240  None   C   G\n",
       "190     X  149639713  None   G   A\n",
       "191     X  151424286  None   C   A\n",
       "192     X  153633210  None   C   T\n",
       "193     X  154455544  None   C   T\n",
       "\n",
       "[194 rows x 5 columns]"
      ]
     },
     "execution_count": 47,
     "metadata": {},
     "output_type": "execute_result"
    }
   ],
   "source": [
    "df_mut"
   ]
  },
  {
   "cell_type": "code",
   "execution_count": 46,
   "metadata": {},
   "outputs": [
    {
     "data": {
      "text/html": [
       "<div>\n",
       "<style scoped>\n",
       "    .dataframe tbody tr th:only-of-type {\n",
       "        vertical-align: middle;\n",
       "    }\n",
       "\n",
       "    .dataframe tbody tr th {\n",
       "        vertical-align: top;\n",
       "    }\n",
       "\n",
       "    .dataframe thead th {\n",
       "        text-align: right;\n",
       "    }\n",
       "</style>\n",
       "<table border=\"1\" class=\"dataframe\">\n",
       "  <thead>\n",
       "    <tr style=\"text-align: right;\">\n",
       "      <th></th>\n",
       "      <th>CHROM</th>\n",
       "      <th>POS</th>\n",
       "      <th>ID</th>\n",
       "      <th>REF</th>\n",
       "      <th>ALT</th>\n",
       "    </tr>\n",
       "  </thead>\n",
       "  <tbody>\n",
       "    <tr>\n",
       "      <th>0</th>\n",
       "      <td>1</td>\n",
       "      <td>11317200</td>\n",
       "      <td>None</td>\n",
       "      <td>A</td>\n",
       "      <td>C</td>\n",
       "    </tr>\n",
       "    <tr>\n",
       "      <th>1</th>\n",
       "      <td>1</td>\n",
       "      <td>18809599</td>\n",
       "      <td>None</td>\n",
       "      <td>C</td>\n",
       "      <td>T</td>\n",
       "    </tr>\n",
       "    <tr>\n",
       "      <th>2</th>\n",
       "      <td>1</td>\n",
       "      <td>21097513</td>\n",
       "      <td>None</td>\n",
       "      <td>G</td>\n",
       "      <td>A</td>\n",
       "    </tr>\n",
       "    <tr>\n",
       "      <th>3</th>\n",
       "      <td>1</td>\n",
       "      <td>42875732</td>\n",
       "      <td>None</td>\n",
       "      <td>C</td>\n",
       "      <td>T</td>\n",
       "    </tr>\n",
       "    <tr>\n",
       "      <th>4</th>\n",
       "      <td>1</td>\n",
       "      <td>44476508</td>\n",
       "      <td>None</td>\n",
       "      <td>T</td>\n",
       "      <td>G</td>\n",
       "    </tr>\n",
       "    <tr>\n",
       "      <th>...</th>\n",
       "      <td>...</td>\n",
       "      <td>...</td>\n",
       "      <td>...</td>\n",
       "      <td>...</td>\n",
       "      <td>...</td>\n",
       "    </tr>\n",
       "    <tr>\n",
       "      <th>97</th>\n",
       "      <td>X</td>\n",
       "      <td>48933283</td>\n",
       "      <td>None</td>\n",
       "      <td>G</td>\n",
       "      <td>C</td>\n",
       "    </tr>\n",
       "    <tr>\n",
       "      <th>98</th>\n",
       "      <td>X</td>\n",
       "      <td>96220126</td>\n",
       "      <td>None</td>\n",
       "      <td>G</td>\n",
       "      <td>T</td>\n",
       "    </tr>\n",
       "    <tr>\n",
       "      <th>99</th>\n",
       "      <td>X</td>\n",
       "      <td>144909240</td>\n",
       "      <td>None</td>\n",
       "      <td>C</td>\n",
       "      <td>G</td>\n",
       "    </tr>\n",
       "    <tr>\n",
       "      <th>100</th>\n",
       "      <td>X</td>\n",
       "      <td>149639713</td>\n",
       "      <td>None</td>\n",
       "      <td>G</td>\n",
       "      <td>A</td>\n",
       "    </tr>\n",
       "    <tr>\n",
       "      <th>101</th>\n",
       "      <td>X</td>\n",
       "      <td>154455544</td>\n",
       "      <td>None</td>\n",
       "      <td>C</td>\n",
       "      <td>T</td>\n",
       "    </tr>\n",
       "  </tbody>\n",
       "</table>\n",
       "<p>102 rows × 5 columns</p>\n",
       "</div>"
      ],
      "text/plain": [
       "    CHROM        POS    ID REF ALT\n",
       "0       1   11317200  None   A   C\n",
       "1       1   18809599  None   C   T\n",
       "2       1   21097513  None   G   A\n",
       "3       1   42875732  None   C   T\n",
       "4       1   44476508  None   T   G\n",
       "..    ...        ...   ...  ..  ..\n",
       "97      X   48933283  None   G   C\n",
       "98      X   96220126  None   G   T\n",
       "99      X  144909240  None   C   G\n",
       "100     X  149639713  None   G   A\n",
       "101     X  154455544  None   C   T\n",
       "\n",
       "[102 rows x 5 columns]"
      ]
     },
     "execution_count": 46,
     "metadata": {},
     "output_type": "execute_result"
    }
   ],
   "source": [
    "df_hap"
   ]
  },
  {
   "cell_type": "code",
   "execution_count": 40,
   "metadata": {},
   "outputs": [
    {
     "name": "stderr",
     "output_type": "stream",
     "text": [
      "/tmp/ipykernel_181778/1989552023.py:2: DtypeWarning: Columns (21,36,38,49,50,54,56) have mixed types. Specify dtype option on import or set low_memory=False.\n",
      "  unique_mcrs_df = pd.read_csv(unique_mcrs_df_path)\n"
     ]
    }
   ],
   "source": [
    "# load in unique_mcrs_df\n",
    "unique_mcrs_df = pd.read_csv(unique_mcrs_df_path)\n",
    "unique_mcrs_df.rename(columns={'TP': 'TP_vk', 'FP': 'FP_vk', 'TN': 'TN_vk', 'FN': 'FN_vk'}, inplace=True)\n",
    "\n",
    "from varseek.utils import safe_literal_eval\n",
    "unique_mcrs_df[\"header_list\"] = unique_mcrs_df[\"header_list\"].apply(safe_literal_eval)"
   ]
  },
  {
   "cell_type": "code",
   "execution_count": 41,
   "metadata": {},
   "outputs": [],
   "source": [
    "# filtered_df = cosmic_df[(cosmic_df['POS'].astype(int) >= 3699230) & (cosmic_df['POS'].astype(int) <= 3699239)]\n",
    "# filtered_df"
   ]
  },
  {
   "cell_type": "code",
   "execution_count": 59,
   "metadata": {},
   "outputs": [
    {
     "name": "stderr",
     "output_type": "stream",
     "text": [
      "100%|██████████| 5300021/5300021 [00:48<00:00, 108288.78it/s]\n"
     ]
    }
   ],
   "source": [
    "from tqdm import tqdm\n",
    "tqdm.pandas()\n",
    "from varseek.utils import safe_literal_eval\n",
    "unique_mcrs_df[\"header_list\"] = unique_mcrs_df[\"header_list\"].progress_apply(safe_literal_eval)"
   ]
  },
  {
   "cell_type": "code",
   "execution_count": null,
   "metadata": {},
   "outputs": [],
   "source": [
    "# vk_tp = unique_mcrs_df.loc[unique_mcrs_df['TP_vk']]"
   ]
  },
  {
   "cell_type": "code",
   "execution_count": 225,
   "metadata": {},
   "outputs": [],
   "source": [
    "mut_cosmic_merged_df = merge_gatk_and_cosmic(df_mut, cosmic_df, exact_position=False)  # change exact_position to True to merge based on exact position as before\n",
    "id_set_mut = set(mut_cosmic_merged_df['ID'])\n",
    "\n",
    "hap_cosmic_merged_df = merge_gatk_and_cosmic(df_hap, cosmic_df, exact_position=False)\n",
    "id_set_hap = set(hap_cosmic_merged_df['ID'])"
   ]
  },
  {
   "cell_type": "code",
   "execution_count": 226,
   "metadata": {},
   "outputs": [],
   "source": [
    "number_of_mutations_mutect = len(df_mut)\n",
    "number_of_cosmic_mutations_mutect = len(mut_cosmic_merged_df.drop_duplicates(subset=['CHROM', 'POS', 'REF', 'ALT']))\n",
    "number_of_mutations_haplotypecaller = len(df_hap)\n",
    "number_of_cosmic_mutations_haplotypecaller = len(hap_cosmic_merged_df.drop_duplicates(subset=['CHROM', 'POS', 'REF', 'ALT']))"
   ]
  },
  {
   "cell_type": "code",
   "execution_count": 231,
   "metadata": {},
   "outputs": [
    {
     "name": "stdout",
     "output_type": "stream",
     "text": [
      "TP: 194, FP: 0, FN: 6, TN: 5299821\n",
      "Accuracy: 0.9999988679290138, Sensitivity: 0.97, Specificity: 1.0\n"
     ]
    },
    {
     "data": {
      "text/html": [
       "<pre style=\"white-space:pre;overflow-x:auto;line-height:normal;font-family:Menlo,'DejaVu Sans Mono',consolas,'Courier New',monospace\"><span style=\"font-style: italic\">                      Confusion Matrix                       </span>\n",
       "┏━━━━━━━━━━━━━━━━━┳━━━━━━━━━━━━━━━━━━━━┳━━━━━━━━━━━━━━━━━━━━┓\n",
       "┃<span style=\"font-weight: bold\">                 </span>┃<span style=\"font-weight: bold\"> Predicted Positive </span>┃<span style=\"font-weight: bold\"> Predicted Negative </span>┃\n",
       "┡━━━━━━━━━━━━━━━━━╇━━━━━━━━━━━━━━━━━━━━╇━━━━━━━━━━━━━━━━━━━━┩\n",
       "│ Actual Positive │        194         │         6          │\n",
       "│ Actual Negative │         0          │      5299821       │\n",
       "└─────────────────┴────────────────────┴────────────────────┘\n",
       "</pre>\n"
      ],
      "text/plain": [
       "\u001b[3m                      Confusion Matrix                       \u001b[0m\n",
       "┏━━━━━━━━━━━━━━━━━┳━━━━━━━━━━━━━━━━━━━━┳━━━━━━━━━━━━━━━━━━━━┓\n",
       "┃\u001b[1m \u001b[0m\u001b[1m               \u001b[0m\u001b[1m \u001b[0m┃\u001b[1m \u001b[0m\u001b[1mPredicted Positive\u001b[0m\u001b[1m \u001b[0m┃\u001b[1m \u001b[0m\u001b[1mPredicted Negative\u001b[0m\u001b[1m \u001b[0m┃\n",
       "┡━━━━━━━━━━━━━━━━━╇━━━━━━━━━━━━━━━━━━━━╇━━━━━━━━━━━━━━━━━━━━┩\n",
       "│ Actual Positive │        194         │         6          │\n",
       "│ Actual Negative │         0          │      5299821       │\n",
       "└─────────────────┴────────────────────┴────────────────────┘\n"
      ]
     },
     "metadata": {},
     "output_type": "display_data"
    },
    {
     "data": {
      "image/png": "[encoded data removed]",
      "text/plain": [
       "<Figure size 640x480 with 1 Axes>"
      ]
     },
     "metadata": {},
     "output_type": "display_data"
    },
    {
     "data": {
      "image/png": "[encoded data removed]",
      "text/plain": [
       "<Figure size 640x480 with 1 Axes>"
      ]
     },
     "metadata": {},
     "output_type": "display_data"
    },
    {
     "name": "stderr",
     "output_type": "stream",
     "text": [
      "/home/jrich/Desktop/varseek/varseek/utils/visualization_utils.py:306: FutureWarning: The default value of numeric_only in DataFrameGroupBy.sum is deprecated. In a future version, numeric_only will default to False. Either specify numeric_only or select only columns which should be valid for the function.\n",
      "  grouped_df = df.groupby(group_col).sum()\n"
     ]
    },
    {
     "data": {
      "image/png": "[encoded data removed]",
      "text/plain": [
       "<Figure size 640x480 with 1 Axes>"
      ]
     },
     "metadata": {},
     "output_type": "display_data"
    }
   ],
   "source": [
    "# unique_mcrs_df['header_list'] each contains a list of strings. I would like to make a new column unique_mcrs_df['mutation_detected_gatk_mutect2'] where each row is True if any value from the list unique_mcrs_df['mcrs_header'] is in the set id_set_mut  # keep in mind that my IDs are the mutation headers (ENST...), NOT mcrs headers or mcrs ids\n",
    "unique_mcrs_df['mutation_detected_gatk_mutect2'] = unique_mcrs_df['header_list'].apply(\n",
    "    lambda header_list: any(header in id_set_mut for header in header_list)\n",
    ")\n",
    "\n",
    "\n",
    "unique_mcrs_df['TP'] = (unique_mcrs_df['included_in_synthetic_reads_mutant'] & unique_mcrs_df['mutation_detected_gatk_mutect2'])\n",
    "unique_mcrs_df['FP'] = (~unique_mcrs_df['included_in_synthetic_reads_mutant'] & unique_mcrs_df['mutation_detected_gatk_mutect2'])\n",
    "unique_mcrs_df['FN'] = (unique_mcrs_df['included_in_synthetic_reads_mutant'] & ~unique_mcrs_df['mutation_detected_gatk_mutect2'])\n",
    "unique_mcrs_df['TN'] = (~unique_mcrs_df['included_in_synthetic_reads_mutant'] & ~unique_mcrs_df['mutation_detected_gatk_mutect2'])\n",
    "\n",
    "mutect_stat_path = f\"{gatk_parent}/reference_metrics_mutect2.txt\"\n",
    "metric_dictionary_reference = calculate_metrics(unique_mcrs_df, header_name = \"mcrs_header\", check_assertions = False, out = mutect_stat_path)\n",
    "draw_confusion_matrix(metric_dictionary_reference)\n",
    "\n",
    "true_set = set(unique_mcrs_df.loc[unique_mcrs_df['included_in_synthetic_reads_mutant'], 'mcrs_header'])\n",
    "positive_set = set(unique_mcrs_df.loc[unique_mcrs_df['mutation_detected_gatk_mutect2'], 'mcrs_header'])\n",
    "create_venn_diagram(true_set, positive_set, TN = metric_dictionary_reference['TN'], out_path = f\"{gatk_parent}/venn_diagram_reference_cosmic_only_mutect2.png\")\n",
    "\n",
    "\n",
    "noncosmic_mutation_id_set = {f'mutect_fp_{i}' for i in range(1, number_of_mutations_mutect - number_of_cosmic_mutations_mutect + 1)}\n",
    "positive_set_including_noncosmic_mutations = positive_set.union(noncosmic_mutation_id_set)\n",
    "\n",
    "FP_including_noncosmic = metric_dictionary_reference['FP'] + len(positive_set_including_noncosmic_mutations)\n",
    "accuracy, sensitivity, specificity = calculate_sensitivity_specificity(metric_dictionary_reference['TP'], metric_dictionary_reference['TP'], FP_including_noncosmic, metric_dictionary_reference['TP'])\n",
    "\n",
    "with open(mutect_stat_path, \"a\") as file:\n",
    "    file.write(f\"FP including non-cosmic: {FP_including_noncosmic}\\n\")\n",
    "    file.write(f\"accuracy including non-cosmic: {accuracy}\\n\")\n",
    "    file.write(f\"specificity including non-cosmic: {specificity}\\n\")\n",
    "\n",
    "create_venn_diagram(true_set, positive_set_including_noncosmic_mutations, TN = metric_dictionary_reference['TN'], out_path = f\"{gatk_parent}/venn_diagram_reference_including_noncosmics_mutect2.png\")\n",
    "\n",
    "create_stratified_metric_bar_plot(unique_mcrs_df, 'number_of_reads_mutant', 'accuracy', overall_metric = metric_dictionary_reference['accuracy'], log_x_axis = False, out_path = f\"{plot_output_folder}/accuracy_vs_number_of_reads_mutant.png\")\n",
    "#!!! create similar plots for y in {sensitivity, specificity}, and x in {number_of_reads_wt, tumor_purity} and determine cutoffs for which GATK is reliable\n",
    "\n",
    "unique_mcrs_df.rename(columns={'TP': 'TP_gatk_mutect2', 'FP': 'FP_gatk_mutect2', 'TN': 'TN_gatk_mutect2', 'FN': 'FN_gatk_mutect2'}, inplace=True)"
   ]
  },
  {
   "cell_type": "code",
   "execution_count": 233,
   "metadata": {},
   "outputs": [
    {
     "name": "stdout",
     "output_type": "stream",
     "text": [
      "TP: 99, FP: 1, FN: 101, TN: 5299820\n",
      "Accuracy: 0.9999807547932357, Sensitivity: 0.495, Specificity: 0.9999998113143821\n"
     ]
    },
    {
     "data": {
      "text/html": [
       "<pre style=\"white-space:pre;overflow-x:auto;line-height:normal;font-family:Menlo,'DejaVu Sans Mono',consolas,'Courier New',monospace\"><span style=\"font-style: italic\">                      Confusion Matrix                       </span>\n",
       "┏━━━━━━━━━━━━━━━━━┳━━━━━━━━━━━━━━━━━━━━┳━━━━━━━━━━━━━━━━━━━━┓\n",
       "┃<span style=\"font-weight: bold\">                 </span>┃<span style=\"font-weight: bold\"> Predicted Positive </span>┃<span style=\"font-weight: bold\"> Predicted Negative </span>┃\n",
       "┡━━━━━━━━━━━━━━━━━╇━━━━━━━━━━━━━━━━━━━━╇━━━━━━━━━━━━━━━━━━━━┩\n",
       "│ Actual Positive │         99         │        101         │\n",
       "│ Actual Negative │         1          │      5299820       │\n",
       "└─────────────────┴────────────────────┴────────────────────┘\n",
       "</pre>\n"
      ],
      "text/plain": [
       "\u001b[3m                      Confusion Matrix                       \u001b[0m\n",
       "┏━━━━━━━━━━━━━━━━━┳━━━━━━━━━━━━━━━━━━━━┳━━━━━━━━━━━━━━━━━━━━┓\n",
       "┃\u001b[1m \u001b[0m\u001b[1m               \u001b[0m\u001b[1m \u001b[0m┃\u001b[1m \u001b[0m\u001b[1mPredicted Positive\u001b[0m\u001b[1m \u001b[0m┃\u001b[1m \u001b[0m\u001b[1mPredicted Negative\u001b[0m\u001b[1m \u001b[0m┃\n",
       "┡━━━━━━━━━━━━━━━━━╇━━━━━━━━━━━━━━━━━━━━╇━━━━━━━━━━━━━━━━━━━━┩\n",
       "│ Actual Positive │         99         │        101         │\n",
       "│ Actual Negative │         1          │      5299820       │\n",
       "└─────────────────┴────────────────────┴────────────────────┘\n"
      ]
     },
     "metadata": {},
     "output_type": "display_data"
    },
    {
     "data": {
      "image/png": "[encoded data removed]",
      "text/plain": [
       "<Figure size 640x480 with 1 Axes>"
      ]
     },
     "metadata": {},
     "output_type": "display_data"
    },
    {
     "data": {
      "image/png": "[encoded data removed]",
      "text/plain": [
       "<Figure size 640x480 with 1 Axes>"
      ]
     },
     "metadata": {},
     "output_type": "display_data"
    },
    {
     "name": "stderr",
     "output_type": "stream",
     "text": [
      "/home/jrich/Desktop/varseek/varseek/utils/visualization_utils.py:306: FutureWarning: The default value of numeric_only in DataFrameGroupBy.sum is deprecated. In a future version, numeric_only will default to False. Either specify numeric_only or select only columns which should be valid for the function.\n",
      "  grouped_df = df.groupby(group_col).sum()\n"
     ]
    },
    {
     "data": {
      "image/png": "[encoded data removed]",
      "text/plain": [
       "<Figure size 640x480 with 1 Axes>"
      ]
     },
     "metadata": {},
     "output_type": "display_data"
    }
   ],
   "source": [
    "unique_mcrs_df['mutation_detected_gatk_haplotypecaller'] = unique_mcrs_df['header_list'].apply(\n",
    "    lambda header_list: any(header in id_set_hap for header in header_list)\n",
    ")\n",
    "\n",
    "unique_mcrs_df['TP'] = (unique_mcrs_df['included_in_synthetic_reads_mutant'] & unique_mcrs_df['mutation_detected_gatk_haplotypecaller'])\n",
    "unique_mcrs_df['FP'] = (~unique_mcrs_df['included_in_synthetic_reads_mutant'] & unique_mcrs_df['mutation_detected_gatk_haplotypecaller'])\n",
    "unique_mcrs_df['FN'] = (unique_mcrs_df['included_in_synthetic_reads_mutant'] & ~unique_mcrs_df['mutation_detected_gatk_haplotypecaller'])\n",
    "unique_mcrs_df['TN'] = (~unique_mcrs_df['included_in_synthetic_reads_mutant'] & ~unique_mcrs_df['mutation_detected_gatk_haplotypecaller'])\n",
    "\n",
    "haplotypecaller_stat_path = f\"{gatk_parent}/reference_metrics_haplotypecaller.txt\"\n",
    "metric_dictionary_reference = calculate_metrics(unique_mcrs_df, header_name = \"mcrs_header\", check_assertions = False, out = haplotypecaller_stat_path)\n",
    "draw_confusion_matrix(metric_dictionary_reference)\n",
    "\n",
    "true_set = set(unique_mcrs_df.loc[unique_mcrs_df['included_in_synthetic_reads_mutant'], 'mcrs_header'])\n",
    "positive_set = set(unique_mcrs_df.loc[unique_mcrs_df['mutation_detected_gatk_haplotypecaller'], 'mcrs_header'])\n",
    "create_venn_diagram(true_set, positive_set, TN = metric_dictionary_reference['TN'], out_path = f\"{gatk_parent}/venn_diagram_reference_cosmic_only_haplotypecaller.png\")\n",
    "\n",
    "\n",
    "\n",
    "noncosmic_mutation_id_set = {f'haplotypecaller_fp_{i}' for i in range(1, number_of_mutations_haplotypecaller - number_of_cosmic_mutations_haplotypecaller + 1)}\n",
    "positive_set_including_noncosmic_mutations = positive_set.union(noncosmic_mutation_id_set)\n",
    "\n",
    "FP_including_noncosmic = metric_dictionary_reference['FP'] + len(positive_set_including_noncosmic_mutations)\n",
    "accuracy, sensitivity, specificity = calculate_sensitivity_specificity(metric_dictionary_reference['TP'], metric_dictionary_reference['TP'], FP_including_noncosmic, metric_dictionary_reference['TP'])\n",
    "\n",
    "with open(haplotypecaller_stat_path, \"a\") as file:\n",
    "    file.write(f\"FP including non-cosmic: {FP_including_noncosmic}\\n\")\n",
    "    file.write(f\"accuracy including non-cosmic: {accuracy}\\n\")\n",
    "    file.write(f\"specificity including non-cosmic: {specificity}\\n\")\n",
    "\n",
    "create_venn_diagram(true_set, positive_set_including_noncosmic_mutations, TN = metric_dictionary_reference['TN'], out_path = f\"{gatk_parent}/venn_diagram_reference_including_noncosmics_haplotypecaller.png\")\n",
    "\n",
    "create_stratified_metric_bar_plot(unique_mcrs_df, 'number_of_reads_mutant', 'accuracy', overall_metric = metric_dictionary_reference['accuracy'], log_x_axis = False, out_path = f\"{plot_output_folder}/accuracy_vs_number_of_reads_mutant.png\")\n",
    "#!!! create similar plots for y in {sensitivity, specificity}, and x in {number_of_reads_wt, tumor_purity} and determine cutoffs for which GATK is reliable\n",
    "\n",
    "unique_mcrs_df.rename(columns={'TP': 'TP_gatk_haplotypecaller', 'FP': 'FP_gatk_haplotypecaller', 'TN': 'TN_gatk_haplotypecaller', 'FN': 'FN_gatk_haplotypecaller'}, inplace=True)"
   ]
  },
  {
   "cell_type": "code",
   "execution_count": 237,
   "metadata": {},
   "outputs": [],
   "source": [
    "unique_mcrs_df_out = unique_mcrs_df_path.replace(\".csv\", \"_with_gatk.csv\")\n",
    "unique_mcrs_df.to_csv(unique_mcrs_df_out, index=False)"
   ]
  }
 ],
 "metadata": {
  "kernelspec": {
   "display_name": "varseek2",
   "language": "python",
   "name": "python3"
  },
  "language_info": {
   "codemirror_mode": {
    "name": "ipython",
    "version": 3
   },
   "file_extension": ".py",
   "mimetype": "text/x-python",
   "name": "python",
   "nbconvert_exporter": "python",
   "pygments_lexer": "ipython3",
   "version": "3.10.15"
  }
 },
 "nbformat": 4,
 "nbformat_minor": 2
}
