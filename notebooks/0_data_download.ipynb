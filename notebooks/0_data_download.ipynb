{
 "cells": [
  {
   "cell_type": "code",
   "execution_count": null,
   "metadata": {},
   "outputs": [],
   "source": [
    "import os\n",
    "import pandas as pd\n",
    "from varseek.utils import make_entex_df, download_entex_fastq_links\n",
    "data_download_base = \"/home/jrich/data/varseek_data/sequencing\""
   ]
  },
  {
   "cell_type": "markdown",
   "metadata": {},
   "source": [
    "# Bulk, CCLE - run script"
   ]
  },
  {
   "cell_type": "markdown",
   "metadata": {},
   "source": [
    "# Bulk, Healthy Entex - see varseek/scripts/download_entex_data.py for script version"
   ]
  },
  {
   "cell_type": "code",
   "execution_count": null,
   "metadata": {},
   "outputs": [],
   "source": [
    "entex_data_download_base = os.path.join(data_download_base, \"bulk\", \"entex\")\n",
    "tissue = \"upper lobe of left lung\"  # print(sorted(set(entex_df['tissue']), key=str.lower))  # uncomment to see the list of tissue selections\n",
    "entex_df = make_entex_df()\n",
    "download_entex_fastq_links(entex_df, tissue=tissue, data_download_base=data_download_base)"
   ]
  },
  {
   "cell_type": "markdown",
   "metadata": {},
   "source": [
    "# scRNA-seq, illumina, cancer"
   ]
  },
  {
   "cell_type": "code",
   "execution_count": null,
   "metadata": {},
   "outputs": [],
   "source": [
    "# https://www.10xgenomics.com/datasets/40-k-mixture-of-nsclc-dt-cs-from-7-donors-3-ht-v-3-1-3-1-high-6-1-0\n",
    "nsclc_dir = os.path.join(data_download_base, \"sc/nsclc_40k\")\n",
    "os.makedirs(nsclc_dir, exist_ok=True)\n",
    "!cd {nsclc_dir} && curl -O https://s3-us-west-2.amazonaws.com/10x.files/samples/cell-exp/6.1.0/40k_NSCLC_DTC_3p_HT_nextgem_Multiplex/40k_NSCLC_DTC_3p_HT_nextgem_Multiplex_fastqs.tar"
   ]
  },
  {
   "cell_type": "markdown",
   "metadata": {},
   "source": [
    "# scRNA-seq, illumina, healthy"
   ]
  },
  {
   "cell_type": "code",
   "execution_count": null,
   "metadata": {},
   "outputs": [],
   "source": [
    "# https://www.10xgenomics.com/datasets/10k-human-pbmcs-3-v3-1-chromium-x-without-introns-3-1-high\n",
    "pbmc_dir = os.path.join(data_download_base, \"sc/pbmc\")\n",
    "os.makedirs(pbmc_dir, exist_ok=True)\n",
    "!cd {pbmc_dir} && curl -O https://s3-us-west-2.amazonaws.com/10x.files/samples/cell-exp/6.1.2/10k_PBMC_3p_nextgem_Chromium_X/10k_PBMC_3p_nextgem_Chromium_X_fastqs.tar"
   ]
  },
  {
   "cell_type": "markdown",
   "metadata": {},
   "source": [
    "# scRNA-seq, SMART-Seq, colorectal cancer CTCs"
   ]
  },
  {
   "cell_type": "code",
   "execution_count": null,
   "metadata": {},
   "outputs": [],
   "source": [
    "#* Download SRR_Acc_List.txt metadata file from Kozuka et al. (https://www.ncbi.nlm.nih.gov/pmc/articles/PMC8507666/) on SRA (https://www.ncbi.nlm.nih.gov/sra/?term=PRJNA759644) with sra-tools (https://github.com/ncbi/sra-tools)"
   ]
  }
 ],
 "metadata": {
  "kernelspec": {
   "display_name": "varseek2",
   "language": "python",
   "name": "python3"
  },
  "language_info": {
   "codemirror_mode": {
    "name": "ipython",
    "version": 3
   },
   "file_extension": ".py",
   "mimetype": "text/x-python",
   "name": "python",
   "nbconvert_exporter": "python",
   "pygments_lexer": "ipython3",
   "version": "3.10.15"
  }
 },
 "nbformat": 4,
 "nbformat_minor": 2
}
