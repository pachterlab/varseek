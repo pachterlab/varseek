{
 "cells": [
  {
   "cell_type": "code",
   "execution_count": 1,
   "metadata": {},
   "outputs": [],
   "source": [
    "# import os\n",
    "# import numpy as np\n",
    "# import pandas as pd\n",
    "# import scipy.sparse as sp\n",
    "# import scanpy as sc\n",
    "\n",
    "# # Function to create a single dummy AnnData object\n",
    "# def create_dummy_adata(row_name, var_names, n_columns=100, sparsity=0.9):\n",
    "#     # Create a sparse matrix mostly containing 0s\n",
    "#     data = sp.csr_matrix(np.random.binomial(1, 1 - sparsity, (1, n_columns)))\n",
    "    \n",
    "#     # Create the AnnData object\n",
    "#     adata = sc.AnnData(data, var=pd.DataFrame(index=var_names))\n",
    "#     adata.obs_names = [row_name]  # Set row (observation) name\n",
    "    \n",
    "#     return adata\n",
    "\n",
    "\n",
    "# tissue_list = [\"brain\", \"lung\", \"brain\", \"liver\", \"spleen\", \"liver\", \"brain\", \"stomach\", \"neck\", \"prostate\"]\n",
    "\n",
    "# # Generate 5 dummy AnnData objects\n",
    "# n_columns=100\n",
    "# var_names = [f\"seq_{np.random.randint(1000000, 9999999)}\" for _ in range(n_columns)]\n",
    "# dummy_adata_list = [create_dummy_adata(f\"sample_{i+1}\", var_names=var_names, n_columns=n_columns) for i in range(len(tissue_list))]\n",
    "\n",
    "# # Sample data to simulate `adata.var_names` (list of sequence identifiers)\n",
    "# seq_ids = dummy_adata_list[0].var_names  # Replace with actual `adata.var_names` from the AnnData object\n",
    "\n",
    "# # Generate the DataFrame with the specified columns\n",
    "# mutation_metadata_df = pd.DataFrame({\n",
    "#     'mcrs_id': seq_ids,\n",
    "#     'gene_name': [f\"gene_{i}\" for i in range(len(seq_ids))],  # Generate gene names as placeholders\n",
    "# })\n",
    "\n",
    "# # Add the `header_with_gene_name` column by combining `gene_name` and `mcrs_id`\n",
    "# mutation_metadata_df['header_with_gene_name'] = mutation_metadata_df['gene_name'] + \"_\" + mutation_metadata_df['mcrs_id']\n",
    "\n",
    "# number_of_cancer_types=7\n",
    "# use_binary_matrix = False\n",
    "# tolerance=3  # tolerance in diff between number of leiden clusters and number of cancer types\n",
    "# n_comps = 7  # number of PCs\n",
    "# minimum_count_filter = 2  # anything below this will be set to 0\n",
    "# k = 10  # number of nearest neighbors for knn with unknown sample\n",
    "\n",
    "# base_dir = \"/home/jrich/data/varseek_data/sequencing/bulk/ccle_test\"\n",
    "# os.makedirs(base_dir, exist_ok=True)\n",
    "\n",
    "# for i in range(len(dummy_adata_list)):\n",
    "#     study = f\"RNAseq__123_{tissue_list[i]}___sample{i}___experiment{i}___run{i}\"\n",
    "#     out_dir = os.path.join(base_dir, \"kb_count_out\", study, \"kb_count_out_mutation_index\", \"counts_unfiltered\")\n",
    "#     os.makedirs(out_dir, exist_ok=True)\n",
    "#     dummy_adata_list[i].write(os.path.join(out_dir, \"adata.h5ad\"))\n",
    "\n",
    "# n_columns=10000\n",
    "# var_names = [f\"seq_{np.random.randint(1000000, 9999999)}\" for _ in range(n_columns)]\n",
    "# dummy_adata_list_normal = [create_dummy_adata(f\"sample_{i+1}\", var_names=var_names, n_columns=n_columns) for i in range(len(tissue_list))]\n",
    "\n",
    "# for i in range(len(dummy_adata_list)):\n",
    "#     study = f\"RNAseq__123_{tissue_list[i]}___sample{i}___experiment{i}___run{i}\"\n",
    "#     out_dir = os.path.join(base_dir, \"kb_count_out\", study, \"kb_count_out_standard_index\", \"counts_unfiltered\")\n",
    "#     os.makedirs(out_dir, exist_ok=True)\n",
    "#     dummy_adata_list[i].write(os.path.join(out_dir, \"adata.h5ad\"))"
   ]
  },
  {
   "cell_type": "markdown",
   "metadata": {},
   "source": [
    "# Medium test:\n",
    "lineage_subtype OR subtype_disease\n",
    "- NSCLC\n",
    "- melanoma\n",
    "- colorectal_adenocarcinoma\n",
    "- ovary_adenocarcinoma\n",
    "- Ductal Adenocarcinoma, exocrine\n",
    "- gastric_adenocarcinoma\n",
    "- upper_aerodigestive_squamous\n",
    "- hepatocellular_carcinoma\n",
    "- bladder_carcinoma\n",
    "- renal_cell_carcinoma\n"
   ]
  },
  {
   "cell_type": "code",
   "execution_count": 2,
   "metadata": {},
   "outputs": [],
   "source": [
    "import os\n",
    "import varseek as vk\n",
    "import scanpy as sc\n",
    "import numpy as np\n",
    "import pandas as pd\n",
    "import scipy.sparse as sp\n",
    "from sklearn.metrics import adjusted_rand_score\n",
    "from anndata import concat\n",
    "\n",
    "from varseek.utils import plot_items_descending_order, plot_scree, plot_loading_contributions, find_resolution_for_target_clusters, plot_contingency_table, plot_knn_tissue_frequencies, plot_ascending_bar_plot_of_cluster_distances, plot_jaccard_bar_plot\n",
    "number_of_cancer_types = 10  #!!! change to 38\n",
    "\n",
    "def get_tissue_name_from_experiment_alias(experiment_alias_underscores_only):\n",
    "    experiment_alias_underscores_only_without_rnaseq_list = experiment_alias_underscores_only.split(\"__\")\n",
    "    experiment_alias_underscores_only_without_rnaseq_string = \"_\".join(experiment_alias_underscores_only_without_rnaseq_list[1:])\n",
    "    tissue_list = experiment_alias_underscores_only_without_rnaseq_string.split(\"_\")[1:]\n",
    "    tissue_string = \"_\".join(tissue_list)\n",
    "    return tissue_string"
   ]
  },
  {
   "cell_type": "markdown",
   "metadata": {},
   "source": [
    "CCLE has 38 cancer types and 1019 cell lines"
   ]
  },
  {
   "cell_type": "code",
   "execution_count": 3,
   "metadata": {},
   "outputs": [],
   "source": [
    "minimum_count_filter = 2  # anything below this will be set to 0\n",
    "split_reads_by_Ns = False\n",
    "use_binary_matrix = False\n",
    "do_cpm_normalization = False\n",
    "tolerance=3  # tolerance in diff between number of leiden clusters and number of cancer types\n",
    "n_comps = 50  # number of PCs\n",
    "matrix_type = \"mutation\"  # mutation or gene\n",
    "\n",
    "mutation_metadata_df_path = \"/home/jrich/data/varseek_data_fresh/vk_build_pipeline_t2t_nov16/mutation_metadata_df_filtered.csv\"\n",
    "mutation_metadata_df_columns = [\"mcrs_id\", \"gene_name\", \"header_with_gene_name\"]  #* change usecols as desired\n",
    "base_dir = \"/home/jrich/data/varseek_data/sequencing/bulk/ccle\"\n",
    "ccle_data_out_dir = os.path.join(base_dir, \"ccle_data_out_medium_nov18\")  #!!! change to ccle_data_out_nov19"
   ]
  },
  {
   "cell_type": "code",
   "execution_count": 4,
   "metadata": {},
   "outputs": [],
   "source": [
    "mutation_metadata_df = pd.read_csv(mutation_metadata_df_path, index_col=0, usecols = mutation_metadata_df_columns)"
   ]
  },
  {
   "cell_type": "markdown",
   "metadata": {},
   "source": [
    "1. Load in matrix after preprocessing\n",
    "2. Combine each cancer type row into one matrix\n",
    "3. re-plot the top n mutations for each cancer type in descending line plots with expression as y axis (or even just lists)\n",
    "4. Run PCA on the combined matrix - make PCA plot, Scree plot, loadings plot (which mutations contributed to the major PCs)\n",
    "5. Plot heatmap of mutation expression (or some other value) for each mutation (x) and sample i.e., cancer type (y) eg seaborn"
   ]
  },
  {
   "cell_type": "code",
   "execution_count": 5,
   "metadata": {},
   "outputs": [],
   "source": [
    "import sys\n",
    "import importlib\n",
    "\n",
    "# Remove the module from sys.modules\n",
    "if 'varseek.clean' in sys.modules:\n",
    "    del sys.modules['varseek.clean']\n",
    "\n",
    "# Import the module and reload it\n",
    "import varseek.varseek_clean\n",
    "importlib.reload(varseek.varseek_clean)\n",
    "import varseek as vk\n",
    "\n",
    "# instead of using vk.build() as before, I must explicitely use vk.varseek_build.build()"
   ]
  },
  {
   "cell_type": "code",
   "execution_count": null,
   "metadata": {},
   "outputs": [
    {
     "ename": "KeyboardInterrupt",
     "evalue": "",
     "output_type": "error",
     "traceback": [
      "\u001b[0;31m---------------------------------------------------------------------------\u001b[0m",
      "\u001b[0;31mKeyboardInterrupt\u001b[0m                         Traceback (most recent call last)",
      "Cell \u001b[0;32mIn[8], line 22\u001b[0m\n\u001b[1;32m     19\u001b[0m adata_mutation\u001b[38;5;241m.\u001b[39mobs[\u001b[38;5;124m\"\u001b[39m\u001b[38;5;124mexperiment_alias_underscores_only\u001b[39m\u001b[38;5;124m\"\u001b[39m] \u001b[38;5;241m=\u001b[39m experiment_alias_underscores_only\n\u001b[1;32m     20\u001b[0m adata_mutation\u001b[38;5;241m.\u001b[39mobs[\u001b[38;5;124m\"\u001b[39m\u001b[38;5;124mtissue\u001b[39m\u001b[38;5;124m\"\u001b[39m] \u001b[38;5;241m=\u001b[39m tissue\n\u001b[0;32m---> 22\u001b[0m adata_mutation \u001b[38;5;241m=\u001b[39m \u001b[43mvk\u001b[49m\u001b[38;5;241;43m.\u001b[39;49m\u001b[43mvarseek_clean\u001b[49m\u001b[38;5;241;43m.\u001b[39;49m\u001b[43mclean\u001b[49m\u001b[43m(\u001b[49m\u001b[43madata_mutation\u001b[49m\u001b[43m,\u001b[49m\u001b[43m \u001b[49m\u001b[43mminimum_count_filter\u001b[49m\u001b[43m \u001b[49m\u001b[38;5;241;43m=\u001b[39;49m\u001b[43m \u001b[49m\u001b[43mminimum_count_filter\u001b[49m\u001b[43m,\u001b[49m\u001b[43m \u001b[49m\u001b[43muse_binary_matrix\u001b[49m\u001b[43m \u001b[49m\u001b[38;5;241;43m=\u001b[39;49m\u001b[43m \u001b[49m\u001b[43muse_binary_matrix\u001b[49m\u001b[43m,\u001b[49m\u001b[43m \u001b[49m\u001b[43massay\u001b[49m\u001b[43m \u001b[49m\u001b[38;5;241;43m=\u001b[39;49m\u001b[43m \u001b[49m\u001b[38;5;124;43m\"\u001b[39;49m\u001b[38;5;124;43mbulk\u001b[39;49m\u001b[38;5;124;43m\"\u001b[39;49m\u001b[43m,\u001b[49m\u001b[43m \u001b[49m\u001b[43mdo_cpm_normalization\u001b[49m\u001b[43m \u001b[49m\u001b[38;5;241;43m=\u001b[39;49m\u001b[43m \u001b[49m\u001b[43mdo_cpm_normalization\u001b[49m\u001b[43m,\u001b[49m\u001b[43m \u001b[49m\u001b[43msplit_reads_by_Ns\u001b[49m\u001b[43m \u001b[49m\u001b[38;5;241;43m=\u001b[39;49m\u001b[43m \u001b[49m\u001b[43msplit_reads_by_Ns\u001b[49m\u001b[43m)\u001b[49m\n\u001b[1;32m     23\u001b[0m \u001b[38;5;28;01mif\u001b[39;00m \u001b[38;5;124m'\u001b[39m\u001b[38;5;124mmcrs_count\u001b[39m\u001b[38;5;124m'\u001b[39m \u001b[38;5;129;01min\u001b[39;00m adata_mutation\u001b[38;5;241m.\u001b[39mvar\u001b[38;5;241m.\u001b[39mcolumns:\n\u001b[1;32m     24\u001b[0m     adata_mutation\u001b[38;5;241m.\u001b[39mvar\u001b[38;5;241m.\u001b[39mdrop(\u001b[38;5;124m'\u001b[39m\u001b[38;5;124mmcrs_count\u001b[39m\u001b[38;5;124m'\u001b[39m, axis\u001b[38;5;241m=\u001b[39m\u001b[38;5;241m1\u001b[39m, inplace\u001b[38;5;241m=\u001b[39m\u001b[38;5;28;01mTrue\u001b[39;00m)\n",
      "File \u001b[0;32m~/Desktop/varseek/varseek/varseek_clean.py:321\u001b[0m, in \u001b[0;36mclean\u001b[0;34m(adata_path, adata_output_path, output_figures_dir, id_to_header_csv, mutation_metadata_df, mutation_metadata_df_columns, minimum_count_filter, use_binary_matrix, drop_zero_columns, assay, adjust_mutation_adata_by_normal_gene_matrix_information, filter_cells_by_min_counts, filter_cells_by_min_genes, filter_genes_by_min_cells, filter_cells_by_max_mt_content, doublet_detection, remove_doublets, do_cpm_normalization, kb_count_out_normal_genome, adata_path_normal_genome, split_reads_by_Ns, dlist_file, mcrs_id_column, data_fastq, mcrs_fasta, dlist_fasta, kb_count_out_mutant, mcrs_index, mcrs_t2g, k, mm, threads, strand, newer_kallisto, bustools, mcrs_id_set_to_exclusively_keep, mcrs_id_set_to_exclude, transcript_set_to_exclusively_keep, transcript_set_to_exclude, gene_set_to_exclusively_keep, gene_set_to_exclude, adata_normal_genome_output_path, verbose, **kwargs)\u001b[0m\n\u001b[1;32m    318\u001b[0m \u001b[38;5;28;01mif\u001b[39;00m adata_path_normal_genome:\n\u001b[1;32m    319\u001b[0m     adata_normal_genome\u001b[38;5;241m.\u001b[39mwrite(adata_normal_genome_output_path)\n\u001b[0;32m--> 321\u001b[0m \u001b[43madata\u001b[49m\u001b[38;5;241;43m.\u001b[39;49m\u001b[43mwrite\u001b[49m\u001b[43m(\u001b[49m\u001b[43madata_output_path\u001b[49m\u001b[43m)\u001b[49m\n\u001b[1;32m    323\u001b[0m \u001b[38;5;28;01mif\u001b[39;00m output_type \u001b[38;5;241m==\u001b[39m \u001b[38;5;124m\"\u001b[39m\u001b[38;5;124mpath\u001b[39m\u001b[38;5;124m\"\u001b[39m:\n\u001b[1;32m    324\u001b[0m     \u001b[38;5;28;01mreturn\u001b[39;00m adata_output_path\n",
      "File \u001b[0;32m~/miniconda3/envs/varseek2/lib/python3.10/site-packages/anndata/_core/anndata.py:1865\u001b[0m, in \u001b[0;36mAnnData.write_h5ad\u001b[0;34m(self, filename, compression, compression_opts, as_dense)\u001b[0m\n\u001b[1;32m   1862\u001b[0m \u001b[38;5;28;01mif\u001b[39;00m filename \u001b[38;5;129;01mis\u001b[39;00m \u001b[38;5;28;01mNone\u001b[39;00m:\n\u001b[1;32m   1863\u001b[0m     filename \u001b[38;5;241m=\u001b[39m \u001b[38;5;28mself\u001b[39m\u001b[38;5;241m.\u001b[39mfilename\n\u001b[0;32m-> 1865\u001b[0m \u001b[43mwrite_h5ad\u001b[49m\u001b[43m(\u001b[49m\n\u001b[1;32m   1866\u001b[0m \u001b[43m    \u001b[49m\u001b[43mPath\u001b[49m\u001b[43m(\u001b[49m\u001b[43mfilename\u001b[49m\u001b[43m)\u001b[49m\u001b[43m,\u001b[49m\n\u001b[1;32m   1867\u001b[0m \u001b[43m    \u001b[49m\u001b[38;5;28;43mself\u001b[39;49m\u001b[43m,\u001b[49m\n\u001b[1;32m   1868\u001b[0m \u001b[43m    \u001b[49m\u001b[43mcompression\u001b[49m\u001b[38;5;241;43m=\u001b[39;49m\u001b[43mcompression\u001b[49m\u001b[43m,\u001b[49m\n\u001b[1;32m   1869\u001b[0m \u001b[43m    \u001b[49m\u001b[43mcompression_opts\u001b[49m\u001b[38;5;241;43m=\u001b[39;49m\u001b[43mcompression_opts\u001b[49m\u001b[43m,\u001b[49m\n\u001b[1;32m   1870\u001b[0m \u001b[43m    \u001b[49m\u001b[43mas_dense\u001b[49m\u001b[38;5;241;43m=\u001b[39;49m\u001b[43mas_dense\u001b[49m\u001b[43m,\u001b[49m\n\u001b[1;32m   1871\u001b[0m \u001b[43m\u001b[49m\u001b[43m)\u001b[49m\n\u001b[1;32m   1873\u001b[0m \u001b[38;5;28;01mif\u001b[39;00m \u001b[38;5;28mself\u001b[39m\u001b[38;5;241m.\u001b[39misbacked:\n\u001b[1;32m   1874\u001b[0m     \u001b[38;5;28mself\u001b[39m\u001b[38;5;241m.\u001b[39mfile\u001b[38;5;241m.\u001b[39mfilename \u001b[38;5;241m=\u001b[39m filename\n",
      "File \u001b[0;32m~/miniconda3/envs/varseek2/lib/python3.10/site-packages/anndata/_io/h5ad.py:67\u001b[0m, in \u001b[0;36mwrite_h5ad\u001b[0;34m(filepath, adata, as_dense, convert_strings_to_categoricals, dataset_kwargs, **kwargs)\u001b[0m\n\u001b[1;32m     64\u001b[0m     \u001b[38;5;28;01mraise\u001b[39;00m \u001b[38;5;167;01mValueError\u001b[39;00m(\u001b[38;5;124m\"\u001b[39m\u001b[38;5;124mCannot specify writing `raw/X` to dense if it doesn’t exist.\u001b[39m\u001b[38;5;124m\"\u001b[39m)\n\u001b[1;32m     66\u001b[0m \u001b[38;5;28;01mif\u001b[39;00m convert_strings_to_categoricals:\n\u001b[0;32m---> 67\u001b[0m     \u001b[43madata\u001b[49m\u001b[38;5;241;43m.\u001b[39;49m\u001b[43mstrings_to_categoricals\u001b[49m\u001b[43m(\u001b[49m\u001b[43m)\u001b[49m\n\u001b[1;32m     68\u001b[0m     \u001b[38;5;28;01mif\u001b[39;00m adata\u001b[38;5;241m.\u001b[39mraw \u001b[38;5;129;01mis\u001b[39;00m \u001b[38;5;129;01mnot\u001b[39;00m \u001b[38;5;28;01mNone\u001b[39;00m:\n\u001b[1;32m     69\u001b[0m         adata\u001b[38;5;241m.\u001b[39mstrings_to_categoricals(adata\u001b[38;5;241m.\u001b[39mraw\u001b[38;5;241m.\u001b[39mvar)\n",
      "File \u001b[0;32m~/miniconda3/envs/varseek2/lib/python3.10/site-packages/anndata/_core/anndata.py:1129\u001b[0m, in \u001b[0;36mAnnData.strings_to_categoricals\u001b[0;34m(self, df)\u001b[0m\n\u001b[1;32m   1125\u001b[0m string_cols \u001b[38;5;241m=\u001b[39m [\n\u001b[1;32m   1126\u001b[0m     key \u001b[38;5;28;01mfor\u001b[39;00m key \u001b[38;5;129;01min\u001b[39;00m df\u001b[38;5;241m.\u001b[39mcolumns \u001b[38;5;28;01mif\u001b[39;00m infer_dtype(df[key]) \u001b[38;5;241m==\u001b[39m \u001b[38;5;124m\"\u001b[39m\u001b[38;5;124mstring\u001b[39m\u001b[38;5;124m\"\u001b[39m\n\u001b[1;32m   1127\u001b[0m ]\n\u001b[1;32m   1128\u001b[0m \u001b[38;5;28;01mfor\u001b[39;00m key \u001b[38;5;129;01min\u001b[39;00m string_cols:\n\u001b[0;32m-> 1129\u001b[0m     c \u001b[38;5;241m=\u001b[39m \u001b[43mpd\u001b[49m\u001b[38;5;241;43m.\u001b[39;49m\u001b[43mCategorical\u001b[49m\u001b[43m(\u001b[49m\u001b[43mdf\u001b[49m\u001b[43m[\u001b[49m\u001b[43mkey\u001b[49m\u001b[43m]\u001b[49m\u001b[43m)\u001b[49m\n\u001b[1;32m   1130\u001b[0m     \u001b[38;5;66;03m# TODO: We should only check if non-null values are unique, but\u001b[39;00m\n\u001b[1;32m   1131\u001b[0m     \u001b[38;5;66;03m# this would break cases where string columns with nulls could\u001b[39;00m\n\u001b[1;32m   1132\u001b[0m     \u001b[38;5;66;03m# be written as categorical, but not as string.\u001b[39;00m\n\u001b[1;32m   1133\u001b[0m     \u001b[38;5;66;03m# Possible solution: https://github.com/scverse/anndata/issues/504\u001b[39;00m\n\u001b[1;32m   1134\u001b[0m     \u001b[38;5;28;01mif\u001b[39;00m \u001b[38;5;28mlen\u001b[39m(c\u001b[38;5;241m.\u001b[39mcategories) \u001b[38;5;241m>\u001b[39m\u001b[38;5;241m=\u001b[39m \u001b[38;5;28mlen\u001b[39m(c):\n",
      "File \u001b[0;32m~/miniconda3/envs/varseek2/lib/python3.10/site-packages/pandas/core/arrays/categorical.py:454\u001b[0m, in \u001b[0;36mCategorical.__init__\u001b[0;34m(self, values, categories, ordered, dtype, fastpath, copy)\u001b[0m\n\u001b[1;32m    447\u001b[0m             \u001b[38;5;28;01mraise\u001b[39;00m \u001b[38;5;167;01mTypeError\u001b[39;00m(\n\u001b[1;32m    448\u001b[0m                 \u001b[38;5;124m\"\u001b[39m\u001b[38;5;124m'\u001b[39m\u001b[38;5;124mvalues\u001b[39m\u001b[38;5;124m'\u001b[39m\u001b[38;5;124m is not ordered, please \u001b[39m\u001b[38;5;124m\"\u001b[39m\n\u001b[1;32m    449\u001b[0m                 \u001b[38;5;124m\"\u001b[39m\u001b[38;5;124mexplicitly specify the categories order \u001b[39m\u001b[38;5;124m\"\u001b[39m\n\u001b[1;32m    450\u001b[0m                 \u001b[38;5;124m\"\u001b[39m\u001b[38;5;124mby passing in a categories argument.\u001b[39m\u001b[38;5;124m\"\u001b[39m\n\u001b[1;32m    451\u001b[0m             ) \u001b[38;5;28;01mfrom\u001b[39;00m \u001b[38;5;21;01merr\u001b[39;00m\n\u001b[1;32m    453\u001b[0m     \u001b[38;5;66;03m# we're inferring from values\u001b[39;00m\n\u001b[0;32m--> 454\u001b[0m     dtype \u001b[38;5;241m=\u001b[39m \u001b[43mCategoricalDtype\u001b[49m\u001b[43m(\u001b[49m\u001b[43mcategories\u001b[49m\u001b[43m,\u001b[49m\u001b[43m \u001b[49m\u001b[43mdtype\u001b[49m\u001b[38;5;241;43m.\u001b[39;49m\u001b[43mordered\u001b[49m\u001b[43m)\u001b[49m\n\u001b[1;32m    456\u001b[0m \u001b[38;5;28;01melif\u001b[39;00m is_categorical_dtype(values\u001b[38;5;241m.\u001b[39mdtype):\n\u001b[1;32m    457\u001b[0m     old_codes \u001b[38;5;241m=\u001b[39m extract_array(values)\u001b[38;5;241m.\u001b[39m_codes\n",
      "File \u001b[0;32m~/miniconda3/envs/varseek2/lib/python3.10/site-packages/pandas/core/dtypes/dtypes.py:186\u001b[0m, in \u001b[0;36mCategoricalDtype.__init__\u001b[0;34m(self, categories, ordered)\u001b[0m\n\u001b[1;32m    185\u001b[0m \u001b[38;5;28;01mdef\u001b[39;00m \u001b[38;5;21m__init__\u001b[39m(\u001b[38;5;28mself\u001b[39m, categories\u001b[38;5;241m=\u001b[39m\u001b[38;5;28;01mNone\u001b[39;00m, ordered: Ordered \u001b[38;5;241m=\u001b[39m \u001b[38;5;28;01mFalse\u001b[39;00m) \u001b[38;5;241m-\u001b[39m\u001b[38;5;241m>\u001b[39m \u001b[38;5;28;01mNone\u001b[39;00m:\n\u001b[0;32m--> 186\u001b[0m     \u001b[38;5;28;43mself\u001b[39;49m\u001b[38;5;241;43m.\u001b[39;49m\u001b[43m_finalize\u001b[49m\u001b[43m(\u001b[49m\u001b[43mcategories\u001b[49m\u001b[43m,\u001b[49m\u001b[43m \u001b[49m\u001b[43mordered\u001b[49m\u001b[43m,\u001b[49m\u001b[43m \u001b[49m\u001b[43mfastpath\u001b[49m\u001b[38;5;241;43m=\u001b[39;49m\u001b[38;5;28;43;01mFalse\u001b[39;49;00m\u001b[43m)\u001b[49m\n",
      "File \u001b[0;32m~/miniconda3/envs/varseek2/lib/python3.10/site-packages/pandas/core/dtypes/dtypes.py:340\u001b[0m, in \u001b[0;36mCategoricalDtype._finalize\u001b[0;34m(self, categories, ordered, fastpath)\u001b[0m\n\u001b[1;32m    337\u001b[0m     \u001b[38;5;28mself\u001b[39m\u001b[38;5;241m.\u001b[39mvalidate_ordered(ordered)\n\u001b[1;32m    339\u001b[0m \u001b[38;5;28;01mif\u001b[39;00m categories \u001b[38;5;129;01mis\u001b[39;00m \u001b[38;5;129;01mnot\u001b[39;00m \u001b[38;5;28;01mNone\u001b[39;00m:\n\u001b[0;32m--> 340\u001b[0m     categories \u001b[38;5;241m=\u001b[39m \u001b[38;5;28;43mself\u001b[39;49m\u001b[38;5;241;43m.\u001b[39;49m\u001b[43mvalidate_categories\u001b[49m\u001b[43m(\u001b[49m\u001b[43mcategories\u001b[49m\u001b[43m,\u001b[49m\u001b[43m \u001b[49m\u001b[43mfastpath\u001b[49m\u001b[38;5;241;43m=\u001b[39;49m\u001b[43mfastpath\u001b[49m\u001b[43m)\u001b[49m\n\u001b[1;32m    342\u001b[0m \u001b[38;5;28mself\u001b[39m\u001b[38;5;241m.\u001b[39m_categories \u001b[38;5;241m=\u001b[39m categories\n\u001b[1;32m    343\u001b[0m \u001b[38;5;28mself\u001b[39m\u001b[38;5;241m.\u001b[39m_ordered \u001b[38;5;241m=\u001b[39m ordered\n",
      "File \u001b[0;32m~/miniconda3/envs/varseek2/lib/python3.10/site-packages/pandas/core/dtypes/dtypes.py:536\u001b[0m, in \u001b[0;36mCategoricalDtype.validate_categories\u001b[0;34m(categories, fastpath)\u001b[0m\n\u001b[1;32m    533\u001b[0m     \u001b[38;5;28;01mif\u001b[39;00m categories\u001b[38;5;241m.\u001b[39mhasnans:\n\u001b[1;32m    534\u001b[0m         \u001b[38;5;28;01mraise\u001b[39;00m \u001b[38;5;167;01mValueError\u001b[39;00m(\u001b[38;5;124m\"\u001b[39m\u001b[38;5;124mCategorical categories cannot be null\u001b[39m\u001b[38;5;124m\"\u001b[39m)\n\u001b[0;32m--> 536\u001b[0m     \u001b[38;5;28;01mif\u001b[39;00m \u001b[38;5;129;01mnot\u001b[39;00m categories\u001b[38;5;241m.\u001b[39mis_unique:\n\u001b[1;32m    537\u001b[0m         \u001b[38;5;28;01mraise\u001b[39;00m \u001b[38;5;167;01mValueError\u001b[39;00m(\u001b[38;5;124m\"\u001b[39m\u001b[38;5;124mCategorical categories must be unique\u001b[39m\u001b[38;5;124m\"\u001b[39m)\n\u001b[1;32m    539\u001b[0m \u001b[38;5;28;01mif\u001b[39;00m \u001b[38;5;28misinstance\u001b[39m(categories, ABCCategoricalIndex):\n",
      "\u001b[0;31mKeyboardInterrupt\u001b[0m: "
     ]
    }
   ],
   "source": [
    "adata_list = []\n",
    "for study in os.listdir(ccle_data_out_dir):\n",
    "    if study == \"multiqc_total_data\":\n",
    "        continue\n",
    "    full_path = os.path.join(ccle_data_out_dir, study)\n",
    "    experiment_alias_underscores_only, sample_accession, experiment_accession, run_accession = study.split(\"___\")\n",
    "    tissue = get_tissue_name_from_experiment_alias(experiment_alias_underscores_only)\n",
    "    kb_count_out_mutation_index_dir = os.path.join(full_path, \"kb_count_out_mutation_index\")\n",
    "    kb_count_out_standard_index_dir = os.path.join(full_path, \"kb_count_out_standard_index\")\n",
    "\n",
    "    adata_mutation_path = f\"{kb_count_out_mutation_index_dir}/counts_unfiltered/adata.h5ad\"\n",
    "    adata_output_path = f\"{kb_count_out_mutation_index_dir}/counts_unfiltered/adata_cleaned.h5ad\"\n",
    "\n",
    "    adata_mutation = sc.read_h5ad(adata_mutation_path)\n",
    "    adata_mutation.obs_names = [f\"{experiment_accession}_{tissue}\"]\n",
    "\n",
    "    adata_mutation.obs[\"sample_accession\"] = sample_accession\n",
    "    adata_mutation.obs[\"experiment_accession\"] = experiment_accession\n",
    "    adata_mutation.obs[\"run_accession\"] = run_accession\n",
    "    adata_mutation.obs[\"experiment_alias_underscores_only\"] = experiment_alias_underscores_only\n",
    "    adata_mutation.obs[\"tissue\"] = tissue\n",
    "\n",
    "    adata_mutation = vk.varseek_clean.clean(adata_mutation, adata_output_path = adata_output_path, minimum_count_filter = minimum_count_filter, use_binary_matrix = use_binary_matrix, assay = \"bulk\", do_cpm_normalization = do_cpm_normalization, split_reads_by_Ns = split_reads_by_Ns)\n",
    "    if 'mcrs_count' in adata_mutation.var.columns:\n",
    "        adata_mutation.var.drop('mcrs_count', axis=1, inplace=True)\n",
    "\n",
    "    adata_list.append(adata_mutation)\n",
    "\n",
    "adata = concat(adata_list, join='outer')\n",
    "\n",
    "if use_binary_matrix:\n",
    "    adata.X = (adata.X > 0).astype(int)\n",
    "\n",
    "adata.var['mcrs_id'] = adata.var.index\n",
    "original_var_names = adata.var_names.copy()\n",
    "# merge adata.var with mutation_metadata_df by mcrs_id\n",
    "adata.var = adata.var.merge(mutation_metadata_df, on='mcrs_id', how='left')\n",
    "adata.var_names = original_var_names\n",
    "\n",
    "\n",
    "# print(type(adata.X))  # Should be a sparse matrix type if stored that way in the originals\n",
    "# print(adata.X.shape)   # Should show (1019, 5.3M)\n",
    "# print(adata.obs.head())\n",
    "# print(adata.var.head())\n",
    "print(adata.shape)"
   ]
  },
  {
   "cell_type": "code",
   "execution_count": null,
   "metadata": {},
   "outputs": [],
   "source": [
    "if matrix_type == \"gene\":\n",
    "    # Step 1: Extract mutation-gene mappings\n",
    "    gene_mapping = adata.var['gene_name']\n",
    "\n",
    "    # Step 2: Convert your data to a DataFrame for easier manipulation\n",
    "    # `X` is typically the main data matrix in `adata`, which we assume is sparse\n",
    "    data_df = pd.DataFrame.sparse.from_spmatrix(adata.X, index=adata.obs_names, columns=adata.var_names)\n",
    "\n",
    "    # Step 3: Add gene mapping to the DataFrame for aggregation\n",
    "    data_df.columns = gene_mapping.values\n",
    "\n",
    "    # Step 4: Group by gene and sum across mutations belonging to the same gene\n",
    "    data_gene_df = data_df.groupby(axis=1, level=0).sum()\n",
    "\n",
    "    # Step 5: Convert the result back into an AnnData object\n",
    "    adata_gene = sc.AnnData(data_gene_df)\n",
    "    adata_gene.obs_names = adata.obs_names  # Copy sample names\n",
    "    adata_gene.var_names = data_gene_df.columns  # Gene names\n",
    "    adata = adata_gene.copy()"
   ]
  },
  {
   "cell_type": "markdown",
   "metadata": {},
   "source": [
    "## Drop 0 columns"
   ]
  },
  {
   "cell_type": "code",
   "execution_count": null,
   "metadata": {},
   "outputs": [],
   "source": [
    "# Identify columns (genes) with non-zero counts across samples\n",
    "nonzero_gene_mask = np.array((adata.X != 0).sum(axis=0)).flatten() > 0\n",
    "\n",
    "# Filter the AnnData object to keep only genes with non-zero counts across samples\n",
    "adata = adata[:, nonzero_gene_mask]\n",
    "\n",
    "# Check the new shape to confirm columns were removed\n",
    "print(adata.shape)  # Should be (1019, <=5.3M)"
   ]
  },
  {
   "cell_type": "markdown",
   "metadata": {},
   "source": [
    "## Perform PCA"
   ]
  },
  {
   "cell_type": "code",
   "execution_count": null,
   "metadata": {},
   "outputs": [],
   "source": [
    "# Log-transform the data\n",
    "sc.pp.log1p(adata)\n",
    "\n",
    "# Scale the data\n",
    "sc.pp.scale(adata)\n",
    "\n",
    "# Run PCA, specifying the number of components\n",
    "sc.tl.pca(adata, n_comps=n_comps)\n",
    "\n",
    "# Sample scores on the first few principal components\n",
    "print(adata.obsm[\"X_pca\"])\n",
    "\n",
    "# Explained variance for each component\n",
    "print(adata.uns[\"pca\"][\"variance_ratio\"])\n",
    "\n",
    "# plot PCA\n",
    "pca_plot_dir = f\"{base_dir}/pca_plot\"\n",
    "os.makedirs(pca_plot_dir, exist_ok=True)\n",
    "pca_fig = sc.pl.pca(adata)\n",
    "pca_fig.savefig(f\"{pca_plot_dir}/pca.png\", dpi=300)\n",
    "plot_scree(adata, output_plot_file=f\"{pca_plot_dir}/scree.png\")  # scree plot   # sc.pl.pca_variance_ratio(adata, n_pcs=n_comps, log=True)\n",
    "\n",
    "for pc_index in range(n_comps):\n",
    "    pca_plot_dir_pc_specific = f\"{pca_plot_dir}/loading_{pc_index}\"\n",
    "    os.makedirs(pca_plot_dir_pc_specific, exist_ok=True)\n",
    "    plot_loading_contributions(adata, PC_index = pc_index, top_genes_stats = 100, top_genes_plot = 10, output_stats_file = f\"{pca_plot_dir_pc_specific}/top_genes_stats.txt\", output_plot_file=f\"{pca_plot_dir_pc_specific}/loadings.png\")\n",
    "\n",
    "# knn, clustering, alluvial\n",
    "sc.pp.neighbors(adata, n_neighbors=15)\n",
    "\n",
    "adata, resolution, num_clusters = find_resolution_for_target_clusters(adata, target_clusters=number_of_cancer_types, tolerance=tolerance)\n",
    "print(f\"Optimal resolution for ~{number_of_cancer_types} clusters: {resolution} (yielded {num_clusters} clusters)\")"
   ]
  },
  {
   "cell_type": "code",
   "execution_count": null,
   "metadata": {},
   "outputs": [],
   "source": [
    "pca_fig = sc.pl.pca(adata, color='tissue', title=\"PCA colored by tissue\", save=\"tissue.png\")\n",
    "pca_fig.savefig(f\"{pca_plot_dir}/pca_tissue.png\", dpi=300)\n",
    "pca_fig = sc.pl.pca(adata, color='leiden', title=\"PCA colored by Leiden clusters\", save=\"leiden.png\")\n",
    "pca_fig.savefig(f\"{pca_plot_dir}/pca_leiden.png\", dpi=300)"
   ]
  },
  {
   "cell_type": "code",
   "execution_count": null,
   "metadata": {},
   "outputs": [],
   "source": [
    "adata.uns['tissue_leiden_ari'] = adjusted_rand_score(adata.obs['tissue'], adata.obs['leiden'])\n",
    "print(f\"Adjusted Rand Index (ARI) between 'leiden' and 'tissue': {adata.uns['tissue_leiden_ari']}\")"
   ]
  },
  {
   "cell_type": "code",
   "execution_count": null,
   "metadata": {},
   "outputs": [],
   "source": [
    "# neighbornet - see Tara's paper - https://github.com/pachterlab/CP_2021"
   ]
  },
  {
   "cell_type": "code",
   "execution_count": null,
   "metadata": {},
   "outputs": [],
   "source": [
    "plot_contingency_table(adata, column1 = \"tissue\", column2 = \"leiden\", output_plot_file=f\"{base_dir}/contingency_table.png\")  #* consider replacing with my alluvial plot"
   ]
  },
  {
   "cell_type": "code",
   "execution_count": null,
   "metadata": {},
   "outputs": [],
   "source": [
    "grouped_tissue_dir = f\"{base_dir}/grouped_tissue\"\n",
    "\n",
    "# Iterate through each unique tissue type\n",
    "for tissue in adata.obs['tissue'].unique():\n",
    "    specific_tissue_dir = f\"{grouped_tissue_dir}/{tissue}\"\n",
    "    os.makedirs(specific_tissue_dir, exist_ok=True)\n",
    "\n",
    "    # Subset adata for the current tissue\n",
    "    tissue_adata_temp = adata[adata.obs['tissue'] == tissue].copy()\n",
    "    \n",
    "    # Sum the matrix across rows (cells) for this tissue, resulting in a 1-row array\n",
    "    summed_matrix = tissue_adata_temp.X.sum(axis=0)  # Sum across rows for each column\n",
    "\n",
    "    if not sp.issparse(summed_matrix):\n",
    "        summed_matrix = sp.csr_matrix(summed_matrix)  # Convert to sparse if not already\n",
    "\n",
    "    if type(summed_matrix) == np.ndarray:\n",
    "        summed_matrix = summed_matrix.reshape(1, -1)\n",
    "\n",
    "    # Create a new adata object with a single row containing the summed values\n",
    "    adata_tissue_specific = sc.AnnData(summed_matrix, var=tissue_adata_temp.var)\n",
    "    \n",
    "    # Update the 'obs' for this single-row adata to reflect the tissue type\n",
    "    adata_tissue_specific.obs['tissue'] = [tissue]\n",
    "\n",
    "    if hasattr(adata_tissue_specific.X, \"A1\"):\n",
    "        transcript_counts = adata_tissue_specific.X.sum(axis=0).A1  # Sparse to dense array\n",
    "    else:\n",
    "        transcript_counts = np.array(adata_tissue_specific.X.sum(axis=0)).flatten()  # Already dense, no need for .A1\n",
    "\n",
    "    # Add this as a new column to adata.var\n",
    "    adata_tissue_specific.var['transcript_count'] = transcript_counts\n",
    "\n",
    "    adata_tissue_specific.var = adata_tissue_specific.var.sort_values(by='transcript_count', ascending=False)\n",
    "\n",
    "    sorted_mutations_file = f\"{specific_tissue_dir}/sorted_mutations.txt\"\n",
    "    with open(sorted_mutations_file, \"w\") as f:\n",
    "        for mutation_name, transcript_count in zip(adata_tissue_specific.var['header_with_gene_name'], adata_tissue_specific.var['transcript_count']):\n",
    "            f.write(f\"{mutation_name} {transcript_count}\\n\")\n",
    "\n",
    "    plot_items_descending_order(adata_tissue_specific.var, x_column = 'header_with_gene_name', y_column = 'transcript_count', item_range = (0,100), xlabel = \"Mutation\", title = \"Top 100 Mutations by Transcript Count\", save_path = f'{specific_tissue_dir}/top_100_mutations_plot.png', figsize = (15, 7))\n",
    "    plot_items_descending_order(adata_tissue_specific.var, x_column = 'header_with_gene_name', y_column = 'transcript_count', item_range = (0,1000), xlabel = \"Mutation Index\", title = \"Top 1000 Mutations by Transcript Count\", save_path = f'{specific_tissue_dir}/top_1000_mutations_plot.png', figsize = (15, 7))\n",
    "\n",
    "    combined_gene = adata_tissue_specific.var.groupby('gene_name', as_index=False)['transcript_count'].sum()\n",
    "    combined_gene = pd.merge(combined_gene, adata_tissue_specific.var[['gene_name']], on='gene_name', how='left')\n",
    "    combined_gene = combined_gene.drop_duplicates(subset='gene_name', keep='first')\n",
    "    adata_tissue_specific.uns['combined_genes'] = combined_gene.sort_values(by='transcript_count', ascending=False)\n",
    "\n",
    "    sorted_mutated_genes_file = f\"{specific_tissue_dir}/sorted_mutated_genes.txt\"\n",
    "    with open(sorted_mutated_genes_file, \"w\") as f:\n",
    "        for gene_name, transcript_count in zip(adata_tissue_specific.uns['combined_genes']['gene_name'], adata_tissue_specific.uns['combined_genes']['transcript_count']):\n",
    "            f.write(f\"{gene_name} {transcript_count}\\n\")\n",
    "\n",
    "    plot_items_descending_order(adata_tissue_specific.uns['combined_genes'], x_column = 'gene_name', y_column = 'transcript_count', item_range = (0,100), xlabel = \"Gene\", title = \"Top 100 Genes by Transcript Count\", save_path = f'{specific_tissue_dir}/top_100_genes_plot.png', figsize = (15, 7))"
   ]
  },
  {
   "cell_type": "code",
   "execution_count": null,
   "metadata": {},
   "outputs": [],
   "source": [
    "adata.write(f\"{base_dir}/adata_combined_ccle_rnaseq.h5ad\")"
   ]
  },
  {
   "cell_type": "code",
   "execution_count": null,
   "metadata": {},
   "outputs": [],
   "source": [
    "#!! for each cancer type, split into 2/3 1/3 and train a ML model to predict the cancer type\n",
    "#!! take just variant matrix and try to predict cancer type; and similarly do by normal sample x mutation matrix (and compare to sample x mutation matrix)"
   ]
  }
 ],
 "metadata": {
  "kernelspec": {
   "display_name": "varseek2",
   "language": "python",
   "name": "python3"
  },
  "language_info": {
   "codemirror_mode": {
    "name": "ipython",
    "version": 3
   },
   "file_extension": ".py",
   "mimetype": "text/x-python",
   "name": "python",
   "nbconvert_exporter": "python",
   "pygments_lexer": "ipython3",
   "version": "3.10.15"
  }
 },
 "nbformat": 4,
 "nbformat_minor": 2
}
