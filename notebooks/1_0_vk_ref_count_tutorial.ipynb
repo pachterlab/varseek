{
 "cells": [
  {
   "cell_type": "code",
   "execution_count": null,
   "metadata": {},
   "outputs": [],
   "source": [
    "import os\n",
    "import varseek as vk"
   ]
  },
  {
   "cell_type": "code",
   "execution_count": null,
   "metadata": {},
   "outputs": [],
   "source": [
    "# Required\n",
    "mutations = \"cosmic_cmc\"  # \"cosmic_cmc\"  # file path to mutations csv/tsv file OR one of the supported databases - eg cosmic_cmc\n",
    "sequences = \"cdna\"  # cdna  # file path to reference sequence fasta file OR, only if 'mutations' is in the supported databases, one of the following options is also supported: \"cds\", \"cdna\", \"genome\", \"cdna_and_genome\" - sequences for vk build\n",
    "rnaseq_fastq_files = \"\"  # pass as a single string or as a list of strings (if paired-end, then pass each pair sequentially with R1 preceding R2)\n",
    "\n",
    "# General\n",
    "verbose = True\n",
    "w = 54  # window size for varseek build (should be at least 1 less than kallisto k)\n",
    "k = 59\n",
    "threads = 4\n",
    "\n",
    "# vk ref\n",
    "download = False  # download vk ref index and t2g\n",
    "filters=(\n",
    "    \"dlist_substring:equal=none\",  # filter out mutations which are a substring of the reference genome\n",
    "    \"pseudoaligned_to_human_reference_despite_not_truly_aligning:is_not_true\",  # filter out mutations which pseudoaligned to human genome despite not truly aligning\n",
    "    \"dlist:equal=none\",  # *** erase eventually when I want to d-list  # filter out mutations which are capable of being d-listed (given that I filter out the substrings above)\n",
    "    \"longest_homopolymer_length:bottom_percent=99.99\",  # filters out MCRSs with repeating single nucleotide - 99.99 keeps the bottom 99.99% (fraction 0.9999) ie filters out the top 0.01%\n",
    "    \"triplet_complexity:top_percent=99.9\",  # filters out MCRSs with repeating triplets - 99.9 keeps the top 99.9% (fraction 0.999) ie filters out the bottom 0.1%\n",
    ")\n",
    "cosmic_version = 100  # COSMIC version for gget cosmic\n",
    "# os.environ['COSMIC_EMAIL'] = 'your_email'  # to avoid being prompted for email in varseek build\n",
    "# os.environ['COSMIC_PASSWORD'] = 'your_password'  # to avoid being prompted for password in varseek build\n",
    "dlist_reference_source = \"T2T\"\n",
    "dlist = \"None\"  # path to dlist fasta file or \"None\" (including the quotes)\n",
    "\n",
    "# vk count\n",
    "strand = \"unstranded\"  # \"forward\", \"reverse\", or \"unstranded\"\n",
    "technology = \"bulk\"  # \"bulk\" or \"sc\"  #!!! implement\n",
    "parity = \"single\"  # single or paired\n",
    "min_counts = 2\n",
    "filter_cells_by_min_counts = True  # True for auto-filter, numeric for set filter, None/False otherwise\n",
    "filter_cells_by_min_genes = 200\n",
    "filter_genes_by_min_cells = 3\n",
    "\n",
    "# Paths\n",
    "data_directory = os.path.dirname(os.path.abspath(\"\"))  # if this notebook resides in varseek/notebooks/0_data_download.ipynb, then this retrieves varseek\n",
    "out_dir = os.path.join(data_directory, \"data\", \"vk_build_pipeline_notebook1\")\n",
    "reference_out_dir = os.path.join(data_directory, \"data\", \"reference\")"
   ]
  },
  {
   "cell_type": "code",
   "execution_count": null,
   "metadata": {},
   "outputs": [],
   "source": [
    "vk_ref_output_dict = vk.ref(\n",
    "    mutations=mutations,  # build\n",
    "    sequences=sequences,\n",
    "    w=w,\n",
    "    k=k,\n",
    "    cosmic_version=cosmic_version,\n",
    "    dlist_reference_source=dlist_reference_source,  # info\n",
    "    filters=filters,  # filter\n",
    "    dlist=dlist,  # kb ref\n",
    "    out=out_dir,  # general\n",
    "    reference_out_dir=reference_out_dir,\n",
    "    download=download,\n",
    "    threads=threads,\n",
    "    verbose=verbose,\n",
    ")\n",
    "\n",
    "index = vk_ref_output_dict[\"index\"]\n",
    "t2g = vk_ref_output_dict[\"t2g\"]"
   ]
  },
  {
   "cell_type": "code",
   "execution_count": null,
   "metadata": {},
   "outputs": [],
   "source": [
    "print(f\"Find index at {index}\")\n",
    "print(f\"Find t2g at {t2g}\")"
   ]
  },
  {
   "cell_type": "code",
   "execution_count": null,
   "metadata": {},
   "outputs": [],
   "source": [
    "vk_count_output_dict = vk.count(\n",
    "    index=index,  # kb count  # fastqpp omitted\n",
    "    t2g=t2g,\n",
    "    rnaseq_fastq_files=rnaseq_fastq_files,\n",
    "    technology=technology,\n",
    "    strand=strand,\n",
    "    parity=parity,\n",
    "    min_counts=min_counts,  # clean\n",
    "    filter_cells_by_min_counts=filter_cells_by_min_counts,\n",
    "    filter_cells_by_min_genes=filter_cells_by_min_genes,\n",
    "    filter_genes_by_min_cells=filter_genes_by_min_cells,  # summarize omitted\n",
    "    out=out_dir,  # general\n",
    "    reference_out_dir=reference_out_dir,\n",
    "    threads=threads,\n",
    "    verbose=verbose,\n",
    ")"
   ]
  },
  {
   "cell_type": "code",
   "execution_count": null,
   "metadata": {},
   "outputs": [],
   "source": [
    "print(f\"Find summarized results in {vk_count_output_dict['vk_summarize_output_dir']}\")\n",
    "print(f\"Find the processed adata object for further analysis in {vk_count_output_dict['adata_path']}\")"
   ]
  }
 ],
 "metadata": {
  "kernelspec": {
   "display_name": "varseek",
   "language": "python",
   "name": "python3"
  },
  "language_info": {
   "codemirror_mode": {
    "name": "ipython",
    "version": 3
   },
   "file_extension": ".py",
   "mimetype": "text/x-python",
   "name": "python",
   "nbconvert_exporter": "python",
   "pygments_lexer": "ipython3",
   "version": "3.10.16"
  }
 },
 "nbformat": 4,
 "nbformat_minor": 4
}
