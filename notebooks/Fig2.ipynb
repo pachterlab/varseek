{
 "cells": [
  {
   "cell_type": "code",
   "execution_count": 1,
   "metadata": {},
   "outputs": [],
   "source": [
    "import os\n",
    "import subprocess\n",
    "import pandas as pd\n",
    "import numpy as np\n",
    "import matplotlib.pyplot as plt\n",
    "from collections import OrderedDict\n",
    "\n",
    "from varseek.utils import calculate_metrics, create_stratified_metric_bar_plot_updated, create_venn_diagram, draw_confusion_matrix, plot_overall_metrics, create_stratified_metric_line_plot, create_benchmarking_legend, print_json"
   ]
  },
  {
   "cell_type": "code",
   "execution_count": 2,
   "metadata": {},
   "outputs": [],
   "source": [
    "tools = [\"varseek\", \"gatk_mutect2\", \"gatk_haplotypecaller\"]  # Ensure that any additional tools have columns DP_{tool} (int ≥ 0) AND/OR mutation_detected_{tool} (bool) in {simulated_data_output_dir}/unique_mcrs_df.csv for each tool TOOL\n",
    "simulated_data_output_dir = '/home/jrich/data/varseek_data_fresh/manuscript_worthy/vk_sim_2024dec9_complex_testing'  # make sure this matches notebook 2\n",
    "fig2_output_dir = '/home/jrich/data/varseek_data_fresh/manuscript_worthy/fig2_output'\n",
    "run_setup_notebooks = False"
   ]
  },
  {
   "cell_type": "code",
   "execution_count": 3,
   "metadata": {},
   "outputs": [],
   "source": [
    "# import importlib\n",
    "# import varseek.utils.visualization_utils\n",
    "# importlib.reload(varseek.utils.visualization_utils)\n",
    "# from varseek.utils.visualization_utils import create_stratified_metric_bar_plot_updated"
   ]
  },
  {
   "cell_type": "markdown",
   "metadata": {},
   "source": [
    "# Make sure to change parameters and paths appropriately in 1_1, 2, and 2_2"
   ]
  },
  {
   "cell_type": "markdown",
   "metadata": {},
   "source": [
    "# Make vk index if not created already - run notebook 1_1"
   ]
  },
  {
   "cell_type": "code",
   "execution_count": 4,
   "metadata": {},
   "outputs": [],
   "source": [
    "if run_setup_notebooks and not os.path.exists(\"1_1_variant_detection_reference_building_fig2.ipynb\"):\n",
    "    run_index_creation_command = \"jupyter nbconvert --to notebook --execute --output 1_1_variant_detection_reference_building_fig2.ipynb 1_1_variant_detection_reference_building.ipynb\"\n",
    "    subprocess.run(run_index_creation_command, shell=True)"
   ]
  },
  {
   "cell_type": "markdown",
   "metadata": {},
   "source": [
    "# Create simulated data with vk sim and run variant screening with vk - 2"
   ]
  },
  {
   "cell_type": "code",
   "execution_count": 5,
   "metadata": {},
   "outputs": [],
   "source": [
    "if run_setup_notebooks and not os.path.exists(\"2_variant_simulation_fig2.ipynb\"):\n",
    "    run_simulated_data_creation_and_vk_screening_command = \"jupyter nbconvert --to notebook --execute --output 2_variant_simulation_fig2.ipynb 2_variant_simulation.ipynb\"\n",
    "    subprocess.run(run_simulated_data_creation_and_vk_screening_command, shell=True)"
   ]
  },
  {
   "cell_type": "markdown",
   "metadata": {},
   "source": [
    "# Run variant calling with GATK (haplotypecaller and mutect2)"
   ]
  },
  {
   "cell_type": "code",
   "execution_count": 6,
   "metadata": {},
   "outputs": [],
   "source": [
    "if run_setup_notebooks and not os.path.exists(\"2_2_gatk_workflow.ipynb\"):\n",
    "    run_simulated_data_creation_and_vk_screening_command = \"jupyter nbconvert --to notebook --execute --output 2_2_gatk_workflow_fig2.ipynb 2_2_gatk_workflow.ipynb\"\n",
    "    subprocess.run(run_simulated_data_creation_and_vk_screening_command, shell=True)"
   ]
  },
  {
   "cell_type": "markdown",
   "metadata": {},
   "source": [
    "# Generate plots for Fig 2"
   ]
  },
  {
   "cell_type": "code",
   "execution_count": 7,
   "metadata": {},
   "outputs": [
    {
     "name": "stderr",
     "output_type": "stream",
     "text": [
      "/tmp/ipykernel_156515/929665836.py:4: DtypeWarning: Columns (36,38) have mixed types. Specify dtype option on import or set low_memory=False.\n",
      "  unique_mcrs_df = pd.read_csv(unique_mcrs_df_path)\n",
      "/tmp/ipykernel_156515/929665836.py:8: DtypeWarning: Columns (5,6,7,8,19) have mixed types. Specify dtype option on import or set low_memory=False.\n",
      "  read_df = pd.read_csv(read_df_path)\n"
     ]
    }
   ],
   "source": [
    "os.makedirs(fig2_output_dir, exist_ok=True)\n",
    "\n",
    "unique_mcrs_df_path = os.path.join(simulated_data_output_dir, 'unique_mcrs_df_with_gatk.csv')\n",
    "unique_mcrs_df = pd.read_csv(unique_mcrs_df_path)\n",
    "unique_mcrs_df.columns = unique_mcrs_df.columns.str.replace(\"_vk\", \"_varseek\", regex=False)  # replace _vk with _varseek\n",
    "\n",
    "read_df_path = os.path.join(simulated_data_output_dir, 'synthetic_reads_updated.csv')\n",
    "read_df = pd.read_csv(read_df_path)"
   ]
  },
  {
   "cell_type": "code",
   "execution_count": 8,
   "metadata": {},
   "outputs": [
    {
     "name": "stdout",
     "output_type": "stream",
     "text": [
      "TP: 6509221, FP: 0, FN: 312, TN: 6078958\n",
      "Accuracy: 0.9999752154567215, Sensitivity: 0.9999520702944436, Specificity: 1.0\n"
     ]
    },
    {
     "data": {
      "text/html": [
       "<pre style=\"white-space:pre;overflow-x:auto;line-height:normal;font-family:Menlo,'DejaVu Sans Mono',consolas,'Courier New',monospace\"><span style=\"font-style: italic\">                      Confusion Matrix                       </span>\n",
       "┏━━━━━━━━━━━━━━━━━┳━━━━━━━━━━━━━━━━━━━━┳━━━━━━━━━━━━━━━━━━━━┓\n",
       "┃<span style=\"font-weight: bold\">                 </span>┃<span style=\"font-weight: bold\"> Predicted Positive </span>┃<span style=\"font-weight: bold\"> Predicted Negative </span>┃\n",
       "┡━━━━━━━━━━━━━━━━━╇━━━━━━━━━━━━━━━━━━━━╇━━━━━━━━━━━━━━━━━━━━┩\n",
       "│ Actual Positive │      6509221       │        312         │\n",
       "│ Actual Negative │         0          │      6078958       │\n",
       "└─────────────────┴────────────────────┴────────────────────┘\n",
       "</pre>\n"
      ],
      "text/plain": [
       "\u001b[3m                      Confusion Matrix                       \u001b[0m\n",
       "┏━━━━━━━━━━━━━━━━━┳━━━━━━━━━━━━━━━━━━━━┳━━━━━━━━━━━━━━━━━━━━┓\n",
       "┃\u001b[1m \u001b[0m\u001b[1m               \u001b[0m\u001b[1m \u001b[0m┃\u001b[1m \u001b[0m\u001b[1mPredicted Positive\u001b[0m\u001b[1m \u001b[0m┃\u001b[1m \u001b[0m\u001b[1mPredicted Negative\u001b[0m\u001b[1m \u001b[0m┃\n",
       "┡━━━━━━━━━━━━━━━━━╇━━━━━━━━━━━━━━━━━━━━╇━━━━━━━━━━━━━━━━━━━━┩\n",
       "│ Actual Positive │      6509221       │        312         │\n",
       "│ Actual Negative │         0          │      6078958       │\n",
       "└─────────────────┴────────────────────┴────────────────────┘\n"
      ]
     },
     "metadata": {},
     "output_type": "display_data"
    }
   ],
   "source": [
    "metric_dictionary_reads_vk = calculate_metrics(read_df, header_name = \"read_header\", suffix=\"\", out = f\"{fig2_output_dir}/read_metrics_varseek.txt\")\n",
    "draw_confusion_matrix(metric_dictionary_reads_vk, suffix=\"\")\n",
    "# create_stratified_metric_bar_plot(read_df, 'mcrs_mutation_type', 'accuracy', overall_metric = metric_dictionary_reads['accuracy'], log_x_axis = False, display_numbers = True, out_path = f\"{fig2_output_dir}/accuracy_vs_mcrs_mutation_type_read_perspective.pdf\")"
   ]
  },
  {
   "cell_type": "code",
   "execution_count": 9,
   "metadata": {},
   "outputs": [],
   "source": [
    "# #!!! TEMP random data for testing\n",
    "# import random\n",
    "# random.seed(42)\n",
    "\n",
    "# # Define the number of rows\n",
    "# num_rows = 500  # Number of rows for the DataFrame\n",
    "\n",
    "# # Generate unique mcrs_id values\n",
    "# mcrs_ids = [f\"mcrs_{i}\" for i in range(1, num_rows + 1)]\n",
    "\n",
    "# # Define the column names\n",
    "# columns = [\n",
    "#     \"mcrs_id\",\n",
    "#     \"mcrs_header\",\n",
    "#     \"TP_varseek\",\n",
    "#     \"FP_varseek\",\n",
    "#     \"TN_varseek\",\n",
    "#     \"FN_varseek\",\n",
    "#     \"TP_gatk_mutect2\",\n",
    "#     \"FP_gatk_mutect2\",\n",
    "#     \"TN_gatk_mutect2\",\n",
    "#     \"FN_gatk_mutect2\",\n",
    "#     \"TP_gatk_haplotypecaller\",\n",
    "#     \"FP_gatk_haplotypecaller\",\n",
    "#     \"TN_gatk_haplotypecaller\",\n",
    "#     \"FN_gatk_haplotypecaller\",\n",
    "#     \"mcrs_mutation_type\",\n",
    "#     \"kmer_overlap_in_mcrs_reference\",\n",
    "#     \"distance_to_nearest_splice_junction\",\n",
    "#     \"is_near_splice_junction_10\",\n",
    "#     \"triplet_complexity\",\n",
    "#     \"longest_homopolymer_length\",\n",
    "#     \"any_noisy_reads\",\n",
    "#     \"tumor_purity\",\n",
    "#     \"number_of_reads_mutant\",\n",
    "#     \"number_of_reads_wt\",\n",
    "#     \"mutation_expression_prediction_error_varseek\",\n",
    "#     \"mutation_expression_prediction_error_gatk_haplotypecaller\",\n",
    "#     \"mutation_expression_prediction_error_gatk_mutect2\",\n",
    "#     \"included_in_synthetic_reads_mutant\",\n",
    "#     \"mutation_detected_varseek\",\n",
    "#     \"mutation_detected_gatk_mutect2\",\n",
    "#     \"mutation_detected_gatk_haplotypecaller\"\n",
    "# ]\n",
    "\n",
    "# # Generate random data for the DataFrame\n",
    "# data = []\n",
    "# mcrs_mutation_types = [\"substitution\", \"insertion\", \"deletion\", \"delins\", \"duplication\", \"inversion\", \"mixed\"]\n",
    "# mutant_sequencing_depth = [0, 0, 0, 0, 0, 0, 0, 0, 1, 2, 3, 4, 5, 6, 7, 8, 16, 32, 64, 128, 256]\n",
    "# wt_sequencing_depth = [0, 1, 2, 3, 4, 5, 6, 7, 8, 16, 32, 64, 128, 256]\n",
    "\n",
    "# for mcrs_id in mcrs_ids:\n",
    "#     selected_varseek = random.choice([\"TP\", \"FP\", \"TN\", \"FN\"])\n",
    "#     if selected_varseek == \"TP\" or selected_varseek == \"FN\":\n",
    "#         selected_gatk_mutect2 = random.choice([\"TP\", \"FN\"])\n",
    "#         selected_gatk_haplotypecaller = random.choice([\"TP\", \"FN\"])\n",
    "#     else:\n",
    "#         selected_gatk_mutect2 = random.choice([\"FP\", \"TN\"])\n",
    "#         selected_gatk_haplotypecaller = random.choice([\"FP\", \"TN\"])\n",
    "#     if selected_varseek == \"TP\" or selected_varseek == \"FP\":\n",
    "#         mutation_detected_varseek = True\n",
    "#     else:\n",
    "#         mutation_detected_varseek = False\n",
    "#     if selected_gatk_mutect2 == \"TP\" or selected_gatk_mutect2 == \"FP\":\n",
    "#         mutation_detected_gatk_mutect2 = True\n",
    "#     else:\n",
    "#         mutation_detected_gatk_mutect2 = False\n",
    "#     if selected_gatk_haplotypecaller == \"TP\" or selected_gatk_haplotypecaller == \"FP\":\n",
    "#         mutation_detected_gatk_haplotypecaller = True\n",
    "#     else:\n",
    "#         mutation_detected_gatk_haplotypecaller = False\n",
    "#     number_of_mutant_reads = random.choice(mutant_sequencing_depth)\n",
    "    \n",
    "#     row = [\n",
    "#         mcrs_id,\n",
    "#         mcrs_id + \"_header\",\n",
    "#         selected_varseek == \"TP\",  # TP_varseek\n",
    "#         selected_varseek == \"FP\",  # FP_varseek\n",
    "#         selected_varseek == \"TN\",  # TN_varseek\n",
    "#         selected_varseek == \"FN\",  # FN_varseek\n",
    "#         selected_gatk_mutect2 == \"TP\",  # TP_gatk_mutect2\n",
    "#         selected_gatk_mutect2 == \"FP\",  # FP_gatk_mutect2\n",
    "#         selected_gatk_mutect2 == \"TN\",  # TN_gatk_mutect2\n",
    "#         selected_gatk_mutect2 == \"FN\",  # FN_gatk_mutect2\n",
    "#         selected_gatk_haplotypecaller == \"TP\",  # TP_gatk_haplotypecaller\n",
    "#         selected_gatk_haplotypecaller == \"FP\",  # FP_gatk_haplotypecaller\n",
    "#         selected_gatk_haplotypecaller == \"TN\",  # TN_gatk_haplotypecaller\n",
    "#         selected_gatk_haplotypecaller == \"FN\",  # FN_gatk_haplotypecaller\n",
    "#         random.choice(mcrs_mutation_types),  # mcrs_mutation_type\n",
    "#         random.choice([True, False]),  # kmer_overlap_in_mcrs_reference\n",
    "#         random.randint(0, 100),  # distance_to_nearest_splice_junction\n",
    "#         random.choice([True, False]),  # is_near_splice_junction_10\n",
    "#         round(random.uniform(0, 1), 3),  # triplet_complexity\n",
    "#         random.randint(0, 20),  # longest_homopolymer_length\n",
    "#         random.choice([True, False]),  # any_noisy_reads\n",
    "#         round(random.uniform(0, 1), 1),  # tumor_purity\n",
    "#         number_of_mutant_reads,  # number_of_reads_mutant\n",
    "#         random.choice(wt_sequencing_depth),  # number_of_reads_wt\n",
    "#         random.randint(-100, 100),  # mutation_expression_prediction_error_varseek\n",
    "#         random.randint(-100, 100),  # mutation_expression_prediction_error_gatk_haplotypecaller\n",
    "#         random.randint(-100, 100),  # mutation_expression_prediction_error_gatk_mutect2\n",
    "#         number_of_mutant_reads > 0,  # included_in_synthetic_reads_mutant\n",
    "#         mutation_detected_varseek,  # mutation_detected_varseek\n",
    "#         mutation_detected_gatk_mutect2,  # mutation_detected_gatk_mutect2\n",
    "#         mutation_detected_gatk_haplotypecaller  # mutation_detected_gatk_haplotypecaller\n",
    "#     ]\n",
    "#     data.append(row)\n",
    "\n",
    "# # Create the DataFrame\n",
    "# unique_mcrs_df = pd.DataFrame(data, columns=columns)"
   ]
  },
  {
   "cell_type": "code",
   "execution_count": 10,
   "metadata": {},
   "outputs": [],
   "source": [
    "# Ensure that any additional tools have columns DP_{tool} (int ≥ 0) in {simulated_data_output_dir}/unique_mcrs_df.csv for each tool TOOL\n",
    "if 'included_in_synthetic_reads_mutant' not in unique_mcrs_df.columns:\n",
    "    unique_mcrs_df['included_in_synthetic_reads_mutant'] = unique_mcrs_df['number_of_reads_mutant'] > 0\n",
    "\n",
    "for tool in tools:\n",
    "    assert f'DP_{tool}' in unique_mcrs_df.columns or f'mutation_detected_{tool}' in unique_mcrs_df.columns, f\"DP_{tool} or mutation_detected_{tool} must be in unique_mcrs_df.columns\"\n",
    "    if f'mutation_detected_{tool}' not in unique_mcrs_df.columns:\n",
    "        unique_mcrs_df[f'mutation_detected_{tool}'] = unique_mcrs_df[f'DP_{tool}'] > 0\n",
    "    if f'TP_{tool}' not in unique_mcrs_df.columns:\n",
    "        unique_mcrs_df[f'TP_{tool}'] = (unique_mcrs_df['included_in_synthetic_reads_mutant'] & unique_mcrs_df[f'mutation_detected_{tool}'])\n",
    "    if f'TN_{tool}' not in unique_mcrs_df.columns:\n",
    "        unique_mcrs_df[f'TN_{tool}'] = (~unique_mcrs_df['included_in_synthetic_reads_mutant'] & ~unique_mcrs_df[f'mutation_detected_{tool}'])\n",
    "    if f'FP_{tool}' not in unique_mcrs_df.columns:\n",
    "        unique_mcrs_df[f'FP_{tool}'] = (~unique_mcrs_df['included_in_synthetic_reads_mutant'] & unique_mcrs_df[f'mutation_detected_{tool}'])\n",
    "    if f'FN_{tool}' not in unique_mcrs_df.columns:\n",
    "        unique_mcrs_df[f'FN_{tool}'] = (unique_mcrs_df['included_in_synthetic_reads_mutant'] & ~unique_mcrs_df[f'mutation_detected_{tool}'])\n",
    "    if f'mutation_expression_prediction_error_{tool}' not in unique_mcrs_df.columns:\n",
    "        unique_mcrs_df[f'mutation_expression_prediction_error_{tool}'] = unique_mcrs_df[f'DP_{tool}'] - unique_mcrs_df['number_of_reads_mutant']"
   ]
  },
  {
   "cell_type": "code",
   "execution_count": 40,
   "metadata": {},
   "outputs": [
    {
     "name": "stdout",
     "output_type": "stream",
     "text": [
      "varseek\n",
      "TP: 381113, FP: 0, FN: 24, TN: 4870417\n",
      "Accuracy: 0.999995429924171, Sensitivity: 0.9999370305165859, Specificity: 1.0\n",
      "Mean Expression Error: 0.08331387278838559, Median Expression Error: 0.0, Mean Magnitude Expression Error: 0.08449987274115552, Median Magnitude Expression Error: 0.0\n"
     ]
    },
    {
     "data": {
      "text/html": [
       "<pre style=\"white-space:pre;overflow-x:auto;line-height:normal;font-family:Menlo,'DejaVu Sans Mono',consolas,'Courier New',monospace\"><span style=\"font-style: italic\">                Confusion Matrix for varseek                 </span>\n",
       "┏━━━━━━━━━━━━━━━━━┳━━━━━━━━━━━━━━━━━━━━┳━━━━━━━━━━━━━━━━━━━━┓\n",
       "┃<span style=\"font-weight: bold\">                 </span>┃<span style=\"font-weight: bold\"> Predicted Positive </span>┃<span style=\"font-weight: bold\"> Predicted Negative </span>┃\n",
       "┡━━━━━━━━━━━━━━━━━╇━━━━━━━━━━━━━━━━━━━━╇━━━━━━━━━━━━━━━━━━━━┩\n",
       "│ Actual Positive │       381113       │         24         │\n",
       "│ Actual Negative │         0          │      4870417       │\n",
       "└─────────────────┴────────────────────┴────────────────────┘\n",
       "</pre>\n"
      ],
      "text/plain": [
       "\u001b[3m                Confusion Matrix for varseek                 \u001b[0m\n",
       "┏━━━━━━━━━━━━━━━━━┳━━━━━━━━━━━━━━━━━━━━┳━━━━━━━━━━━━━━━━━━━━┓\n",
       "┃\u001b[1m \u001b[0m\u001b[1m               \u001b[0m\u001b[1m \u001b[0m┃\u001b[1m \u001b[0m\u001b[1mPredicted Positive\u001b[0m\u001b[1m \u001b[0m┃\u001b[1m \u001b[0m\u001b[1mPredicted Negative\u001b[0m\u001b[1m \u001b[0m┃\n",
       "┡━━━━━━━━━━━━━━━━━╇━━━━━━━━━━━━━━━━━━━━╇━━━━━━━━━━━━━━━━━━━━┩\n",
       "│ Actual Positive │       381113       │         24         │\n",
       "│ Actual Negative │         0          │      4870417       │\n",
       "└─────────────────┴────────────────────┴────────────────────┘\n"
      ]
     },
     "metadata": {},
     "output_type": "display_data"
    },
    {
     "name": "stdout",
     "output_type": "stream",
     "text": [
      "-------------------------------------------------------------------------------------------------------------------------------------------------------\n",
      "gatk_mutect2\n",
      "TP: 33167, FP: 208, FN: 347970, TN: 4870209\n",
      "Accuracy: 0.9337000057506788, Sensitivity: 0.08702120234981123, Specificity: 0.9999572931845466\n",
      "Mean Expression Error: 27.883258712487898, Median Expression Error: 21.0, Mean Magnitude Expression Error: 30.72837003872217, Median Magnitude Expression Error: 21.0\n"
     ]
    },
    {
     "data": {
      "text/html": [
       "<pre style=\"white-space:pre;overflow-x:auto;line-height:normal;font-family:Menlo,'DejaVu Sans Mono',consolas,'Courier New',monospace\"><span style=\"font-style: italic\">              Confusion Matrix for gatk_mutect2              </span>\n",
       "┏━━━━━━━━━━━━━━━━━┳━━━━━━━━━━━━━━━━━━━━┳━━━━━━━━━━━━━━━━━━━━┓\n",
       "┃<span style=\"font-weight: bold\">                 </span>┃<span style=\"font-weight: bold\"> Predicted Positive </span>┃<span style=\"font-weight: bold\"> Predicted Negative </span>┃\n",
       "┡━━━━━━━━━━━━━━━━━╇━━━━━━━━━━━━━━━━━━━━╇━━━━━━━━━━━━━━━━━━━━┩\n",
       "│ Actual Positive │       33167        │       347970       │\n",
       "│ Actual Negative │        208         │      4870209       │\n",
       "└─────────────────┴────────────────────┴────────────────────┘\n",
       "</pre>\n"
      ],
      "text/plain": [
       "\u001b[3m              Confusion Matrix for gatk_mutect2              \u001b[0m\n",
       "┏━━━━━━━━━━━━━━━━━┳━━━━━━━━━━━━━━━━━━━━┳━━━━━━━━━━━━━━━━━━━━┓\n",
       "┃\u001b[1m \u001b[0m\u001b[1m               \u001b[0m\u001b[1m \u001b[0m┃\u001b[1m \u001b[0m\u001b[1mPredicted Positive\u001b[0m\u001b[1m \u001b[0m┃\u001b[1m \u001b[0m\u001b[1mPredicted Negative\u001b[0m\u001b[1m \u001b[0m┃\n",
       "┡━━━━━━━━━━━━━━━━━╇━━━━━━━━━━━━━━━━━━━━╇━━━━━━━━━━━━━━━━━━━━┩\n",
       "│ Actual Positive │       33167        │       347970       │\n",
       "│ Actual Negative │        208         │      4870209       │\n",
       "└─────────────────┴────────────────────┴────────────────────┘\n"
      ]
     },
     "metadata": {},
     "output_type": "display_data"
    },
    {
     "name": "stdout",
     "output_type": "stream",
     "text": [
      "-------------------------------------------------------------------------------------------------------------------------------------------------------\n",
      "gatk_haplotypecaller\n",
      "TP: 57233, FP: 1144, FN: 323904, TN: 4869273\n",
      "Accuracy: 0.9381044163308613, Sensitivity: 0.15016385184330044, Specificity: 0.9997651125150064\n",
      "Mean Expression Error: 10.130010179961005, Median Expression Error: 6.0, Mean Magnitude Expression Error: 13.992805010611315, Median Magnitude Expression Error: 10.0\n"
     ]
    },
    {
     "data": {
      "text/html": [
       "<pre style=\"white-space:pre;overflow-x:auto;line-height:normal;font-family:Menlo,'DejaVu Sans Mono',consolas,'Courier New',monospace\"><span style=\"font-style: italic\">          Confusion Matrix for gatk_haplotypecaller          </span>\n",
       "┏━━━━━━━━━━━━━━━━━┳━━━━━━━━━━━━━━━━━━━━┳━━━━━━━━━━━━━━━━━━━━┓\n",
       "┃<span style=\"font-weight: bold\">                 </span>┃<span style=\"font-weight: bold\"> Predicted Positive </span>┃<span style=\"font-weight: bold\"> Predicted Negative </span>┃\n",
       "┡━━━━━━━━━━━━━━━━━╇━━━━━━━━━━━━━━━━━━━━╇━━━━━━━━━━━━━━━━━━━━┩\n",
       "│ Actual Positive │       57233        │       323904       │\n",
       "│ Actual Negative │        1144        │      4869273       │\n",
       "└─────────────────┴────────────────────┴────────────────────┘\n",
       "</pre>\n"
      ],
      "text/plain": [
       "\u001b[3m          Confusion Matrix for gatk_haplotypecaller          \u001b[0m\n",
       "┏━━━━━━━━━━━━━━━━━┳━━━━━━━━━━━━━━━━━━━━┳━━━━━━━━━━━━━━━━━━━━┓\n",
       "┃\u001b[1m \u001b[0m\u001b[1m               \u001b[0m\u001b[1m \u001b[0m┃\u001b[1m \u001b[0m\u001b[1mPredicted Positive\u001b[0m\u001b[1m \u001b[0m┃\u001b[1m \u001b[0m\u001b[1mPredicted Negative\u001b[0m\u001b[1m \u001b[0m┃\n",
       "┡━━━━━━━━━━━━━━━━━╇━━━━━━━━━━━━━━━━━━━━╇━━━━━━━━━━━━━━━━━━━━┩\n",
       "│ Actual Positive │       57233        │       323904       │\n",
       "│ Actual Negative │        1144        │      4869273       │\n",
       "└─────────────────┴────────────────────┴────────────────────┘\n"
      ]
     },
     "metadata": {},
     "output_type": "display_data"
    },
    {
     "name": "stdout",
     "output_type": "stream",
     "text": [
      "-------------------------------------------------------------------------------------------------------------------------------------------------------\n"
     ]
    }
   ],
   "source": [
    "metric_dict_collection = OrderedDict()\n",
    "for tool in tools:\n",
    "    print(tool)\n",
    "    metric_dict_collection[tool] = calculate_metrics(unique_mcrs_df, header_name = \"mcrs_header\", suffix=f\"_{tool}\", out = f\"{fig2_output_dir}/reference_metrics_{tool}.txt\")\n",
    "    draw_confusion_matrix(metric_dict_collection[tool], title = f\"Confusion Matrix for {tool}\")\n",
    "    print(\"-------------------------------------------------------------------------------------------------------------------------------------------------------\")"
   ]
  },
  {
   "cell_type": "markdown",
   "metadata": {},
   "source": [
    "# Create legend"
   ]
  },
  {
   "cell_type": "code",
   "execution_count": 13,
   "metadata": {},
   "outputs": [
    {
     "data": {
      "image/png": "[encoded data removed]",
      "text/plain": [
       "<Figure size 10x10 with 1 Axes>"
      ]
     },
     "metadata": {},
     "output_type": "display_data"
    }
   ],
   "source": [
    "create_benchmarking_legend(tools, f\"{fig2_output_dir}/legend.pdf\")"
   ]
  },
  {
   "cell_type": "markdown",
   "metadata": {},
   "source": [
    "# Bar plot of various metrics"
   ]
  },
  {
   "cell_type": "code",
   "execution_count": 41,
   "metadata": {},
   "outputs": [
    {
     "data": {
      "image/png": "[encoded data removed]",
      "text/plain": [
       "<Figure size 800x600 with 1 Axes>"
      ]
     },
     "metadata": {},
     "output_type": "display_data"
    },
    {
     "data": {
      "image/png": "[encoded data removed]",
      "text/plain": [
       "<Figure size 800x600 with 1 Axes>"
      ]
     },
     "metadata": {},
     "output_type": "display_data"
    }
   ],
   "source": [
    "# plot_overall_metrics(metric_dict_collection, primary_metrics = [\"accuracy\", \"sensitivity\", \"specificity\"], secondary_metric = \"mean_magnitude_expression_error\", display_numbers=True, output_file = f\"{fig2_output_dir}/overall_metrics.pdf\")\n",
    "plot_overall_metrics(metric_dict_collection, primary_metrics = [\"accuracy\", \"sensitivity\", \"specificity\"], display_numbers=True, show_p_values = False, unique_mcrs_df = unique_mcrs_df, output_file = f\"{fig2_output_dir}/overall_metrics_acc_sens_spec.pdf\", output_file_p_values = f\"{fig2_output_dir}/overall_metrics_acc_sens_spec_p_values.json\", bonferroni=True)  # to plot in separate plots\n",
    "# print_json(f\"{fig2_output_dir}/overall_metrics_acc_sens_spec_p_values.json\")\n",
    "\n",
    "plot_overall_metrics(metric_dict_collection, primary_metrics = \"mean_magnitude_expression_error\", display_numbers=True, show_p_values = False, unique_mcrs_df = unique_mcrs_df, output_file = f\"{fig2_output_dir}/overall_metrics_error.pdf\", output_file_p_values = f\"{fig2_output_dir}/overall_metrics_expression_error_p_values.json\", bonferroni=True, filter_real_negatives = True)  # to plot in separate plots\n",
    "# print_json(f\"{fig2_output_dir}/overall_metrics_expression_error_p_values.json\")"
   ]
  },
  {
   "cell_type": "code",
   "execution_count": 37,
   "metadata": {},
   "outputs": [
    {
     "data": {
      "text/plain": [
       "14         -4.0\n",
       "15          0.0\n",
       "31          0.0\n",
       "34         -2.0\n",
       "69          1.0\n",
       "           ... \n",
       "5251457    -7.0\n",
       "5251459    42.0\n",
       "5251499    31.0\n",
       "5251521    13.0\n",
       "5251525    30.0\n",
       "Name: mutation_expression_prediction_error_varseek, Length: 353969, dtype: float64"
      ]
     },
     "execution_count": 37,
     "metadata": {},
     "output_type": "execute_result"
    }
   ],
   "source": [
    "unique_mcrs_df.loc[unique_mcrs_df['number_of_reads_mutant'] > 0, 'mutation_expression_prediction_error_varseek']"
   ]
  },
  {
   "cell_type": "markdown",
   "metadata": {},
   "source": [
    "# Stratified metric line plot of all 3 methods: sensitivity vs mutant read depth"
   ]
  },
  {
   "cell_type": "code",
   "execution_count": 28,
   "metadata": {},
   "outputs": [],
   "source": [
    "import importlib\n",
    "import varseek.utils.visualization_utils\n",
    "importlib.reload(varseek.utils.visualization_utils)\n",
    "from varseek.utils.visualization_utils import create_stratified_metric_line_plot"
   ]
  },
  {
   "cell_type": "code",
   "execution_count": 30,
   "metadata": {},
   "outputs": [
    {
     "data": {
      "text/plain": [
       "367"
      ]
     },
     "execution_count": 30,
     "metadata": {},
     "output_type": "execute_result"
    }
   ],
   "source": [
    "len(unique_mcrs_df.loc[unique_mcrs_df['number_of_reads_mutant'] > 64])"
   ]
  },
  {
   "cell_type": "code",
   "execution_count": 39,
   "metadata": {},
   "outputs": [],
   "source": [
    "from varseek.utils import safe_literal_eval\n",
    "\n",
    "unique_mcrs_df[\"list_of_read_starting_indices_mutant_temp\"] = unique_mcrs_df[\"list_of_read_starting_indices_mutant\"].apply(safe_literal_eval)\n",
    "\n",
    "unique_mcrs_df['number_of_reads_mutant'] = unique_mcrs_df['list_of_read_starting_indices_mutant_temp'].apply(\n",
    "        lambda x: len(x) if isinstance(x, list) else 0\n",
    ")\n",
    "\n",
    "unique_mcrs_df.drop(columns=[\"list_of_read_starting_indices_mutant_temp\"], inplace=True)\n",
    "\n",
    "unique_mcrs_df['mutation_expression_prediction_error_varseek'] = unique_mcrs_df['DP_varseek'] - unique_mcrs_df['number_of_reads_mutant']  # positive means overpredicted, negative means underpredicted\n",
    "unique_mcrs_df['mutation_expression_prediction_error_gatk_mutect2'] = unique_mcrs_df['DP_gatk_mutect2'] - unique_mcrs_df['number_of_reads_mutant']  # positive means overpredicted, negative means underpredicted\n",
    "unique_mcrs_df['mutation_expression_prediction_error_gatk_haplotypecaller'] = unique_mcrs_df['DP_gatk_haplotypecaller'] - unique_mcrs_df['number_of_reads_mutant']  # positive means overpredicted, negative means underpredicted\n",
    "\n",
    "unique_mcrs_df['tumor_purity'] = unique_mcrs_df['number_of_reads_mutant'] / (unique_mcrs_df['number_of_reads_wt'] + unique_mcrs_df['number_of_reads_mutant'])\n",
    "\n",
    "unique_mcrs_df['tumor_purity'] = np.where(\n",
    "    np.isnan(unique_mcrs_df['tumor_purity']), \n",
    "    np.nan,  # Keep NaN as NaN\n",
    "    unique_mcrs_df['tumor_purity']  # Keep the result for valid divisions\n",
    ")"
   ]
  },
  {
   "cell_type": "code",
   "execution_count": 48,
   "metadata": {},
   "outputs": [],
   "source": [
    "import importlib\n",
    "import varseek.utils.visualization_utils\n",
    "importlib.reload(varseek.utils.visualization_utils)\n",
    "from varseek.utils.visualization_utils import create_stratified_metric_line_plot"
   ]
  },
  {
   "cell_type": "code",
   "execution_count": 50,
   "metadata": {},
   "outputs": [
    {
     "data": {
      "text/plain": [
       "100"
      ]
     },
     "execution_count": 50,
     "metadata": {},
     "output_type": "execute_result"
    }
   ],
   "source": [
    "len(unique_mcrs_df.loc[unique_mcrs_df['number_of_reads_mutant'] > 64])"
   ]
  },
  {
   "cell_type": "code",
   "execution_count": 51,
   "metadata": {},
   "outputs": [
    {
     "data": {
      "text/html": [
       "<div>\n",
       "<style scoped>\n",
       "    .dataframe tbody tr th:only-of-type {\n",
       "        vertical-align: middle;\n",
       "    }\n",
       "\n",
       "    .dataframe tbody tr th {\n",
       "        vertical-align: top;\n",
       "    }\n",
       "\n",
       "    .dataframe thead th {\n",
       "        text-align: right;\n",
       "    }\n",
       "</style>\n",
       "<table border=\"1\" class=\"dataframe\">\n",
       "  <thead>\n",
       "    <tr style=\"text-align: right;\">\n",
       "      <th></th>\n",
       "      <th>mcrs_header</th>\n",
       "      <th>order</th>\n",
       "      <th>distance_to_nearest_splice_junction</th>\n",
       "      <th>mcrs_sequence</th>\n",
       "      <th>mutant_sequence_rc</th>\n",
       "      <th>mcrs_id</th>\n",
       "      <th>header_list</th>\n",
       "      <th>order_list</th>\n",
       "      <th>mcrs_source</th>\n",
       "      <th>header_with_gene_name</th>\n",
       "      <th>number_of_mutations_in_this_gene_total</th>\n",
       "      <th>mcrs_header_length</th>\n",
       "      <th>mcrs_sequence_length</th>\n",
       "      <th>dlist</th>\n",
       "      <th>dlist_substring</th>\n",
       "      <th>number_of_alignments_to_normal_human_reference_cdna</th>\n",
       "      <th>number_of_alignments_to_normal_human_reference_genome</th>\n",
       "      <th>number_of_substring_matches_to_normal_human_reference_cdna</th>\n",
       "      <th>number_of_substring_matches_to_normal_human_reference_genome</th>\n",
       "      <th>number_of_alignments_to_normal_human_reference</th>\n",
       "      <th>number_of_substring_matches_to_normal_human_reference</th>\n",
       "      <th>pseudoaligned_to_human_reference_despite_not_truly_aligning</th>\n",
       "      <th>number_of_kmers_with_overlap_to_other_mcrs_items_in_mcrs_reference</th>\n",
       "      <th>overlapping_kmers</th>\n",
       "      <th>number_of_mcrs_items_with_overlapping_kmers_in_mcrs_reference</th>\n",
       "      <th>mcrs_items_with_overlapping_kmers_in_mcrs_reference</th>\n",
       "      <th>kmer_overlap_in_mcrs_reference</th>\n",
       "      <th>longest_homopolymer_length</th>\n",
       "      <th>longest_homopolymer</th>\n",
       "      <th>num_distinct_triplets</th>\n",
       "      <th>num_total_triplets</th>\n",
       "      <th>triplet_complexity</th>\n",
       "      <th>mcrs_mutation_type</th>\n",
       "      <th>concatenated_headers_in_mcrs</th>\n",
       "      <th>number_of_mutations_in_mcrs_header</th>\n",
       "      <th>mcrs_sequence_rc</th>\n",
       "      <th>entries_for_which_this_mcrs_is_substring</th>\n",
       "      <th>mcrs_is_substring</th>\n",
       "      <th>entries_for_which_this_mcrs_is_superstring</th>\n",
       "      <th>mcrs_is_superstring</th>\n",
       "      <th>mutant_sequence_read_parent</th>\n",
       "      <th>mutant_sequence_read_parent_rc</th>\n",
       "      <th>mutant_sequence_read_parent_length</th>\n",
       "      <th>wt_sequence_read_parent</th>\n",
       "      <th>wt_sequence_read_parent_rc</th>\n",
       "      <th>wt_sequence_read_parent_length</th>\n",
       "      <th>start_position_for_which_read_contains_mutation_cdna</th>\n",
       "      <th>start_position_for_which_read_contains_mutation_genome</th>\n",
       "      <th>included_in_synthetic_reads</th>\n",
       "      <th>included_in_synthetic_reads_wt</th>\n",
       "      <th>included_in_synthetic_reads_mutant</th>\n",
       "      <th>list_of_read_starting_indices_wt</th>\n",
       "      <th>list_of_read_starting_indices_mutant</th>\n",
       "      <th>any_noisy_reads_wt</th>\n",
       "      <th>noisy_read_indices_wt</th>\n",
       "      <th>any_noisy_reads_mutant</th>\n",
       "      <th>noisy_read_indices_mutant</th>\n",
       "      <th>any_noisy_reads</th>\n",
       "      <th>tumor_purity</th>\n",
       "      <th>min_distance_to_splice_junction</th>\n",
       "      <th>DP_varseek</th>\n",
       "      <th>mutation_detected_varseek</th>\n",
       "      <th>TP_varseek</th>\n",
       "      <th>FP_varseek</th>\n",
       "      <th>FN_varseek</th>\n",
       "      <th>TN_varseek</th>\n",
       "      <th>number_of_MUTANT_reads_belonging_to_the_mcrs_item_that_aligned_somewhere</th>\n",
       "      <th>number_of_MUTANT_reads_belonging_to_the_mcrs_item_that_didnt_align_anywhere</th>\n",
       "      <th>mutation_expression_prediction_error_varseek</th>\n",
       "      <th>number_of_WT_reads_belonging_to_the_mcrs_item_that_aligned_somewhere</th>\n",
       "      <th>number_of_WT_reads_belonging_to_the_mcrs_item_that_didnt_align_anywhere</th>\n",
       "      <th>number_of_reads_belonging_to_this_mcrs_item_that_mapped_here_correctly</th>\n",
       "      <th>received_an_aligned_read_from_one_of_its_corresponding_reads</th>\n",
       "      <th>reads_mapped_to_this_reference_item</th>\n",
       "      <th>contained_any_MUTANT_reads_belonging_to_the_mcrs_item_that_aligned_somewhere</th>\n",
       "      <th>contained_any_WT_reads_belonging_to_the_mcrs_item_that_aligned_somewhere</th>\n",
       "      <th>TP_varseek_read_specific</th>\n",
       "      <th>FP_varseek_read_specific</th>\n",
       "      <th>FN_varseek_read_specific</th>\n",
       "      <th>TN_varseek_read_specific</th>\n",
       "      <th>number_of_reads_belonging_to_this_mcrs_item_that_did_not_align_correctly</th>\n",
       "      <th>number_of_reads_aligned_to_this_mcrs_item_that_aligned_incorrectly</th>\n",
       "      <th>mutation_detected_gatk_mutect2</th>\n",
       "      <th>DP_gatk_mutect2</th>\n",
       "      <th>DP_gatk_haplotypecaller</th>\n",
       "      <th>mutation_expression_prediction_error_gatk_mutect2</th>\n",
       "      <th>TP_gatk_mutect2</th>\n",
       "      <th>FP_gatk_mutect2</th>\n",
       "      <th>FN_gatk_mutect2</th>\n",
       "      <th>TN_gatk_mutect2</th>\n",
       "      <th>mutation_detected_gatk_haplotypecaller</th>\n",
       "      <th>mutation_expression_prediction_error_gatk_haplotypecaller</th>\n",
       "      <th>TP_gatk_haplotypecaller</th>\n",
       "      <th>FP_gatk_haplotypecaller</th>\n",
       "      <th>FN_gatk_haplotypecaller</th>\n",
       "      <th>TN_gatk_haplotypecaller</th>\n",
       "      <th>number_of_reads_mutant</th>\n",
       "      <th>number_of_reads_wt</th>\n",
       "    </tr>\n",
       "  </thead>\n",
       "  <tbody>\n",
       "    <tr>\n",
       "      <th>3782531</th>\n",
       "      <td>ENST00000383836:c.3367G&gt;A</td>\n",
       "      <td>0</td>\n",
       "      <td>52.0</td>\n",
       "      <td>AAGACATCGAGAAGACCATGAGCACGGCTCTGCACGAGTTGCGGGA...</td>\n",
       "      <td>AGGGGCTCCAGGGTGTCCAGCACCACATCTGGCGCCTGCTTGACCG...</td>\n",
       "      <td>vcrs_4744669</td>\n",
       "      <td>['ENST00000383836:c.3367G&gt;A']</td>\n",
       "      <td>[0]</td>\n",
       "      <td>cdna</td>\n",
       "      <td>ENST00000383836(SRGAP3):c.3367G&gt;A</td>\n",
       "      <td>622</td>\n",
       "      <td>25</td>\n",
       "      <td>109</td>\n",
       "      <td>none</td>\n",
       "      <td>none</td>\n",
       "      <td>0</td>\n",
       "      <td>0</td>\n",
       "      <td>0</td>\n",
       "      <td>0</td>\n",
       "      <td>0</td>\n",
       "      <td>0</td>\n",
       "      <td>NaN</td>\n",
       "      <td>0</td>\n",
       "      <td>set()</td>\n",
       "      <td>0</td>\n",
       "      <td>set()</td>\n",
       "      <td>False</td>\n",
       "      <td>4</td>\n",
       "      <td>CCCC</td>\n",
       "      <td>47</td>\n",
       "      <td>107</td>\n",
       "      <td>0.439252</td>\n",
       "      <td>substitution</td>\n",
       "      <td>False</td>\n",
       "      <td>1</td>\n",
       "      <td>AGGGGCTCCAGGGTGTCCAGCACCACATCTGGCGCCTGCTTGACCG...</td>\n",
       "      <td>NaN</td>\n",
       "      <td>False</td>\n",
       "      <td>NaN</td>\n",
       "      <td>False</td>\n",
       "      <td>AGCCTAGGGGACCACAAGTCCCTGGAGGCCGAGGCCCTGGCAGAAG...</td>\n",
       "      <td>GGGACTGGCGGGCTCCGAGCTGACGGGGCCTGGCGGGTTCTTCAGG...</td>\n",
       "      <td>195.0</td>\n",
       "      <td>AGCCTAGGGGACCACAAGTCCCTGGAGGCCGAGGCCCTGGCAGAAG...</td>\n",
       "      <td>GGGACTGGCGGGCTCCGAGCTGACGGGGCCTGGCGGGTTCTTCAGG...</td>\n",
       "      <td>195.0</td>\n",
       "      <td>3218</td>\n",
       "      <td>9027415.0</td>\n",
       "      <td>True</td>\n",
       "      <td>True</td>\n",
       "      <td>True</td>\n",
       "      <td>[21, 26, 8, 12, 3, 42, 38, 29, 19, 16, 1, 32, ...</td>\n",
       "      <td>[29, 37, 0, 13, 27, 41, 36, 32, 14, 14, 24, 45...</td>\n",
       "      <td>False</td>\n",
       "      <td>[]</td>\n",
       "      <td>False</td>\n",
       "      <td>[]</td>\n",
       "      <td>False</td>\n",
       "      <td>0.741935</td>\n",
       "      <td>NaN</td>\n",
       "      <td>46.0</td>\n",
       "      <td>True</td>\n",
       "      <td>True</td>\n",
       "      <td>False</td>\n",
       "      <td>False</td>\n",
       "      <td>False</td>\n",
       "      <td>84</td>\n",
       "      <td>-84.0</td>\n",
       "      <td>0.0</td>\n",
       "      <td>0</td>\n",
       "      <td>0.0</td>\n",
       "      <td>84.0</td>\n",
       "      <td>True</td>\n",
       "      <td>['ENST00000383836:c.3367G&gt;A_29fM', 'ENST000003...</td>\n",
       "      <td>True</td>\n",
       "      <td>False</td>\n",
       "      <td>True</td>\n",
       "      <td>False</td>\n",
       "      <td>False</td>\n",
       "      <td>False</td>\n",
       "      <td>-84.0</td>\n",
       "      <td>-38.0</td>\n",
       "      <td>True</td>\n",
       "      <td>82.0</td>\n",
       "      <td>NaN</td>\n",
       "      <td>36.0</td>\n",
       "      <td>True</td>\n",
       "      <td>False</td>\n",
       "      <td>False</td>\n",
       "      <td>False</td>\n",
       "      <td>False</td>\n",
       "      <td>NaN</td>\n",
       "      <td>False</td>\n",
       "      <td>False</td>\n",
       "      <td>True</td>\n",
       "      <td>False</td>\n",
       "      <td>46</td>\n",
       "      <td>16</td>\n",
       "    </tr>\n",
       "  </tbody>\n",
       "</table>\n",
       "</div>"
      ],
      "text/plain": [
       "                       mcrs_header  order  \\\n",
       "3782531  ENST00000383836:c.3367G>A      0   \n",
       "\n",
       "         distance_to_nearest_splice_junction  \\\n",
       "3782531                                 52.0   \n",
       "\n",
       "                                             mcrs_sequence  \\\n",
       "3782531  AAGACATCGAGAAGACCATGAGCACGGCTCTGCACGAGTTGCGGGA...   \n",
       "\n",
       "                                        mutant_sequence_rc       mcrs_id  \\\n",
       "3782531  AGGGGCTCCAGGGTGTCCAGCACCACATCTGGCGCCTGCTTGACCG...  vcrs_4744669   \n",
       "\n",
       "                           header_list order_list mcrs_source  \\\n",
       "3782531  ['ENST00000383836:c.3367G>A']        [0]        cdna   \n",
       "\n",
       "                     header_with_gene_name  \\\n",
       "3782531  ENST00000383836(SRGAP3):c.3367G>A   \n",
       "\n",
       "         number_of_mutations_in_this_gene_total  mcrs_header_length  \\\n",
       "3782531                                     622                  25   \n",
       "\n",
       "         mcrs_sequence_length dlist dlist_substring  \\\n",
       "3782531                   109  none            none   \n",
       "\n",
       "         number_of_alignments_to_normal_human_reference_cdna  \\\n",
       "3782531                                                  0     \n",
       "\n",
       "         number_of_alignments_to_normal_human_reference_genome  \\\n",
       "3782531                                                  0       \n",
       "\n",
       "         number_of_substring_matches_to_normal_human_reference_cdna  \\\n",
       "3782531                                                  0            \n",
       "\n",
       "         number_of_substring_matches_to_normal_human_reference_genome  \\\n",
       "3782531                                                  0              \n",
       "\n",
       "         number_of_alignments_to_normal_human_reference  \\\n",
       "3782531                                               0   \n",
       "\n",
       "         number_of_substring_matches_to_normal_human_reference  \\\n",
       "3782531                                                  0       \n",
       "\n",
       "         pseudoaligned_to_human_reference_despite_not_truly_aligning  \\\n",
       "3782531                                                NaN             \n",
       "\n",
       "         number_of_kmers_with_overlap_to_other_mcrs_items_in_mcrs_reference  \\\n",
       "3782531                                                  0                    \n",
       "\n",
       "        overlapping_kmers  \\\n",
       "3782531             set()   \n",
       "\n",
       "         number_of_mcrs_items_with_overlapping_kmers_in_mcrs_reference  \\\n",
       "3782531                                                  0               \n",
       "\n",
       "        mcrs_items_with_overlapping_kmers_in_mcrs_reference  \\\n",
       "3782531                                              set()    \n",
       "\n",
       "         kmer_overlap_in_mcrs_reference  longest_homopolymer_length  \\\n",
       "3782531                           False                           4   \n",
       "\n",
       "        longest_homopolymer  num_distinct_triplets  num_total_triplets  \\\n",
       "3782531                CCCC                     47                 107   \n",
       "\n",
       "         triplet_complexity mcrs_mutation_type  concatenated_headers_in_mcrs  \\\n",
       "3782531            0.439252       substitution                         False   \n",
       "\n",
       "         number_of_mutations_in_mcrs_header  \\\n",
       "3782531                                   1   \n",
       "\n",
       "                                          mcrs_sequence_rc  \\\n",
       "3782531  AGGGGCTCCAGGGTGTCCAGCACCACATCTGGCGCCTGCTTGACCG...   \n",
       "\n",
       "        entries_for_which_this_mcrs_is_substring  mcrs_is_substring  \\\n",
       "3782531                                      NaN              False   \n",
       "\n",
       "        entries_for_which_this_mcrs_is_superstring  mcrs_is_superstring  \\\n",
       "3782531                                        NaN                False   \n",
       "\n",
       "                               mutant_sequence_read_parent  \\\n",
       "3782531  AGCCTAGGGGACCACAAGTCCCTGGAGGCCGAGGCCCTGGCAGAAG...   \n",
       "\n",
       "                            mutant_sequence_read_parent_rc  \\\n",
       "3782531  GGGACTGGCGGGCTCCGAGCTGACGGGGCCTGGCGGGTTCTTCAGG...   \n",
       "\n",
       "         mutant_sequence_read_parent_length  \\\n",
       "3782531                               195.0   \n",
       "\n",
       "                                   wt_sequence_read_parent  \\\n",
       "3782531  AGCCTAGGGGACCACAAGTCCCTGGAGGCCGAGGCCCTGGCAGAAG...   \n",
       "\n",
       "                                wt_sequence_read_parent_rc  \\\n",
       "3782531  GGGACTGGCGGGCTCCGAGCTGACGGGGCCTGGCGGGTTCTTCAGG...   \n",
       "\n",
       "         wt_sequence_read_parent_length  \\\n",
       "3782531                           195.0   \n",
       "\n",
       "         start_position_for_which_read_contains_mutation_cdna  \\\n",
       "3782531                                               3218      \n",
       "\n",
       "         start_position_for_which_read_contains_mutation_genome  \\\n",
       "3782531                                          9027415.0        \n",
       "\n",
       "         included_in_synthetic_reads  included_in_synthetic_reads_wt  \\\n",
       "3782531                         True                            True   \n",
       "\n",
       "         included_in_synthetic_reads_mutant  \\\n",
       "3782531                                True   \n",
       "\n",
       "                          list_of_read_starting_indices_wt  \\\n",
       "3782531  [21, 26, 8, 12, 3, 42, 38, 29, 19, 16, 1, 32, ...   \n",
       "\n",
       "                      list_of_read_starting_indices_mutant  \\\n",
       "3782531  [29, 37, 0, 13, 27, 41, 36, 32, 14, 14, 24, 45...   \n",
       "\n",
       "         any_noisy_reads_wt noisy_read_indices_wt  any_noisy_reads_mutant  \\\n",
       "3782531               False                    []                   False   \n",
       "\n",
       "        noisy_read_indices_mutant  any_noisy_reads  tumor_purity  \\\n",
       "3782531                        []            False      0.741935   \n",
       "\n",
       "         min_distance_to_splice_junction  DP_varseek  \\\n",
       "3782531                              NaN        46.0   \n",
       "\n",
       "         mutation_detected_varseek  TP_varseek  FP_varseek  FN_varseek  \\\n",
       "3782531                       True        True       False       False   \n",
       "\n",
       "         TN_varseek  \\\n",
       "3782531       False   \n",
       "\n",
       "         number_of_MUTANT_reads_belonging_to_the_mcrs_item_that_aligned_somewhere  \\\n",
       "3782531                                                 84                          \n",
       "\n",
       "         number_of_MUTANT_reads_belonging_to_the_mcrs_item_that_didnt_align_anywhere  \\\n",
       "3782531                                              -84.0                             \n",
       "\n",
       "         mutation_expression_prediction_error_varseek  \\\n",
       "3782531                                           0.0   \n",
       "\n",
       "         number_of_WT_reads_belonging_to_the_mcrs_item_that_aligned_somewhere  \\\n",
       "3782531                                                  0                      \n",
       "\n",
       "         number_of_WT_reads_belonging_to_the_mcrs_item_that_didnt_align_anywhere  \\\n",
       "3782531                                                0.0                         \n",
       "\n",
       "         number_of_reads_belonging_to_this_mcrs_item_that_mapped_here_correctly  \\\n",
       "3782531                                               84.0                        \n",
       "\n",
       "         received_an_aligned_read_from_one_of_its_corresponding_reads  \\\n",
       "3782531                                               True              \n",
       "\n",
       "                       reads_mapped_to_this_reference_item  \\\n",
       "3782531  ['ENST00000383836:c.3367G>A_29fM', 'ENST000003...   \n",
       "\n",
       "         contained_any_MUTANT_reads_belonging_to_the_mcrs_item_that_aligned_somewhere  \\\n",
       "3782531                                               True                              \n",
       "\n",
       "         contained_any_WT_reads_belonging_to_the_mcrs_item_that_aligned_somewhere  \\\n",
       "3782531                                              False                          \n",
       "\n",
       "         TP_varseek_read_specific  FP_varseek_read_specific  \\\n",
       "3782531                      True                     False   \n",
       "\n",
       "         FN_varseek_read_specific  TN_varseek_read_specific  \\\n",
       "3782531                     False                     False   \n",
       "\n",
       "         number_of_reads_belonging_to_this_mcrs_item_that_did_not_align_correctly  \\\n",
       "3782531                                              -84.0                          \n",
       "\n",
       "         number_of_reads_aligned_to_this_mcrs_item_that_aligned_incorrectly  \\\n",
       "3782531                                              -38.0                    \n",
       "\n",
       "         mutation_detected_gatk_mutect2  DP_gatk_mutect2  \\\n",
       "3782531                            True             82.0   \n",
       "\n",
       "         DP_gatk_haplotypecaller  \\\n",
       "3782531                      NaN   \n",
       "\n",
       "         mutation_expression_prediction_error_gatk_mutect2  TP_gatk_mutect2  \\\n",
       "3782531                                               36.0             True   \n",
       "\n",
       "         FP_gatk_mutect2  FN_gatk_mutect2  TN_gatk_mutect2  \\\n",
       "3782531            False            False            False   \n",
       "\n",
       "         mutation_detected_gatk_haplotypecaller  \\\n",
       "3782531                                   False   \n",
       "\n",
       "         mutation_expression_prediction_error_gatk_haplotypecaller  \\\n",
       "3782531                                                NaN           \n",
       "\n",
       "         TP_gatk_haplotypecaller  FP_gatk_haplotypecaller  \\\n",
       "3782531                    False                    False   \n",
       "\n",
       "         FN_gatk_haplotypecaller  TN_gatk_haplotypecaller  \\\n",
       "3782531                     True                    False   \n",
       "\n",
       "         number_of_reads_mutant  number_of_reads_wt  \n",
       "3782531                      46                  16  "
      ]
     },
     "execution_count": 51,
     "metadata": {},
     "output_type": "execute_result"
    }
   ],
   "source": [
    "unique_mcrs_df.loc[unique_mcrs_df['mcrs_id'] == 'vcrs_4744669']"
   ]
  },
  {
   "cell_type": "code",
   "execution_count": 49,
   "metadata": {},
   "outputs": [
    {
     "data": {
      "image/png": "[encoded data removed]",
      "text/plain": [
       "<Figure size 1000x600 with 1 Axes>"
      ]
     },
     "metadata": {},
     "output_type": "display_data"
    }
   ],
   "source": [
    "x_stratification = \"number_of_reads_mutant\"\n",
    "y_metric = \"sensitivity\"\n",
    "bins = [0, 1, 2, 3, 4, 5, 6, 7, 8, 16, 32, 64, 128, float('inf')]  # start at 1 because 0 values are automatically removed with y_metric = \"sensitivity\"\n",
    "create_stratified_metric_line_plot(unique_mcrs_df, tools = tools, x_stratification = x_stratification, y_metric = y_metric, bins = bins, show_p_values = False, output_file = f\"{fig2_output_dir}/{y_metric}_vs_{x_stratification}.pdf\", output_file_p_values = f\"{fig2_output_dir}/{y_metric}_vs_{x_stratification}_p_values.txt\", filter_real_negatives = True)"
   ]
  },
  {
   "cell_type": "markdown",
   "metadata": {},
   "source": [
    "# Stratified metric line plot of all 3 methods: sensitivity vs tumor purity"
   ]
  },
  {
   "cell_type": "code",
   "execution_count": null,
   "metadata": {},
   "outputs": [],
   "source": [
    "x_stratification = \"tumor_purity\"\n",
    "y_metric = \"sensitivity\"\n",
    "bins = None  # bins = [0, 0.25, 0.5, 0.75, 1]  # [-float('inf'), 0.25, 0.5, 0.75, float('inf')]  # absolute lower bound, midpoint1, midpoint2, ..., absolute upper bound - eg bins [0, 0.25, 0.5, 0.75, 1] --> labels [\"(0, 0.25]\", \"(0.25, 0.5]\", \"(0.5, 0.75]\", \"(0.75, 1]\"] - if absolute lower bound provided is less than real absolute lower bound, then just use -float(inf) and it is replaced internally (and same for upper)\n",
    "create_stratified_metric_line_plot(unique_mcrs_df, tools = tools, x_stratification = x_stratification, y_metric = y_metric, bins = bins, show_p_values = False, output_file = f\"{fig2_output_dir}/{y_metric}_vs_{x_stratification}.pdf\", output_file_p_values = f\"{fig2_output_dir}/{y_metric}_vs_{x_stratification}_p_values.txt\")"
   ]
  },
  {
   "cell_type": "markdown",
   "metadata": {},
   "source": [
    "# Stratified metric line plot of all 3 methods: specificity vs tumor purity"
   ]
  },
  {
   "cell_type": "code",
   "execution_count": null,
   "metadata": {},
   "outputs": [],
   "source": [
    "x_stratification = \"tumor_purity\"\n",
    "y_metric = \"specificity\"\n",
    "create_stratified_metric_line_plot(unique_mcrs_df, tools = tools, x_stratification = x_stratification, y_metric = y_metric, show_p_values = False, output_file = f\"{fig2_output_dir}/{y_metric}_vs_{x_stratification}.pdf\", output_file_p_values = f\"{fig2_output_dir}/{y_metric}_vs_{x_stratification}_p_values.txt\")"
   ]
  },
  {
   "cell_type": "markdown",
   "metadata": {},
   "source": [
    "# Stratified metric line plot of all 3 methods: mean_magnitude_expression_error vs mutant sequencing depth"
   ]
  },
  {
   "cell_type": "code",
   "execution_count": null,
   "metadata": {},
   "outputs": [],
   "source": [
    "x_stratification = \"number_of_reads_mutant\"\n",
    "y_metric = \"mean_magnitude_expression_error\"  # mean_magnitude_expression_error or mean_expression_error\n",
    "filter_real_negatives = False  # set this to True when y_metric is expression error for all cases besides x_stratification = \"number_of_reads_mutant\", as we are not interested in the vast majority of cases that are real 0 and predicted 0\n",
    "create_stratified_metric_line_plot(unique_mcrs_df, tools = tools, x_stratification = x_stratification, y_metric = y_metric, filter_real_negatives = filter_real_negatives, show_p_values = False, show_confidence_intervals = False, output_file = f\"{fig2_output_dir}/{y_metric}_vs_{x_stratification}.pdf\", output_file_p_values = f\"{fig2_output_dir}/{y_metric}_vs_{x_stratification}_p_values.txt\")"
   ]
  },
  {
   "cell_type": "markdown",
   "metadata": {},
   "source": [
    "# Stratified metric bar plot of all 3 methods: sensitivity vs mutation type"
   ]
  },
  {
   "cell_type": "code",
   "execution_count": 46,
   "metadata": {},
   "outputs": [],
   "source": [
    "import importlib\n",
    "import varseek.utils.visualization_utils\n",
    "importlib.reload(varseek.utils.visualization_utils)\n",
    "from varseek.utils.visualization_utils import create_stratified_metric_bar_plot_updated"
   ]
  },
  {
   "cell_type": "code",
   "execution_count": null,
   "metadata": {},
   "outputs": [],
   "source": [
    "x_stratification = \"mcrs_mutation_type\"\n",
    "y_metric = \"sensitivity\"\n",
    "create_stratified_metric_bar_plot_updated(unique_mcrs_df, tools = tools, x_stratification = x_stratification, y_metric = y_metric, display_numbers = True, show_p_values = False, output_file = f\"{fig2_output_dir}/{y_metric}_vs_{x_stratification}.pdf\", output_file_p_values = f\"{fig2_output_dir}/{y_metric}_vs_{x_stratification}_p_values.txt\")"
   ]
  },
  {
   "cell_type": "markdown",
   "metadata": {},
   "source": [
    "# Stratified metric bar plot of all 3 methods: specificity vs mutation type"
   ]
  },
  {
   "cell_type": "code",
   "execution_count": null,
   "metadata": {},
   "outputs": [],
   "source": [
    "x_stratification = \"mcrs_mutation_type\"\n",
    "y_metric = \"specificity\"\n",
    "create_stratified_metric_bar_plot_updated(unique_mcrs_df, tools = tools, x_stratification = x_stratification, y_metric = y_metric, display_numbers = True, show_p_values = False, output_file = f\"{fig2_output_dir}/{y_metric}_vs_{x_stratification}.pdf\", output_file_p_values = f\"{fig2_output_dir}/{y_metric}_vs_{x_stratification}_p_values.txt\")"
   ]
  },
  {
   "cell_type": "markdown",
   "metadata": {},
   "source": [
    "# Stratified metric bar plot of all 3 methods: mean mutation expression error vs mutation type"
   ]
  },
  {
   "cell_type": "code",
   "execution_count": null,
   "metadata": {},
   "outputs": [],
   "source": [
    "x_stratification = \"mcrs_mutation_type\"\n",
    "y_metric = \"mean_magnitude_expression_error\"  # mean_magnitude_expression_error or mean_expression_error\n",
    "filter_real_negatives = True\n",
    "create_stratified_metric_bar_plot_updated(unique_mcrs_df, tools = tools, x_stratification = x_stratification, y_metric = y_metric, display_numbers = True, show_p_values = False, filter_real_negatives = filter_real_negatives, output_file = f\"{fig2_output_dir}/{y_metric}_vs_{x_stratification}.pdf\", output_file_p_values = f\"{fig2_output_dir}/{y_metric}_vs_{x_stratification}_p_values.txt\")"
   ]
  },
  {
   "cell_type": "markdown",
   "metadata": {},
   "source": [
    "# Stratified metric line plot of all 3 methods: sensitivity vs splice distance"
   ]
  },
  {
   "cell_type": "code",
   "execution_count": null,
   "metadata": {},
   "outputs": [],
   "source": [
    "import importlib\n",
    "import varseek.utils.visualization_utils\n",
    "importlib.reload(varseek.utils.visualization_utils)\n",
    "from varseek.utils.visualization_utils import create_stratified_metric_line_plot\n",
    "\n",
    "x_stratification = \"distance_to_nearest_splice_junction\"\n",
    "y_metric = \"sensitivity\"\n",
    "bins = [0, 10, 20, 30, 40, 50, 60, 70, float('inf')]  # [-float('inf'), 0.25, 0.5, 0.75, float('inf')]  # absolute lower bound, midpoint1, midpoint2, ..., absolute upper bound - eg bins [0, 0.25, 0.5, 0.75, 1] --> labels [\"[0, 0.25)\", \"[0.25, 0.5)\", \"[0.5, 0.75)\", \"[0.75, 1)\"] - if absolute lower bound provided is less than real absolute lower bound, then just use -float(inf) and it is replaced internally (and same for upper)\n",
    "create_stratified_metric_line_plot(unique_mcrs_df, tools = tools, x_stratification = x_stratification, y_metric = y_metric, bins = bins, show_p_values = False, output_file = f\"{fig2_output_dir}/{y_metric}_vs_{x_stratification}.pdf\", output_file_p_values = f\"{fig2_output_dir}/{y_metric}_vs_{x_stratification}_p_values.txt\")"
   ]
  },
  {
   "cell_type": "markdown",
   "metadata": {},
   "source": [
    "# Stratified metric line plot of all 3 methods: specificity vs splice distance"
   ]
  },
  {
   "cell_type": "code",
   "execution_count": null,
   "metadata": {},
   "outputs": [],
   "source": [
    "x_stratification = \"distance_to_nearest_splice_junction\"\n",
    "y_metric = \"specificity\"\n",
    "bins = [0, 10, 20, 30, 40, 50, 60, 70, float('inf')]  # [-float('inf'), 0.25, 0.5, 0.75, float('inf')]  # absolute lower bound, midpoint1, midpoint2, ..., absolute upper bound - eg bins [0, 0.25, 0.5, 0.75, 1] --> labels [\"[0, 0.25)\", \"[0.25, 0.5)\", \"[0.5, 0.75)\", \"[0.75, 1)\"] - if absolute lower bound provided is less than real absolute lower bound, then just use -float(inf) and it is replaced internally (and same for upper)\n",
    "create_stratified_metric_line_plot(unique_mcrs_df, tools = tools, x_stratification = x_stratification, y_metric = y_metric, bins = bins, show_p_values = False, output_file = f\"{fig2_output_dir}/{y_metric}_vs_{x_stratification}.pdf\", output_file_p_values = f\"{fig2_output_dir}/{y_metric}_vs_{x_stratification}_p_values.txt\")"
   ]
  }
 ],
 "metadata": {
  "kernelspec": {
   "display_name": "varseek2",
   "language": "python",
   "name": "python3"
  },
  "language_info": {
   "codemirror_mode": {
    "name": "ipython",
    "version": 3
   },
   "file_extension": ".py",
   "mimetype": "text/x-python",
   "name": "python",
   "nbconvert_exporter": "python",
   "pygments_lexer": "ipython3",
   "version": "3.10.15"
  }
 },
 "nbformat": 4,
 "nbformat_minor": 2
}
