{
 "cells": [
  {
   "cell_type": "markdown",
   "metadata": {},
   "source": [
    "# Imports"
   ]
  },
  {
   "cell_type": "code",
   "execution_count": 1,
   "metadata": {},
   "outputs": [],
   "source": [
    "import os\n",
    "import subprocess\n",
    "\n",
    "import varseek as vk\n",
    "from varseek.utils import trim_edges_off_reads_fastq_list, run_fastqc_and_multiqc, replace_low_quality_bases_with_N_list, split_reads_by_N_list\n",
    "\n"
   ]
  },
  {
   "cell_type": "markdown",
   "metadata": {},
   "source": [
    "# Hyperparameters"
   ]
  },
  {
   "cell_type": "code",
   "execution_count": 2,
   "metadata": {},
   "outputs": [],
   "source": [
    "w=54  # window size for varseek build (should be at least 1 less than kallisto k)\n",
    "k=55\n",
    "threads = 32\n",
    "strand = \"unstranded\"  # \"forward\", \"reverse\", or \"unstranded\"\n",
    "\n",
    "# fastq cleanup preceding kb count\n",
    "trim_edges_off_reads = False\n",
    "minimum_base_quality_trim_reads=13\n",
    "qualified_quality_phred = None\n",
    "unqualified_percent_limit = None\n",
    "n_base_limit = None\n",
    "length_required = None\n",
    "\n",
    "replace_low_quality_bases_with_N = False\n",
    "minimum_base_quality_replace_with_N=13\n",
    "split_reads_by_Ns = False\n",
    "run_fastqc = False\n",
    "\n",
    "# kb count\n",
    "assay = \"bulk\"  # \"bulk\" or \"sc\"  #!!! implement\n",
    "parity = \"single\"  # single or paired\n",
    "\n",
    "# vk clean\n",
    "minimum_count_filter = None  #!!! still need to tune this  \n",
    "use_binary_matrix = False\n",
    "drop_zero_columns = False\n",
    "filter_cells_by_min_counts = True  # True for auto-filter, numeric for set filter, None/False otherwise\n",
    "filter_cells_by_min_genes = 200\n",
    "filter_genes_by_min_cells = 3\n",
    "filter_cells_by_max_mt_content = False\n",
    "doublet_detection = True\n",
    "remove_doublets = False\n",
    "do_cpm_normalization = True\n",
    "split_reads_by_Ns = False\n",
    "dlist_file = None\n",
    "mutation_metadata_df_columns = None  #!!! replace\n",
    "\n",
    "# Paths\n",
    "out_dir_base = \"/home/jrich/data/varseek_data_fresh\"\n",
    "rnaseq_fastq_files = \"\"  # pass as a single string or as a list of strings (if paired-end, then pass each pair sequentially with R1 preceding R2)\n",
    "seqtk=\"seqtk\"\n",
    "mutation_metadata_df_path = None  #!!! replace\n",
    "standard_index = \"\"\n",
    "standard_t2g = \"\"\n"
   ]
  },
  {
   "cell_type": "code",
   "execution_count": 3,
   "metadata": {},
   "outputs": [],
   "source": [
    "out_dir_notebook = os.path.join(out_dir_base, \"vk_build_pipeline_t2t\")\n",
    "reference_out_dir = os.path.join(out_dir_base, \"reference\")\n",
    "mutation_index = f\"{out_dir_notebook}/mutation_reference.idx\"\n",
    "kb_count_out = f\"{out_dir_notebook}/kb_count_out\"\n",
    "kb_count_out_standard_index = f\"{out_dir_notebook}/kb_count_out_standard\"\n",
    "t2g_vk_filter = os.path.join(out_dir_notebook, \"t2g_filtered.txt\")\n",
    "vk_summarize_output_dir = f\"{out_dir_notebook}/vk_summarize\"\n",
    "fastqc_out_dir = f\"{out_dir_notebook}/fastqc_out\"\n",
    "\n",
    "\n",
    "os.makedirs(out_dir_base, exist_ok=True)\n",
    "os.makedirs(out_dir_notebook, exist_ok=True)\n",
    "os.makedirs(reference_out_dir, exist_ok=True)\n",
    "os.makedirs(kb_count_out, exist_ok=True)\n",
    "os.makedirs(kb_count_out_standard_index, exist_ok=True)\n",
    "os.makedirs(vk_summarize_output_dir, exist_ok=True)\n",
    "os.makedirs(fastqc_out_dir, exist_ok=True)\n",
    "\n",
    "assert k >= w + 1, \"k must be greater than or equal to w + 1\"\n",
    "\n",
    "if type(rnaseq_fastq_files) is str:\n",
    "    rnaseq_fastq_files = [rnaseq_fastq_files]\n",
    "\n",
    "adata_path = f\"{kb_count_out}/counts_unfiltered/adata.h5ad\"\n",
    "adata_path_normal_genome = f\"{kb_count_out_standard_index}/counts_unfiltered/adata.h5ad\""
   ]
  },
  {
   "cell_type": "code",
   "execution_count": null,
   "metadata": {},
   "outputs": [],
   "source": [
    "rnaseq_fastq_files_final = vk.fastqpp(\n",
    "    rnaseq_fastq_files_list=rnaseq_fastq_files, \n",
    "    trim_edges_off_reads = trim_edges_off_reads, \n",
    "    run_fastqc = run_fastqc, \n",
    "    replace_low_quality_bases_with_N = replace_low_quality_bases_with_N, \n",
    "    split_reads_by_Ns = split_reads_by_Ns, \n",
    "    parity = parity, \n",
    "    fastqc_out_dir = fastqc_out_dir,\n",
    "    minimum_base_quality_trim_reads = minimum_base_quality_trim_reads,\n",
    "    qualified_quality_phred = qualified_quality_phred,\n",
    "    unqualified_percent_limit = unqualified_percent_limit,\n",
    "    n_base_limit = n_base_limit,\n",
    "    minimum_length = k,\n",
    "    minimum_base_quality_replace_with_N=minimum_base_quality_replace_with_N,\n",
    "    fastp = \"fastp\",\n",
    "    seqtk = seqtk,\n",
    "    delete_intermediate_files = False\n",
    ")\n",
    "\n",
    "# if trim_edges_off_reads:\n",
    "#     rnaseq_fastq_files_quality_controlled = trim_edges_off_reads_fastq_list(rnaseq_fastq_files=rnaseq_fastq_files, parity=parity, minimum_base_quality_trim_reads=minimum_base_quality_trim_reads, qualified_quality_phred=qualified_quality_phred, unqualified_percent_limit=unqualified_percent_limit, n_base_limit=n_base_limit, length_required=length_required)\n",
    "# else:\n",
    "#     rnaseq_fastq_files_quality_controlled = rnaseq_fastq_files\n",
    "\n",
    "# if run_fastqc:\n",
    "#     run_fastqc_and_multiqc(rnaseq_fastq_files_quality_controlled, fastqc_out_dir)\n",
    "\n",
    "# if replace_low_quality_bases_with_N:\n",
    "#     rnaseq_fastq_files_replace_low_quality_bases_with_N = replace_low_quality_bases_with_N_list(rnaseq_fastq_files_quality_controlled=rnaseq_fastq_files_quality_controlled, minimum_base_quality_replace_with_N=minimum_base_quality_replace_with_N, seqtk=seqtk)\n",
    "# else:\n",
    "#     rnaseq_fastq_files_replace_low_quality_bases_with_N = rnaseq_fastq_files_quality_controlled\n",
    "\n",
    "# if split_reads_by_Ns:\n",
    "#     rnaseq_fastq_files_final = split_reads_by_N_list(rnaseq_fastq_files_replace_low_quality_bases_with_N, minimum_sequence_length=k)\n",
    "# else:\n",
    "#     rnaseq_fastq_files_final = rnaseq_fastq_files_replace_low_quality_bases_with_N"
   ]
  },
  {
   "cell_type": "markdown",
   "metadata": {},
   "source": [
    "# kb count"
   ]
  },
  {
   "cell_type": "code",
   "execution_count": null,
   "metadata": {},
   "outputs": [],
   "source": [
    "# TODO: incorporate assay bulk vs sc in here\n",
    "if not os.path.exists(kb_count_out) or len(os.listdir(kb_count_out)) == 0:\n",
    "    kb_count_command = [\"kb\", \"count\", \"-t\", str(threads), \"-k\", str(k), \"-i\", mutation_index, \"-g\", t2g_vk_filter, \"-x\", \"bulk\", \"--num\", \"--h5ad\", \"--parity\", \"single\", \"--strand\", strand, \"-o\", kb_count_out] + rnaseq_fastq_files_final\n",
    "    subprocess.run(kb_count_command, check=True)"
   ]
  },
  {
   "cell_type": "markdown",
   "metadata": {},
   "source": [
    "# Optionally, kb ref and count on normal genome"
   ]
  },
  {
   "cell_type": "code",
   "execution_count": null,
   "metadata": {},
   "outputs": [],
   "source": [
    "if not os.path.exists(standard_index) or not os.path.exists(standard_t2g):\n",
    "    kb_ref_command = [\"kb\", \"ref\", \"-t\", str(threads), \"-i\", standard_index, \"-g\", standard_t2g, \"-d\", \"human\"]\n",
    "    subprocess.run(kb_ref_command, check=True)\n",
    "\n",
    "# TODO: incorporate assay bulk vs sc in here\n",
    "if not os.path.exists(kb_count_out_standard_index) or len(os.listdir(kb_count_out_standard_index)) == 0:\n",
    "    kb_count_standard_index_command = [\"kb\", \"count\", \"-t\", str(threads), \"-k\", str(k), \"-i\", standard_index, \"-g\", standard_t2g, \"-x\", \"bulk\", \"--h5ad\", \"--parity\", parity, \"--strand\", strand, \"-o\", kb_count_out_standard_index] + rnaseq_fastq_files_quality_controlled\n",
    "    subprocess.run(kb_count_standard_index_command, check=True)"
   ]
  },
  {
   "cell_type": "markdown",
   "metadata": {},
   "source": [
    "# vk clean"
   ]
  },
  {
   "cell_type": "code",
   "execution_count": null,
   "metadata": {},
   "outputs": [],
   "source": [
    "adata_path_clean = vk.clean(adata_path, output_figures_dir = f\"{out_dir_notebook}/vk_clean_figures\", mutation_metadata_df = mutation_metadata_df_path, mutation_metadata_df_columns = mutation_metadata_df_columns, minimum_count_filter = minimum_count_filter, use_binary_matrix = use_binary_matrix, drop_zero_columns = drop_zero_columns, filter_cells_by_min_counts = filter_cells_by_min_counts, filter_cells_by_min_genes = filter_cells_by_min_genes, filter_genes_by_min_cells = filter_genes_by_min_cells, filter_cells_by_max_mt_content = filter_cells_by_max_mt_content, doublet_detection = doublet_detection, remove_doublets = remove_doublets, do_cpm_normalization = do_cpm_normalization, adata_path_normal_genome = adata_path_normal_genome, mcrs_id_column = \"mcrs_id\", verbose=False)"
   ]
  },
  {
   "cell_type": "markdown",
   "metadata": {},
   "source": [
    "# vk summarize"
   ]
  },
  {
   "cell_type": "code",
   "execution_count": null,
   "metadata": {},
   "outputs": [],
   "source": [
    "vk.summarize(adata_path_clean, assay = assay, output_dir = vk_summarize_output_dir, overwrite = False, top_values = 10)"
   ]
  }
 ],
 "metadata": {
  "kernelspec": {
   "display_name": "kvar",
   "language": "python",
   "name": "python3"
  },
  "language_info": {
   "codemirror_mode": {
    "name": "ipython",
    "version": 3
   },
   "file_extension": ".py",
   "mimetype": "text/x-python",
   "name": "python",
   "nbconvert_exporter": "python",
   "pygments_lexer": "ipython3",
   "version": "3.10.15"
  }
 },
 "nbformat": 4,
 "nbformat_minor": 2
}
