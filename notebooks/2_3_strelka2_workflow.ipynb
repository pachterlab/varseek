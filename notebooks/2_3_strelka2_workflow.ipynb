{
 "cells": [
  {
   "cell_type": "code",
   "execution_count": null,
   "metadata": {},
   "outputs": [],
   "source": [
    "import os\n",
    "import pysam\n",
    "import subprocess"
   ]
  },
  {
   "cell_type": "code",
   "execution_count": null,
   "metadata": {},
   "outputs": [],
   "source": [
    "synthetic_read_fastq = \"/home/jrich/data/varseek_data_fresh/manuscript_worthy/vk_sim_2024dec17_complex_testing/synthetic_reads.fq\"  #!!! update path\n",
    "unique_mcrs_df_path = \"/home/jrich/data/varseek_data_fresh/manuscript_worthy/vk_sim_2024dec17_complex_testing/unique_mcrs_df.csv\"  #!!! update path\n",
    "strelka_output_dir = \"/home/jrich/data/varseek_data_fresh/manuscript_worthy/vk_sim_2024dec17_complex_testing/strelka2_simulated_data_dir\"\n",
    "\n",
    "threads = 16\n",
    "read_length = 150\n",
    "mutation_source = \"cdna\"  # \"cdna\", \"cds\"\n",
    "\n",
    "cosmic_tsv = \"/home/jrich/data/varseek_data/reference/cosmic/CancerMutationCensus_AllData_Tsv_v100_GRCh37/CancerMutationCensus_AllData_v100_GRCh37.tsv\"\n",
    "cosmic_cdna_info_csv = \"/home/jrich/data/varseek_data/reference/cosmic/CancerMutationCensus_AllData_Tsv_v100_GRCh37/CancerMutationCensus_AllData_v100_GRCh37_mutation_workflow_with_cdna.csv\"\n",
    "\n",
    "# if these paths don't exist then they will be created\n",
    "reference_genome_fasta = \"/home/jrich/data/varseek_data/reference/ensembl_grch37_release93/Homo_sapiens.GRCh37.dna.primary_assembly.fa\"\n",
    "reference_genome_gtf = \"/home/jrich/data/varseek_data/reference/ensembl_grch37_release93/Homo_sapiens.GRCh37.87.gtf\"\n",
    "star_genome_dir = \"/home/jrich/data/varseek_data/reference/ensembl_grch37_release93/star_reference\"\n",
    "star_alignment_dir = \"/home/jrich/data/varseek_data_fresh/manuscript_worthy/vk_sim_2024dec17_complex_testing/star_alignment\"\n",
    "\n",
    "opt_dir = '/home/jrich/Desktop/variant_calling'\n",
    "STAR = \"/home/jrich/opt/STAR-2.7.11b/source/STAR\"\n",
    "STRELKA_INSTALL_PATH = os.path.join(opt_dir, \"strelka-2.9.10.centos6_x86_64\")\n",
    "VARSCAN_INSTALL_PATH = os.path.join(opt_dir, \"VarScan.v2.3.9.jar\")"
   ]
  },
  {
   "cell_type": "code",
   "execution_count": null,
   "metadata": {},
   "outputs": [],
   "source": [
    "os.makedirs(star_genome_dir, exist_ok=True)\n",
    "os.makedirs(star_alignment_dir, exist_ok=True)\n",
    "os.makedirs(opt_dir, exist_ok=True)\n",
    "\n",
    "out_file_name_prefix = f\"{star_alignment_dir}/sample_\"\n",
    "aligned_and_unmapped_bam = f\"{out_file_name_prefix}Aligned.sortedByCoord.out.bam\""
   ]
  },
  {
   "cell_type": "markdown",
   "metadata": {},
   "source": [
    "## Download software and reference files"
   ]
  },
  {
   "cell_type": "code",
   "execution_count": null,
   "metadata": {},
   "outputs": [],
   "source": [
    "if not os.path.exists(reference_genome_fasta):\n",
    "    !wget -O {reference_genome_fasta}.gz https://ftp.ensembl.org/pub/grch37/release-93/fasta/homo_sapiens/dna/Homo_sapiens.GRCh37.dna.primary_assembly.fa.gz && gunzip {reference_genome_fasta}.gz\n",
    "\n",
    "if not os.path.exists(reference_genome_gtf):\n",
    "    !wget -O {reference_genome_gtf}.gz https://ftp.ensembl.org/pub/grch37/release-93/gtf/homo_sapiens/Homo_sapiens.GRCh37.87.gtf.gz && gunzip {reference_genome_gtf}.gz\n",
    "\n",
    "if not os.path.exists(STRELKA_INSTALL_PATH):\n",
    "    subprocess.run(['wget', '-O', STRELKA_INSTALL_PATH, 'https://github.com/Illumina/strelka/releases/download/v2.9.10/strelka-2.9.10.centos6_x86_64.tar.bz2'], check=True)\n",
    "    subprocess.run(['tar', 'xvjf', f'{STRELKA_INSTALL_PATH}.tar.bz2'], check=True)\n",
    "    # subprocess.run(['bash', os.path.join(STRELKA_INSTALL_PATH, 'bin/runStrelkaSomaticWorkflowDemo.bash')], check=True)\n",
    "    # subprocess.run(['bash', os.path.join(STRELKA_INSTALL_PATH, 'bin/runStrelkaGermlineWorkflowDemo.bash')], check=True)\n",
    "\n",
    "if not os.path.exists(VARSCAN_INSTALL_PATH):\n",
    "    subprocess.run([\"wget\", \"-O\", VARSCAN_INSTALL_PATH, \"https://sourceforge.net/projects/varscan/files/VarScan.v2.3.9.jar/download\"], check=True   )"
   ]
  },
  {
   "cell_type": "markdown",
   "metadata": {},
   "source": [
    "## Genome alignment with STAR"
   ]
  },
  {
   "cell_type": "code",
   "execution_count": null,
   "metadata": {},
   "outputs": [],
   "source": [
    "read_length_minus_one = read_length - 1\n",
    "\n",
    "if not os.listdir(star_genome_dir):\n",
    "    !$STAR \\\n",
    "        --runThreadN $threads \\\n",
    "        --runMode genomeGenerate \\\n",
    "        --genomeDir $star_genome_dir \\\n",
    "        --genomeFastaFiles $reference_genome_fasta \\\n",
    "        --sjdbGTFfile $reference_genome_gtf \\\n",
    "        --sjdbOverhang $read_length_minus_one\n",
    "\n",
    "if not os.path.exists(aligned_and_unmapped_bam):\n",
    "    !$STAR \\\n",
    "        --runThreadN $threads \\\n",
    "        --genomeDir $star_genome_dir \\\n",
    "        --readFilesIn $synthetic_read_fastq \\\n",
    "        --sjdbOverhang $read_length_minus_one \\\n",
    "        --outFileNamePrefix $out_file_name_prefix \\\n",
    "        --outSAMtype BAM SortedByCoordinate \\\n",
    "        --outSAMunmapped Within \\\n",
    "        --outSAMmapqUnique 60 \\\n",
    "        --twopassMode Basic"
   ]
  },
  {
   "cell_type": "markdown",
   "metadata": {},
   "source": [
    "## Index reference genome"
   ]
  },
  {
   "cell_type": "code",
   "execution_count": null,
   "metadata": {},
   "outputs": [],
   "source": [
    "if not os.path.exists(f\"{reference_genome_fasta}.fai\"):\n",
    "    _ = pysam.faidx(reference_genome_fasta)"
   ]
  },
  {
   "cell_type": "markdown",
   "metadata": {},
   "source": [
    "# Strelka2"
   ]
  },
  {
   "cell_type": "markdown",
   "metadata": {},
   "source": [
    "## Strelka2 variant calling"
   ]
  },
  {
   "cell_type": "code",
   "execution_count": null,
   "metadata": {},
   "outputs": [],
   "source": [
    "!${STRELKA_INSTALL_PATH}/bin/configureStrelkaGermlineWorkflow.py \\\n",
    "    --bam $aligned_and_unmapped_bam \\\n",
    "    --referenceFasta $reference_genome_fasta \\\n",
    "    --rna \\\n",
    "    --runDir $strelka_output_dir\n",
    "\n",
    "# execution on a single local machine with 20 parallel jobs\n",
    "!$strelka_output_dir/runWorkflow.py -m local -j $threads"
   ]
  },
  {
   "cell_type": "markdown",
   "metadata": {},
   "source": [
    "# VarScan"
   ]
  },
  {
   "cell_type": "markdown",
   "metadata": {},
   "source": [
    "## BAM indexing (maybe not needed?) and sorting (maybe already done by STAR?)"
   ]
  },
  {
   "cell_type": "code",
   "execution_count": null,
   "metadata": {},
   "outputs": [],
   "source": [
    "varscan_output_dir = \"/home/jrich/data/varseek_data_fresh/manuscript_worthy/vk_sim_2024dec17_complex_testing/varscan_simulated_data_dir\"\n",
    "data_pileup_file = f\"{varscan_output_dir}/simulated_data.pileup\""
   ]
  },
  {
   "cell_type": "code",
   "execution_count": null,
   "metadata": {},
   "outputs": [],
   "source": [
    "!samtools index $aligned_and_unmapped_bam  # can possibly skip samtools sort below due to STAR mode --outSAMtype BAM SortedByCoordinate, but might need this step instead\n",
    "# !samtools sort --threads $threads -o sorted.bam $aligned_and_unmapped_bam  # stated to be needed by VarScan documentation"
   ]
  },
  {
   "cell_type": "markdown",
   "metadata": {},
   "source": [
    "## Samtools mpileup"
   ]
  },
  {
   "cell_type": "code",
   "execution_count": null,
   "metadata": {},
   "outputs": [],
   "source": [
    "!samtools mpileup -B -f $reference_genome_fasta $aligned_and_unmapped_bam > $data_pileup_file"
   ]
  },
  {
   "cell_type": "markdown",
   "metadata": {},
   "source": [
    "## Varscan"
   ]
  },
  {
   "cell_type": "code",
   "execution_count": null,
   "metadata": {},
   "outputs": [],
   "source": [
    "!java -jar VarScan.v2.2.jar mpileup2snp $data_pileup_file"
   ]
  },
  {
   "cell_type": "markdown",
   "metadata": {},
   "source": [
    "# Merging into COSMIC"
   ]
  }
 ],
 "metadata": {
  "kernelspec": {
   "display_name": "kb_env",
   "language": "python",
   "name": "python3"
  },
  "language_info": {
   "codemirror_mode": {
    "name": "ipython",
    "version": 3
   },
   "file_extension": ".py",
   "mimetype": "text/x-python",
   "name": "python",
   "nbconvert_exporter": "python",
   "pygments_lexer": "ipython3",
   "version": "3.11.7"
  }
 },
 "nbformat": 4,
 "nbformat_minor": 2
}
