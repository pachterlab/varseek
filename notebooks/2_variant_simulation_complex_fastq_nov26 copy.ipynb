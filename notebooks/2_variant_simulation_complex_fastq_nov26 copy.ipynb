{
 "cells": [
  {
   "cell_type": "code",
   "execution_count": 1,
   "metadata": {},
   "outputs": [
    {
     "name": "stdout",
     "output_type": "stream",
     "text": [
      "hi\n"
     ]
    }
   ],
   "source": [
    "print(\"hi\")"
   ]
  },
  {
   "cell_type": "code",
   "execution_count": 51,
   "metadata": {},
   "outputs": [
    {
     "name": "stdout",
     "output_type": "stream",
     "text": [
      "Namespace(w=50, verbose=True, output='output.txt')\n"
     ]
    }
   ],
   "source": [
    "import argparse\n",
    "\n",
    "# Source parser\n",
    "parser_build = argparse.ArgumentParser()\n",
    "parser_build.add_argument(\n",
    "    \"-w\",\n",
    "    \"--w\",\n",
    "    default=30,\n",
    "    type=int,\n",
    "    required=False,\n",
    "    help=\"Specify the window size.\",\n",
    ")\n",
    "parser_build.add_argument(\n",
    "    \"-v\", \"--verbose\", action=\"store_true\", help=\"Enable verbose output.\"\n",
    ")\n",
    "parser_build.add_argument(\n",
    "    \"-o\", \"--output\", type=str, required=True, help=\"Specify the output file path.\"\n",
    ")\n",
    "\n",
    "# Target parser\n",
    "parser_ref = argparse.ArgumentParser()\n",
    "\n",
    "parser_list = [parser_build]\n",
    "\n",
    "def copy_parser_arguments(parser_list, parser_target):\n",
    "    for parser in parser_list:\n",
    "        # Dynamically copy arguments from parser_build to parser_target\n",
    "        for action in parser._actions:\n",
    "            # Skip help action (default argparse behavior)\n",
    "            if isinstance(action, argparse._HelpAction):\n",
    "                continue\n",
    "\n",
    "            # Check if any option string already exists in parser_target (eg already contains --technology or -x)\n",
    "            if any(opt in parser_target._option_string_actions for opt in action.option_strings):\n",
    "                continue  # Skip adding this argument if there's an overlap\n",
    "\n",
    "            # Extract all option strings and argument attributes\n",
    "            option_strings = action.option_strings\n",
    "            kwargs = {\n",
    "                \"default\": action.default,\n",
    "                \"type\": action.type,\n",
    "                \"required\": action.required,\n",
    "                \"help\": action.help,\n",
    "                \"choices\": action.choices,\n",
    "                \"metavar\": action.metavar,\n",
    "                \"dest\": action.dest,\n",
    "                \"action\": action.__class__,  # Retain the action type\n",
    "            }\n",
    "\n",
    "            if not isinstance(action, (argparse._StoreTrueAction, argparse._StoreFalseAction)):\n",
    "                kwargs[\"nargs\"] = action.nargs  # Only include nargs for compatible actions\n",
    "            \n",
    "            # Filter out None values to avoid redundant keyword arguments\n",
    "            kwargs = {k: v for k, v in kwargs.items() if v is not None}\n",
    "            \n",
    "            # Add the argument to the target parser\n",
    "            parser_target.add_argument(*option_strings, **kwargs)\n",
    "\n",
    "            return parser_target\n",
    "\n",
    "\n",
    "parser_ref = copy_parser_arguments(parser_target = parser_ref, parser_list = parser_list)\n",
    "# # Verify copied arguments\n",
    "# args_ref = parser_ref.parse_args([\"-w\", \"50\", \"--verbose\", \"-o\", \"output.txt\"])\n",
    "# print(args_ref)\n"
   ]
  },
  {
   "cell_type": "code",
   "execution_count": null,
   "metadata": {},
   "outputs": [],
   "source": [
    "import json\n",
    "import yaml\n",
    "\n",
    "def load_params(file):\n",
    "    if file.endswith(\".json\"):\n",
    "        with open(file, \"r\") as f:\n",
    "            return json.load(f)\n",
    "    elif file.endswith(\".yaml\") or file.endswith(\".yml\"):\n",
    "        with open(file, \"r\") as f:\n",
    "            return yaml.safe_load(f)\n",
    "    else:\n",
    "        print(\"config file format not recognized. currently supported are json and  yaml.\")\n",
    "        return {}\n",
    "\n",
    "# Load config file if specified\n",
    "config_file = \"/home/jrich/Desktop/varseek/test_config.json\"\n",
    "config_params = load_params(file=config_file) if config_file else {}\n",
    "config_params\n"
   ]
  },
  {
   "cell_type": "code",
   "execution_count": null,
   "metadata": {},
   "outputs": [],
   "source": []
  },
  {
   "cell_type": "code",
   "execution_count": 1,
   "metadata": {
    "execution": {
     "iopub.execute_input": "2024-12-16T20:19:33.100099Z",
     "iopub.status.busy": "2024-12-16T20:19:33.099384Z",
     "iopub.status.idle": "2024-12-16T20:19:35.143107Z",
     "shell.execute_reply": "2024-12-16T20:19:35.142382Z"
    }
   },
   "outputs": [],
   "source": [
    "import random\n",
    "import varseek as vk\n",
    "import os\n",
    "import sys\n",
    "import anndata as ad\n",
    "import subprocess\n",
    "import numpy as np\n",
    "import pandas as pd\n",
    "\n",
    "from varseek.utils import build_random_genome_read_df, fasta_to_fastq, create_mutant_t2g, fasta_to_fastq, find_genes_with_aligned_reads_for_kb_extract, calculate_metrics, create_stratified_metric_bar_plot, create_venn_diagram, get_header_set_from_fastq, plot_histogram, synthetic_data_summary_plot, plot_basic_bar_plot_from_dict, draw_confusion_matrix, check_for_read_kmer_in_mcrs, make_bus_df"
   ]
  },
  {
   "cell_type": "code",
   "execution_count": 13,
   "metadata": {
    "execution": {
     "iopub.execute_input": "2024-12-16T20:19:35.147435Z",
     "iopub.status.busy": "2024-12-16T20:19:35.147063Z",
     "iopub.status.idle": "2024-12-16T20:19:35.152357Z",
     "shell.execute_reply": "2024-12-16T20:19:35.151762Z"
    }
   },
   "outputs": [],
   "source": [
    "out_dir_notebook=\"/home/jrich/data/varseek_data_fresh/vk_sim_2024dec9_complex_testing_TEST3\" #!!! change for each run\n",
    "number_of_mutations_to_sample = 350\n",
    "# Paths\n",
    "mutation_metadata_df = \"/home/jrich/data/varseek_data_fresh/mutation_metadata_df_updated_vk_info_exploded_filtered_first_100_rows.csv\"\n",
    "mutation_index = \"/home/jrich/data/varseek_data_fresh/vk_build_pipeline_grch37_nov16/mutation_reference.idx\"\n",
    "mutation_t2g = \"/home/jrich/data/varseek_data_fresh/vk_build_pipeline_grch37_nov16/t2g_filtered.txt\"\n",
    "\n",
    "\n",
    "\n",
    "read_length = 150\n",
    "strand = None  # None for strand-agnostic (randomly-selected), \"f\" for forward, \"r\" for reverse, \"both\" for both - make sure this matches the reference genome (vk build command) - strand = True -> \"f\" or \"r\" here; strand = False -> None or \"both\" here - note that the strand is randomly selected per *transcript*, such that all drawn reads will come from the same strand no matter what\n",
    "add_noise=True\n",
    "error_rate=0.0001  # only if add_noise=True\n",
    "error_distribution=(0.85, 0.1, 0.05)  # sub, del, ins  # only if add_noise=True\n",
    "max_errors=float(\"inf\")  # only if add_noise=True\n",
    "seq_id_column=\"seq_ID\"\n",
    "mut_column=\"mutation\"\n",
    "threads = 32\n",
    "check_reason_for_read_fn = False\n",
    "\n",
    "number_of_random_reads_cdna = 10000\n",
    "number_of_random_reads_genome = 0\n",
    "\n",
    "k = 59  # w=54 - even if I will use k=59 in my experiments, my synthetic data is designed so that w=(read_length-1), meaning that the mutation can be anywhere on the read from the first to the last nucleotide, and thus I cannot catch these edge mutations if k > (w+1) - if I want to run where k > w+1, then adjust w internal to vk sim accoringly\n",
    "w = 54\n",
    "\n",
    "sequences = \"/home/jrich/data/varseek_data_fresh/reference/ensembl_grch37_release93/Homo_sapiens.GRCh37.cdna.all.fa\"\n",
    "reference_genome_fasta = \"/home/jrich/data/varseek_data_fresh/reference/ensembl_grch37_release93/Homo_sapiens.GRCh37.dna.primary_assembly.fa\"\n",
    "reference_out_dir = \"/home/jrich/data/varseek_data_fresh/reference\""
   ]
  },
  {
   "cell_type": "code",
   "execution_count": 14,
   "metadata": {
    "execution": {
     "iopub.execute_input": "2024-12-16T20:19:35.155796Z",
     "iopub.status.busy": "2024-12-16T20:19:35.155549Z",
     "iopub.status.idle": "2024-12-16T20:19:35.160092Z",
     "shell.execute_reply": "2024-12-16T20:19:35.159551Z"
    }
   },
   "outputs": [],
   "source": [
    "out_dir_vk_build = f\"{out_dir_notebook}/vk_build\"\n",
    "\n",
    "synthetic_reads_fastQ = f\"{out_dir_notebook}/synthetic_reads.fq\"\n",
    "specific_fastq_selection = f\"{out_dir_notebook}/specific_fastq_collection\"\n",
    "os.makedirs(specific_fastq_selection, exist_ok=True)\n",
    "random_reads_fastq_cdna = f\"{specific_fastq_selection}/random_reads_cdna.fq\"\n",
    "random_reads_fastq_genome = f\"{specific_fastq_selection}/random_reads_genome.fq\"\n",
    "read_df_out = f\"{out_dir_notebook}/synthetic_reads.csv\"\n",
    "mutation_metadata_df_out = f\"{out_dir_notebook}/mutation_metadata_df_updated_vk_info_exploded_with_synthetic_read_info.csv\"\n",
    "\n",
    "kb_count_out = f\"{out_dir_notebook}/kb_count_out\"\n",
    "kb_count_out_mm = f\"{out_dir_notebook}/kb_count_out_mm\"\n",
    "\n",
    "\n",
    "seed=42\n",
    "read_df = None\n",
    "mutation_metadata_df_path = mutation_metadata_df\n",
    "adata_path = f\"{kb_count_out}/counts_unfiltered/adata.h5ad\"\n",
    "\n",
    "read_df_out_updated = read_df_out.replace(\".csv\", \"_updated.csv\")\n",
    "unique_mcrs_df_out = f\"{out_dir_notebook}/unique_mcrs_df.csv\"\n",
    "\n",
    "plot_output_folder = f\"{out_dir_notebook}/plots\"\n",
    "os.makedirs(plot_output_folder, exist_ok=True)\n",
    "\n",
    "read_df_did_not_exist = False"
   ]
  },
  {
   "cell_type": "code",
   "execution_count": 4,
   "metadata": {
    "execution": {
     "iopub.execute_input": "2024-12-16T20:19:35.163034Z",
     "iopub.status.busy": "2024-12-16T20:19:35.162777Z",
     "iopub.status.idle": "2024-12-16T20:19:35.165521Z",
     "shell.execute_reply": "2024-12-16T20:19:35.164998Z"
    }
   },
   "outputs": [],
   "source": [
    "# # run vk ref or notebook 1_1 (vk build, vk info with save_exploded_df=True, vk filter, kb ref)"
   ]
  },
  {
   "cell_type": "markdown",
   "metadata": {},
   "source": [
    "# Simple synthetic reads - erase"
   ]
  },
  {
   "cell_type": "code",
   "execution_count": 5,
   "metadata": {
    "execution": {
     "iopub.execute_input": "2024-12-16T20:19:35.168471Z",
     "iopub.status.busy": "2024-12-16T20:19:35.168227Z",
     "iopub.status.idle": "2024-12-16T20:19:35.171430Z",
     "shell.execute_reply": "2024-12-16T20:19:35.170924Z"
    }
   },
   "outputs": [],
   "source": [
    "# #!!! TEMP\n",
    "# import varseek\n",
    "# mutation_metadata_df_path = mutation_metadata_df\n",
    "# mutation_metadata_df = pd.read_csv(mutation_metadata_df_path)\n",
    "\n",
    "# sim_data_df_path = \"/home/jrich/data/varseek_data_fresh/vk_sim_2024nov24_temp2/vk_build/sim_data_df.csv\"\n",
    "# sim_data_df = pd.read_csv(sim_data_df_path, usecols=[\"header\", \"mutant_sequence\", \"wt_sequence\"])\n",
    "\n",
    "# sim_data_df.rename(\n",
    "#     columns={\n",
    "#         \"mutant_sequence\": \"mutant_sequence_read_parent\",\n",
    "#         \"wt_sequence\": \"wt_sequence_read_parent\",\n",
    "#     },\n",
    "#     inplace=True,\n",
    "# )\n",
    "\n",
    "# sim_data_df[\"mutant_sequence_read_parent_rc\"] = sim_data_df[\"mutant_sequence_read_parent\"].apply(varseek.varseek_build.reverse_complement)\n",
    "# sim_data_df[\"mutant_sequence_read_parent_length\"] = sim_data_df[\"mutant_sequence_read_parent\"].str.len()\n",
    "\n",
    "# sim_data_df[\"wt_sequence_read_parent_rc\"] = sim_data_df[\"wt_sequence_read_parent\"].apply(varseek.varseek_build.reverse_complement)\n",
    "# sim_data_df[\"wt_sequence_read_parent_length\"] = sim_data_df[\"wt_sequence_read_parent\"].str.len()\n",
    "\n",
    "# mutation_metadata_df = pd.merge(\n",
    "#     mutation_metadata_df,\n",
    "#     sim_data_df[\n",
    "#         [\n",
    "#             \"header\",\n",
    "#             \"mutant_sequence_read_parent\",\n",
    "#             \"mutant_sequence_read_parent_rc\",\n",
    "#             \"mutant_sequence_read_parent_length\",\n",
    "#             \"wt_sequence_read_parent\",\n",
    "#             \"wt_sequence_read_parent_rc\",\n",
    "#             \"wt_sequence_read_parent_length\",\n",
    "#         ]\n",
    "#     ],\n",
    "#     on=\"header\",\n",
    "#     how=\"left\",\n",
    "#     suffixes=(\"\", \"_read_parent\"),\n",
    "# )"
   ]
  },
  {
   "cell_type": "code",
   "execution_count": 6,
   "metadata": {
    "execution": {
     "iopub.execute_input": "2024-12-16T20:19:35.174206Z",
     "iopub.status.busy": "2024-12-16T20:19:35.173992Z",
     "iopub.status.idle": "2024-12-16T20:19:35.176548Z",
     "shell.execute_reply": "2024-12-16T20:19:35.176060Z"
    }
   },
   "outputs": [],
   "source": [
    "# import sys\n",
    "# import importlib\n",
    "\n",
    "# # Remove the module from sys.modules\n",
    "# if 'varseek.sim' in sys.modules:\n",
    "#     del sys.modules['varseek.sim']\n",
    "\n",
    "# # Import the module and reload it\n",
    "# import varseek.varseek_sim\n",
    "# importlib.reload(varseek.varseek_sim)\n",
    "# import varseek as vk\n",
    "\n",
    "# # instead of using vk.sim() as before, I must explicitely use vk.varseek_sim.sim()"
   ]
  },
  {
   "cell_type": "code",
   "execution_count": 7,
   "metadata": {
    "execution": {
     "iopub.execute_input": "2024-12-16T20:19:35.179193Z",
     "iopub.status.busy": "2024-12-16T20:19:35.178949Z",
     "iopub.status.idle": "2024-12-16T20:19:35.182138Z",
     "shell.execute_reply": "2024-12-16T20:19:35.181643Z"
    }
   },
   "outputs": [],
   "source": [
    "# #!!! TEMP\n",
    "# sample_type = \"all\"\n",
    "# conditions = ['dlist-equal=none', 'mcrs_is_substring-isnottrue', 'pseudoaligned_to_human_reference_despite_not_truly_aligning-isnottrue']  # kmer_overlap_in_mcrs_reference-isnottrue\n",
    "\n",
    "\n",
    "# if not os.path.exists(mutation_metadata_df_out) or not os.path.exists(read_df_out):\n",
    "#     simulated_df_dict = vk.sim(\n",
    "#         mutation_metadata_df = mutation_metadata_df,\n",
    "#         fastq_output_path = synthetic_reads_fastQ,\n",
    "#         sample_type=sample_type,\n",
    "#         number_of_mutations_to_sample=number_of_mutations_to_sample,\n",
    "#         strand=strand,\n",
    "#         number_of_reads_per_sample=\"all\",  # not used when number_of_reads_per_sample_m and number_of_reads_per_sample_w are provided\n",
    "#         k=k,  # used in vk build with the respective index\n",
    "#         w=w,  # used in vk build with the respective index\n",
    "#         read_length=read_length,\n",
    "#         seed=seed,\n",
    "#         add_noise=add_noise,\n",
    "#         error_rate=error_rate,\n",
    "#         error_distribution=error_distribution,\n",
    "#         max_errors=max_errors,\n",
    "#         with_replacement=False,\n",
    "#         sequences=sequences,\n",
    "#         mutation_metadata_df_path=mutation_metadata_df_path,\n",
    "#         seq_id_column=seq_id_column,\n",
    "#         mut_column=mut_column,\n",
    "#         reference_out_dir=reference_out_dir,\n",
    "#         out_dir_vk_build=out_dir_vk_build,\n",
    "#         filters=conditions,\n",
    "#         read_df_out=read_df_out,\n",
    "#         mutation_metadata_df_out=mutation_metadata_df_out,\n",
    "#     )\n",
    "\n",
    "#     read_df, mutation_metadata_df = simulated_df_dict[\"read_df\"], simulated_df_dict[\"mutation_metadata_df\"]\n",
    "# else:\n",
    "#     read_df = pd.read_csv(read_df_out)\n",
    "#     mutation_metadata_df = pd.read_csv(mutation_metadata_df_out)"
   ]
  },
  {
   "cell_type": "markdown",
   "metadata": {},
   "source": [
    "# Complex synthetic reads - uncomment"
   ]
  },
  {
   "cell_type": "code",
   "execution_count": 8,
   "metadata": {
    "execution": {
     "iopub.execute_input": "2024-12-16T20:19:35.184752Z",
     "iopub.status.busy": "2024-12-16T20:19:35.184540Z",
     "iopub.status.idle": "2024-12-16T20:19:35.187018Z",
     "shell.execute_reply": "2024-12-16T20:19:35.186525Z"
    }
   },
   "outputs": [],
   "source": [
    "# total = 0\n",
    "# for m in m_list:\n",
    "#     total += m * len(w_list) * len(conditions) * number_of_mutations_to_sample\n",
    "# for w in w_list:\n",
    "#     total += w * len(m_list) * len(conditions) * number_of_mutations_to_sample\n",
    "# total += number_of_random_reads_cdna + number_of_random_reads_genome\n",
    "# total_lines = total * 4\n",
    "# print(total_lines)"
   ]
  },
  {
   "cell_type": "code",
   "execution_count": 15,
   "metadata": {},
   "outputs": [
    {
     "name": "stdout",
     "output_type": "stream",
     "text": [
      "cannot find mutant sequence read parent\n",
      "running varseek build\n"
     ]
    },
    {
     "name": "stderr",
     "output_type": "stream",
     "text": [
      "Extracting MCRS left flank sequences: 100%|██████████| 100/100 [00:00<00:00, 19500.23it/s]\n",
      "Extracting MCRS right flank sequences: 100%|██████████| 100/100 [00:00<00:00, 20366.63it/s]\n",
      "17:57:05 - INFO - Removed 0 mutant kmers with length less than 150...\n",
      "17:57:05 - INFO - All mutations correctly recorded\n",
      "17:57:05 - INFO - Saving dataframe with updated mutation info...\n",
      "17:57:05 - WARNING - File size can be very large if the number of mutations is large.\n",
      "17:57:05 - INFO - FASTA file containing mutated sequences created at /home/jrich/data/varseek_data_fresh/vk_sim_2024dec9_complex_testing_TEST3/vk_build/mcrs.fa.\n",
      "17:57:05 - INFO - Initial number of mutations: 100\n",
      "17:57:05 - INFO - Filtered 0 mutations mutant_sequence_read_parent with isnotnull None - 100 mutations remaining\n",
      "17:57:05 - INFO - Filtered 0 mutations wt_sequence_read_parent with isnotnull None - 100 mutations remaining\n",
      "17:57:05 - INFO - Output fasta file with filtered mutations: None\n",
      "17:57:05 - INFO - t2g file containing mutated sequences created at None.\n",
      "17:57:05 - INFO - Setting with_replacement = True for this round\n",
      "17:57:05 - INFO - Setting with_replacement = True for this round\n"
     ]
    },
    {
     "name": "stdout",
     "output_type": "stream",
     "text": [
      "Updated mutation info has been saved to /home/jrich/data/varseek_data_fresh/vk_sim_2024dec9_complex_testing_TEST3/vk_build/sim_data_df.csv\n",
      "Error: 'NoneType' object has no attribute 'composition'\n",
      "Wrote 1300 mutations to /home/jrich/Desktop/varseek/test_128.fq\n"
     ]
    },
    {
     "name": "stderr",
     "output_type": "stream",
     "text": [
      "1670.34s - pydevd: Sending message related to process being replaced timed-out after 5 seconds\n"
     ]
    }
   ],
   "source": [
    "mutant_sequencing_depth = 128\n",
    "wt_sequencing_depth = 2\n",
    "number_of_mutations_to_sample = 10\n",
    "condition_added_list = ['included_in_synthetic_reads-isnottrue']\n",
    "\n",
    "simulated_df_dict = vk.sim(\n",
    "    mutation_metadata_df = mutation_metadata_df,\n",
    "    fastq_output_path = \"/home/jrich/Desktop/varseek/test_128.fq\",\n",
    "    read_df_parent=read_df,\n",
    "    sample_type=\"all\",\n",
    "    number_of_mutations_to_sample=number_of_mutations_to_sample,\n",
    "    strand=strand,\n",
    "    k=k,\n",
    "    w=w,\n",
    "    number_of_reads_per_sample=None,  # not used when number_of_reads_per_sample_m and number_of_reads_per_sample_w are provided\n",
    "    number_of_reads_per_sample_m=mutant_sequencing_depth,\n",
    "    number_of_reads_per_sample_w=wt_sequencing_depth,\n",
    "    read_length=read_length,\n",
    "    seed=seed,\n",
    "    add_noise=add_noise,\n",
    "    error_rate=error_rate,\n",
    "    error_distribution=error_distribution,\n",
    "    max_errors=max_errors,\n",
    "    with_replacement=False,  # set to True if wanting to have some reads that might be identical\n",
    "    filters=condition_added_list,\n",
    "    sequences=sequences,\n",
    "    mutation_metadata_df_path=mutation_metadata_df_path,\n",
    "    seq_id_column=seq_id_column,\n",
    "    mut_column=mut_column,\n",
    "    reference_out_dir=reference_out_dir,\n",
    "    out_dir_vk_build=out_dir_vk_build,\n",
    ")\n",
    "\n",
    "!rm -rf /home/jrich/data/varseek_data_fresh/vk_sim_2024dec9_complex_testing_TEST3/vk_build"
   ]
  },
  {
   "cell_type": "code",
   "execution_count": 12,
   "metadata": {},
   "outputs": [
    {
     "name": "stderr",
     "output_type": "stream",
     "text": [
      "1605.64s - pydevd: Sending message related to process being replaced timed-out after 5 seconds\n"
     ]
    }
   ],
   "source": [
    "!rm -rf /home/jrich/data/varseek_data_fresh/vk_sim_2024dec9_complex_testing_TEST3/vk_build"
   ]
  },
  {
   "cell_type": "code",
   "execution_count": 5,
   "metadata": {
    "execution": {
     "iopub.execute_input": "2024-12-16T20:19:35.189613Z",
     "iopub.status.busy": "2024-12-16T20:19:35.189371Z",
     "iopub.status.idle": "2024-12-16T20:23:18.768805Z",
     "shell.execute_reply": "2024-12-16T20:23:18.767918Z"
    }
   },
   "outputs": [
    {
     "name": "stderr",
     "output_type": "stream",
     "text": [
      "/tmp/ipykernel_101554/3467447099.py:55: DtypeWarning: Columns (5,6,7,8) have mixed types. Specify dtype option on import or set low_memory=False.\n",
      "  read_df = pd.read_csv(read_df_out)\n",
      "/tmp/ipykernel_101554/3467447099.py:56: DtypeWarning: Columns (11,12,13,26,27,31,68,70) have mixed types. Specify dtype option on import or set low_memory=False.\n",
      "  mutation_metadata_df = pd.read_csv(mutation_metadata_df_out)\n"
     ]
    }
   ],
   "source": [
    "#!!! ERASE\n",
    "# number_of_mutations_to_sample = 5\n",
    "# m_list = [1, 2, 3]\n",
    "# w_list = [0, 1, 2]\n",
    "# conditions = ['mutation_type-equal=substitution', 'mutation_type-notequal=substitution']\n",
    "\n",
    "m_list = [1, 2, 3, 4, 5, 6, 7, 8, 16, 32, 64, 128, 256]\n",
    "w_list = [0, 1, 2, 3, 4, 5, 6, 7, 8, 16, 32, 64, 128, 256]\n",
    "conditions = ['mutation_type-equal=substitution', 'mutation_type-notequal=substitution', 'kmer_overlap_in_mcrs_reference-isfalse', 'kmer_overlap_in_mcrs_reference-istrue', 'is_near_splice_junction_10-isfalse', 'is_near_splice_junction_10-istrue']\n",
    "\n",
    "random.shuffle(m_list)\n",
    "random.shuffle(w_list)\n",
    "\n",
    "if not os.path.exists(mutation_metadata_df_out) and not os.path.exists(read_df_out):\n",
    "    read_df_did_not_exist = True\n",
    "    for m in m_list:\n",
    "        for w in w_list:\n",
    "            for condition in conditions:\n",
    "                read_fq_path_specific = f\"{specific_fastq_selection}/synthetic_reads_m{m}_w{w}_{condition.replace('=', '_')}.fq\"\n",
    "                condition_added_list = [condition, 'included_in_synthetic_reads-isnottrue']\n",
    "                \n",
    "                simulated_df_dict = vk.sim(\n",
    "                    mutation_metadata_df = mutation_metadata_df,\n",
    "                    fastq_output_path = read_fq_path_specific,\n",
    "                    fastq_parent_path = synthetic_reads_fastQ,\n",
    "                    read_df_parent=read_df,\n",
    "                    sample_type=\"all\",\n",
    "                    number_of_mutations_to_sample=number_of_mutations_to_sample,\n",
    "                    strand=strand,\n",
    "                    k=k,\n",
    "                    w=w,\n",
    "                    number_of_reads_per_sample=None,  # not used when number_of_reads_per_sample_m and number_of_reads_per_sample_w are provided\n",
    "                    number_of_reads_per_sample_m=m,\n",
    "                    number_of_reads_per_sample_w=w,\n",
    "                    read_length=read_length,\n",
    "                    seed=seed,\n",
    "                    add_noise=add_noise,\n",
    "                    error_rate=error_rate,\n",
    "                    error_distribution=error_distribution,\n",
    "                    max_errors=max_errors,\n",
    "                    with_replacement=False,  # set to True if wanting to have some reads that might be identical\n",
    "                    filters=condition_added_list,\n",
    "                    sequences=sequences,\n",
    "                    mutation_metadata_df_path=mutation_metadata_df_path,\n",
    "                    seq_id_column=seq_id_column,\n",
    "                    mut_column=mut_column,\n",
    "                    reference_out_dir=reference_out_dir,\n",
    "                    out_dir_vk_build=out_dir_vk_build,\n",
    "                    read_df_out=read_df_out,\n",
    "                    mutation_metadata_df_out=mutation_metadata_df_out,\n",
    "                )\n",
    "\n",
    "                mutation_metadata_df, read_df = simulated_df_dict['mutation_metadata_df'], simulated_df_dict['read_df']\n",
    "\n",
    "read_df = pd.read_csv(read_df_out)\n",
    "mutation_metadata_df = pd.read_csv(mutation_metadata_df_out)"
   ]
  },
  {
   "cell_type": "markdown",
   "metadata": {},
   "source": [
    "# Random genome - uncomment"
   ]
  },
  {
   "cell_type": "code",
   "execution_count": 10,
   "metadata": {
    "execution": {
     "iopub.execute_input": "2024-12-16T20:23:18.773336Z",
     "iopub.status.busy": "2024-12-16T20:23:18.773107Z",
     "iopub.status.idle": "2024-12-16T20:23:18.781771Z",
     "shell.execute_reply": "2024-12-16T20:23:18.781141Z"
    }
   },
   "outputs": [],
   "source": [
    "import importlib\n",
    "import varseek.utils.seq_utils\n",
    "importlib.reload(varseek.utils.seq_utils)\n",
    "from varseek.utils.seq_utils import build_random_genome_read_df"
   ]
  },
  {
   "cell_type": "code",
   "execution_count": 11,
   "metadata": {
    "execution": {
     "iopub.execute_input": "2024-12-16T20:23:18.785079Z",
     "iopub.status.busy": "2024-12-16T20:23:18.784805Z",
     "iopub.status.idle": "2024-12-16T20:23:18.790102Z",
     "shell.execute_reply": "2024-12-16T20:23:18.789539Z"
    }
   },
   "outputs": [],
   "source": [
    "#!!!!\n",
    "read_df_did_not_exist = True\n",
    "\n",
    "import importlib\n",
    "import varseek.utils.seq_utils\n",
    "importlib.reload(varseek.utils.seq_utils)\n",
    "from varseek.utils.seq_utils import build_random_genome_read_df"
   ]
  },
  {
   "cell_type": "code",
   "execution_count": 12,
   "metadata": {
    "execution": {
     "iopub.execute_input": "2024-12-16T20:23:18.793892Z",
     "iopub.status.busy": "2024-12-16T20:23:18.793310Z",
     "iopub.status.idle": "2024-12-17T01:19:28.137458Z",
     "shell.execute_reply": "2024-12-17T01:19:28.136405Z"
    }
   },
   "outputs": [],
   "source": [
    "# # do vk sim with random genome\n",
    "\n",
    "# TODO: incorporate build_random_genome_read_df as a part of vk sim\n",
    "if read_df_did_not_exist:\n",
    "    if number_of_random_reads_cdna > 0:\n",
    "        read_df = build_random_genome_read_df(reference_fasta_file_path = sequences, mutation_metadata_df = mutation_metadata_df, read_df = read_df, read_df_out=read_df_out, fastq_output_path = random_reads_fastq_cdna, fastq_parent_path = synthetic_reads_fastQ, n = number_of_random_reads_cdna, read_length = read_length, input_type = \"transcriptome\", strand = strand, add_noise=add_noise, seed=seed)\n",
    "    if number_of_random_reads_genome > 0:\n",
    "        read_df = build_random_genome_read_df(reference_fasta_file_path = reference_genome_fasta, mutation_metadata_df = mutation_metadata_df, read_df = read_df, read_df_out=read_df_out, fastq_output_path = random_reads_fastq_genome, fastq_parent_path = synthetic_reads_fastQ, n = number_of_random_reads_genome, read_length = read_length, input_type = \"genome\", strand = strand, add_noise=add_noise, seed=seed)"
   ]
  },
  {
   "cell_type": "code",
   "execution_count": 13,
   "metadata": {
    "execution": {
     "iopub.execute_input": "2024-12-17T01:19:28.145511Z",
     "iopub.status.busy": "2024-12-17T01:19:28.145253Z",
     "iopub.status.idle": "2024-12-17T01:23:24.846108Z",
     "shell.execute_reply": "2024-12-17T01:23:24.844654Z"
    }
   },
   "outputs": [
    {
     "name": "stderr",
     "output_type": "stream",
     "text": [
      "[2024-12-16 17:19:34,913]    INFO [count] Using index /home/jrich/data/varseek_data_fresh/vk_build_pipeline_grch37_nov16/mutation_reference.idx to generate BUS file to /home/jrich/data/varseek_data_fresh/vk_sim_2024dec9_complex_testing/kb_count_out_mm from\n",
      "[2024-12-16 17:19:34,913]    INFO [count]         /home/jrich/data/varseek_data_fresh/vk_sim_2024dec9_complex_testing/synthetic_reads.fq\n"
     ]
    },
    {
     "name": "stderr",
     "output_type": "stream",
     "text": [
      "[2024-12-16 17:20:35,503]    INFO [count] Sorting BUS file /home/jrich/data/varseek_data_fresh/vk_sim_2024dec9_complex_testing/kb_count_out_mm/output.bus to /home/jrich/data/varseek_data_fresh/vk_sim_2024dec9_complex_testing/kb_count_out_mm/tmp/output.s.bus\n"
     ]
    },
    {
     "name": "stderr",
     "output_type": "stream",
     "text": [
      "[2024-12-16 17:20:38,813]    INFO [count] Inspecting BUS file /home/jrich/data/varseek_data_fresh/vk_sim_2024dec9_complex_testing/kb_count_out_mm/tmp/output.s.bus\n"
     ]
    },
    {
     "name": "stderr",
     "output_type": "stream",
     "text": [
      "[2024-12-16 17:20:39,919]    INFO [count] Generating count matrix /home/jrich/data/varseek_data_fresh/vk_sim_2024dec9_complex_testing/kb_count_out_mm/counts_unfiltered/cells_x_genes from BUS file /home/jrich/data/varseek_data_fresh/vk_sim_2024dec9_complex_testing/kb_count_out_mm/tmp/output.s.bus\n"
     ]
    },
    {
     "name": "stderr",
     "output_type": "stream",
     "text": [
      "[2024-12-16 17:21:04,390]    INFO [count] Writing gene names to file /home/jrich/data/varseek_data_fresh/vk_sim_2024dec9_complex_testing/kb_count_out_mm/counts_unfiltered/cells_x_genes.genes.names.txt\n"
     ]
    },
    {
     "name": "stderr",
     "output_type": "stream",
     "text": [
      "[2024-12-16 17:21:10,481] WARNING [count] 5251542 gene IDs do not have corresponding valid gene names. These genes will use their gene IDs instead.\n"
     ]
    },
    {
     "name": "stderr",
     "output_type": "stream",
     "text": [
      "[2024-12-16 17:21:11,392]    INFO [count] Reading matrix /home/jrich/data/varseek_data_fresh/vk_sim_2024dec9_complex_testing/kb_count_out_mm/counts_unfiltered/cells_x_genes.mtx\n"
     ]
    },
    {
     "name": "stderr",
     "output_type": "stream",
     "text": [
      "[2024-12-16 17:21:25,864]    INFO [count] Writing matrix to h5ad /home/jrich/data/varseek_data_fresh/vk_sim_2024dec9_complex_testing/kb_count_out_mm/counts_unfiltered/adata.h5ad\n"
     ]
    },
    {
     "name": "stderr",
     "output_type": "stream",
     "text": [
      "[2024-12-16 17:21:34,073]    INFO [count] Using index /home/jrich/data/varseek_data_fresh/vk_build_pipeline_grch37_nov16/mutation_reference.idx to generate BUS file to /home/jrich/data/varseek_data_fresh/vk_sim_2024dec9_complex_testing/kb_count_out from\n",
      "[2024-12-16 17:21:34,073]    INFO [count]         /home/jrich/data/varseek_data_fresh/vk_sim_2024dec9_complex_testing/synthetic_reads.fq\n"
     ]
    },
    {
     "name": "stderr",
     "output_type": "stream",
     "text": [
      "[2024-12-16 17:22:31,951]    INFO [count] Sorting BUS file /home/jrich/data/varseek_data_fresh/vk_sim_2024dec9_complex_testing/kb_count_out/output.bus to /home/jrich/data/varseek_data_fresh/vk_sim_2024dec9_complex_testing/kb_count_out/tmp/output.s.bus\n"
     ]
    },
    {
     "name": "stderr",
     "output_type": "stream",
     "text": [
      "[2024-12-16 17:22:35,159]    INFO [count] Inspecting BUS file /home/jrich/data/varseek_data_fresh/vk_sim_2024dec9_complex_testing/kb_count_out/tmp/output.s.bus\n"
     ]
    },
    {
     "name": "stderr",
     "output_type": "stream",
     "text": [
      "[2024-12-16 17:22:36,265]    INFO [count] Generating count matrix /home/jrich/data/varseek_data_fresh/vk_sim_2024dec9_complex_testing/kb_count_out/counts_unfiltered/cells_x_genes from BUS file /home/jrich/data/varseek_data_fresh/vk_sim_2024dec9_complex_testing/kb_count_out/tmp/output.s.bus\n"
     ]
    },
    {
     "name": "stderr",
     "output_type": "stream",
     "text": [
      "[2024-12-16 17:23:00,977]    INFO [count] Writing gene names to file /home/jrich/data/varseek_data_fresh/vk_sim_2024dec9_complex_testing/kb_count_out/counts_unfiltered/cells_x_genes.genes.names.txt\n"
     ]
    },
    {
     "name": "stderr",
     "output_type": "stream",
     "text": [
      "[2024-12-16 17:23:07,111] WARNING [count] 5251542 gene IDs do not have corresponding valid gene names. These genes will use their gene IDs instead.\n"
     ]
    },
    {
     "name": "stderr",
     "output_type": "stream",
     "text": [
      "[2024-12-16 17:23:08,020]    INFO [count] Reading matrix /home/jrich/data/varseek_data_fresh/vk_sim_2024dec9_complex_testing/kb_count_out/counts_unfiltered/cells_x_genes.mtx\n"
     ]
    },
    {
     "name": "stderr",
     "output_type": "stream",
     "text": [
      "[2024-12-16 17:23:22,450]    INFO [count] Writing matrix to h5ad /home/jrich/data/varseek_data_fresh/vk_sim_2024dec9_complex_testing/kb_count_out/counts_unfiltered/adata.h5ad\n"
     ]
    }
   ],
   "source": [
    "# kb count\n",
    "kb_count_command = [\"kb\", \"count\", \"-t\", str(threads), \"--mm\", \"-k\", str(k), \"-i\", mutation_index, \"-g\", mutation_t2g, \"-x\", \"bulk\", \"--num\", \"--h5ad\", \"--parity\", \"single\", \"-o\", kb_count_out_mm, synthetic_reads_fastQ]\n",
    "if not os.path.exists(kb_count_out_mm) or len(os.listdir(kb_count_out_mm)) == 0:\n",
    "    subprocess.run(kb_count_command, check=True)\n",
    "\n",
    "kb_count_command.remove(\"--mm\")\n",
    "kb_count_command[kb_count_command.index(kb_count_out_mm)] = kb_count_out  # swap kb_count_out_mm for kb_count_out\n",
    "if not os.path.exists(kb_count_out) or len(os.listdir(kb_count_out)) == 0:\n",
    "    subprocess.run(kb_count_command, check=True)"
   ]
  },
  {
   "cell_type": "code",
   "execution_count": 6,
   "metadata": {
    "execution": {
     "iopub.execute_input": "2024-12-17T01:23:24.851674Z",
     "iopub.status.busy": "2024-12-17T01:23:24.850965Z",
     "iopub.status.idle": "2024-12-17T01:25:20.964106Z",
     "shell.execute_reply": "2024-12-17T01:25:20.963351Z"
    }
   },
   "outputs": [
    {
     "name": "stderr",
     "output_type": "stream",
     "text": [
      "/tmp/ipykernel_101554/102748697.py:5: DtypeWarning: Columns (6) have mixed types. Specify dtype option on import or set low_memory=False.\n",
      "  bus_df = pd.read_csv(bus_df_path)\n"
     ]
    }
   ],
   "source": [
    "bus_df_path = f\"{kb_count_out_mm}/bus_df.csv\"\n",
    "if not os.path.exists(bus_df_path):\n",
    "    bus_df = make_bus_df(kallisto_out = kb_count_out_mm, fastq_file_list = synthetic_reads_fastQ, t2g_file = mutation_t2g, mm = False, union = False, assay = \"bulk\", bustools = \"/home/jrich/miniconda3/envs/varseek/lib/python3.10/site-packages/kb_python/bins/linux/bustools/bustools\")\n",
    "else:\n",
    "    bus_df = pd.read_csv(bus_df_path)\n",
    "bus_df.rename(columns={\"fastq_header\": \"read_id\"}, inplace=True)"
   ]
  },
  {
   "cell_type": "code",
   "execution_count": 7,
   "metadata": {
    "execution": {
     "iopub.execute_input": "2024-12-17T01:25:20.968521Z",
     "iopub.status.busy": "2024-12-17T01:25:20.968306Z",
     "iopub.status.idle": "2024-12-17T01:25:22.903856Z",
     "shell.execute_reply": "2024-12-17T01:25:22.902009Z"
    }
   },
   "outputs": [
    {
     "name": "stdout",
     "output_type": "stream",
     "text": [
      "\t\"n_targets\": 5251542,\n",
      "\t\"n_processed\": 12592654,\n",
      "\t\"n_pseudoaligned\": 6509515,\n",
      "\t\"n_unique\": 6509220,\n",
      "\t\"p_pseudoaligned\": 51.7,\n",
      "\t\"p_unique\": 51.7,\n"
     ]
    }
   ],
   "source": [
    "import json\n",
    "check_assertions = False\n",
    "!cat {kb_count_out}/run_info.json | grep -E '\"n_targets\"|\"n_processed\"|\"n_pseudoaligned\"|\"n_unique\"|\"p_pseudoaligned\"|\"p_unique\"'\n",
    "\n",
    "with open(f\"{kb_count_out}/run_info.json\", 'r') as f:\n",
    "    data = json.load(f)\n",
    "\n",
    "total_reads = data.get(\"n_processed\", None)\n",
    "n_pseudoaligned = data.get(\"n_pseudoaligned\", None)\n",
    "n_unique = data.get(\"n_unique\", None)\n",
    "n_multimapped = n_pseudoaligned - n_unique\n",
    "\n",
    "if check_assertions:\n",
    "    assert total_reads == n_pseudoaligned, \"Total reads and pseudoaligned reads do not match\"\n",
    "    assert total_reads == n_unique, \"Total reads and unique reads do not match\""
   ]
  },
  {
   "cell_type": "markdown",
   "metadata": {},
   "source": [
    "# Perspective of reads"
   ]
  },
  {
   "cell_type": "code",
   "execution_count": 8,
   "metadata": {
    "execution": {
     "iopub.execute_input": "2024-12-17T01:25:22.910210Z",
     "iopub.status.busy": "2024-12-17T01:25:22.909551Z",
     "iopub.status.idle": "2024-12-17T01:25:44.384505Z",
     "shell.execute_reply": "2024-12-17T01:25:44.383781Z"
    }
   },
   "outputs": [
    {
     "name": "stdout",
     "output_type": "stream",
     "text": [
      "TP: 6509515, FP: 0, FN: 18, TN: 6078958\n",
      "Accuracy: 0.9999985701225031, Sensitivity: 0.9999972348246794, Specificity: 1.0\n"
     ]
    },
    {
     "data": {
      "text/html": [
       "<pre style=\"white-space:pre;overflow-x:auto;line-height:normal;font-family:Menlo,'DejaVu Sans Mono',consolas,'Courier New',monospace\"><span style=\"font-style: italic\">                      Confusion Matrix                       </span>\n",
       "┏━━━━━━━━━━━━━━━━━┳━━━━━━━━━━━━━━━━━━━━┳━━━━━━━━━━━━━━━━━━━━┓\n",
       "┃<span style=\"font-weight: bold\">                 </span>┃<span style=\"font-weight: bold\"> Predicted Positive </span>┃<span style=\"font-weight: bold\"> Predicted Negative </span>┃\n",
       "┡━━━━━━━━━━━━━━━━━╇━━━━━━━━━━━━━━━━━━━━╇━━━━━━━━━━━━━━━━━━━━┩\n",
       "│ Actual Positive │      6509515       │         18         │\n",
       "│ Actual Negative │         0          │      6078958       │\n",
       "└─────────────────┴────────────────────┴────────────────────┘\n",
       "</pre>\n"
      ],
      "text/plain": [
       "\u001b[3m                      Confusion Matrix                       \u001b[0m\n",
       "┏━━━━━━━━━━━━━━━━━┳━━━━━━━━━━━━━━━━━━━━┳━━━━━━━━━━━━━━━━━━━━┓\n",
       "┃\u001b[1m \u001b[0m\u001b[1m               \u001b[0m\u001b[1m \u001b[0m┃\u001b[1m \u001b[0m\u001b[1mPredicted Positive\u001b[0m\u001b[1m \u001b[0m┃\u001b[1m \u001b[0m\u001b[1mPredicted Negative\u001b[0m\u001b[1m \u001b[0m┃\n",
       "┡━━━━━━━━━━━━━━━━━╇━━━━━━━━━━━━━━━━━━━━╇━━━━━━━━━━━━━━━━━━━━┩\n",
       "│ Actual Positive │      6509515       │         18         │\n",
       "│ Actual Negative │         0          │      6078958       │\n",
       "└─────────────────┴────────────────────┴────────────────────┘\n"
      ]
     },
     "metadata": {},
     "output_type": "display_data"
    },
    {
     "data": {
      "image/png": "[encoded data removed]",
      "text/plain": [
       "<Figure size 640x480 with 1 Axes>"
      ]
     },
     "metadata": {},
     "output_type": "display_data"
    },
    {
     "name": "stderr",
     "output_type": "stream",
     "text": [
      "/home/jrich/Desktop/varseek/varseek/utils/visualization_utils.py:357: FutureWarning: The default value of numeric_only in DataFrameGroupBy.sum is deprecated. In a future version, numeric_only will default to False. Either specify numeric_only or select only columns which should be valid for the function.\n",
      "  grouped_df = df.groupby(group_col).sum()\n"
     ]
    },
    {
     "data": {
      "image/png": "[encoded data removed]",
      "text/plain": [
       "<Figure size 640x480 with 1 Axes>"
      ]
     },
     "metadata": {},
     "output_type": "display_data"
    }
   ],
   "source": [
    "aligned_ids = set(bus_df['read_id'])\n",
    "read_df['aligned_somewhere'] = read_df['read_id'].isin(aligned_ids)\n",
    "\n",
    "read_df['TP_crude'] = (read_df['mutant_read'] & read_df['aligned_somewhere'])\n",
    "read_df['FP_crude'] = (~read_df['mutant_read'] & read_df['aligned_somewhere'])\n",
    "read_df['FN_crude'] = (read_df['mutant_read'] & ~read_df['aligned_somewhere'])\n",
    "read_df['TN_crude'] = (~read_df['mutant_read'] & ~read_df['aligned_somewhere'])\n",
    "\n",
    "read_df['read_id_unique'] = read_df['read_id'] + \"_\" + read_df.index.astype(str)  # because, if I sample with replacement, some read_id's (and their matching read_header's) will be repeated\n",
    "\n",
    "metric_dictionary_reads_crude = calculate_metrics(read_df, header_name = \"read_id_unique\", check_assertions = check_assertions, crude = True, out = f\"{plot_output_folder}/reads_metrics_crude.txt\")\n",
    "draw_confusion_matrix(metric_dictionary_reads_crude)\n",
    "\n",
    "true_set_crude = set(read_df.loc[read_df['mutant_read'], 'read_id_unique'])\n",
    "positive_set_crude = set(read_df.loc[read_df['aligned_somewhere'], 'read_id_unique'])\n",
    "# don't show mm here, because mm is counted as a TP for crude\n",
    "create_venn_diagram(true_set_crude, positive_set_crude, TN = metric_dictionary_reads_crude['TN'], mm = None, out_path = f\"{plot_output_folder}/venn_diagram_read_crude.png\")\n",
    "\n",
    "create_stratified_metric_bar_plot(read_df, 'mcrs_mutation_type', 'accuracy', overall_metric = metric_dictionary_reads_crude['accuracy'], log_x_axis = False, display_numbers = True, crude = True, out_path = f\"{plot_output_folder}/accuracy_vs_mcrs_mutation_type_read_perspective_crude.png\")"
   ]
  },
  {
   "cell_type": "code",
   "execution_count": 10,
   "metadata": {
    "execution": {
     "iopub.execute_input": "2024-12-17T01:25:44.392235Z",
     "iopub.status.busy": "2024-12-17T01:25:44.392033Z",
     "iopub.status.idle": "2024-12-17T01:26:48.461428Z",
     "shell.execute_reply": "2024-12-17T01:26:48.460362Z"
    }
   },
   "outputs": [],
   "source": [
    "from varseek.utils import safe_literal_eval\n",
    "\n",
    "# Merge read_df with bus_df on 'read_id' and 'fastq_header' to bring in 'transcript_ids_list'\n",
    "read_df = read_df.merge(bus_df[['read_id', 'transcript_ids_list', 'transcript_names_final']].drop_duplicates(), \n",
    "                          on='read_id', \n",
    "                          how='left').rename(columns={'transcript_names_final': 'mcrs_id_to_which_the_read_aligned'})\n",
    "\n",
    "read_df[\"transcript_ids_list\"] = read_df[\"transcript_ids_list\"].apply(safe_literal_eval)\n",
    "\n",
    "# Create 'multimapped' column as True if length of 'transcript_ids_list' > 1, else False\n",
    "read_df['multimapped'] = read_df['transcript_ids_list'].apply(lambda x: len(x) > 1 if isinstance(x, list) else False)\n",
    "\n",
    "read_df.drop(columns=['transcript_ids_list'], inplace=True)\n",
    "\n",
    "read_df[\"mcrs_id_to_which_the_read_aligned\"] = read_df[\"mcrs_id_to_which_the_read_aligned\"].apply(safe_literal_eval)\n",
    "\n",
    "# Convert lists to comma-separated strings, keeping NaN values as NaN\n",
    "read_df['mcrs_id_to_which_the_read_aligned'] = read_df['mcrs_id_to_which_the_read_aligned'].apply(\n",
    "    lambda x: ','.join(x) if isinstance(x, list) else x\n",
    ")\n",
    "\n",
    "read_df = read_df.drop_duplicates(subset='read_id_unique', keep='first')"
   ]
  },
  {
   "cell_type": "code",
   "execution_count": null,
   "metadata": {},
   "outputs": [],
   "source": [
    "read_df = read_df.drop_duplicates(subset='read_id_unique', keep='first')  #!!! here only because of non-unique IDs"
   ]
  },
  {
   "cell_type": "code",
   "execution_count": 32,
   "metadata": {
    "execution": {
     "iopub.execute_input": "2024-12-17T01:26:48.466161Z",
     "iopub.status.busy": "2024-12-17T01:26:48.465930Z",
     "iopub.status.idle": "2024-12-17T01:28:57.680808Z",
     "shell.execute_reply": "2024-12-17T01:28:57.680028Z"
    }
   },
   "outputs": [
    {
     "name": "stdout",
     "output_type": "stream",
     "text": [
      "TP: 6509221, FP: 0, FN: 312, TN: 6078958\n",
      "Accuracy: 0.9999752154567215, Sensitivity: 0.9999520702944436, Specificity: 1.0\n"
     ]
    },
    {
     "data": {
      "text/html": [
       "<pre style=\"white-space:pre;overflow-x:auto;line-height:normal;font-family:Menlo,'DejaVu Sans Mono',consolas,'Courier New',monospace\"><span style=\"font-style: italic\">                      Confusion Matrix                       </span>\n",
       "┏━━━━━━━━━━━━━━━━━┳━━━━━━━━━━━━━━━━━━━━┳━━━━━━━━━━━━━━━━━━━━┓\n",
       "┃<span style=\"font-weight: bold\">                 </span>┃<span style=\"font-weight: bold\"> Predicted Positive </span>┃<span style=\"font-weight: bold\"> Predicted Negative </span>┃\n",
       "┡━━━━━━━━━━━━━━━━━╇━━━━━━━━━━━━━━━━━━━━╇━━━━━━━━━━━━━━━━━━━━┩\n",
       "│ Actual Positive │      6509221       │        312         │\n",
       "│ Actual Negative │         0          │      6078958       │\n",
       "└─────────────────┴────────────────────┴────────────────────┘\n",
       "</pre>\n"
      ],
      "text/plain": [
       "\u001b[3m                      Confusion Matrix                       \u001b[0m\n",
       "┏━━━━━━━━━━━━━━━━━┳━━━━━━━━━━━━━━━━━━━━┳━━━━━━━━━━━━━━━━━━━━┓\n",
       "┃\u001b[1m \u001b[0m\u001b[1m               \u001b[0m\u001b[1m \u001b[0m┃\u001b[1m \u001b[0m\u001b[1mPredicted Positive\u001b[0m\u001b[1m \u001b[0m┃\u001b[1m \u001b[0m\u001b[1mPredicted Negative\u001b[0m\u001b[1m \u001b[0m┃\n",
       "┡━━━━━━━━━━━━━━━━━╇━━━━━━━━━━━━━━━━━━━━╇━━━━━━━━━━━━━━━━━━━━┩\n",
       "│ Actual Positive │      6509221       │        312         │\n",
       "│ Actual Negative │         0          │      6078958       │\n",
       "└─────────────────┴────────────────────┴────────────────────┘\n"
      ]
     },
     "metadata": {},
     "output_type": "display_data"
    },
    {
     "data": {
      "image/png": "[encoded data removed]",
      "text/plain": [
       "<Figure size 640x480 with 1 Axes>"
      ]
     },
     "metadata": {},
     "output_type": "display_data"
    }
   ],
   "source": [
    "read_df['aligned_to_correct_mcrs'] = (read_df['mcrs_id'] == read_df['mcrs_id_to_which_the_read_aligned'])\n",
    "\n",
    "# Check if 'mcrs_id' is a substring of any item in 'mcrs_id_to_which_the_read_aligned'\n",
    "read_df['aligned_to_correct_mcrs_including_multimapped'] = read_df.apply(\n",
    "    lambda row: row['mcrs_id'] in row['mcrs_id_to_which_the_read_aligned'] \n",
    "                if isinstance(row['mcrs_id_to_which_the_read_aligned'], str) else False,\n",
    "    axis=1\n",
    ")\n",
    "\n",
    "read_df['TP'] = (read_df['mutant_read'] & read_df['aligned_to_correct_mcrs'])\n",
    "read_df['FP'] = (~read_df['mutant_read'] & read_df['aligned_to_correct_mcrs'])\n",
    "read_df['FN'] = (read_df['mutant_read'] & ~read_df['aligned_to_correct_mcrs'])\n",
    "read_df['TN'] = (~read_df['mutant_read'] & ~read_df['aligned_to_correct_mcrs'])\n",
    "\n",
    "metric_dictionary_reads = calculate_metrics(read_df, header_name = \"read_id_unique\", check_assertions = check_assertions, out = f\"{plot_output_folder}/read_metrics.txt\")\n",
    "draw_confusion_matrix(metric_dictionary_reads)\n",
    "\n",
    "true_set = set(read_df.loc[read_df['mutant_read'], 'read_id_unique'])\n",
    "positive_set = set(read_df.loc[read_df['aligned_to_correct_mcrs'], 'read_id_unique'])\n",
    "create_venn_diagram(true_set, positive_set, TN = metric_dictionary_reads['TN'], mm = n_multimapped, out_path = f\"{plot_output_folder}/venn_diagram_read.png\")"
   ]
  },
  {
   "cell_type": "code",
   "execution_count": 19,
   "metadata": {
    "execution": {
     "iopub.execute_input": "2024-12-17T01:28:57.685899Z",
     "iopub.status.busy": "2024-12-17T01:28:57.685699Z",
     "iopub.status.idle": "2024-12-17T01:28:57.763827Z",
     "shell.execute_reply": "2024-12-17T01:28:57.763132Z"
    }
   },
   "outputs": [],
   "source": [
    "read_df['reason_for_fn'] = np.nan\n",
    "\n",
    "if check_reason_for_read_fn:\n",
    "    # Loop through each row in read_df where 'FN' is True\n",
    "    for index, row in read_df.loc[read_df['FN']].iterrows():\n",
    "        reason_for_fn_sublist = []\n",
    "\n",
    "        # Get the mcrs_id from the current row in read_df\n",
    "        mcrs_id = row['mcrs_id']\n",
    "        \n",
    "        # Find the corresponding mcrs_sequence_length in mutation_metadata_df\n",
    "        matching_length = mutation_metadata_df.loc[\n",
    "            mutation_metadata_df['mcrs_id'] == mcrs_id, 'mcrs_sequence_length'\n",
    "        ]\n",
    "        \n",
    "        # Check if there's a match and if the length is less than 55\n",
    "        if not matching_length.empty and matching_length.iloc[0] < (2*k-1):\n",
    "            reason_for_fn_sublist.append(\"short_mcrs_id\")\n",
    "\n",
    "        if row['multimapped']:\n",
    "            reason_for_fn_sublist.append(\"multimapped\")\n",
    "        \n",
    "        dlist_status = mutation_metadata_df.loc[\n",
    "            mutation_metadata_df['mcrs_id'] == mcrs_id, 'dlist'\n",
    "        ]\n",
    "\n",
    "        if not dlist_status.empty and dlist_status.iloc[0] != \"none\":\n",
    "            reason_for_fn_sublist.append(\"dlisted\")\n",
    "\n",
    "        if reason_for_fn_sublist:\n",
    "            read_df.at[index, 'reason_for_fn'] = reason_for_fn_sublist  # might be cast as a string if length == 1 (especially for first row), but this doesn't really matter for me\n",
    "\n",
    "    num_nan_reasons = read_df.loc[read_df['FN'], 'reason_for_fn'].isna().sum()\n",
    "\n",
    "    print(f\"Number of FN reads with no reasons: {num_nan_reasons}\")\n",
    "\n",
    "    # mcrs_set = set(unique_mcrs_df.loc[unique_mcrs_df['FN'] == True, 'mcrs_header'])\n",
    "    # filtered_read_df = read_df[(read_df['FN']) & (~read_df['reference_header'].isin(mcrs_set))]"
   ]
  },
  {
   "cell_type": "markdown",
   "metadata": {},
   "source": [
    "# Perspective of reference"
   ]
  },
  {
   "cell_type": "markdown",
   "metadata": {},
   "source": [
    "vcrs_0000009,ENST00000312553:c.1584G>A\n",
    "6 mutants, 7 WT"
   ]
  },
  {
   "cell_type": "code",
   "execution_count": 65,
   "metadata": {},
   "outputs": [
    {
     "data": {
      "text/plain": [
       "382200"
      ]
     },
     "execution_count": 65,
     "metadata": {},
     "output_type": "execute_result"
    }
   ],
   "source": [
    "len(mutation_metadata_df.loc[mutation_metadata_df['included_in_synthetic_reads_mutant']])"
   ]
  },
  {
   "cell_type": "code",
   "execution_count": 67,
   "metadata": {},
   "outputs": [],
   "source": [
    "mutation_metadata_df[\"list_of_read_starting_indices_wt_temp\"] = mutation_metadata_df[\"list_of_read_starting_indices_wt\"].apply(safe_literal_eval)\n",
    "\n",
    "mutation_metadata_df['number_of_reads_wt'] = mutation_metadata_df['list_of_read_starting_indices_wt_temp'].apply(\n",
    "        lambda x: len(x) if isinstance(x, list) else 0\n",
    ")\n",
    "\n",
    "mutation_metadata_df[\"list_of_read_starting_indices_mutant_temp\"] = mutation_metadata_df[\"list_of_read_starting_indices_mutant\"].apply(safe_literal_eval)\n",
    "\n",
    "mutation_metadata_df['number_of_reads_mutant'] = mutation_metadata_df['list_of_read_starting_indices_mutant_temp'].apply(\n",
    "        lambda x: len(x) if isinstance(x, list) else 0\n",
    ")\n",
    "\n",
    "mutation_metadata_df.drop(columns=[\"list_of_read_starting_indices_wt_temp\", \"list_of_read_starting_indices_mutant_temp\"], inplace=True)"
   ]
  },
  {
   "cell_type": "code",
   "execution_count": 69,
   "metadata": {
    "execution": {
     "iopub.execute_input": "2024-12-17T01:28:57.768273Z",
     "iopub.status.busy": "2024-12-17T01:28:57.768071Z",
     "iopub.status.idle": "2024-12-17T01:30:32.482701Z",
     "shell.execute_reply": "2024-12-17T01:30:32.481636Z"
    }
   },
   "outputs": [],
   "source": [
    "columns_to_list = [\"header\",\"order\",\"seq_ID\",\"mutation\",\"mutation_type\",\"wt_sequence\",\"nucleotide_positions\",\"actual_mutation\",\"mutation_cds\",\"mutation_aa\",\"GENOMIC_MUTATION_ID\",\"chromosome\",\"strand\",\"mutation_genome\",\"gene_name\",\"mutation_id\",\"start_mutation_position\",\"end_mutation_position\",\"nucleotide_positions_cdna\",\"actual_mutation_cdna\",\"start_mutation_position_cdna\",\"end_mutation_position_cdna\",\"header_genome\",\"header_cdna\",\"header_cds\",\"nucleotide_positions_genome\",\"actual_mutation_genome\",\"start_mutation_position_genome\",\"end_mutation_position_genome\",\"distance_to_nearest_splice_junction\",\"is_near_splice_junction_10\",\"nearby_mutations\",\"nearby_mutations_count\",\"has_a_nearby_mutation\"]\n",
    "columns_to_or = [\"included_in_synthetic_reads_mutant\",\"included_in_synthetic_reads_wt\",\"included_in_synthetic_reads\", \"any_noisy_reads\", \"any_noisy_reads_mutant\", \"any_noisy_reads_wt\"]\n",
    "columns_to_sum = [\"list_of_read_starting_indices_mutant\",\"list_of_read_starting_indices_wt\",\"number_of_reads_wt\",\"number_of_reads_mutant\",\"noisy_read_indices_mutant\",\"noisy_read_indices_wt\"]\n",
    "columns_to_all = []\n",
    "\n",
    "# #!!!TEMP\n",
    "# drop all columns in columns_to_list\n",
    "columns_to_list.remove(\"order\")\n",
    "columns_to_list.remove(\"distance_to_nearest_splice_junction\")\n",
    "mutation_metadata_df.drop(columns=columns_to_list, inplace=True)\n",
    "# #!!!TEMP\n",
    "\n",
    "mutation_metadata_df_original_column_order = mutation_metadata_df.columns\n",
    "columns_to_list = [col for col in columns_to_list if col in mutation_metadata_df_original_column_order]\n",
    "columns_to_or = [col for col in columns_to_or if col in mutation_metadata_df_original_column_order]\n",
    "columns_to_sum = [col for col in columns_to_sum if col in mutation_metadata_df_original_column_order]\n",
    "\n",
    "for column in list(columns_to_list):\n",
    "    mutation_metadata_df[column] = mutation_metadata_df[column].apply(\n",
    "        lambda x: tuple(x) if isinstance(x, list) else x\n",
    "    )\n",
    "\n",
    "unique_mcrs_df = (\n",
    "    mutation_metadata_df.sort_values('order').groupby('mcrs_header', as_index=False)\n",
    "    .agg(\n",
    "        {**{col: list for col in list(columns_to_list)},  # list these values\n",
    "        **{col: sum for col in list(columns_to_sum)},  # Take the first value for these columns\n",
    "        **{col: np.any for col in list(columns_to_or)},  # OR these values\n",
    "        **{col: np.all for col in list(columns_to_all)},  # AND these values\n",
    "        **{col: 'first' for col in mutation_metadata_df.columns if col not in columns_to_list + columns_to_or + columns_to_all + columns_to_sum + ['mcrs_header']}}  # Take the first value for other columns\n",
    "    ).reset_index(drop=True)\n",
    ")\n",
    "\n",
    "unique_mcrs_df = unique_mcrs_df[mutation_metadata_df_original_column_order]\n",
    "\n",
    "unique_mcrs_df['tumor_purity'] = unique_mcrs_df['number_of_reads_mutant'] / (unique_mcrs_df['number_of_reads_wt'] + unique_mcrs_df['number_of_reads_mutant'])\n",
    "\n",
    "unique_mcrs_df['tumor_purity'] = np.where(\n",
    "    np.isnan(unique_mcrs_df['tumor_purity']), \n",
    "    np.nan,  # Keep NaN as NaN\n",
    "    unique_mcrs_df['tumor_purity']  # Keep the result for valid divisions\n",
    ")\n",
    "\n",
    "try:\n",
    "    unique_mcrs_df['min_distance_to_splice_junction'] = unique_mcrs_df['distance_to_nearest_splice_junction'].apply(\n",
    "        lambda x: min(x) if isinstance(x, list) and len(x) > 0 else np.nan\n",
    "    )\n",
    "except Exception as e:\n",
    "    pass"
   ]
  },
  {
   "cell_type": "code",
   "execution_count": 70,
   "metadata": {},
   "outputs": [
    {
     "data": {
      "text/html": [
       "<div>\n",
       "<style scoped>\n",
       "    .dataframe tbody tr th:only-of-type {\n",
       "        vertical-align: middle;\n",
       "    }\n",
       "\n",
       "    .dataframe tbody tr th {\n",
       "        vertical-align: top;\n",
       "    }\n",
       "\n",
       "    .dataframe thead th {\n",
       "        text-align: right;\n",
       "    }\n",
       "</style>\n",
       "<table border=\"1\" class=\"dataframe\">\n",
       "  <thead>\n",
       "    <tr style=\"text-align: right;\">\n",
       "      <th></th>\n",
       "      <th>mcrs_header</th>\n",
       "      <th>order</th>\n",
       "      <th>distance_to_nearest_splice_junction</th>\n",
       "      <th>mcrs_sequence</th>\n",
       "      <th>mutant_sequence_rc</th>\n",
       "      <th>mcrs_id</th>\n",
       "      <th>header_list</th>\n",
       "      <th>order_list</th>\n",
       "      <th>mcrs_source</th>\n",
       "      <th>header_with_gene_name</th>\n",
       "      <th>number_of_mutations_in_this_gene_total</th>\n",
       "      <th>mcrs_header_length</th>\n",
       "      <th>mcrs_sequence_length</th>\n",
       "      <th>dlist</th>\n",
       "      <th>dlist_substring</th>\n",
       "      <th>number_of_alignments_to_normal_human_reference_cdna</th>\n",
       "      <th>number_of_alignments_to_normal_human_reference_genome</th>\n",
       "      <th>number_of_substring_matches_to_normal_human_reference_cdna</th>\n",
       "      <th>number_of_substring_matches_to_normal_human_reference_genome</th>\n",
       "      <th>number_of_alignments_to_normal_human_reference</th>\n",
       "      <th>number_of_substring_matches_to_normal_human_reference</th>\n",
       "      <th>pseudoaligned_to_human_reference_despite_not_truly_aligning</th>\n",
       "      <th>number_of_kmers_with_overlap_to_other_mcrs_items_in_mcrs_reference</th>\n",
       "      <th>overlapping_kmers</th>\n",
       "      <th>number_of_mcrs_items_with_overlapping_kmers_in_mcrs_reference</th>\n",
       "      <th>mcrs_items_with_overlapping_kmers_in_mcrs_reference</th>\n",
       "      <th>kmer_overlap_in_mcrs_reference</th>\n",
       "      <th>longest_homopolymer_length</th>\n",
       "      <th>longest_homopolymer</th>\n",
       "      <th>num_distinct_triplets</th>\n",
       "      <th>num_total_triplets</th>\n",
       "      <th>triplet_complexity</th>\n",
       "      <th>mcrs_mutation_type</th>\n",
       "      <th>concatenated_headers_in_mcrs</th>\n",
       "      <th>number_of_mutations_in_mcrs_header</th>\n",
       "      <th>mcrs_sequence_rc</th>\n",
       "      <th>entries_for_which_this_mcrs_is_substring</th>\n",
       "      <th>mcrs_is_substring</th>\n",
       "      <th>entries_for_which_this_mcrs_is_superstring</th>\n",
       "      <th>mcrs_is_superstring</th>\n",
       "      <th>mutant_sequence_read_parent</th>\n",
       "      <th>mutant_sequence_read_parent_rc</th>\n",
       "      <th>mutant_sequence_read_parent_length</th>\n",
       "      <th>wt_sequence_read_parent</th>\n",
       "      <th>wt_sequence_read_parent_rc</th>\n",
       "      <th>wt_sequence_read_parent_length</th>\n",
       "      <th>start_position_for_which_read_contains_mutation_cdna</th>\n",
       "      <th>start_position_for_which_read_contains_mutation_genome</th>\n",
       "      <th>included_in_synthetic_reads</th>\n",
       "      <th>included_in_synthetic_reads_wt</th>\n",
       "      <th>included_in_synthetic_reads_mutant</th>\n",
       "      <th>list_of_read_starting_indices_wt</th>\n",
       "      <th>list_of_read_starting_indices_mutant</th>\n",
       "      <th>number_of_reads_wt</th>\n",
       "      <th>number_of_reads_mutant</th>\n",
       "      <th>any_noisy_reads_wt</th>\n",
       "      <th>noisy_read_indices_wt</th>\n",
       "      <th>any_noisy_reads_mutant</th>\n",
       "      <th>noisy_read_indices_mutant</th>\n",
       "      <th>any_noisy_reads</th>\n",
       "      <th>tumor_purity</th>\n",
       "      <th>min_distance_to_splice_junction</th>\n",
       "    </tr>\n",
       "  </thead>\n",
       "  <tbody>\n",
       "    <tr>\n",
       "      <th>0</th>\n",
       "      <td>ENST00000000233:c.161C&gt;A</td>\n",
       "      <td>0</td>\n",
       "      <td>60.0</td>\n",
       "      <td>CCAGCCCGCACCCCGCGTCGGTGCCCGCGCCCCTCCCCGGGCCCCG...</td>\n",
       "      <td>GAATCCGCATCTGCTTCTTCCCGAAGATCCGCGAAAAGAGCGCGGA...</td>\n",
       "      <td>vcrs_4584647</td>\n",
       "      <td>['ENST00000000233:c.161C&gt;A']</td>\n",
       "      <td>[0]</td>\n",
       "      <td>cdna</td>\n",
       "      <td>ENST00000000233(ARF5):c.161C&gt;A</td>\n",
       "      <td>81</td>\n",
       "      <td>24</td>\n",
       "      <td>109</td>\n",
       "      <td>none</td>\n",
       "      <td>none</td>\n",
       "      <td>0</td>\n",
       "      <td>0</td>\n",
       "      <td>0</td>\n",
       "      <td>0</td>\n",
       "      <td>0</td>\n",
       "      <td>0</td>\n",
       "      <td>NaN</td>\n",
       "      <td>0</td>\n",
       "      <td>set()</td>\n",
       "      <td>0</td>\n",
       "      <td>set()</td>\n",
       "      <td>False</td>\n",
       "      <td>4</td>\n",
       "      <td>['CCCC', 'TTTT']</td>\n",
       "      <td>40</td>\n",
       "      <td>107</td>\n",
       "      <td>0.373832</td>\n",
       "      <td>substitution</td>\n",
       "      <td>False</td>\n",
       "      <td>1</td>\n",
       "      <td>GAATCCGCATCTGCTTCTTCCCGAAGATCCGCGAAAAGAGCGCGGA...</td>\n",
       "      <td>None</td>\n",
       "      <td>False</td>\n",
       "      <td>None</td>\n",
       "      <td>False</td>\n",
       "      <td>CTCCTGCTGCTGCTGCGCCCCATCCCCCCGCGGCCGGCCAGTTCCA...</td>\n",
       "      <td>TACAGGATTGTGGTCTTGCCAGCCGCATCCAAGCCAACCATGAGAA...</td>\n",
       "      <td>195.0</td>\n",
       "      <td>CTCCTGCTGCTGCTGCGCCCCATCCCCCCGCGGCCGGCCAGTTCCA...</td>\n",
       "      <td>TACAGGATTGTGGTCTTGCCAGCCGCATCCAAGCCAACCATGAGAA...</td>\n",
       "      <td>195.0</td>\n",
       "      <td>12</td>\n",
       "      <td>127228410.0</td>\n",
       "      <td>False</td>\n",
       "      <td>False</td>\n",
       "      <td>False</td>\n",
       "      <td>0</td>\n",
       "      <td>0</td>\n",
       "      <td>0</td>\n",
       "      <td>0</td>\n",
       "      <td>False</td>\n",
       "      <td>0</td>\n",
       "      <td>False</td>\n",
       "      <td>0</td>\n",
       "      <td>False</td>\n",
       "      <td>NaN</td>\n",
       "      <td>NaN</td>\n",
       "    </tr>\n",
       "    <tr>\n",
       "      <th>1</th>\n",
       "      <td>ENST00000000233:c.166C&gt;T</td>\n",
       "      <td>0</td>\n",
       "      <td>55.0</td>\n",
       "      <td>CCGCACCCCGCGTCGGTGCCCGCGCCCCTCCCCGGGCCCCGCCATG...</td>\n",
       "      <td>CATGAGAATCCGCATCTGCTTCTTCCCGAAGATCCGCGAAAAGAGC...</td>\n",
       "      <td>vcrs_4584613</td>\n",
       "      <td>['ENST00000000233:c.166C&gt;T']</td>\n",
       "      <td>[0]</td>\n",
       "      <td>cdna</td>\n",
       "      <td>ENST00000000233(ARF5):c.166C&gt;T</td>\n",
       "      <td>81</td>\n",
       "      <td>24</td>\n",
       "      <td>109</td>\n",
       "      <td>none</td>\n",
       "      <td>none</td>\n",
       "      <td>0</td>\n",
       "      <td>0</td>\n",
       "      <td>0</td>\n",
       "      <td>0</td>\n",
       "      <td>0</td>\n",
       "      <td>0</td>\n",
       "      <td>NaN</td>\n",
       "      <td>0</td>\n",
       "      <td>set()</td>\n",
       "      <td>0</td>\n",
       "      <td>set()</td>\n",
       "      <td>False</td>\n",
       "      <td>4</td>\n",
       "      <td>['CCCC', 'TTTT']</td>\n",
       "      <td>42</td>\n",
       "      <td>107</td>\n",
       "      <td>0.392523</td>\n",
       "      <td>substitution</td>\n",
       "      <td>False</td>\n",
       "      <td>1</td>\n",
       "      <td>CATGAGAATCCGCATCTGCTTCTTCCCGAAGATCCGCGAAAAGAGC...</td>\n",
       "      <td>None</td>\n",
       "      <td>False</td>\n",
       "      <td>None</td>\n",
       "      <td>False</td>\n",
       "      <td>GCTGCTGCTGCGCCCCATCCCCCCGCGGCCGGCCAGTTCCAGCCCG...</td>\n",
       "      <td>GTTTGTACAGGATTGTGGTCTTGCCAGCCGCATCCAAGCCAACCAT...</td>\n",
       "      <td>195.0</td>\n",
       "      <td>GCTGCTGCTGCGCCCCATCCCCCCGCGGCCGGCCAGTTCCAGCCCG...</td>\n",
       "      <td>GTTTGTACAGGATTGTGGTCTTGCCAGCCGCATCCAAGCCAACCAT...</td>\n",
       "      <td>195.0</td>\n",
       "      <td>17</td>\n",
       "      <td>127228415.0</td>\n",
       "      <td>False</td>\n",
       "      <td>False</td>\n",
       "      <td>False</td>\n",
       "      <td>0</td>\n",
       "      <td>0</td>\n",
       "      <td>0</td>\n",
       "      <td>0</td>\n",
       "      <td>False</td>\n",
       "      <td>0</td>\n",
       "      <td>False</td>\n",
       "      <td>0</td>\n",
       "      <td>False</td>\n",
       "      <td>NaN</td>\n",
       "      <td>NaN</td>\n",
       "    </tr>\n",
       "    <tr>\n",
       "      <th>2</th>\n",
       "      <td>ENST00000000233:c.173G&gt;A</td>\n",
       "      <td>0</td>\n",
       "      <td>48.0</td>\n",
       "      <td>CCGCGTCGGTGCCCGCGCCCCTCCCCGGGCCCCGCCATGGGCCTCA...</td>\n",
       "      <td>AGCCAACCATGAGAATCCGCATCTGCTTCTTCCCGAAGATCCGCGA...</td>\n",
       "      <td>vcrs_4584635</td>\n",
       "      <td>['ENST00000000233:c.173G&gt;A']</td>\n",
       "      <td>[0]</td>\n",
       "      <td>cdna</td>\n",
       "      <td>ENST00000000233(ARF5):c.173G&gt;A</td>\n",
       "      <td>81</td>\n",
       "      <td>24</td>\n",
       "      <td>109</td>\n",
       "      <td>none</td>\n",
       "      <td>none</td>\n",
       "      <td>0</td>\n",
       "      <td>0</td>\n",
       "      <td>0</td>\n",
       "      <td>0</td>\n",
       "      <td>0</td>\n",
       "      <td>0</td>\n",
       "      <td>NaN</td>\n",
       "      <td>0</td>\n",
       "      <td>set()</td>\n",
       "      <td>0</td>\n",
       "      <td>set()</td>\n",
       "      <td>False</td>\n",
       "      <td>4</td>\n",
       "      <td>['CCCC', 'TTTT']</td>\n",
       "      <td>43</td>\n",
       "      <td>107</td>\n",
       "      <td>0.401869</td>\n",
       "      <td>substitution</td>\n",
       "      <td>False</td>\n",
       "      <td>1</td>\n",
       "      <td>AGCCAACCATGAGAATCCGCATCTGCTTCTTCCCGAAGATCCGCGA...</td>\n",
       "      <td>None</td>\n",
       "      <td>False</td>\n",
       "      <td>None</td>\n",
       "      <td>False</td>\n",
       "      <td>CTGCGCCCCATCCCCCCGCGGCCGGCCAGTTCCAGCCCGCACCCCG...</td>\n",
       "      <td>AACTTCAGTTTGTACAGGATTGTGGTCTTGCCAGCCGCATCCAAGC...</td>\n",
       "      <td>195.0</td>\n",
       "      <td>CTGCGCCCCATCCCCCCGCGGCCGGCCAGTTCCAGCCCGCACCCCG...</td>\n",
       "      <td>AACTTCAGTTTGTACAGGATTGTGGTCTTGCCAGCCGCATCCAAGC...</td>\n",
       "      <td>195.0</td>\n",
       "      <td>24</td>\n",
       "      <td>127228422.0</td>\n",
       "      <td>False</td>\n",
       "      <td>False</td>\n",
       "      <td>False</td>\n",
       "      <td>0</td>\n",
       "      <td>0</td>\n",
       "      <td>0</td>\n",
       "      <td>0</td>\n",
       "      <td>False</td>\n",
       "      <td>0</td>\n",
       "      <td>False</td>\n",
       "      <td>0</td>\n",
       "      <td>False</td>\n",
       "      <td>NaN</td>\n",
       "      <td>NaN</td>\n",
       "    </tr>\n",
       "    <tr>\n",
       "      <th>3</th>\n",
       "      <td>ENST00000000233:c.178C&gt;G</td>\n",
       "      <td>0</td>\n",
       "      <td>43.0</td>\n",
       "      <td>TCGGTGCCCGCGCCCCTCCCCGGGCCCCGCCATGGGCCTCACCGTG...</td>\n",
       "      <td>ATCCAAGCCAACCATGAGAATCCGCATCTGCTTCTTCCCGAAGATC...</td>\n",
       "      <td>vcrs_4584584</td>\n",
       "      <td>['ENST00000000233:c.178C&gt;G']</td>\n",
       "      <td>[0]</td>\n",
       "      <td>cdna</td>\n",
       "      <td>ENST00000000233(ARF5):c.178C&gt;G</td>\n",
       "      <td>81</td>\n",
       "      <td>24</td>\n",
       "      <td>109</td>\n",
       "      <td>none</td>\n",
       "      <td>none</td>\n",
       "      <td>0</td>\n",
       "      <td>0</td>\n",
       "      <td>0</td>\n",
       "      <td>0</td>\n",
       "      <td>0</td>\n",
       "      <td>0</td>\n",
       "      <td>NaN</td>\n",
       "      <td>0</td>\n",
       "      <td>set()</td>\n",
       "      <td>0</td>\n",
       "      <td>set()</td>\n",
       "      <td>False</td>\n",
       "      <td>4</td>\n",
       "      <td>['CCCC', 'TTTT']</td>\n",
       "      <td>43</td>\n",
       "      <td>107</td>\n",
       "      <td>0.401869</td>\n",
       "      <td>substitution</td>\n",
       "      <td>False</td>\n",
       "      <td>1</td>\n",
       "      <td>ATCCAAGCCAACCATGAGAATCCGCATCTGCTTCTTCCCGAAGATC...</td>\n",
       "      <td>None</td>\n",
       "      <td>False</td>\n",
       "      <td>None</td>\n",
       "      <td>False</td>\n",
       "      <td>CCCCATCCCCCCGCGGCCGGCCAGTTCCAGCCCGCACCCCGCGTCG...</td>\n",
       "      <td>CCCCCAACTTCAGTTTGTACAGGATTGTGGTCTTGCCAGCCGCATC...</td>\n",
       "      <td>195.0</td>\n",
       "      <td>CCCCATCCCCCCGCGGCCGGCCAGTTCCAGCCCGCACCCCGCGTCG...</td>\n",
       "      <td>CCCCCAACTTCAGTTTGTACAGGATTGTGGTCTTGCCAGCCGCATC...</td>\n",
       "      <td>195.0</td>\n",
       "      <td>29</td>\n",
       "      <td>127228427.0</td>\n",
       "      <td>False</td>\n",
       "      <td>False</td>\n",
       "      <td>False</td>\n",
       "      <td>0</td>\n",
       "      <td>0</td>\n",
       "      <td>0</td>\n",
       "      <td>0</td>\n",
       "      <td>False</td>\n",
       "      <td>0</td>\n",
       "      <td>False</td>\n",
       "      <td>0</td>\n",
       "      <td>False</td>\n",
       "      <td>NaN</td>\n",
       "      <td>NaN</td>\n",
       "    </tr>\n",
       "    <tr>\n",
       "      <th>4</th>\n",
       "      <td>ENST00000000233:c.186G&gt;T</td>\n",
       "      <td>0</td>\n",
       "      <td>35.0</td>\n",
       "      <td>CGCGCCCCTCCCCGGGCCCCGCCATGGGCCTCACCGTGTCCGCGCT...</td>\n",
       "      <td>CCAGCCGCATCCAAGCCAACCATGAGAATCCGCATCTGCTTCTTCC...</td>\n",
       "      <td>vcrs_4584639</td>\n",
       "      <td>['ENST00000000233:c.186G&gt;T']</td>\n",
       "      <td>[0]</td>\n",
       "      <td>cdna</td>\n",
       "      <td>ENST00000000233(ARF5):c.186G&gt;T</td>\n",
       "      <td>81</td>\n",
       "      <td>24</td>\n",
       "      <td>109</td>\n",
       "      <td>none</td>\n",
       "      <td>none</td>\n",
       "      <td>0</td>\n",
       "      <td>0</td>\n",
       "      <td>0</td>\n",
       "      <td>0</td>\n",
       "      <td>0</td>\n",
       "      <td>0</td>\n",
       "      <td>NaN</td>\n",
       "      <td>0</td>\n",
       "      <td>set()</td>\n",
       "      <td>0</td>\n",
       "      <td>set()</td>\n",
       "      <td>False</td>\n",
       "      <td>4</td>\n",
       "      <td>['CCCC', 'TTTT']</td>\n",
       "      <td>44</td>\n",
       "      <td>107</td>\n",
       "      <td>0.411215</td>\n",
       "      <td>substitution</td>\n",
       "      <td>False</td>\n",
       "      <td>1</td>\n",
       "      <td>CCAGCCGCATCCAAGCCAACCATGAGAATCCGCATCTGCTTCTTCC...</td>\n",
       "      <td>None</td>\n",
       "      <td>False</td>\n",
       "      <td>None</td>\n",
       "      <td>False</td>\n",
       "      <td>CCCCGCGGCCGGCCAGTTCCAGCCCGCACCCCGCGTCGGTGCCCGC...</td>\n",
       "      <td>GACAATCTCCCCCAACTTCAGTTTGTACAGGATTGTGGTCTTGCCA...</td>\n",
       "      <td>195.0</td>\n",
       "      <td>CCCCGCGGCCGGCCAGTTCCAGCCCGCACCCCGCGTCGGTGCCCGC...</td>\n",
       "      <td>GACAATCTCCCCCAACTTCAGTTTGTACAGGATTGTGGTCTTGCCA...</td>\n",
       "      <td>195.0</td>\n",
       "      <td>37</td>\n",
       "      <td>127228435.0</td>\n",
       "      <td>False</td>\n",
       "      <td>False</td>\n",
       "      <td>False</td>\n",
       "      <td>0</td>\n",
       "      <td>0</td>\n",
       "      <td>0</td>\n",
       "      <td>0</td>\n",
       "      <td>False</td>\n",
       "      <td>0</td>\n",
       "      <td>False</td>\n",
       "      <td>0</td>\n",
       "      <td>False</td>\n",
       "      <td>NaN</td>\n",
       "      <td>NaN</td>\n",
       "    </tr>\n",
       "  </tbody>\n",
       "</table>\n",
       "</div>"
      ],
      "text/plain": [
       "                mcrs_header  order  distance_to_nearest_splice_junction  \\\n",
       "0  ENST00000000233:c.161C>A      0                                 60.0   \n",
       "1  ENST00000000233:c.166C>T      0                                 55.0   \n",
       "2  ENST00000000233:c.173G>A      0                                 48.0   \n",
       "3  ENST00000000233:c.178C>G      0                                 43.0   \n",
       "4  ENST00000000233:c.186G>T      0                                 35.0   \n",
       "\n",
       "                                       mcrs_sequence  \\\n",
       "0  CCAGCCCGCACCCCGCGTCGGTGCCCGCGCCCCTCCCCGGGCCCCG...   \n",
       "1  CCGCACCCCGCGTCGGTGCCCGCGCCCCTCCCCGGGCCCCGCCATG...   \n",
       "2  CCGCGTCGGTGCCCGCGCCCCTCCCCGGGCCCCGCCATGGGCCTCA...   \n",
       "3  TCGGTGCCCGCGCCCCTCCCCGGGCCCCGCCATGGGCCTCACCGTG...   \n",
       "4  CGCGCCCCTCCCCGGGCCCCGCCATGGGCCTCACCGTGTCCGCGCT...   \n",
       "\n",
       "                                  mutant_sequence_rc       mcrs_id  \\\n",
       "0  GAATCCGCATCTGCTTCTTCCCGAAGATCCGCGAAAAGAGCGCGGA...  vcrs_4584647   \n",
       "1  CATGAGAATCCGCATCTGCTTCTTCCCGAAGATCCGCGAAAAGAGC...  vcrs_4584613   \n",
       "2  AGCCAACCATGAGAATCCGCATCTGCTTCTTCCCGAAGATCCGCGA...  vcrs_4584635   \n",
       "3  ATCCAAGCCAACCATGAGAATCCGCATCTGCTTCTTCCCGAAGATC...  vcrs_4584584   \n",
       "4  CCAGCCGCATCCAAGCCAACCATGAGAATCCGCATCTGCTTCTTCC...  vcrs_4584639   \n",
       "\n",
       "                    header_list order_list mcrs_source  \\\n",
       "0  ['ENST00000000233:c.161C>A']        [0]        cdna   \n",
       "1  ['ENST00000000233:c.166C>T']        [0]        cdna   \n",
       "2  ['ENST00000000233:c.173G>A']        [0]        cdna   \n",
       "3  ['ENST00000000233:c.178C>G']        [0]        cdna   \n",
       "4  ['ENST00000000233:c.186G>T']        [0]        cdna   \n",
       "\n",
       "            header_with_gene_name  number_of_mutations_in_this_gene_total  \\\n",
       "0  ENST00000000233(ARF5):c.161C>A                                      81   \n",
       "1  ENST00000000233(ARF5):c.166C>T                                      81   \n",
       "2  ENST00000000233(ARF5):c.173G>A                                      81   \n",
       "3  ENST00000000233(ARF5):c.178C>G                                      81   \n",
       "4  ENST00000000233(ARF5):c.186G>T                                      81   \n",
       "\n",
       "   mcrs_header_length  mcrs_sequence_length dlist dlist_substring  \\\n",
       "0                  24                   109  none            none   \n",
       "1                  24                   109  none            none   \n",
       "2                  24                   109  none            none   \n",
       "3                  24                   109  none            none   \n",
       "4                  24                   109  none            none   \n",
       "\n",
       "   number_of_alignments_to_normal_human_reference_cdna  \\\n",
       "0                                                  0     \n",
       "1                                                  0     \n",
       "2                                                  0     \n",
       "3                                                  0     \n",
       "4                                                  0     \n",
       "\n",
       "   number_of_alignments_to_normal_human_reference_genome  \\\n",
       "0                                                  0       \n",
       "1                                                  0       \n",
       "2                                                  0       \n",
       "3                                                  0       \n",
       "4                                                  0       \n",
       "\n",
       "   number_of_substring_matches_to_normal_human_reference_cdna  \\\n",
       "0                                                  0            \n",
       "1                                                  0            \n",
       "2                                                  0            \n",
       "3                                                  0            \n",
       "4                                                  0            \n",
       "\n",
       "   number_of_substring_matches_to_normal_human_reference_genome  \\\n",
       "0                                                  0              \n",
       "1                                                  0              \n",
       "2                                                  0              \n",
       "3                                                  0              \n",
       "4                                                  0              \n",
       "\n",
       "   number_of_alignments_to_normal_human_reference  \\\n",
       "0                                               0   \n",
       "1                                               0   \n",
       "2                                               0   \n",
       "3                                               0   \n",
       "4                                               0   \n",
       "\n",
       "   number_of_substring_matches_to_normal_human_reference  \\\n",
       "0                                                  0       \n",
       "1                                                  0       \n",
       "2                                                  0       \n",
       "3                                                  0       \n",
       "4                                                  0       \n",
       "\n",
       "   pseudoaligned_to_human_reference_despite_not_truly_aligning  \\\n",
       "0                                                NaN             \n",
       "1                                                NaN             \n",
       "2                                                NaN             \n",
       "3                                                NaN             \n",
       "4                                                NaN             \n",
       "\n",
       "   number_of_kmers_with_overlap_to_other_mcrs_items_in_mcrs_reference  \\\n",
       "0                                                  0                    \n",
       "1                                                  0                    \n",
       "2                                                  0                    \n",
       "3                                                  0                    \n",
       "4                                                  0                    \n",
       "\n",
       "  overlapping_kmers  \\\n",
       "0             set()   \n",
       "1             set()   \n",
       "2             set()   \n",
       "3             set()   \n",
       "4             set()   \n",
       "\n",
       "   number_of_mcrs_items_with_overlapping_kmers_in_mcrs_reference  \\\n",
       "0                                                  0               \n",
       "1                                                  0               \n",
       "2                                                  0               \n",
       "3                                                  0               \n",
       "4                                                  0               \n",
       "\n",
       "  mcrs_items_with_overlapping_kmers_in_mcrs_reference  \\\n",
       "0                                              set()    \n",
       "1                                              set()    \n",
       "2                                              set()    \n",
       "3                                              set()    \n",
       "4                                              set()    \n",
       "\n",
       "   kmer_overlap_in_mcrs_reference  longest_homopolymer_length  \\\n",
       "0                           False                           4   \n",
       "1                           False                           4   \n",
       "2                           False                           4   \n",
       "3                           False                           4   \n",
       "4                           False                           4   \n",
       "\n",
       "  longest_homopolymer  num_distinct_triplets  num_total_triplets  \\\n",
       "0    ['CCCC', 'TTTT']                     40                 107   \n",
       "1    ['CCCC', 'TTTT']                     42                 107   \n",
       "2    ['CCCC', 'TTTT']                     43                 107   \n",
       "3    ['CCCC', 'TTTT']                     43                 107   \n",
       "4    ['CCCC', 'TTTT']                     44                 107   \n",
       "\n",
       "   triplet_complexity mcrs_mutation_type  concatenated_headers_in_mcrs  \\\n",
       "0            0.373832       substitution                         False   \n",
       "1            0.392523       substitution                         False   \n",
       "2            0.401869       substitution                         False   \n",
       "3            0.401869       substitution                         False   \n",
       "4            0.411215       substitution                         False   \n",
       "\n",
       "   number_of_mutations_in_mcrs_header  \\\n",
       "0                                   1   \n",
       "1                                   1   \n",
       "2                                   1   \n",
       "3                                   1   \n",
       "4                                   1   \n",
       "\n",
       "                                    mcrs_sequence_rc  \\\n",
       "0  GAATCCGCATCTGCTTCTTCCCGAAGATCCGCGAAAAGAGCGCGGA...   \n",
       "1  CATGAGAATCCGCATCTGCTTCTTCCCGAAGATCCGCGAAAAGAGC...   \n",
       "2  AGCCAACCATGAGAATCCGCATCTGCTTCTTCCCGAAGATCCGCGA...   \n",
       "3  ATCCAAGCCAACCATGAGAATCCGCATCTGCTTCTTCCCGAAGATC...   \n",
       "4  CCAGCCGCATCCAAGCCAACCATGAGAATCCGCATCTGCTTCTTCC...   \n",
       "\n",
       "  entries_for_which_this_mcrs_is_substring  mcrs_is_substring  \\\n",
       "0                                     None              False   \n",
       "1                                     None              False   \n",
       "2                                     None              False   \n",
       "3                                     None              False   \n",
       "4                                     None              False   \n",
       "\n",
       "  entries_for_which_this_mcrs_is_superstring  mcrs_is_superstring  \\\n",
       "0                                       None                False   \n",
       "1                                       None                False   \n",
       "2                                       None                False   \n",
       "3                                       None                False   \n",
       "4                                       None                False   \n",
       "\n",
       "                         mutant_sequence_read_parent  \\\n",
       "0  CTCCTGCTGCTGCTGCGCCCCATCCCCCCGCGGCCGGCCAGTTCCA...   \n",
       "1  GCTGCTGCTGCGCCCCATCCCCCCGCGGCCGGCCAGTTCCAGCCCG...   \n",
       "2  CTGCGCCCCATCCCCCCGCGGCCGGCCAGTTCCAGCCCGCACCCCG...   \n",
       "3  CCCCATCCCCCCGCGGCCGGCCAGTTCCAGCCCGCACCCCGCGTCG...   \n",
       "4  CCCCGCGGCCGGCCAGTTCCAGCCCGCACCCCGCGTCGGTGCCCGC...   \n",
       "\n",
       "                      mutant_sequence_read_parent_rc  \\\n",
       "0  TACAGGATTGTGGTCTTGCCAGCCGCATCCAAGCCAACCATGAGAA...   \n",
       "1  GTTTGTACAGGATTGTGGTCTTGCCAGCCGCATCCAAGCCAACCAT...   \n",
       "2  AACTTCAGTTTGTACAGGATTGTGGTCTTGCCAGCCGCATCCAAGC...   \n",
       "3  CCCCCAACTTCAGTTTGTACAGGATTGTGGTCTTGCCAGCCGCATC...   \n",
       "4  GACAATCTCCCCCAACTTCAGTTTGTACAGGATTGTGGTCTTGCCA...   \n",
       "\n",
       "   mutant_sequence_read_parent_length  \\\n",
       "0                               195.0   \n",
       "1                               195.0   \n",
       "2                               195.0   \n",
       "3                               195.0   \n",
       "4                               195.0   \n",
       "\n",
       "                             wt_sequence_read_parent  \\\n",
       "0  CTCCTGCTGCTGCTGCGCCCCATCCCCCCGCGGCCGGCCAGTTCCA...   \n",
       "1  GCTGCTGCTGCGCCCCATCCCCCCGCGGCCGGCCAGTTCCAGCCCG...   \n",
       "2  CTGCGCCCCATCCCCCCGCGGCCGGCCAGTTCCAGCCCGCACCCCG...   \n",
       "3  CCCCATCCCCCCGCGGCCGGCCAGTTCCAGCCCGCACCCCGCGTCG...   \n",
       "4  CCCCGCGGCCGGCCAGTTCCAGCCCGCACCCCGCGTCGGTGCCCGC...   \n",
       "\n",
       "                          wt_sequence_read_parent_rc  \\\n",
       "0  TACAGGATTGTGGTCTTGCCAGCCGCATCCAAGCCAACCATGAGAA...   \n",
       "1  GTTTGTACAGGATTGTGGTCTTGCCAGCCGCATCCAAGCCAACCAT...   \n",
       "2  AACTTCAGTTTGTACAGGATTGTGGTCTTGCCAGCCGCATCCAAGC...   \n",
       "3  CCCCCAACTTCAGTTTGTACAGGATTGTGGTCTTGCCAGCCGCATC...   \n",
       "4  GACAATCTCCCCCAACTTCAGTTTGTACAGGATTGTGGTCTTGCCA...   \n",
       "\n",
       "   wt_sequence_read_parent_length  \\\n",
       "0                           195.0   \n",
       "1                           195.0   \n",
       "2                           195.0   \n",
       "3                           195.0   \n",
       "4                           195.0   \n",
       "\n",
       "   start_position_for_which_read_contains_mutation_cdna  \\\n",
       "0                                                 12      \n",
       "1                                                 17      \n",
       "2                                                 24      \n",
       "3                                                 29      \n",
       "4                                                 37      \n",
       "\n",
       "   start_position_for_which_read_contains_mutation_genome  \\\n",
       "0                                        127228410.0        \n",
       "1                                        127228415.0        \n",
       "2                                        127228422.0        \n",
       "3                                        127228427.0        \n",
       "4                                        127228435.0        \n",
       "\n",
       "   included_in_synthetic_reads  included_in_synthetic_reads_wt  \\\n",
       "0                        False                           False   \n",
       "1                        False                           False   \n",
       "2                        False                           False   \n",
       "3                        False                           False   \n",
       "4                        False                           False   \n",
       "\n",
       "   included_in_synthetic_reads_mutant list_of_read_starting_indices_wt  \\\n",
       "0                               False                                0   \n",
       "1                               False                                0   \n",
       "2                               False                                0   \n",
       "3                               False                                0   \n",
       "4                               False                                0   \n",
       "\n",
       "  list_of_read_starting_indices_mutant  number_of_reads_wt  \\\n",
       "0                                    0                   0   \n",
       "1                                    0                   0   \n",
       "2                                    0                   0   \n",
       "3                                    0                   0   \n",
       "4                                    0                   0   \n",
       "\n",
       "   number_of_reads_mutant  any_noisy_reads_wt noisy_read_indices_wt  \\\n",
       "0                       0               False                     0   \n",
       "1                       0               False                     0   \n",
       "2                       0               False                     0   \n",
       "3                       0               False                     0   \n",
       "4                       0               False                     0   \n",
       "\n",
       "   any_noisy_reads_mutant noisy_read_indices_mutant  any_noisy_reads  \\\n",
       "0                   False                         0            False   \n",
       "1                   False                         0            False   \n",
       "2                   False                         0            False   \n",
       "3                   False                         0            False   \n",
       "4                   False                         0            False   \n",
       "\n",
       "   tumor_purity  min_distance_to_splice_junction  \n",
       "0           NaN                              NaN  \n",
       "1           NaN                              NaN  \n",
       "2           NaN                              NaN  \n",
       "3           NaN                              NaN  \n",
       "4           NaN                              NaN  "
      ]
     },
     "execution_count": 70,
     "metadata": {},
     "output_type": "execute_result"
    }
   ],
   "source": [
    "unique_mcrs_df.head()"
   ]
  },
  {
   "cell_type": "code",
   "execution_count": 71,
   "metadata": {},
   "outputs": [
    {
     "name": "stderr",
     "output_type": "stream",
     "text": [
      "/tmp/ipykernel_101554/1478784701.py:1: DtypeWarning: Columns (36,38) have mixed types. Specify dtype option on import or set low_memory=False.\n",
      "  unique_mcrs_df_gatk = pd.read_csv(\"/home/jrich/data/varseek_data_fresh/manuscript_worthy/vk_sim_2024dec9_complex_testing/unique_mcrs_df_with_gatk.csv\")\n"
     ]
    }
   ],
   "source": [
    "unique_mcrs_df_gatk = pd.read_csv(\"/home/jrich/data/varseek_data_fresh/manuscript_worthy/vk_sim_2024dec9_complex_testing/unique_mcrs_df_with_gatk.csv\")\n",
    "unique_mcrs_df_gatk.drop(columns=[\"number_of_reads_mutant\", \"number_of_reads_wt\"], inplace=True)\n",
    "\n",
    "unique_mcrs_df_gatk_final = unique_mcrs_df_gatk.merge(unique_mcrs_df[['mcrs_header', \"number_of_reads_mutant\", \"number_of_reads_wt\"]], on=\"mcrs_header\", how=\"left\")"
   ]
  },
  {
   "cell_type": "code",
   "execution_count": 72,
   "metadata": {},
   "outputs": [],
   "source": [
    "unique_mcrs_df_gatk_final.to_csv(\"/home/jrich/data/varseek_data_fresh/manuscript_worthy/vk_sim_2024dec9_complex_testing/unique_mcrs_df_with_gatk.csv\", index=False)"
   ]
  },
  {
   "cell_type": "code",
   "execution_count": 21,
   "metadata": {
    "execution": {
     "iopub.execute_input": "2024-12-17T01:30:32.487801Z",
     "iopub.status.busy": "2024-12-17T01:30:32.487571Z",
     "iopub.status.idle": "2024-12-17T01:30:52.285862Z",
     "shell.execute_reply": "2024-12-17T01:30:52.285179Z"
    }
   },
   "outputs": [],
   "source": [
    "# TODO (very low priority): once I run more complex tests to verify that bus df and adata agree, then I can load in these values from bus df and remove the need to run kb count without mm\n",
    "\n",
    "adata_path = f\"{kb_count_out}/counts_unfiltered/adata.h5ad\"\n",
    "adata = ad.read_h5ad(adata_path)\n",
    "\n",
    "# Find the indices of non-zero values in adata.X\n",
    "non_zero_indices = np.nonzero(adata.X)\n",
    "\n",
    "# Get the non-zero values\n",
    "non_zero_values = np.squeeze(np.asarray(adata.X[non_zero_indices])).astype(int)\n",
    "\n",
    "# Get the corresponding gene names\n",
    "mcrs_ids = adata.var.index[non_zero_indices[1]].to_numpy().flatten()\n",
    "\n",
    "mcrs_ids = mcrs_ids.astype(str)\n",
    "\n",
    "# Create a DataFrame\n",
    "adata_df = pd.DataFrame({\n",
    "    'mcrs_id': mcrs_ids,\n",
    "    'number_of_reads_aligned_to_this_item': non_zero_values\n",
    "})\n",
    "\n",
    "unique_mcrs_df = unique_mcrs_df.merge(adata_df, on='mcrs_id', how='left')\n",
    "unique_mcrs_df['received_an_aligned_read'] = ~pd.isna(unique_mcrs_df['number_of_reads_aligned_to_this_item'])\n",
    "\n",
    "# # set to int - will need to do Int64 to work\n",
    "# unique_mcrs_df['number_of_reads_mutant'] = unique_mcrs_df['number_of_reads_mutant'].astype(int)\n",
    "# unique_mcrs_df['number_of_reads_wt'] = unique_mcrs_df['number_of_reads_wt'].astype(int)\n",
    "# unique_mcrs_df['number_of_reads_aligned_to_this_item'] = unique_mcrs_df['number_of_reads_aligned_to_this_item'].astype(int)"
   ]
  },
  {
   "cell_type": "markdown",
   "metadata": {},
   "source": [
    "## Temporary detour: make sure bus_df and adata agree"
   ]
  },
  {
   "cell_type": "code",
   "execution_count": 22,
   "metadata": {
    "execution": {
     "iopub.execute_input": "2024-12-17T01:30:52.290261Z",
     "iopub.status.busy": "2024-12-17T01:30:52.290052Z",
     "iopub.status.idle": "2024-12-17T01:30:52.293971Z",
     "shell.execute_reply": "2024-12-17T01:30:52.293393Z"
    }
   },
   "outputs": [],
   "source": [
    "# # # uncomment this cell if making adata comparisons after the notebook has concluded\n",
    "# # read_df = pd.read_csv(read_df_out_updated)\n",
    "# # unique_mcrs_df = pd.read_csv(unique_mcrs_df_out)\n",
    "\n",
    "# bus_df = pd.read_csv(\"/home/jrich/data/varseek_data_fresh/vk_sim_2024nov24_500000mcrs_k59_nov16/kb_count_out_mm/bus_df.csv\", usecols = [\"transcript_names_final\", \"counted_in_count_matrix\", \"count\"])\n",
    "\n",
    "# adata_path = f\"{kb_count_out}/counts_unfiltered/adata.h5ad\"\n",
    "# adata = ad.read_h5ad(adata_path)\n",
    "\n",
    "# # Find the indices of non-zero values in adata.X\n",
    "# non_zero_indices = np.nonzero(adata.X)\n",
    "\n",
    "# # Get the non-zero values\n",
    "# non_zero_values = np.squeeze(np.asarray(adata.X[non_zero_indices])).astype(int)\n",
    "\n",
    "# # Get the corresponding gene names\n",
    "# mcrs_ids = adata.var.index[non_zero_indices[1]].to_numpy().flatten()\n",
    "\n",
    "# mcrs_ids = mcrs_ids.astype(str)\n",
    "\n",
    "# # Create a DataFrame\n",
    "# adata_df = pd.DataFrame({\n",
    "#     'mcrs_id': mcrs_ids,\n",
    "#     'number_of_reads_aligned_to_this_item': non_zero_values\n",
    "# })"
   ]
  },
  {
   "cell_type": "code",
   "execution_count": 23,
   "metadata": {
    "execution": {
     "iopub.execute_input": "2024-12-17T01:30:52.297558Z",
     "iopub.status.busy": "2024-12-17T01:30:52.297380Z",
     "iopub.status.idle": "2024-12-17T01:30:55.302669Z",
     "shell.execute_reply": "2024-12-17T01:30:55.301962Z"
    }
   },
   "outputs": [
    {
     "name": "stderr",
     "output_type": "stream",
     "text": [
      "/tmp/ipykernel_34467/682036471.py:10: SettingWithCopyWarning: \n",
      "A value is trying to be set on a copy of a slice from a DataFrame.\n",
      "Try using .loc[row_indexer,col_indexer] = value instead\n",
      "\n",
      "See the caveats in the documentation: https://pandas.pydata.org/pandas-docs/stable/user_guide/indexing.html#returning-a-view-versus-a-copy\n",
      "  bus_df_subset['transcript_names_final'] = bus_df_subset['transcript_names_final'].apply(\n",
      "/tmp/ipykernel_34467/682036471.py:14: SettingWithCopyWarning: \n",
      "A value is trying to be set on a copy of a slice from a DataFrame.\n",
      "Try using .loc[row_indexer,col_indexer] = value instead\n",
      "\n",
      "See the caveats in the documentation: https://pandas.pydata.org/pandas-docs/stable/user_guide/indexing.html#returning-a-view-versus-a-copy\n",
      "  bus_df_subset['count_recorded_in_count_matrix'] = np.where(\n"
     ]
    },
    {
     "name": "stderr",
     "output_type": "stream",
     "text": [
      "/tmp/ipykernel_34467/682036471.py:20: SettingWithCopyWarning: \n",
      "A value is trying to be set on a copy of a slice from a DataFrame\n",
      "\n",
      "See the caveats in the documentation: https://pandas.pydata.org/pandas-docs/stable/user_guide/indexing.html#returning-a-view-versus-a-copy\n",
      "  bus_df_subset.drop(columns=['counted_in_count_matrix', 'count'], inplace=True)\n"
     ]
    },
    {
     "name": "stdout",
     "output_type": "stream",
     "text": [
      "Number of mismatches between BUS file and adata: 0\n"
     ]
    }
   ],
   "source": [
    "# from tqdm import tqdm\n",
    "# tqdm.pandas()\n",
    "\n",
    "bus_df_subset = bus_df[[\"transcript_names_final\", \"counted_in_count_matrix\", \"count\"]]\n",
    "\n",
    "if isinstance(bus_df_subset['transcript_names_final'][0], str):\n",
    "    from varseek.utils import safe_literal_eval\n",
    "    bus_df_subset[\"transcript_names_final\"] = bus_df_subset[\"transcript_names_final\"].apply(safe_literal_eval)\n",
    "\n",
    "bus_df_subset['transcript_names_final'] = bus_df_subset['transcript_names_final'].apply(\n",
    "    lambda x: x[0] if isinstance(x, list) and x else x\n",
    ")\n",
    "\n",
    "bus_df_subset['count_recorded_in_count_matrix'] = np.where(\n",
    "    bus_df_subset['counted_in_count_matrix'],  # Condition\n",
    "    bus_df_subset['count'],                   # Value if True\n",
    "    0                                  # Value if False\n",
    ")\n",
    "\n",
    "bus_df_subset.drop(columns=['counted_in_count_matrix', 'count'], inplace=True)\n",
    "\n",
    "# Group by the string representation\n",
    "bus_df_subset_grouped = bus_df_subset.groupby('transcript_names_final', as_index=False).agg({\n",
    "    'count_recorded_in_count_matrix': 'sum',\n",
    "})\n",
    "\n",
    "# # Set values in 'count' to 0 where 'counted_in_count_matrix' is False\n",
    "# bus_df_subset_grouped.loc[bus_df_subset_grouped['counted_in_count_matrix'] == False, 'count'] = 0\n",
    "\n",
    "bus_df_subset_grouped.rename(columns={\"transcript_names_final\": \"mcrs_id\", \"count_recorded_in_count_matrix\": \"count_bus\"}, inplace=True)\n",
    "\n",
    "\n",
    "bus_df_subset_grouped = bus_df_subset_grouped.merge(adata_df, on='mcrs_id', how='left')\n",
    "bus_df_subset_grouped = bus_df_subset_grouped.rename(columns={'number_of_reads_aligned_to_this_item': 'count_adata'})\n",
    "\n",
    "\n",
    "bus_df_subset_grouped['count_adata'] = bus_df_subset_grouped['count_adata'].fillna(0)\n",
    "bus_df_subset_grouped['count_bus'] = bus_df_subset_grouped['count_bus'].fillna(0)\n",
    "\n",
    "mismatch_count = (bus_df_subset_grouped['count_bus'] != bus_df_subset_grouped['count_adata']).sum()\n",
    "print(f\"Number of mismatches between BUS file and adata: {mismatch_count}\")"
   ]
  },
  {
   "cell_type": "code",
   "execution_count": 24,
   "metadata": {
    "execution": {
     "iopub.execute_input": "2024-12-17T01:30:55.306678Z",
     "iopub.status.busy": "2024-12-17T01:30:55.306476Z",
     "iopub.status.idle": "2024-12-17T01:30:56.824820Z",
     "shell.execute_reply": "2024-12-17T01:30:56.823735Z"
    }
   },
   "outputs": [
    {
     "name": "stdout",
     "output_type": "stream",
     "text": [
      "TP: 381101, FP: 0, FN: 24, TN: 4870417\n",
      "Accuracy: 0.9999954299137283, Sensitivity: 0.9999370285339455, Specificity: 1.0\n"
     ]
    },
    {
     "data": {
      "text/html": [
       "<pre style=\"white-space:pre;overflow-x:auto;line-height:normal;font-family:Menlo,'DejaVu Sans Mono',consolas,'Courier New',monospace\"><span style=\"font-style: italic\">                      Confusion Matrix                       </span>\n",
       "┏━━━━━━━━━━━━━━━━━┳━━━━━━━━━━━━━━━━━━━━┳━━━━━━━━━━━━━━━━━━━━┓\n",
       "┃<span style=\"font-weight: bold\">                 </span>┃<span style=\"font-weight: bold\"> Predicted Positive </span>┃<span style=\"font-weight: bold\"> Predicted Negative </span>┃\n",
       "┡━━━━━━━━━━━━━━━━━╇━━━━━━━━━━━━━━━━━━━━╇━━━━━━━━━━━━━━━━━━━━┩\n",
       "│ Actual Positive │       381101       │         24         │\n",
       "│ Actual Negative │         0          │      4870417       │\n",
       "└─────────────────┴────────────────────┴────────────────────┘\n",
       "</pre>\n"
      ],
      "text/plain": [
       "\u001b[3m                      Confusion Matrix                       \u001b[0m\n",
       "┏━━━━━━━━━━━━━━━━━┳━━━━━━━━━━━━━━━━━━━━┳━━━━━━━━━━━━━━━━━━━━┓\n",
       "┃\u001b[1m \u001b[0m\u001b[1m               \u001b[0m\u001b[1m \u001b[0m┃\u001b[1m \u001b[0m\u001b[1mPredicted Positive\u001b[0m\u001b[1m \u001b[0m┃\u001b[1m \u001b[0m\u001b[1mPredicted Negative\u001b[0m\u001b[1m \u001b[0m┃\n",
       "┡━━━━━━━━━━━━━━━━━╇━━━━━━━━━━━━━━━━━━━━╇━━━━━━━━━━━━━━━━━━━━┩\n",
       "│ Actual Positive │       381101       │         24         │\n",
       "│ Actual Negative │         0          │      4870417       │\n",
       "└─────────────────┴────────────────────┴────────────────────┘\n"
      ]
     },
     "metadata": {},
     "output_type": "display_data"
    },
    {
     "data": {
      "image/png": "[encoded data removed]",
      "text/plain": [
       "<Figure size 640x480 with 1 Axes>"
      ]
     },
     "metadata": {},
     "output_type": "display_data"
    }
   ],
   "source": [
    "unique_mcrs_df['TP_crude'] = (unique_mcrs_df['included_in_synthetic_reads_mutant'] & unique_mcrs_df['received_an_aligned_read'])\n",
    "unique_mcrs_df['FP_crude'] = (~unique_mcrs_df['included_in_synthetic_reads_mutant'] & unique_mcrs_df['received_an_aligned_read'])\n",
    "unique_mcrs_df['FN_crude'] = (unique_mcrs_df['included_in_synthetic_reads_mutant'] & ~unique_mcrs_df['received_an_aligned_read'])\n",
    "unique_mcrs_df['TN_crude'] = (~unique_mcrs_df['included_in_synthetic_reads_mutant'] & ~unique_mcrs_df['received_an_aligned_read'])\n",
    "\n",
    "metric_dictionary_reference = calculate_metrics(unique_mcrs_df, header_name = \"mcrs_header\", check_assertions = check_assertions, crude = True, out = f\"{plot_output_folder}/reference_metrics_crude.txt\")\n",
    "draw_confusion_matrix(metric_dictionary_reference)\n",
    "\n",
    "true_set = set(unique_mcrs_df.loc[unique_mcrs_df['included_in_synthetic_reads_mutant'], 'mcrs_header'])\n",
    "positive_set = set(unique_mcrs_df.loc[unique_mcrs_df['received_an_aligned_read'], 'mcrs_header'])\n",
    "create_venn_diagram(true_set, positive_set, TN = metric_dictionary_reference['TN'], out_path = f\"{plot_output_folder}/venn_diagram_reference_crude.png\")"
   ]
  },
  {
   "cell_type": "code",
   "execution_count": 25,
   "metadata": {
    "execution": {
     "iopub.execute_input": "2024-12-17T01:30:56.830171Z",
     "iopub.status.busy": "2024-12-17T01:30:56.829855Z",
     "iopub.status.idle": "2024-12-17T01:31:25.395517Z",
     "shell.execute_reply": "2024-12-17T01:31:25.394454Z"
    }
   },
   "outputs": [],
   "source": [
    "aligned_read_df_mutant = read_df.loc[(read_df['aligned_somewhere'] == True) & (read_df['mutant_read'] == True)]\n",
    "mcrs_counts_mutant = aligned_read_df_mutant.groupby('mcrs_id').size().reset_index(name='number_of_MUTANT_reads_belonging_to_the_mcrs_item_that_aligned_somewhere')\n",
    "\n",
    "unique_mcrs_df = unique_mcrs_df.merge(mcrs_counts_mutant, on='mcrs_id', how='left')\n",
    "unique_mcrs_df['number_of_MUTANT_reads_belonging_to_the_mcrs_item_that_aligned_somewhere'] = unique_mcrs_df['number_of_MUTANT_reads_belonging_to_the_mcrs_item_that_aligned_somewhere'].fillna(0).astype(int)\n",
    "unique_mcrs_df['number_of_MUTANT_reads_belonging_to_the_mcrs_item_that_didnt_align_anywhere'] = unique_mcrs_df['number_of_reads_mutant'] - unique_mcrs_df['number_of_MUTANT_reads_belonging_to_the_mcrs_item_that_aligned_somewhere']\n",
    "\n",
    "unique_mcrs_df['mutation_expression_prediction_error'] = unique_mcrs_df['number_of_reads_aligned_to_this_item'] - unique_mcrs_df['number_of_reads_mutant']  # positive means overpredicted, negative means underpredicted\n",
    "\n",
    "\n",
    "\n",
    "\n",
    "aligned_read_df_wt = read_df.loc[(read_df['aligned_somewhere'] == True) & (read_df['wt_read'] == True)]\n",
    "mcrs_counts_wt = aligned_read_df_wt.groupby('mcrs_id').size().reset_index(name='number_of_WT_reads_belonging_to_the_mcrs_item_that_aligned_somewhere')\n",
    "\n",
    "unique_mcrs_df = unique_mcrs_df.merge(mcrs_counts_wt, on='mcrs_id', how='left')\n",
    "unique_mcrs_df['number_of_WT_reads_belonging_to_the_mcrs_item_that_aligned_somewhere'] = unique_mcrs_df['number_of_WT_reads_belonging_to_the_mcrs_item_that_aligned_somewhere'].fillna(0).astype(int)\n",
    "unique_mcrs_df['number_of_WT_reads_belonging_to_the_mcrs_item_that_didnt_align_anywhere'] = unique_mcrs_df['number_of_reads_wt'] - unique_mcrs_df['number_of_WT_reads_belonging_to_the_mcrs_item_that_aligned_somewhere']"
   ]
  },
  {
   "cell_type": "code",
   "execution_count": 26,
   "metadata": {
    "execution": {
     "iopub.execute_input": "2024-12-17T01:31:25.400154Z",
     "iopub.status.busy": "2024-12-17T01:31:25.399930Z",
     "iopub.status.idle": "2024-12-17T01:31:42.737866Z",
     "shell.execute_reply": "2024-12-17T01:31:42.737128Z"
    }
   },
   "outputs": [],
   "source": [
    "# Step 1: Group by 'mcrs_header' and count 'aligned_to_correct_mcrs' (sum will count True as 1, False as 0)\n",
    "aligned_counts = read_df.groupby('mcrs_header')['aligned_to_correct_mcrs'].sum().reset_index()\n",
    "\n",
    "# Rename the column to something meaningful, like 'correct_alignment_count'\n",
    "aligned_counts.rename(columns={'aligned_to_correct_mcrs': 'number_of_reads_belonging_to_this_mcrs_item_that_mapped_here_correctly'}, inplace=True)\n",
    "\n",
    "# Step 2: Merge the counts with unique_mcrs_df on the 'mcrs_header' column\n",
    "unique_mcrs_df = pd.merge(unique_mcrs_df, aligned_counts, on='mcrs_header', how='left')\n",
    "\n",
    "# Fill NaN values with 0 in case some mcrs_header values in unique_mcrs_df do not appear in read_df\n",
    "unique_mcrs_df['number_of_reads_belonging_to_this_mcrs_item_that_mapped_here_correctly'].fillna(0, inplace=True)\n",
    "\n",
    "unique_mcrs_df['received_an_aligned_read_from_one_of_its_corresponding_reads'] = unique_mcrs_df['number_of_reads_belonging_to_this_mcrs_item_that_mapped_here_correctly'] > 0"
   ]
  },
  {
   "cell_type": "code",
   "execution_count": 27,
   "metadata": {
    "execution": {
     "iopub.execute_input": "2024-12-17T01:31:42.742098Z",
     "iopub.status.busy": "2024-12-17T01:31:42.741882Z",
     "iopub.status.idle": "2024-12-17T01:32:19.145702Z",
     "shell.execute_reply": "2024-12-17T01:32:19.144710Z"
    }
   },
   "outputs": [],
   "source": [
    "# Step 1: Group by 'mcrs_header_to_which_the_read_aligned' and collect 'read_header' into lists\n",
    "reads_mapped = read_df.groupby('mcrs_id_to_which_the_read_aligned')['read_header'].apply(list).reset_index()\n",
    "\n",
    "# Rename the column to 'reads_mapped_to_this_reference_item' for clarity\n",
    "reads_mapped.rename(columns={'read_header': 'reads_mapped_to_this_reference_item'}, inplace=True)\n",
    "\n",
    "# Step 2: Merge the list of read headers with unique_mcrs_df on the 'mcrs_header' column\n",
    "unique_mcrs_df = pd.merge(unique_mcrs_df, reads_mapped, left_on='mcrs_id', right_on='mcrs_id_to_which_the_read_aligned', how='left')\n",
    "unique_mcrs_df.drop(columns='mcrs_id_to_which_the_read_aligned', inplace=True)\n",
    "\n",
    "# Fill NaN values with empty lists in case there are no matching read headers for some mcrs_header values\n",
    "unique_mcrs_df['reads_mapped_to_this_reference_item'] = unique_mcrs_df['reads_mapped_to_this_reference_item'].apply(lambda x: x if isinstance(x, list) else [])\n",
    "\n",
    "unique_mcrs_df['contained_any_MUTANT_reads_belonging_to_the_mcrs_item_that_aligned_somewhere'] = unique_mcrs_df['number_of_MUTANT_reads_belonging_to_the_mcrs_item_that_aligned_somewhere'].astype(bool)\n",
    "unique_mcrs_df['contained_any_WT_reads_belonging_to_the_mcrs_item_that_aligned_somewhere'] = unique_mcrs_df['number_of_WT_reads_belonging_to_the_mcrs_item_that_aligned_somewhere'].astype(bool)"
   ]
  },
  {
   "cell_type": "code",
   "execution_count": 28,
   "metadata": {
    "execution": {
     "iopub.execute_input": "2024-12-17T01:32:19.150365Z",
     "iopub.status.busy": "2024-12-17T01:32:19.150147Z",
     "iopub.status.idle": "2024-12-17T01:32:38.467792Z",
     "shell.execute_reply": "2024-12-17T01:32:38.467182Z"
    }
   },
   "outputs": [
    {
     "name": "stdout",
     "output_type": "stream",
     "text": [
      "TP: 381101, FP: 0, FN: 24, TN: 4870417\n",
      "Accuracy: 0.9999954299137283, Sensitivity: 0.9999370285339455, Specificity: 1.0\n"
     ]
    },
    {
     "name": "stdout",
     "output_type": "stream",
     "text": [
      "Mean Expression Error: 17.074528799452114, Median Expression Error: 7.0, Mean Magnitude Expression Error: 17.074528799452114, Median Magnitude Expression Error: 7.0\n"
     ]
    },
    {
     "data": {
      "text/html": [
       "<pre style=\"white-space:pre;overflow-x:auto;line-height:normal;font-family:Menlo,'DejaVu Sans Mono',consolas,'Courier New',monospace\"><span style=\"font-style: italic\">                      Confusion Matrix                       </span>\n",
       "┏━━━━━━━━━━━━━━━━━┳━━━━━━━━━━━━━━━━━━━━┳━━━━━━━━━━━━━━━━━━━━┓\n",
       "┃<span style=\"font-weight: bold\">                 </span>┃<span style=\"font-weight: bold\"> Predicted Positive </span>┃<span style=\"font-weight: bold\"> Predicted Negative </span>┃\n",
       "┡━━━━━━━━━━━━━━━━━╇━━━━━━━━━━━━━━━━━━━━╇━━━━━━━━━━━━━━━━━━━━┩\n",
       "│ Actual Positive │       381101       │         24         │\n",
       "│ Actual Negative │         0          │      4870417       │\n",
       "└─────────────────┴────────────────────┴────────────────────┘\n",
       "</pre>\n"
      ],
      "text/plain": [
       "\u001b[3m                      Confusion Matrix                       \u001b[0m\n",
       "┏━━━━━━━━━━━━━━━━━┳━━━━━━━━━━━━━━━━━━━━┳━━━━━━━━━━━━━━━━━━━━┓\n",
       "┃\u001b[1m \u001b[0m\u001b[1m               \u001b[0m\u001b[1m \u001b[0m┃\u001b[1m \u001b[0m\u001b[1mPredicted Positive\u001b[0m\u001b[1m \u001b[0m┃\u001b[1m \u001b[0m\u001b[1mPredicted Negative\u001b[0m\u001b[1m \u001b[0m┃\n",
       "┡━━━━━━━━━━━━━━━━━╇━━━━━━━━━━━━━━━━━━━━╇━━━━━━━━━━━━━━━━━━━━┩\n",
       "│ Actual Positive │       381101       │         24         │\n",
       "│ Actual Negative │         0          │      4870417       │\n",
       "└─────────────────┴────────────────────┴────────────────────┘\n"
      ]
     },
     "metadata": {},
     "output_type": "display_data"
    },
    {
     "data": {
      "image/png": "[encoded data removed]",
      "text/plain": [
       "<Figure size 640x480 with 1 Axes>"
      ]
     },
     "metadata": {},
     "output_type": "display_data"
    },
    {
     "name": "stderr",
     "output_type": "stream",
     "text": [
      "/home/jrich/miniconda3/envs/varseek2/lib/python3.10/site-packages/matplotlib/axes/_axes.py:7037: RuntimeWarning: invalid value encountered in multiply\n",
      "  boffset = -0.5 * dr * totwidth * (1 - 1 / nx)\n"
     ]
    },
    {
     "name": "stderr",
     "output_type": "stream",
     "text": [
      "/home/jrich/Desktop/varseek/varseek/utils/visualization_utils.py:586: SettingWithCopyWarning: \n",
      "A value is trying to be set on a copy of a slice from a DataFrame.\n",
      "Try using .loc[row_indexer,col_indexer] = value instead\n",
      "\n",
      "See the caveats in the documentation: https://pandas.pydata.org/pandas-docs/stable/user_guide/indexing.html#returning-a-view-versus-a-copy\n",
      "  df[column_name] = df[column_name].abs()\n"
     ]
    },
    {
     "data": {
      "image/png": "[encoded data removed]",
      "text/plain": [
       "<Figure size 400x300 with 1 Axes>"
      ]
     },
     "metadata": {},
     "output_type": "display_data"
    },
    {
     "data": {
      "image/png": "[encoded data removed]",
      "text/plain": [
       "<Figure size 400x300 with 1 Axes>"
      ]
     },
     "metadata": {},
     "output_type": "display_data"
    },
    {
     "name": "stderr",
     "output_type": "stream",
     "text": [
      "/home/jrich/Desktop/varseek/varseek/utils/visualization_utils.py:357: FutureWarning: The default value of numeric_only in DataFrameGroupBy.sum is deprecated. In a future version, numeric_only will default to False. Either specify numeric_only or select only columns which should be valid for the function.\n",
      "  grouped_df = df.groupby(group_col).sum()\n"
     ]
    },
    {
     "data": {
      "image/png": "[encoded data removed]",
      "text/plain": [
       "<Figure size 640x480 with 1 Axes>"
      ]
     },
     "metadata": {},
     "output_type": "display_data"
    }
   ],
   "source": [
    "unique_mcrs_df['TP'] = (unique_mcrs_df['included_in_synthetic_reads_mutant'] & unique_mcrs_df['received_an_aligned_read_from_one_of_its_corresponding_reads'])\n",
    "unique_mcrs_df['FP'] = (~unique_mcrs_df['included_in_synthetic_reads_mutant'] & unique_mcrs_df['received_an_aligned_read_from_one_of_its_corresponding_reads'])\n",
    "unique_mcrs_df['FN'] = (unique_mcrs_df['included_in_synthetic_reads_mutant'] & ~unique_mcrs_df['received_an_aligned_read_from_one_of_its_corresponding_reads'])\n",
    "unique_mcrs_df['TN'] = (~unique_mcrs_df['included_in_synthetic_reads_mutant'] & ~unique_mcrs_df['received_an_aligned_read_from_one_of_its_corresponding_reads'])\n",
    "\n",
    "metric_dictionary_reference = calculate_metrics(unique_mcrs_df, header_name = \"mcrs_header\", check_assertions = check_assertions, out = f\"{plot_output_folder}/reference_metrics.txt\")\n",
    "draw_confusion_matrix(metric_dictionary_reference)\n",
    "\n",
    "true_set = set(unique_mcrs_df.loc[unique_mcrs_df['included_in_synthetic_reads_mutant'], 'mcrs_header'])\n",
    "positive_set = set(unique_mcrs_df.loc[unique_mcrs_df['received_an_aligned_read_from_one_of_its_corresponding_reads'], 'mcrs_header'])\n",
    "create_venn_diagram(true_set, positive_set, TN = metric_dictionary_reference['TN'], out_path = f\"{plot_output_folder}/venn_diagram_reference.png\")\n",
    "\n",
    "unique_mcrs_df['number_of_reads_belonging_to_this_mcrs_item_that_did_not_align_correctly'] = unique_mcrs_df['number_of_reads_mutant'] - unique_mcrs_df['number_of_reads_belonging_to_this_mcrs_item_that_mapped_here_correctly']\n",
    "unique_mcrs_df['number_of_reads_aligned_to_this_mcrs_item_that_aligned_incorrectly'] = unique_mcrs_df['number_of_reads_aligned_to_this_item'] - unique_mcrs_df['number_of_reads_belonging_to_this_mcrs_item_that_mapped_here_correctly']\n",
    "\n",
    "plot_histogram(unique_mcrs_df.loc[~unique_mcrs_df['TN']], 'mutation_expression_prediction_error', log_scale = False, out_path = f\"{plot_output_folder}/histogram_mutation_expression_prediction_error_linear_axis.png\")\n",
    "plot_histogram(unique_mcrs_df.loc[~unique_mcrs_df['TN']], 'mutation_expression_prediction_error', log_scale = True, out_path = f\"{plot_output_folder}/histogram_mutation_expression_prediction_error_log_axis.png\")\n",
    "\n",
    "metric_dictionary_reference['mutation_expression_prediction_error_abs_mean'] = unique_mcrs_df.loc[~unique_mcrs_df['TN'], 'mutation_expression_prediction_error'].abs().mean()\n",
    "create_stratified_metric_bar_plot(unique_mcrs_df, 'number_of_reads_mutant', 'expression_error', overall_metric = metric_dictionary_reference['mutation_expression_prediction_error_abs_mean'], log_x_axis = False, out_path = f\"{plot_output_folder}/expression_error_vs_number_of_reads_mutant.png\")\n",
    "# create_stratified_metric_bar_plot(unique_mcrs_df, 'min_distance_to_splice_junction', 'accuracy', overall_metric = metric_dictionary_reference['accuracy'], log_x_axis = False, bins = [-1, 0, 1, 5, 10, 50, 100, float('inf')])\n",
    "create_stratified_metric_bar_plot(unique_mcrs_df, 'number_of_reads_mutant', 'sensitivity', overall_metric = metric_dictionary_reference['sensitivity'], log_x_axis = False, out_path = f\"{plot_output_folder}/accuracy_vs_number_of_reads_mutant.png\")\n",
    "#* add more here\n",
    "#*** create similar plots for y in {sensitivity, specificity}, and x in {number_of_reads_wt, tumor_purity} and determine cutoffs for which varseek is reliable"
   ]
  },
  {
   "cell_type": "code",
   "execution_count": 29,
   "metadata": {
    "execution": {
     "iopub.execute_input": "2024-12-17T01:32:38.472818Z",
     "iopub.status.busy": "2024-12-17T01:32:38.472620Z",
     "iopub.status.idle": "2024-12-17T01:33:33.662913Z",
     "shell.execute_reply": "2024-12-17T01:33:33.661992Z"
    }
   },
   "outputs": [
    {
     "name": "stdout",
     "output_type": "stream",
     "text": [
      "Header ENST00000370532:c.247_264del\n",
      "All did not align anywhere for ENST00000370532:c.247_264del: False\n"
     ]
    },
    {
     "name": "stdout",
     "output_type": "stream",
     "text": [
      "All did not align to correct mcrs for ENST00000370532:c.247_264del: False\n",
      "All multimapped for ENST00000370532:c.247_264del: False\n",
      "Header ENST00000381902:c.53G>C\n"
     ]
    },
    {
     "name": "stdout",
     "output_type": "stream",
     "text": [
      "All did not align anywhere for ENST00000381902:c.53G>C: False\n",
      "All did not align to correct mcrs for ENST00000381902:c.53G>C: False\n"
     ]
    },
    {
     "name": "stdout",
     "output_type": "stream",
     "text": [
      "All multimapped for ENST00000381902:c.53G>C: False\n",
      "Header ENST00000399147:c.1084_1125del\n",
      "All did not align anywhere for ENST00000399147:c.1084_1125del: False\n"
     ]
    },
    {
     "name": "stdout",
     "output_type": "stream",
     "text": [
      "All did not align to correct mcrs for ENST00000399147:c.1084_1125del: False\n",
      "All multimapped for ENST00000399147:c.1084_1125del: False\n",
      "Header ENST00000421593:c.1870T>C\n"
     ]
    },
    {
     "name": "stdout",
     "output_type": "stream",
     "text": [
      "All did not align anywhere for ENST00000421593:c.1870T>C: False\n",
      "All did not align to correct mcrs for ENST00000421593:c.1870T>C: False\n"
     ]
    },
    {
     "name": "stdout",
     "output_type": "stream",
     "text": [
      "All multimapped for ENST00000421593:c.1870T>C: False\n",
      "Header ENST00000429238:c.520T>C\n",
      "All did not align anywhere for ENST00000429238:c.520T>C: False\n"
     ]
    },
    {
     "name": "stdout",
     "output_type": "stream",
     "text": [
      "All did not align to correct mcrs for ENST00000429238:c.520T>C: False\n",
      "All multimapped for ENST00000429238:c.520T>C: False\n",
      "Header ENST00000439988:c.3026T>C\n"
     ]
    },
    {
     "name": "stdout",
     "output_type": "stream",
     "text": [
      "All did not align anywhere for ENST00000439988:c.3026T>C: False\n",
      "All did not align to correct mcrs for ENST00000439988:c.3026T>C: True\n"
     ]
    },
    {
     "name": "stdout",
     "output_type": "stream",
     "text": [
      "All multimapped for ENST00000439988:c.3026T>C: False\n",
      "Header ENST00000490594:c.53A>C\n",
      "All did not align anywhere for ENST00000490594:c.53A>C: False\n"
     ]
    },
    {
     "name": "stdout",
     "output_type": "stream",
     "text": [
      "All did not align to correct mcrs for ENST00000490594:c.53A>C: False\n",
      "All multimapped for ENST00000490594:c.53A>C: False\n",
      "Header ENST00000509111:c.53C>G\n"
     ]
    },
    {
     "name": "stdout",
     "output_type": "stream",
     "text": [
      "All did not align anywhere for ENST00000509111:c.53C>G: False\n",
      "All did not align to correct mcrs for ENST00000509111:c.53C>G: False\n"
     ]
    },
    {
     "name": "stdout",
     "output_type": "stream",
     "text": [
      "All multimapped for ENST00000509111:c.53C>G: False\n",
      "Header ENST00000519718:c.431G>A\n",
      "All did not align anywhere for ENST00000519718:c.431G>A: False\n"
     ]
    },
    {
     "name": "stdout",
     "output_type": "stream",
     "text": [
      "All did not align to correct mcrs for ENST00000519718:c.431G>A: False\n",
      "All multimapped for ENST00000519718:c.431G>A: False\n",
      "Header ENST00000529564:c.672A>C\n"
     ]
    },
    {
     "name": "stdout",
     "output_type": "stream",
     "text": [
      "All did not align anywhere for ENST00000529564:c.672A>C: False\n",
      "All did not align to correct mcrs for ENST00000529564:c.672A>C: False\n"
     ]
    },
    {
     "name": "stdout",
     "output_type": "stream",
     "text": [
      "All multimapped for ENST00000529564:c.672A>C: False\n",
      "Header ENST00000546837:c.54G>A\n",
      "All did not align anywhere for ENST00000546837:c.54G>A: False\n"
     ]
    },
    {
     "name": "stdout",
     "output_type": "stream",
     "text": [
      "All did not align to correct mcrs for ENST00000546837:c.54G>A: False\n",
      "All multimapped for ENST00000546837:c.54G>A: False\n",
      "Header ENST00000555283:c.525G>C\n"
     ]
    },
    {
     "name": "stdout",
     "output_type": "stream",
     "text": [
      "All did not align anywhere for ENST00000555283:c.525G>C: False\n",
      "All did not align to correct mcrs for ENST00000555283:c.525G>C: False\n"
     ]
    },
    {
     "name": "stdout",
     "output_type": "stream",
     "text": [
      "All multimapped for ENST00000555283:c.525G>C: False\n",
      "Header ENST00000557284:c.2803C>G\n",
      "All did not align anywhere for ENST00000557284:c.2803C>G: False\n"
     ]
    },
    {
     "name": "stdout",
     "output_type": "stream",
     "text": [
      "All did not align to correct mcrs for ENST00000557284:c.2803C>G: False\n",
      "All multimapped for ENST00000557284:c.2803C>G: False\n",
      "Header ENST00000559949:c.1618T>G;ENST00000439287:c.1487T>G\n"
     ]
    },
    {
     "name": "stdout",
     "output_type": "stream",
     "text": [
      "All did not align anywhere for ENST00000559949:c.1618T>G;ENST00000439287:c.1487T>G: False\n",
      "All did not align to correct mcrs for ENST00000559949:c.1618T>G;ENST00000439287:c.1487T>G: False\n"
     ]
    },
    {
     "name": "stdout",
     "output_type": "stream",
     "text": [
      "All multimapped for ENST00000559949:c.1618T>G;ENST00000439287:c.1487T>G: False\n",
      "Header ENST00000570054:c.813C>G\n",
      "All did not align anywhere for ENST00000570054:c.813C>G: False\n"
     ]
    },
    {
     "name": "stdout",
     "output_type": "stream",
     "text": [
      "All did not align to correct mcrs for ENST00000570054:c.813C>G: True\n",
      "All multimapped for ENST00000570054:c.813C>G: False\n",
      "Header ENST00000594664:c.582C>T\n"
     ]
    },
    {
     "name": "stdout",
     "output_type": "stream",
     "text": [
      "All did not align anywhere for ENST00000594664:c.582C>T: False\n",
      "All did not align to correct mcrs for ENST00000594664:c.582C>T: False\n"
     ]
    },
    {
     "name": "stdout",
     "output_type": "stream",
     "text": [
      "All multimapped for ENST00000594664:c.582C>T: False\n",
      "Header ENST00000595676:c.391G>A\n",
      "All did not align anywhere for ENST00000595676:c.391G>A: False\n"
     ]
    },
    {
     "name": "stdout",
     "output_type": "stream",
     "text": [
      "All did not align to correct mcrs for ENST00000595676:c.391G>A: False\n",
      "All multimapped for ENST00000595676:c.391G>A: False\n",
      "Header ENST00000595842:c.54C>G\n"
     ]
    },
    {
     "name": "stdout",
     "output_type": "stream",
     "text": [
      "All did not align anywhere for ENST00000595842:c.54C>G: False\n",
      "All did not align to correct mcrs for ENST00000595842:c.54C>G: False\n"
     ]
    },
    {
     "name": "stdout",
     "output_type": "stream",
     "text": [
      "All multimapped for ENST00000595842:c.54C>G: False\n",
      "Header ENST00000598976:c.526G>A\n",
      "All did not align anywhere for ENST00000598976:c.526G>A: False\n"
     ]
    },
    {
     "name": "stdout",
     "output_type": "stream",
     "text": [
      "All did not align to correct mcrs for ENST00000598976:c.526G>A: False\n",
      "All multimapped for ENST00000598976:c.526G>A: False\n",
      "Header ENST00000599764:c.229C>G\n"
     ]
    },
    {
     "name": "stdout",
     "output_type": "stream",
     "text": [
      "All did not align anywhere for ENST00000599764:c.229C>G: False\n",
      "All did not align to correct mcrs for ENST00000599764:c.229C>G: False\n"
     ]
    },
    {
     "name": "stdout",
     "output_type": "stream",
     "text": [
      "All multimapped for ENST00000599764:c.229C>G: False\n",
      "Header ENST00000599764:c.230C>A\n",
      "All did not align anywhere for ENST00000599764:c.230C>A: False\n"
     ]
    },
    {
     "name": "stdout",
     "output_type": "stream",
     "text": [
      "All did not align to correct mcrs for ENST00000599764:c.230C>A: False\n",
      "All multimapped for ENST00000599764:c.230C>A: False\n",
      "Header ENST00000600805:c.53G>C\n"
     ]
    },
    {
     "name": "stdout",
     "output_type": "stream",
     "text": [
      "All did not align anywhere for ENST00000600805:c.53G>C: False\n",
      "All did not align to correct mcrs for ENST00000600805:c.53G>C: False\n"
     ]
    },
    {
     "name": "stdout",
     "output_type": "stream",
     "text": [
      "All multimapped for ENST00000600805:c.53G>C: False\n",
      "Header ENST00000600805:c.54C>T\n",
      "All did not align anywhere for ENST00000600805:c.54C>T: False\n"
     ]
    },
    {
     "name": "stdout",
     "output_type": "stream",
     "text": [
      "All did not align to correct mcrs for ENST00000600805:c.54C>T: False\n",
      "All multimapped for ENST00000600805:c.54C>T: False\n",
      "Header ENST00000606425:c.354C>A\n"
     ]
    },
    {
     "name": "stdout",
     "output_type": "stream",
     "text": [
      "All did not align anywhere for ENST00000606425:c.354C>A: False\n",
      "All did not align to correct mcrs for ENST00000606425:c.354C>A: False\n"
     ]
    },
    {
     "name": "stdout",
     "output_type": "stream",
     "text": [
      "All multimapped for ENST00000606425:c.354C>A: False\n",
      "Unexplainable references: 22\n"
     ]
    }
   ],
   "source": [
    "unexplainable_references = 0\n",
    "for header in metric_dictionary_reference['FNs']:\n",
    "    print(f\"Header {header}\")\n",
    "    did_not_align_anywhere = (read_df[read_df['mcrs_header'] == header])['FN_crude'].all()\n",
    "    print(f\"All did not align anywhere for {header}: {did_not_align_anywhere}\")\n",
    "    did_not_align_to_correct_position = (read_df[read_df['mcrs_header'] == header])['FN'].all()\n",
    "    print(f\"All did not align to correct mcrs for {header}: {did_not_align_to_correct_position}\")\n",
    "    multimapped = (read_df[read_df['mcrs_header'] == header])['multimapped'].all()\n",
    "    print(f\"All multimapped for {header}: {multimapped}\")\n",
    "    if not did_not_align_anywhere and not did_not_align_to_correct_position and not multimapped:\n",
    "        unexplainable_references += 1\n",
    "\n",
    "if unexplainable_references > 0:\n",
    "    print(f\"Unexplainable references: {unexplainable_references}\")\n",
    "else:\n",
    "    print(\"All explainable!\")"
   ]
  },
  {
   "cell_type": "code",
   "execution_count": 30,
   "metadata": {
    "execution": {
     "iopub.execute_input": "2024-12-17T01:33:33.666995Z",
     "iopub.status.busy": "2024-12-17T01:33:33.666769Z",
     "iopub.status.idle": "2024-12-17T01:39:37.280445Z",
     "shell.execute_reply": "2024-12-17T01:39:37.278173Z"
    }
   },
   "outputs": [],
   "source": [
    "unique_mcrs_df.to_csv(unique_mcrs_df_out, index=False)\n",
    "read_df.to_csv(read_df_out_updated, index=False)"
   ]
  },
  {
   "cell_type": "code",
   "execution_count": 33,
   "metadata": {},
   "outputs": [],
   "source": [
    "read_df.to_csv(read_df_out_updated, index=False)"
   ]
  },
  {
   "cell_type": "code",
   "execution_count": 31,
   "metadata": {
    "execution": {
     "iopub.execute_input": "2024-12-17T01:39:37.285177Z",
     "iopub.status.busy": "2024-12-17T01:39:37.284953Z",
     "iopub.status.idle": "2024-12-17T01:39:37.288732Z",
     "shell.execute_reply": "2024-12-17T01:39:37.288151Z"
    }
   },
   "outputs": [],
   "source": [
    "# read_df = pd.read_csv(read_df_out_updated)\n",
    "# unique_mcrs_df = pd.read_csv(unique_mcrs_df_out)"
   ]
  },
  {
   "cell_type": "code",
   "execution_count": 32,
   "metadata": {
    "execution": {
     "iopub.execute_input": "2024-12-17T01:39:37.292253Z",
     "iopub.status.busy": "2024-12-17T01:39:37.291992Z",
     "iopub.status.idle": "2024-12-17T01:39:37.296990Z",
     "shell.execute_reply": "2024-12-17T01:39:37.296414Z"
    }
   },
   "outputs": [
    {
     "name": "stdout",
     "output_type": "stream",
     "text": [
      "Index(['read_id', 'read_header', 'read_sequence', 'read_index', 'read_strand',\n",
      "       'reference_header', 'mcrs_id', 'mcrs_header', 'mcrs_mutation_type',\n",
      "       'mutant_read', 'wt_read', 'region_included_in_mcrs_reference',\n",
      "       'noise_added', 'aligned_somewhere', 'TP_crude', 'FP_crude', 'FN_crude',\n",
      "       'TN_crude', 'multimapped', 'mcrs_id_to_which_the_read_aligned',\n",
      "       'aligned_to_correct_mcrs',\n",
      "       'aligned_to_correct_mcrs_including_multimapped', 'TP', 'FP', 'FN', 'TN',\n",
      "       'reason_for_fn'],\n",
      "      dtype='object')\n",
      "Index(['mcrs_header', 'order', 'distance_to_nearest_splice_junction',\n",
      "       'mcrs_sequence', 'mutant_sequence_rc', 'mcrs_id', 'header_list',\n",
      "       'order_list', 'mcrs_source', 'header_with_gene_name',\n",
      "       'number_of_mutations_in_this_gene_total', 'mcrs_header_length',\n",
      "       'mcrs_sequence_length', 'dlist', 'dlist_substring',\n",
      "       'number_of_alignments_to_normal_human_reference_cdna',\n",
      "       'number_of_alignments_to_normal_human_reference_genome',\n",
      "       'number_of_substring_matches_to_normal_human_reference_cdna',\n",
      "       'number_of_substring_matches_to_normal_human_reference_genome',\n",
      "       'number_of_alignments_to_normal_human_reference',\n",
      "       'number_of_substring_matches_to_normal_human_reference',\n",
      "       'pseudoaligned_to_human_reference_despite_not_truly_aligning',\n",
      "       'number_of_kmers_with_overlap_to_other_mcrs_items_in_mcrs_reference',\n",
      "       'overlapping_kmers',\n",
      "       'number_of_mcrs_items_with_overlapping_kmers_in_mcrs_reference',\n",
      "       'mcrs_items_with_overlapping_kmers_in_mcrs_reference',\n",
      "       'kmer_overlap_in_mcrs_reference', 'longest_homopolymer_length',\n",
      "       'longest_homopolymer', 'num_distinct_triplets', 'num_total_triplets',\n",
      "       'triplet_complexity', 'mcrs_mutation_type',\n",
      "       'concatenated_headers_in_mcrs', 'number_of_mutations_in_mcrs_header',\n",
      "       'mcrs_sequence_rc', 'entries_for_which_this_mcrs_is_substring',\n",
      "       'mcrs_is_substring', 'entries_for_which_this_mcrs_is_superstring',\n",
      "       'mcrs_is_superstring', 'mutant_sequence_read_parent',\n",
      "       'mutant_sequence_read_parent_rc', 'mutant_sequence_read_parent_length',\n",
      "       'wt_sequence_read_parent', 'wt_sequence_read_parent_rc',\n",
      "       'wt_sequence_read_parent_length',\n",
      "       'start_position_for_which_read_contains_mutation_cdna',\n",
      "       'start_position_for_which_read_contains_mutation_genome',\n",
      "       'included_in_synthetic_reads', 'included_in_synthetic_reads_wt',\n",
      "       'included_in_synthetic_reads_mutant',\n",
      "       'list_of_read_starting_indices_wt',\n",
      "       'list_of_read_starting_indices_mutant', 'number_of_reads_wt',\n",
      "       'number_of_reads_mutant', 'any_noisy_reads_wt', 'noisy_read_indices_wt',\n",
      "       'any_noisy_reads_mutant', 'noisy_read_indices_mutant',\n",
      "       'any_noisy_reads', 'tumor_purity', 'min_distance_to_splice_junction',\n",
      "       'number_of_reads_aligned_to_this_item', 'received_an_aligned_read',\n",
      "       'TP_crude', 'FP_crude', 'FN_crude', 'TN_crude',\n",
      "       'number_of_MUTANT_reads_belonging_to_the_mcrs_item_that_aligned_somewhere',\n",
      "       'number_of_MUTANT_reads_belonging_to_the_mcrs_item_that_didnt_align_anywhere',\n",
      "       'mutation_expression_prediction_error',\n",
      "       'number_of_WT_reads_belonging_to_the_mcrs_item_that_aligned_somewhere',\n",
      "       'number_of_WT_reads_belonging_to_the_mcrs_item_that_didnt_align_anywhere',\n",
      "       'number_of_reads_belonging_to_this_mcrs_item_that_mapped_here_correctly',\n",
      "       'received_an_aligned_read_from_one_of_its_corresponding_reads',\n",
      "       'reads_mapped_to_this_reference_item',\n",
      "       'contained_any_MUTANT_reads_belonging_to_the_mcrs_item_that_aligned_somewhere',\n",
      "       'contained_any_WT_reads_belonging_to_the_mcrs_item_that_aligned_somewhere',\n",
      "       'TP', 'FP', 'FN', 'TN',\n",
      "       'number_of_reads_belonging_to_this_mcrs_item_that_did_not_align_correctly',\n",
      "       'number_of_reads_aligned_to_this_mcrs_item_that_aligned_incorrectly'],\n",
      "      dtype='object')\n",
      "Index(['mcrs_header', 'order', 'distance_to_nearest_splice_junction',\n",
      "       'mcrs_sequence', 'mutant_sequence_rc', 'mcrs_id', 'header_list',\n",
      "       'order_list', 'mcrs_source', 'header_with_gene_name',\n",
      "       'number_of_mutations_in_this_gene_total', 'mcrs_header_length',\n",
      "       'mcrs_sequence_length', 'dlist', 'dlist_substring',\n",
      "       'number_of_alignments_to_normal_human_reference_cdna',\n",
      "       'number_of_alignments_to_normal_human_reference_genome',\n",
      "       'number_of_substring_matches_to_normal_human_reference_cdna',\n",
      "       'number_of_substring_matches_to_normal_human_reference_genome',\n",
      "       'number_of_alignments_to_normal_human_reference',\n",
      "       'number_of_substring_matches_to_normal_human_reference',\n",
      "       'pseudoaligned_to_human_reference_despite_not_truly_aligning',\n",
      "       'number_of_kmers_with_overlap_to_other_mcrs_items_in_mcrs_reference',\n",
      "       'overlapping_kmers',\n",
      "       'number_of_mcrs_items_with_overlapping_kmers_in_mcrs_reference',\n",
      "       'mcrs_items_with_overlapping_kmers_in_mcrs_reference',\n",
      "       'kmer_overlap_in_mcrs_reference', 'longest_homopolymer_length',\n",
      "       'longest_homopolymer', 'num_distinct_triplets', 'num_total_triplets',\n",
      "       'triplet_complexity', 'mcrs_mutation_type',\n",
      "       'concatenated_headers_in_mcrs', 'number_of_mutations_in_mcrs_header',\n",
      "       'mcrs_sequence_rc', 'entries_for_which_this_mcrs_is_substring',\n",
      "       'mcrs_is_substring', 'entries_for_which_this_mcrs_is_superstring',\n",
      "       'mcrs_is_superstring', 'mutant_sequence_read_parent',\n",
      "       'mutant_sequence_read_parent_rc', 'mutant_sequence_read_parent_length',\n",
      "       'wt_sequence_read_parent', 'wt_sequence_read_parent_rc',\n",
      "       'wt_sequence_read_parent_length',\n",
      "       'start_position_for_which_read_contains_mutation_cdna',\n",
      "       'start_position_for_which_read_contains_mutation_genome',\n",
      "       'included_in_synthetic_reads', 'included_in_synthetic_reads_wt',\n",
      "       'included_in_synthetic_reads_mutant',\n",
      "       'list_of_read_starting_indices_wt',\n",
      "       'list_of_read_starting_indices_mutant', 'number_of_reads_wt',\n",
      "       'number_of_reads_mutant', 'any_noisy_reads_wt', 'noisy_read_indices_wt',\n",
      "       'any_noisy_reads_mutant', 'noisy_read_indices_mutant',\n",
      "       'any_noisy_reads', 'tumor_purity'],\n",
      "      dtype='object')\n"
     ]
    }
   ],
   "source": [
    "print(read_df.columns)\n",
    "print(unique_mcrs_df.columns)\n",
    "print(mutation_metadata_df.columns)"
   ]
  },
  {
   "cell_type": "code",
   "execution_count": 33,
   "metadata": {
    "execution": {
     "iopub.execute_input": "2024-12-17T01:39:37.301085Z",
     "iopub.status.busy": "2024-12-17T01:39:37.300837Z",
     "iopub.status.idle": "2024-12-17T01:39:37.303829Z",
     "shell.execute_reply": "2024-12-17T01:39:37.303294Z"
    }
   },
   "outputs": [],
   "source": [
    "# eg /home/jrich/data/varseek_data_fresh/vk_sim_2024nov24_temp/plots/read_metrics.txt or /home/jrich/data/varseek_data_fresh/vk_sim_2024nov24_temp/plots/reference_metrics.txt\n",
    "# no_noise_read_metrics = \"\"\n",
    "# substitution_noise_read_metrics = \"\"\n",
    "# deletion_noise_read_metrics = \"\"\n",
    "# insertion_noise_read_metrics = \"\"\n",
    "# all_noise_read_metrics = \"\"\n",
    "# metric = \"accuracy\"\n",
    "\n",
    "# from varseek.utils import retrieve_value_from_metric_file\n",
    "\n",
    "# accuracy_dict = {}\n",
    "# accuracy_dict['No Noise'] = retrieve_value_from_metric_file(metric, no_noise_read_metrics)\n",
    "# accuracy_dict['Substitution Noise'] = retrieve_value_from_metric_file(metric, substitution_noise_read_metrics)\n",
    "# accuracy_dict['Deletion Noise'] = retrieve_value_from_metric_file(metric, deletion_noise_read_metrics)\n",
    "# accuracy_dict['Insertion Noise'] = retrieve_value_from_metric_file(metric, insertion_noise_read_metrics)\n",
    "# accuracy_dict['All Noise'] = retrieve_value_from_metric_file(metric, all_noise_read_metrics)\n",
    "\n",
    "# from matplotlib import pyplot as plt\n",
    "\n",
    "# plot_basic_bar_plot_from_dict(accuracy_dict, y_axis=metric)"
   ]
  },
  {
   "cell_type": "markdown",
   "metadata": {},
   "source": [
    "## Validating with kb extract"
   ]
  },
  {
   "cell_type": "code",
   "execution_count": 34,
   "metadata": {
    "execution": {
     "iopub.execute_input": "2024-12-17T01:39:37.307094Z",
     "iopub.status.busy": "2024-12-17T01:39:37.306854Z",
     "iopub.status.idle": "2024-12-17T01:39:37.309894Z",
     "shell.execute_reply": "2024-12-17T01:39:37.309378Z"
    }
   },
   "outputs": [],
   "source": [
    "# kb_extract_out_all_slow = f\"{out_dir_notebook}/kb_extract_out_all_slow\"\n",
    "# df_extract_combined = pd.DataFrame(columns=['read_id', 'mcrs_id_to_which_the_read_aligned_kb_extract'])\n",
    "\n",
    "# if strand is None or strand == \"both\":\n",
    "#     strand_kb_extract = \"unstranded\"\n",
    "# elif strand == \"f\":\n",
    "#     strand_kb_extract = \"forward\"\n",
    "# elif strand == \"r\":\n",
    "#     strand_kb_extract = \"reverse\"\n",
    "\n",
    "# # # running with --extract_all will make all ~5.3M reference items as the targets, which is much longer than manually defining the list of mutations as my targets - but I would imagine the outcome is the same; also, extract_all will output all files at once rather than one at a time (not good if I want to check progress throughout or break up for multithreading, but it can avoid the issue where mcrs_string_with_aligned_reads is too many characters)\n",
    "# # kb_extract_command = f\"kb extract --strand {strand_kb_extract} --verbose -k {k} -t {threads} --extract_all -o {kb_extract_out_all_slow} -i {mutation_index} -g {mutation_t2g} {synthetic_reads_fastQ}\"\n",
    "# adata_path = f\"{kb_count_out}/counts_unfiltered/adata.h5ad\"\n",
    "# mapped_mutations_string = find_genes_with_aligned_reads_for_kb_extract(adata_path)\n",
    "# mcrs_set_with_aligned_reads = set(mapped_mutations_string.split())\n",
    "# mcrs_string_with_aligned_reads = ' '.join(f\"'{x}'\" for x in mcrs_set_with_aligned_reads)\n",
    "# kb_extract_command = f\"kb extract --verbose -k {k} --mm -t {threads} --targets {mcrs_string_with_aligned_reads} -o {kb_extract_out_all_slow} -i {mutation_index} -g {mutation_t2g} {synthetic_reads_fastQ}\"\n",
    "\n",
    "# print(kb_extract_command)"
   ]
  },
  {
   "cell_type": "markdown",
   "metadata": {},
   "source": [
    "run the command in tmux!"
   ]
  },
  {
   "cell_type": "code",
   "execution_count": 35,
   "metadata": {
    "execution": {
     "iopub.execute_input": "2024-12-17T01:39:37.313154Z",
     "iopub.status.busy": "2024-12-17T01:39:37.312920Z",
     "iopub.status.idle": "2024-12-17T01:39:37.316461Z",
     "shell.execute_reply": "2024-12-17T01:39:37.315936Z"
    }
   },
   "outputs": [],
   "source": [
    "# if 'bus_df' not in globals():\n",
    "#     from varseek.utils import make_bus_df\n",
    "#     bus_df = make_bus_df(kallisto_out = kb_count_out_mm, fastq_file_list = synthetic_reads_fastQ, t2g_file = mutation_t2g, mm = True, union = False, assay = \"bulk\", bustools = \"/home/jrich/miniconda3/envs/varseek/lib/python3.10/site-packages/kb_python/bins/linux/bustools/bustools\")\n",
    "#     bus_df.rename(columns={\"fastq_header\": \"read_id\"}, inplace=True)\n",
    "\n",
    "# # add some code here to check where these map\n",
    "# for subdir in os.listdir(kb_extract_out_all_slow):\n",
    "#     subdir_path = os.path.join(kb_extract_out_all_slow, subdir)\n",
    "#     if os.path.isdir(subdir_path):\n",
    "#         fastq_file = os.path.join(subdir_path, '1.fastq.gz')\n",
    "#         if os.path.exists(fastq_file):\n",
    "#             # Run get_header_set_from_fastq for the fastq file\n",
    "#             aligned_reads_kb_extract = get_header_set_from_fastq(fastq_file)\n",
    "#             df_temp = pd.DataFrame(aligned_reads_kb_extract, columns=['read_id'])\n",
    "#             df_temp['mcrs_id_to_which_the_read_aligned_kb_extract'] = subdir  # Add subdirectory info\n",
    "#             df_extract_combined = pd.concat([df_extract_combined, df_temp], ignore_index=True)  # Concatenate the new DataFrame with df_extract_combined\n",
    "\n",
    "# df_extract_combined = df_extract_combined.groupby('read_id')['mcrs_id_to_which_the_read_aligned_kb_extract'].apply(list).reset_index()\n",
    "\n",
    "# df_extract_combined = df_extract_combined.merge(bus_df[[\"read_id\", \"gene_names_final\"]], on='read_id', how='left')\n",
    "# df_extract_combined.rename(columns={\"gene_names_final\": \"mcrs_id_to_which_the_read_aligned_bus_df\"}, inplace=True)\n",
    "# mismatch_count_kb_extract = (df_extract_combined['mcrs_id_to_which_the_read_aligned_bus_df'] != df_extract_combined['mcrs_id_to_which_the_read_aligned_kb_extract']).sum()\n",
    "# print(f\"Number of mismatches between BUS file and kb extract: {mismatch_count_kb_extract}\")"
   ]
  }
 ],
 "metadata": {
  "kernelspec": {
   "display_name": "varseek2",
   "language": "python",
   "name": "python3"
  },
  "language_info": {
   "codemirror_mode": {
    "name": "ipython",
    "version": 3
   },
   "file_extension": ".py",
   "mimetype": "text/x-python",
   "name": "python",
   "nbconvert_exporter": "python",
   "pygments_lexer": "ipython3",
   "version": "3.10.15"
  }
 },
 "nbformat": 4,
 "nbformat_minor": 2
}
