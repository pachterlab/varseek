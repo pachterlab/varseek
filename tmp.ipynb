{
 "cells": [
  {
   "cell_type": "code",
   "execution_count": null,
   "metadata": {},
   "outputs": [
    {
     "name": "stderr",
     "output_type": "stream",
     "text": [
      "20:43:18 - INFO - Copying df internally to avoid in-place modifications\n",
      "20:43:18 - INFO - Removing unknown mutations\n",
      "20:43:22 - INFO - Removing unsupported mutation types\n",
      "20:43:22 - INFO - Uncertain mutations: 0\n",
      "20:43:22 - INFO - Ambiguous position mutations: 0\n",
      "20:43:22 - INFO - Intronic mutations: 368\n",
      "20:43:22 - INFO - Posttranslational region mutations: 0\n",
      "20:43:22 - INFO - Sorting df\n",
      "20:43:25 - INFO - Determining mutation positions\n",
      "20:43:37 - INFO - Removing version numbers in in fasta headers for /Users/joeyrich/Desktop/local/varseek/data/reference/ensembl_grch37_release93/Homo_sapiens.GRCh37.cdna.all.fa\n",
      "20:43:38 - INFO - Building pyfastx index for /Users/joeyrich/Desktop/local/varseek/data/reference/ensembl_grch37_release93/Homo_sapiens.GRCh37.cdna.all.fa\n",
      "20:43:38 - INFO - Removing version numbers in in fasta headers for /Users/joeyrich/Desktop/local/varseek/data/reference/ensembl_grch37_release93/Homo_sapiens.GRCh37.cds.all.fa\n",
      "20:43:38 - INFO - Building pyfastx index for /Users/joeyrich/Desktop/local/varseek/data/reference/ensembl_grch37_release93/Homo_sapiens.GRCh37.cds.all.fa\n",
      "Processing rows: 100%|██████████| 5418874/5418874 [05:55<00:00, 15261.31it/s]\n",
      "20:49:33 - INFO - Number of bad mutations: 0\n",
      "20:49:33 - INFO - Merging dfs\n",
      "20:49:40 - INFO - Cleaning up temporary files...\n",
      "20:49:41 - INFO - Copying df internally to avoid in-place modifications\n",
      "20:49:41 - INFO - Removing unknown mutations\n",
      "20:49:44 - INFO - Removing unsupported mutation types\n",
      "20:49:44 - INFO - Uncertain mutations: 0\n",
      "20:49:44 - INFO - Ambiguous position mutations: 0\n",
      "20:49:44 - INFO - Intronic mutations: 368\n",
      "20:49:44 - INFO - Posttranslational region mutations: 0\n",
      "20:49:45 - INFO - Sorting df\n",
      "20:49:47 - INFO - Determining mutation positions\n",
      "20:50:13 - INFO - Removing version numbers in in fasta headers for /Users/joeyrich/Desktop/local/varseek/data/reference/ensembl_grch37_release93/Homo_sapiens.GRCh37.cdna.all.fa\n",
      "20:50:13 - INFO - Building pyfastx index for /Users/joeyrich/Desktop/local/varseek/data/reference/ensembl_grch37_release93/Homo_sapiens.GRCh37.cdna.all.fa\n",
      "20:50:13 - INFO - Removing version numbers in in fasta headers for /Users/joeyrich/Desktop/local/varseek/data/reference/ensembl_grch37_release93/Homo_sapiens.GRCh37.cds.all.fa\n",
      "20:50:14 - INFO - Building pyfastx index for /Users/joeyrich/Desktop/local/varseek/data/reference/ensembl_grch37_release93/Homo_sapiens.GRCh37.cds.all.fa\n",
      "Processing rows: 100%|██████████| 5418874/5418874 [05:53<00:00, 15349.35it/s]\n",
      "20:56:07 - INFO - Number of bad mutations: 0\n",
      "20:56:07 - INFO - Merging dfs\n",
      "20:56:15 - INFO - Cleaning up temporary files...\n"
     ]
    }
   ],
   "source": [
    "import pandas as pd\n",
    "import pyfastx\n",
    "from tqdm import tqdm\n",
    "from varseek.utils import convert_mutation_cds_locations_to_cdna, convert_mutation_cds_locations_to_cdna_old, count_leading_Ns\n",
    "\n",
    "input_df_path = \"/Users/joeyrich/Desktop/local/varseek/data/reference/cosmic/CancerMutationCensus_AllData_Tsv_v101_GRCh37/CancerMutationCensus_AllData_v101_GRCh37_mutation_workflow.csv\"\n",
    "cdna_fasta_path = \"/Users/joeyrich/Desktop/local/varseek/data/reference/ensembl_grch37_release93/Homo_sapiens.GRCh37.cdna.all.fa\"\n",
    "cds_fasta_path = \"/Users/joeyrich/Desktop/local/varseek/data/reference/ensembl_grch37_release93/Homo_sapiens.GRCh37.cds.all.fa\"\n",
    "\n",
    "cdna = pyfastx.Fastx(cdna_fasta_path)\n",
    "cds = pyfastx.Fastx(cds_fasta_path)\n",
    "\n",
    "input_df = pd.read_csv(input_df_path, usecols=[\"seq_ID\", \"mutation\"])\n",
    "output_df, _ = convert_mutation_cds_locations_to_cdna(input_df, cdna_fasta_path, cds_fasta_path, output_csv_path=None, verbose=True, strip_leading_Ns_cds=False)\n",
    "output_df_old, _ = convert_mutation_cds_locations_to_cdna(input_df, cdna_fasta_path, cds_fasta_path, output_csv_path=None, verbose=True, strip_leading_Ns_cds=True)\n",
    "\n",
    "output_df = output_df.merge(output_df_old, on=[\"seq_ID\", \"mutation\"], suffixes=[\"_new\", \"_old\"])  # new has Ns, old has no Ns (ie stripped off)"
   ]
  },
  {
   "cell_type": "code",
   "execution_count": 2,
   "metadata": {},
   "outputs": [],
   "source": [
    "output_df_cosmic = output_df.copy()\n",
    "output_df_old_cosmic = output_df_old.copy()"
   ]
  },
  {
   "cell_type": "code",
   "execution_count": 24,
   "metadata": {},
   "outputs": [],
   "source": [
    "output_df = output_df.merge(output_df_old, on=[\"seq_ID\", \"mutation\"], suffixes=[\"_new\", \"_old\"])  # new has Ns, old has no Ns (ie stripped off)"
   ]
  },
  {
   "cell_type": "code",
   "execution_count": 25,
   "metadata": {},
   "outputs": [
    {
     "data": {
      "application/vnd.microsoft.datawrangler.viewer.v0+json": {
       "columns": [
        {
         "name": "index",
         "rawType": "int64",
         "type": "integer"
        },
        {
         "name": "seq_ID",
         "rawType": "object",
         "type": "string"
        },
        {
         "name": "mutation",
         "rawType": "object",
         "type": "string"
        },
        {
         "name": "mutation_cdna_new",
         "rawType": "object",
         "type": "string"
        },
        {
         "name": "mutation_cdna_old",
         "rawType": "object",
         "type": "string"
        },
        {
         "name": "mutation_cdna",
         "rawType": "object",
         "type": "string"
        }
       ],
       "conversionMethod": "pd.DataFrame",
       "ref": "10575114-2416-4b12-a79b-fd38c68fdcaa",
       "rows": [
        [
         "0",
         "ENST00000396153",
         "c.1468C>T",
         "c.1920C>T",
         "c.1920C>T",
         "c.1920C>T"
        ],
        [
         "1",
         "ENST00000445907",
         "c.162C>A",
         "c.690C>A",
         "c.690C>A",
         "c.690C>A"
        ],
        [
         "2",
         "ENST00000445907",
         "c.617A>T",
         "c.1145A>T",
         "c.1145A>T",
         "c.1145A>T"
        ],
        [
         "3",
         "ENST00000445907",
         "c.93A>T",
         "c.621A>T",
         "c.621A>T",
         "c.621A>T"
        ],
        [
         "4",
         "ENST00000445907",
         "c.956A>C",
         "c.1484A>C",
         "c.1484A>C",
         "c.1484A>C"
        ]
       ],
       "shape": {
        "columns": 5,
        "rows": 5
       }
      },
      "text/html": [
       "<div>\n",
       "<style scoped>\n",
       "    .dataframe tbody tr th:only-of-type {\n",
       "        vertical-align: middle;\n",
       "    }\n",
       "\n",
       "    .dataframe tbody tr th {\n",
       "        vertical-align: top;\n",
       "    }\n",
       "\n",
       "    .dataframe thead th {\n",
       "        text-align: right;\n",
       "    }\n",
       "</style>\n",
       "<table border=\"1\" class=\"dataframe\">\n",
       "  <thead>\n",
       "    <tr style=\"text-align: right;\">\n",
       "      <th></th>\n",
       "      <th>seq_ID</th>\n",
       "      <th>mutation</th>\n",
       "      <th>mutation_cdna_new</th>\n",
       "      <th>mutation_cdna_old</th>\n",
       "      <th>mutation_cdna</th>\n",
       "    </tr>\n",
       "  </thead>\n",
       "  <tbody>\n",
       "    <tr>\n",
       "      <th>0</th>\n",
       "      <td>ENST00000396153</td>\n",
       "      <td>c.1468C&gt;T</td>\n",
       "      <td>c.1920C&gt;T</td>\n",
       "      <td>c.1920C&gt;T</td>\n",
       "      <td>c.1920C&gt;T</td>\n",
       "    </tr>\n",
       "    <tr>\n",
       "      <th>1</th>\n",
       "      <td>ENST00000445907</td>\n",
       "      <td>c.162C&gt;A</td>\n",
       "      <td>c.690C&gt;A</td>\n",
       "      <td>c.690C&gt;A</td>\n",
       "      <td>c.690C&gt;A</td>\n",
       "    </tr>\n",
       "    <tr>\n",
       "      <th>2</th>\n",
       "      <td>ENST00000445907</td>\n",
       "      <td>c.617A&gt;T</td>\n",
       "      <td>c.1145A&gt;T</td>\n",
       "      <td>c.1145A&gt;T</td>\n",
       "      <td>c.1145A&gt;T</td>\n",
       "    </tr>\n",
       "    <tr>\n",
       "      <th>3</th>\n",
       "      <td>ENST00000445907</td>\n",
       "      <td>c.93A&gt;T</td>\n",
       "      <td>c.621A&gt;T</td>\n",
       "      <td>c.621A&gt;T</td>\n",
       "      <td>c.621A&gt;T</td>\n",
       "    </tr>\n",
       "    <tr>\n",
       "      <th>4</th>\n",
       "      <td>ENST00000445907</td>\n",
       "      <td>c.956A&gt;C</td>\n",
       "      <td>c.1484A&gt;C</td>\n",
       "      <td>c.1484A&gt;C</td>\n",
       "      <td>c.1484A&gt;C</td>\n",
       "    </tr>\n",
       "  </tbody>\n",
       "</table>\n",
       "</div>"
      ],
      "text/plain": [
       "            seq_ID   mutation mutation_cdna_new mutation_cdna_old  \\\n",
       "0  ENST00000396153  c.1468C>T         c.1920C>T         c.1920C>T   \n",
       "1  ENST00000445907   c.162C>A          c.690C>A          c.690C>A   \n",
       "2  ENST00000445907   c.617A>T         c.1145A>T         c.1145A>T   \n",
       "3  ENST00000445907    c.93A>T          c.621A>T          c.621A>T   \n",
       "4  ENST00000445907   c.956A>C         c.1484A>C         c.1484A>C   \n",
       "\n",
       "  mutation_cdna  \n",
       "0     c.1920C>T  \n",
       "1      c.690C>A  \n",
       "2     c.1145A>T  \n",
       "3      c.621A>T  \n",
       "4     c.1484A>C  "
      ]
     },
     "execution_count": 25,
     "metadata": {},
     "output_type": "execute_result"
    }
   ],
   "source": [
    "output_df.head()"
   ]
  },
  {
   "cell_type": "code",
   "execution_count": 27,
   "metadata": {},
   "outputs": [
    {
     "data": {
      "application/vnd.microsoft.datawrangler.viewer.v0+json": {
       "columns": [
        {
         "name": "index",
         "rawType": "int64",
         "type": "integer"
        },
        {
         "name": "seq_ID",
         "rawType": "object",
         "type": "string"
        },
        {
         "name": "mutation",
         "rawType": "object",
         "type": "string"
        },
        {
         "name": "mutation_cdna_new",
         "rawType": "object",
         "type": "string"
        },
        {
         "name": "mutation_cdna_old",
         "rawType": "object",
         "type": "string"
        },
        {
         "name": "mutation_cdna",
         "rawType": "object",
         "type": "string"
        }
       ],
       "conversionMethod": "pd.DataFrame",
       "ref": "77bea289-ca1c-4855-8454-25bede18a75b",
       "rows": [
        [
         "6113",
         "ENST00000403951",
         "c.1437-1_1437insAATAATAA",
         null,
         null,
         null
        ],
        [
         "91550",
         "ENST00000264029",
         "c.1705-1_1705insC",
         null,
         null,
         null
        ],
        [
         "116766",
         "ENST00000243077",
         "c.12439_12439+1insTGACTAACCCCT",
         null,
         null,
         null
        ],
        [
         "126093",
         "ENST00000323301",
         "c.129_129+1insTTTAC",
         null,
         null,
         null
        ],
        [
         "130508",
         "ENST00000371372",
         "c.284_284+1insTCCATTCGAGTATATGATCCTGGCCACCATC",
         null,
         null,
         null
        ],
        [
         "130630",
         "ENST00000371372",
         "c.284_284+1insTCC",
         null,
         null,
         null
        ],
        [
         "132079",
         "ENST00000371372",
         "c.284_284+1insTCCATTCGAGTATATGATCCTGGCCACC",
         null,
         null,
         null
        ],
        [
         "146542",
         "ENST00000280886",
         "c.1260_1260+1insA",
         null,
         null,
         null
        ],
        [
         "155052",
         "ENST00000463117",
         "c.967_967+1insAGAAACTTCATGAAGAAATT",
         null,
         null,
         null
        ],
        [
         "169197",
         "ENST00000271588",
         "c.4909_4909+1insTT",
         null,
         null,
         null
        ],
        [
         "174568",
         "ENST00000367362",
         "c.1111-1_1111insT",
         null,
         null,
         null
        ],
        [
         "176115",
         "ENST00000358432",
         "c.980-1_980insAC",
         null,
         null,
         null
        ],
        [
         "210516",
         "ENST00000394885",
         "c.251-1_251insT",
         null,
         null,
         null
        ],
        [
         "239165",
         "ENST00000406462",
         "c.1815_1815+1insCTTCTAG",
         null,
         null,
         null
        ],
        [
         "242298",
         "ENST00000273550",
         "c.114_114+1insTCTTACTACTTTGACCGCGATGATGTGGCTTTGAAGAACTTTGCCAAATACTTTCTTCACCAATCTCATGAGGA",
         null,
         null,
         null
        ],
        [
         "244765",
         "ENST00000354831",
         "c.1823_1823+1insA",
         null,
         null,
         null
        ],
        [
         "249278",
         "ENST00000233143",
         "c.100_100+1insCCATTGAGCAGGAGAAGC",
         null,
         null,
         null
        ],
        [
         "271720",
         "ENST00000506364",
         "c.1408_1408+1insA",
         null,
         null,
         null
        ],
        [
         "280022",
         "ENST00000262462",
         "c.1255_1255+1insC",
         null,
         null,
         null
        ],
        [
         "314941",
         "ENST00000360273",
         "c.907_907+1insA",
         null,
         null,
         null
        ],
        [
         "366631",
         "ENST00000222115",
         "c.9_9+1insTGTGT",
         null,
         null,
         null
        ],
        [
         "371757",
         "ENST00000317040",
         "c.759_759+1insA",
         null,
         null,
         null
        ],
        [
         "404186",
         "ENST00000317881",
         "c.739_739+1insCTGACCTCAT",
         null,
         null,
         null
        ],
        [
         "422281",
         "ENST00000312989",
         "c.452-1_452insT",
         null,
         null,
         null
        ],
        [
         "455317",
         "ENST00000294353",
         "c.951_951+1insC",
         null,
         null,
         null
        ],
        [
         "490327",
         "ENST00000286091",
         "c.980-1_980insGGAGTCGGTGACCCAGGCTACTTGCAGTATCAGGATGCTG",
         null,
         null,
         null
        ],
        [
         "499846",
         "ENST00000566428",
         "c.1091_1091+1insT",
         null,
         null,
         null
        ],
        [
         "500377",
         "ENST00000568107",
         "c.1503-1_1503insTT",
         null,
         null,
         null
        ],
        [
         "541988",
         "ENST00000267163",
         "c.1960_1960+1insA",
         null,
         null,
         null
        ],
        [
         "543559",
         "ENST00000319980",
         "c.426-1_426insT",
         null,
         null,
         null
        ],
        [
         "556150",
         "ENST00000407793",
         "c.1949-1_1949insA",
         null,
         null,
         null
        ],
        [
         "610954",
         "ENST00000332070",
         "c.729_729+1insTTATTTCA",
         null,
         null,
         null
        ],
        [
         "619236",
         "ENST00000263253",
         "c.1168_1168+1insTGATCCAAG",
         null,
         null,
         null
        ],
        [
         "619686",
         "ENST00000263253",
         "c.2818-1_2818insGGTC",
         null,
         null,
         null
        ],
        [
         "634796",
         "ENST00000590016",
         "c.799-1_799insC",
         null,
         null,
         null
        ],
        [
         "679570",
         "ENST00000446148",
         "c.22-1_22insGG",
         null,
         null,
         null
        ],
        [
         "696637",
         "ENST00000447648",
         "c.658-1_658insA",
         null,
         null,
         null
        ],
        [
         "705935",
         "ENST00000373365",
         "c.168-1_168insTTCTTGGAATGAC",
         null,
         null,
         null
        ],
        [
         "722899",
         "ENST00000302328",
         "c.1473_1473+1insA",
         null,
         null,
         null
        ],
        [
         "729456",
         "ENST00000316788",
         "c.69_69+1insA",
         null,
         null,
         null
        ],
        [
         "809850",
         "ENST00000255992",
         "c.1654-1_1654insT",
         null,
         null,
         null
        ],
        [
         "911769",
         "ENST00000315396",
         "c.1130-1_1130insCC",
         null,
         null,
         null
        ],
        [
         "942676",
         "ENST00000327134",
         "c.436_436+1insA",
         null,
         null,
         null
        ],
        [
         "1086945",
         "ENST00000250535",
         "c.404-1_404insTCTGAAAGAACTTTGAGGGAAAATCAGTGTGCCTACATTAATG",
         null,
         null,
         null
        ],
        [
         "1114777",
         "ENST00000448629",
         "c.285-1_285insT",
         null,
         null,
         null
        ],
        [
         "1152676",
         "ENST00000402868",
         "c.848_848+1insC",
         null,
         null,
         null
        ],
        [
         "1209097",
         "ENST00000241052",
         "c.480_480+1insTTTCCATCCTTTATCCATAGCCAGAAGAGAAACCCACAAACTCACCT",
         null,
         null,
         null
        ],
        [
         "1209178",
         "ENST00000241052",
         "c.711_711+1insACTGACCAGGGCATCAAAAACTTGCCT",
         null,
         null,
         null
        ],
        [
         "1213168",
         "ENST00000280377",
         "c.1248_1248+1insC",
         null,
         null,
         null
        ],
        [
         "1245266",
         "ENST00000543824",
         "c.307-1_307insCTTAGGGA",
         null,
         null,
         null
        ]
       ],
       "shape": {
        "columns": 5,
        "rows": 368
       }
      },
      "text/html": [
       "<div>\n",
       "<style scoped>\n",
       "    .dataframe tbody tr th:only-of-type {\n",
       "        vertical-align: middle;\n",
       "    }\n",
       "\n",
       "    .dataframe tbody tr th {\n",
       "        vertical-align: top;\n",
       "    }\n",
       "\n",
       "    .dataframe thead th {\n",
       "        text-align: right;\n",
       "    }\n",
       "</style>\n",
       "<table border=\"1\" class=\"dataframe\">\n",
       "  <thead>\n",
       "    <tr style=\"text-align: right;\">\n",
       "      <th></th>\n",
       "      <th>seq_ID</th>\n",
       "      <th>mutation</th>\n",
       "      <th>mutation_cdna_new</th>\n",
       "      <th>mutation_cdna_old</th>\n",
       "      <th>mutation_cdna</th>\n",
       "    </tr>\n",
       "  </thead>\n",
       "  <tbody>\n",
       "    <tr>\n",
       "      <th>6113</th>\n",
       "      <td>ENST00000403951</td>\n",
       "      <td>c.1437-1_1437insAATAATAA</td>\n",
       "      <td>NaN</td>\n",
       "      <td>NaN</td>\n",
       "      <td>NaN</td>\n",
       "    </tr>\n",
       "    <tr>\n",
       "      <th>91550</th>\n",
       "      <td>ENST00000264029</td>\n",
       "      <td>c.1705-1_1705insC</td>\n",
       "      <td>NaN</td>\n",
       "      <td>NaN</td>\n",
       "      <td>NaN</td>\n",
       "    </tr>\n",
       "    <tr>\n",
       "      <th>116766</th>\n",
       "      <td>ENST00000243077</td>\n",
       "      <td>c.12439_12439+1insTGACTAACCCCT</td>\n",
       "      <td>NaN</td>\n",
       "      <td>NaN</td>\n",
       "      <td>NaN</td>\n",
       "    </tr>\n",
       "    <tr>\n",
       "      <th>126093</th>\n",
       "      <td>ENST00000323301</td>\n",
       "      <td>c.129_129+1insTTTAC</td>\n",
       "      <td>NaN</td>\n",
       "      <td>NaN</td>\n",
       "      <td>NaN</td>\n",
       "    </tr>\n",
       "    <tr>\n",
       "      <th>130508</th>\n",
       "      <td>ENST00000371372</td>\n",
       "      <td>c.284_284+1insTCCATTCGAGTATATGATCCTGGCCACCATC</td>\n",
       "      <td>NaN</td>\n",
       "      <td>NaN</td>\n",
       "      <td>NaN</td>\n",
       "    </tr>\n",
       "    <tr>\n",
       "      <th>...</th>\n",
       "      <td>...</td>\n",
       "      <td>...</td>\n",
       "      <td>...</td>\n",
       "      <td>...</td>\n",
       "      <td>...</td>\n",
       "    </tr>\n",
       "    <tr>\n",
       "      <th>5419170</th>\n",
       "      <td>ENST00000318967</td>\n",
       "      <td>c.2822-1dup</td>\n",
       "      <td>NaN</td>\n",
       "      <td>NaN</td>\n",
       "      <td>NaN</td>\n",
       "    </tr>\n",
       "    <tr>\n",
       "      <th>5419200</th>\n",
       "      <td>ENST00000457052</td>\n",
       "      <td>c.1-31_17dup</td>\n",
       "      <td>NaN</td>\n",
       "      <td>NaN</td>\n",
       "      <td>NaN</td>\n",
       "    </tr>\n",
       "    <tr>\n",
       "      <th>5419215</th>\n",
       "      <td>ENST00000265140</td>\n",
       "      <td>c.2420-1_2420dup</td>\n",
       "      <td>NaN</td>\n",
       "      <td>NaN</td>\n",
       "      <td>NaN</td>\n",
       "    </tr>\n",
       "    <tr>\n",
       "      <th>5419230</th>\n",
       "      <td>ENST00000371953</td>\n",
       "      <td>c.80-8_92dup</td>\n",
       "      <td>NaN</td>\n",
       "      <td>NaN</td>\n",
       "      <td>NaN</td>\n",
       "    </tr>\n",
       "    <tr>\n",
       "      <th>5419240</th>\n",
       "      <td>ENST00000423485</td>\n",
       "      <td>c.178-12_256dup</td>\n",
       "      <td>NaN</td>\n",
       "      <td>NaN</td>\n",
       "      <td>NaN</td>\n",
       "    </tr>\n",
       "  </tbody>\n",
       "</table>\n",
       "<p>368 rows × 5 columns</p>\n",
       "</div>"
      ],
      "text/plain": [
       "                  seq_ID                                       mutation  \\\n",
       "6113     ENST00000403951                       c.1437-1_1437insAATAATAA   \n",
       "91550    ENST00000264029                              c.1705-1_1705insC   \n",
       "116766   ENST00000243077                 c.12439_12439+1insTGACTAACCCCT   \n",
       "126093   ENST00000323301                            c.129_129+1insTTTAC   \n",
       "130508   ENST00000371372  c.284_284+1insTCCATTCGAGTATATGATCCTGGCCACCATC   \n",
       "...                  ...                                            ...   \n",
       "5419170  ENST00000318967                                    c.2822-1dup   \n",
       "5419200  ENST00000457052                                   c.1-31_17dup   \n",
       "5419215  ENST00000265140                               c.2420-1_2420dup   \n",
       "5419230  ENST00000371953                                   c.80-8_92dup   \n",
       "5419240  ENST00000423485                                c.178-12_256dup   \n",
       "\n",
       "        mutation_cdna_new mutation_cdna_old mutation_cdna  \n",
       "6113                  NaN               NaN           NaN  \n",
       "91550                 NaN               NaN           NaN  \n",
       "116766                NaN               NaN           NaN  \n",
       "126093                NaN               NaN           NaN  \n",
       "130508                NaN               NaN           NaN  \n",
       "...                   ...               ...           ...  \n",
       "5419170               NaN               NaN           NaN  \n",
       "5419200               NaN               NaN           NaN  \n",
       "5419215               NaN               NaN           NaN  \n",
       "5419230               NaN               NaN           NaN  \n",
       "5419240               NaN               NaN           NaN  \n",
       "\n",
       "[368 rows x 5 columns]"
      ]
     },
     "execution_count": 27,
     "metadata": {},
     "output_type": "execute_result"
    }
   ],
   "source": [
    "output_df_filtered = output_df.loc[output_df[\"mutation_cdna_new\"] != output_df[\"mutation_cdna_old\"]]\n",
    "# output_df_filtered = output_df_filtered.loc[(~output_df_filtered[\"mutation_cdna_new\"].isna()) & (~output_df_filtered[\"mutation_cdna_old\"].isna())]\n",
    "# output_df_filtered = output_df_filtered.loc[output_df_filtered[\"mutation_cdna_new\"].str.contains(\">\")]  # keep only substitutions\n",
    "# output_df_filtered[['cds_pos', 'ref_base_cds']] = output_df_filtered['mutation'].str.extract(r'c\\.(\\d+)([ACGT])')\n",
    "# output_df_filtered[['cdna_pos_new', 'ref_base_new_irrelevant']] = output_df_filtered['mutation_cdna_new'].str.extract(r'c\\.(\\d+)([ACGT])')\n",
    "# output_df_filtered[['cdna_pos_old', 'ref_base_old_irrelevant']] = output_df_filtered['mutation_cdna_old'].str.extract(r'c\\.(\\d+)([ACGT])')\n",
    "# output_df_filtered.drop(columns=[\"ref_base_new_irrelevant\", \"ref_base_old_irrelevant\"], inplace=True)\n",
    "output_df_filtered"
   ]
  },
  {
   "cell_type": "code",
   "execution_count": 16,
   "metadata": {},
   "outputs": [
    {
     "data": {
      "application/vnd.microsoft.datawrangler.viewer.v0+json": {
       "columns": [
        {
         "name": "index",
         "rawType": "int64",
         "type": "integer"
        },
        {
         "name": "seq_ID",
         "rawType": "object",
         "type": "string"
        },
        {
         "name": "mutation",
         "rawType": "object",
         "type": "string"
        },
        {
         "name": "mutation_cdna_new",
         "rawType": "object",
         "type": "string"
        },
        {
         "name": "mutation_cdna_old",
         "rawType": "object",
         "type": "string"
        },
        {
         "name": "mutation_cdna",
         "rawType": "object",
         "type": "string"
        },
        {
         "name": "cds_pos",
         "rawType": "object",
         "type": "string"
        },
        {
         "name": "ref_base_cds",
         "rawType": "object",
         "type": "string"
        },
        {
         "name": "cdna_pos_new",
         "rawType": "object",
         "type": "string"
        },
        {
         "name": "cdna_pos_old",
         "rawType": "object",
         "type": "string"
        }
       ],
       "conversionMethod": "pd.DataFrame",
       "ref": "a9ebfe84-bcda-4a4b-8c9f-f775e19df2b5",
       "rows": [],
       "shape": {
        "columns": 9,
        "rows": 0
       }
      },
      "text/html": [
       "<div>\n",
       "<style scoped>\n",
       "    .dataframe tbody tr th:only-of-type {\n",
       "        vertical-align: middle;\n",
       "    }\n",
       "\n",
       "    .dataframe tbody tr th {\n",
       "        vertical-align: top;\n",
       "    }\n",
       "\n",
       "    .dataframe thead th {\n",
       "        text-align: right;\n",
       "    }\n",
       "</style>\n",
       "<table border=\"1\" class=\"dataframe\">\n",
       "  <thead>\n",
       "    <tr style=\"text-align: right;\">\n",
       "      <th></th>\n",
       "      <th>seq_ID</th>\n",
       "      <th>mutation</th>\n",
       "      <th>mutation_cdna_new</th>\n",
       "      <th>mutation_cdna_old</th>\n",
       "      <th>mutation_cdna</th>\n",
       "      <th>cds_pos</th>\n",
       "      <th>ref_base_cds</th>\n",
       "      <th>cdna_pos_new</th>\n",
       "      <th>cdna_pos_old</th>\n",
       "    </tr>\n",
       "  </thead>\n",
       "  <tbody>\n",
       "  </tbody>\n",
       "</table>\n",
       "</div>"
      ],
      "text/plain": [
       "Empty DataFrame\n",
       "Columns: [seq_ID, mutation, mutation_cdna_new, mutation_cdna_old, mutation_cdna, cds_pos, ref_base_cds, cdna_pos_new, cdna_pos_old]\n",
       "Index: []"
      ]
     },
     "execution_count": 16,
     "metadata": {},
     "output_type": "execute_result"
    }
   ],
   "source": [
    "output_df_filtered.head(2)"
   ]
  },
  {
   "cell_type": "code",
   "execution_count": 5,
   "metadata": {},
   "outputs": [
    {
     "name": "stderr",
     "output_type": "stream",
     "text": [
      "0it [00:00, ?it/s]"
     ]
    },
    {
     "name": "stdout",
     "output_type": "stream",
     "text": [
      "new_cdna_victory_count: 0\n",
      "old_cdna_victory_count: 0\n",
      "both_cdna_lose: 0\n"
     ]
    },
    {
     "name": "stderr",
     "output_type": "stream",
     "text": [
      "\n"
     ]
    }
   ],
   "source": [
    "stripped_cds_victory_count = 0\n",
    "raw_cds_victory_count = 0\n",
    "both_cds_lose = 0\n",
    "new_cdna_victory_count = 0\n",
    "old_cdna_victory_count = 0\n",
    "both_cdna_lose = 0\n",
    "\n",
    "for row in tqdm(output_df_filtered.itertuples(), total=len(output_df_filtered)):\n",
    "    try:\n",
    "        selected_transcript = row.seq_ID\n",
    "        selected_hgvsc = f\"{row.seq_ID}:{row.mutation}\"\n",
    "        selected_position_new_cdna = int(row.cdna_pos_new) - 1\n",
    "        selected_position_old_cdna = int(row.cdna_pos_old) - 1\n",
    "        selected_cds_pos_withNs = int(row.cds_pos) - 1\n",
    "        selected_ref_base_cds = row.ref_base_cds\n",
    "        \n",
    "        selected_sequence_cdna, selected_sequence_cds = None, None\n",
    "\n",
    "        for name, seq in cdna:\n",
    "            if selected_transcript in name:\n",
    "                selected_sequence_cdna = str(seq)\n",
    "                break\n",
    "\n",
    "        for name, seq in cds:\n",
    "            if selected_transcript in name:\n",
    "                selected_sequence_cds = str(seq)\n",
    "                break\n",
    "        \n",
    "        selected_base_cds_withNs = selected_sequence_cds[selected_cds_pos_withNs]\n",
    "        cds_Ns = count_leading_Ns(selected_sequence_cds)\n",
    "        selected_cds_pos_withoutNs = selected_cds_pos_withNs - cds_Ns\n",
    "        selected_base_cds_withoutNs = selected_sequence_cds[selected_cds_pos_withoutNs]\n",
    "\n",
    "        cdna_base_new = selected_sequence_cdna[selected_position_new_cdna]\n",
    "        cdna_base_old = selected_sequence_cdna[selected_position_old_cdna]\n",
    "\n",
    "        if cdna_base_new == cdna_base_old:\n",
    "            continue  # uninteresting\n",
    "        \n",
    "        if cdna_base_new == selected_ref_base_cds:\n",
    "            new_cdna_victory_count += 1\n",
    "        elif cdna_base_old == selected_ref_base_cds:\n",
    "            old_cdna_victory_count += 1\n",
    "        else:\n",
    "            both_cdna_lose += 1\n",
    "        \n",
    "        # if selected_base_cds_withNs == selected_base_cds_withoutNs:\n",
    "        #     continue\n",
    "        \n",
    "        # if selected_base_cds_withNs == selected_ref_base_cds:\n",
    "        #     raw_cds_victory_count += 1\n",
    "        # elif selected_base_cds_withoutNs == selected_ref_base_cds:\n",
    "        #     stripped_cds_victory_count += 1\n",
    "        # else:\n",
    "        #     both_cds_lose += 1\n",
    "    except Exception as e:\n",
    "        # print(f\"Error processing {row.seq_ID}: {e}\")\n",
    "        continue\n",
    "\n",
    "# print(f\"raw_cds_victory_count: {raw_cds_victory_count}\")\n",
    "# print(f\"stripped_cds_victory_count: {stripped_cds_victory_count}\")\n",
    "# print(f\"both_cds_lose: {both_cds_lose}\")\n",
    "print(f\"new_cdna_victory_count: {new_cdna_victory_count}\")\n",
    "print(f\"old_cdna_victory_count: {old_cdna_victory_count}\")\n",
    "print(f\"both_cdna_lose: {both_cdna_lose}\")"
   ]
  },
  {
   "cell_type": "code",
   "execution_count": 2,
   "metadata": {},
   "outputs": [
    {
     "name": "stderr",
     "output_type": "stream",
     "text": [
      "21:22:30 - INFO - Copying df internally to avoid in-place modifications\n",
      "21:22:30 - INFO - Removing unknown mutations\n",
      "21:22:30 - INFO - Removing unsupported mutation types\n",
      "21:22:30 - INFO - Uncertain mutations: 0\n",
      "21:22:30 - INFO - Ambiguous position mutations: 0\n",
      "21:22:30 - INFO - Intronic mutations: 0\n",
      "21:22:30 - INFO - Posttranslational region mutations: 0\n",
      "21:22:30 - INFO - Sorting df\n",
      "21:22:30 - INFO - Determining mutation positions\n",
      "21:22:31 - INFO - Removing version numbers in in fasta headers for /Users/joeyrich/Desktop/local/varseek/data/reference/ensembl_grch37_release113/Homo_sapiens.GRCh37.cdna.all.fa\n",
      "21:22:32 - INFO - Building pyfastx index for /Users/joeyrich/Desktop/local/varseek/data/reference/ensembl_grch37_release113/Homo_sapiens.GRCh37.cdna.all.fa\n",
      "21:22:32 - INFO - Removing version numbers in in fasta headers for /Users/joeyrich/Desktop/local/varseek/data/reference/ensembl_grch37_release113/Homo_sapiens.GRCh37.cds.all.fa\n",
      "21:22:32 - INFO - Building pyfastx index for /Users/joeyrich/Desktop/local/varseek/data/reference/ensembl_grch37_release113/Homo_sapiens.GRCh37.cds.all.fa\n",
      "Processing rows: 100%|██████████| 204688/204688 [00:13<00:00, 14758.92it/s]\n",
      "21:22:46 - INFO - Number of bad mutations: 0\n",
      "21:22:46 - INFO - Merging dfs\n",
      "21:22:46 - INFO - Cleaning up temporary files...\n",
      "21:22:46 - INFO - Copying df internally to avoid in-place modifications\n",
      "21:22:46 - INFO - Removing unknown mutations\n",
      "21:22:46 - INFO - Removing unsupported mutation types\n",
      "21:22:46 - INFO - Uncertain mutations: 0\n",
      "21:22:46 - INFO - Ambiguous position mutations: 0\n",
      "21:22:46 - INFO - Intronic mutations: 0\n",
      "21:22:46 - INFO - Posttranslational region mutations: 0\n",
      "21:22:46 - INFO - Sorting df\n",
      "21:22:47 - INFO - Determining mutation positions\n",
      "21:22:47 - INFO - Removing version numbers in in fasta headers for /Users/joeyrich/Desktop/local/varseek/data/reference/ensembl_grch37_release113/Homo_sapiens.GRCh37.cdna.all.fa\n",
      "21:22:48 - INFO - Building pyfastx index for /Users/joeyrich/Desktop/local/varseek/data/reference/ensembl_grch37_release113/Homo_sapiens.GRCh37.cdna.all.fa\n",
      "21:22:48 - INFO - Removing version numbers in in fasta headers for /Users/joeyrich/Desktop/local/varseek/data/reference/ensembl_grch37_release113/Homo_sapiens.GRCh37.cds.all.fa\n",
      "21:22:48 - INFO - Building pyfastx index for /Users/joeyrich/Desktop/local/varseek/data/reference/ensembl_grch37_release113/Homo_sapiens.GRCh37.cds.all.fa\n",
      "Processing rows: 100%|██████████| 204688/204688 [00:13<00:00, 14985.00it/s]\n",
      "21:23:02 - INFO - Number of bad mutations: 0\n",
      "21:23:02 - INFO - Merging dfs\n",
      "21:23:02 - INFO - Cleaning up temporary files...\n"
     ]
    }
   ],
   "source": [
    "import pandas as pd\n",
    "import pyfastx\n",
    "from tqdm import tqdm\n",
    "from varseek.utils import convert_mutation_cds_locations_to_cdna, convert_mutation_cds_locations_to_cdna_old, count_leading_Ns\n",
    "\n",
    "input_df_path = \"/Users/joeyrich/Desktop/variants_transcriptome.parquet\"\n",
    "cdna_fasta_path = \"/Users/joeyrich/Desktop/local/varseek/data/reference/ensembl_grch37_release113/Homo_sapiens.GRCh37.cdna.all.fa\"\n",
    "cds_fasta_path = \"/Users/joeyrich/Desktop/local/varseek/data/reference/ensembl_grch37_release113/Homo_sapiens.GRCh37.cds.all.fa\"\n",
    "\n",
    "cdna = pyfastx.Fastx(cdna_fasta_path)\n",
    "cds = pyfastx.Fastx(cds_fasta_path)\n",
    "\n",
    "input_df = pd.read_parquet(input_df_path, columns=[\"transcript_ID\", \"variant\"])\n",
    "input_df.rename(columns={\"transcript_ID\": \"seq_ID\", \"variant\": \"mutation\"}, inplace=True)\n",
    "\n",
    "output_df, _ = convert_mutation_cds_locations_to_cdna(input_df, cdna_fasta_path, cds_fasta_path, output_csv_path=None, verbose=True, strip_leading_Ns_cds=False)  # strip_leading_Ns_cds=False\n",
    "output_df_old, _ = convert_mutation_cds_locations_to_cdna(input_df, cdna_fasta_path, cds_fasta_path, output_csv_path=None, verbose=True, strip_leading_Ns_cds=True)  # strip_leading_Ns_cds=True\n",
    "\n",
    "output_df = output_df.merge(output_df_old, on=[\"seq_ID\", \"mutation\"], suffixes=[\"_new\", \"_old\"])  # new has Ns, old has no Ns (ie stripped off)"
   ]
  },
  {
   "cell_type": "code",
   "execution_count": 3,
   "metadata": {},
   "outputs": [
    {
     "data": {
      "application/vnd.microsoft.datawrangler.viewer.v0+json": {
       "columns": [
        {
         "name": "index",
         "rawType": "int64",
         "type": "integer"
        },
        {
         "name": "seq_ID",
         "rawType": "object",
         "type": "string"
        },
        {
         "name": "mutation",
         "rawType": "object",
         "type": "string"
        },
        {
         "name": "mutation_cdna_new",
         "rawType": "object",
         "type": "string"
        },
        {
         "name": "mutation_cdna_old",
         "rawType": "object",
         "type": "string"
        },
        {
         "name": "cds_pos",
         "rawType": "object",
         "type": "string"
        },
        {
         "name": "ref_base_cds",
         "rawType": "object",
         "type": "string"
        },
        {
         "name": "cdna_pos_new",
         "rawType": "object",
         "type": "string"
        },
        {
         "name": "cdna_pos_old",
         "rawType": "object",
         "type": "string"
        }
       ],
       "conversionMethod": "pd.DataFrame",
       "ref": "59a42e74-a11e-444e-9333-42dcd432fc96",
       "rows": [
        [
         "24",
         "ENST00000466300",
         "c.242C>A",
         "c.240C>A",
         "c.242C>A",
         "242",
         "C",
         "240",
         "242"
        ],
        [
         "25",
         "ENST00000466300",
         "c.248C>T",
         "c.246C>T",
         "c.248C>T",
         "248",
         "C",
         "246",
         "248"
        ]
       ],
       "shape": {
        "columns": 8,
        "rows": 2
       }
      },
      "text/html": [
       "<div>\n",
       "<style scoped>\n",
       "    .dataframe tbody tr th:only-of-type {\n",
       "        vertical-align: middle;\n",
       "    }\n",
       "\n",
       "    .dataframe tbody tr th {\n",
       "        vertical-align: top;\n",
       "    }\n",
       "\n",
       "    .dataframe thead th {\n",
       "        text-align: right;\n",
       "    }\n",
       "</style>\n",
       "<table border=\"1\" class=\"dataframe\">\n",
       "  <thead>\n",
       "    <tr style=\"text-align: right;\">\n",
       "      <th></th>\n",
       "      <th>seq_ID</th>\n",
       "      <th>mutation</th>\n",
       "      <th>mutation_cdna_new</th>\n",
       "      <th>mutation_cdna_old</th>\n",
       "      <th>cds_pos</th>\n",
       "      <th>ref_base_cds</th>\n",
       "      <th>cdna_pos_new</th>\n",
       "      <th>cdna_pos_old</th>\n",
       "    </tr>\n",
       "  </thead>\n",
       "  <tbody>\n",
       "    <tr>\n",
       "      <th>24</th>\n",
       "      <td>ENST00000466300</td>\n",
       "      <td>c.242C&gt;A</td>\n",
       "      <td>c.240C&gt;A</td>\n",
       "      <td>c.242C&gt;A</td>\n",
       "      <td>242</td>\n",
       "      <td>C</td>\n",
       "      <td>240</td>\n",
       "      <td>242</td>\n",
       "    </tr>\n",
       "    <tr>\n",
       "      <th>25</th>\n",
       "      <td>ENST00000466300</td>\n",
       "      <td>c.248C&gt;T</td>\n",
       "      <td>c.246C&gt;T</td>\n",
       "      <td>c.248C&gt;T</td>\n",
       "      <td>248</td>\n",
       "      <td>C</td>\n",
       "      <td>246</td>\n",
       "      <td>248</td>\n",
       "    </tr>\n",
       "  </tbody>\n",
       "</table>\n",
       "</div>"
      ],
      "text/plain": [
       "             seq_ID  mutation mutation_cdna_new mutation_cdna_old cds_pos  \\\n",
       "24  ENST00000466300  c.242C>A          c.240C>A          c.242C>A     242   \n",
       "25  ENST00000466300  c.248C>T          c.246C>T          c.248C>T     248   \n",
       "\n",
       "   ref_base_cds cdna_pos_new cdna_pos_old  \n",
       "24            C          240          242  \n",
       "25            C          246          248  "
      ]
     },
     "execution_count": 3,
     "metadata": {},
     "output_type": "execute_result"
    }
   ],
   "source": [
    "output_df_filtered = output_df.loc[output_df[\"mutation_cdna_new\"] != output_df[\"mutation_cdna_old\"]]\n",
    "output_df_filtered = output_df_filtered.loc[(~output_df_filtered[\"mutation_cdna_new\"].isna()) & (~output_df_filtered[\"mutation_cdna_old\"].isna())]\n",
    "output_df_filtered = output_df_filtered.loc[output_df_filtered[\"mutation_cdna_new\"].str.contains(\">\")]  # keep only substitutions\n",
    "output_df_filtered[['cds_pos', 'ref_base_cds']] = output_df_filtered['mutation'].str.extract(r'c\\.(\\d+)([ACGT])')\n",
    "output_df_filtered[['cdna_pos_new', 'ref_base_new_irrelevant']] = output_df_filtered['mutation_cdna_new'].str.extract(r'c\\.(\\d+)([ACGT])')\n",
    "output_df_filtered[['cdna_pos_old', 'ref_base_old_irrelevant']] = output_df_filtered['mutation_cdna_old'].str.extract(r'c\\.(\\d+)([ACGT])')\n",
    "output_df_filtered.drop(columns=[\"ref_base_new_irrelevant\", \"ref_base_old_irrelevant\"], inplace=True)\n",
    "output_df_filtered = output_df_filtered.head(100)\n",
    "output_df_filtered.head(2)"
   ]
  },
  {
   "cell_type": "code",
   "execution_count": 4,
   "metadata": {},
   "outputs": [
    {
     "name": "stderr",
     "output_type": "stream",
     "text": [
      "100%|██████████| 100/100 [00:14<00:00,  7.00it/s]"
     ]
    },
    {
     "name": "stdout",
     "output_type": "stream",
     "text": [
      "new_cdna_victory_count: 70\n",
      "old_cdna_victory_count: 0\n",
      "both_cdna_lose: 0\n"
     ]
    },
    {
     "name": "stderr",
     "output_type": "stream",
     "text": [
      "\n"
     ]
    }
   ],
   "source": [
    "stripped_cds_victory_count = 0\n",
    "raw_cds_victory_count = 0\n",
    "both_cds_lose = 0\n",
    "new_cdna_victory_count = 0\n",
    "old_cdna_victory_count = 0\n",
    "both_cdna_lose = 0\n",
    "\n",
    "for row in tqdm(output_df_filtered.itertuples(), total=len(output_df_filtered)):\n",
    "    try:\n",
    "        selected_transcript = row.seq_ID\n",
    "        selected_hgvsc = f\"{row.seq_ID}:{row.mutation}\"\n",
    "        selected_position_new_cdna = int(row.cdna_pos_new) - 1\n",
    "        selected_position_old_cdna = int(row.cdna_pos_old) - 1\n",
    "        selected_cds_pos_withNs = int(row.cds_pos) - 1\n",
    "        selected_ref_base_cds = row.ref_base_cds\n",
    "        \n",
    "        selected_sequence_cdna, selected_sequence_cds = None, None\n",
    "\n",
    "        for name, seq in cdna:\n",
    "            if selected_transcript in name:\n",
    "                selected_sequence_cdna = str(seq)\n",
    "                break\n",
    "\n",
    "        for name, seq in cds:\n",
    "            if selected_transcript in name:\n",
    "                selected_sequence_cds = str(seq)\n",
    "                break\n",
    "        \n",
    "        selected_base_cds_withNs = selected_sequence_cds[selected_cds_pos_withNs]\n",
    "        cds_Ns = count_leading_Ns(selected_sequence_cds)\n",
    "        selected_cds_pos_withoutNs = selected_cds_pos_withNs - cds_Ns\n",
    "        selected_base_cds_withoutNs = selected_sequence_cds[selected_cds_pos_withoutNs]\n",
    "\n",
    "        cdna_base_new = selected_sequence_cdna[selected_position_new_cdna]\n",
    "        cdna_base_old = selected_sequence_cdna[selected_position_old_cdna]\n",
    "\n",
    "        if cdna_base_new == cdna_base_old:\n",
    "            continue  # uninteresting\n",
    "        \n",
    "        if cdna_base_new == selected_ref_base_cds:\n",
    "            new_cdna_victory_count += 1\n",
    "        elif cdna_base_old == selected_ref_base_cds:\n",
    "            old_cdna_victory_count += 1\n",
    "        else:\n",
    "            both_cdna_lose += 1\n",
    "        \n",
    "        # if selected_base_cds_withNs == selected_base_cds_withoutNs:\n",
    "        #     continue\n",
    "        \n",
    "        # if selected_base_cds_withNs == selected_ref_base_cds:\n",
    "        #     raw_cds_victory_count += 1\n",
    "        # elif selected_base_cds_withoutNs == selected_ref_base_cds:\n",
    "        #     stripped_cds_victory_count += 1\n",
    "        # else:\n",
    "        #     both_cds_lose += 1\n",
    "    except Exception as e:\n",
    "        # print(f\"Error processing {selected_hgvsc}: {e}\")\n",
    "        continue\n",
    "\n",
    "# print(f\"raw_cds_victory_count: {raw_cds_victory_count}\")\n",
    "# print(f\"stripped_cds_victory_count: {stripped_cds_victory_count}\")\n",
    "# print(f\"both_cds_lose: {both_cds_lose}\")\n",
    "print(f\"new_cdna_victory_count: {new_cdna_victory_count}\")\n",
    "print(f\"old_cdna_victory_count: {old_cdna_victory_count}\")\n",
    "print(f\"both_cdna_lose: {both_cdna_lose}\")"
   ]
  },
  {
   "cell_type": "code",
   "execution_count": 8,
   "metadata": {},
   "outputs": [
    {
     "data": {
      "application/vnd.microsoft.datawrangler.viewer.v0+json": {
       "columns": [
        {
         "name": "index",
         "rawType": "int64",
         "type": "integer"
        },
        {
         "name": "actual_variant",
         "rawType": "object",
         "type": "string"
        },
        {
         "name": "after_ins_or_gt",
         "rawType": "object",
         "type": "string"
        }
       ],
       "conversionMethod": "pd.DataFrame",
       "ref": "f4f6d778-aaec-483f-ba2c-04f370262cf3",
       "rows": [
        [
         "0",
         "c.123A>G",
         "G"
        ],
        [
         "1",
         "c.456del",
         null
        ],
        [
         "2",
         "c.789_790insT",
         "T"
        ],
        [
         "3",
         "c.135dup",
         null
        ],
        [
         "4",
         "c.246_247delinsAT",
         "AT"
        ],
        [
         "5",
         "c.369G>A",
         "A"
        ],
        [
         "6",
         "c.420_421insGG",
         "GG"
        ]
       ],
       "shape": {
        "columns": 2,
        "rows": 7
       }
      },
      "text/html": [
       "<div>\n",
       "<style scoped>\n",
       "    .dataframe tbody tr th:only-of-type {\n",
       "        vertical-align: middle;\n",
       "    }\n",
       "\n",
       "    .dataframe tbody tr th {\n",
       "        vertical-align: top;\n",
       "    }\n",
       "\n",
       "    .dataframe thead th {\n",
       "        text-align: right;\n",
       "    }\n",
       "</style>\n",
       "<table border=\"1\" class=\"dataframe\">\n",
       "  <thead>\n",
       "    <tr style=\"text-align: right;\">\n",
       "      <th></th>\n",
       "      <th>actual_variant</th>\n",
       "      <th>after_ins_or_gt</th>\n",
       "    </tr>\n",
       "  </thead>\n",
       "  <tbody>\n",
       "    <tr>\n",
       "      <th>0</th>\n",
       "      <td>c.123A&gt;G</td>\n",
       "      <td>G</td>\n",
       "    </tr>\n",
       "    <tr>\n",
       "      <th>1</th>\n",
       "      <td>c.456del</td>\n",
       "      <td>NaN</td>\n",
       "    </tr>\n",
       "    <tr>\n",
       "      <th>2</th>\n",
       "      <td>c.789_790insT</td>\n",
       "      <td>T</td>\n",
       "    </tr>\n",
       "    <tr>\n",
       "      <th>3</th>\n",
       "      <td>c.135dup</td>\n",
       "      <td>NaN</td>\n",
       "    </tr>\n",
       "    <tr>\n",
       "      <th>4</th>\n",
       "      <td>c.246_247delinsAT</td>\n",
       "      <td>AT</td>\n",
       "    </tr>\n",
       "    <tr>\n",
       "      <th>5</th>\n",
       "      <td>c.369G&gt;A</td>\n",
       "      <td>A</td>\n",
       "    </tr>\n",
       "    <tr>\n",
       "      <th>6</th>\n",
       "      <td>c.420_421insGG</td>\n",
       "      <td>GG</td>\n",
       "    </tr>\n",
       "  </tbody>\n",
       "</table>\n",
       "</div>"
      ],
      "text/plain": [
       "      actual_variant after_ins_or_gt\n",
       "0           c.123A>G               G\n",
       "1           c.456del             NaN\n",
       "2      c.789_790insT               T\n",
       "3           c.135dup             NaN\n",
       "4  c.246_247delinsAT              AT\n",
       "5           c.369G>A               A\n",
       "6     c.420_421insGG              GG"
      ]
     },
     "execution_count": 8,
     "metadata": {},
     "output_type": "execute_result"
    }
   ],
   "source": [
    "import pandas as pd\n",
    "\n",
    "# Example DataFrame\n",
    "hgvs_df = pd.DataFrame({\n",
    "    \"actual_variant\": [\n",
    "        \"c.123A>G\",\n",
    "        \"c.456del\",\n",
    "        \"c.789_790insT\",\n",
    "        \"c.135dup\",\n",
    "        \"c.246_247delinsAT\",\n",
    "        \"c.369G>A\",\n",
    "        \"c.420_421insGG\"\n",
    "    ]\n",
    "})\n",
    "\n",
    "# Extract after \"ins\" or \">\"\n",
    "hgvs_df[\"after_ins_or_gt\"] = hgvs_df[\"actual_variant\"].str.extract(r\"(?:ins|>)(.+)\")\n",
    "hgvs_df\n"
   ]
  }
 ],
 "metadata": {
  "kernelspec": {
   "display_name": "varseek",
   "language": "python",
   "name": "python3"
  },
  "language_info": {
   "codemirror_mode": {
    "name": "ipython",
    "version": 3
   },
   "file_extension": ".py",
   "mimetype": "text/x-python",
   "name": "python",
   "nbconvert_exporter": "python",
   "pygments_lexer": "ipython3",
   "version": "3.10.16"
  }
 },
 "nbformat": 4,
 "nbformat_minor": 2
}
