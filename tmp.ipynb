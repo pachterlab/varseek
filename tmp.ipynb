{
 "cells": [
  {
   "cell_type": "code",
   "execution_count": 2,
   "metadata": {},
   "outputs": [
    {
     "data": {
      "text/plain": [
       "[{'most_severe_consequence': 'intron_variant',\n",
       "  'id': 'rs183890475',\n",
       "  'seq_region_name': '1',\n",
       "  'assembly_name': 'GRCh37',\n",
       "  'allele_string': 'A/C/G',\n",
       "  'input': 'rs183890475',\n",
       "  'end': 819405,\n",
       "  'strand': 1,\n",
       "  'colocated_variants': [{'strand': 1,\n",
       "    'start': 819405,\n",
       "    'allele_string': 'A/C/G',\n",
       "    'end': 819405,\n",
       "    'seq_region_name': '1',\n",
       "    'frequencies': {'C': {'gnomadg_fin': 0,\n",
       "      'eur': 0,\n",
       "      'eas': 0,\n",
       "      'gnomadg_amr': 0.0003921,\n",
       "      'gnomadg_afr': 0.001516,\n",
       "      'gnomadg': 0.0004531,\n",
       "      'gnomadg_mid': 0,\n",
       "      'gnomadg_nfe': 0,\n",
       "      'gnomadg_sas': 0,\n",
       "      'gnomadg_eas': 0,\n",
       "      'afr': 0.0023,\n",
       "      'sas': 0,\n",
       "      'gnomadg_asj': 0,\n",
       "      'gnomadg_ami': 0,\n",
       "      'af': 0.0008,\n",
       "      'gnomadg_remaining': 0,\n",
       "      'amr': 0.0014}},\n",
       "    'id': 'rs183890475'}],\n",
       "  'start': 819405,\n",
       "  'transcript_consequences': [{'consequence_terms': ['intron_variant'],\n",
       "    'gene_symbol_source': 'Clone_based_ensembl_gene',\n",
       "    'impact': 'MODIFIER',\n",
       "    'hgvsc': 'ENST00000594233.1:c.17-91A>C',\n",
       "    'strand': 1,\n",
       "    'gene_symbol': 'AL645608.2',\n",
       "    'biotype': 'protein_coding',\n",
       "    'transcript_id': 'ENST00000594233',\n",
       "    'variant_allele': 'C',\n",
       "    'gene_id': 'ENSG00000269308'},\n",
       "   {'gene_id': 'ENSG00000269308',\n",
       "    'variant_allele': 'G',\n",
       "    'biotype': 'protein_coding',\n",
       "    'transcript_id': 'ENST00000594233',\n",
       "    'gene_symbol': 'AL645608.2',\n",
       "    'strand': 1,\n",
       "    'hgvsc': 'ENST00000594233.1:c.17-91A>G',\n",
       "    'impact': 'MODIFIER',\n",
       "    'gene_symbol_source': 'Clone_based_ensembl_gene',\n",
       "    'consequence_terms': ['intron_variant']}]}]"
      ]
     },
     "execution_count": 2,
     "metadata": {},
     "output_type": "execute_result"
    }
   ],
   "source": [
    "import requests\n",
    "dbsnp_id = \"rs183890475\"\n",
    "\n",
    "headers = {\"Content-Type\": \"application/json\"}\n",
    "url = \"https://grch37.rest.ensembl.org/vep/human/id\"\n",
    "url_single = f\"{url}/{dbsnp_id}?hgvs=1\"\n",
    "response = requests.get(url_single, headers=headers)\n",
    "response.json()"
   ]
  },
  {
   "cell_type": "code",
   "execution_count": 1,
   "metadata": {},
   "outputs": [],
   "source": [
    "import anndata as ad\n",
    "import json\n",
    "\n",
    "adata = ad.read_h5ad(\"/Users/joeyrich/Desktop/local/varseek/data/ccle_data_base/vk_count_out_test_April8th/adata_cleaned.h5ad\")"
   ]
  },
  {
   "cell_type": "code",
   "execution_count": 7,
   "metadata": {},
   "outputs": [],
   "source": [
    "adata.var[\"test_string\"] = \"abc\"\n",
    "adata.var[\"test_int32\"] = 1\n",
    "adata.var[\"test_int32\"] = adata.var[\"test_int32\"].astype(\"int32\")\n",
    "adata.var[\"test_float32\"] = 1.0\n",
    "adata.var[\"test_float32\"] = adata.var[\"test_float32\"].astype(\"float32\")\n",
    "adata.var[\"test_bool\"] = True\n",
    "adata.var[\"test_bool\"] = adata.var[\"test_bool\"].astype(\"bool\")\n",
    "adata.var[\"test_category\"] = \"cat1\"\n",
    "adata.var[\"test_category\"] = adata.var[\"test_category\"].astype(\"category\")\n"
   ]
  },
  {
   "cell_type": "code",
   "execution_count": null,
   "metadata": {},
   "outputs": [],
   "source": [
    "\n",
    "\n",
    "obs_dtypes = {col: str(dtype) for col, dtype in adata.obs.dtypes.items()}\n",
    "var_dtypes = {col: str(dtype) for col, dtype in adata.var.dtypes.items()}\n",
    "\n",
    "with open(\"adata_dtypes.json\", \"w\") as f:\n",
    "    json.dump({\"obs\": obs_dtypes, \"var\": var_dtypes}, f, indent=2)"
   ]
  },
  {
   "cell_type": "code",
   "execution_count": null,
   "metadata": {},
   "outputs": [],
   "source": [
    "adata.write_h5ad(\"/Users/joeyrich/Desktop/local/varseek/data/ccle_data_base/vk_count_out_test_April8th/adata_cleaned_with_dtypes_test.h5ad\")\n",
    "adata2 = ad.read_h5ad(\"/Users/joeyrich/Desktop/local/varseek/data/ccle_data_base/vk_count_out_test_April8th/adata_cleaned_with_dtypes_test.h5ad\")"
   ]
  },
  {
   "cell_type": "code",
   "execution_count": 13,
   "metadata": {},
   "outputs": [
    {
     "name": "stdout",
     "output_type": "stream",
     "text": [
      "<class 'pandas.core.frame.DataFrame'>\n",
      "Index: 5329695 entries, ENST00000391429:c.194C>T to ENST00000521381:c.2362_2368del\n",
      "Data columns (total 17 columns):\n",
      " #   Column                  Dtype   \n",
      "---  ------                  -----   \n",
      " 0   vcrs_id                 object  \n",
      " 1   vcrs_header             object  \n",
      " 2   seq_ID                  category\n",
      " 3   mutation_cdna           category\n",
      " 4   nucleotide_positions    category\n",
      " 5   actual_variant          category\n",
      " 6   start_variant_position  category\n",
      " 7   end_variant_position    category\n",
      " 8   variant_source          category\n",
      " 9   vcrs_count              category\n",
      " 10  vcrs_detected           category\n",
      " 11  number_obs              category\n",
      " 12  test_string             category\n",
      " 13  test_int32              int32   \n",
      " 14  test_float32            float32 \n",
      " 15  test_bool               bool    \n",
      " 16  test_category           category\n",
      "dtypes: bool(1), category(12), float32(1), int32(1), object(2)\n",
      "memory usage: 455.3+ MB\n"
     ]
    }
   ],
   "source": [
    "adata2.var.info()"
   ]
  },
  {
   "cell_type": "code",
   "execution_count": 14,
   "metadata": {},
   "outputs": [],
   "source": [
    "import json\n",
    "import numpy as np\n",
    "import pandas as pd\n",
    "import anndata as ad\n",
    "\n",
    "with open(\"adata_dtypes.json\") as f:\n",
    "    dtypes = json.load(f)\n",
    "\n",
    "# Helper to convert string dtype back to actual type\n",
    "def str_to_dtype(dtype_str):\n",
    "    if dtype_str == \"category\":\n",
    "        return \"category\"\n",
    "    try:\n",
    "        return np.dtype(dtype_str)\n",
    "    except TypeError:\n",
    "        return dtype_str  # fallback, e.g., for 'string[python]'\n",
    "\n",
    "# Reapply dtypes\n",
    "adata2.obs = adata2.obs.astype({k: str_to_dtype(v) for k, v in dtypes[\"obs\"].items()})\n",
    "adata2.var = adata2.var.astype({k: str_to_dtype(v) for k, v in dtypes[\"var\"].items()})\n"
   ]
  },
  {
   "cell_type": "code",
   "execution_count": 18,
   "metadata": {},
   "outputs": [],
   "source": [
    "adata2.var = adata2.var.astype({k: str_to_dtype(v) for k, v in dtypes[\"var\"].items()})"
   ]
  },
  {
   "cell_type": "code",
   "execution_count": 15,
   "metadata": {},
   "outputs": [
    {
     "name": "stdout",
     "output_type": "stream",
     "text": [
      "<class 'pandas.core.frame.DataFrame'>\n",
      "Index: 5329695 entries, ENST00000391429:c.194C>T to ENST00000521381:c.2362_2368del\n",
      "Data columns (total 17 columns):\n",
      " #   Column                  Dtype   \n",
      "---  ------                  -----   \n",
      " 0   vcrs_id                 object  \n",
      " 1   vcrs_header             object  \n",
      " 2   seq_ID                  category\n",
      " 3   mutation_cdna           category\n",
      " 4   nucleotide_positions    category\n",
      " 5   actual_variant          category\n",
      " 6   start_variant_position  category\n",
      " 7   end_variant_position    category\n",
      " 8   variant_source          category\n",
      " 9   vcrs_count              category\n",
      " 10  vcrs_detected           category\n",
      " 11  number_obs              category\n",
      " 12  test_string             object  \n",
      " 13  test_int32              int32   \n",
      " 14  test_float32            float32 \n",
      " 15  test_bool               bool    \n",
      " 16  test_category           category\n",
      "dtypes: bool(1), category(11), float32(1), int32(1), object(3)\n",
      "memory usage: 361.9+ MB\n"
     ]
    }
   ],
   "source": [
    "adata2.var.info()"
   ]
  }
 ],
 "metadata": {
  "kernelspec": {
   "display_name": "varseek",
   "language": "python",
   "name": "python3"
  },
  "language_info": {
   "codemirror_mode": {
    "name": "ipython",
    "version": 3
   },
   "file_extension": ".py",
   "mimetype": "text/x-python",
   "name": "python",
   "nbconvert_exporter": "python",
   "pygments_lexer": "ipython3",
   "version": "3.10.16"
  }
 },
 "nbformat": 4,
 "nbformat_minor": 2
}
